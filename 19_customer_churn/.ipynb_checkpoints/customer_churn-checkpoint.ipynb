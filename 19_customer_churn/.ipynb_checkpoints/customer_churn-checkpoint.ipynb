{
 "cells": [
  {
   "cell_type": "markdown",
   "id": "a727cab1",
   "metadata": {},
   "source": [
    "# Телеком\n"
   ]
  },
  {
   "cell_type": "markdown",
   "id": "32b69ddb",
   "metadata": {},
   "source": [
    "![alt text](https://yamalinternet.ru/wp-content/uploads/cca25c_58d52136fa38426aa01263409bde10demv2.jpg)"
   ]
  },
  {
   "cell_type": "code",
   "execution_count": 1,
   "id": "b78f3da7",
   "metadata": {
    "execution": {
     "iopub.execute_input": "2023-12-15T01:03:15.121214Z",
     "iopub.status.busy": "2023-12-15T01:03:15.120120Z",
     "iopub.status.idle": "2023-12-15T01:04:17.547595Z",
     "shell.execute_reply": "2023-12-15T01:04:17.545508Z",
     "shell.execute_reply.started": "2023-12-15T01:03:15.121139Z"
    }
   },
   "outputs": [],
   "source": [
    "!pip install -q psycopg2-binary\n",
    "!pip install -q torchmetrics\n",
    "\n",
    "import pandas as pd\n",
    "import numpy as np\n",
    "import seaborn as sns\n",
    "import matplotlib.pyplot as plt\n",
    "from sqlalchemy import create_engine\n",
    "from tqdm import notebook\n",
    "from tqdm.auto import tqdm\n",
    "tqdm.pandas()\n",
    "\n",
    "import torch\n",
    "import torch.nn as nn\n",
    "from sklearn.linear_model import LogisticRegression\n",
    "from sklearn.tree import DecisionTreeClassifier\n",
    "from sklearn.ensemble import AdaBoostClassifier\n",
    "\n",
    "from sklearn.metrics import roc_auc_score\n",
    "from sklearn.model_selection import KFold, GridSearchCV\n",
    "from sklearn.impute import SimpleImputer\n",
    "from scipy.stats import spearmanr\n",
    "import scipy.stats as ss\n",
    "from torchmetrics.classification import BinaryAccuracy, AUROC\n",
    "from sklearn.metrics import classification_report, accuracy_score\n",
    "from sklearn.model_selection import train_test_split\n",
    "from sklearn.model_selection import cross_val_score\n",
    "from gensim.models.doc2vec import Doc2Vec, TaggedDocument\n",
    "from sklearn.preprocessing import StandardScaler\n",
    "from functools import reduce\n",
    "from sklearn import tree\n",
    "from sklearn. metrics import precision_recall_curve\n",
    "from sklearn.dummy import DummyClassifier\n",
    "from sklearn.metrics import confusion_matrix\n",
    "from sklearn.preprocessing import OneHotEncoder\n",
    "from sklearn.preprocessing import OrdinalEncoder\n",
    "\n",
    "\n",
    "\n",
    "RANDOM_STATE = 111223"
   ]
  },
  {
   "cell_type": "code",
   "execution_count": 2,
   "id": "44353167",
   "metadata": {
    "execution": {
     "iopub.execute_input": "2023-12-15T01:04:17.552376Z",
     "iopub.status.busy": "2023-12-15T01:04:17.551002Z",
     "iopub.status.idle": "2023-12-15T01:04:17.753899Z",
     "shell.execute_reply": "2023-12-15T01:04:17.752047Z",
     "shell.execute_reply.started": "2023-12-15T01:04:17.552327Z"
    }
   },
   "outputs": [],
   "source": [
    "db_config = {\n",
    "    # имя пользователя\n",
    "    'user': 'praktikum_student',\n",
    "    # пароль,\n",
    "    'pwd': 'Sdf4$2;d-d30pp',\n",
    "    'host': 'rc1b-wcoijxj3yxfsf3fs.mdb.yandexcloud.net',\n",
    "    # порт подключения,\n",
    "    'port': 6432,\n",
    "    # название базы данных,\n",
    "    'db': 'data-science-final'}\n",
    "\n",
    "connection_string = 'postgresql://{}:{}@{}:{}/{}'.format(\n",
    "    db_config['user'],\n",
    "    db_config['pwd'],\n",
    "    db_config['host'],\n",
    "    db_config['port'],\n",
    "    db_config['db'])\n",
    "\n",
    "engine = create_engine(connection_string)"
   ]
  },
  {
   "cell_type": "markdown",
   "id": "63cccc73",
   "metadata": {},
   "source": [
    "### 1. Знакомство с данными"
   ]
  },
  {
   "cell_type": "code",
   "execution_count": 3,
   "id": "b4abd8b7",
   "metadata": {
    "execution": {
     "iopub.execute_input": "2023-12-15T01:04:17.756882Z",
     "iopub.status.busy": "2023-12-15T01:04:17.756244Z",
     "iopub.status.idle": "2023-12-15T01:04:17.765905Z",
     "shell.execute_reply": "2023-12-15T01:04:17.764084Z",
     "shell.execute_reply.started": "2023-12-15T01:04:17.756825Z"
    }
   },
   "outputs": [],
   "source": [
    "#загрузим данные\n",
    "def get_table(table: str):\n",
    "    query = f'SELECT * FROM {table}'\n",
    "    data = pd.read_sql_query(query, con=engine,parse_dates={'BeginDate': {'format': '%y%m/%d'},\n",
    "                                                           'EndDate': {'format': '%y%m/%d'}})\n",
    "    return data"
   ]
  },
  {
   "cell_type": "code",
   "execution_count": 4,
   "id": "ad1f43f9",
   "metadata": {
    "execution": {
     "iopub.execute_input": "2023-12-15T01:04:17.771780Z",
     "iopub.status.busy": "2023-12-15T01:04:17.771107Z",
     "iopub.status.idle": "2023-12-15T01:04:22.294120Z",
     "shell.execute_reply": "2023-12-15T01:04:22.292689Z",
     "shell.execute_reply.started": "2023-12-15T01:04:17.771724Z"
    }
   },
   "outputs": [
    {
     "data": {
      "text/html": [
       "<div>\n",
       "<style scoped>\n",
       "    .dataframe tbody tr th:only-of-type {\n",
       "        vertical-align: middle;\n",
       "    }\n",
       "\n",
       "    .dataframe tbody tr th {\n",
       "        vertical-align: top;\n",
       "    }\n",
       "\n",
       "    .dataframe thead th {\n",
       "        text-align: right;\n",
       "    }\n",
       "</style>\n",
       "<table border=\"1\" class=\"dataframe\">\n",
       "  <thead>\n",
       "    <tr style=\"text-align: right;\">\n",
       "      <th></th>\n",
       "      <th>customerID</th>\n",
       "      <th>BeginDate</th>\n",
       "      <th>EndDate</th>\n",
       "      <th>Type</th>\n",
       "      <th>PaperlessBilling</th>\n",
       "      <th>PaymentMethod</th>\n",
       "      <th>MonthlyCharges</th>\n",
       "      <th>TotalCharges</th>\n",
       "    </tr>\n",
       "  </thead>\n",
       "  <tbody>\n",
       "    <tr>\n",
       "      <th>0</th>\n",
       "      <td>4472-LVYGI</td>\n",
       "      <td>2020-02-01</td>\n",
       "      <td>None</td>\n",
       "      <td>Two year</td>\n",
       "      <td>Yes</td>\n",
       "      <td>Bank transfer (automatic)</td>\n",
       "      <td>52.55</td>\n",
       "      <td>NaN</td>\n",
       "    </tr>\n",
       "    <tr>\n",
       "      <th>1</th>\n",
       "      <td>3115-CZMZD</td>\n",
       "      <td>2020-02-01</td>\n",
       "      <td>None</td>\n",
       "      <td>Two year</td>\n",
       "      <td>No</td>\n",
       "      <td>Mailed check</td>\n",
       "      <td>20.25</td>\n",
       "      <td>NaN</td>\n",
       "    </tr>\n",
       "    <tr>\n",
       "      <th>2</th>\n",
       "      <td>3668-QPYBK</td>\n",
       "      <td>2018-08-09</td>\n",
       "      <td>2019-12-01</td>\n",
       "      <td>Month-to-month</td>\n",
       "      <td>Yes</td>\n",
       "      <td>Mailed check</td>\n",
       "      <td>53.85</td>\n",
       "      <td>108.15</td>\n",
       "    </tr>\n",
       "    <tr>\n",
       "      <th>3</th>\n",
       "      <td>5709-LVOEQ</td>\n",
       "      <td>2020-02-01</td>\n",
       "      <td>None</td>\n",
       "      <td>Two year</td>\n",
       "      <td>No</td>\n",
       "      <td>Mailed check</td>\n",
       "      <td>80.85</td>\n",
       "      <td>NaN</td>\n",
       "    </tr>\n",
       "    <tr>\n",
       "      <th>4</th>\n",
       "      <td>9237-HQITU</td>\n",
       "      <td>2019-01-26</td>\n",
       "      <td>2019-11-01</td>\n",
       "      <td>Month-to-month</td>\n",
       "      <td>Yes</td>\n",
       "      <td>Electronic check</td>\n",
       "      <td>70.70</td>\n",
       "      <td>151.65</td>\n",
       "    </tr>\n",
       "  </tbody>\n",
       "</table>\n",
       "</div>"
      ],
      "text/plain": [
       "   customerID   BeginDate     EndDate            Type PaperlessBilling  \\\n",
       "0  4472-LVYGI  2020-02-01        None        Two year              Yes   \n",
       "1  3115-CZMZD  2020-02-01        None        Two year               No   \n",
       "2  3668-QPYBK  2018-08-09  2019-12-01  Month-to-month              Yes   \n",
       "3  5709-LVOEQ  2020-02-01        None        Two year               No   \n",
       "4  9237-HQITU  2019-01-26  2019-11-01  Month-to-month              Yes   \n",
       "\n",
       "               PaymentMethod  MonthlyCharges  TotalCharges  \n",
       "0  Bank transfer (automatic)           52.55           NaN  \n",
       "1               Mailed check           20.25           NaN  \n",
       "2               Mailed check           53.85        108.15  \n",
       "3               Mailed check           80.85           NaN  \n",
       "4           Electronic check           70.70        151.65  "
      ]
     },
     "execution_count": 4,
     "metadata": {},
     "output_type": "execute_result"
    }
   ],
   "source": [
    "contract = get_table('telecom.contract')\n",
    "\n",
    "contract.head()"
   ]
  },
  {
   "cell_type": "code",
   "execution_count": 5,
   "id": "361d99f1",
   "metadata": {
    "execution": {
     "iopub.execute_input": "2023-12-15T01:04:22.296357Z",
     "iopub.status.busy": "2023-12-15T01:04:22.295879Z",
     "iopub.status.idle": "2023-12-15T01:04:22.307059Z",
     "shell.execute_reply": "2023-12-15T01:04:22.305511Z",
     "shell.execute_reply.started": "2023-12-15T01:04:22.296306Z"
    }
   },
   "outputs": [
    {
     "data": {
      "text/plain": [
       "customerID           object\n",
       "BeginDate            object\n",
       "EndDate              object\n",
       "Type                 object\n",
       "PaperlessBilling     object\n",
       "PaymentMethod        object\n",
       "MonthlyCharges      float64\n",
       "TotalCharges        float64\n",
       "dtype: object"
      ]
     },
     "execution_count": 5,
     "metadata": {},
     "output_type": "execute_result"
    }
   ],
   "source": [
    "contract.dtypes"
   ]
  },
  {
   "cell_type": "code",
   "execution_count": 6,
   "id": "932583bd",
   "metadata": {
    "execution": {
     "iopub.execute_input": "2023-12-15T01:04:22.309598Z",
     "iopub.status.busy": "2023-12-15T01:04:22.309118Z",
     "iopub.status.idle": "2023-12-15T01:04:22.883946Z",
     "shell.execute_reply": "2023-12-15T01:04:22.882546Z",
     "shell.execute_reply.started": "2023-12-15T01:04:22.309557Z"
    }
   },
   "outputs": [
    {
     "data": {
      "text/html": [
       "<div>\n",
       "<style scoped>\n",
       "    .dataframe tbody tr th:only-of-type {\n",
       "        vertical-align: middle;\n",
       "    }\n",
       "\n",
       "    .dataframe tbody tr th {\n",
       "        vertical-align: top;\n",
       "    }\n",
       "\n",
       "    .dataframe thead th {\n",
       "        text-align: right;\n",
       "    }\n",
       "</style>\n",
       "<table border=\"1\" class=\"dataframe\">\n",
       "  <thead>\n",
       "    <tr style=\"text-align: right;\">\n",
       "      <th></th>\n",
       "      <th>customerID</th>\n",
       "      <th>gender</th>\n",
       "      <th>SeniorCitizen</th>\n",
       "      <th>Partner</th>\n",
       "      <th>Dependents</th>\n",
       "    </tr>\n",
       "  </thead>\n",
       "  <tbody>\n",
       "    <tr>\n",
       "      <th>0</th>\n",
       "      <td>7590-VHVEG</td>\n",
       "      <td>Female</td>\n",
       "      <td>0</td>\n",
       "      <td>Yes</td>\n",
       "      <td>No</td>\n",
       "    </tr>\n",
       "    <tr>\n",
       "      <th>1</th>\n",
       "      <td>5575-GNVDE</td>\n",
       "      <td>Male</td>\n",
       "      <td>0</td>\n",
       "      <td>No</td>\n",
       "      <td>No</td>\n",
       "    </tr>\n",
       "    <tr>\n",
       "      <th>2</th>\n",
       "      <td>3668-QPYBK</td>\n",
       "      <td>Male</td>\n",
       "      <td>0</td>\n",
       "      <td>No</td>\n",
       "      <td>No</td>\n",
       "    </tr>\n",
       "    <tr>\n",
       "      <th>3</th>\n",
       "      <td>7795-CFOCW</td>\n",
       "      <td>Male</td>\n",
       "      <td>0</td>\n",
       "      <td>No</td>\n",
       "      <td>No</td>\n",
       "    </tr>\n",
       "    <tr>\n",
       "      <th>4</th>\n",
       "      <td>9237-HQITU</td>\n",
       "      <td>Female</td>\n",
       "      <td>0</td>\n",
       "      <td>No</td>\n",
       "      <td>No</td>\n",
       "    </tr>\n",
       "  </tbody>\n",
       "</table>\n",
       "</div>"
      ],
      "text/plain": [
       "   customerID  gender  SeniorCitizen Partner Dependents\n",
       "0  7590-VHVEG  Female              0     Yes         No\n",
       "1  5575-GNVDE    Male              0      No         No\n",
       "2  3668-QPYBK    Male              0      No         No\n",
       "3  7795-CFOCW    Male              0      No         No\n",
       "4  9237-HQITU  Female              0      No         No"
      ]
     },
     "execution_count": 6,
     "metadata": {},
     "output_type": "execute_result"
    }
   ],
   "source": [
    "personal = get_table('telecom.personal')\n",
    "personal.head()"
   ]
  },
  {
   "cell_type": "code",
   "execution_count": 7,
   "id": "d076e1ca",
   "metadata": {
    "execution": {
     "iopub.execute_input": "2023-12-15T01:04:22.886651Z",
     "iopub.status.busy": "2023-12-15T01:04:22.886183Z",
     "iopub.status.idle": "2023-12-15T01:04:23.450762Z",
     "shell.execute_reply": "2023-12-15T01:04:23.449499Z",
     "shell.execute_reply.started": "2023-12-15T01:04:22.886614Z"
    }
   },
   "outputs": [
    {
     "data": {
      "text/html": [
       "<div>\n",
       "<style scoped>\n",
       "    .dataframe tbody tr th:only-of-type {\n",
       "        vertical-align: middle;\n",
       "    }\n",
       "\n",
       "    .dataframe tbody tr th {\n",
       "        vertical-align: top;\n",
       "    }\n",
       "\n",
       "    .dataframe thead th {\n",
       "        text-align: right;\n",
       "    }\n",
       "</style>\n",
       "<table border=\"1\" class=\"dataframe\">\n",
       "  <thead>\n",
       "    <tr style=\"text-align: right;\">\n",
       "      <th></th>\n",
       "      <th>c1</th>\n",
       "      <th>c2</th>\n",
       "      <th>c3</th>\n",
       "      <th>c4</th>\n",
       "      <th>c5</th>\n",
       "      <th>c6</th>\n",
       "      <th>c7</th>\n",
       "      <th>c8</th>\n",
       "    </tr>\n",
       "  </thead>\n",
       "  <tbody>\n",
       "    <tr>\n",
       "      <th>0</th>\n",
       "      <td>customerID</td>\n",
       "      <td>InternetService</td>\n",
       "      <td>OnlineSecurity</td>\n",
       "      <td>OnlineBackup</td>\n",
       "      <td>DeviceProtection</td>\n",
       "      <td>TechSupport</td>\n",
       "      <td>StreamingTV</td>\n",
       "      <td>StreamingMovies</td>\n",
       "    </tr>\n",
       "    <tr>\n",
       "      <th>1</th>\n",
       "      <td>7590-VHVEG</td>\n",
       "      <td>DSL</td>\n",
       "      <td>No</td>\n",
       "      <td>Yes</td>\n",
       "      <td>No</td>\n",
       "      <td>No</td>\n",
       "      <td>No</td>\n",
       "      <td>No</td>\n",
       "    </tr>\n",
       "    <tr>\n",
       "      <th>2</th>\n",
       "      <td>5575-GNVDE</td>\n",
       "      <td>DSL</td>\n",
       "      <td>Yes</td>\n",
       "      <td>No</td>\n",
       "      <td>Yes</td>\n",
       "      <td>No</td>\n",
       "      <td>No</td>\n",
       "      <td>No</td>\n",
       "    </tr>\n",
       "    <tr>\n",
       "      <th>3</th>\n",
       "      <td>3668-QPYBK</td>\n",
       "      <td>DSL</td>\n",
       "      <td>Yes</td>\n",
       "      <td>Yes</td>\n",
       "      <td>No</td>\n",
       "      <td>No</td>\n",
       "      <td>No</td>\n",
       "      <td>No</td>\n",
       "    </tr>\n",
       "    <tr>\n",
       "      <th>4</th>\n",
       "      <td>7795-CFOCW</td>\n",
       "      <td>DSL</td>\n",
       "      <td>Yes</td>\n",
       "      <td>No</td>\n",
       "      <td>Yes</td>\n",
       "      <td>Yes</td>\n",
       "      <td>No</td>\n",
       "      <td>No</td>\n",
       "    </tr>\n",
       "  </tbody>\n",
       "</table>\n",
       "</div>"
      ],
      "text/plain": [
       "           c1               c2              c3            c4  \\\n",
       "0  customerID  InternetService  OnlineSecurity  OnlineBackup   \n",
       "1  7590-VHVEG              DSL              No           Yes   \n",
       "2  5575-GNVDE              DSL             Yes            No   \n",
       "3  3668-QPYBK              DSL             Yes           Yes   \n",
       "4  7795-CFOCW              DSL             Yes            No   \n",
       "\n",
       "                 c5           c6           c7               c8  \n",
       "0  DeviceProtection  TechSupport  StreamingTV  StreamingMovies  \n",
       "1                No           No           No               No  \n",
       "2               Yes           No           No               No  \n",
       "3                No           No           No               No  \n",
       "4               Yes          Yes           No               No  "
      ]
     },
     "execution_count": 7,
     "metadata": {},
     "output_type": "execute_result"
    }
   ],
   "source": [
    "internet = get_table('telecom.internet')\n",
    "internet.head()"
   ]
  },
  {
   "cell_type": "code",
   "execution_count": 8,
   "id": "95a9b75c",
   "metadata": {
    "execution": {
     "iopub.execute_input": "2023-12-15T01:04:23.453402Z",
     "iopub.status.busy": "2023-12-15T01:04:23.452872Z",
     "iopub.status.idle": "2023-12-15T01:04:23.478458Z",
     "shell.execute_reply": "2023-12-15T01:04:23.477331Z",
     "shell.execute_reply.started": "2023-12-15T01:04:23.453355Z"
    }
   },
   "outputs": [
    {
     "data": {
      "text/html": [
       "<div>\n",
       "<style scoped>\n",
       "    .dataframe tbody tr th:only-of-type {\n",
       "        vertical-align: middle;\n",
       "    }\n",
       "\n",
       "    .dataframe tbody tr th {\n",
       "        vertical-align: top;\n",
       "    }\n",
       "\n",
       "    .dataframe thead th {\n",
       "        text-align: right;\n",
       "    }\n",
       "</style>\n",
       "<table border=\"1\" class=\"dataframe\">\n",
       "  <thead>\n",
       "    <tr style=\"text-align: right;\">\n",
       "      <th></th>\n",
       "      <th>customerID</th>\n",
       "      <th>InternetService</th>\n",
       "      <th>OnlineSecurity</th>\n",
       "      <th>OnlineBackup</th>\n",
       "      <th>DeviceProtection</th>\n",
       "      <th>TechSupport</th>\n",
       "      <th>StreamingTV</th>\n",
       "      <th>StreamingMovies</th>\n",
       "    </tr>\n",
       "  </thead>\n",
       "  <tbody>\n",
       "    <tr>\n",
       "      <th>0</th>\n",
       "      <td>7590-VHVEG</td>\n",
       "      <td>DSL</td>\n",
       "      <td>No</td>\n",
       "      <td>Yes</td>\n",
       "      <td>No</td>\n",
       "      <td>No</td>\n",
       "      <td>No</td>\n",
       "      <td>No</td>\n",
       "    </tr>\n",
       "    <tr>\n",
       "      <th>1</th>\n",
       "      <td>5575-GNVDE</td>\n",
       "      <td>DSL</td>\n",
       "      <td>Yes</td>\n",
       "      <td>No</td>\n",
       "      <td>Yes</td>\n",
       "      <td>No</td>\n",
       "      <td>No</td>\n",
       "      <td>No</td>\n",
       "    </tr>\n",
       "    <tr>\n",
       "      <th>2</th>\n",
       "      <td>3668-QPYBK</td>\n",
       "      <td>DSL</td>\n",
       "      <td>Yes</td>\n",
       "      <td>Yes</td>\n",
       "      <td>No</td>\n",
       "      <td>No</td>\n",
       "      <td>No</td>\n",
       "      <td>No</td>\n",
       "    </tr>\n",
       "    <tr>\n",
       "      <th>3</th>\n",
       "      <td>7795-CFOCW</td>\n",
       "      <td>DSL</td>\n",
       "      <td>Yes</td>\n",
       "      <td>No</td>\n",
       "      <td>Yes</td>\n",
       "      <td>Yes</td>\n",
       "      <td>No</td>\n",
       "      <td>No</td>\n",
       "    </tr>\n",
       "    <tr>\n",
       "      <th>4</th>\n",
       "      <td>9237-HQITU</td>\n",
       "      <td>Fiber optic</td>\n",
       "      <td>No</td>\n",
       "      <td>No</td>\n",
       "      <td>No</td>\n",
       "      <td>No</td>\n",
       "      <td>No</td>\n",
       "      <td>No</td>\n",
       "    </tr>\n",
       "  </tbody>\n",
       "</table>\n",
       "</div>"
      ],
      "text/plain": [
       "   customerID InternetService OnlineSecurity OnlineBackup DeviceProtection  \\\n",
       "0  7590-VHVEG             DSL             No          Yes               No   \n",
       "1  5575-GNVDE             DSL            Yes           No              Yes   \n",
       "2  3668-QPYBK             DSL            Yes          Yes               No   \n",
       "3  7795-CFOCW             DSL            Yes           No              Yes   \n",
       "4  9237-HQITU     Fiber optic             No           No               No   \n",
       "\n",
       "  TechSupport StreamingTV StreamingMovies  \n",
       "0          No          No              No  \n",
       "1          No          No              No  \n",
       "2          No          No              No  \n",
       "3         Yes          No              No  \n",
       "4          No          No              No  "
      ]
     },
     "execution_count": 8,
     "metadata": {},
     "output_type": "execute_result"
    }
   ],
   "source": [
    "#переименуем столбцы, удалим 0 объект\n",
    "internet = internet.rename(columns={'c1':'customerID', 'c2':'InternetService', \n",
    "                         'c3':'OnlineSecurity', 'c4':'OnlineBackup', \n",
    "                         'c5':'DeviceProtection', 'c6':'TechSupport', \n",
    "                         'c7':'StreamingTV', 'c8':'StreamingMovies'}).drop([0]).reset_index(drop=True)\n",
    "internet.head()"
   ]
  },
  {
   "cell_type": "code",
   "execution_count": 9,
   "id": "5655c1fd",
   "metadata": {
    "execution": {
     "iopub.execute_input": "2023-12-15T01:04:23.480231Z",
     "iopub.status.busy": "2023-12-15T01:04:23.479895Z",
     "iopub.status.idle": "2023-12-15T01:04:24.033490Z",
     "shell.execute_reply": "2023-12-15T01:04:24.032034Z",
     "shell.execute_reply.started": "2023-12-15T01:04:23.480201Z"
    }
   },
   "outputs": [
    {
     "data": {
      "text/html": [
       "<div>\n",
       "<style scoped>\n",
       "    .dataframe tbody tr th:only-of-type {\n",
       "        vertical-align: middle;\n",
       "    }\n",
       "\n",
       "    .dataframe tbody tr th {\n",
       "        vertical-align: top;\n",
       "    }\n",
       "\n",
       "    .dataframe thead th {\n",
       "        text-align: right;\n",
       "    }\n",
       "</style>\n",
       "<table border=\"1\" class=\"dataframe\">\n",
       "  <thead>\n",
       "    <tr style=\"text-align: right;\">\n",
       "      <th></th>\n",
       "      <th>c1</th>\n",
       "      <th>c2</th>\n",
       "    </tr>\n",
       "  </thead>\n",
       "  <tbody>\n",
       "    <tr>\n",
       "      <th>0</th>\n",
       "      <td>customerID</td>\n",
       "      <td>MultipleLines</td>\n",
       "    </tr>\n",
       "    <tr>\n",
       "      <th>1</th>\n",
       "      <td>5575-GNVDE</td>\n",
       "      <td>No</td>\n",
       "    </tr>\n",
       "    <tr>\n",
       "      <th>2</th>\n",
       "      <td>3668-QPYBK</td>\n",
       "      <td>No</td>\n",
       "    </tr>\n",
       "    <tr>\n",
       "      <th>3</th>\n",
       "      <td>9237-HQITU</td>\n",
       "      <td>No</td>\n",
       "    </tr>\n",
       "    <tr>\n",
       "      <th>4</th>\n",
       "      <td>9305-CDSKC</td>\n",
       "      <td>Yes</td>\n",
       "    </tr>\n",
       "  </tbody>\n",
       "</table>\n",
       "</div>"
      ],
      "text/plain": [
       "           c1             c2\n",
       "0  customerID  MultipleLines\n",
       "1  5575-GNVDE             No\n",
       "2  3668-QPYBK             No\n",
       "3  9237-HQITU             No\n",
       "4  9305-CDSKC            Yes"
      ]
     },
     "execution_count": 9,
     "metadata": {},
     "output_type": "execute_result"
    }
   ],
   "source": [
    "phone = get_table('telecom.phone')\n",
    "phone.head()"
   ]
  },
  {
   "cell_type": "code",
   "execution_count": 10,
   "id": "973ff691",
   "metadata": {
    "execution": {
     "iopub.execute_input": "2023-12-15T01:04:24.039196Z",
     "iopub.status.busy": "2023-12-15T01:04:24.038702Z",
     "iopub.status.idle": "2023-12-15T01:04:24.056304Z",
     "shell.execute_reply": "2023-12-15T01:04:24.055232Z",
     "shell.execute_reply.started": "2023-12-15T01:04:24.039155Z"
    }
   },
   "outputs": [
    {
     "data": {
      "text/html": [
       "<div>\n",
       "<style scoped>\n",
       "    .dataframe tbody tr th:only-of-type {\n",
       "        vertical-align: middle;\n",
       "    }\n",
       "\n",
       "    .dataframe tbody tr th {\n",
       "        vertical-align: top;\n",
       "    }\n",
       "\n",
       "    .dataframe thead th {\n",
       "        text-align: right;\n",
       "    }\n",
       "</style>\n",
       "<table border=\"1\" class=\"dataframe\">\n",
       "  <thead>\n",
       "    <tr style=\"text-align: right;\">\n",
       "      <th></th>\n",
       "      <th>customerID</th>\n",
       "      <th>MultipleLines</th>\n",
       "    </tr>\n",
       "  </thead>\n",
       "  <tbody>\n",
       "    <tr>\n",
       "      <th>0</th>\n",
       "      <td>5575-GNVDE</td>\n",
       "      <td>No</td>\n",
       "    </tr>\n",
       "    <tr>\n",
       "      <th>1</th>\n",
       "      <td>3668-QPYBK</td>\n",
       "      <td>No</td>\n",
       "    </tr>\n",
       "    <tr>\n",
       "      <th>2</th>\n",
       "      <td>9237-HQITU</td>\n",
       "      <td>No</td>\n",
       "    </tr>\n",
       "    <tr>\n",
       "      <th>3</th>\n",
       "      <td>9305-CDSKC</td>\n",
       "      <td>Yes</td>\n",
       "    </tr>\n",
       "    <tr>\n",
       "      <th>4</th>\n",
       "      <td>1452-KIOVK</td>\n",
       "      <td>Yes</td>\n",
       "    </tr>\n",
       "  </tbody>\n",
       "</table>\n",
       "</div>"
      ],
      "text/plain": [
       "   customerID MultipleLines\n",
       "0  5575-GNVDE            No\n",
       "1  3668-QPYBK            No\n",
       "2  9237-HQITU            No\n",
       "3  9305-CDSKC           Yes\n",
       "4  1452-KIOVK           Yes"
      ]
     },
     "execution_count": 10,
     "metadata": {},
     "output_type": "execute_result"
    }
   ],
   "source": [
    "#переименуем столбцы, удалим 0 объект\n",
    "phone = phone.rename(columns={'c1':'customerID', 'c2':'MultipleLines'}).drop([0]).reset_index(drop=True)\n",
    "phone.head()"
   ]
  },
  {
   "cell_type": "markdown",
   "id": "d507ac6f",
   "metadata": {},
   "source": [
    "**Вывод:**\n",
    "- Загрузили данные\n",
    "- Поправили названия столбцов\n",
    "- В таблице contract присутствуют пропущенные значения\n",
    "- Так же возможно в таблице contract итоговая сумма за пользование, не корректна, можно обратить внимание на объект под индексом 2 клиент использовал услуги целый год, но сумма как за 2 месяца\n",
    "- Все таблицы на месте\n",
    "***"
   ]
  },
  {
   "cell_type": "markdown",
   "id": "1b682a1f",
   "metadata": {},
   "source": [
    "### 1.1 Исследовательский анализ данных\n",
    "- Проанализируйте исходные данные. Проверьте:\n",
    "- Все ли таблицы содержат данные.\n",
    "- Соответствует ли количество таблиц условию задачи.\n",
    "- Для каждой таблицы:\n",
    "    - Проведите исследовательский анализ данных: проверьте наличие пропусков и аномалий, изучите распределение признаков.\n",
    "    - Обработайте аномалии с учётом особенностей услуг телекоммуникации."
   ]
  },
  {
   "cell_type": "code",
   "execution_count": 11,
   "id": "2e711a15",
   "metadata": {
    "execution": {
     "iopub.execute_input": "2023-12-15T01:04:24.058204Z",
     "iopub.status.busy": "2023-12-15T01:04:24.057858Z",
     "iopub.status.idle": "2023-12-15T01:04:24.065755Z",
     "shell.execute_reply": "2023-12-15T01:04:24.064561Z",
     "shell.execute_reply.started": "2023-12-15T01:04:24.058174Z"
    }
   },
   "outputs": [],
   "source": [
    "def eda(table):\n",
    "    display(table.head())\n",
    "    print(f'Размер таблицы: {table.shape}\\n')\n",
    "    print(f'Типы данных таблицы: \\n{table.dtypes}\\n')\n",
    "    print(f'Пропусков в таблице: \\n{table.isna().sum()}\\n')\n",
    "    print(f'Дубликатов в таблице: {table.duplicated().sum()}\\n')\n",
    "    for column in table.columns:\n",
    "        print(f'Признак: {column} \\nКол-во значений: \\n{table[column].value_counts()}')\n",
    "        print()"
   ]
  },
  {
   "cell_type": "markdown",
   "id": "972110b8",
   "metadata": {},
   "source": [
    "**Таблица contract**"
   ]
  },
  {
   "cell_type": "code",
   "execution_count": 12,
   "id": "4321f476",
   "metadata": {
    "execution": {
     "iopub.execute_input": "2023-12-15T01:04:24.068185Z",
     "iopub.status.busy": "2023-12-15T01:04:24.067651Z",
     "iopub.status.idle": "2023-12-15T01:04:24.134449Z",
     "shell.execute_reply": "2023-12-15T01:04:24.132943Z",
     "shell.execute_reply.started": "2023-12-15T01:04:24.068143Z"
    },
    "scrolled": true
   },
   "outputs": [
    {
     "data": {
      "text/html": [
       "<div>\n",
       "<style scoped>\n",
       "    .dataframe tbody tr th:only-of-type {\n",
       "        vertical-align: middle;\n",
       "    }\n",
       "\n",
       "    .dataframe tbody tr th {\n",
       "        vertical-align: top;\n",
       "    }\n",
       "\n",
       "    .dataframe thead th {\n",
       "        text-align: right;\n",
       "    }\n",
       "</style>\n",
       "<table border=\"1\" class=\"dataframe\">\n",
       "  <thead>\n",
       "    <tr style=\"text-align: right;\">\n",
       "      <th></th>\n",
       "      <th>customerID</th>\n",
       "      <th>BeginDate</th>\n",
       "      <th>EndDate</th>\n",
       "      <th>Type</th>\n",
       "      <th>PaperlessBilling</th>\n",
       "      <th>PaymentMethod</th>\n",
       "      <th>MonthlyCharges</th>\n",
       "      <th>TotalCharges</th>\n",
       "    </tr>\n",
       "  </thead>\n",
       "  <tbody>\n",
       "    <tr>\n",
       "      <th>0</th>\n",
       "      <td>4472-LVYGI</td>\n",
       "      <td>2020-02-01</td>\n",
       "      <td>None</td>\n",
       "      <td>Two year</td>\n",
       "      <td>Yes</td>\n",
       "      <td>Bank transfer (automatic)</td>\n",
       "      <td>52.55</td>\n",
       "      <td>NaN</td>\n",
       "    </tr>\n",
       "    <tr>\n",
       "      <th>1</th>\n",
       "      <td>3115-CZMZD</td>\n",
       "      <td>2020-02-01</td>\n",
       "      <td>None</td>\n",
       "      <td>Two year</td>\n",
       "      <td>No</td>\n",
       "      <td>Mailed check</td>\n",
       "      <td>20.25</td>\n",
       "      <td>NaN</td>\n",
       "    </tr>\n",
       "    <tr>\n",
       "      <th>2</th>\n",
       "      <td>3668-QPYBK</td>\n",
       "      <td>2018-08-09</td>\n",
       "      <td>2019-12-01</td>\n",
       "      <td>Month-to-month</td>\n",
       "      <td>Yes</td>\n",
       "      <td>Mailed check</td>\n",
       "      <td>53.85</td>\n",
       "      <td>108.15</td>\n",
       "    </tr>\n",
       "    <tr>\n",
       "      <th>3</th>\n",
       "      <td>5709-LVOEQ</td>\n",
       "      <td>2020-02-01</td>\n",
       "      <td>None</td>\n",
       "      <td>Two year</td>\n",
       "      <td>No</td>\n",
       "      <td>Mailed check</td>\n",
       "      <td>80.85</td>\n",
       "      <td>NaN</td>\n",
       "    </tr>\n",
       "    <tr>\n",
       "      <th>4</th>\n",
       "      <td>9237-HQITU</td>\n",
       "      <td>2019-01-26</td>\n",
       "      <td>2019-11-01</td>\n",
       "      <td>Month-to-month</td>\n",
       "      <td>Yes</td>\n",
       "      <td>Electronic check</td>\n",
       "      <td>70.70</td>\n",
       "      <td>151.65</td>\n",
       "    </tr>\n",
       "  </tbody>\n",
       "</table>\n",
       "</div>"
      ],
      "text/plain": [
       "   customerID   BeginDate     EndDate            Type PaperlessBilling  \\\n",
       "0  4472-LVYGI  2020-02-01        None        Two year              Yes   \n",
       "1  3115-CZMZD  2020-02-01        None        Two year               No   \n",
       "2  3668-QPYBK  2018-08-09  2019-12-01  Month-to-month              Yes   \n",
       "3  5709-LVOEQ  2020-02-01        None        Two year               No   \n",
       "4  9237-HQITU  2019-01-26  2019-11-01  Month-to-month              Yes   \n",
       "\n",
       "               PaymentMethod  MonthlyCharges  TotalCharges  \n",
       "0  Bank transfer (automatic)           52.55           NaN  \n",
       "1               Mailed check           20.25           NaN  \n",
       "2               Mailed check           53.85        108.15  \n",
       "3               Mailed check           80.85           NaN  \n",
       "4           Electronic check           70.70        151.65  "
      ]
     },
     "metadata": {},
     "output_type": "display_data"
    },
    {
     "name": "stdout",
     "output_type": "stream",
     "text": [
      "Размер таблицы: (7043, 8)\n",
      "\n",
      "Типы данных таблицы: \n",
      "customerID           object\n",
      "BeginDate            object\n",
      "EndDate              object\n",
      "Type                 object\n",
      "PaperlessBilling     object\n",
      "PaymentMethod        object\n",
      "MonthlyCharges      float64\n",
      "TotalCharges        float64\n",
      "dtype: object\n",
      "\n",
      "Пропусков в таблице: \n",
      "customerID             0\n",
      "BeginDate              0\n",
      "EndDate             5174\n",
      "Type                   0\n",
      "PaperlessBilling       0\n",
      "PaymentMethod          0\n",
      "MonthlyCharges         0\n",
      "TotalCharges          11\n",
      "dtype: int64\n",
      "\n",
      "Дубликатов в таблице: 0\n",
      "\n",
      "Признак: customerID \n",
      "Кол-во значений: \n",
      "7148-XZPHA    1\n",
      "0654-PQKDW    1\n",
      "3055-VTCGS    1\n",
      "0121-SNYRK    1\n",
      "8404-VLQFB    1\n",
      "             ..\n",
      "9507-EXLTT    1\n",
      "1723-HKXJQ    1\n",
      "0420-BWTPW    1\n",
      "9821-POOTN    1\n",
      "5047-LHVLY    1\n",
      "Name: customerID, Length: 7043, dtype: int64\n",
      "\n",
      "Признак: BeginDate \n",
      "Кол-во значений: \n",
      "2019-03-13    43\n",
      "2019-03-24    43\n",
      "2019-03-09    41\n",
      "2019-04-08    41\n",
      "2019-04-03    41\n",
      "              ..\n",
      "2018-07-18     1\n",
      "2019-11-22     1\n",
      "2018-08-18     1\n",
      "2019-10-30     1\n",
      "2018-08-23     1\n",
      "Name: BeginDate, Length: 515, dtype: int64\n",
      "\n",
      "Признак: EndDate \n",
      "Кол-во значений: \n",
      "2019-11-01    485\n",
      "2019-12-01    466\n",
      "2020-01-01    460\n",
      "2019-10-01    458\n",
      "Name: EndDate, dtype: int64\n",
      "\n",
      "Признак: Type \n",
      "Кол-во значений: \n",
      "Month-to-month    3875\n",
      "Two year          1695\n",
      "One year          1473\n",
      "Name: Type, dtype: int64\n",
      "\n",
      "Признак: PaperlessBilling \n",
      "Кол-во значений: \n",
      "Yes    4171\n",
      "No     2872\n",
      "Name: PaperlessBilling, dtype: int64\n",
      "\n",
      "Признак: PaymentMethod \n",
      "Кол-во значений: \n",
      "Electronic check             2365\n",
      "Mailed check                 1612\n",
      "Bank transfer (automatic)    1544\n",
      "Credit card (automatic)      1522\n",
      "Name: PaymentMethod, dtype: int64\n",
      "\n",
      "Признак: MonthlyCharges \n",
      "Кол-во значений: \n",
      "20.05    61\n",
      "19.85    45\n",
      "19.90    44\n",
      "19.95    44\n",
      "19.65    43\n",
      "         ..\n",
      "34.40     1\n",
      "39.55     1\n",
      "39.95     1\n",
      "18.55     1\n",
      "97.25     1\n",
      "Name: MonthlyCharges, Length: 1585, dtype: int64\n",
      "\n",
      "Признак: TotalCharges \n",
      "Кол-во значений: \n",
      "20.20      11\n",
      "19.75       9\n",
      "20.05       8\n",
      "19.65       8\n",
      "19.90       8\n",
      "           ..\n",
      "389.10      1\n",
      "6383.35     1\n",
      "775.30      1\n",
      "6841.30     1\n",
      "5867.00     1\n",
      "Name: TotalCharges, Length: 6530, dtype: int64\n",
      "\n"
     ]
    }
   ],
   "source": [
    "eda(contract)"
   ]
  },
  {
   "cell_type": "code",
   "execution_count": 13,
   "id": "2b23690e",
   "metadata": {
    "execution": {
     "iopub.execute_input": "2023-12-15T01:04:24.136648Z",
     "iopub.status.busy": "2023-12-15T01:04:24.136206Z",
     "iopub.status.idle": "2023-12-15T01:04:24.163252Z",
     "shell.execute_reply": "2023-12-15T01:04:24.161642Z",
     "shell.execute_reply.started": "2023-12-15T01:04:24.136611Z"
    }
   },
   "outputs": [
    {
     "data": {
      "text/html": [
       "<div>\n",
       "<style scoped>\n",
       "    .dataframe tbody tr th:only-of-type {\n",
       "        vertical-align: middle;\n",
       "    }\n",
       "\n",
       "    .dataframe tbody tr th {\n",
       "        vertical-align: top;\n",
       "    }\n",
       "\n",
       "    .dataframe thead th {\n",
       "        text-align: right;\n",
       "    }\n",
       "</style>\n",
       "<table border=\"1\" class=\"dataframe\">\n",
       "  <thead>\n",
       "    <tr style=\"text-align: right;\">\n",
       "      <th></th>\n",
       "      <th>customerID</th>\n",
       "      <th>BeginDate</th>\n",
       "      <th>EndDate</th>\n",
       "      <th>Type</th>\n",
       "      <th>PaperlessBilling</th>\n",
       "      <th>PaymentMethod</th>\n",
       "      <th>MonthlyCharges</th>\n",
       "      <th>TotalCharges</th>\n",
       "    </tr>\n",
       "  </thead>\n",
       "  <tbody>\n",
       "    <tr>\n",
       "      <th>0</th>\n",
       "      <td>4472-LVYGI</td>\n",
       "      <td>2020-02-01</td>\n",
       "      <td>None</td>\n",
       "      <td>Two year</td>\n",
       "      <td>Yes</td>\n",
       "      <td>Bank transfer (automatic)</td>\n",
       "      <td>52.55</td>\n",
       "      <td>NaN</td>\n",
       "    </tr>\n",
       "    <tr>\n",
       "      <th>1</th>\n",
       "      <td>3115-CZMZD</td>\n",
       "      <td>2020-02-01</td>\n",
       "      <td>None</td>\n",
       "      <td>Two year</td>\n",
       "      <td>No</td>\n",
       "      <td>Mailed check</td>\n",
       "      <td>20.25</td>\n",
       "      <td>NaN</td>\n",
       "    </tr>\n",
       "    <tr>\n",
       "      <th>3</th>\n",
       "      <td>5709-LVOEQ</td>\n",
       "      <td>2020-02-01</td>\n",
       "      <td>None</td>\n",
       "      <td>Two year</td>\n",
       "      <td>No</td>\n",
       "      <td>Mailed check</td>\n",
       "      <td>80.85</td>\n",
       "      <td>NaN</td>\n",
       "    </tr>\n",
       "    <tr>\n",
       "      <th>6</th>\n",
       "      <td>4367-NUYAO</td>\n",
       "      <td>2020-02-01</td>\n",
       "      <td>None</td>\n",
       "      <td>Two year</td>\n",
       "      <td>No</td>\n",
       "      <td>Mailed check</td>\n",
       "      <td>25.75</td>\n",
       "      <td>NaN</td>\n",
       "    </tr>\n",
       "    <tr>\n",
       "      <th>7</th>\n",
       "      <td>1371-DWPAZ</td>\n",
       "      <td>2020-02-01</td>\n",
       "      <td>None</td>\n",
       "      <td>Two year</td>\n",
       "      <td>No</td>\n",
       "      <td>Credit card (automatic)</td>\n",
       "      <td>56.05</td>\n",
       "      <td>NaN</td>\n",
       "    </tr>\n",
       "    <tr>\n",
       "      <th>9</th>\n",
       "      <td>3213-VVOLG</td>\n",
       "      <td>2020-02-01</td>\n",
       "      <td>None</td>\n",
       "      <td>Two year</td>\n",
       "      <td>No</td>\n",
       "      <td>Mailed check</td>\n",
       "      <td>25.35</td>\n",
       "      <td>NaN</td>\n",
       "    </tr>\n",
       "    <tr>\n",
       "      <th>10</th>\n",
       "      <td>2923-ARZLG</td>\n",
       "      <td>2020-02-01</td>\n",
       "      <td>None</td>\n",
       "      <td>One year</td>\n",
       "      <td>Yes</td>\n",
       "      <td>Mailed check</td>\n",
       "      <td>19.70</td>\n",
       "      <td>NaN</td>\n",
       "    </tr>\n",
       "    <tr>\n",
       "      <th>11</th>\n",
       "      <td>2775-SEFEE</td>\n",
       "      <td>2020-02-01</td>\n",
       "      <td>None</td>\n",
       "      <td>Two year</td>\n",
       "      <td>Yes</td>\n",
       "      <td>Bank transfer (automatic)</td>\n",
       "      <td>61.90</td>\n",
       "      <td>NaN</td>\n",
       "    </tr>\n",
       "    <tr>\n",
       "      <th>4408</th>\n",
       "      <td>7644-OMVMY</td>\n",
       "      <td>2020-02-01</td>\n",
       "      <td>None</td>\n",
       "      <td>Two year</td>\n",
       "      <td>No</td>\n",
       "      <td>Mailed check</td>\n",
       "      <td>19.85</td>\n",
       "      <td>NaN</td>\n",
       "    </tr>\n",
       "    <tr>\n",
       "      <th>5160</th>\n",
       "      <td>2520-SGTTA</td>\n",
       "      <td>2020-02-01</td>\n",
       "      <td>None</td>\n",
       "      <td>Two year</td>\n",
       "      <td>No</td>\n",
       "      <td>Mailed check</td>\n",
       "      <td>20.00</td>\n",
       "      <td>NaN</td>\n",
       "    </tr>\n",
       "    <tr>\n",
       "      <th>6839</th>\n",
       "      <td>4075-WKNIU</td>\n",
       "      <td>2020-02-01</td>\n",
       "      <td>None</td>\n",
       "      <td>Two year</td>\n",
       "      <td>No</td>\n",
       "      <td>Mailed check</td>\n",
       "      <td>73.35</td>\n",
       "      <td>NaN</td>\n",
       "    </tr>\n",
       "  </tbody>\n",
       "</table>\n",
       "</div>"
      ],
      "text/plain": [
       "      customerID   BeginDate EndDate      Type PaperlessBilling  \\\n",
       "0     4472-LVYGI  2020-02-01    None  Two year              Yes   \n",
       "1     3115-CZMZD  2020-02-01    None  Two year               No   \n",
       "3     5709-LVOEQ  2020-02-01    None  Two year               No   \n",
       "6     4367-NUYAO  2020-02-01    None  Two year               No   \n",
       "7     1371-DWPAZ  2020-02-01    None  Two year               No   \n",
       "9     3213-VVOLG  2020-02-01    None  Two year               No   \n",
       "10    2923-ARZLG  2020-02-01    None  One year              Yes   \n",
       "11    2775-SEFEE  2020-02-01    None  Two year              Yes   \n",
       "4408  7644-OMVMY  2020-02-01    None  Two year               No   \n",
       "5160  2520-SGTTA  2020-02-01    None  Two year               No   \n",
       "6839  4075-WKNIU  2020-02-01    None  Two year               No   \n",
       "\n",
       "                  PaymentMethod  MonthlyCharges  TotalCharges  \n",
       "0     Bank transfer (automatic)           52.55           NaN  \n",
       "1                  Mailed check           20.25           NaN  \n",
       "3                  Mailed check           80.85           NaN  \n",
       "6                  Mailed check           25.75           NaN  \n",
       "7       Credit card (automatic)           56.05           NaN  \n",
       "9                  Mailed check           25.35           NaN  \n",
       "10                 Mailed check           19.70           NaN  \n",
       "11    Bank transfer (automatic)           61.90           NaN  \n",
       "4408               Mailed check           19.85           NaN  \n",
       "5160               Mailed check           20.00           NaN  \n",
       "6839               Mailed check           73.35           NaN  "
      ]
     },
     "execution_count": 13,
     "metadata": {},
     "output_type": "execute_result"
    }
   ],
   "source": [
    "#изучим пропуски\n",
    "contract[contract['TotalCharges'].isna()]"
   ]
  },
  {
   "cell_type": "code",
   "execution_count": 14,
   "id": "cec2ac65",
   "metadata": {
    "execution": {
     "iopub.execute_input": "2023-12-15T01:04:24.165768Z",
     "iopub.status.busy": "2023-12-15T01:04:24.165309Z",
     "iopub.status.idle": "2023-12-15T01:04:24.183923Z",
     "shell.execute_reply": "2023-12-15T01:04:24.182251Z",
     "shell.execute_reply.started": "2023-12-15T01:04:24.165719Z"
    }
   },
   "outputs": [
    {
     "data": {
      "text/plain": [
       "customerID             0\n",
       "BeginDate              0\n",
       "EndDate             5174\n",
       "Type                   0\n",
       "PaperlessBilling       0\n",
       "PaymentMethod          0\n",
       "MonthlyCharges         0\n",
       "TotalCharges           0\n",
       "dtype: int64"
      ]
     },
     "execution_count": 14,
     "metadata": {},
     "output_type": "execute_result"
    }
   ],
   "source": [
    "#исправим пропуски\n",
    "contract['TotalCharges'] = contract['TotalCharges'].fillna(0)\n",
    "#проверим\n",
    "contract.isna().sum()"
   ]
  },
  {
   "cell_type": "markdown",
   "id": "ed874319",
   "metadata": {},
   "source": [
    "Столбец TotalCharges отвечает за общие расходы абонента. Столбец имеет пропуски, и мы будем считать, что это значит, что клиент за время срока жизни в компании ничего не платил. "
   ]
  },
  {
   "cell_type": "code",
   "execution_count": 16,
   "id": "a8a9868f",
   "metadata": {
    "execution": {
     "iopub.execute_input": "2023-12-15T01:04:24.219787Z",
     "iopub.status.busy": "2023-12-15T01:04:24.218532Z",
     "iopub.status.idle": "2023-12-15T01:04:24.230454Z",
     "shell.execute_reply": "2023-12-15T01:04:24.229057Z",
     "shell.execute_reply.started": "2023-12-15T01:04:24.219726Z"
    }
   },
   "outputs": [],
   "source": [
    "def check_client(index):\n",
    "    month = contract.iloc[index]['TotalCharges'] // contract.iloc[index]['MonthlyCharges']\n",
    "    year = 365// (contract.iloc[index]['TotalCharges'] // contract.iloc[index]['MonthlyCharges'])\n",
    "    end = (contract.iloc[index]['BeginDate'].year + 365//\n",
    "           (contract.iloc[index]['TotalCharges'] // contract.iloc[index]['MonthlyCharges']))\n",
    "    print(f'Клинент: {index}')\n",
    "    print(f'Месяцев использования: {month}')\n",
    "    print(f'Лет использования: {year}')\n",
    "    print(f'Год конца тарифа: {end}')\n",
    "    print(f'Текущий год: {2023}')"
   ]
  },
  {
   "cell_type": "code",
   "execution_count": 17,
   "id": "2d7a1f53",
   "metadata": {
    "execution": {
     "iopub.execute_input": "2023-12-15T01:04:24.232374Z",
     "iopub.status.busy": "2023-12-15T01:04:24.231872Z",
     "iopub.status.idle": "2023-12-15T01:04:24.249713Z",
     "shell.execute_reply": "2023-12-15T01:04:24.248378Z",
     "shell.execute_reply.started": "2023-12-15T01:04:24.232322Z"
    }
   },
   "outputs": [],
   "source": [
    "#check_client(280)"
   ]
  },
  {
   "cell_type": "code",
   "execution_count": 18,
   "id": "e3d75e5e",
   "metadata": {
    "execution": {
     "iopub.execute_input": "2023-12-15T01:04:24.252602Z",
     "iopub.status.busy": "2023-12-15T01:04:24.251483Z",
     "iopub.status.idle": "2023-12-15T01:04:24.263980Z",
     "shell.execute_reply": "2023-12-15T01:04:24.262691Z",
     "shell.execute_reply.started": "2023-12-15T01:04:24.252551Z"
    }
   },
   "outputs": [],
   "source": [
    "#check_client(546)"
   ]
  },
  {
   "cell_type": "markdown",
   "id": "b56c1b94",
   "metadata": {},
   "source": [
    "**Вывод:**\n",
    "- В данном случае  проблемы:\n",
    "    - Клиент ушел, и у нас пропущенное в EndDate\n"
   ]
  },
  {
   "cell_type": "code",
   "execution_count": 19,
   "id": "5ea9b745",
   "metadata": {
    "execution": {
     "iopub.execute_input": "2023-12-15T01:04:24.267283Z",
     "iopub.status.busy": "2023-12-15T01:04:24.266052Z",
     "iopub.status.idle": "2023-12-15T01:04:24.299245Z",
     "shell.execute_reply": "2023-12-15T01:04:24.298083Z",
     "shell.execute_reply.started": "2023-12-15T01:04:24.267215Z"
    }
   },
   "outputs": [
    {
     "data": {
      "text/html": [
       "<div>\n",
       "<style scoped>\n",
       "    .dataframe tbody tr th:only-of-type {\n",
       "        vertical-align: middle;\n",
       "    }\n",
       "\n",
       "    .dataframe tbody tr th {\n",
       "        vertical-align: top;\n",
       "    }\n",
       "\n",
       "    .dataframe thead th {\n",
       "        text-align: right;\n",
       "    }\n",
       "</style>\n",
       "<table border=\"1\" class=\"dataframe\">\n",
       "  <thead>\n",
       "    <tr style=\"text-align: right;\">\n",
       "      <th></th>\n",
       "      <th>customerID</th>\n",
       "      <th>BeginDate</th>\n",
       "      <th>EndDate</th>\n",
       "      <th>Type</th>\n",
       "      <th>PaperlessBilling</th>\n",
       "      <th>PaymentMethod</th>\n",
       "      <th>MonthlyCharges</th>\n",
       "      <th>TotalCharges</th>\n",
       "    </tr>\n",
       "  </thead>\n",
       "  <tbody>\n",
       "    <tr>\n",
       "      <th>0</th>\n",
       "      <td>4472-LVYGI</td>\n",
       "      <td>2020-02-01</td>\n",
       "      <td>None</td>\n",
       "      <td>Two year</td>\n",
       "      <td>Yes</td>\n",
       "      <td>Bank transfer (automatic)</td>\n",
       "      <td>52.55</td>\n",
       "      <td>0.00</td>\n",
       "    </tr>\n",
       "    <tr>\n",
       "      <th>1</th>\n",
       "      <td>3115-CZMZD</td>\n",
       "      <td>2020-02-01</td>\n",
       "      <td>None</td>\n",
       "      <td>Two year</td>\n",
       "      <td>No</td>\n",
       "      <td>Mailed check</td>\n",
       "      <td>20.25</td>\n",
       "      <td>0.00</td>\n",
       "    </tr>\n",
       "    <tr>\n",
       "      <th>3</th>\n",
       "      <td>5709-LVOEQ</td>\n",
       "      <td>2020-02-01</td>\n",
       "      <td>None</td>\n",
       "      <td>Two year</td>\n",
       "      <td>No</td>\n",
       "      <td>Mailed check</td>\n",
       "      <td>80.85</td>\n",
       "      <td>0.00</td>\n",
       "    </tr>\n",
       "    <tr>\n",
       "      <th>6</th>\n",
       "      <td>4367-NUYAO</td>\n",
       "      <td>2020-02-01</td>\n",
       "      <td>None</td>\n",
       "      <td>Two year</td>\n",
       "      <td>No</td>\n",
       "      <td>Mailed check</td>\n",
       "      <td>25.75</td>\n",
       "      <td>0.00</td>\n",
       "    </tr>\n",
       "    <tr>\n",
       "      <th>7</th>\n",
       "      <td>1371-DWPAZ</td>\n",
       "      <td>2020-02-01</td>\n",
       "      <td>None</td>\n",
       "      <td>Two year</td>\n",
       "      <td>No</td>\n",
       "      <td>Credit card (automatic)</td>\n",
       "      <td>56.05</td>\n",
       "      <td>0.00</td>\n",
       "    </tr>\n",
       "    <tr>\n",
       "      <th>...</th>\n",
       "      <td>...</td>\n",
       "      <td>...</td>\n",
       "      <td>...</td>\n",
       "      <td>...</td>\n",
       "      <td>...</td>\n",
       "      <td>...</td>\n",
       "      <td>...</td>\n",
       "      <td>...</td>\n",
       "    </tr>\n",
       "    <tr>\n",
       "      <th>7038</th>\n",
       "      <td>2569-WGERO</td>\n",
       "      <td>2019-01-21</td>\n",
       "      <td>None</td>\n",
       "      <td>Two year</td>\n",
       "      <td>Yes</td>\n",
       "      <td>Bank transfer (automatic)</td>\n",
       "      <td>21.15</td>\n",
       "      <td>1419.40</td>\n",
       "    </tr>\n",
       "    <tr>\n",
       "      <th>7039</th>\n",
       "      <td>6840-RESVB</td>\n",
       "      <td>2019-02-26</td>\n",
       "      <td>None</td>\n",
       "      <td>One year</td>\n",
       "      <td>Yes</td>\n",
       "      <td>Mailed check</td>\n",
       "      <td>84.80</td>\n",
       "      <td>1990.50</td>\n",
       "    </tr>\n",
       "    <tr>\n",
       "      <th>7040</th>\n",
       "      <td>2234-XADUH</td>\n",
       "      <td>2019-09-02</td>\n",
       "      <td>None</td>\n",
       "      <td>One year</td>\n",
       "      <td>Yes</td>\n",
       "      <td>Credit card (automatic)</td>\n",
       "      <td>103.20</td>\n",
       "      <td>7362.90</td>\n",
       "    </tr>\n",
       "    <tr>\n",
       "      <th>7041</th>\n",
       "      <td>4801-JZAZL</td>\n",
       "      <td>2019-06-26</td>\n",
       "      <td>None</td>\n",
       "      <td>Month-to-month</td>\n",
       "      <td>Yes</td>\n",
       "      <td>Electronic check</td>\n",
       "      <td>29.60</td>\n",
       "      <td>346.45</td>\n",
       "    </tr>\n",
       "    <tr>\n",
       "      <th>7042</th>\n",
       "      <td>3186-AJIEK</td>\n",
       "      <td>2019-04-18</td>\n",
       "      <td>None</td>\n",
       "      <td>Two year</td>\n",
       "      <td>Yes</td>\n",
       "      <td>Bank transfer (automatic)</td>\n",
       "      <td>105.65</td>\n",
       "      <td>6844.50</td>\n",
       "    </tr>\n",
       "  </tbody>\n",
       "</table>\n",
       "<p>5174 rows × 8 columns</p>\n",
       "</div>"
      ],
      "text/plain": [
       "      customerID   BeginDate EndDate            Type PaperlessBilling  \\\n",
       "0     4472-LVYGI  2020-02-01    None        Two year              Yes   \n",
       "1     3115-CZMZD  2020-02-01    None        Two year               No   \n",
       "3     5709-LVOEQ  2020-02-01    None        Two year               No   \n",
       "6     4367-NUYAO  2020-02-01    None        Two year               No   \n",
       "7     1371-DWPAZ  2020-02-01    None        Two year               No   \n",
       "...          ...         ...     ...             ...              ...   \n",
       "7038  2569-WGERO  2019-01-21    None        Two year              Yes   \n",
       "7039  6840-RESVB  2019-02-26    None        One year              Yes   \n",
       "7040  2234-XADUH  2019-09-02    None        One year              Yes   \n",
       "7041  4801-JZAZL  2019-06-26    None  Month-to-month              Yes   \n",
       "7042  3186-AJIEK  2019-04-18    None        Two year              Yes   \n",
       "\n",
       "                  PaymentMethod  MonthlyCharges  TotalCharges  \n",
       "0     Bank transfer (automatic)           52.55          0.00  \n",
       "1                  Mailed check           20.25          0.00  \n",
       "3                  Mailed check           80.85          0.00  \n",
       "6                  Mailed check           25.75          0.00  \n",
       "7       Credit card (automatic)           56.05          0.00  \n",
       "...                         ...             ...           ...  \n",
       "7038  Bank transfer (automatic)           21.15       1419.40  \n",
       "7039               Mailed check           84.80       1990.50  \n",
       "7040    Credit card (automatic)          103.20       7362.90  \n",
       "7041           Electronic check           29.60        346.45  \n",
       "7042  Bank transfer (automatic)          105.65       6844.50  \n",
       "\n",
       "[5174 rows x 8 columns]"
      ]
     },
     "execution_count": 19,
     "metadata": {},
     "output_type": "execute_result"
    }
   ],
   "source": [
    "contract[contract['EndDate'].isna()]"
   ]
  },
  {
   "cell_type": "code",
   "execution_count": 20,
   "id": "4da8c605",
   "metadata": {
    "execution": {
     "iopub.execute_input": "2023-12-15T01:04:24.302228Z",
     "iopub.status.busy": "2023-12-15T01:04:24.300840Z",
     "iopub.status.idle": "2023-12-15T01:04:24.308306Z",
     "shell.execute_reply": "2023-12-15T01:04:24.307249Z",
     "shell.execute_reply.started": "2023-12-15T01:04:24.302189Z"
    }
   },
   "outputs": [],
   "source": [
    "#исправим итоговую сумму\n",
    "def fix_TotalCharges(table):\n",
    "    condition = table['EndDate'].isna()\n",
    "    table.loc[condition, 'TotalCharges'] = 0\n",
    "    return table"
   ]
  },
  {
   "cell_type": "code",
   "execution_count": 21,
   "id": "8ac0b8a1",
   "metadata": {
    "execution": {
     "iopub.execute_input": "2023-12-15T01:04:24.310902Z",
     "iopub.status.busy": "2023-12-15T01:04:24.310092Z",
     "iopub.status.idle": "2023-12-15T01:04:24.346920Z",
     "shell.execute_reply": "2023-12-15T01:04:24.345521Z",
     "shell.execute_reply.started": "2023-12-15T01:04:24.310853Z"
    }
   },
   "outputs": [
    {
     "data": {
      "text/html": [
       "<div>\n",
       "<style scoped>\n",
       "    .dataframe tbody tr th:only-of-type {\n",
       "        vertical-align: middle;\n",
       "    }\n",
       "\n",
       "    .dataframe tbody tr th {\n",
       "        vertical-align: top;\n",
       "    }\n",
       "\n",
       "    .dataframe thead th {\n",
       "        text-align: right;\n",
       "    }\n",
       "</style>\n",
       "<table border=\"1\" class=\"dataframe\">\n",
       "  <thead>\n",
       "    <tr style=\"text-align: right;\">\n",
       "      <th></th>\n",
       "      <th>customerID</th>\n",
       "      <th>BeginDate</th>\n",
       "      <th>EndDate</th>\n",
       "      <th>Type</th>\n",
       "      <th>PaperlessBilling</th>\n",
       "      <th>PaymentMethod</th>\n",
       "      <th>MonthlyCharges</th>\n",
       "      <th>TotalCharges</th>\n",
       "    </tr>\n",
       "  </thead>\n",
       "  <tbody>\n",
       "    <tr>\n",
       "      <th>0</th>\n",
       "      <td>4472-LVYGI</td>\n",
       "      <td>2020-02-01</td>\n",
       "      <td>None</td>\n",
       "      <td>Two year</td>\n",
       "      <td>Yes</td>\n",
       "      <td>Bank transfer (automatic)</td>\n",
       "      <td>52.55</td>\n",
       "      <td>0.00</td>\n",
       "    </tr>\n",
       "    <tr>\n",
       "      <th>1</th>\n",
       "      <td>3115-CZMZD</td>\n",
       "      <td>2020-02-01</td>\n",
       "      <td>None</td>\n",
       "      <td>Two year</td>\n",
       "      <td>No</td>\n",
       "      <td>Mailed check</td>\n",
       "      <td>20.25</td>\n",
       "      <td>0.00</td>\n",
       "    </tr>\n",
       "    <tr>\n",
       "      <th>3</th>\n",
       "      <td>5709-LVOEQ</td>\n",
       "      <td>2020-02-01</td>\n",
       "      <td>None</td>\n",
       "      <td>Two year</td>\n",
       "      <td>No</td>\n",
       "      <td>Mailed check</td>\n",
       "      <td>80.85</td>\n",
       "      <td>0.00</td>\n",
       "    </tr>\n",
       "    <tr>\n",
       "      <th>6</th>\n",
       "      <td>4367-NUYAO</td>\n",
       "      <td>2020-02-01</td>\n",
       "      <td>None</td>\n",
       "      <td>Two year</td>\n",
       "      <td>No</td>\n",
       "      <td>Mailed check</td>\n",
       "      <td>25.75</td>\n",
       "      <td>0.00</td>\n",
       "    </tr>\n",
       "    <tr>\n",
       "      <th>7</th>\n",
       "      <td>1371-DWPAZ</td>\n",
       "      <td>2020-02-01</td>\n",
       "      <td>None</td>\n",
       "      <td>Two year</td>\n",
       "      <td>No</td>\n",
       "      <td>Credit card (automatic)</td>\n",
       "      <td>56.05</td>\n",
       "      <td>0.00</td>\n",
       "    </tr>\n",
       "    <tr>\n",
       "      <th>...</th>\n",
       "      <td>...</td>\n",
       "      <td>...</td>\n",
       "      <td>...</td>\n",
       "      <td>...</td>\n",
       "      <td>...</td>\n",
       "      <td>...</td>\n",
       "      <td>...</td>\n",
       "      <td>...</td>\n",
       "    </tr>\n",
       "    <tr>\n",
       "      <th>7038</th>\n",
       "      <td>2569-WGERO</td>\n",
       "      <td>2019-01-21</td>\n",
       "      <td>None</td>\n",
       "      <td>Two year</td>\n",
       "      <td>Yes</td>\n",
       "      <td>Bank transfer (automatic)</td>\n",
       "      <td>21.15</td>\n",
       "      <td>1419.40</td>\n",
       "    </tr>\n",
       "    <tr>\n",
       "      <th>7039</th>\n",
       "      <td>6840-RESVB</td>\n",
       "      <td>2019-02-26</td>\n",
       "      <td>None</td>\n",
       "      <td>One year</td>\n",
       "      <td>Yes</td>\n",
       "      <td>Mailed check</td>\n",
       "      <td>84.80</td>\n",
       "      <td>1990.50</td>\n",
       "    </tr>\n",
       "    <tr>\n",
       "      <th>7040</th>\n",
       "      <td>2234-XADUH</td>\n",
       "      <td>2019-09-02</td>\n",
       "      <td>None</td>\n",
       "      <td>One year</td>\n",
       "      <td>Yes</td>\n",
       "      <td>Credit card (automatic)</td>\n",
       "      <td>103.20</td>\n",
       "      <td>7362.90</td>\n",
       "    </tr>\n",
       "    <tr>\n",
       "      <th>7041</th>\n",
       "      <td>4801-JZAZL</td>\n",
       "      <td>2019-06-26</td>\n",
       "      <td>None</td>\n",
       "      <td>Month-to-month</td>\n",
       "      <td>Yes</td>\n",
       "      <td>Electronic check</td>\n",
       "      <td>29.60</td>\n",
       "      <td>346.45</td>\n",
       "    </tr>\n",
       "    <tr>\n",
       "      <th>7042</th>\n",
       "      <td>3186-AJIEK</td>\n",
       "      <td>2019-04-18</td>\n",
       "      <td>None</td>\n",
       "      <td>Two year</td>\n",
       "      <td>Yes</td>\n",
       "      <td>Bank transfer (automatic)</td>\n",
       "      <td>105.65</td>\n",
       "      <td>6844.50</td>\n",
       "    </tr>\n",
       "  </tbody>\n",
       "</table>\n",
       "<p>5174 rows × 8 columns</p>\n",
       "</div>"
      ],
      "text/plain": [
       "      customerID   BeginDate EndDate            Type PaperlessBilling  \\\n",
       "0     4472-LVYGI  2020-02-01    None        Two year              Yes   \n",
       "1     3115-CZMZD  2020-02-01    None        Two year               No   \n",
       "3     5709-LVOEQ  2020-02-01    None        Two year               No   \n",
       "6     4367-NUYAO  2020-02-01    None        Two year               No   \n",
       "7     1371-DWPAZ  2020-02-01    None        Two year               No   \n",
       "...          ...         ...     ...             ...              ...   \n",
       "7038  2569-WGERO  2019-01-21    None        Two year              Yes   \n",
       "7039  6840-RESVB  2019-02-26    None        One year              Yes   \n",
       "7040  2234-XADUH  2019-09-02    None        One year              Yes   \n",
       "7041  4801-JZAZL  2019-06-26    None  Month-to-month              Yes   \n",
       "7042  3186-AJIEK  2019-04-18    None        Two year              Yes   \n",
       "\n",
       "                  PaymentMethod  MonthlyCharges  TotalCharges  \n",
       "0     Bank transfer (automatic)           52.55          0.00  \n",
       "1                  Mailed check           20.25          0.00  \n",
       "3                  Mailed check           80.85          0.00  \n",
       "6                  Mailed check           25.75          0.00  \n",
       "7       Credit card (automatic)           56.05          0.00  \n",
       "...                         ...             ...           ...  \n",
       "7038  Bank transfer (automatic)           21.15       1419.40  \n",
       "7039               Mailed check           84.80       1990.50  \n",
       "7040    Credit card (automatic)          103.20       7362.90  \n",
       "7041           Electronic check           29.60        346.45  \n",
       "7042  Bank transfer (automatic)          105.65       6844.50  \n",
       "\n",
       "[5174 rows x 8 columns]"
      ]
     },
     "execution_count": 21,
     "metadata": {},
     "output_type": "execute_result"
    }
   ],
   "source": [
    "#contract = fix_TotalCharges(contract)\n",
    "#проверим\n",
    "contract[contract['EndDate'].isna()]"
   ]
  },
  {
   "cell_type": "code",
   "execution_count": 22,
   "id": "af14f9f5",
   "metadata": {
    "execution": {
     "iopub.execute_input": "2023-12-15T01:04:24.349287Z",
     "iopub.status.busy": "2023-12-15T01:04:24.348833Z",
     "iopub.status.idle": "2023-12-15T01:04:24.355378Z",
     "shell.execute_reply": "2023-12-15T01:04:24.354035Z",
     "shell.execute_reply.started": "2023-12-15T01:04:24.349249Z"
    }
   },
   "outputs": [],
   "source": [
    "#исправим дату конца договора\n",
    "def to_time(row):\n",
    "    if row['EndDate'] is None:\n",
    "        row['target'] = 0\n",
    "        row['EndDate'] = '2020-02-01'\n",
    "    return row"
   ]
  },
  {
   "cell_type": "code",
   "execution_count": 23,
   "id": "5bed5c7a",
   "metadata": {
    "execution": {
     "iopub.execute_input": "2023-12-15T01:04:24.357929Z",
     "iopub.status.busy": "2023-12-15T01:04:24.357496Z",
     "iopub.status.idle": "2023-12-15T01:04:30.670706Z",
     "shell.execute_reply": "2023-12-15T01:04:30.669781Z",
     "shell.execute_reply.started": "2023-12-15T01:04:24.357891Z"
    }
   },
   "outputs": [
    {
     "data": {
      "application/vnd.jupyter.widget-view+json": {
       "model_id": "aebee3d1e55b4d7d8ab5c16973e6f550",
       "version_major": 2,
       "version_minor": 0
      },
      "text/plain": [
       "  0%|          | 0/7043 [00:00<?, ?it/s]"
      ]
     },
     "metadata": {},
     "output_type": "display_data"
    },
    {
     "data": {
      "text/html": [
       "<div>\n",
       "<style scoped>\n",
       "    .dataframe tbody tr th:only-of-type {\n",
       "        vertical-align: middle;\n",
       "    }\n",
       "\n",
       "    .dataframe tbody tr th {\n",
       "        vertical-align: top;\n",
       "    }\n",
       "\n",
       "    .dataframe thead th {\n",
       "        text-align: right;\n",
       "    }\n",
       "</style>\n",
       "<table border=\"1\" class=\"dataframe\">\n",
       "  <thead>\n",
       "    <tr style=\"text-align: right;\">\n",
       "      <th></th>\n",
       "      <th>BeginDate</th>\n",
       "      <th>EndDate</th>\n",
       "      <th>MonthlyCharges</th>\n",
       "      <th>PaperlessBilling</th>\n",
       "      <th>PaymentMethod</th>\n",
       "      <th>TotalCharges</th>\n",
       "      <th>Type</th>\n",
       "      <th>customerID</th>\n",
       "      <th>target</th>\n",
       "    </tr>\n",
       "  </thead>\n",
       "  <tbody>\n",
       "    <tr>\n",
       "      <th>0</th>\n",
       "      <td>2020-02-01</td>\n",
       "      <td>2020-02-01</td>\n",
       "      <td>52.55</td>\n",
       "      <td>Yes</td>\n",
       "      <td>Bank transfer (automatic)</td>\n",
       "      <td>0.00</td>\n",
       "      <td>Two year</td>\n",
       "      <td>4472-LVYGI</td>\n",
       "      <td>0</td>\n",
       "    </tr>\n",
       "    <tr>\n",
       "      <th>1</th>\n",
       "      <td>2020-02-01</td>\n",
       "      <td>2020-02-01</td>\n",
       "      <td>20.25</td>\n",
       "      <td>No</td>\n",
       "      <td>Mailed check</td>\n",
       "      <td>0.00</td>\n",
       "      <td>Two year</td>\n",
       "      <td>3115-CZMZD</td>\n",
       "      <td>0</td>\n",
       "    </tr>\n",
       "    <tr>\n",
       "      <th>2</th>\n",
       "      <td>2018-08-09</td>\n",
       "      <td>2019-12-01</td>\n",
       "      <td>53.85</td>\n",
       "      <td>Yes</td>\n",
       "      <td>Mailed check</td>\n",
       "      <td>108.15</td>\n",
       "      <td>Month-to-month</td>\n",
       "      <td>3668-QPYBK</td>\n",
       "      <td>1</td>\n",
       "    </tr>\n",
       "    <tr>\n",
       "      <th>3</th>\n",
       "      <td>2020-02-01</td>\n",
       "      <td>2020-02-01</td>\n",
       "      <td>80.85</td>\n",
       "      <td>No</td>\n",
       "      <td>Mailed check</td>\n",
       "      <td>0.00</td>\n",
       "      <td>Two year</td>\n",
       "      <td>5709-LVOEQ</td>\n",
       "      <td>0</td>\n",
       "    </tr>\n",
       "    <tr>\n",
       "      <th>4</th>\n",
       "      <td>2019-01-26</td>\n",
       "      <td>2019-11-01</td>\n",
       "      <td>70.70</td>\n",
       "      <td>Yes</td>\n",
       "      <td>Electronic check</td>\n",
       "      <td>151.65</td>\n",
       "      <td>Month-to-month</td>\n",
       "      <td>9237-HQITU</td>\n",
       "      <td>1</td>\n",
       "    </tr>\n",
       "  </tbody>\n",
       "</table>\n",
       "</div>"
      ],
      "text/plain": [
       "   BeginDate    EndDate  MonthlyCharges PaperlessBilling  \\\n",
       "0 2020-02-01 2020-02-01           52.55              Yes   \n",
       "1 2020-02-01 2020-02-01           20.25               No   \n",
       "2 2018-08-09 2019-12-01           53.85              Yes   \n",
       "3 2020-02-01 2020-02-01           80.85               No   \n",
       "4 2019-01-26 2019-11-01           70.70              Yes   \n",
       "\n",
       "               PaymentMethod  TotalCharges            Type  customerID  target  \n",
       "0  Bank transfer (automatic)          0.00        Two year  4472-LVYGI       0  \n",
       "1               Mailed check          0.00        Two year  3115-CZMZD       0  \n",
       "2               Mailed check        108.15  Month-to-month  3668-QPYBK       1  \n",
       "3               Mailed check          0.00        Two year  5709-LVOEQ       0  \n",
       "4           Electronic check        151.65  Month-to-month  9237-HQITU       1  "
      ]
     },
     "execution_count": 23,
     "metadata": {},
     "output_type": "execute_result"
    }
   ],
   "source": [
    "contract.EndDate = contract.EndDate.astype(object).where(contract.EndDate.notnull(), None)\n",
    "contract = contract.progress_apply(to_time, axis=1)\n",
    "contract['EndDate'] = pd.to_datetime(contract['EndDate'])\n",
    "contract['BeginDate'] = pd.to_datetime(contract['BeginDate'])\n",
    "contract['target'] = contract['target'].fillna(1).astype(int)\n",
    "contract.head()"
   ]
  },
  {
   "cell_type": "code",
   "execution_count": 25,
   "id": "fb463231",
   "metadata": {
    "execution": {
     "iopub.execute_input": "2023-12-15T01:04:30.679940Z",
     "iopub.status.busy": "2023-12-15T01:04:30.679068Z",
     "iopub.status.idle": "2023-12-15T01:04:31.452176Z",
     "shell.execute_reply": "2023-12-15T01:04:31.450654Z",
     "shell.execute_reply.started": "2023-12-15T01:04:30.679877Z"
    }
   },
   "outputs": [
    {
     "data": {
      "text/html": [
       "<div>\n",
       "<style scoped>\n",
       "    .dataframe tbody tr th:only-of-type {\n",
       "        vertical-align: middle;\n",
       "    }\n",
       "\n",
       "    .dataframe tbody tr th {\n",
       "        vertical-align: top;\n",
       "    }\n",
       "\n",
       "    .dataframe thead th {\n",
       "        text-align: right;\n",
       "    }\n",
       "</style>\n",
       "<table border=\"1\" class=\"dataframe\">\n",
       "  <thead>\n",
       "    <tr style=\"text-align: right;\">\n",
       "      <th></th>\n",
       "      <th>BeginDate</th>\n",
       "      <th>EndDate</th>\n",
       "      <th>MonthlyCharges</th>\n",
       "      <th>PaperlessBilling</th>\n",
       "      <th>PaymentMethod</th>\n",
       "      <th>TotalCharges</th>\n",
       "      <th>Type</th>\n",
       "      <th>customerID</th>\n",
       "      <th>target</th>\n",
       "    </tr>\n",
       "  </thead>\n",
       "  <tbody>\n",
       "    <tr>\n",
       "      <th>0</th>\n",
       "      <td>2020-02-01</td>\n",
       "      <td>2020-02-01</td>\n",
       "      <td>52.55</td>\n",
       "      <td>Yes</td>\n",
       "      <td>Bank transfer (automatic)</td>\n",
       "      <td>0.00</td>\n",
       "      <td>Two year</td>\n",
       "      <td>4472-LVYGI</td>\n",
       "      <td>0</td>\n",
       "    </tr>\n",
       "    <tr>\n",
       "      <th>1</th>\n",
       "      <td>2020-02-01</td>\n",
       "      <td>2020-02-01</td>\n",
       "      <td>20.25</td>\n",
       "      <td>No</td>\n",
       "      <td>Mailed check</td>\n",
       "      <td>0.00</td>\n",
       "      <td>Two year</td>\n",
       "      <td>3115-CZMZD</td>\n",
       "      <td>0</td>\n",
       "    </tr>\n",
       "    <tr>\n",
       "      <th>2</th>\n",
       "      <td>2018-08-09</td>\n",
       "      <td>2019-12-01</td>\n",
       "      <td>53.85</td>\n",
       "      <td>Yes</td>\n",
       "      <td>Mailed check</td>\n",
       "      <td>108.15</td>\n",
       "      <td>Month-to-month</td>\n",
       "      <td>3668-QPYBK</td>\n",
       "      <td>1</td>\n",
       "    </tr>\n",
       "    <tr>\n",
       "      <th>3</th>\n",
       "      <td>2020-02-01</td>\n",
       "      <td>2020-02-01</td>\n",
       "      <td>80.85</td>\n",
       "      <td>No</td>\n",
       "      <td>Mailed check</td>\n",
       "      <td>0.00</td>\n",
       "      <td>Two year</td>\n",
       "      <td>5709-LVOEQ</td>\n",
       "      <td>0</td>\n",
       "    </tr>\n",
       "    <tr>\n",
       "      <th>4</th>\n",
       "      <td>2019-01-26</td>\n",
       "      <td>2019-11-01</td>\n",
       "      <td>70.70</td>\n",
       "      <td>Yes</td>\n",
       "      <td>Electronic check</td>\n",
       "      <td>151.65</td>\n",
       "      <td>Month-to-month</td>\n",
       "      <td>9237-HQITU</td>\n",
       "      <td>1</td>\n",
       "    </tr>\n",
       "  </tbody>\n",
       "</table>\n",
       "</div>"
      ],
      "text/plain": [
       "   BeginDate    EndDate  MonthlyCharges PaperlessBilling  \\\n",
       "0 2020-02-01 2020-02-01           52.55              Yes   \n",
       "1 2020-02-01 2020-02-01           20.25               No   \n",
       "2 2018-08-09 2019-12-01           53.85              Yes   \n",
       "3 2020-02-01 2020-02-01           80.85               No   \n",
       "4 2019-01-26 2019-11-01           70.70              Yes   \n",
       "\n",
       "               PaymentMethod  TotalCharges            Type  customerID  target  \n",
       "0  Bank transfer (automatic)          0.00        Two year  4472-LVYGI       0  \n",
       "1               Mailed check          0.00        Two year  3115-CZMZD       0  \n",
       "2               Mailed check        108.15  Month-to-month  3668-QPYBK       1  \n",
       "3               Mailed check          0.00        Two year  5709-LVOEQ       0  \n",
       "4           Electronic check        151.65  Month-to-month  9237-HQITU       1  "
      ]
     },
     "metadata": {},
     "output_type": "display_data"
    },
    {
     "data": {
      "text/html": [
       "<div>\n",
       "<style scoped>\n",
       "    .dataframe tbody tr th:only-of-type {\n",
       "        vertical-align: middle;\n",
       "    }\n",
       "\n",
       "    .dataframe tbody tr th {\n",
       "        vertical-align: top;\n",
       "    }\n",
       "\n",
       "    .dataframe thead th {\n",
       "        text-align: right;\n",
       "    }\n",
       "</style>\n",
       "<table border=\"1\" class=\"dataframe\">\n",
       "  <thead>\n",
       "    <tr style=\"text-align: right;\">\n",
       "      <th></th>\n",
       "      <th>BeginDate</th>\n",
       "      <th>EndDate</th>\n",
       "      <th>MonthlyCharges</th>\n",
       "      <th>PaperlessBilling</th>\n",
       "      <th>PaymentMethod</th>\n",
       "      <th>TotalCharges</th>\n",
       "      <th>Type</th>\n",
       "      <th>customerID</th>\n",
       "      <th>target</th>\n",
       "    </tr>\n",
       "  </thead>\n",
       "  <tbody>\n",
       "    <tr>\n",
       "      <th>7038</th>\n",
       "      <td>2019-01-21</td>\n",
       "      <td>2020-02-01</td>\n",
       "      <td>21.15</td>\n",
       "      <td>Yes</td>\n",
       "      <td>Bank transfer (automatic)</td>\n",
       "      <td>1419.40</td>\n",
       "      <td>Two year</td>\n",
       "      <td>2569-WGERO</td>\n",
       "      <td>0</td>\n",
       "    </tr>\n",
       "    <tr>\n",
       "      <th>7039</th>\n",
       "      <td>2019-02-26</td>\n",
       "      <td>2020-02-01</td>\n",
       "      <td>84.80</td>\n",
       "      <td>Yes</td>\n",
       "      <td>Mailed check</td>\n",
       "      <td>1990.50</td>\n",
       "      <td>One year</td>\n",
       "      <td>6840-RESVB</td>\n",
       "      <td>0</td>\n",
       "    </tr>\n",
       "    <tr>\n",
       "      <th>7040</th>\n",
       "      <td>2019-09-02</td>\n",
       "      <td>2020-02-01</td>\n",
       "      <td>103.20</td>\n",
       "      <td>Yes</td>\n",
       "      <td>Credit card (automatic)</td>\n",
       "      <td>7362.90</td>\n",
       "      <td>One year</td>\n",
       "      <td>2234-XADUH</td>\n",
       "      <td>0</td>\n",
       "    </tr>\n",
       "    <tr>\n",
       "      <th>7041</th>\n",
       "      <td>2019-06-26</td>\n",
       "      <td>2020-02-01</td>\n",
       "      <td>29.60</td>\n",
       "      <td>Yes</td>\n",
       "      <td>Electronic check</td>\n",
       "      <td>346.45</td>\n",
       "      <td>Month-to-month</td>\n",
       "      <td>4801-JZAZL</td>\n",
       "      <td>0</td>\n",
       "    </tr>\n",
       "    <tr>\n",
       "      <th>7042</th>\n",
       "      <td>2019-04-18</td>\n",
       "      <td>2020-02-01</td>\n",
       "      <td>105.65</td>\n",
       "      <td>Yes</td>\n",
       "      <td>Bank transfer (automatic)</td>\n",
       "      <td>6844.50</td>\n",
       "      <td>Two year</td>\n",
       "      <td>3186-AJIEK</td>\n",
       "      <td>0</td>\n",
       "    </tr>\n",
       "  </tbody>\n",
       "</table>\n",
       "</div>"
      ],
      "text/plain": [
       "      BeginDate    EndDate  MonthlyCharges PaperlessBilling  \\\n",
       "7038 2019-01-21 2020-02-01           21.15              Yes   \n",
       "7039 2019-02-26 2020-02-01           84.80              Yes   \n",
       "7040 2019-09-02 2020-02-01          103.20              Yes   \n",
       "7041 2019-06-26 2020-02-01           29.60              Yes   \n",
       "7042 2019-04-18 2020-02-01          105.65              Yes   \n",
       "\n",
       "                  PaymentMethod  TotalCharges            Type  customerID  \\\n",
       "7038  Bank transfer (automatic)       1419.40        Two year  2569-WGERO   \n",
       "7039               Mailed check       1990.50        One year  6840-RESVB   \n",
       "7040    Credit card (automatic)       7362.90        One year  2234-XADUH   \n",
       "7041           Electronic check        346.45  Month-to-month  4801-JZAZL   \n",
       "7042  Bank transfer (automatic)       6844.50        Two year  3186-AJIEK   \n",
       "\n",
       "      target  \n",
       "7038       0  \n",
       "7039       0  \n",
       "7040       0  \n",
       "7041       0  \n",
       "7042       0  "
      ]
     },
     "metadata": {},
     "output_type": "display_data"
    }
   ],
   "source": [
    "#contract = contract.progress_apply(fix2_TotalCharges, axis=1)\n",
    "display(contract.head())\n",
    "display(contract.tail())"
   ]
  },
  {
   "cell_type": "code",
   "execution_count": 26,
   "id": "5faf6b5a",
   "metadata": {
    "execution": {
     "iopub.execute_input": "2023-12-15T01:04:31.454564Z",
     "iopub.status.busy": "2023-12-15T01:04:31.454001Z",
     "iopub.status.idle": "2023-12-15T01:04:31.465471Z",
     "shell.execute_reply": "2023-12-15T01:04:31.463886Z",
     "shell.execute_reply.started": "2023-12-15T01:04:31.454520Z"
    }
   },
   "outputs": [
    {
     "name": "stdout",
     "output_type": "stream",
     "text": [
      "2018-04-17 00:00:00 2020-02-01 00:00:00\n",
      "2019-10-01 00:00:00 2020-02-01 00:00:00\n"
     ]
    }
   ],
   "source": [
    "#проверим временной интервал\n",
    "print(contract['BeginDate'].min(), contract['BeginDate'].max())\n",
    "print(contract['EndDate'].min(), contract['EndDate'].max())"
   ]
  },
  {
   "cell_type": "code",
   "execution_count": 27,
   "id": "751098b1",
   "metadata": {
    "execution": {
     "iopub.execute_input": "2023-12-15T01:04:31.468071Z",
     "iopub.status.busy": "2023-12-15T01:04:31.467500Z",
     "iopub.status.idle": "2023-12-15T01:04:31.482246Z",
     "shell.execute_reply": "2023-12-15T01:04:31.481182Z",
     "shell.execute_reply.started": "2023-12-15T01:04:31.468030Z"
    }
   },
   "outputs": [],
   "source": [
    "def hist_box(df, col):\n",
    "    fig,ax = plt.subplots(2,1, sharex=True, figsize=(6,6), \n",
    "                          gridspec_kw={'height_ratios': [3, 1]})\n",
    "    \n",
    "    sns.histplot(data=df,x=col,bins=100, \n",
    "                 ax=ax[0]).set(title=f'Distribution of {col}')\n",
    "    \n",
    "    sns.boxplot(data=df, x=col, ax=ax[1])\n",
    "    \n",
    "    return plt.show();"
   ]
  },
  {
   "cell_type": "code",
   "execution_count": 28,
   "id": "f895ef9c",
   "metadata": {
    "execution": {
     "iopub.execute_input": "2023-12-15T01:04:31.494644Z",
     "iopub.status.busy": "2023-12-15T01:04:31.493892Z",
     "iopub.status.idle": "2023-12-15T01:04:32.167075Z",
     "shell.execute_reply": "2023-12-15T01:04:32.165895Z",
     "shell.execute_reply.started": "2023-12-15T01:04:31.494605Z"
    }
   },
   "outputs": [
    {
     "data": {
      "image/png": "[encoded data removed]",
      "text/plain": [
       "<Figure size 432x432 with 2 Axes>"
      ]
     },
     "metadata": {
      "needs_background": "light"
     },
     "output_type": "display_data"
    }
   ],
   "source": [
    "hist_box(contract,'TotalCharges')"
   ]
  },
  {
   "cell_type": "code",
   "execution_count": 29,
   "id": "3d7c5640",
   "metadata": {
    "execution": {
     "iopub.execute_input": "2023-12-15T01:04:32.168768Z",
     "iopub.status.busy": "2023-12-15T01:04:32.168392Z",
     "iopub.status.idle": "2023-12-15T01:04:32.849240Z",
     "shell.execute_reply": "2023-12-15T01:04:32.848174Z",
     "shell.execute_reply.started": "2023-12-15T01:04:32.168737Z"
    }
   },
   "outputs": [
    {
     "data": {
      "image/png": "[encoded data removed]",
      "text/plain": [
       "<Figure size 432x432 with 2 Axes>"
      ]
     },
     "metadata": {
      "needs_background": "light"
     },
     "output_type": "display_data"
    }
   ],
   "source": [
    "hist_box(contract,'MonthlyCharges')"
   ]
  },
  {
   "cell_type": "code",
   "execution_count": 30,
   "id": "f8ea5c38",
   "metadata": {
    "execution": {
     "iopub.execute_input": "2023-12-15T01:04:32.851355Z",
     "iopub.status.busy": "2023-12-15T01:04:32.850958Z",
     "iopub.status.idle": "2023-12-15T01:04:32.864636Z",
     "shell.execute_reply": "2023-12-15T01:04:32.863555Z",
     "shell.execute_reply.started": "2023-12-15T01:04:32.851321Z"
    }
   },
   "outputs": [
    {
     "name": "stdout",
     "output_type": "stream",
     "text": [
      "7032\n",
      "11\n"
     ]
    }
   ],
   "source": [
    "print(len(contract[contract['TotalCharges'] != 0]))\n",
    "print(len(contract[contract['TotalCharges'] == 0])) "
   ]
  },
  {
   "cell_type": "code",
   "execution_count": 31,
   "id": "e9f7d200",
   "metadata": {
    "execution": {
     "iopub.execute_input": "2023-12-15T01:04:32.877014Z",
     "iopub.status.busy": "2023-12-15T01:04:32.876579Z",
     "iopub.status.idle": "2023-12-15T01:04:32.890931Z",
     "shell.execute_reply": "2023-12-15T01:04:32.889233Z",
     "shell.execute_reply.started": "2023-12-15T01:04:32.876979Z"
    }
   },
   "outputs": [
    {
     "data": {
      "text/plain": [
       "Yes    0.592219\n",
       "No     0.407781\n",
       "Name: PaperlessBilling, dtype: float64"
      ]
     },
     "execution_count": 31,
     "metadata": {},
     "output_type": "execute_result"
    }
   ],
   "source": [
    "#2954 / contract.shape[0] * 100, 4089 / contract.shape[0] * 100\n",
    "\n",
    "contract['PaperlessBilling'].value_counts(normalize=True)"
   ]
  },
  {
   "cell_type": "markdown",
   "id": "79bd7ab7",
   "metadata": {},
   "source": [
    "**Общий вывод таблица `contract`:**\n",
    "- Исправили итоговую сумму, где было пропущенное значение в окончании даты договора, итоговая сумма будет равна 0\n",
    "- Исправили дату коцна договора, если она отсутствует, значит клиент активен, поставим дату начала договора, в дальнейшем пригодиться нам для генерации признака\n",
    "- Пересчитали итоговую сумму для клиентов, которые платят по месяцам\n",
    "- Убрали 0 значения случайным образом, получается где 0 значит клиент пользуется услугами, больше 0 клиент ушел, по сути присутствеут дисбаланс классов, 19% активных и 59% неактивных, это нормально в данной отрасли, если бы значение было бы 50/50 значит у фирмы проблемы\n",
    "***"
   ]
  },
  {
   "cell_type": "markdown",
   "id": "ce5e0590",
   "metadata": {},
   "source": [
    "**Таблица personal**"
   ]
  },
  {
   "cell_type": "code",
   "execution_count": 32,
   "id": "93f499d9",
   "metadata": {
    "execution": {
     "iopub.execute_input": "2023-12-15T01:04:32.893467Z",
     "iopub.status.busy": "2023-12-15T01:04:32.892983Z",
     "iopub.status.idle": "2023-12-15T01:04:32.937461Z",
     "shell.execute_reply": "2023-12-15T01:04:32.936517Z",
     "shell.execute_reply.started": "2023-12-15T01:04:32.893402Z"
    }
   },
   "outputs": [
    {
     "data": {
      "text/html": [
       "<div>\n",
       "<style scoped>\n",
       "    .dataframe tbody tr th:only-of-type {\n",
       "        vertical-align: middle;\n",
       "    }\n",
       "\n",
       "    .dataframe tbody tr th {\n",
       "        vertical-align: top;\n",
       "    }\n",
       "\n",
       "    .dataframe thead th {\n",
       "        text-align: right;\n",
       "    }\n",
       "</style>\n",
       "<table border=\"1\" class=\"dataframe\">\n",
       "  <thead>\n",
       "    <tr style=\"text-align: right;\">\n",
       "      <th></th>\n",
       "      <th>customerID</th>\n",
       "      <th>gender</th>\n",
       "      <th>SeniorCitizen</th>\n",
       "      <th>Partner</th>\n",
       "      <th>Dependents</th>\n",
       "    </tr>\n",
       "  </thead>\n",
       "  <tbody>\n",
       "    <tr>\n",
       "      <th>0</th>\n",
       "      <td>7590-VHVEG</td>\n",
       "      <td>Female</td>\n",
       "      <td>0</td>\n",
       "      <td>Yes</td>\n",
       "      <td>No</td>\n",
       "    </tr>\n",
       "    <tr>\n",
       "      <th>1</th>\n",
       "      <td>5575-GNVDE</td>\n",
       "      <td>Male</td>\n",
       "      <td>0</td>\n",
       "      <td>No</td>\n",
       "      <td>No</td>\n",
       "    </tr>\n",
       "    <tr>\n",
       "      <th>2</th>\n",
       "      <td>3668-QPYBK</td>\n",
       "      <td>Male</td>\n",
       "      <td>0</td>\n",
       "      <td>No</td>\n",
       "      <td>No</td>\n",
       "    </tr>\n",
       "    <tr>\n",
       "      <th>3</th>\n",
       "      <td>7795-CFOCW</td>\n",
       "      <td>Male</td>\n",
       "      <td>0</td>\n",
       "      <td>No</td>\n",
       "      <td>No</td>\n",
       "    </tr>\n",
       "    <tr>\n",
       "      <th>4</th>\n",
       "      <td>9237-HQITU</td>\n",
       "      <td>Female</td>\n",
       "      <td>0</td>\n",
       "      <td>No</td>\n",
       "      <td>No</td>\n",
       "    </tr>\n",
       "  </tbody>\n",
       "</table>\n",
       "</div>"
      ],
      "text/plain": [
       "   customerID  gender  SeniorCitizen Partner Dependents\n",
       "0  7590-VHVEG  Female              0     Yes         No\n",
       "1  5575-GNVDE    Male              0      No         No\n",
       "2  3668-QPYBK    Male              0      No         No\n",
       "3  7795-CFOCW    Male              0      No         No\n",
       "4  9237-HQITU  Female              0      No         No"
      ]
     },
     "metadata": {},
     "output_type": "display_data"
    },
    {
     "name": "stdout",
     "output_type": "stream",
     "text": [
      "Размер таблицы: (7043, 5)\n",
      "\n",
      "Типы данных таблицы: \n",
      "customerID       object\n",
      "gender           object\n",
      "SeniorCitizen     int64\n",
      "Partner          object\n",
      "Dependents       object\n",
      "dtype: object\n",
      "\n",
      "Пропусков в таблице: \n",
      "customerID       0\n",
      "gender           0\n",
      "SeniorCitizen    0\n",
      "Partner          0\n",
      "Dependents       0\n",
      "dtype: int64\n",
      "\n",
      "Дубликатов в таблице: 0\n",
      "\n",
      "Признак: customerID \n",
      "Кол-во значений: \n",
      "7148-XZPHA    1\n",
      "2122-SZZZD    1\n",
      "7945-PRBVF    1\n",
      "3071-MVJCD    1\n",
      "7698-YFGEZ    1\n",
      "             ..\n",
      "4487-ZYJZK    1\n",
      "6434-TTGJP    1\n",
      "8133-ANHHJ    1\n",
      "9507-EXLTT    1\n",
      "5047-LHVLY    1\n",
      "Name: customerID, Length: 7043, dtype: int64\n",
      "\n",
      "Признак: gender \n",
      "Кол-во значений: \n",
      "Male      3555\n",
      "Female    3488\n",
      "Name: gender, dtype: int64\n",
      "\n",
      "Признак: SeniorCitizen \n",
      "Кол-во значений: \n",
      "0    5901\n",
      "1    1142\n",
      "Name: SeniorCitizen, dtype: int64\n",
      "\n",
      "Признак: Partner \n",
      "Кол-во значений: \n",
      "No     3641\n",
      "Yes    3402\n",
      "Name: Partner, dtype: int64\n",
      "\n",
      "Признак: Dependents \n",
      "Кол-во значений: \n",
      "No     4933\n",
      "Yes    2110\n",
      "Name: Dependents, dtype: int64\n",
      "\n"
     ]
    }
   ],
   "source": [
    "eda(personal)"
   ]
  },
  {
   "cell_type": "markdown",
   "id": "7a1c283d",
   "metadata": {},
   "source": [
    "**Общий вывод таблица `personal`**\n",
    "- Размер таблицы 7043 тыс. объектов, и 4 признака для каждого\n",
    "- Практически одинаково и мужчины и женщины пользуются данным оператором (gender)\n",
    "- Больше всего граждан трудоспособного возраста пользуются данным оператором (SeniorCitizen)\n",
    "- Практически равное кол-во абонентов в браке и не в браке\n",
    "- Большее кол-во абонентов без детей\n",
    "- Пропусков в данной таблице нет\n",
    "****"
   ]
  },
  {
   "cell_type": "markdown",
   "id": "ddc0a17b",
   "metadata": {},
   "source": [
    "**Таблица internet**"
   ]
  },
  {
   "cell_type": "code",
   "execution_count": 33,
   "id": "083e5c27",
   "metadata": {
    "execution": {
     "iopub.execute_input": "2023-12-15T01:04:32.939629Z",
     "iopub.status.busy": "2023-12-15T01:04:32.939004Z",
     "iopub.status.idle": "2023-12-15T01:04:32.991718Z",
     "shell.execute_reply": "2023-12-15T01:04:32.990329Z",
     "shell.execute_reply.started": "2023-12-15T01:04:32.939590Z"
    }
   },
   "outputs": [
    {
     "data": {
      "text/html": [
       "<div>\n",
       "<style scoped>\n",
       "    .dataframe tbody tr th:only-of-type {\n",
       "        vertical-align: middle;\n",
       "    }\n",
       "\n",
       "    .dataframe tbody tr th {\n",
       "        vertical-align: top;\n",
       "    }\n",
       "\n",
       "    .dataframe thead th {\n",
       "        text-align: right;\n",
       "    }\n",
       "</style>\n",
       "<table border=\"1\" class=\"dataframe\">\n",
       "  <thead>\n",
       "    <tr style=\"text-align: right;\">\n",
       "      <th></th>\n",
       "      <th>customerID</th>\n",
       "      <th>InternetService</th>\n",
       "      <th>OnlineSecurity</th>\n",
       "      <th>OnlineBackup</th>\n",
       "      <th>DeviceProtection</th>\n",
       "      <th>TechSupport</th>\n",
       "      <th>StreamingTV</th>\n",
       "      <th>StreamingMovies</th>\n",
       "    </tr>\n",
       "  </thead>\n",
       "  <tbody>\n",
       "    <tr>\n",
       "      <th>0</th>\n",
       "      <td>7590-VHVEG</td>\n",
       "      <td>DSL</td>\n",
       "      <td>No</td>\n",
       "      <td>Yes</td>\n",
       "      <td>No</td>\n",
       "      <td>No</td>\n",
       "      <td>No</td>\n",
       "      <td>No</td>\n",
       "    </tr>\n",
       "    <tr>\n",
       "      <th>1</th>\n",
       "      <td>5575-GNVDE</td>\n",
       "      <td>DSL</td>\n",
       "      <td>Yes</td>\n",
       "      <td>No</td>\n",
       "      <td>Yes</td>\n",
       "      <td>No</td>\n",
       "      <td>No</td>\n",
       "      <td>No</td>\n",
       "    </tr>\n",
       "    <tr>\n",
       "      <th>2</th>\n",
       "      <td>3668-QPYBK</td>\n",
       "      <td>DSL</td>\n",
       "      <td>Yes</td>\n",
       "      <td>Yes</td>\n",
       "      <td>No</td>\n",
       "      <td>No</td>\n",
       "      <td>No</td>\n",
       "      <td>No</td>\n",
       "    </tr>\n",
       "    <tr>\n",
       "      <th>3</th>\n",
       "      <td>7795-CFOCW</td>\n",
       "      <td>DSL</td>\n",
       "      <td>Yes</td>\n",
       "      <td>No</td>\n",
       "      <td>Yes</td>\n",
       "      <td>Yes</td>\n",
       "      <td>No</td>\n",
       "      <td>No</td>\n",
       "    </tr>\n",
       "    <tr>\n",
       "      <th>4</th>\n",
       "      <td>9237-HQITU</td>\n",
       "      <td>Fiber optic</td>\n",
       "      <td>No</td>\n",
       "      <td>No</td>\n",
       "      <td>No</td>\n",
       "      <td>No</td>\n",
       "      <td>No</td>\n",
       "      <td>No</td>\n",
       "    </tr>\n",
       "  </tbody>\n",
       "</table>\n",
       "</div>"
      ],
      "text/plain": [
       "   customerID InternetService OnlineSecurity OnlineBackup DeviceProtection  \\\n",
       "0  7590-VHVEG             DSL             No          Yes               No   \n",
       "1  5575-GNVDE             DSL            Yes           No              Yes   \n",
       "2  3668-QPYBK             DSL            Yes          Yes               No   \n",
       "3  7795-CFOCW             DSL            Yes           No              Yes   \n",
       "4  9237-HQITU     Fiber optic             No           No               No   \n",
       "\n",
       "  TechSupport StreamingTV StreamingMovies  \n",
       "0          No          No              No  \n",
       "1          No          No              No  \n",
       "2          No          No              No  \n",
       "3         Yes          No              No  \n",
       "4          No          No              No  "
      ]
     },
     "metadata": {},
     "output_type": "display_data"
    },
    {
     "name": "stdout",
     "output_type": "stream",
     "text": [
      "Размер таблицы: (5517, 8)\n",
      "\n",
      "Типы данных таблицы: \n",
      "customerID          object\n",
      "InternetService     object\n",
      "OnlineSecurity      object\n",
      "OnlineBackup        object\n",
      "DeviceProtection    object\n",
      "TechSupport         object\n",
      "StreamingTV         object\n",
      "StreamingMovies     object\n",
      "dtype: object\n",
      "\n",
      "Пропусков в таблице: \n",
      "customerID          0\n",
      "InternetService     0\n",
      "OnlineSecurity      0\n",
      "OnlineBackup        0\n",
      "DeviceProtection    0\n",
      "TechSupport         0\n",
      "StreamingTV         0\n",
      "StreamingMovies     0\n",
      "dtype: int64\n",
      "\n",
      "Дубликатов в таблице: 0\n",
      "\n",
      "Признак: customerID \n",
      "Кол-во значений: \n",
      "9058-HRZSV    1\n",
      "9894-EZEWG    1\n",
      "9174-IHETN    1\n",
      "9342-VNIMQ    1\n",
      "1791-PQHBB    1\n",
      "             ..\n",
      "9715-WZCLW    1\n",
      "7825-GKXMW    1\n",
      "1846-XWOQN    1\n",
      "7776-QWNFX    1\n",
      "5047-LHVLY    1\n",
      "Name: customerID, Length: 5517, dtype: int64\n",
      "\n",
      "Признак: InternetService \n",
      "Кол-во значений: \n",
      "Fiber optic    3096\n",
      "DSL            2421\n",
      "Name: InternetService, dtype: int64\n",
      "\n",
      "Признак: OnlineSecurity \n",
      "Кол-во значений: \n",
      "No     3498\n",
      "Yes    2019\n",
      "Name: OnlineSecurity, dtype: int64\n",
      "\n",
      "Признак: OnlineBackup \n",
      "Кол-во значений: \n",
      "No     3088\n",
      "Yes    2429\n",
      "Name: OnlineBackup, dtype: int64\n",
      "\n",
      "Признак: DeviceProtection \n",
      "Кол-во значений: \n",
      "No     3095\n",
      "Yes    2422\n",
      "Name: DeviceProtection, dtype: int64\n",
      "\n",
      "Признак: TechSupport \n",
      "Кол-во значений: \n",
      "No     3473\n",
      "Yes    2044\n",
      "Name: TechSupport, dtype: int64\n",
      "\n",
      "Признак: StreamingTV \n",
      "Кол-во значений: \n",
      "No     2810\n",
      "Yes    2707\n",
      "Name: StreamingTV, dtype: int64\n",
      "\n",
      "Признак: StreamingMovies \n",
      "Кол-во значений: \n",
      "No     2785\n",
      "Yes    2732\n",
      "Name: StreamingMovies, dtype: int64\n",
      "\n"
     ]
    }
   ],
   "source": [
    "eda(internet)"
   ]
  },
  {
   "cell_type": "markdown",
   "id": "93eead2e",
   "metadata": {},
   "source": [
    "**Общий вывод таблица `internet`**\n",
    "- Размер таблицы 5517 тыс. объектов и 7 признаков для каждого\n",
    "- Большее кол-во пользуются типом подключения Fiber optic (InternetService)\n",
    "- У большего кол-ва пользователей не установлена блокировка опасных сайтов (OnlineSecurity)\n",
    "- У большего кол-ва пользователей не установлено облачное хранилище (OnlineBackup)\n",
    "- У большего кол-ва пользователей не установлен антивирус (DeviceProtection)\n",
    "- У большего кол-ва пользователей нет выделенной линии тех.поддержки (TechSupport)\n",
    "- Практически одинаковое кол-во пользователей с подключенным и не подключенным стриминговым тв (StreamingTV)\n",
    "- Практически одинаковое кол-во пользователей с подключенным и не подключенным каталогом фильмов (StreamingMovies)\n",
    "****"
   ]
  },
  {
   "cell_type": "markdown",
   "id": "44606e6d",
   "metadata": {},
   "source": [
    "**Таблица phone**"
   ]
  },
  {
   "cell_type": "code",
   "execution_count": 34,
   "id": "52cc1895",
   "metadata": {
    "execution": {
     "iopub.execute_input": "2023-12-15T01:04:32.993413Z",
     "iopub.status.busy": "2023-12-15T01:04:32.993094Z",
     "iopub.status.idle": "2023-12-15T01:04:33.021561Z",
     "shell.execute_reply": "2023-12-15T01:04:33.020067Z",
     "shell.execute_reply.started": "2023-12-15T01:04:32.993384Z"
    }
   },
   "outputs": [
    {
     "data": {
      "text/html": [
       "<div>\n",
       "<style scoped>\n",
       "    .dataframe tbody tr th:only-of-type {\n",
       "        vertical-align: middle;\n",
       "    }\n",
       "\n",
       "    .dataframe tbody tr th {\n",
       "        vertical-align: top;\n",
       "    }\n",
       "\n",
       "    .dataframe thead th {\n",
       "        text-align: right;\n",
       "    }\n",
       "</style>\n",
       "<table border=\"1\" class=\"dataframe\">\n",
       "  <thead>\n",
       "    <tr style=\"text-align: right;\">\n",
       "      <th></th>\n",
       "      <th>customerID</th>\n",
       "      <th>MultipleLines</th>\n",
       "    </tr>\n",
       "  </thead>\n",
       "  <tbody>\n",
       "    <tr>\n",
       "      <th>0</th>\n",
       "      <td>5575-GNVDE</td>\n",
       "      <td>No</td>\n",
       "    </tr>\n",
       "    <tr>\n",
       "      <th>1</th>\n",
       "      <td>3668-QPYBK</td>\n",
       "      <td>No</td>\n",
       "    </tr>\n",
       "    <tr>\n",
       "      <th>2</th>\n",
       "      <td>9237-HQITU</td>\n",
       "      <td>No</td>\n",
       "    </tr>\n",
       "    <tr>\n",
       "      <th>3</th>\n",
       "      <td>9305-CDSKC</td>\n",
       "      <td>Yes</td>\n",
       "    </tr>\n",
       "    <tr>\n",
       "      <th>4</th>\n",
       "      <td>1452-KIOVK</td>\n",
       "      <td>Yes</td>\n",
       "    </tr>\n",
       "  </tbody>\n",
       "</table>\n",
       "</div>"
      ],
      "text/plain": [
       "   customerID MultipleLines\n",
       "0  5575-GNVDE            No\n",
       "1  3668-QPYBK            No\n",
       "2  9237-HQITU            No\n",
       "3  9305-CDSKC           Yes\n",
       "4  1452-KIOVK           Yes"
      ]
     },
     "metadata": {},
     "output_type": "display_data"
    },
    {
     "name": "stdout",
     "output_type": "stream",
     "text": [
      "Размер таблицы: (6361, 2)\n",
      "\n",
      "Типы данных таблицы: \n",
      "customerID       object\n",
      "MultipleLines    object\n",
      "dtype: object\n",
      "\n",
      "Пропусков в таблице: \n",
      "customerID       0\n",
      "MultipleLines    0\n",
      "dtype: int64\n",
      "\n",
      "Дубликатов в таблице: 0\n",
      "\n",
      "Признак: customerID \n",
      "Кол-во значений: \n",
      "7148-XZPHA    1\n",
      "0730-KOAVE    1\n",
      "1325-USMEC    1\n",
      "1196-AMORA    1\n",
      "2801-NISEI    1\n",
      "             ..\n",
      "9972-NKTFD    1\n",
      "1265-BCFEO    1\n",
      "0608-JDVEC    1\n",
      "2545-EBUPK    1\n",
      "5047-LHVLY    1\n",
      "Name: customerID, Length: 6361, dtype: int64\n",
      "\n",
      "Признак: MultipleLines \n",
      "Кол-во значений: \n",
      "No     3390\n",
      "Yes    2971\n",
      "Name: MultipleLines, dtype: int64\n",
      "\n"
     ]
    }
   ],
   "source": [
    "eda(phone)"
   ]
  },
  {
   "cell_type": "markdown",
   "id": "472a8638",
   "metadata": {},
   "source": [
    "**Общий вывод таблица `phone`**\n",
    "- Размер таблицы 6361 тыс.объектов и 1 признак\n",
    "- Пропусков в данной таблице нет\n",
    "- Большее кол-во абонентов не пользуются услугой подключения к нескольким линиям одновременно"
   ]
  },
  {
   "cell_type": "markdown",
   "id": "9fc2267a",
   "metadata": {},
   "source": [
    "### 1.2 Исследовательский анализ\n"
   ]
  },
  {
   "cell_type": "code",
   "execution_count": 35,
   "id": "3b343d08",
   "metadata": {
    "execution": {
     "iopub.execute_input": "2023-12-15T01:04:33.023659Z",
     "iopub.status.busy": "2023-12-15T01:04:33.023242Z",
     "iopub.status.idle": "2023-12-15T01:04:33.077289Z",
     "shell.execute_reply": "2023-12-15T01:04:33.075946Z",
     "shell.execute_reply.started": "2023-12-15T01:04:33.023627Z"
    }
   },
   "outputs": [],
   "source": [
    "#соединим\n",
    "data = reduce(lambda left, right: pd.merge(left,right,on=['customerID'], how='outer'), \n",
    "              [contract, personal, internet, phone])"
   ]
  },
  {
   "cell_type": "code",
   "execution_count": 36,
   "id": "6f91ca09",
   "metadata": {
    "execution": {
     "iopub.execute_input": "2023-12-15T01:04:33.079731Z",
     "iopub.status.busy": "2023-12-15T01:04:33.079348Z",
     "iopub.status.idle": "2023-12-15T01:04:33.134093Z",
     "shell.execute_reply": "2023-12-15T01:04:33.132585Z",
     "shell.execute_reply.started": "2023-12-15T01:04:33.079698Z"
    }
   },
   "outputs": [
    {
     "name": "stdout",
     "output_type": "stream",
     "text": [
      "Размер после объединения: (7043, 21)\n",
      "Кол-во уникальных пользователей: 7043\n"
     ]
    },
    {
     "data": {
      "text/html": [
       "<div>\n",
       "<style scoped>\n",
       "    .dataframe tbody tr th:only-of-type {\n",
       "        vertical-align: middle;\n",
       "    }\n",
       "\n",
       "    .dataframe tbody tr th {\n",
       "        vertical-align: top;\n",
       "    }\n",
       "\n",
       "    .dataframe thead th {\n",
       "        text-align: right;\n",
       "    }\n",
       "</style>\n",
       "<table border=\"1\" class=\"dataframe\">\n",
       "  <thead>\n",
       "    <tr style=\"text-align: right;\">\n",
       "      <th></th>\n",
       "      <th>BeginDate</th>\n",
       "      <th>EndDate</th>\n",
       "      <th>MonthlyCharges</th>\n",
       "      <th>PaperlessBilling</th>\n",
       "      <th>PaymentMethod</th>\n",
       "      <th>TotalCharges</th>\n",
       "      <th>Type</th>\n",
       "      <th>customerID</th>\n",
       "      <th>target</th>\n",
       "      <th>gender</th>\n",
       "      <th>...</th>\n",
       "      <th>Partner</th>\n",
       "      <th>Dependents</th>\n",
       "      <th>InternetService</th>\n",
       "      <th>OnlineSecurity</th>\n",
       "      <th>OnlineBackup</th>\n",
       "      <th>DeviceProtection</th>\n",
       "      <th>TechSupport</th>\n",
       "      <th>StreamingTV</th>\n",
       "      <th>StreamingMovies</th>\n",
       "      <th>MultipleLines</th>\n",
       "    </tr>\n",
       "  </thead>\n",
       "  <tbody>\n",
       "    <tr>\n",
       "      <th>0</th>\n",
       "      <td>2020-02-01</td>\n",
       "      <td>2020-02-01</td>\n",
       "      <td>52.55</td>\n",
       "      <td>Yes</td>\n",
       "      <td>Bank transfer (automatic)</td>\n",
       "      <td>0.00</td>\n",
       "      <td>Two year</td>\n",
       "      <td>4472-LVYGI</td>\n",
       "      <td>0</td>\n",
       "      <td>Female</td>\n",
       "      <td>...</td>\n",
       "      <td>Yes</td>\n",
       "      <td>Yes</td>\n",
       "      <td>DSL</td>\n",
       "      <td>Yes</td>\n",
       "      <td>No</td>\n",
       "      <td>Yes</td>\n",
       "      <td>Yes</td>\n",
       "      <td>Yes</td>\n",
       "      <td>No</td>\n",
       "      <td>NaN</td>\n",
       "    </tr>\n",
       "    <tr>\n",
       "      <th>1</th>\n",
       "      <td>2020-02-01</td>\n",
       "      <td>2020-02-01</td>\n",
       "      <td>20.25</td>\n",
       "      <td>No</td>\n",
       "      <td>Mailed check</td>\n",
       "      <td>0.00</td>\n",
       "      <td>Two year</td>\n",
       "      <td>3115-CZMZD</td>\n",
       "      <td>0</td>\n",
       "      <td>Male</td>\n",
       "      <td>...</td>\n",
       "      <td>No</td>\n",
       "      <td>Yes</td>\n",
       "      <td>NaN</td>\n",
       "      <td>NaN</td>\n",
       "      <td>NaN</td>\n",
       "      <td>NaN</td>\n",
       "      <td>NaN</td>\n",
       "      <td>NaN</td>\n",
       "      <td>NaN</td>\n",
       "      <td>No</td>\n",
       "    </tr>\n",
       "    <tr>\n",
       "      <th>2</th>\n",
       "      <td>2018-08-09</td>\n",
       "      <td>2019-12-01</td>\n",
       "      <td>53.85</td>\n",
       "      <td>Yes</td>\n",
       "      <td>Mailed check</td>\n",
       "      <td>108.15</td>\n",
       "      <td>Month-to-month</td>\n",
       "      <td>3668-QPYBK</td>\n",
       "      <td>1</td>\n",
       "      <td>Male</td>\n",
       "      <td>...</td>\n",
       "      <td>No</td>\n",
       "      <td>No</td>\n",
       "      <td>DSL</td>\n",
       "      <td>Yes</td>\n",
       "      <td>Yes</td>\n",
       "      <td>No</td>\n",
       "      <td>No</td>\n",
       "      <td>No</td>\n",
       "      <td>No</td>\n",
       "      <td>No</td>\n",
       "    </tr>\n",
       "    <tr>\n",
       "      <th>3</th>\n",
       "      <td>2020-02-01</td>\n",
       "      <td>2020-02-01</td>\n",
       "      <td>80.85</td>\n",
       "      <td>No</td>\n",
       "      <td>Mailed check</td>\n",
       "      <td>0.00</td>\n",
       "      <td>Two year</td>\n",
       "      <td>5709-LVOEQ</td>\n",
       "      <td>0</td>\n",
       "      <td>Female</td>\n",
       "      <td>...</td>\n",
       "      <td>Yes</td>\n",
       "      <td>Yes</td>\n",
       "      <td>DSL</td>\n",
       "      <td>Yes</td>\n",
       "      <td>Yes</td>\n",
       "      <td>Yes</td>\n",
       "      <td>No</td>\n",
       "      <td>Yes</td>\n",
       "      <td>Yes</td>\n",
       "      <td>No</td>\n",
       "    </tr>\n",
       "    <tr>\n",
       "      <th>4</th>\n",
       "      <td>2019-01-26</td>\n",
       "      <td>2019-11-01</td>\n",
       "      <td>70.70</td>\n",
       "      <td>Yes</td>\n",
       "      <td>Electronic check</td>\n",
       "      <td>151.65</td>\n",
       "      <td>Month-to-month</td>\n",
       "      <td>9237-HQITU</td>\n",
       "      <td>1</td>\n",
       "      <td>Female</td>\n",
       "      <td>...</td>\n",
       "      <td>No</td>\n",
       "      <td>No</td>\n",
       "      <td>Fiber optic</td>\n",
       "      <td>No</td>\n",
       "      <td>No</td>\n",
       "      <td>No</td>\n",
       "      <td>No</td>\n",
       "      <td>No</td>\n",
       "      <td>No</td>\n",
       "      <td>No</td>\n",
       "    </tr>\n",
       "  </tbody>\n",
       "</table>\n",
       "<p>5 rows × 21 columns</p>\n",
       "</div>"
      ],
      "text/plain": [
       "   BeginDate    EndDate  MonthlyCharges PaperlessBilling  \\\n",
       "0 2020-02-01 2020-02-01           52.55              Yes   \n",
       "1 2020-02-01 2020-02-01           20.25               No   \n",
       "2 2018-08-09 2019-12-01           53.85              Yes   \n",
       "3 2020-02-01 2020-02-01           80.85               No   \n",
       "4 2019-01-26 2019-11-01           70.70              Yes   \n",
       "\n",
       "               PaymentMethod  TotalCharges            Type  customerID  \\\n",
       "0  Bank transfer (automatic)          0.00        Two year  4472-LVYGI   \n",
       "1               Mailed check          0.00        Two year  3115-CZMZD   \n",
       "2               Mailed check        108.15  Month-to-month  3668-QPYBK   \n",
       "3               Mailed check          0.00        Two year  5709-LVOEQ   \n",
       "4           Electronic check        151.65  Month-to-month  9237-HQITU   \n",
       "\n",
       "   target  gender  ...  Partner Dependents InternetService OnlineSecurity  \\\n",
       "0       0  Female  ...      Yes        Yes             DSL            Yes   \n",
       "1       0    Male  ...       No        Yes             NaN            NaN   \n",
       "2       1    Male  ...       No         No             DSL            Yes   \n",
       "3       0  Female  ...      Yes        Yes             DSL            Yes   \n",
       "4       1  Female  ...       No         No     Fiber optic             No   \n",
       "\n",
       "  OnlineBackup DeviceProtection TechSupport StreamingTV StreamingMovies  \\\n",
       "0           No              Yes         Yes         Yes              No   \n",
       "1          NaN              NaN         NaN         NaN             NaN   \n",
       "2          Yes               No          No          No              No   \n",
       "3          Yes              Yes          No         Yes             Yes   \n",
       "4           No               No          No          No              No   \n",
       "\n",
       "  MultipleLines  \n",
       "0           NaN  \n",
       "1            No  \n",
       "2            No  \n",
       "3            No  \n",
       "4            No  \n",
       "\n",
       "[5 rows x 21 columns]"
      ]
     },
     "metadata": {},
     "output_type": "display_data"
    },
    {
     "name": "stdout",
     "output_type": "stream",
     "text": [
      "Кол-во пропусков: \n",
      "BeginDate              0\n",
      "EndDate                0\n",
      "MonthlyCharges         0\n",
      "PaperlessBilling       0\n",
      "PaymentMethod          0\n",
      "TotalCharges           0\n",
      "Type                   0\n",
      "customerID             0\n",
      "target                 0\n",
      "gender                 0\n",
      "SeniorCitizen          0\n",
      "Partner                0\n",
      "Dependents             0\n",
      "InternetService     1526\n",
      "OnlineSecurity      1526\n",
      "OnlineBackup        1526\n",
      "DeviceProtection    1526\n",
      "TechSupport         1526\n",
      "StreamingTV         1526\n",
      "StreamingMovies     1526\n",
      "MultipleLines        682\n",
      "dtype: int64\n"
     ]
    }
   ],
   "source": [
    "#проверим результаты\n",
    "print('Размер после объединения:', data.shape)\n",
    "print('Кол-во уникальных пользователей:', len(set(data['customerID'])))\n",
    "display(data.head())\n",
    "print(f'Кол-во пропусков: \\n{data.isna().sum()}')"
   ]
  },
  {
   "cell_type": "code",
   "execution_count": 37,
   "id": "db8f956a",
   "metadata": {
    "execution": {
     "iopub.execute_input": "2023-12-15T01:04:33.136716Z",
     "iopub.status.busy": "2023-12-15T01:04:33.136249Z",
     "iopub.status.idle": "2023-12-15T01:04:33.146008Z",
     "shell.execute_reply": "2023-12-15T01:04:33.144537Z",
     "shell.execute_reply.started": "2023-12-15T01:04:33.136678Z"
    }
   },
   "outputs": [
    {
     "data": {
      "text/plain": [
       "Index(['InternetService', 'OnlineSecurity', 'OnlineBackup', 'DeviceProtection',\n",
       "       'TechSupport', 'StreamingTV', 'StreamingMovies', 'MultipleLines'],\n",
       "      dtype='object')"
      ]
     },
     "execution_count": 37,
     "metadata": {},
     "output_type": "execute_result"
    }
   ],
   "source": [
    "data.columns[13:,]"
   ]
  },
  {
   "cell_type": "code",
   "execution_count": 38,
   "id": "7badca62",
   "metadata": {
    "execution": {
     "iopub.execute_input": "2023-12-15T01:04:33.148904Z",
     "iopub.status.busy": "2023-12-15T01:04:33.148474Z",
     "iopub.status.idle": "2023-12-15T01:04:33.188851Z",
     "shell.execute_reply": "2023-12-15T01:04:33.187269Z",
     "shell.execute_reply.started": "2023-12-15T01:04:33.148867Z"
    }
   },
   "outputs": [
    {
     "data": {
      "text/plain": [
       "SimpleImputer(fill_value='Not_used', strategy='constant')"
      ]
     },
     "execution_count": 38,
     "metadata": {},
     "output_type": "execute_result"
    }
   ],
   "source": [
    "#заполним пропуски\n",
    "imputer = SimpleImputer(missing_values=np.nan, strategy='constant', fill_value = 'Not_used')\n",
    "imputer.fit(data[data.columns[13:,]])"
   ]
  },
  {
   "cell_type": "code",
   "execution_count": 39,
   "id": "ee340eaa",
   "metadata": {
    "execution": {
     "iopub.execute_input": "2023-12-15T01:04:33.190806Z",
     "iopub.status.busy": "2023-12-15T01:04:33.190405Z",
     "iopub.status.idle": "2023-12-15T01:04:33.212894Z",
     "shell.execute_reply": "2023-12-15T01:04:33.211496Z",
     "shell.execute_reply.started": "2023-12-15T01:04:33.190774Z"
    }
   },
   "outputs": [],
   "source": [
    "data[data.columns[13:,]] = imputer.transform(data[data.columns[13:,]])"
   ]
  },
  {
   "cell_type": "code",
   "execution_count": 40,
   "id": "00e6fcfa",
   "metadata": {
    "execution": {
     "iopub.execute_input": "2023-12-15T01:04:33.217129Z",
     "iopub.status.busy": "2023-12-15T01:04:33.216170Z",
     "iopub.status.idle": "2023-12-15T01:04:33.249076Z",
     "shell.execute_reply": "2023-12-15T01:04:33.247622Z",
     "shell.execute_reply.started": "2023-12-15T01:04:33.217071Z"
    }
   },
   "outputs": [
    {
     "data": {
      "text/plain": [
       "BeginDate           0\n",
       "EndDate             0\n",
       "MonthlyCharges      0\n",
       "PaperlessBilling    0\n",
       "PaymentMethod       0\n",
       "TotalCharges        0\n",
       "Type                0\n",
       "customerID          0\n",
       "target              0\n",
       "gender              0\n",
       "SeniorCitizen       0\n",
       "Partner             0\n",
       "Dependents          0\n",
       "InternetService     0\n",
       "OnlineSecurity      0\n",
       "OnlineBackup        0\n",
       "DeviceProtection    0\n",
       "TechSupport         0\n",
       "StreamingTV         0\n",
       "StreamingMovies     0\n",
       "MultipleLines       0\n",
       "dtype: int64"
      ]
     },
     "execution_count": 40,
     "metadata": {},
     "output_type": "execute_result"
    }
   ],
   "source": [
    "#проверим\n",
    "data.isna().sum()"
   ]
  },
  {
   "cell_type": "code",
   "execution_count": 41,
   "id": "0be3a7b5",
   "metadata": {
    "execution": {
     "iopub.execute_input": "2023-12-15T01:04:33.252902Z",
     "iopub.status.busy": "2023-12-15T01:04:33.252013Z",
     "iopub.status.idle": "2023-12-15T01:04:33.292789Z",
     "shell.execute_reply": "2023-12-15T01:04:33.290920Z",
     "shell.execute_reply.started": "2023-12-15T01:04:33.252850Z"
    }
   },
   "outputs": [
    {
     "name": "stdout",
     "output_type": "stream",
     "text": [
      "<class 'pandas.core.frame.DataFrame'>\n",
      "Int64Index: 7043 entries, 0 to 7042\n",
      "Data columns (total 21 columns):\n",
      " #   Column            Non-Null Count  Dtype         \n",
      "---  ------            --------------  -----         \n",
      " 0   BeginDate         7043 non-null   datetime64[ns]\n",
      " 1   EndDate           7043 non-null   datetime64[ns]\n",
      " 2   MonthlyCharges    7043 non-null   float64       \n",
      " 3   PaperlessBilling  7043 non-null   object        \n",
      " 4   PaymentMethod     7043 non-null   object        \n",
      " 5   TotalCharges      7043 non-null   float64       \n",
      " 6   Type              7043 non-null   object        \n",
      " 7   customerID        7043 non-null   object        \n",
      " 8   target            7043 non-null   int64         \n",
      " 9   gender            7043 non-null   object        \n",
      " 10  SeniorCitizen     7043 non-null   int64         \n",
      " 11  Partner           7043 non-null   object        \n",
      " 12  Dependents        7043 non-null   object        \n",
      " 13  InternetService   7043 non-null   object        \n",
      " 14  OnlineSecurity    7043 non-null   object        \n",
      " 15  OnlineBackup      7043 non-null   object        \n",
      " 16  DeviceProtection  7043 non-null   object        \n",
      " 17  TechSupport       7043 non-null   object        \n",
      " 18  StreamingTV       7043 non-null   object        \n",
      " 19  StreamingMovies   7043 non-null   object        \n",
      " 20  MultipleLines     7043 non-null   object        \n",
      "dtypes: datetime64[ns](2), float64(2), int64(2), object(15)\n",
      "memory usage: 1.2+ MB\n"
     ]
    }
   ],
   "source": [
    "data.info()"
   ]
  },
  {
   "cell_type": "markdown",
   "id": "5c43ea1f",
   "metadata": {},
   "source": [
    "**Вывод:**\n",
    "- Заполнили пропуски с помощью наиболее встречаемого значения\n",
    "- Итоговая таблица с размером"
   ]
  },
  {
   "cell_type": "code",
   "execution_count": 42,
   "id": "d879c7e4",
   "metadata": {
    "execution": {
     "iopub.execute_input": "2023-12-15T01:04:33.295660Z",
     "iopub.status.busy": "2023-12-15T01:04:33.294656Z",
     "iopub.status.idle": "2023-12-15T01:04:33.303626Z",
     "shell.execute_reply": "2023-12-15T01:04:33.302145Z",
     "shell.execute_reply.started": "2023-12-15T01:04:33.295622Z"
    }
   },
   "outputs": [],
   "source": [
    "def cntplot(table, drops):\n",
    "    table = table.drop([*drops], axis=1)\n",
    "    col = table.columns[2:-2]\n",
    "    for feature in col:\n",
    "        sns.set(rc={'figure.figsize':(10,5)})\n",
    "        print(f'Зависимость целевого от признака: {feature}')\n",
    "        sns.countplot(x = feature, hue='target', data=table)\n",
    "        \n",
    "        plt.show()    "
   ]
  },
  {
   "cell_type": "code",
   "execution_count": 43,
   "id": "c3667261",
   "metadata": {
    "execution": {
     "iopub.execute_input": "2023-12-15T01:04:33.306539Z",
     "iopub.status.busy": "2023-12-15T01:04:33.305841Z",
     "iopub.status.idle": "2023-12-15T01:04:38.291323Z",
     "shell.execute_reply": "2023-12-15T01:04:38.290207Z",
     "shell.execute_reply.started": "2023-12-15T01:04:33.306495Z"
    }
   },
   "outputs": [
    {
     "name": "stdout",
     "output_type": "stream",
     "text": [
      "Зависимость целевого от признака: PaperlessBilling\n"
     ]
    },
    {
     "data": {
      "image/png": "[encoded data removed]",
      "text/plain": [
       "<Figure size 720x360 with 1 Axes>"
      ]
     },
     "metadata": {},
     "output_type": "display_data"
    },
    {
     "name": "stdout",
     "output_type": "stream",
     "text": [
      "Зависимость целевого от признака: PaymentMethod\n"
     ]
    },
    {
     "data": {
      "image/png": "[encoded data removed]",
      "text/plain": [
       "<Figure size 720x360 with 1 Axes>"
      ]
     },
     "metadata": {},
     "output_type": "display_data"
    },
    {
     "name": "stdout",
     "output_type": "stream",
     "text": [
      "Зависимость целевого от признака: Type\n"
     ]
    },
    {
     "data": {
      "image/png": "[encoded data removed]",
      "text/plain": [
       "<Figure size 720x360 with 1 Axes>"
      ]
     },
     "metadata": {},
     "output_type": "display_data"
    },
    {
     "name": "stdout",
     "output_type": "stream",
     "text": [
      "Зависимость целевого от признака: target\n"
     ]
    },
    {
     "data": {
      "image/png": "[encoded data removed]",
      "text/plain": [
       "<Figure size 720x360 with 1 Axes>"
      ]
     },
     "metadata": {},
     "output_type": "display_data"
    },
    {
     "name": "stdout",
     "output_type": "stream",
     "text": [
      "Зависимость целевого от признака: gender\n"
     ]
    },
    {
     "data": {
      "image/png": "[encoded data removed]",
      "text/plain": [
       "<Figure size 720x360 with 1 Axes>"
      ]
     },
     "metadata": {},
     "output_type": "display_data"
    },
    {
     "name": "stdout",
     "output_type": "stream",
     "text": [
      "Зависимость целевого от признака: SeniorCitizen\n"
     ]
    },
    {
     "data": {
      "image/png": "[encoded data removed]",
      "text/plain": [
       "<Figure size 720x360 with 1 Axes>"
      ]
     },
     "metadata": {},
     "output_type": "display_data"
    },
    {
     "name": "stdout",
     "output_type": "stream",
     "text": [
      "Зависимость целевого от признака: Partner\n"
     ]
    },
    {
     "data": {
      "image/png": "[encoded data removed]",
      "text/plain": [
       "<Figure size 720x360 with 1 Axes>"
      ]
     },
     "metadata": {},
     "output_type": "display_data"
    },
    {
     "name": "stdout",
     "output_type": "stream",
     "text": [
      "Зависимость целевого от признака: Dependents\n"
     ]
    },
    {
     "data": {
      "image/png": "[encoded data removed]",
      "text/plain": [
       "<Figure size 720x360 with 1 Axes>"
      ]
     },
     "metadata": {},
     "output_type": "display_data"
    },
    {
     "name": "stdout",
     "output_type": "stream",
     "text": [
      "Зависимость целевого от признака: InternetService\n"
     ]
    },
    {
     "data": {
      "image/png": "[encoded data removed]",
      "text/plain": [
       "<Figure size 720x360 with 1 Axes>"
      ]
     },
     "metadata": {},
     "output_type": "display_data"
    },
    {
     "name": "stdout",
     "output_type": "stream",
     "text": [
      "Зависимость целевого от признака: OnlineSecurity\n"
     ]
    },
    {
     "data": {
      "image/png": "[encoded data removed]",
      "text/plain": [
       "<Figure size 720x360 with 1 Axes>"
      ]
     },
     "metadata": {},
     "output_type": "display_data"
    },
    {
     "name": "stdout",
     "output_type": "stream",
     "text": [
      "Зависимость целевого от признака: OnlineBackup\n"
     ]
    },
    {
     "data": {
      "image/png": "[encoded data removed]",
      "text/plain": [
       "<Figure size 720x360 with 1 Axes>"
      ]
     },
     "metadata": {},
     "output_type": "display_data"
    },
    {
     "name": "stdout",
     "output_type": "stream",
     "text": [
      "Зависимость целевого от признака: DeviceProtection\n"
     ]
    },
    {
     "data": {
      "image/png": "[encoded data removed]",
      "text/plain": [
       "<Figure size 720x360 with 1 Axes>"
      ]
     },
     "metadata": {},
     "output_type": "display_data"
    },
    {
     "name": "stdout",
     "output_type": "stream",
     "text": [
      "Зависимость целевого от признака: TechSupport\n"
     ]
    },
    {
     "data": {
      "image/png": "[encoded data removed]",
      "text/plain": [
       "<Figure size 720x360 with 1 Axes>"
      ]
     },
     "metadata": {},
     "output_type": "display_data"
    },
    {
     "name": "stdout",
     "output_type": "stream",
     "text": [
      "Зависимость целевого от признака: StreamingTV\n"
     ]
    },
    {
     "data": {
      "image/png": "[encoded data removed]",
      "text/plain": [
       "<Figure size 720x360 with 1 Axes>"
      ]
     },
     "metadata": {},
     "output_type": "display_data"
    }
   ],
   "source": [
    "cntplot(data, ('MonthlyCharges','TotalCharges', 'customerID'))"
   ]
  },
  {
   "cell_type": "markdown",
   "id": "0d3ccf19",
   "metadata": {},
   "source": [
    "**Вывод:**\n",
    "- Постарались нарисовать портрет абонента, который откажется от услуг связи:\n",
    "- **Это человек с ежемесячной оплатой, получающий электронный рассчетный лист, с электронной оплатой, мужчина или женщина, в трудоспособном состоянии, не состоящий в браке, без детей, с подключением через fiber-optic, без блокировки опасных сайтов, без облачного хранилища, без антивируса, без выделенной линии тех.поддержки, без стримингово тв, без каталога фильмов**"
   ]
  },
  {
   "cell_type": "code",
   "execution_count": 44,
   "id": "479f832e",
   "metadata": {
    "execution": {
     "iopub.execute_input": "2023-12-15T01:04:38.294364Z",
     "iopub.status.busy": "2023-12-15T01:04:38.293363Z",
     "iopub.status.idle": "2023-12-15T01:04:39.027646Z",
     "shell.execute_reply": "2023-12-15T01:04:39.026283Z",
     "shell.execute_reply.started": "2023-12-15T01:04:38.294311Z"
    }
   },
   "outputs": [
    {
     "data": {
      "image/png": "[encoded data removed]",
      "text/plain": [
       "<Figure size 432x432 with 2 Axes>"
      ]
     },
     "metadata": {},
     "output_type": "display_data"
    }
   ],
   "source": [
    "hist_box(data, 'TotalCharges')"
   ]
  },
  {
   "cell_type": "code",
   "execution_count": 45,
   "id": "fe38271b",
   "metadata": {
    "execution": {
     "iopub.execute_input": "2023-12-15T01:04:39.030109Z",
     "iopub.status.busy": "2023-12-15T01:04:39.029541Z",
     "iopub.status.idle": "2023-12-15T01:04:39.826308Z",
     "shell.execute_reply": "2023-12-15T01:04:39.824914Z",
     "shell.execute_reply.started": "2023-12-15T01:04:39.030041Z"
    }
   },
   "outputs": [
    {
     "data": {
      "image/png": "[encoded data removed]",
      "text/plain": [
       "<Figure size 432x432 with 2 Axes>"
      ]
     },
     "metadata": {},
     "output_type": "display_data"
    }
   ],
   "source": [
    "hist_box(data, 'MonthlyCharges')"
   ]
  },
  {
   "cell_type": "code",
   "execution_count": 46,
   "id": "f7b25570",
   "metadata": {
    "execution": {
     "iopub.execute_input": "2023-12-15T01:04:39.828643Z",
     "iopub.status.busy": "2023-12-15T01:04:39.828201Z",
     "iopub.status.idle": "2023-12-15T01:04:39.847914Z",
     "shell.execute_reply": "2023-12-15T01:04:39.845619Z",
     "shell.execute_reply.started": "2023-12-15T01:04:39.828609Z"
    }
   },
   "outputs": [
    {
     "name": "stdout",
     "output_type": "stream",
     "text": [
      "Корреляция спирмена между: MonthlyCharges и целевым:\n",
      "0.185\n",
      "\n",
      "Корреляция спирмена между: TotalCharges и целевым:\n",
      "-0.23\n",
      "\n"
     ]
    }
   ],
   "source": [
    "for c in data[['MonthlyCharges', 'TotalCharges']]:\n",
    "    print(f'Корреляция спирмена между: {c} и целевым:')\n",
    "    print(spearmanr(data[c], data['target'])[0].round(3))\n",
    "    print()"
   ]
  },
  {
   "cell_type": "markdown",
   "id": "2ce31ac1",
   "metadata": {},
   "source": [
    "**Вывод:**\n",
    "- Для численных признаков можно выделить сильную положительную корреляцию между целевым и итоговой суммой оплаты\n",
    "- ДЛя месячной оплаты корреляция с целевым отсутствует"
   ]
  },
  {
   "cell_type": "code",
   "execution_count": 47,
   "id": "403bdab8",
   "metadata": {
    "execution": {
     "iopub.execute_input": "2023-12-15T01:04:39.850286Z",
     "iopub.status.busy": "2023-12-15T01:04:39.849809Z",
     "iopub.status.idle": "2023-12-15T01:04:39.889176Z",
     "shell.execute_reply": "2023-12-15T01:04:39.887506Z",
     "shell.execute_reply.started": "2023-12-15T01:04:39.850247Z"
    }
   },
   "outputs": [],
   "source": [
    "#признак длительность контракта\n",
    "data['duration_contract'] = data['EndDate'] - data['BeginDate']\n",
    "data['duration_contract'] = data['duration_contract'].apply(lambda x: x.days)"
   ]
  },
  {
   "cell_type": "code",
   "execution_count": 48,
   "id": "4c3a71cc",
   "metadata": {
    "execution": {
     "iopub.execute_input": "2023-12-15T01:04:39.892098Z",
     "iopub.status.busy": "2023-12-15T01:04:39.891496Z",
     "iopub.status.idle": "2023-12-15T01:04:39.903821Z",
     "shell.execute_reply": "2023-12-15T01:04:39.902106Z",
     "shell.execute_reply.started": "2023-12-15T01:04:39.892046Z"
    }
   },
   "outputs": [],
   "source": [
    "def cramers_v(x, y):\n",
    "    confusion_matrix = pd.crosstab(x,y)\n",
    "    chi2 = ss.chi2_contingency(confusion_matrix)[0]\n",
    "    n = confusion_matrix.sum().sum()\n",
    "    phi2 = chi2/n\n",
    "    r,k = confusion_matrix.shape\n",
    "    phi2corr = max(0, phi2-((k-1)*(r-1))/(n-1))\n",
    "    rcorr = r-((r-1)**2)/(n-1)\n",
    "    kcorr = k-((k-1)**2)/(n-1)\n",
    "    return np.sqrt(phi2corr/min((kcorr-1),(rcorr-1)))"
   ]
  },
  {
   "cell_type": "code",
   "execution_count": 49,
   "id": "5b970232",
   "metadata": {
    "execution": {
     "iopub.execute_input": "2023-12-15T01:04:39.907135Z",
     "iopub.status.busy": "2023-12-15T01:04:39.906554Z",
     "iopub.status.idle": "2023-12-15T01:04:39.919680Z",
     "shell.execute_reply": "2023-12-15T01:04:39.918161Z",
     "shell.execute_reply.started": "2023-12-15T01:04:39.907082Z"
    }
   },
   "outputs": [],
   "source": [
    "#столбцы для сравнения корреляций\n",
    "corr_columns = ['PaperlessBilling', 'PaymentMethod',  \n",
    " 'Type','gender', 'SeniorCitizen', 'Partner', 'Dependents', \n",
    " 'InternetService','OnlineSecurity', 'OnlineBackup', 'DeviceProtection', \n",
    " 'TechSupport','StreamingTV', 'StreamingMovies', 'MultipleLines', 'duration_contract']"
   ]
  },
  {
   "cell_type": "code",
   "execution_count": 50,
   "id": "7854536c",
   "metadata": {
    "execution": {
     "iopub.execute_input": "2023-12-15T01:04:39.922829Z",
     "iopub.status.busy": "2023-12-15T01:04:39.922329Z",
     "iopub.status.idle": "2023-12-15T01:04:49.740091Z",
     "shell.execute_reply": "2023-12-15T01:04:49.738780Z",
     "shell.execute_reply.started": "2023-12-15T01:04:39.922781Z"
    }
   },
   "outputs": [],
   "source": [
    "corr_matrix = pd.DataFrame()\n",
    "for col1 in corr_columns:\n",
    "    for col2 in corr_columns:\n",
    "        corr_matrix.loc[col1, col2] = cramers_v(data[col1], data[col2]).round(3)"
   ]
  },
  {
   "cell_type": "code",
   "execution_count": 51,
   "id": "583b8e90",
   "metadata": {},
   "outputs": [
    {
     "data": {
      "text/plain": [
       "False"
      ]
     },
     "execution_count": 51,
     "metadata": {},
     "output_type": "execute_result"
    }
   ],
   "source": [
    "data.drop(['BeginDate', 'EndDate'], axis=1, inplace=True)\n",
    "'BeginDate' and 'EndDate' in data.columns"
   ]
  },
  {
   "cell_type": "code",
   "execution_count": 52,
   "id": "31af8ca3",
   "metadata": {
    "execution": {
     "iopub.execute_input": "2023-12-15T01:04:49.752337Z",
     "iopub.status.busy": "2023-12-15T01:04:49.751874Z",
     "iopub.status.idle": "2023-12-15T01:04:51.728968Z",
     "shell.execute_reply": "2023-12-15T01:04:51.727344Z",
     "shell.execute_reply.started": "2023-12-15T01:04:49.752300Z"
    }
   },
   "outputs": [
    {
     "data": {
      "image/png": "[encoded data removed]",
      "text/plain": [
       "<Figure size 1080x504 with 2 Axes>"
      ]
     },
     "metadata": {},
     "output_type": "display_data"
    }
   ],
   "source": [
    "fig, ax = plt.subplots(figsize=(15,7))\n",
    "sns.heatmap(data=corr_matrix, annot=True, ax=ax)\n",
    "plt.title('Cramers correlation matrix')\n",
    "plt.show()"
   ]
  },
  {
   "cell_type": "markdown",
   "id": "69cc19ee",
   "metadata": {},
   "source": [
    "**Вывод:**\n",
    "- Можно выделить сильную корреляцию между BeginDate и ltv = 0.77, это из-за того что один признак сделан из другого\n",
    "- Признак Type(тип оплаты) коррелирует с целевым на 0.41\n",
    "- Больше особо нечего выделить, признаки 'BeginDate' и 'EndDate' удалим, т.к только запутают модель"
   ]
  },
  {
   "cell_type": "code",
   "execution_count": 53,
   "id": "8f1e1058",
   "metadata": {
    "execution": {
     "iopub.execute_input": "2023-12-15T01:04:51.754301Z",
     "iopub.status.busy": "2023-12-15T01:04:51.753968Z",
     "iopub.status.idle": "2023-12-15T01:04:51.764736Z",
     "shell.execute_reply": "2023-12-15T01:04:51.763511Z",
     "shell.execute_reply.started": "2023-12-15T01:04:51.754272Z"
    }
   },
   "outputs": [
    {
     "data": {
      "text/plain": [
       "0    5174\n",
       "1    1869\n",
       "Name: target, dtype: int64"
      ]
     },
     "execution_count": 53,
     "metadata": {},
     "output_type": "execute_result"
    }
   ],
   "source": [
    "#проверим\n",
    "data['target'].value_counts()"
   ]
  },
  {
   "cell_type": "code",
   "execution_count": 54,
   "id": "01db75c3",
   "metadata": {
    "execution": {
     "iopub.execute_input": "2023-12-15T01:04:51.767121Z",
     "iopub.status.busy": "2023-12-15T01:04:51.766747Z",
     "iopub.status.idle": "2023-12-15T01:04:51.788445Z",
     "shell.execute_reply": "2023-12-15T01:04:51.786945Z",
     "shell.execute_reply.started": "2023-12-15T01:04:51.767090Z"
    }
   },
   "outputs": [
    {
     "name": "stdout",
     "output_type": "stream",
     "text": [
      "Таблица contract: \n",
      "count    7043.000000\n",
      "mean     2279.734304\n",
      "std      2266.794470\n",
      "min         0.000000\n",
      "25%       398.550000\n",
      "50%      1394.550000\n",
      "75%      3786.600000\n",
      "max      8684.800000\n",
      "Name: TotalCharges, dtype: float64\n",
      "Таблица data: \n",
      "count    7043.000000\n",
      "mean     2279.734304\n",
      "std      2266.794470\n",
      "min         0.000000\n",
      "25%       398.550000\n",
      "50%      1394.550000\n",
      "75%      3786.600000\n",
      "max      8684.800000\n",
      "Name: TotalCharges, dtype: float64\n"
     ]
    }
   ],
   "source": [
    "print(f'Таблица contract: \\n{contract[\"TotalCharges\"].describe()}')\n",
    "print(f'Таблица data: \\n{data[\"TotalCharges\"].describe()}')"
   ]
  },
  {
   "cell_type": "markdown",
   "id": "d382fe85",
   "metadata": {},
   "source": [
    "**Проверим распределение признаков**"
   ]
  },
  {
   "cell_type": "code",
   "execution_count": 55,
   "id": "7c4920f7",
   "metadata": {
    "execution": {
     "iopub.execute_input": "2023-12-15T01:04:51.791560Z",
     "iopub.status.busy": "2023-12-15T01:04:51.790334Z",
     "iopub.status.idle": "2023-12-15T01:04:52.498323Z",
     "shell.execute_reply": "2023-12-15T01:04:52.497114Z",
     "shell.execute_reply.started": "2023-12-15T01:04:51.791511Z"
    }
   },
   "outputs": [
    {
     "data": {
      "image/png": "[encoded data removed]",
      "text/plain": [
       "<Figure size 432x432 with 2 Axes>"
      ]
     },
     "metadata": {},
     "output_type": "display_data"
    }
   ],
   "source": [
    "hist_box(data, 'TotalCharges')"
   ]
  },
  {
   "cell_type": "code",
   "execution_count": 56,
   "id": "f3c51421",
   "metadata": {
    "execution": {
     "iopub.execute_input": "2023-12-15T01:04:52.500614Z",
     "iopub.status.busy": "2023-12-15T01:04:52.499819Z",
     "iopub.status.idle": "2023-12-15T01:04:53.239441Z",
     "shell.execute_reply": "2023-12-15T01:04:53.237919Z",
     "shell.execute_reply.started": "2023-12-15T01:04:52.500568Z"
    }
   },
   "outputs": [
    {
     "data": {
      "image/png": "[encoded data removed]",
      "text/plain": [
       "<Figure size 432x432 with 2 Axes>"
      ]
     },
     "metadata": {},
     "output_type": "display_data"
    }
   ],
   "source": [
    "hist_box(data, 'duration_contract')"
   ]
  },
  {
   "cell_type": "code",
   "execution_count": 57,
   "id": "fdd42dd5",
   "metadata": {
    "execution": {
     "iopub.execute_input": "2023-12-15T01:04:53.242111Z",
     "iopub.status.busy": "2023-12-15T01:04:53.241559Z",
     "iopub.status.idle": "2023-12-15T01:04:53.260141Z",
     "shell.execute_reply": "2023-12-15T01:04:53.258587Z",
     "shell.execute_reply.started": "2023-12-15T01:04:53.242074Z"
    }
   },
   "outputs": [],
   "source": [
    "#пересбросим индексы\n",
    "data = data.reset_index(drop=True)"
   ]
  },
  {
   "cell_type": "markdown",
   "id": "1f74e601",
   "metadata": {},
   "source": [
    "**Общий вывод:**\n",
    "- После объединения числовые признаки остались практически с тем же распределением\n",
    "- Статистически описали клиентов, которые прекращают использовать услуги\n",
    "- Изучили график корреляции\n",
    "***"
   ]
  },
  {
   "cell_type": "markdown",
   "id": "d85a6a46",
   "metadata": {},
   "source": [
    "**Генерация текстовых признаков**"
   ]
  },
  {
   "cell_type": "code",
   "execution_count": 58,
   "id": "c62348a1",
   "metadata": {
    "execution": {
     "iopub.execute_input": "2023-12-15T01:04:53.262640Z",
     "iopub.status.busy": "2023-12-15T01:04:53.262158Z",
     "iopub.status.idle": "2023-12-15T01:04:53.271524Z",
     "shell.execute_reply": "2023-12-15T01:04:53.270199Z",
     "shell.execute_reply.started": "2023-12-15T01:04:53.262599Z"
    }
   },
   "outputs": [],
   "source": [
    "def text_features(row):\n",
    "    indent = ' '\n",
    "    test = []\n",
    "    value = ''.join(row['Type'] + indent + \n",
    "             row['PaperlessBilling'] + indent + \n",
    "             row['PaymentMethod'] + indent +\n",
    "             row['gender']+ indent +\n",
    "             row['Partner'] + indent +\n",
    "             row['Dependents'] + indent +\n",
    "             row['InternetService'] + indent +\n",
    "             row['OnlineSecurity'] + indent +\n",
    "             row['OnlineBackup'] + indent +\n",
    "             row['DeviceProtection'] + indent +\n",
    "             row['TechSupport'] + indent +\n",
    "             row['StreamingTV'] + indent +\n",
    "             row['StreamingMovies'] + indent +\n",
    "             row['MultipleLines'])\n",
    "\n",
    "    return value"
   ]
  },
  {
   "cell_type": "code",
   "execution_count": 61,
   "id": "afb4a271",
   "metadata": {
    "execution": {
     "iopub.execute_input": "2023-12-15T01:04:53.951641Z",
     "iopub.status.busy": "2023-12-15T01:04:53.950133Z",
     "iopub.status.idle": "2023-12-15T01:04:53.959636Z",
     "shell.execute_reply": "2023-12-15T01:04:53.958775Z",
     "shell.execute_reply.started": "2023-12-15T01:04:53.951572Z"
    }
   },
   "outputs": [],
   "source": [
    "def text_embs(sentences):\n",
    "    sentences = pd.Series(sentences)\n",
    "    docs = [TaggedDocument(doc.split(), [i]) for i, doc in enumerate(sentences)]\n",
    "    model = Doc2Vec(vector_size=128, min_count=1, epochs = 20)\n",
    "    model.build_vocab(docs)\n",
    "    model.train(docs, total_examples=model.corpus_count,epochs=model.epochs)\n",
    "    model.save('d2v.model')\n",
    "    vectors = [model.infer_vector((sentences[i].split())) for i in tqdm(range(0, len(sentences)))]\n",
    "    return np.array(vectors)"
   ]
  },
  {
   "cell_type": "code",
   "execution_count": 65,
   "id": "b789d998",
   "metadata": {},
   "outputs": [
    {
     "name": "stdout",
     "output_type": "stream",
     "text": [
      "<class 'pandas.core.frame.DataFrame'>\n",
      "RangeIndex: 7043 entries, 0 to 7042\n",
      "Data columns (total 19 columns):\n",
      " #   Column             Non-Null Count  Dtype  \n",
      "---  ------             --------------  -----  \n",
      " 0   MonthlyCharges     7043 non-null   float64\n",
      " 1   PaperlessBilling   7043 non-null   object \n",
      " 2   PaymentMethod      7043 non-null   object \n",
      " 3   TotalCharges       7043 non-null   float64\n",
      " 4   Type               7043 non-null   object \n",
      " 5   target             7043 non-null   int64  \n",
      " 6   gender             7043 non-null   object \n",
      " 7   SeniorCitizen      7043 non-null   int64  \n",
      " 8   Partner            7043 non-null   object \n",
      " 9   Dependents         7043 non-null   object \n",
      " 10  InternetService    7043 non-null   object \n",
      " 11  OnlineSecurity     7043 non-null   object \n",
      " 12  OnlineBackup       7043 non-null   object \n",
      " 13  DeviceProtection   7043 non-null   object \n",
      " 14  TechSupport        7043 non-null   object \n",
      " 15  StreamingTV        7043 non-null   object \n",
      " 16  StreamingMovies    7043 non-null   object \n",
      " 17  MultipleLines      7043 non-null   object \n",
      " 18  duration_contract  7043 non-null   int64  \n",
      "dtypes: float64(2), int64(3), object(14)\n",
      "memory usage: 1.0+ MB\n"
     ]
    }
   ],
   "source": [
    "data = data.drop(['customerID'], axis=1)\n",
    "data.info()"
   ]
  },
  {
   "cell_type": "code",
   "execution_count": 66,
   "id": "c98c58d9",
   "metadata": {
    "scrolled": true
   },
   "outputs": [
    {
     "data": {
      "text/html": [
       "<div>\n",
       "<style scoped>\n",
       "    .dataframe tbody tr th:only-of-type {\n",
       "        vertical-align: middle;\n",
       "    }\n",
       "\n",
       "    .dataframe tbody tr th {\n",
       "        vertical-align: top;\n",
       "    }\n",
       "\n",
       "    .dataframe thead th {\n",
       "        text-align: right;\n",
       "    }\n",
       "</style>\n",
       "<table border=\"1\" class=\"dataframe\">\n",
       "  <thead>\n",
       "    <tr style=\"text-align: right;\">\n",
       "      <th></th>\n",
       "      <th>MonthlyCharges</th>\n",
       "      <th>TotalCharges</th>\n",
       "      <th>duration_contract</th>\n",
       "    </tr>\n",
       "  </thead>\n",
       "  <tbody>\n",
       "    <tr>\n",
       "      <th>0</th>\n",
       "      <td>52.55</td>\n",
       "      <td>0.00</td>\n",
       "      <td>0</td>\n",
       "    </tr>\n",
       "    <tr>\n",
       "      <th>1</th>\n",
       "      <td>20.25</td>\n",
       "      <td>0.00</td>\n",
       "      <td>0</td>\n",
       "    </tr>\n",
       "    <tr>\n",
       "      <th>2</th>\n",
       "      <td>53.85</td>\n",
       "      <td>108.15</td>\n",
       "      <td>479</td>\n",
       "    </tr>\n",
       "    <tr>\n",
       "      <th>3</th>\n",
       "      <td>80.85</td>\n",
       "      <td>0.00</td>\n",
       "      <td>0</td>\n",
       "    </tr>\n",
       "    <tr>\n",
       "      <th>4</th>\n",
       "      <td>70.70</td>\n",
       "      <td>151.65</td>\n",
       "      <td>279</td>\n",
       "    </tr>\n",
       "  </tbody>\n",
       "</table>\n",
       "</div>"
      ],
      "text/plain": [
       "   MonthlyCharges  TotalCharges  duration_contract\n",
       "0           52.55          0.00                  0\n",
       "1           20.25          0.00                  0\n",
       "2           53.85        108.15                479\n",
       "3           80.85          0.00                  0\n",
       "4           70.70        151.65                279"
      ]
     },
     "execution_count": 66,
     "metadata": {},
     "output_type": "execute_result"
    }
   ],
   "source": [
    "# Числовые признаки финального датафрейма,\n",
    "# требующие нормализации\n",
    "total_new_numeric = ['MonthlyCharges', 'TotalCharges', 'duration_contract']\n",
    "\n",
    "\n",
    "data[total_new_numeric].head()"
   ]
  },
  {
   "cell_type": "code",
   "execution_count": 67,
   "id": "572ab6d1",
   "metadata": {
    "scrolled": true
   },
   "outputs": [
    {
     "data": {
      "text/html": [
       "<div>\n",
       "<style scoped>\n",
       "    .dataframe tbody tr th:only-of-type {\n",
       "        vertical-align: middle;\n",
       "    }\n",
       "\n",
       "    .dataframe tbody tr th {\n",
       "        vertical-align: top;\n",
       "    }\n",
       "\n",
       "    .dataframe thead th {\n",
       "        text-align: right;\n",
       "    }\n",
       "</style>\n",
       "<table border=\"1\" class=\"dataframe\">\n",
       "  <thead>\n",
       "    <tr style=\"text-align: right;\">\n",
       "      <th></th>\n",
       "      <th>PaperlessBilling</th>\n",
       "      <th>PaymentMethod</th>\n",
       "      <th>Type</th>\n",
       "      <th>gender</th>\n",
       "      <th>SeniorCitizen</th>\n",
       "      <th>Partner</th>\n",
       "      <th>Dependents</th>\n",
       "      <th>InternetService</th>\n",
       "      <th>OnlineSecurity</th>\n",
       "      <th>OnlineBackup</th>\n",
       "      <th>DeviceProtection</th>\n",
       "      <th>TechSupport</th>\n",
       "      <th>StreamingTV</th>\n",
       "      <th>StreamingMovies</th>\n",
       "      <th>MultipleLines</th>\n",
       "    </tr>\n",
       "  </thead>\n",
       "  <tbody>\n",
       "    <tr>\n",
       "      <th>0</th>\n",
       "      <td>Yes</td>\n",
       "      <td>Bank transfer (automatic)</td>\n",
       "      <td>Two year</td>\n",
       "      <td>Female</td>\n",
       "      <td>0</td>\n",
       "      <td>Yes</td>\n",
       "      <td>Yes</td>\n",
       "      <td>DSL</td>\n",
       "      <td>Yes</td>\n",
       "      <td>No</td>\n",
       "      <td>Yes</td>\n",
       "      <td>Yes</td>\n",
       "      <td>Yes</td>\n",
       "      <td>No</td>\n",
       "      <td>Not_used</td>\n",
       "    </tr>\n",
       "    <tr>\n",
       "      <th>1</th>\n",
       "      <td>No</td>\n",
       "      <td>Mailed check</td>\n",
       "      <td>Two year</td>\n",
       "      <td>Male</td>\n",
       "      <td>0</td>\n",
       "      <td>No</td>\n",
       "      <td>Yes</td>\n",
       "      <td>Not_used</td>\n",
       "      <td>Not_used</td>\n",
       "      <td>Not_used</td>\n",
       "      <td>Not_used</td>\n",
       "      <td>Not_used</td>\n",
       "      <td>Not_used</td>\n",
       "      <td>Not_used</td>\n",
       "      <td>No</td>\n",
       "    </tr>\n",
       "    <tr>\n",
       "      <th>2</th>\n",
       "      <td>Yes</td>\n",
       "      <td>Mailed check</td>\n",
       "      <td>Month-to-month</td>\n",
       "      <td>Male</td>\n",
       "      <td>0</td>\n",
       "      <td>No</td>\n",
       "      <td>No</td>\n",
       "      <td>DSL</td>\n",
       "      <td>Yes</td>\n",
       "      <td>Yes</td>\n",
       "      <td>No</td>\n",
       "      <td>No</td>\n",
       "      <td>No</td>\n",
       "      <td>No</td>\n",
       "      <td>No</td>\n",
       "    </tr>\n",
       "    <tr>\n",
       "      <th>3</th>\n",
       "      <td>No</td>\n",
       "      <td>Mailed check</td>\n",
       "      <td>Two year</td>\n",
       "      <td>Female</td>\n",
       "      <td>0</td>\n",
       "      <td>Yes</td>\n",
       "      <td>Yes</td>\n",
       "      <td>DSL</td>\n",
       "      <td>Yes</td>\n",
       "      <td>Yes</td>\n",
       "      <td>Yes</td>\n",
       "      <td>No</td>\n",
       "      <td>Yes</td>\n",
       "      <td>Yes</td>\n",
       "      <td>No</td>\n",
       "    </tr>\n",
       "    <tr>\n",
       "      <th>4</th>\n",
       "      <td>Yes</td>\n",
       "      <td>Electronic check</td>\n",
       "      <td>Month-to-month</td>\n",
       "      <td>Female</td>\n",
       "      <td>0</td>\n",
       "      <td>No</td>\n",
       "      <td>No</td>\n",
       "      <td>Fiber optic</td>\n",
       "      <td>No</td>\n",
       "      <td>No</td>\n",
       "      <td>No</td>\n",
       "      <td>No</td>\n",
       "      <td>No</td>\n",
       "      <td>No</td>\n",
       "      <td>No</td>\n",
       "    </tr>\n",
       "  </tbody>\n",
       "</table>\n",
       "</div>"
      ],
      "text/plain": [
       "  PaperlessBilling              PaymentMethod            Type  gender  \\\n",
       "0              Yes  Bank transfer (automatic)        Two year  Female   \n",
       "1               No               Mailed check        Two year    Male   \n",
       "2              Yes               Mailed check  Month-to-month    Male   \n",
       "3               No               Mailed check        Two year  Female   \n",
       "4              Yes           Electronic check  Month-to-month  Female   \n",
       "\n",
       "   SeniorCitizen Partner Dependents InternetService OnlineSecurity  \\\n",
       "0              0     Yes        Yes             DSL            Yes   \n",
       "1              0      No        Yes        Not_used       Not_used   \n",
       "2              0      No         No             DSL            Yes   \n",
       "3              0     Yes        Yes             DSL            Yes   \n",
       "4              0      No         No     Fiber optic             No   \n",
       "\n",
       "  OnlineBackup DeviceProtection TechSupport StreamingTV StreamingMovies  \\\n",
       "0           No              Yes         Yes         Yes              No   \n",
       "1     Not_used         Not_used    Not_used    Not_used        Not_used   \n",
       "2          Yes               No          No          No              No   \n",
       "3          Yes              Yes          No         Yes             Yes   \n",
       "4           No               No          No          No              No   \n",
       "\n",
       "  MultipleLines  \n",
       "0      Not_used  \n",
       "1            No  \n",
       "2            No  \n",
       "3            No  \n",
       "4            No  "
      ]
     },
     "execution_count": 67,
     "metadata": {},
     "output_type": "execute_result"
    }
   ],
   "source": [
    "# Категоиальные признаки финального датафрейма,\n",
    "# требующие кодирования методом `OneHotEncoder` (для \"линейных\" моделей) \n",
    "# и `OrdinalEncoder` (для \"деревянных\" моделей).\n",
    "# Это все признаки, кроме тех, названия которых входят \n",
    "# в переменную \"total_new_numeric\", \n",
    "# и признака, содержащего идентификаторы\n",
    "total_new_categories = []\n",
    "\n",
    "for i in data.columns:\n",
    "    if (i not in total_new_numeric) & (i not in ['target']):\n",
    "        total_new_categories.append(i)\n",
    "\n",
    "data[total_new_categories].head(5)"
   ]
  },
  {
   "cell_type": "code",
   "execution_count": 71,
   "id": "bd9165e1",
   "metadata": {},
   "outputs": [],
   "source": [
    "X = data.drop('target', axis=1)\n",
    "y = data['target']\n",
    "\n",
    "\n",
    "X_train, X_test, y_train, y_test = train_test_split(X, y,  test_size=0.25, random_state=RANDOM_STATE)"
   ]
  },
  {
   "cell_type": "code",
   "execution_count": 72,
   "id": "8abd3ec1",
   "metadata": {},
   "outputs": [],
   "source": [
    "categorical_cols = [\n",
    "    'Type', 'PaymentMethod', 'InternetService', 'gender', 'OnlineSecurity', \n",
    "    'OnlineBackup', 'DeviceProtection', 'TechSupport', 'StreamingTV', \n",
    "    'StreamingMovies', 'PaperlessBilling', 'SeniorCitizen', 'Partner', 'Dependents', 'MultipleLines'\n",
    "]\n",
    "numeric_cols = ['MonthlyCharges', 'TotalCharges', 'duration_contract']\n"
   ]
  },
  {
   "cell_type": "code",
   "execution_count": 73,
   "id": "e370c8a2",
   "metadata": {},
   "outputs": [],
   "source": [
    "encoder = OneHotEncoder(drop='first')\n",
    "encoder.fit(X_train[categorical_cols])\n",
    "\n",
    "# Прямое кодирование тренировочной выборки\n",
    "X_train_encoded = encoder.transform(X_train[categorical_cols]).toarray()\n",
    "\n",
    "X_train = pd.DataFrame(\n",
    "    np.hstack((X_train[numeric_cols], X_train_encoded)),\n",
    "    columns=numeric_cols + encoder.get_feature_names().tolist()\n",
    ")\n",
    "\n",
    "# Прямое кодирование тестовой выборки\n",
    "X_test_encoded = encoder.transform(X_test[categorical_cols]).toarray()\n",
    "\n",
    "X_test = pd.DataFrame(\n",
    "    np.hstack((X_test[numeric_cols], X_test_encoded)),\n",
    "    columns=numeric_cols  + encoder.get_feature_names().tolist()\n",
    ")"
   ]
  },
  {
   "cell_type": "code",
   "execution_count": 74,
   "id": "0b7d9f30",
   "metadata": {},
   "outputs": [],
   "source": [
    "# Масштабирование количественных признаков\n",
    "scaler = StandardScaler()\n",
    "\n",
    "scaler.fit(X_train[numeric_cols])\n",
    "\n",
    "X_train[numeric_cols] = scaler.transform(X_train[numeric_cols])\n",
    "X_test[numeric_cols] = scaler.transform(X_test[numeric_cols])"
   ]
  },
  {
   "cell_type": "code",
   "execution_count": 75,
   "id": "8c35a5af",
   "metadata": {},
   "outputs": [
    {
     "name": "stdout",
     "output_type": "stream",
     "text": [
      "(5282, 29) (1761, 29)\n"
     ]
    }
   ],
   "source": [
    "print(X_train.shape, X_test.shape)"
   ]
  },
  {
   "cell_type": "markdown",
   "id": "515099a0",
   "metadata": {},
   "source": [
    "### 2. Обучение модели\n"
   ]
  },
  {
   "cell_type": "code",
   "execution_count": 78,
   "id": "7dd9b135",
   "metadata": {
    "execution": {
     "iopub.execute_input": "2023-12-15T01:05:19.005307Z",
     "iopub.status.busy": "2023-12-15T01:05:19.004844Z",
     "iopub.status.idle": "2023-12-15T01:05:19.072248Z",
     "shell.execute_reply": "2023-12-15T01:05:19.071037Z",
     "shell.execute_reply.started": "2023-12-15T01:05:19.005268Z"
    }
   },
   "outputs": [],
   "source": [
    "# scaler = StandardScaler()\n",
    "# X_train[X_train.loc[:, 0:3].columns] = scaler.fit_transform(X_train[X_train.loc[:, 0:3].columns])\n",
    "# X_test[X_test.loc[:, 0:3].columns] = scaler.transform(X_test[X_test.loc[:, 0:3].columns])\n",
    "\n",
    "X_train_torch = torch.FloatTensor(np.array(X_train))\n",
    "X_test_torch = torch.FloatTensor(np.array(X_test))\n",
    "\n",
    "y_train_torch = torch.FloatTensor(np.array(y_train))\n",
    "y_test_torch = torch.FloatTensor(np.array(y_test))"
   ]
  },
  {
   "cell_type": "code",
   "execution_count": 79,
   "id": "de6c6b7a",
   "metadata": {
    "execution": {
     "iopub.execute_input": "2023-12-15T01:05:19.074366Z",
     "iopub.status.busy": "2023-12-15T01:05:19.073914Z",
     "iopub.status.idle": "2023-12-15T01:05:19.082915Z",
     "shell.execute_reply": "2023-12-15T01:05:19.081539Z",
     "shell.execute_reply.started": "2023-12-15T01:05:19.074322Z"
    }
   },
   "outputs": [
    {
     "name": "stdout",
     "output_type": "stream",
     "text": [
      "(5282, 29) (1761, 29)\n",
      "torch shape: torch.Size([5282, 29]) torch.Size([1761, 29])\n"
     ]
    }
   ],
   "source": [
    "print(X_train.shape, X_test.shape)\n",
    "print('torch shape:', X_train_torch.shape, X_test_torch.shape)"
   ]
  },
  {
   "cell_type": "code",
   "execution_count": 80,
   "id": "b09243e9",
   "metadata": {
    "execution": {
     "iopub.execute_input": "2023-12-15T01:05:19.085733Z",
     "iopub.status.busy": "2023-12-15T01:05:19.085240Z",
     "iopub.status.idle": "2023-12-15T01:05:19.094129Z",
     "shell.execute_reply": "2023-12-15T01:05:19.093029Z",
     "shell.execute_reply.started": "2023-12-15T01:05:19.085696Z"
    }
   },
   "outputs": [],
   "source": [
    "def make_predict(model, name, cv):\n",
    "    score = cross_val_score(model, X_train, y_train, cv=cv, scoring='roc_auc').mean().round(3)\n",
    "    acc = cross_val_score(model, X_train, y_train, cv=cv, scoring='accuracy').mean().round(3)\n",
    "    return name, f'AUC-ROC: {score}, Accuracy: {acc}'"
   ]
  },
  {
   "cell_type": "markdown",
   "id": "c2c8bafc",
   "metadata": {},
   "source": [
    "**Net**"
   ]
  },
  {
   "cell_type": "code",
   "execution_count": 81,
   "id": "ad377089",
   "metadata": {
    "execution": {
     "iopub.execute_input": "2023-12-15T01:05:19.096030Z",
     "iopub.status.busy": "2023-12-15T01:05:19.095620Z",
     "iopub.status.idle": "2023-12-15T01:05:19.137866Z",
     "shell.execute_reply": "2023-12-15T01:05:19.136995Z",
     "shell.execute_reply.started": "2023-12-15T01:05:19.095995Z"
    }
   },
   "outputs": [],
   "source": [
    "#Accuracy, Auc-roc, loss\n",
    "bacc = BinaryAccuracy()\n",
    "auc = AUROC(task='binary')\n",
    "loss = nn.BCELoss()\n",
    "\n",
    "model = nn.Sequential(\n",
    "    nn.Linear(29, 128),\n",
    "    nn.ReLU(),\n",
    "    nn.Linear(128, 1),\n",
    "    nn.Sigmoid())"
   ]
  },
  {
   "cell_type": "code",
   "execution_count": 82,
   "id": "fe033f25",
   "metadata": {
    "execution": {
     "iopub.execute_input": "2023-12-15T01:05:19.141005Z",
     "iopub.status.busy": "2023-12-15T01:05:19.139492Z",
     "iopub.status.idle": "2023-12-15T01:05:19.146572Z",
     "shell.execute_reply": "2023-12-15T01:05:19.145348Z",
     "shell.execute_reply.started": "2023-12-15T01:05:19.140952Z"
    }
   },
   "outputs": [],
   "source": [
    "#разбиваем на k-фолдов\n",
    "k_folds = 5\n",
    "kfold = KFold(n_splits=k_folds, shuffle=True, random_state=RANDOM_STATE)"
   ]
  },
  {
   "cell_type": "code",
   "execution_count": 83,
   "id": "1d2e4874",
   "metadata": {
    "execution": {
     "iopub.execute_input": "2023-12-15T01:05:19.149222Z",
     "iopub.status.busy": "2023-12-15T01:05:19.147870Z",
     "iopub.status.idle": "2023-12-15T01:06:02.091631Z",
     "shell.execute_reply": "2023-12-15T01:06:02.090501Z",
     "shell.execute_reply.started": "2023-12-15T01:05:19.149170Z"
    }
   },
   "outputs": [
    {
     "data": {
      "application/vnd.jupyter.widget-view+json": {
       "model_id": "e010f0a2bdcb4a4bbf99290822c1fb1d",
       "version_major": 2,
       "version_minor": 0
      },
      "text/plain": [
       "  0%|          | 0/1000 [00:00<?, ?it/s]"
      ]
     },
     "metadata": {},
     "output_type": "display_data"
    },
    {
     "data": {
      "application/vnd.jupyter.widget-view+json": {
       "model_id": "bb29487a12874095b666388f3bb24574",
       "version_major": 2,
       "version_minor": 0
      },
      "text/plain": [
       "  0%|          | 0/1000 [00:00<?, ?it/s]"
      ]
     },
     "metadata": {},
     "output_type": "display_data"
    },
    {
     "data": {
      "application/vnd.jupyter.widget-view+json": {
       "model_id": "c9913cde9ee74e2b919913b0c4553a56",
       "version_major": 2,
       "version_minor": 0
      },
      "text/plain": [
       "  0%|          | 0/1000 [00:00<?, ?it/s]"
      ]
     },
     "metadata": {},
     "output_type": "display_data"
    },
    {
     "data": {
      "application/vnd.jupyter.widget-view+json": {
       "model_id": "1a05fd4bfd134353a394b7ae65ee3c34",
       "version_major": 2,
       "version_minor": 0
      },
      "text/plain": [
       "  0%|          | 0/1000 [00:00<?, ?it/s]"
      ]
     },
     "metadata": {},
     "output_type": "display_data"
    },
    {
     "data": {
      "application/vnd.jupyter.widget-view+json": {
       "model_id": "60ad9318d1704d21a8ac286b06f1b805",
       "version_major": 2,
       "version_minor": 0
      },
      "text/plain": [
       "  0%|          | 0/1000 [00:00<?, ?it/s]"
      ]
     },
     "metadata": {},
     "output_type": "display_data"
    },
    {
     "name": "stdout",
     "output_type": "stream",
     "text": [
      "Cross-val AUC-ROC: 0.812\n",
      "Cross-val accuracy: 0.734\n"
     ]
    }
   ],
   "source": [
    "metrics = {}\n",
    "metrics['fold'] = []\n",
    "metrics['loss'] = []\n",
    "metrics['auc'] = []\n",
    "metrics['accuracy'] = []\n",
    "\n",
    "for fold, (train_index, val_index) in enumerate(kfold.split(X_train_torch)):\n",
    "\n",
    "    train_X, val_X = X_train_torch[train_index], X_train_torch[val_index]\n",
    "    train_y, val_y = y_train_torch[train_index], y_train_torch[val_index]\n",
    "    \n",
    "    for epoch in tqdm(range(1000)):\n",
    "        loss_fold = []\n",
    "        accur_fold = []\n",
    "        auc_fold = []\n",
    "        model.train()\n",
    "        optimizer = torch.optim.Adam(model.parameters(), lr=0.1)\n",
    "        optimizer.zero_grad()\n",
    "        predictions = model.forward(train_X).flatten()\n",
    "        loss_value = loss(predictions, train_y)\n",
    "        loss_value.backward()\n",
    "        optimizer.step()\n",
    "        loss_fold.append(loss_value.cpu().detach().numpy())\n",
    "        if epoch // 100 > 0:\n",
    "            with torch.no_grad():\n",
    "                model.eval()\n",
    "                val_preds = model.forward(val_X).flatten()\n",
    "                acc = bacc(val_preds, val_y).item()\n",
    "                auc_roc = auc(val_preds, val_y).item()\n",
    "                accur_fold.append(acc)\n",
    "                auc_fold.append(auc_roc)\n",
    "                \n",
    "    metrics['fold'].append(fold)   \n",
    "    metrics['loss'].append(np.mean(loss_fold))\n",
    "    metrics['accuracy'].append(np.mean(accur_fold))\n",
    "    metrics['auc'].append(np.mean(auc_fold))\n",
    "    \n",
    "print('Cross-val AUC-ROC:', np.mean(metrics['auc']).round(3))    \n",
    "print('Cross-val accuracy:', np.mean(metrics['accuracy']).round(3))"
   ]
  },
  {
   "cell_type": "markdown",
   "id": "7cc58423",
   "metadata": {},
   "source": [
    "**LogisticRegression**"
   ]
  },
  {
   "cell_type": "code",
   "execution_count": 84,
   "id": "c90e812b",
   "metadata": {
    "execution": {
     "iopub.execute_input": "2023-12-15T01:06:02.094127Z",
     "iopub.status.busy": "2023-12-15T01:06:02.093435Z",
     "iopub.status.idle": "2023-12-15T01:06:03.605403Z",
     "shell.execute_reply": "2023-12-15T01:06:03.604238Z",
     "shell.execute_reply.started": "2023-12-15T01:06:02.094083Z"
    }
   },
   "outputs": [
    {
     "data": {
      "text/plain": [
       "('LogisticRegression', 'AUC-ROC: 0.833, Accuracy: 0.798')"
      ]
     },
     "execution_count": 84,
     "metadata": {},
     "output_type": "execute_result"
    }
   ],
   "source": [
    "make_predict(LogisticRegression(random_state=RANDOM_STATE, max_iter=3000), 'LogisticRegression', cv=5)"
   ]
  },
  {
   "cell_type": "markdown",
   "id": "ec84e186",
   "metadata": {},
   "source": [
    "**DecisionTreeClassifier**"
   ]
  },
  {
   "cell_type": "code",
   "execution_count": 85,
   "id": "bba04422",
   "metadata": {
    "execution": {
     "iopub.execute_input": "2023-12-15T01:06:03.608044Z",
     "iopub.status.busy": "2023-12-15T01:06:03.607305Z",
     "iopub.status.idle": "2023-12-15T01:06:04.861734Z",
     "shell.execute_reply": "2023-12-15T01:06:04.860014Z",
     "shell.execute_reply.started": "2023-12-15T01:06:03.608003Z"
    }
   },
   "outputs": [
    {
     "data": {
      "text/plain": [
       "('DecisionTreeClassifier', 'AUC-ROC: 0.645, Accuracy: 0.738')"
      ]
     },
     "execution_count": 85,
     "metadata": {},
     "output_type": "execute_result"
    }
   ],
   "source": [
    "make_predict(DecisionTreeClassifier(random_state=RANDOM_STATE, max_depth=1, criterion='entropy'), \n",
    "             'DecisionTreeClassifier', cv=5)"
   ]
  },
  {
   "cell_type": "markdown",
   "id": "11a5b371",
   "metadata": {},
   "source": [
    "**AdaBoostClassifier**"
   ]
  },
  {
   "cell_type": "code",
   "execution_count": 86,
   "id": "31969620",
   "metadata": {
    "execution": {
     "iopub.execute_input": "2023-12-15T01:06:04.864526Z",
     "iopub.status.busy": "2023-12-15T01:06:04.864039Z",
     "iopub.status.idle": "2023-12-15T01:08:00.805295Z",
     "shell.execute_reply": "2023-12-15T01:08:00.803540Z",
     "shell.execute_reply.started": "2023-12-15T01:06:04.864486Z"
    }
   },
   "outputs": [
    {
     "name": "stdout",
     "output_type": "stream",
     "text": [
      "CPU times: user 31.7 s, sys: 241 ms, total: 31.9 s\n",
      "Wall time: 32 s\n"
     ]
    },
    {
     "data": {
      "text/plain": [
       "('AdaBoostClassifier', 'AUC-ROC: 0.842, Accuracy: 0.796')"
      ]
     },
     "execution_count": 86,
     "metadata": {},
     "output_type": "execute_result"
    }
   ],
   "source": [
    "%%time\n",
    "ada = AdaBoostClassifier(DecisionTreeClassifier(random_state=RANDOM_STATE, max_depth=1, criterion='entropy'), \n",
    "                   n_estimators=700, random_state=RANDOM_STATE, learning_rate=0.1)\n",
    "\n",
    "make_predict(ada, 'AdaBoostClassifier', cv=5)"
   ]
  },
  {
   "cell_type": "markdown",
   "id": "cea15b84",
   "metadata": {},
   "source": [
    "**Stacking**"
   ]
  },
  {
   "cell_type": "code",
   "execution_count": 87,
   "id": "e25eeae1",
   "metadata": {
    "execution": {
     "iopub.execute_input": "2023-12-15T01:08:00.808356Z",
     "iopub.status.busy": "2023-12-15T01:08:00.807931Z",
     "iopub.status.idle": "2023-12-15T01:08:15.826758Z",
     "shell.execute_reply": "2023-12-15T01:08:15.825011Z",
     "shell.execute_reply.started": "2023-12-15T01:08:00.808321Z"
    }
   },
   "outputs": [
    {
     "data": {
      "text/plain": [
       "0.8603187283143711"
      ]
     },
     "execution_count": 87,
     "metadata": {},
     "output_type": "execute_result"
    }
   ],
   "source": [
    "logreg = LogisticRegression(random_state=RANDOM_STATE, max_iter=3000)\n",
    "logreg.fit(X_train, y_train)\n",
    "\n",
    "logreg_preds_train = logreg.predict_proba(X_train)[:, 1]\n",
    "logreg_preds_test = logreg.predict_proba(X_test)[:, 1]\n",
    "\n",
    "ada.fit(np.hstack([X_train, logreg_preds_train.reshape(-1, 1)]), y_train)\n",
    "roc_auc_score(y_test, ada.predict_proba(np.hstack([X_test, logreg_preds_test.reshape(-1, 1)]))[:, 1])"
   ]
  },
  {
   "cell_type": "code",
   "execution_count": 88,
   "id": "d85f0e53",
   "metadata": {
    "execution": {
     "iopub.execute_input": "2023-12-15T01:08:15.828751Z",
     "iopub.status.busy": "2023-12-15T01:08:15.828364Z",
     "iopub.status.idle": "2023-12-15T01:08:30.752876Z",
     "shell.execute_reply": "2023-12-15T01:08:30.746881Z",
     "shell.execute_reply.started": "2023-12-15T01:08:15.828719Z"
    }
   },
   "outputs": [
    {
     "data": {
      "text/plain": [
       "0.8510142822561122"
      ]
     },
     "execution_count": 88,
     "metadata": {},
     "output_type": "execute_result"
    }
   ],
   "source": [
    "lr = LogisticRegression(random_state=RANDOM_STATE, max_iter=3000)\n",
    "clf = AdaBoostClassifier(DecisionTreeClassifier(random_state=RANDOM_STATE, max_depth=1, criterion='entropy'), \n",
    "                   n_estimators=100, random_state=0, learning_rate=0.01)\n",
    "\n",
    "clf.fit(X_train, y_train)\n",
    "clf_preds_train = clf.predict_proba(X_train)[:, 1]\n",
    "clf_preds_test = clf.predict_proba(X_test)[:, 1]\n",
    "\n",
    "lr.fit(np.hstack([X_train, clf_preds_train.reshape(-1, 1)]), y_train)\n",
    "roc_auc_score(y_test, lr.predict_proba(np.hstack([X_test, clf_preds_test.reshape(-1, 1)]))[:, 1])"
   ]
  },
  {
   "cell_type": "code",
   "execution_count": 89,
   "id": "4ce93e20",
   "metadata": {},
   "outputs": [
    {
     "data": {
      "text/plain": [
       "('Staking', 'AUC-ROC: 0.792, Accuracy: 0.738')"
      ]
     },
     "execution_count": 89,
     "metadata": {},
     "output_type": "execute_result"
    }
   ],
   "source": [
    "make_predict(clf, 'Staking', cv=5)"
   ]
  },
  {
   "cell_type": "markdown",
   "id": "1e56b3b7",
   "metadata": {},
   "source": [
    "**Вывод:**\n",
    "- На первом месте LogReg с результатом: 'AUC-ROC: 0.861, Accuracy: 0.79'\n",
    "- На втором месте модель AdaBoost с результатом: 'AUC-ROC: 0.86, Accuracy: 0.786'\n",
    "- На третьем месте нейронная сеть Net(131, 128, 128, 1) с результатом: AUC-ROC: 0.858, Accuracy: 0.736\n",
    "- На четвертом месте Дерево решений с результатом: 'AUC-ROC: 0.785, Accuracy: 0.738'"
   ]
  },
  {
   "cell_type": "markdown",
   "id": "b331d9c7",
   "metadata": {},
   "source": [
    "**Исследуем коэффициент регуляризации в логистической регрессии**"
   ]
  },
  {
   "cell_type": "code",
   "execution_count": 90,
   "id": "b84a3ffb",
   "metadata": {
    "execution": {
     "iopub.execute_input": "2023-12-15T01:08:30.755767Z",
     "iopub.status.busy": "2023-12-15T01:08:30.754927Z",
     "iopub.status.idle": "2023-12-15T01:08:42.721331Z",
     "shell.execute_reply": "2023-12-15T01:08:42.720222Z",
     "shell.execute_reply.started": "2023-12-15T01:08:30.755722Z"
    }
   },
   "outputs": [
    {
     "name": "stdout",
     "output_type": "stream",
     "text": [
      "CPU times: user 13.8 s, sys: 15.8 s, total: 29.6 s\n",
      "Wall time: 29.6 s\n"
     ]
    }
   ],
   "source": [
    "%%time\n",
    "stats  = {}\n",
    "for C in range(1, 10+1):\n",
    "    model = LogisticRegression(random_state=RANDOM_STATE, C=C, max_iter=3000)\n",
    "    stats[C] = cross_val_score(model, X_train, y_train, cv=5, scoring=\"roc_auc\").mean()"
   ]
  },
  {
   "cell_type": "code",
   "execution_count": 91,
   "id": "fbdfa939",
   "metadata": {},
   "outputs": [
    {
     "name": "stdout",
     "output_type": "stream",
     "text": [
      "Лучшее значение С 1 ROC-AUC: 0.8326032819337355\n"
     ]
    }
   ],
   "source": [
    "max(stats, key=stats.get)\n",
    "max(stats.values())\n",
    "\n",
    "print('Лучшее значение С', max(stats, key=stats.get), 'ROC-AUC:', max(stats.values()))"
   ]
  },
  {
   "cell_type": "markdown",
   "id": "4af27916",
   "metadata": {},
   "source": [
    "**Вывод:**\n",
    "- С помощью регуляризационного коэффициента не удалось улучшить значение метрики ROC-AUC, возьмем модель AdaBoost"
   ]
  },
  {
   "cell_type": "code",
   "execution_count": 92,
   "id": "f62c6b85",
   "metadata": {
    "execution": {
     "iopub.execute_input": "2023-12-15T01:08:42.723671Z",
     "iopub.status.busy": "2023-12-15T01:08:42.722928Z",
     "iopub.status.idle": "2023-12-15T01:08:44.626686Z",
     "shell.execute_reply": "2023-12-15T01:08:44.625052Z",
     "shell.execute_reply.started": "2023-12-15T01:08:42.723620Z"
    }
   },
   "outputs": [
    {
     "name": "stdout",
     "output_type": "stream",
     "text": [
      "Fitting 5 folds for each of 12 candidates, totalling 60 fits\n",
      "CPU times: user 336 ms, sys: 2.39 ms, total: 338 ms\n",
      "Wall time: 349 ms\n"
     ]
    },
    {
     "data": {
      "text/plain": [
       "GridSearchCV(cv=5, estimator=DecisionTreeClassifier(random_state=111223),\n",
       "             param_grid={'criterion': ('gini', 'entropy'),\n",
       "                         'max_depth': (1, 2, 3),\n",
       "                         'max_features': ('sqrt', 'log2')},\n",
       "             verbose=True)"
      ]
     },
     "execution_count": 92,
     "metadata": {},
     "output_type": "execute_result"
    }
   ],
   "source": [
    "%%time\n",
    "param_grid = {'max_features': ('sqrt', 'log2'),\n",
    "              'max_depth' : (1, 2, 3),\n",
    "              'criterion' :('gini', 'entropy')}\n",
    "\n",
    "tree = DecisionTreeClassifier(random_state=RANDOM_STATE)\n",
    "grid_search = GridSearchCV(estimator=tree, param_grid=param_grid, cv=5, verbose=True)\n",
    "grid_search.fit(X_train, y_train)"
   ]
  },
  {
   "cell_type": "markdown",
   "id": "8f2735ee",
   "metadata": {},
   "source": [
    "**Вывод:**\n",
    "- После подбора гиперпараметров не получилось улучшить score"
   ]
  },
  {
   "cell_type": "code",
   "execution_count": 94,
   "id": "5bf8e160",
   "metadata": {
    "execution": {
     "iopub.execute_input": "2023-12-15T01:09:09.195099Z",
     "iopub.status.busy": "2023-12-15T01:09:09.194000Z",
     "iopub.status.idle": "2023-12-15T01:09:23.640760Z",
     "shell.execute_reply": "2023-12-15T01:09:23.639531Z",
     "shell.execute_reply.started": "2023-12-15T01:09:09.195054Z"
    }
   },
   "outputs": [
    {
     "name": "stdout",
     "output_type": "stream",
     "text": [
      "CPU times: user 3.38 s, sys: 30.6 ms, total: 3.41 s\n",
      "Wall time: 3.42 s\n"
     ]
    },
    {
     "data": {
      "text/plain": [
       "AdaBoostClassifier(base_estimator=DecisionTreeClassifier(criterion='entropy',\n",
       "                                                         max_depth=1,\n",
       "                                                         random_state=111223),\n",
       "                   learning_rate=0.01, n_estimators=700, random_state=111223)"
      ]
     },
     "execution_count": 94,
     "metadata": {},
     "output_type": "execute_result"
    }
   ],
   "source": [
    "%%time\n",
    "ada = AdaBoostClassifier(DecisionTreeClassifier(random_state=RANDOM_STATE, max_depth=1, criterion='entropy'), \n",
    "                   n_estimators=700, random_state=RANDOM_STATE, learning_rate=0.01)\n",
    "ada.fit(X_train, y_train)"
   ]
  },
  {
   "cell_type": "code",
   "execution_count": 95,
   "id": "8dc6c00d",
   "metadata": {
    "execution": {
     "iopub.execute_input": "2023-12-15T01:09:23.643568Z",
     "iopub.status.busy": "2023-12-15T01:09:23.642774Z",
     "iopub.status.idle": "2023-12-15T01:09:23.659050Z",
     "shell.execute_reply": "2023-12-15T01:09:23.657440Z",
     "shell.execute_reply.started": "2023-12-15T01:09:23.643518Z"
    }
   },
   "outputs": [
    {
     "data": {
      "text/plain": [
       "array([0.        , 0.28857143, 0.        , 0.09285714, 0.15428571,\n",
       "       0.        , 0.05857143, 0.        , 0.18142857, 0.02285714,\n",
       "       0.        , 0.01857143, 0.02714286, 0.02857143, 0.        ,\n",
       "       0.02142857, 0.        , 0.01857143, 0.        , 0.01571429,\n",
       "       0.        , 0.02428571, 0.        , 0.04714286, 0.        ,\n",
       "       0.        , 0.        , 0.        , 0.        ])"
      ]
     },
     "execution_count": 95,
     "metadata": {},
     "output_type": "execute_result"
    }
   ],
   "source": [
    "#посмотрим важность признаков\n",
    "ada.feature_importances_"
   ]
  },
  {
   "cell_type": "code",
   "execution_count": 96,
   "id": "ee45e3c5",
   "metadata": {
    "execution": {
     "iopub.execute_input": "2023-12-15T01:09:23.673090Z",
     "iopub.status.busy": "2023-12-15T01:09:23.672670Z",
     "iopub.status.idle": "2023-12-15T01:09:24.092513Z",
     "shell.execute_reply": "2023-12-15T01:09:24.091356Z",
     "shell.execute_reply.started": "2023-12-15T01:09:23.673049Z"
    }
   },
   "outputs": [
    {
     "data": {
      "text/plain": [
       "[1, 3, 4, 6, 8, 9, 11, 12, 13, 15, 17, 19, 21, 23]"
      ]
     },
     "execution_count": 96,
     "metadata": {},
     "output_type": "execute_result"
    }
   ],
   "source": [
    "indices = [i for i in range(0, len(ada.feature_importances_)) if ada.feature_importances_[i]>0]\n",
    "indices"
   ]
  },
  {
   "cell_type": "code",
   "execution_count": 97,
   "id": "387677c0",
   "metadata": {
    "execution": {
     "iopub.execute_input": "2023-12-15T01:09:24.094146Z",
     "iopub.status.busy": "2023-12-15T01:09:24.093797Z",
     "iopub.status.idle": "2023-12-15T01:09:24.448134Z",
     "shell.execute_reply": "2023-12-15T01:09:24.446602Z",
     "shell.execute_reply.started": "2023-12-15T01:09:24.094105Z"
    }
   },
   "outputs": [
    {
     "data": {
      "image/png": "[encoded data removed]",
      "text/plain": [
       "<Figure size 720x360 with 1 Axes>"
      ]
     },
     "metadata": {},
     "output_type": "display_data"
    }
   ],
   "source": [
    "\n",
    "#X.iloc[:, indices].columns\n",
    "pd.Series(ada.feature_importances_[indices], \n",
    "          index=['MonthlyCharges', 'TotalCharges', 'SeniorCitizen', 'duration_contract','Dependents','PaperlessBilling'\\\n",
    "                'Type','Partner', 'gender','PaymentMethod','MultipleLines','SeniorCitizen','Dependents','MultipleLines','duration_contract'] ).plot(kind='bar')\n",
    "\n",
    "plt.title('Feature importance AdaBoostClassifier')\n",
    "plt.xlabel('Feature index')\n",
    "plt.ylabel('Feature importance')\n",
    "plt.show()\n",
    "\n",
    "#list(X.iloc[:, indices].columns[4:])\n",
    "\n"
   ]
  },
  {
   "cell_type": "markdown",
   "id": "31e8a7d0",
   "metadata": {},
   "source": [
    "**Вывод:**\n",
    "- Исследовали важность признаков у модели AdaBoost, важным они считает признак итоговая сумма за использование, на втором месте месячная оплата и на уровне погрешности признак из текстового описания"
   ]
  },
  {
   "cell_type": "markdown",
   "id": "c5f3a395",
   "metadata": {},
   "source": [
    "**Test AdaBoostClassifier**"
   ]
  },
  {
   "cell_type": "code",
   "execution_count": 98,
   "id": "cde0a78f",
   "metadata": {
    "execution": {
     "iopub.execute_input": "2023-12-15T01:09:24.450076Z",
     "iopub.status.busy": "2023-12-15T01:09:24.449723Z",
     "iopub.status.idle": "2023-12-15T01:09:39.048467Z",
     "shell.execute_reply": "2023-12-15T01:09:39.046527Z",
     "shell.execute_reply.started": "2023-12-15T01:09:24.450044Z"
    }
   },
   "outputs": [
    {
     "name": "stdout",
     "output_type": "stream",
     "text": [
      "AUC-ROC Test: 0.854239490034697\n",
      "Accuracy Test: 0.7938671209540034\n"
     ]
    }
   ],
   "source": [
    "#на тестовых\n",
    "model = ada\n",
    "model.fit(X_train, y_train)\n",
    "print('AUC-ROC Test:', roc_auc_score(y_test, model.predict_proba(X_test)[:,1]))\n",
    "print('Accuracy Test:', accuracy_score(y_test, model.predict(X_test)))"
   ]
  },
  {
   "cell_type": "markdown",
   "id": "dc2773de",
   "metadata": {},
   "source": [
    "**После тестирования модели, мы выяснили что Accuracy нашей модели равняется 0.72**\n",
    "\n",
    "**Точность определяет, как много отрицательных ответов нашла модель, пока искала положительные. Чем больше отрицательных, тем ниже точность.**\n",
    "\n",
    "**В данном случает наша модель будет правильно находить клиетнта, которому нужно особое отношение, чтобы не допустить его отток к другому оператору с вероятностью 72%**"
   ]
  },
  {
   "cell_type": "code",
   "execution_count": 99,
   "id": "47c062cd",
   "metadata": {
    "execution": {
     "iopub.execute_input": "2023-12-15T01:09:39.050412Z",
     "iopub.status.busy": "2023-12-15T01:09:39.050054Z",
     "iopub.status.idle": "2023-12-15T01:09:39.165220Z",
     "shell.execute_reply": "2023-12-15T01:09:39.163744Z",
     "shell.execute_reply.started": "2023-12-15T01:09:39.050382Z"
    }
   },
   "outputs": [
    {
     "name": "stdout",
     "output_type": "stream",
     "text": [
      "              precision    recall  f1-score   support\n",
      "\n",
      "           0       0.80      0.96      0.87      1275\n",
      "           1       0.78      0.36      0.49       486\n",
      "\n",
      "    accuracy                           0.79      1761\n",
      "   macro avg       0.79      0.66      0.68      1761\n",
      "weighted avg       0.79      0.79      0.77      1761\n",
      "\n"
     ]
    }
   ],
   "source": [
    "print(classification_report(y_test, model.predict(X_test)))"
   ]
  },
  {
   "cell_type": "code",
   "execution_count": 100,
   "id": "72c944a2",
   "metadata": {
    "scrolled": true
   },
   "outputs": [
    {
     "name": "stdout",
     "output_type": "stream",
     "text": [
      "[[1225   50]\n",
      " [ 313  173]]\n"
     ]
    }
   ],
   "source": [
    "predicted_valid = model.predict(X_test)\n",
    "\n",
    "print(confusion_matrix(y_test,predicted_valid))"
   ]
  },
  {
   "cell_type": "markdown",
   "id": "0c1f4f76",
   "metadata": {},
   "source": [
    "- TN = 1275\n",
    "- TP = 0\n",
    "\n",
    "- FP = 0\n",
    "- FN 486"
   ]
  },
  {
   "cell_type": "markdown",
   "id": "e2b3f0e9",
   "metadata": {},
   "source": [
    "**Описание метрик**\n",
    "\n",
    "*TP, FP, TN, FN* собираются в одну таблицу — **матрицу ошибок**, или **матрицу неточностей** (англ. *сonfusion matrix)*.\n",
    "\n",
    "Матрица формируется так:\n",
    "- по горизонтали («Предсказания») располагаются метки алгоритма от 0 до 1;\n",
    "- по вертикали («Ответы») — истинные метки класса от 0 до 1.\n",
    "\n",
    "Что получаем:\n",
    "\n",
    "- По главной диагонали (от верхнего левого угла) выстроены правильные прогнозы:\n",
    " - TN в левом верхнем углу;\n",
    " - TP в правом нижнем углу.\n",
    " \n",
    "- Вне главной диагонали — ошибочные варианты:\n",
    " - FP в правом верхнем углу;\n",
    " - FN в левом нижнем углу.\n",
    " \n",
    "----\n",
    " \n",
    " Что значит истинно положительный ответ (TP)? Модель пометила объект единицей, и его настоящее значение тоже — 1.\n",
    " \n",
    " В нашей задаче истинно положительный ответ — это количество клиентов, которые:\n",
    "- по прогнозу модели должны были уйти;\n",
    "- фактически запросили расторгнуть договор.\n",
    "\n",
    "---\n",
    "Если предсказанное и фактическое значение класса отрицательные, ответ истинно отрицательный.\n",
    "\n",
    "В нашей задаче истинно отрицательный ответ (TN) — это количество клиентов, которые:\n",
    "- по прогнозу модели не должны были расторгнуть договор;\n",
    "- фактически не расторгнули договор.\n",
    "---\n",
    "Ошибка первого рода — это ложноположительные ответы (FP). Они возникают, когда модель предсказала «1», а вот действительное значение класса — «0».\n",
    "\n",
    "В нашей задаче ложноположительный ответ — это количество клиентов, которые:\n",
    "- по прогнозу модели должны были расторгнуть договор;\n",
    "- фактически не расторгнули.\n",
    "\n",
    "---\n",
    "\n",
    "Ошибка второго рода — ложноотрицательные ответы (FN).\n",
    "Ложноотрицательные ответы появляются, когда модель предсказала «0», а действительное значение класса — «1».\n",
    "\n",
    "В нашей задаче ложноотрицательный ответ — это количество клиентов, которые:\n",
    "- по прогнозу модели не должны были уйти;\n",
    "- фактически ушли."
   ]
  },
  {
   "cell_type": "markdown",
   "id": "a25c55f3",
   "metadata": {},
   "source": [
    "Анализ матрицы ошибок показывает, что протестированная модель правильно предсказывает большую часть класса 0 (на графике горизонталь «Negative», договор не расторгнут).  Значительно хуже обстоят дела с предсказанием класса 1 (на графике горизонталь «Positive», договор расторгнут). Вывод. Модель эффективно предскажет пользователя, который не собирается расторгать договор"
   ]
  },
  {
   "cell_type": "markdown",
   "id": "63397eef",
   "metadata": {},
   "source": [
    "**Вывод:**\n",
    "- На тестовых данных AUC-ROC модели 0.86, что удовлетворяет условиям заказчика, то есть модель хорошо различает классы, с другой по отчету видно, что модель слабо разбирается в классе 1, но хорошо разбирается в классе 0, т.е понимает кто останется, что тоже можно использовать"
   ]
  },
  {
   "cell_type": "code",
   "execution_count": 101,
   "id": "ae3b9e98",
   "metadata": {
    "execution": {
     "iopub.execute_input": "2023-12-15T01:09:39.176760Z",
     "iopub.status.busy": "2023-12-15T01:09:39.176303Z",
     "iopub.status.idle": "2023-12-15T01:09:39.675866Z",
     "shell.execute_reply": "2023-12-15T01:09:39.674208Z",
     "shell.execute_reply.started": "2023-12-15T01:09:39.176726Z"
    }
   },
   "outputs": [
    {
     "data": {
      "image/png": "[encoded data removed]",
      "text/plain": [
       "<Figure size 720x360 with 1 Axes>"
      ]
     },
     "metadata": {},
     "output_type": "display_data"
    }
   ],
   "source": [
    "precision, recall, thresholds = precision_recall_curve(y_test, model.predict(X_test))\n",
    "plt.plot(recall, precision, color='purple')\n",
    "\n",
    "plt.title('Precision-Recall Curve')\n",
    "plt.ylabel('Precision')\n",
    "plt.xlabel('Recall')\n",
    "\n",
    "plt.show() "
   ]
  },
  {
   "cell_type": "markdown",
   "id": "9f839630",
   "metadata": {},
   "source": [
    "**Вывод:**\n",
    "- Видно что при увеличении полноты точность снижается, это значит что чем больше определяем положительный класс, тем меньше точность"
   ]
  },
  {
   "cell_type": "markdown",
   "id": "0f8b8a0e",
   "metadata": {},
   "source": [
    "**Проверка на адекватность**"
   ]
  },
  {
   "cell_type": "code",
   "execution_count": 102,
   "id": "f3f612f1",
   "metadata": {
    "execution": {
     "iopub.execute_input": "2023-12-15T01:09:39.678960Z",
     "iopub.status.busy": "2023-12-15T01:09:39.677706Z",
     "iopub.status.idle": "2023-12-15T01:09:39.692448Z",
     "shell.execute_reply": "2023-12-15T01:09:39.691338Z",
     "shell.execute_reply.started": "2023-12-15T01:09:39.678916Z"
    }
   },
   "outputs": [
    {
     "data": {
      "text/plain": [
       "0.5"
      ]
     },
     "execution_count": 102,
     "metadata": {},
     "output_type": "execute_result"
    }
   ],
   "source": [
    "dummy_clf = DummyClassifier()\n",
    "dummy_clf.fit(X_train, y_train)\n",
    "roc_auc_score(y_test, dummy_clf.predict_proba(X_test)[:,1])"
   ]
  },
  {
   "cell_type": "markdown",
   "id": "1418bae2",
   "metadata": {},
   "source": [
    "# Общий вывод:"
   ]
  },
  {
   "cell_type": "markdown",
   "id": "9d5cd220",
   "metadata": {},
   "source": [
    "- Познакомились с данными, все таблицы оказались на месте, провели исследовательский анализ\n",
    "- Постарались нарисовать портрет абонента, который откажется от услуг связи:\n",
    "- Это человек с ежемесячной оплатой, получающий электронный рассчетный лист, с электронной оплатой, мужчина или женщина, в трудоспособном состоянии, не состоящий в браке, без детей, с подключением через fiber-optic, без блокировки опасных сайтов, без облачного хранилища, без антивируса, без выделенной линии тех.поддержки, без стримингово тв, без каталога фильмов\n",
    "- Попробовали стэкинг моделей т.е использовали вероятности предсказанные adaboost в качестве входного признака для логистической регрессии, получили результат 0.871, а при использовании вероятностей логистической регрессии в adaboost 0.869\n",
    "---\n",
    "\n",
    "- На первом месте LogReg с результатом: 'AUC-ROC: 0.861, Accuracy: 0.79'\n",
    "- На втором месте модель AdaBoost с результатом: 'AUC-ROC: 0.86, Accuracy: 0.786'\n",
    "- На третьем месте нейронная сеть Net(131, 128, 128, 1) с результатом: AUC-ROC: 0.858, Accuracy: 0.736\n",
    "- На четвертом месте Дерево решений с результатом: 'AUC-ROC: 0.785, Accuracy: 0.738'\n",
    "---\n",
    "**На тесте AdaBoost показала себя с результатом AUC-ROC = 0.851, Accuracy = 0.767**\n",
    "\n",
    "\n",
    "- Исследовали важность признаков у модели AdaBoost, важным они считает признак итоговая сумма за использование, на втором месте месячная оплата "
   ]
  }
 ],
 "metadata": {
  "ExecuteTimeLog": [
   {
    "duration": 20,
    "start_time": "2023-05-15T14:33:29.000Z"
   },
   {
    "duration": 50,
    "start_time": "2023-05-19T09:52:44.840Z"
   },
   {
    "duration": 50,
    "start_time": "2023-05-19T09:55:56.688Z"
   },
   {
    "duration": 6,
    "start_time": "2023-05-19T09:56:00.188Z"
   },
   {
    "duration": 4564,
    "start_time": "2023-12-15T08:55:02.316Z"
   },
   {
    "duration": 0,
    "start_time": "2023-12-15T08:55:06.883Z"
   },
   {
    "duration": 0,
    "start_time": "2023-12-15T08:55:06.885Z"
   },
   {
    "duration": 0,
    "start_time": "2023-12-15T08:55:06.886Z"
   },
   {
    "duration": 0,
    "start_time": "2023-12-15T08:55:06.887Z"
   },
   {
    "duration": 0,
    "start_time": "2023-12-15T08:55:06.888Z"
   },
   {
    "duration": 0,
    "start_time": "2023-12-15T08:55:06.889Z"
   },
   {
    "duration": 0,
    "start_time": "2023-12-15T08:55:06.890Z"
   },
   {
    "duration": 0,
    "start_time": "2023-12-15T08:55:06.891Z"
   },
   {
    "duration": 0,
    "start_time": "2023-12-15T08:55:06.892Z"
   },
   {
    "duration": 0,
    "start_time": "2023-12-15T08:55:06.893Z"
   },
   {
    "duration": 0,
    "start_time": "2023-12-15T08:55:06.894Z"
   },
   {
    "duration": 0,
    "start_time": "2023-12-15T08:55:06.895Z"
   },
   {
    "duration": 0,
    "start_time": "2023-12-15T08:55:06.896Z"
   },
   {
    "duration": 0,
    "start_time": "2023-12-15T08:55:06.897Z"
   },
   {
    "duration": 0,
    "start_time": "2023-12-15T08:55:06.898Z"
   },
   {
    "duration": 0,
    "start_time": "2023-12-15T08:55:06.899Z"
   },
   {
    "duration": 0,
    "start_time": "2023-12-15T08:55:06.900Z"
   },
   {
    "duration": 0,
    "start_time": "2023-12-15T08:55:06.901Z"
   },
   {
    "duration": 0,
    "start_time": "2023-12-15T08:55:06.902Z"
   },
   {
    "duration": 0,
    "start_time": "2023-12-15T08:55:06.903Z"
   },
   {
    "duration": 0,
    "start_time": "2023-12-15T08:55:06.904Z"
   },
   {
    "duration": 0,
    "start_time": "2023-12-15T08:55:06.905Z"
   },
   {
    "duration": 0,
    "start_time": "2023-12-15T08:55:06.906Z"
   },
   {
    "duration": 0,
    "start_time": "2023-12-15T08:55:06.907Z"
   },
   {
    "duration": 0,
    "start_time": "2023-12-15T08:55:06.909Z"
   },
   {
    "duration": 0,
    "start_time": "2023-12-15T08:55:06.910Z"
   },
   {
    "duration": 0,
    "start_time": "2023-12-15T08:55:06.911Z"
   },
   {
    "duration": 0,
    "start_time": "2023-12-15T08:55:06.913Z"
   },
   {
    "duration": 0,
    "start_time": "2023-12-15T08:55:06.914Z"
   },
   {
    "duration": 0,
    "start_time": "2023-12-15T08:55:06.915Z"
   },
   {
    "duration": 0,
    "start_time": "2023-12-15T08:55:06.917Z"
   },
   {
    "duration": 0,
    "start_time": "2023-12-15T08:55:06.918Z"
   },
   {
    "duration": 0,
    "start_time": "2023-12-15T08:55:06.982Z"
   },
   {
    "duration": 0,
    "start_time": "2023-12-15T08:55:06.983Z"
   },
   {
    "duration": 0,
    "start_time": "2023-12-15T08:55:06.984Z"
   },
   {
    "duration": 0,
    "start_time": "2023-12-15T08:55:06.985Z"
   },
   {
    "duration": 0,
    "start_time": "2023-12-15T08:55:06.986Z"
   },
   {
    "duration": 0,
    "start_time": "2023-12-15T08:55:06.987Z"
   },
   {
    "duration": 0,
    "start_time": "2023-12-15T08:55:06.988Z"
   },
   {
    "duration": 0,
    "start_time": "2023-12-15T08:55:06.990Z"
   },
   {
    "duration": 0,
    "start_time": "2023-12-15T08:55:06.990Z"
   },
   {
    "duration": 0,
    "start_time": "2023-12-15T08:55:06.992Z"
   },
   {
    "duration": 0,
    "start_time": "2023-12-15T08:55:06.993Z"
   },
   {
    "duration": 0,
    "start_time": "2023-12-15T08:55:06.994Z"
   },
   {
    "duration": 0,
    "start_time": "2023-12-15T08:55:06.995Z"
   },
   {
    "duration": 0,
    "start_time": "2023-12-15T08:55:06.996Z"
   },
   {
    "duration": 0,
    "start_time": "2023-12-15T08:55:06.997Z"
   },
   {
    "duration": 0,
    "start_time": "2023-12-15T08:55:06.998Z"
   },
   {
    "duration": 0,
    "start_time": "2023-12-15T08:55:06.999Z"
   },
   {
    "duration": 0,
    "start_time": "2023-12-15T08:55:07.000Z"
   },
   {
    "duration": 0,
    "start_time": "2023-12-15T08:55:07.001Z"
   },
   {
    "duration": 0,
    "start_time": "2023-12-15T08:55:07.002Z"
   },
   {
    "duration": 0,
    "start_time": "2023-12-15T08:55:07.003Z"
   },
   {
    "duration": 0,
    "start_time": "2023-12-15T08:55:07.004Z"
   },
   {
    "duration": 0,
    "start_time": "2023-12-15T08:55:07.004Z"
   },
   {
    "duration": 0,
    "start_time": "2023-12-15T08:55:07.005Z"
   },
   {
    "duration": 0,
    "start_time": "2023-12-15T08:55:07.006Z"
   },
   {
    "duration": 0,
    "start_time": "2023-12-15T08:55:07.007Z"
   },
   {
    "duration": 0,
    "start_time": "2023-12-15T08:55:07.008Z"
   },
   {
    "duration": 0,
    "start_time": "2023-12-15T08:55:07.008Z"
   },
   {
    "duration": 0,
    "start_time": "2023-12-15T08:55:07.009Z"
   },
   {
    "duration": 0,
    "start_time": "2023-12-15T08:55:07.010Z"
   },
   {
    "duration": 0,
    "start_time": "2023-12-15T08:55:07.011Z"
   },
   {
    "duration": 0,
    "start_time": "2023-12-15T08:55:07.012Z"
   },
   {
    "duration": 0,
    "start_time": "2023-12-15T08:55:07.013Z"
   },
   {
    "duration": 0,
    "start_time": "2023-12-15T08:55:07.014Z"
   },
   {
    "duration": 0,
    "start_time": "2023-12-15T08:55:07.015Z"
   },
   {
    "duration": 0,
    "start_time": "2023-12-15T08:55:07.015Z"
   },
   {
    "duration": 0,
    "start_time": "2023-12-15T08:55:07.016Z"
   },
   {
    "duration": 0,
    "start_time": "2023-12-15T08:55:07.017Z"
   },
   {
    "duration": 0,
    "start_time": "2023-12-15T08:55:07.018Z"
   },
   {
    "duration": 0,
    "start_time": "2023-12-15T08:55:07.019Z"
   },
   {
    "duration": 0,
    "start_time": "2023-12-15T08:55:07.082Z"
   },
   {
    "duration": 0,
    "start_time": "2023-12-15T08:55:07.083Z"
   },
   {
    "duration": 0,
    "start_time": "2023-12-15T08:55:07.084Z"
   },
   {
    "duration": 0,
    "start_time": "2023-12-15T08:55:07.085Z"
   },
   {
    "duration": 0,
    "start_time": "2023-12-15T08:55:07.086Z"
   },
   {
    "duration": 0,
    "start_time": "2023-12-15T08:55:07.087Z"
   },
   {
    "duration": 0,
    "start_time": "2023-12-15T08:55:07.088Z"
   },
   {
    "duration": 0,
    "start_time": "2023-12-15T08:55:07.089Z"
   },
   {
    "duration": 0,
    "start_time": "2023-12-15T08:55:07.090Z"
   },
   {
    "duration": 0,
    "start_time": "2023-12-15T08:55:07.091Z"
   },
   {
    "duration": 0,
    "start_time": "2023-12-15T08:55:07.092Z"
   },
   {
    "duration": 0,
    "start_time": "2023-12-15T08:55:07.093Z"
   },
   {
    "duration": 0,
    "start_time": "2023-12-15T08:55:07.093Z"
   },
   {
    "duration": 0,
    "start_time": "2023-12-15T08:55:07.094Z"
   },
   {
    "duration": 0,
    "start_time": "2023-12-15T08:55:07.095Z"
   },
   {
    "duration": 2028,
    "start_time": "2023-12-15T11:22:23.923Z"
   },
   {
    "duration": 8243,
    "start_time": "2023-12-15T11:22:46.037Z"
   },
   {
    "duration": 8577,
    "start_time": "2023-12-15T11:22:59.537Z"
   },
   {
    "duration": 8363,
    "start_time": "2023-12-15T11:34:18.527Z"
   },
   {
    "duration": 8436,
    "start_time": "2023-12-15T11:34:26.892Z"
   },
   {
    "duration": 3,
    "start_time": "2023-12-15T11:34:35.329Z"
   },
   {
    "duration": 311,
    "start_time": "2023-12-15T11:34:35.333Z"
   },
   {
    "duration": 4,
    "start_time": "2023-12-15T11:34:35.646Z"
   },
   {
    "duration": 58,
    "start_time": "2023-12-15T11:34:35.651Z"
   },
   {
    "duration": 51,
    "start_time": "2023-12-15T11:34:35.711Z"
   },
   {
    "duration": 10,
    "start_time": "2023-12-15T11:34:35.763Z"
   },
   {
    "duration": 42,
    "start_time": "2023-12-15T11:34:35.774Z"
   },
   {
    "duration": 6,
    "start_time": "2023-12-15T11:34:35.818Z"
   },
   {
    "duration": 3,
    "start_time": "2023-12-15T11:34:35.825Z"
   },
   {
    "duration": 33,
    "start_time": "2023-12-15T11:34:35.829Z"
   },
   {
    "duration": 9,
    "start_time": "2023-12-15T11:34:35.863Z"
   },
   {
    "duration": 16,
    "start_time": "2023-12-15T11:34:35.874Z"
   },
   {
    "duration": 27,
    "start_time": "2023-12-15T11:34:35.891Z"
   },
   {
    "duration": 3,
    "start_time": "2023-12-15T11:34:35.919Z"
   },
   {
    "duration": 13,
    "start_time": "2023-12-15T11:34:35.923Z"
   },
   {
    "duration": 5,
    "start_time": "2023-12-15T11:34:35.937Z"
   },
   {
    "duration": 17,
    "start_time": "2023-12-15T11:34:35.943Z"
   },
   {
    "duration": 2,
    "start_time": "2023-12-15T11:34:35.962Z"
   },
   {
    "duration": 30,
    "start_time": "2023-12-15T11:34:35.965Z"
   },
   {
    "duration": 3,
    "start_time": "2023-12-15T11:34:35.996Z"
   },
   {
    "duration": 3423,
    "start_time": "2023-12-15T11:34:36.000Z"
   },
   {
    "duration": 3,
    "start_time": "2023-12-15T11:34:39.425Z"
   },
   {
    "duration": 517,
    "start_time": "2023-12-15T11:34:39.429Z"
   },
   {
    "duration": 4,
    "start_time": "2023-12-15T11:34:39.947Z"
   },
   {
    "duration": 8,
    "start_time": "2023-12-15T11:34:39.952Z"
   },
   {
    "duration": 250,
    "start_time": "2023-12-15T11:34:39.961Z"
   },
   {
    "duration": 273,
    "start_time": "2023-12-15T11:34:40.214Z"
   },
   {
    "duration": 6,
    "start_time": "2023-12-15T11:34:40.489Z"
   },
   {
    "duration": 67,
    "start_time": "2023-12-15T11:34:40.496Z"
   },
   {
    "duration": 46,
    "start_time": "2023-12-15T11:34:40.565Z"
   },
   {
    "duration": 45,
    "start_time": "2023-12-15T11:34:40.613Z"
   },
   {
    "duration": 34,
    "start_time": "2023-12-15T11:34:40.659Z"
   },
   {
    "duration": 14,
    "start_time": "2023-12-15T11:34:40.694Z"
   },
   {
    "duration": 21,
    "start_time": "2023-12-15T11:34:40.709Z"
   },
   {
    "duration": 147,
    "start_time": "2023-12-15T11:34:40.731Z"
   },
   {
    "duration": 3,
    "start_time": "2023-12-15T11:34:40.879Z"
   },
   {
    "duration": 34,
    "start_time": "2023-12-15T11:34:40.883Z"
   },
   {
    "duration": 15,
    "start_time": "2023-12-15T11:34:40.919Z"
   },
   {
    "duration": 11,
    "start_time": "2023-12-15T11:34:40.939Z"
   },
   {
    "duration": 28,
    "start_time": "2023-12-15T11:34:40.951Z"
   },
   {
    "duration": 17,
    "start_time": "2023-12-15T11:34:40.981Z"
   },
   {
    "duration": 1672,
    "start_time": "2023-12-15T11:34:41.000Z"
   },
   {
    "duration": 250,
    "start_time": "2023-12-15T11:34:42.674Z"
   },
   {
    "duration": 266,
    "start_time": "2023-12-15T11:34:42.925Z"
   },
   {
    "duration": 7,
    "start_time": "2023-12-15T11:34:43.192Z"
   },
   {
    "duration": 48,
    "start_time": "2023-12-15T11:34:43.200Z"
   },
   {
    "duration": 3,
    "start_time": "2023-12-15T11:34:43.250Z"
   },
   {
    "duration": 12,
    "start_time": "2023-12-15T11:34:43.254Z"
   },
   {
    "duration": 6337,
    "start_time": "2023-12-15T11:34:43.267Z"
   },
   {
    "duration": 2,
    "start_time": "2023-12-15T11:34:49.605Z"
   },
   {
    "duration": 1590,
    "start_time": "2023-12-15T11:34:49.608Z"
   },
   {
    "duration": 8,
    "start_time": "2023-12-15T11:34:51.199Z"
   },
   {
    "duration": 19,
    "start_time": "2023-12-15T11:34:51.209Z"
   },
   {
    "duration": 9,
    "start_time": "2023-12-15T11:34:51.229Z"
   },
   {
    "duration": 245,
    "start_time": "2023-12-15T11:34:51.240Z"
   },
   {
    "duration": 257,
    "start_time": "2023-12-15T11:34:51.487Z"
   },
   {
    "duration": 3,
    "start_time": "2023-12-15T11:34:51.746Z"
   },
   {
    "duration": 31,
    "start_time": "2023-12-15T11:34:51.750Z"
   },
   {
    "duration": 297,
    "start_time": "2023-12-15T11:34:51.782Z"
   },
   {
    "duration": 3,
    "start_time": "2023-12-15T11:34:52.081Z"
   },
   {
    "duration": 13335,
    "start_time": "2023-12-15T11:34:52.085Z"
   },
   {
    "duration": 4,
    "start_time": "2023-12-15T11:35:05.422Z"
   },
   {
    "duration": 42,
    "start_time": "2023-12-15T11:35:05.428Z"
   },
   {
    "duration": 25,
    "start_time": "2023-12-15T11:35:05.471Z"
   },
   {
    "duration": 20,
    "start_time": "2023-12-15T11:35:05.497Z"
   },
   {
    "duration": 5,
    "start_time": "2023-12-15T11:35:05.519Z"
   },
   {
    "duration": 6,
    "start_time": "2023-12-15T11:35:05.525Z"
   },
   {
    "duration": 4,
    "start_time": "2023-12-15T11:35:05.533Z"
   },
   {
    "duration": 97683,
    "start_time": "2023-12-15T11:35:05.538Z"
   },
   {
    "duration": 5902,
    "start_time": "2023-12-15T11:36:43.222Z"
   },
   {
    "duration": 1046,
    "start_time": "2023-12-15T11:36:49.125Z"
   },
   {
    "duration": 80682,
    "start_time": "2023-12-15T11:36:50.174Z"
   },
   {
    "duration": 11159,
    "start_time": "2023-12-15T11:38:10.857Z"
   },
   {
    "duration": 10806,
    "start_time": "2023-12-15T11:38:22.017Z"
   },
   {
    "duration": 8567,
    "start_time": "2023-12-15T11:52:27.286Z"
   },
   {
    "duration": 7773,
    "start_time": "2023-12-15T11:52:35.855Z"
   },
   {
    "duration": 3,
    "start_time": "2023-12-15T11:52:43.629Z"
   },
   {
    "duration": 326,
    "start_time": "2023-12-15T11:52:43.633Z"
   },
   {
    "duration": 4,
    "start_time": "2023-12-15T11:52:43.960Z"
   },
   {
    "duration": 53,
    "start_time": "2023-12-15T11:52:43.965Z"
   },
   {
    "duration": 53,
    "start_time": "2023-12-15T11:52:44.019Z"
   },
   {
    "duration": 10,
    "start_time": "2023-12-15T11:52:44.073Z"
   },
   {
    "duration": 44,
    "start_time": "2023-12-15T11:52:44.084Z"
   },
   {
    "duration": 7,
    "start_time": "2023-12-15T11:52:44.130Z"
   },
   {
    "duration": 22,
    "start_time": "2023-12-15T11:52:44.138Z"
   },
   {
    "duration": 41,
    "start_time": "2023-12-15T11:52:44.161Z"
   },
   {
    "duration": 10,
    "start_time": "2023-12-15T11:52:44.203Z"
   },
   {
    "duration": 12,
    "start_time": "2023-12-15T11:52:44.216Z"
   },
   {
    "duration": 26,
    "start_time": "2023-12-15T11:52:44.229Z"
   },
   {
    "duration": 9,
    "start_time": "2023-12-15T11:52:44.257Z"
   },
   {
    "duration": 17,
    "start_time": "2023-12-15T11:52:44.267Z"
   },
   {
    "duration": 11,
    "start_time": "2023-12-15T11:52:44.286Z"
   },
   {
    "duration": 29,
    "start_time": "2023-12-15T11:52:44.298Z"
   },
   {
    "duration": 9,
    "start_time": "2023-12-15T11:52:44.328Z"
   },
   {
    "duration": 16,
    "start_time": "2023-12-15T11:52:44.338Z"
   },
   {
    "duration": 2,
    "start_time": "2023-12-15T11:52:44.355Z"
   },
   {
    "duration": 3405,
    "start_time": "2023-12-15T11:52:44.358Z"
   },
   {
    "duration": 2,
    "start_time": "2023-12-15T11:52:47.765Z"
   },
   {
    "duration": 524,
    "start_time": "2023-12-15T11:52:47.768Z"
   },
   {
    "duration": 4,
    "start_time": "2023-12-15T11:52:48.294Z"
   },
   {
    "duration": 16,
    "start_time": "2023-12-15T11:52:48.299Z"
   },
   {
    "duration": 250,
    "start_time": "2023-12-15T11:52:48.316Z"
   },
   {
    "duration": 250,
    "start_time": "2023-12-15T11:52:48.567Z"
   },
   {
    "duration": 6,
    "start_time": "2023-12-15T11:52:48.818Z"
   },
   {
    "duration": 2,
    "start_time": "2023-12-15T11:52:48.825Z"
   },
   {
    "duration": 10,
    "start_time": "2023-12-15T11:52:48.829Z"
   },
   {
    "duration": 29,
    "start_time": "2023-12-15T11:52:48.840Z"
   },
   {
    "duration": 28,
    "start_time": "2023-12-15T11:52:48.870Z"
   },
   {
    "duration": 15,
    "start_time": "2023-12-15T11:52:48.914Z"
   },
   {
    "duration": 20,
    "start_time": "2023-12-15T11:52:48.930Z"
   },
   {
    "duration": 166,
    "start_time": "2023-12-15T11:52:48.951Z"
   },
   {
    "duration": 3,
    "start_time": "2023-12-15T11:52:49.119Z"
   },
   {
    "duration": 15,
    "start_time": "2023-12-15T11:52:49.123Z"
   },
   {
    "duration": 9,
    "start_time": "2023-12-15T11:52:49.139Z"
   },
   {
    "duration": 8,
    "start_time": "2023-12-15T11:52:49.152Z"
   },
   {
    "duration": 19,
    "start_time": "2023-12-15T11:52:49.161Z"
   },
   {
    "duration": 6,
    "start_time": "2023-12-15T11:52:49.182Z"
   },
   {
    "duration": 1699,
    "start_time": "2023-12-15T11:52:49.189Z"
   },
   {
    "duration": 264,
    "start_time": "2023-12-15T11:52:50.889Z"
   },
   {
    "duration": 269,
    "start_time": "2023-12-15T11:52:51.154Z"
   },
   {
    "duration": 7,
    "start_time": "2023-12-15T11:52:51.425Z"
   },
   {
    "duration": 43,
    "start_time": "2023-12-15T11:52:51.433Z"
   },
   {
    "duration": 3,
    "start_time": "2023-12-15T11:52:51.477Z"
   },
   {
    "duration": 3,
    "start_time": "2023-12-15T11:52:51.481Z"
   },
   {
    "duration": 6311,
    "start_time": "2023-12-15T11:52:51.485Z"
   },
   {
    "duration": 2,
    "start_time": "2023-12-15T11:52:57.797Z"
   },
   {
    "duration": 1569,
    "start_time": "2023-12-15T11:52:57.800Z"
   },
   {
    "duration": 7,
    "start_time": "2023-12-15T11:52:59.370Z"
   },
   {
    "duration": 16,
    "start_time": "2023-12-15T11:52:59.378Z"
   },
   {
    "duration": 8,
    "start_time": "2023-12-15T11:52:59.395Z"
   },
   {
    "duration": 248,
    "start_time": "2023-12-15T11:52:59.405Z"
   },
   {
    "duration": 275,
    "start_time": "2023-12-15T11:52:59.654Z"
   },
   {
    "duration": 5,
    "start_time": "2023-12-15T11:52:59.931Z"
   },
   {
    "duration": 5,
    "start_time": "2023-12-15T11:52:59.937Z"
   },
   {
    "duration": 344,
    "start_time": "2023-12-15T11:52:59.943Z"
   },
   {
    "duration": 4,
    "start_time": "2023-12-15T11:53:00.289Z"
   },
   {
    "duration": 13304,
    "start_time": "2023-12-15T11:53:00.295Z"
   },
   {
    "duration": 3,
    "start_time": "2023-12-15T11:53:13.601Z"
   },
   {
    "duration": 31,
    "start_time": "2023-12-15T11:53:13.615Z"
   },
   {
    "duration": 21,
    "start_time": "2023-12-15T11:53:13.647Z"
   },
   {
    "duration": 3,
    "start_time": "2023-12-15T11:53:13.670Z"
   },
   {
    "duration": 2,
    "start_time": "2023-12-15T11:53:13.674Z"
   },
   {
    "duration": 41,
    "start_time": "2023-12-15T11:53:13.677Z"
   },
   {
    "duration": 7,
    "start_time": "2023-12-15T11:53:13.719Z"
   },
   {
    "duration": 89703,
    "start_time": "2023-12-15T11:53:13.728Z"
   },
   {
    "duration": 5385,
    "start_time": "2023-12-15T11:54:43.433Z"
   },
   {
    "duration": 999,
    "start_time": "2023-12-15T11:54:48.819Z"
   },
   {
    "duration": 79537,
    "start_time": "2023-12-15T11:54:49.819Z"
   },
   {
    "duration": 10991,
    "start_time": "2023-12-15T11:56:09.357Z"
   },
   {
    "duration": 10874,
    "start_time": "2023-12-15T11:56:20.350Z"
   },
   {
    "duration": 49899,
    "start_time": "2023-12-15T11:56:31.318Z"
   },
   {
    "duration": 1074,
    "start_time": "2023-12-15T11:57:21.221Z"
   },
   {
    "duration": 8359,
    "start_time": "2023-12-15T11:57:22.296Z"
   },
   {
    "duration": 10033,
    "start_time": "2023-12-15T11:57:30.657Z"
   },
   {
    "duration": 7,
    "start_time": "2023-12-15T11:57:40.691Z"
   },
   {
    "duration": 265,
    "start_time": "2023-12-15T11:57:40.699Z"
   },
   {
    "duration": 149,
    "start_time": "2023-12-15T11:57:40.966Z"
   },
   {
    "duration": 10222,
    "start_time": "2023-12-15T11:57:41.116Z"
   },
   {
    "duration": 59,
    "start_time": "2023-12-15T11:57:51.340Z"
   },
   {
    "duration": 2,
    "start_time": "2023-12-15T11:57:51.400Z"
   },
   {
    "duration": 191,
    "start_time": "2023-12-15T11:57:51.414Z"
   },
   {
    "duration": 12,
    "start_time": "2023-12-15T11:57:51.607Z"
   },
   {
    "duration": 10431,
    "start_time": "2023-12-17T05:03:42.094Z"
   },
   {
    "duration": 10663,
    "start_time": "2023-12-18T09:11:23.604Z"
   },
   {
    "duration": 8701,
    "start_time": "2023-12-18T09:11:35.777Z"
   },
   {
    "duration": 4,
    "start_time": "2023-12-18T09:11:47.390Z"
   },
   {
    "duration": 320,
    "start_time": "2023-12-18T09:11:48.793Z"
   },
   {
    "duration": 4,
    "start_time": "2023-12-18T09:11:50.345Z"
   },
   {
    "duration": 97,
    "start_time": "2023-12-18T09:11:51.422Z"
   },
   {
    "duration": 99,
    "start_time": "2023-12-18T09:11:52.645Z"
   },
   {
    "duration": 15,
    "start_time": "2023-12-18T09:11:53.834Z"
   },
   {
    "duration": 79,
    "start_time": "2023-12-18T09:11:55.317Z"
   },
   {
    "duration": 10,
    "start_time": "2023-12-18T09:11:56.638Z"
   },
   {
    "duration": 4,
    "start_time": "2023-12-18T09:12:09.448Z"
   },
   {
    "duration": 37,
    "start_time": "2023-12-18T09:13:02.699Z"
   },
   {
    "duration": 11,
    "start_time": "2023-12-18T09:13:03.633Z"
   },
   {
    "duration": 8,
    "start_time": "2023-12-18T09:13:09.316Z"
   },
   {
    "duration": 4744,
    "start_time": "2023-12-18T09:38:45.716Z"
   },
   {
    "duration": 5,
    "start_time": "2023-12-18T09:38:50.462Z"
   },
   {
    "duration": 6,
    "start_time": "2023-12-18T09:38:50.469Z"
   },
   {
    "duration": 323,
    "start_time": "2023-12-18T09:38:50.476Z"
   },
   {
    "duration": 4,
    "start_time": "2023-12-18T09:38:50.801Z"
   },
   {
    "duration": 70,
    "start_time": "2023-12-18T09:38:50.806Z"
   },
   {
    "duration": 57,
    "start_time": "2023-12-18T09:38:50.877Z"
   },
   {
    "duration": 12,
    "start_time": "2023-12-18T09:38:50.936Z"
   },
   {
    "duration": 64,
    "start_time": "2023-12-18T09:38:50.949Z"
   },
   {
    "duration": 8,
    "start_time": "2023-12-18T09:38:51.015Z"
   },
   {
    "duration": 13,
    "start_time": "2023-12-18T09:38:51.024Z"
   },
   {
    "duration": 46,
    "start_time": "2023-12-18T09:38:51.038Z"
   },
   {
    "duration": 11,
    "start_time": "2023-12-18T09:38:51.086Z"
   },
   {
    "duration": 12,
    "start_time": "2023-12-18T09:38:51.099Z"
   },
   {
    "duration": 2,
    "start_time": "2023-12-18T09:38:57.803Z"
   },
   {
    "duration": 4,
    "start_time": "2023-12-18T09:38:59.451Z"
   },
   {
    "duration": 2,
    "start_time": "2023-12-18T09:39:01.075Z"
   },
   {
    "duration": 2,
    "start_time": "2023-12-18T09:39:01.980Z"
   },
   {
    "duration": 14,
    "start_time": "2023-12-18T09:39:05.640Z"
   },
   {
    "duration": 2,
    "start_time": "2023-12-18T09:39:05.855Z"
   },
   {
    "duration": 15,
    "start_time": "2023-12-18T09:39:06.164Z"
   },
   {
    "duration": 3,
    "start_time": "2023-12-18T09:39:07.213Z"
   },
   {
    "duration": 4238,
    "start_time": "2023-12-18T09:39:07.737Z"
   },
   {
    "duration": 3,
    "start_time": "2023-12-18T09:39:15.173Z"
   },
   {
    "duration": 20,
    "start_time": "2023-12-18T09:39:16.984Z"
   },
   {
    "duration": 5,
    "start_time": "2023-12-18T09:39:19.665Z"
   },
   {
    "duration": 4,
    "start_time": "2023-12-18T09:39:21.373Z"
   },
   {
    "duration": 318,
    "start_time": "2023-12-18T09:39:23.651Z"
   },
   {
    "duration": 303,
    "start_time": "2023-12-18T09:39:33.297Z"
   },
   {
    "duration": 7,
    "start_time": "2023-12-18T09:39:34.536Z"
   },
   {
    "duration": 34,
    "start_time": "2023-12-18T09:39:37.975Z"
   },
   {
    "duration": 5,
    "start_time": "2023-12-18T09:40:54.886Z"
   },
   {
    "duration": 28,
    "start_time": "2023-12-18T09:42:32.779Z"
   },
   {
    "duration": 20,
    "start_time": "2023-12-18T09:45:10.552Z"
   },
   {
    "duration": 26,
    "start_time": "2023-12-18T09:45:21.613Z"
   },
   {
    "duration": 29,
    "start_time": "2023-12-18T09:45:29.430Z"
   },
   {
    "duration": 132,
    "start_time": "2023-12-18T09:46:16.092Z"
   },
   {
    "duration": 8,
    "start_time": "2023-12-18T09:46:24.647Z"
   },
   {
    "duration": 1617,
    "start_time": "2023-12-18T09:50:55.019Z"
   },
   {
    "duration": 3,
    "start_time": "2023-12-18T09:53:08.215Z"
   },
   {
    "duration": 1355,
    "start_time": "2023-12-18T09:53:14.185Z"
   },
   {
    "duration": 23,
    "start_time": "2023-12-18T09:56:45.400Z"
   },
   {
    "duration": 18,
    "start_time": "2023-12-18T09:56:59.484Z"
   },
   {
    "duration": 21,
    "start_time": "2023-12-18T09:57:14.708Z"
   },
   {
    "duration": 9,
    "start_time": "2023-12-18T09:57:18.055Z"
   },
   {
    "duration": 14,
    "start_time": "2023-12-18T09:57:27.826Z"
   },
   {
    "duration": 3,
    "start_time": "2023-12-18T09:57:35.454Z"
   },
   {
    "duration": 1195,
    "start_time": "2023-12-18T09:57:45.022Z"
   },
   {
    "duration": 10,
    "start_time": "2023-12-18T09:58:03.507Z"
   },
   {
    "duration": 10,
    "start_time": "2023-12-18T09:58:17.528Z"
   },
   {
    "duration": 10,
    "start_time": "2023-12-18T09:58:56.565Z"
   },
   {
    "duration": 16,
    "start_time": "2023-12-18T09:59:18.462Z"
   },
   {
    "duration": 8,
    "start_time": "2023-12-18T09:59:26.042Z"
   },
   {
    "duration": 9351,
    "start_time": "2023-12-18T11:26:09.985Z"
   },
   {
    "duration": 9761,
    "start_time": "2023-12-18T11:26:19.339Z"
   },
   {
    "duration": 3,
    "start_time": "2023-12-18T11:26:29.102Z"
   },
   {
    "duration": 338,
    "start_time": "2023-12-18T11:26:29.107Z"
   },
   {
    "duration": 5,
    "start_time": "2023-12-18T11:26:29.447Z"
   },
   {
    "duration": 57,
    "start_time": "2023-12-18T11:26:29.453Z"
   },
   {
    "duration": 59,
    "start_time": "2023-12-18T11:26:29.512Z"
   },
   {
    "duration": 14,
    "start_time": "2023-12-18T11:26:29.573Z"
   },
   {
    "duration": 56,
    "start_time": "2023-12-18T11:26:29.588Z"
   },
   {
    "duration": 9,
    "start_time": "2023-12-18T11:26:29.647Z"
   },
   {
    "duration": 15,
    "start_time": "2023-12-18T11:26:29.657Z"
   },
   {
    "duration": 53,
    "start_time": "2023-12-18T11:26:29.674Z"
   },
   {
    "duration": 14,
    "start_time": "2023-12-18T11:26:29.729Z"
   },
   {
    "duration": 25,
    "start_time": "2023-12-18T11:26:29.744Z"
   },
   {
    "duration": 12,
    "start_time": "2023-12-18T11:26:29.771Z"
   },
   {
    "duration": 22,
    "start_time": "2023-12-18T11:26:29.785Z"
   },
   {
    "duration": 10,
    "start_time": "2023-12-18T11:26:29.808Z"
   },
   {
    "duration": 29,
    "start_time": "2023-12-18T11:26:29.819Z"
   },
   {
    "duration": 21,
    "start_time": "2023-12-18T11:26:29.850Z"
   },
   {
    "duration": 20,
    "start_time": "2023-12-18T11:26:29.872Z"
   },
   {
    "duration": 21,
    "start_time": "2023-12-18T11:26:29.895Z"
   },
   {
    "duration": 10,
    "start_time": "2023-12-18T11:26:29.917Z"
   },
   {
    "duration": 4522,
    "start_time": "2023-12-18T11:26:29.928Z"
   },
   {
    "duration": 4,
    "start_time": "2023-12-18T11:26:34.451Z"
   },
   {
    "duration": 36,
    "start_time": "2023-12-18T11:26:34.456Z"
   },
   {
    "duration": 24,
    "start_time": "2023-12-18T11:26:34.494Z"
   },
   {
    "duration": 16,
    "start_time": "2023-12-18T11:26:34.520Z"
   },
   {
    "duration": 352,
    "start_time": "2023-12-18T11:26:34.539Z"
   },
   {
    "duration": 327,
    "start_time": "2023-12-18T11:26:34.892Z"
   },
   {
    "duration": 7,
    "start_time": "2023-12-18T11:26:35.221Z"
   },
   {
    "duration": 17,
    "start_time": "2023-12-18T11:26:35.230Z"
   },
   {
    "duration": 42,
    "start_time": "2023-12-18T11:26:35.248Z"
   },
   {
    "duration": 35,
    "start_time": "2023-12-18T11:26:35.292Z"
   },
   {
    "duration": 18,
    "start_time": "2023-12-18T11:26:37.651Z"
   },
   {
    "duration": 31,
    "start_time": "2023-12-18T11:26:38.446Z"
   },
   {
    "duration": 43,
    "start_time": "2023-12-18T11:26:38.675Z"
   },
   {
    "duration": 4,
    "start_time": "2023-12-18T11:26:38.992Z"
   },
   {
    "duration": 20,
    "start_time": "2023-12-18T11:26:39.171Z"
   },
   {
    "duration": 18,
    "start_time": "2023-12-18T11:26:39.374Z"
   },
   {
    "duration": 15,
    "start_time": "2023-12-18T11:26:39.579Z"
   },
   {
    "duration": 21,
    "start_time": "2023-12-18T11:26:40.729Z"
   },
   {
    "duration": 4,
    "start_time": "2023-12-18T11:26:43.542Z"
   },
   {
    "duration": 2161,
    "start_time": "2023-12-18T11:26:44.397Z"
   },
   {
    "duration": 350,
    "start_time": "2023-12-18T11:26:46.593Z"
   },
   {
    "duration": 345,
    "start_time": "2023-12-18T11:26:46.946Z"
   },
   {
    "duration": 10,
    "start_time": "2023-12-18T11:26:47.293Z"
   },
   {
    "duration": 46,
    "start_time": "2023-12-18T11:26:47.544Z"
   },
   {
    "duration": 4,
    "start_time": "2023-12-18T11:26:48.285Z"
   },
   {
    "duration": 3,
    "start_time": "2023-12-18T11:26:48.471Z"
   },
   {
    "duration": 8351,
    "start_time": "2023-12-18T11:26:49.324Z"
   },
   {
    "duration": 8,
    "start_time": "2023-12-18T11:26:57.676Z"
   },
   {
    "duration": 2061,
    "start_time": "2023-12-18T11:26:57.686Z"
   },
   {
    "duration": 5,
    "start_time": "2023-12-18T11:26:59.749Z"
   },
   {
    "duration": 9,
    "start_time": "2023-12-18T11:26:59.756Z"
   },
   {
    "duration": 333,
    "start_time": "2023-12-18T11:26:59.767Z"
   },
   {
    "duration": 377,
    "start_time": "2023-12-18T11:27:00.102Z"
   },
   {
    "duration": 5,
    "start_time": "2023-12-18T11:27:00.482Z"
   },
   {
    "duration": 4,
    "start_time": "2023-12-18T11:27:02.224Z"
   },
   {
    "duration": 380,
    "start_time": "2023-12-18T11:27:03.055Z"
   },
   {
    "duration": 4,
    "start_time": "2023-12-18T11:27:03.437Z"
   },
   {
    "duration": 18142,
    "start_time": "2023-12-18T11:27:04.847Z"
   },
   {
    "duration": 341,
    "start_time": "2023-12-18T11:27:44.694Z"
   },
   {
    "duration": 9451,
    "start_time": "2023-12-18T11:28:10.953Z"
   },
   {
    "duration": 9256,
    "start_time": "2023-12-18T11:28:20.406Z"
   },
   {
    "duration": 3,
    "start_time": "2023-12-18T11:28:29.664Z"
   },
   {
    "duration": 341,
    "start_time": "2023-12-18T11:28:29.668Z"
   },
   {
    "duration": 6,
    "start_time": "2023-12-18T11:28:30.011Z"
   },
   {
    "duration": 105,
    "start_time": "2023-12-18T11:28:30.018Z"
   },
   {
    "duration": 58,
    "start_time": "2023-12-18T11:28:30.124Z"
   },
   {
    "duration": 15,
    "start_time": "2023-12-18T11:28:30.184Z"
   },
   {
    "duration": 74,
    "start_time": "2023-12-18T11:28:30.200Z"
   },
   {
    "duration": 9,
    "start_time": "2023-12-18T11:28:30.277Z"
   },
   {
    "duration": 38,
    "start_time": "2023-12-18T11:28:30.287Z"
   },
   {
    "duration": 106,
    "start_time": "2023-12-18T11:28:30.327Z"
   },
   {
    "duration": 12,
    "start_time": "2023-12-18T11:28:30.435Z"
   },
   {
    "duration": 68,
    "start_time": "2023-12-18T11:28:30.449Z"
   },
   {
    "duration": 47,
    "start_time": "2023-12-18T11:28:30.519Z"
   },
   {
    "duration": 33,
    "start_time": "2023-12-18T11:28:30.568Z"
   },
   {
    "duration": 80,
    "start_time": "2023-12-18T11:28:30.603Z"
   },
   {
    "duration": 48,
    "start_time": "2023-12-18T11:28:30.685Z"
   },
   {
    "duration": 49,
    "start_time": "2023-12-18T11:28:30.735Z"
   },
   {
    "duration": 21,
    "start_time": "2023-12-18T11:28:30.785Z"
   },
   {
    "duration": 55,
    "start_time": "2023-12-18T11:28:30.807Z"
   },
   {
    "duration": 27,
    "start_time": "2023-12-18T11:28:30.864Z"
   },
   {
    "duration": 4642,
    "start_time": "2023-12-18T11:28:30.893Z"
   },
   {
    "duration": 2,
    "start_time": "2023-12-18T11:28:35.537Z"
   },
   {
    "duration": 40,
    "start_time": "2023-12-18T11:28:35.541Z"
   },
   {
    "duration": 5,
    "start_time": "2023-12-18T11:28:35.582Z"
   },
   {
    "duration": 12,
    "start_time": "2023-12-18T11:28:35.588Z"
   },
   {
    "duration": 353,
    "start_time": "2023-12-18T11:28:35.603Z"
   },
   {
    "duration": 336,
    "start_time": "2023-12-18T11:28:35.958Z"
   },
   {
    "duration": 8,
    "start_time": "2023-12-18T11:28:36.295Z"
   },
   {
    "duration": 6,
    "start_time": "2023-12-18T11:28:36.305Z"
   },
   {
    "duration": 28,
    "start_time": "2023-12-18T11:28:36.312Z"
   },
   {
    "duration": 61,
    "start_time": "2023-12-18T11:28:36.342Z"
   },
   {
    "duration": 19,
    "start_time": "2023-12-18T11:28:36.404Z"
   },
   {
    "duration": 55,
    "start_time": "2023-12-18T11:28:36.424Z"
   },
   {
    "duration": 35,
    "start_time": "2023-12-18T11:28:36.481Z"
   },
   {
    "duration": 4,
    "start_time": "2023-12-18T11:28:36.518Z"
   },
   {
    "duration": 45,
    "start_time": "2023-12-18T11:28:36.523Z"
   },
   {
    "duration": 16,
    "start_time": "2023-12-18T11:28:36.570Z"
   },
   {
    "duration": 16,
    "start_time": "2023-12-18T11:28:36.588Z"
   },
   {
    "duration": 17,
    "start_time": "2023-12-18T11:28:36.606Z"
   },
   {
    "duration": 4,
    "start_time": "2023-12-18T11:28:36.625Z"
   },
   {
    "duration": 2168,
    "start_time": "2023-12-18T11:28:36.630Z"
   },
   {
    "duration": 343,
    "start_time": "2023-12-18T11:28:38.800Z"
   },
   {
    "duration": 364,
    "start_time": "2023-12-18T11:28:39.144Z"
   },
   {
    "duration": 10,
    "start_time": "2023-12-18T11:28:39.510Z"
   },
   {
    "duration": 62,
    "start_time": "2023-12-18T11:28:39.522Z"
   },
   {
    "duration": 5,
    "start_time": "2023-12-18T11:28:39.585Z"
   },
   {
    "duration": 5,
    "start_time": "2023-12-18T11:28:39.592Z"
   },
   {
    "duration": 8130,
    "start_time": "2023-12-18T11:28:39.598Z"
   },
   {
    "duration": 303,
    "start_time": "2023-12-18T11:28:47.730Z"
   },
   {
    "duration": 0,
    "start_time": "2023-12-18T11:28:48.035Z"
   },
   {
    "duration": 16,
    "start_time": "2023-12-18T11:28:55.472Z"
   },
   {
    "duration": 15,
    "start_time": "2023-12-18T11:29:01.908Z"
   },
   {
    "duration": 1997,
    "start_time": "2023-12-18T11:29:02.854Z"
   },
   {
    "duration": 9182,
    "start_time": "2023-12-18T11:33:13.034Z"
   },
   {
    "duration": 8735,
    "start_time": "2023-12-18T11:33:22.218Z"
   },
   {
    "duration": 3,
    "start_time": "2023-12-18T11:33:30.955Z"
   },
   {
    "duration": 375,
    "start_time": "2023-12-18T11:33:30.960Z"
   },
   {
    "duration": 6,
    "start_time": "2023-12-18T11:33:31.336Z"
   },
   {
    "duration": 91,
    "start_time": "2023-12-18T11:33:31.343Z"
   },
   {
    "duration": 59,
    "start_time": "2023-12-18T11:33:31.435Z"
   },
   {
    "duration": 12,
    "start_time": "2023-12-18T11:33:31.495Z"
   },
   {
    "duration": 60,
    "start_time": "2023-12-18T11:33:31.509Z"
   },
   {
    "duration": 9,
    "start_time": "2023-12-18T11:33:31.571Z"
   },
   {
    "duration": 24,
    "start_time": "2023-12-18T11:33:31.582Z"
   },
   {
    "duration": 62,
    "start_time": "2023-12-18T11:33:31.608Z"
   },
   {
    "duration": 14,
    "start_time": "2023-12-18T11:33:31.672Z"
   },
   {
    "duration": 28,
    "start_time": "2023-12-18T11:33:31.688Z"
   },
   {
    "duration": 17,
    "start_time": "2023-12-18T11:33:31.718Z"
   },
   {
    "duration": 14,
    "start_time": "2023-12-18T11:33:31.737Z"
   },
   {
    "duration": 39,
    "start_time": "2023-12-18T11:33:31.752Z"
   },
   {
    "duration": 9,
    "start_time": "2023-12-18T11:33:31.792Z"
   },
   {
    "duration": 46,
    "start_time": "2023-12-18T11:33:31.803Z"
   },
   {
    "duration": 18,
    "start_time": "2023-12-18T11:33:31.850Z"
   },
   {
    "duration": 22,
    "start_time": "2023-12-18T11:33:31.870Z"
   },
   {
    "duration": 8,
    "start_time": "2023-12-18T11:33:31.894Z"
   },
   {
    "duration": 4499,
    "start_time": "2023-12-18T11:33:31.903Z"
   },
   {
    "duration": 3,
    "start_time": "2023-12-18T11:33:36.404Z"
   },
   {
    "duration": 52,
    "start_time": "2023-12-18T11:33:36.409Z"
   },
   {
    "duration": 14,
    "start_time": "2023-12-18T11:33:36.463Z"
   },
   {
    "duration": 29,
    "start_time": "2023-12-18T11:33:36.478Z"
   },
   {
    "duration": 335,
    "start_time": "2023-12-18T11:33:36.511Z"
   },
   {
    "duration": 317,
    "start_time": "2023-12-18T11:33:36.848Z"
   },
   {
    "duration": 8,
    "start_time": "2023-12-18T11:33:37.167Z"
   },
   {
    "duration": 22,
    "start_time": "2023-12-18T11:33:37.177Z"
   },
   {
    "duration": 33,
    "start_time": "2023-12-18T11:33:37.200Z"
   },
   {
    "duration": 69,
    "start_time": "2023-12-18T11:33:37.235Z"
   },
   {
    "duration": 20,
    "start_time": "2023-12-18T11:33:37.306Z"
   },
   {
    "duration": 55,
    "start_time": "2023-12-18T11:33:37.328Z"
   },
   {
    "duration": 36,
    "start_time": "2023-12-18T11:33:37.385Z"
   },
   {
    "duration": 5,
    "start_time": "2023-12-18T11:33:37.422Z"
   },
   {
    "duration": 43,
    "start_time": "2023-12-18T11:33:37.429Z"
   },
   {
    "duration": 14,
    "start_time": "2023-12-18T11:33:37.474Z"
   },
   {
    "duration": 45,
    "start_time": "2023-12-18T11:33:37.490Z"
   },
   {
    "duration": 31,
    "start_time": "2023-12-18T11:33:37.536Z"
   },
   {
    "duration": 12,
    "start_time": "2023-12-18T11:33:37.568Z"
   },
   {
    "duration": 2112,
    "start_time": "2023-12-18T11:33:37.581Z"
   },
   {
    "duration": 320,
    "start_time": "2023-12-18T11:33:39.694Z"
   },
   {
    "duration": 373,
    "start_time": "2023-12-18T11:33:40.016Z"
   },
   {
    "duration": 10,
    "start_time": "2023-12-18T11:33:40.391Z"
   },
   {
    "duration": 64,
    "start_time": "2023-12-18T11:33:40.402Z"
   },
   {
    "duration": 5,
    "start_time": "2023-12-18T11:33:42.792Z"
   },
   {
    "duration": 3,
    "start_time": "2023-12-18T11:33:42.943Z"
   },
   {
    "duration": 8424,
    "start_time": "2023-12-18T11:33:43.319Z"
   },
   {
    "duration": 9,
    "start_time": "2023-12-18T11:33:51.745Z"
   },
   {
    "duration": 2031,
    "start_time": "2023-12-18T11:33:51.756Z"
   },
   {
    "duration": 25,
    "start_time": "2023-12-18T11:34:23.901Z"
   },
   {
    "duration": 2026,
    "start_time": "2023-12-18T11:34:34.172Z"
   },
   {
    "duration": 4,
    "start_time": "2023-12-18T11:35:46.224Z"
   },
   {
    "duration": 4779,
    "start_time": "2023-12-18T11:35:47.051Z"
   },
   {
    "duration": 1672,
    "start_time": "2023-12-18T11:35:51.832Z"
   },
   {
    "duration": 9091,
    "start_time": "2023-12-18T11:57:09.314Z"
   },
   {
    "duration": 8406,
    "start_time": "2023-12-18T11:57:18.407Z"
   },
   {
    "duration": 4,
    "start_time": "2023-12-18T11:57:26.814Z"
   },
   {
    "duration": 352,
    "start_time": "2023-12-18T11:57:26.819Z"
   },
   {
    "duration": 5,
    "start_time": "2023-12-18T11:57:27.172Z"
   },
   {
    "duration": 75,
    "start_time": "2023-12-18T11:57:27.179Z"
   },
   {
    "duration": 59,
    "start_time": "2023-12-18T11:57:27.256Z"
   },
   {
    "duration": 14,
    "start_time": "2023-12-18T11:57:27.317Z"
   },
   {
    "duration": 69,
    "start_time": "2023-12-18T11:57:27.332Z"
   },
   {
    "duration": 8,
    "start_time": "2023-12-18T11:57:27.403Z"
   },
   {
    "duration": 9,
    "start_time": "2023-12-18T11:57:27.413Z"
   },
   {
    "duration": 60,
    "start_time": "2023-12-18T11:57:27.423Z"
   },
   {
    "duration": 11,
    "start_time": "2023-12-18T11:57:27.485Z"
   },
   {
    "duration": 23,
    "start_time": "2023-12-18T11:57:27.498Z"
   },
   {
    "duration": 22,
    "start_time": "2023-12-18T11:57:27.523Z"
   },
   {
    "duration": 10,
    "start_time": "2023-12-18T11:57:27.547Z"
   },
   {
    "duration": 19,
    "start_time": "2023-12-18T11:57:27.559Z"
   },
   {
    "duration": 16,
    "start_time": "2023-12-18T11:57:27.580Z"
   },
   {
    "duration": 40,
    "start_time": "2023-12-18T11:57:27.598Z"
   },
   {
    "duration": 22,
    "start_time": "2023-12-18T11:57:27.639Z"
   },
   {
    "duration": 54,
    "start_time": "2023-12-18T11:57:27.663Z"
   },
   {
    "duration": 9,
    "start_time": "2023-12-18T11:57:27.718Z"
   },
   {
    "duration": 4219,
    "start_time": "2023-12-18T11:57:27.728Z"
   },
   {
    "duration": 3,
    "start_time": "2023-12-18T11:57:31.948Z"
   },
   {
    "duration": 45,
    "start_time": "2023-12-18T11:57:31.965Z"
   },
   {
    "duration": 12,
    "start_time": "2023-12-18T11:57:32.011Z"
   },
   {
    "duration": 15,
    "start_time": "2023-12-18T11:57:32.025Z"
   },
   {
    "duration": 322,
    "start_time": "2023-12-18T11:57:32.043Z"
   },
   {
    "duration": 311,
    "start_time": "2023-12-18T11:57:32.367Z"
   },
   {
    "duration": 7,
    "start_time": "2023-12-18T11:57:32.679Z"
   },
   {
    "duration": 10,
    "start_time": "2023-12-18T11:57:32.687Z"
   },
   {
    "duration": 48,
    "start_time": "2023-12-18T11:57:32.699Z"
   },
   {
    "duration": 35,
    "start_time": "2023-12-18T11:57:32.748Z"
   },
   {
    "duration": 17,
    "start_time": "2023-12-18T11:57:32.784Z"
   },
   {
    "duration": 43,
    "start_time": "2023-12-18T11:57:32.802Z"
   },
   {
    "duration": 46,
    "start_time": "2023-12-18T11:57:32.847Z"
   },
   {
    "duration": 4,
    "start_time": "2023-12-18T11:57:32.894Z"
   },
   {
    "duration": 321,
    "start_time": "2023-12-18T11:57:32.900Z"
   },
   {
    "duration": 0,
    "start_time": "2023-12-18T11:57:33.223Z"
   },
   {
    "duration": 0,
    "start_time": "2023-12-18T11:57:33.224Z"
   },
   {
    "duration": 0,
    "start_time": "2023-12-18T11:57:33.225Z"
   },
   {
    "duration": 3,
    "start_time": "2023-12-18T11:58:53.601Z"
   },
   {
    "duration": 11,
    "start_time": "2023-12-18T11:59:04.524Z"
   },
   {
    "duration": 13,
    "start_time": "2023-12-18T11:59:09.128Z"
   },
   {
    "duration": 13,
    "start_time": "2023-12-18T11:59:10.124Z"
   },
   {
    "duration": 18,
    "start_time": "2023-12-18T11:59:14.052Z"
   },
   {
    "duration": 36,
    "start_time": "2023-12-18T11:59:39.316Z"
   },
   {
    "duration": 25,
    "start_time": "2023-12-18T12:44:21.137Z"
   },
   {
    "duration": 3,
    "start_time": "2023-12-18T12:48:22.273Z"
   },
   {
    "duration": 5,
    "start_time": "2023-12-18T12:59:12.062Z"
   },
   {
    "duration": 18,
    "start_time": "2023-12-18T12:59:17.796Z"
   },
   {
    "duration": 90,
    "start_time": "2023-12-18T12:59:59.774Z"
   },
   {
    "duration": 17,
    "start_time": "2023-12-18T13:00:03.041Z"
   },
   {
    "duration": 4,
    "start_time": "2023-12-18T13:00:19.532Z"
   },
   {
    "duration": 4,
    "start_time": "2023-12-18T13:01:25.196Z"
   },
   {
    "duration": 5,
    "start_time": "2023-12-18T13:01:42.851Z"
   },
   {
    "duration": 8919,
    "start_time": "2023-12-18T13:06:54.864Z"
   },
   {
    "duration": 10585,
    "start_time": "2023-12-18T13:07:03.785Z"
   },
   {
    "duration": 3,
    "start_time": "2023-12-18T13:07:14.372Z"
   },
   {
    "duration": 335,
    "start_time": "2023-12-18T13:07:14.377Z"
   },
   {
    "duration": 4,
    "start_time": "2023-12-18T13:07:14.714Z"
   },
   {
    "duration": 60,
    "start_time": "2023-12-18T13:07:14.719Z"
   },
   {
    "duration": 59,
    "start_time": "2023-12-18T13:07:14.780Z"
   },
   {
    "duration": 14,
    "start_time": "2023-12-18T13:07:14.841Z"
   },
   {
    "duration": 71,
    "start_time": "2023-12-18T13:07:14.857Z"
   },
   {
    "duration": 10,
    "start_time": "2023-12-18T13:07:14.930Z"
   },
   {
    "duration": 10,
    "start_time": "2023-12-18T13:07:14.942Z"
   },
   {
    "duration": 60,
    "start_time": "2023-12-18T13:07:14.954Z"
   },
   {
    "duration": 83,
    "start_time": "2023-12-18T13:07:15.016Z"
   },
   {
    "duration": 15,
    "start_time": "2023-12-18T13:07:15.100Z"
   },
   {
    "duration": 35,
    "start_time": "2023-12-18T13:07:15.117Z"
   },
   {
    "duration": 7,
    "start_time": "2023-12-18T13:07:15.154Z"
   },
   {
    "duration": 12,
    "start_time": "2023-12-18T13:07:15.163Z"
   },
   {
    "duration": 6,
    "start_time": "2023-12-18T13:07:15.176Z"
   },
   {
    "duration": 20,
    "start_time": "2023-12-18T13:07:15.183Z"
   },
   {
    "duration": 3,
    "start_time": "2023-12-18T13:07:15.205Z"
   },
   {
    "duration": 25,
    "start_time": "2023-12-18T13:07:15.209Z"
   },
   {
    "duration": 3,
    "start_time": "2023-12-18T13:07:15.236Z"
   },
   {
    "duration": 4327,
    "start_time": "2023-12-18T13:07:15.240Z"
   },
   {
    "duration": 3,
    "start_time": "2023-12-18T13:07:19.568Z"
   },
   {
    "duration": 59,
    "start_time": "2023-12-18T13:07:19.572Z"
   },
   {
    "duration": 36,
    "start_time": "2023-12-18T13:07:19.632Z"
   },
   {
    "duration": 88,
    "start_time": "2023-12-18T13:07:19.670Z"
   },
   {
    "duration": 322,
    "start_time": "2023-12-18T13:07:19.762Z"
   },
   {
    "duration": 318,
    "start_time": "2023-12-18T13:07:20.086Z"
   },
   {
    "duration": 8,
    "start_time": "2023-12-18T13:07:20.405Z"
   },
   {
    "duration": 19,
    "start_time": "2023-12-18T13:07:20.414Z"
   },
   {
    "duration": 36,
    "start_time": "2023-12-18T13:07:20.435Z"
   },
   {
    "duration": 37,
    "start_time": "2023-12-18T13:07:20.473Z"
   },
   {
    "duration": 18,
    "start_time": "2023-12-18T13:07:20.512Z"
   },
   {
    "duration": 55,
    "start_time": "2023-12-18T13:07:20.532Z"
   },
   {
    "duration": 34,
    "start_time": "2023-12-18T13:07:20.588Z"
   },
   {
    "duration": 4,
    "start_time": "2023-12-18T13:07:20.624Z"
   },
   {
    "duration": 48,
    "start_time": "2023-12-18T13:07:20.630Z"
   },
   {
    "duration": 24,
    "start_time": "2023-12-18T13:07:20.679Z"
   },
   {
    "duration": 35,
    "start_time": "2023-12-18T13:07:20.704Z"
   },
   {
    "duration": 38,
    "start_time": "2023-12-18T13:07:20.741Z"
   },
   {
    "duration": 41,
    "start_time": "2023-12-18T13:07:20.781Z"
   },
   {
    "duration": 1997,
    "start_time": "2023-12-18T13:07:20.823Z"
   },
   {
    "duration": 322,
    "start_time": "2023-12-18T13:07:22.821Z"
   },
   {
    "duration": 327,
    "start_time": "2023-12-18T13:07:23.144Z"
   },
   {
    "duration": 9,
    "start_time": "2023-12-18T13:07:23.472Z"
   },
   {
    "duration": 60,
    "start_time": "2023-12-18T13:07:23.483Z"
   },
   {
    "duration": 4,
    "start_time": "2023-12-18T13:07:23.545Z"
   },
   {
    "duration": 37,
    "start_time": "2023-12-18T13:07:23.550Z"
   },
   {
    "duration": 4547,
    "start_time": "2023-12-18T13:07:23.588Z"
   },
   {
    "duration": 9,
    "start_time": "2023-12-18T13:07:28.137Z"
   },
   {
    "duration": 1576,
    "start_time": "2023-12-18T13:07:28.147Z"
   },
   {
    "duration": 6,
    "start_time": "2023-12-18T13:07:29.725Z"
   },
   {
    "duration": 35,
    "start_time": "2023-12-18T13:07:29.732Z"
   },
   {
    "duration": 335,
    "start_time": "2023-12-18T13:07:29.768Z"
   },
   {
    "duration": 328,
    "start_time": "2023-12-18T13:07:30.106Z"
   },
   {
    "duration": 6,
    "start_time": "2023-12-18T13:07:30.436Z"
   },
   {
    "duration": 34,
    "start_time": "2023-12-18T13:07:30.444Z"
   },
   {
    "duration": 413,
    "start_time": "2023-12-18T13:07:30.480Z"
   },
   {
    "duration": 4,
    "start_time": "2023-12-18T13:07:30.895Z"
   },
   {
    "duration": 16800,
    "start_time": "2023-12-18T13:07:30.900Z"
   },
   {
    "duration": 4,
    "start_time": "2023-12-18T13:07:47.701Z"
   },
   {
    "duration": 69,
    "start_time": "2023-12-18T13:07:47.707Z"
   },
   {
    "duration": 14,
    "start_time": "2023-12-18T13:07:47.777Z"
   },
   {
    "duration": 23,
    "start_time": "2023-12-18T13:07:47.792Z"
   },
   {
    "duration": 4,
    "start_time": "2023-12-18T13:07:47.816Z"
   },
   {
    "duration": 34,
    "start_time": "2023-12-18T13:07:47.821Z"
   },
   {
    "duration": 23,
    "start_time": "2023-12-18T13:07:47.856Z"
   },
   {
    "duration": 19,
    "start_time": "2023-12-18T13:07:47.880Z"
   },
   {
    "duration": 108186,
    "start_time": "2023-12-18T13:07:47.901Z"
   },
   {
    "duration": 10181,
    "start_time": "2023-12-18T13:09:36.088Z"
   },
   {
    "duration": 1006,
    "start_time": "2023-12-18T13:09:46.271Z"
   },
   {
    "duration": 82960,
    "start_time": "2023-12-18T13:09:47.279Z"
   },
   {
    "duration": 11899,
    "start_time": "2023-12-18T13:11:10.240Z"
   },
   {
    "duration": 11826,
    "start_time": "2023-12-18T13:11:22.141Z"
   },
   {
    "duration": 84401,
    "start_time": "2023-12-18T13:11:33.969Z"
   },
   {
    "duration": 94,
    "start_time": "2023-12-18T13:12:58.373Z"
   },
   {
    "duration": 1168,
    "start_time": "2023-12-18T13:12:58.470Z"
   },
   {
    "duration": 14092,
    "start_time": "2023-12-18T13:12:59.640Z"
   },
   {
    "duration": 10927,
    "start_time": "2023-12-18T13:13:13.733Z"
   },
   {
    "duration": 9,
    "start_time": "2023-12-18T13:13:24.662Z"
   },
   {
    "duration": 333,
    "start_time": "2023-12-18T13:13:24.677Z"
   },
   {
    "duration": 319,
    "start_time": "2023-12-18T13:13:25.011Z"
   },
   {
    "duration": 0,
    "start_time": "2023-12-18T13:13:25.332Z"
   },
   {
    "duration": 0,
    "start_time": "2023-12-18T13:13:25.333Z"
   },
   {
    "duration": 0,
    "start_time": "2023-12-18T13:13:25.334Z"
   },
   {
    "duration": 0,
    "start_time": "2023-12-18T13:13:25.335Z"
   },
   {
    "duration": 0,
    "start_time": "2023-12-18T13:13:25.336Z"
   },
   {
    "duration": 21,
    "start_time": "2023-12-18T13:17:24.125Z"
   },
   {
    "duration": 20,
    "start_time": "2023-12-18T13:17:34.691Z"
   },
   {
    "duration": 30,
    "start_time": "2023-12-18T13:19:52.460Z"
   },
   {
    "duration": 178,
    "start_time": "2023-12-18T13:20:13.626Z"
   },
   {
    "duration": 169,
    "start_time": "2023-12-18T13:21:26.110Z"
   },
   {
    "duration": 10338,
    "start_time": "2023-12-18T13:21:36.598Z"
   },
   {
    "duration": 76,
    "start_time": "2023-12-18T13:21:46.938Z"
   },
   {
    "duration": 92,
    "start_time": "2023-12-18T13:21:47.015Z"
   },
   {
    "duration": 0,
    "start_time": "2023-12-18T13:21:47.109Z"
   },
   {
    "duration": 0,
    "start_time": "2023-12-18T13:21:47.110Z"
   },
   {
    "duration": 4730,
    "start_time": "2023-12-18T13:22:24.934Z"
   },
   {
    "duration": 72,
    "start_time": "2023-12-18T13:22:38.335Z"
   },
   {
    "duration": 179,
    "start_time": "2023-12-18T13:26:41.742Z"
   },
   {
    "duration": 76,
    "start_time": "2023-12-18T13:27:10.773Z"
   },
   {
    "duration": 246,
    "start_time": "2023-12-18T13:27:12.582Z"
   },
   {
    "duration": 7,
    "start_time": "2023-12-18T13:27:14.416Z"
   },
   {
    "duration": 53,
    "start_time": "2023-12-18T13:46:08.712Z"
   },
   {
    "duration": 43,
    "start_time": "2023-12-18T13:46:56.748Z"
   },
   {
    "duration": 11260,
    "start_time": "2023-12-19T21:09:25.826Z"
   },
   {
    "duration": 8032,
    "start_time": "2023-12-19T21:09:37.088Z"
   },
   {
    "duration": 3,
    "start_time": "2023-12-19T21:09:45.121Z"
   },
   {
    "duration": 339,
    "start_time": "2023-12-19T21:09:45.127Z"
   },
   {
    "duration": 5,
    "start_time": "2023-12-19T21:09:45.468Z"
   },
   {
    "duration": 61,
    "start_time": "2023-12-19T21:09:45.474Z"
   },
   {
    "duration": 56,
    "start_time": "2023-12-19T21:09:45.537Z"
   },
   {
    "duration": 14,
    "start_time": "2023-12-19T21:09:45.595Z"
   },
   {
    "duration": 50,
    "start_time": "2023-12-19T21:09:45.610Z"
   },
   {
    "duration": 8,
    "start_time": "2023-12-19T21:09:45.663Z"
   },
   {
    "duration": 5,
    "start_time": "2023-12-19T21:09:45.673Z"
   },
   {
    "duration": 46,
    "start_time": "2023-12-19T21:09:45.679Z"
   },
   {
    "duration": 12,
    "start_time": "2023-12-19T21:09:45.727Z"
   },
   {
    "duration": 8,
    "start_time": "2023-12-19T21:09:45.740Z"
   },
   {
    "duration": 2,
    "start_time": "2023-12-19T21:09:45.749Z"
   },
   {
    "duration": 6,
    "start_time": "2023-12-19T21:09:45.752Z"
   },
   {
    "duration": 4,
    "start_time": "2023-12-19T21:09:45.760Z"
   },
   {
    "duration": 10,
    "start_time": "2023-12-19T21:09:45.765Z"
   },
   {
    "duration": 47,
    "start_time": "2023-12-19T21:09:45.777Z"
   },
   {
    "duration": 3,
    "start_time": "2023-12-19T21:09:45.826Z"
   },
   {
    "duration": 17,
    "start_time": "2023-12-19T21:09:45.830Z"
   },
   {
    "duration": 2,
    "start_time": "2023-12-19T21:09:45.849Z"
   },
   {
    "duration": 4405,
    "start_time": "2023-12-19T21:09:45.853Z"
   },
   {
    "duration": 3,
    "start_time": "2023-12-19T21:09:50.260Z"
   },
   {
    "duration": 19,
    "start_time": "2023-12-19T21:09:50.264Z"
   },
   {
    "duration": 5,
    "start_time": "2023-12-19T21:09:50.284Z"
   },
   {
    "duration": 33,
    "start_time": "2023-12-19T21:09:50.290Z"
   },
   {
    "duration": 302,
    "start_time": "2023-12-19T21:09:50.328Z"
   },
   {
    "duration": 316,
    "start_time": "2023-12-19T21:09:50.631Z"
   },
   {
    "duration": 7,
    "start_time": "2023-12-19T21:09:50.949Z"
   },
   {
    "duration": 14,
    "start_time": "2023-12-19T21:09:50.958Z"
   },
   {
    "duration": 46,
    "start_time": "2023-12-19T21:09:50.974Z"
   },
   {
    "duration": 35,
    "start_time": "2023-12-19T21:09:51.022Z"
   },
   {
    "duration": 17,
    "start_time": "2023-12-19T21:09:51.059Z"
   },
   {
    "duration": 47,
    "start_time": "2023-12-19T21:09:51.077Z"
   },
   {
    "duration": 36,
    "start_time": "2023-12-19T21:09:51.126Z"
   },
   {
    "duration": 5,
    "start_time": "2023-12-19T21:09:51.163Z"
   },
   {
    "duration": 28,
    "start_time": "2023-12-19T21:09:51.170Z"
   },
   {
    "duration": 25,
    "start_time": "2023-12-19T21:09:51.210Z"
   },
   {
    "duration": 11,
    "start_time": "2023-12-19T21:09:51.236Z"
   },
   {
    "duration": 30,
    "start_time": "2023-12-19T21:09:51.248Z"
   },
   {
    "duration": 4,
    "start_time": "2023-12-19T21:09:51.279Z"
   },
   {
    "duration": 2082,
    "start_time": "2023-12-19T21:09:51.284Z"
   },
   {
    "duration": 332,
    "start_time": "2023-12-19T21:09:53.368Z"
   },
   {
    "duration": 357,
    "start_time": "2023-12-19T21:09:53.702Z"
   },
   {
    "duration": 9,
    "start_time": "2023-12-19T21:09:54.061Z"
   },
   {
    "duration": 64,
    "start_time": "2023-12-19T21:09:54.072Z"
   },
   {
    "duration": 5,
    "start_time": "2023-12-19T21:09:54.137Z"
   },
   {
    "duration": 23,
    "start_time": "2023-12-19T21:09:54.144Z"
   },
   {
    "duration": 4661,
    "start_time": "2023-12-19T21:09:54.168Z"
   },
   {
    "duration": 9,
    "start_time": "2023-12-19T21:09:58.831Z"
   },
   {
    "duration": 1731,
    "start_time": "2023-12-19T21:09:58.841Z"
   },
   {
    "duration": 6,
    "start_time": "2023-12-19T21:10:00.574Z"
   },
   {
    "duration": 59,
    "start_time": "2023-12-19T21:10:00.581Z"
   },
   {
    "duration": 387,
    "start_time": "2023-12-19T21:10:00.642Z"
   },
   {
    "duration": 352,
    "start_time": "2023-12-19T21:10:01.031Z"
   },
   {
    "duration": 5,
    "start_time": "2023-12-19T21:10:01.385Z"
   },
   {
    "duration": 41,
    "start_time": "2023-12-19T21:10:01.391Z"
   },
   {
    "duration": 421,
    "start_time": "2023-12-19T21:10:01.434Z"
   },
   {
    "duration": 4,
    "start_time": "2023-12-19T21:10:01.857Z"
   },
   {
    "duration": 16270,
    "start_time": "2023-12-19T21:10:01.863Z"
   },
   {
    "duration": 4,
    "start_time": "2023-12-19T21:10:18.135Z"
   },
   {
    "duration": 40,
    "start_time": "2023-12-19T21:10:18.140Z"
   },
   {
    "duration": 8,
    "start_time": "2023-12-19T21:10:18.181Z"
   },
   {
    "duration": 35,
    "start_time": "2023-12-19T21:10:18.190Z"
   },
   {
    "duration": 3,
    "start_time": "2023-12-19T21:10:18.228Z"
   },
   {
    "duration": 12,
    "start_time": "2023-12-19T21:10:18.233Z"
   },
   {
    "duration": 7,
    "start_time": "2023-12-19T21:10:18.247Z"
   },
   {
    "duration": 3,
    "start_time": "2023-12-19T21:10:18.256Z"
   },
   {
    "duration": 141772,
    "start_time": "2023-12-19T21:10:18.261Z"
   },
   {
    "duration": 15196,
    "start_time": "2023-12-19T21:12:40.035Z"
   },
   {
    "duration": 993,
    "start_time": "2023-12-19T21:12:55.311Z"
   },
   {
    "duration": 86639,
    "start_time": "2023-12-19T21:12:56.310Z"
   },
   {
    "duration": 12522,
    "start_time": "2023-12-19T21:14:22.950Z"
   },
   {
    "duration": 13448,
    "start_time": "2023-12-19T21:14:35.474Z"
   },
   {
    "duration": 115,
    "start_time": "2023-12-19T21:14:49.013Z"
   },
   {
    "duration": 4,
    "start_time": "2023-12-19T21:14:49.130Z"
   },
   {
    "duration": 155785,
    "start_time": "2023-12-19T21:14:49.135Z"
   },
   {
    "duration": 88,
    "start_time": "2023-12-19T21:17:24.922Z"
   },
   {
    "duration": 1186,
    "start_time": "2023-12-19T21:17:25.016Z"
   },
   {
    "duration": 17603,
    "start_time": "2023-12-19T21:17:26.203Z"
   },
   {
    "duration": 10880,
    "start_time": "2023-12-19T21:17:43.816Z"
   },
   {
    "duration": 25,
    "start_time": "2023-12-19T21:17:54.697Z"
   },
   {
    "duration": 337,
    "start_time": "2023-12-19T21:17:54.724Z"
   },
   {
    "duration": 194,
    "start_time": "2023-12-19T21:17:55.062Z"
   },
   {
    "duration": 11128,
    "start_time": "2023-12-19T21:17:55.257Z"
   },
   {
    "duration": 93,
    "start_time": "2023-12-19T21:18:06.387Z"
   },
   {
    "duration": 86,
    "start_time": "2023-12-19T21:18:06.482Z"
   },
   {
    "duration": 230,
    "start_time": "2023-12-19T21:18:06.569Z"
   },
   {
    "duration": 23,
    "start_time": "2023-12-19T21:18:06.801Z"
   },
   {
    "duration": 9214,
    "start_time": "2023-12-19T21:25:15.045Z"
   },
   {
    "duration": 8119,
    "start_time": "2023-12-19T21:25:24.261Z"
   },
   {
    "duration": 4,
    "start_time": "2023-12-19T21:25:32.382Z"
   },
   {
    "duration": 341,
    "start_time": "2023-12-19T21:25:32.388Z"
   },
   {
    "duration": 6,
    "start_time": "2023-12-19T21:25:32.730Z"
   },
   {
    "duration": 56,
    "start_time": "2023-12-19T21:25:32.737Z"
   },
   {
    "duration": 57,
    "start_time": "2023-12-19T21:25:32.794Z"
   },
   {
    "duration": 12,
    "start_time": "2023-12-19T21:25:32.853Z"
   },
   {
    "duration": 55,
    "start_time": "2023-12-19T21:25:32.866Z"
   },
   {
    "duration": 8,
    "start_time": "2023-12-19T21:25:32.923Z"
   },
   {
    "duration": 5,
    "start_time": "2023-12-19T21:25:32.933Z"
   },
   {
    "duration": 38,
    "start_time": "2023-12-19T21:25:32.939Z"
   },
   {
    "duration": 12,
    "start_time": "2023-12-19T21:25:32.979Z"
   },
   {
    "duration": 11,
    "start_time": "2023-12-19T21:25:33.012Z"
   },
   {
    "duration": 6,
    "start_time": "2023-12-19T21:25:33.026Z"
   },
   {
    "duration": 4,
    "start_time": "2023-12-19T21:25:33.033Z"
   },
   {
    "duration": 8,
    "start_time": "2023-12-19T21:25:33.038Z"
   },
   {
    "duration": 7,
    "start_time": "2023-12-19T21:25:33.047Z"
   },
   {
    "duration": 15,
    "start_time": "2023-12-19T21:25:33.056Z"
   },
   {
    "duration": 2,
    "start_time": "2023-12-19T21:25:33.073Z"
   },
   {
    "duration": 13,
    "start_time": "2023-12-19T21:25:33.077Z"
   },
   {
    "duration": 20,
    "start_time": "2023-12-19T21:25:33.092Z"
   },
   {
    "duration": 4367,
    "start_time": "2023-12-19T21:25:33.114Z"
   },
   {
    "duration": 3,
    "start_time": "2023-12-19T21:25:37.482Z"
   },
   {
    "duration": 39,
    "start_time": "2023-12-19T21:25:37.486Z"
   },
   {
    "duration": 7,
    "start_time": "2023-12-19T21:25:37.526Z"
   },
   {
    "duration": 3,
    "start_time": "2023-12-19T21:25:37.535Z"
   },
   {
    "duration": 325,
    "start_time": "2023-12-19T21:25:37.542Z"
   },
   {
    "duration": 309,
    "start_time": "2023-12-19T21:25:37.869Z"
   },
   {
    "duration": 7,
    "start_time": "2023-12-19T21:25:38.180Z"
   },
   {
    "duration": 6,
    "start_time": "2023-12-19T21:25:38.189Z"
   },
   {
    "duration": 34,
    "start_time": "2023-12-19T21:25:38.211Z"
   },
   {
    "duration": 35,
    "start_time": "2023-12-19T21:25:38.246Z"
   },
   {
    "duration": 45,
    "start_time": "2023-12-19T21:25:38.282Z"
   },
   {
    "duration": 28,
    "start_time": "2023-12-19T21:25:38.328Z"
   },
   {
    "duration": 49,
    "start_time": "2023-12-19T21:25:38.358Z"
   },
   {
    "duration": 15,
    "start_time": "2023-12-19T21:25:38.408Z"
   },
   {
    "duration": 16,
    "start_time": "2023-12-19T21:25:38.425Z"
   },
   {
    "duration": 13,
    "start_time": "2023-12-19T21:25:38.442Z"
   },
   {
    "duration": 13,
    "start_time": "2023-12-19T21:25:38.457Z"
   },
   {
    "duration": 27,
    "start_time": "2023-12-19T21:25:38.472Z"
   },
   {
    "duration": 13,
    "start_time": "2023-12-19T21:25:38.500Z"
   },
   {
    "duration": 2214,
    "start_time": "2023-12-19T21:25:38.525Z"
   },
   {
    "duration": 324,
    "start_time": "2023-12-19T21:25:40.741Z"
   },
   {
    "duration": 341,
    "start_time": "2023-12-19T21:25:41.067Z"
   },
   {
    "duration": 15,
    "start_time": "2023-12-19T21:25:41.409Z"
   },
   {
    "duration": 261,
    "start_time": "2023-12-19T21:25:41.426Z"
   },
   {
    "duration": 3,
    "start_time": "2023-12-19T21:25:41.689Z"
   },
   {
    "duration": 5,
    "start_time": "2023-12-19T21:25:41.694Z"
   },
   {
    "duration": 4837,
    "start_time": "2023-12-19T21:25:41.700Z"
   },
   {
    "duration": 9,
    "start_time": "2023-12-19T21:25:46.538Z"
   },
   {
    "duration": 1674,
    "start_time": "2023-12-19T21:25:46.549Z"
   },
   {
    "duration": 7,
    "start_time": "2023-12-19T21:25:48.225Z"
   },
   {
    "duration": 13,
    "start_time": "2023-12-19T21:25:48.234Z"
   },
   {
    "duration": 342,
    "start_time": "2023-12-19T21:25:48.249Z"
   },
   {
    "duration": 344,
    "start_time": "2023-12-19T21:25:48.592Z"
   },
   {
    "duration": 5,
    "start_time": "2023-12-19T21:25:48.937Z"
   },
   {
    "duration": 3,
    "start_time": "2023-12-19T21:25:48.944Z"
   },
   {
    "duration": 389,
    "start_time": "2023-12-19T21:25:48.949Z"
   },
   {
    "duration": 5,
    "start_time": "2023-12-19T21:25:49.339Z"
   },
   {
    "duration": 16418,
    "start_time": "2023-12-19T21:25:49.345Z"
   },
   {
    "duration": 4,
    "start_time": "2023-12-19T21:26:05.764Z"
   },
   {
    "duration": 54,
    "start_time": "2023-12-19T21:26:05.770Z"
   },
   {
    "duration": 9,
    "start_time": "2023-12-19T21:26:05.826Z"
   },
   {
    "duration": 20,
    "start_time": "2023-12-19T21:26:05.836Z"
   },
   {
    "duration": 5,
    "start_time": "2023-12-19T21:26:05.858Z"
   },
   {
    "duration": 16,
    "start_time": "2023-12-19T21:26:05.864Z"
   },
   {
    "duration": 41,
    "start_time": "2023-12-19T21:26:05.882Z"
   },
   {
    "duration": 2,
    "start_time": "2023-12-19T21:26:05.925Z"
   },
   {
    "duration": 147514,
    "start_time": "2023-12-19T21:26:05.929Z"
   },
   {
    "duration": 17487,
    "start_time": "2023-12-19T21:28:33.444Z"
   },
   {
    "duration": 1004,
    "start_time": "2023-12-19T21:28:51.019Z"
   },
   {
    "duration": 86895,
    "start_time": "2023-12-19T21:28:52.028Z"
   },
   {
    "duration": 13126,
    "start_time": "2023-12-19T21:30:18.925Z"
   },
   {
    "duration": 13867,
    "start_time": "2023-12-19T21:30:32.053Z"
   },
   {
    "duration": 125,
    "start_time": "2023-12-19T21:30:45.922Z"
   },
   {
    "duration": 3,
    "start_time": "2023-12-19T21:30:46.048Z"
   },
   {
    "duration": 169062,
    "start_time": "2023-12-19T21:30:46.052Z"
   },
   {
    "duration": 11,
    "start_time": "2023-12-19T21:33:35.116Z"
   },
   {
    "duration": 1197,
    "start_time": "2023-12-19T21:33:35.129Z"
   },
   {
    "duration": 9460,
    "start_time": "2023-12-19T21:33:36.328Z"
   },
   {
    "duration": 10997,
    "start_time": "2023-12-19T21:33:45.793Z"
   },
   {
    "duration": 35,
    "start_time": "2023-12-19T21:33:56.792Z"
   },
   {
    "duration": 326,
    "start_time": "2023-12-19T21:33:56.829Z"
   },
   {
    "duration": 417,
    "start_time": "2023-12-19T21:33:57.157Z"
   },
   {
    "duration": 11062,
    "start_time": "2023-12-19T21:33:57.575Z"
   },
   {
    "duration": 87,
    "start_time": "2023-12-19T21:34:08.638Z"
   },
   {
    "duration": 74,
    "start_time": "2023-12-19T21:34:08.727Z"
   },
   {
    "duration": 248,
    "start_time": "2023-12-19T21:34:08.811Z"
   },
   {
    "duration": 7,
    "start_time": "2023-12-19T21:34:09.060Z"
   },
   {
    "duration": 8770,
    "start_time": "2023-12-19T22:24:25.029Z"
   },
   {
    "duration": 8168,
    "start_time": "2023-12-19T22:24:33.801Z"
   },
   {
    "duration": 3,
    "start_time": "2023-12-19T22:24:41.971Z"
   },
   {
    "duration": 339,
    "start_time": "2023-12-19T22:24:41.976Z"
   },
   {
    "duration": 9,
    "start_time": "2023-12-19T22:24:42.316Z"
   },
   {
    "duration": 54,
    "start_time": "2023-12-19T22:24:42.327Z"
   },
   {
    "duration": 58,
    "start_time": "2023-12-19T22:24:42.383Z"
   },
   {
    "duration": 12,
    "start_time": "2023-12-19T22:24:42.443Z"
   },
   {
    "duration": 48,
    "start_time": "2023-12-19T22:24:42.456Z"
   },
   {
    "duration": 17,
    "start_time": "2023-12-19T22:24:42.506Z"
   },
   {
    "duration": 4,
    "start_time": "2023-12-19T22:24:42.525Z"
   },
   {
    "duration": 43,
    "start_time": "2023-12-19T22:24:42.531Z"
   },
   {
    "duration": 13,
    "start_time": "2023-12-19T22:24:42.576Z"
   },
   {
    "duration": 34,
    "start_time": "2023-12-19T22:24:42.591Z"
   },
   {
    "duration": 2,
    "start_time": "2023-12-19T22:24:42.627Z"
   },
   {
    "duration": 14,
    "start_time": "2023-12-19T22:24:42.630Z"
   },
   {
    "duration": 5,
    "start_time": "2023-12-19T22:24:42.646Z"
   },
   {
    "duration": 8,
    "start_time": "2023-12-19T22:24:42.652Z"
   },
   {
    "duration": 17,
    "start_time": "2023-12-19T22:24:42.661Z"
   },
   {
    "duration": 2,
    "start_time": "2023-12-19T22:24:42.680Z"
   },
   {
    "duration": 20,
    "start_time": "2023-12-19T22:24:42.684Z"
   },
   {
    "duration": 5,
    "start_time": "2023-12-19T22:24:42.719Z"
   },
   {
    "duration": 4467,
    "start_time": "2023-12-19T22:24:42.726Z"
   },
   {
    "duration": 16,
    "start_time": "2023-12-19T22:24:47.195Z"
   },
   {
    "duration": 21,
    "start_time": "2023-12-19T22:24:47.212Z"
   },
   {
    "duration": 6,
    "start_time": "2023-12-19T22:24:47.234Z"
   },
   {
    "duration": 6,
    "start_time": "2023-12-19T22:24:47.241Z"
   },
   {
    "duration": 330,
    "start_time": "2023-12-19T22:24:47.251Z"
   },
   {
    "duration": 318,
    "start_time": "2023-12-19T22:24:47.583Z"
   },
   {
    "duration": 13,
    "start_time": "2023-12-19T22:24:47.903Z"
   },
   {
    "duration": 7,
    "start_time": "2023-12-19T22:24:47.917Z"
   },
   {
    "duration": 27,
    "start_time": "2023-12-19T22:24:47.925Z"
   },
   {
    "duration": 58,
    "start_time": "2023-12-19T22:24:47.954Z"
   },
   {
    "duration": 18,
    "start_time": "2023-12-19T22:24:48.013Z"
   },
   {
    "duration": 29,
    "start_time": "2023-12-19T22:24:48.033Z"
   },
   {
    "duration": 58,
    "start_time": "2023-12-19T22:24:48.064Z"
   },
   {
    "duration": 4,
    "start_time": "2023-12-19T22:24:48.123Z"
   },
   {
    "duration": 21,
    "start_time": "2023-12-19T22:24:48.129Z"
   },
   {
    "duration": 11,
    "start_time": "2023-12-19T22:24:48.152Z"
   },
   {
    "duration": 11,
    "start_time": "2023-12-19T22:24:48.164Z"
   },
   {
    "duration": 38,
    "start_time": "2023-12-19T22:24:48.176Z"
   },
   {
    "duration": 4,
    "start_time": "2023-12-19T22:24:48.215Z"
   },
   {
    "duration": 2110,
    "start_time": "2023-12-19T22:24:48.220Z"
   },
   {
    "duration": 320,
    "start_time": "2023-12-19T22:24:50.331Z"
   },
   {
    "duration": 345,
    "start_time": "2023-12-19T22:24:50.653Z"
   },
   {
    "duration": 17,
    "start_time": "2023-12-19T22:24:51.000Z"
   },
   {
    "duration": 261,
    "start_time": "2023-12-19T22:24:51.018Z"
   },
   {
    "duration": 4,
    "start_time": "2023-12-19T22:24:51.281Z"
   },
   {
    "duration": 9,
    "start_time": "2023-12-19T22:24:51.287Z"
   },
   {
    "duration": 4364,
    "start_time": "2023-12-19T22:24:51.298Z"
   },
   {
    "duration": 8,
    "start_time": "2023-12-19T22:24:55.663Z"
   },
   {
    "duration": 1639,
    "start_time": "2023-12-19T22:24:55.673Z"
   },
   {
    "duration": 5,
    "start_time": "2023-12-19T22:24:57.314Z"
   },
   {
    "duration": 13,
    "start_time": "2023-12-19T22:24:57.320Z"
   },
   {
    "duration": 312,
    "start_time": "2023-12-19T22:24:57.335Z"
   },
   {
    "duration": 320,
    "start_time": "2023-12-19T22:24:57.648Z"
   },
   {
    "duration": 5,
    "start_time": "2023-12-19T22:24:57.970Z"
   },
   {
    "duration": 18,
    "start_time": "2023-12-19T22:24:57.976Z"
   },
   {
    "duration": 364,
    "start_time": "2023-12-19T22:24:57.996Z"
   },
   {
    "duration": 4,
    "start_time": "2023-12-19T22:24:58.362Z"
   },
   {
    "duration": 16377,
    "start_time": "2023-12-19T22:24:58.367Z"
   },
   {
    "duration": 3,
    "start_time": "2023-12-19T22:25:14.746Z"
   },
   {
    "duration": 35,
    "start_time": "2023-12-19T22:25:14.751Z"
   },
   {
    "duration": 29,
    "start_time": "2023-12-19T22:25:14.787Z"
   },
   {
    "duration": 20,
    "start_time": "2023-12-19T22:25:14.817Z"
   },
   {
    "duration": 3,
    "start_time": "2023-12-19T22:25:14.839Z"
   },
   {
    "duration": 11,
    "start_time": "2023-12-19T22:25:14.843Z"
   },
   {
    "duration": 8,
    "start_time": "2023-12-19T22:25:14.856Z"
   },
   {
    "duration": 3,
    "start_time": "2023-12-19T22:25:14.865Z"
   },
   {
    "duration": 109257,
    "start_time": "2023-12-19T22:25:14.869Z"
   },
   {
    "duration": 9684,
    "start_time": "2023-12-19T22:27:04.127Z"
   },
   {
    "duration": 942,
    "start_time": "2023-12-19T22:27:13.813Z"
   },
   {
    "duration": 81759,
    "start_time": "2023-12-19T22:27:14.757Z"
   },
   {
    "duration": 11642,
    "start_time": "2023-12-19T22:28:36.518Z"
   },
   {
    "duration": 11650,
    "start_time": "2023-12-19T22:28:48.162Z"
   },
   {
    "duration": 130,
    "start_time": "2023-12-19T22:28:59.814Z"
   },
   {
    "duration": 2,
    "start_time": "2023-12-19T22:28:59.946Z"
   },
   {
    "duration": 94863,
    "start_time": "2023-12-19T22:28:59.949Z"
   },
   {
    "duration": 6,
    "start_time": "2023-12-19T22:30:34.815Z"
   },
   {
    "duration": 1043,
    "start_time": "2023-12-19T22:30:34.912Z"
   },
   {
    "duration": 8987,
    "start_time": "2023-12-19T22:30:35.957Z"
   },
   {
    "duration": 10313,
    "start_time": "2023-12-19T22:30:44.951Z"
   },
   {
    "duration": 9,
    "start_time": "2023-12-19T22:30:55.266Z"
   },
   {
    "duration": 298,
    "start_time": "2023-12-19T22:30:55.277Z"
   },
   {
    "duration": 335,
    "start_time": "2023-12-19T22:30:55.577Z"
   },
   {
    "duration": 0,
    "start_time": "2023-12-19T22:30:55.914Z"
   },
   {
    "duration": 0,
    "start_time": "2023-12-19T22:30:55.915Z"
   },
   {
    "duration": 0,
    "start_time": "2023-12-19T22:30:55.916Z"
   },
   {
    "duration": 0,
    "start_time": "2023-12-19T22:30:55.918Z"
   },
   {
    "duration": 0,
    "start_time": "2023-12-19T22:30:55.919Z"
   },
   {
    "duration": 21,
    "start_time": "2023-12-19T23:14:56.865Z"
   },
   {
    "duration": 26,
    "start_time": "2023-12-19T23:15:28.832Z"
   },
   {
    "duration": 49,
    "start_time": "2023-12-19T23:28:25.311Z"
   },
   {
    "duration": 27,
    "start_time": "2023-12-19T23:36:00.900Z"
   },
   {
    "duration": 83,
    "start_time": "2023-12-19T23:36:30.612Z"
   },
   {
    "duration": 2058,
    "start_time": "2023-12-19T23:36:58.738Z"
   },
   {
    "duration": 5,
    "start_time": "2023-12-19T23:43:32.846Z"
   },
   {
    "duration": 5,
    "start_time": "2023-12-19T23:43:56.226Z"
   },
   {
    "duration": 9211,
    "start_time": "2023-12-20T00:03:54.964Z"
   },
   {
    "duration": 10234,
    "start_time": "2023-12-20T00:04:04.177Z"
   },
   {
    "duration": 3,
    "start_time": "2023-12-20T00:04:14.413Z"
   },
   {
    "duration": 341,
    "start_time": "2023-12-20T00:04:14.418Z"
   },
   {
    "duration": 5,
    "start_time": "2023-12-20T00:04:14.761Z"
   },
   {
    "duration": 59,
    "start_time": "2023-12-20T00:04:14.767Z"
   },
   {
    "duration": 57,
    "start_time": "2023-12-20T00:04:14.827Z"
   },
   {
    "duration": 13,
    "start_time": "2023-12-20T00:04:14.886Z"
   },
   {
    "duration": 46,
    "start_time": "2023-12-20T00:04:14.900Z"
   },
   {
    "duration": 8,
    "start_time": "2023-12-20T00:04:14.949Z"
   },
   {
    "duration": 4,
    "start_time": "2023-12-20T00:04:14.958Z"
   },
   {
    "duration": 56,
    "start_time": "2023-12-20T00:04:14.963Z"
   },
   {
    "duration": 12,
    "start_time": "2023-12-20T00:04:15.020Z"
   },
   {
    "duration": 38,
    "start_time": "2023-12-20T00:04:15.033Z"
   },
   {
    "duration": 11,
    "start_time": "2023-12-20T00:04:15.073Z"
   },
   {
    "duration": 28,
    "start_time": "2023-12-20T00:04:15.085Z"
   },
   {
    "duration": 27,
    "start_time": "2023-12-20T00:04:15.115Z"
   },
   {
    "duration": 30,
    "start_time": "2023-12-20T00:04:15.143Z"
   },
   {
    "duration": 28,
    "start_time": "2023-12-20T00:04:15.175Z"
   },
   {
    "duration": 2,
    "start_time": "2023-12-20T00:04:15.205Z"
   },
   {
    "duration": 15,
    "start_time": "2023-12-20T00:04:15.209Z"
   },
   {
    "duration": 4,
    "start_time": "2023-12-20T00:04:15.226Z"
   },
   {
    "duration": 4216,
    "start_time": "2023-12-20T00:04:15.231Z"
   },
   {
    "duration": 3,
    "start_time": "2023-12-20T00:04:19.449Z"
   },
   {
    "duration": 64,
    "start_time": "2023-12-20T00:04:19.454Z"
   },
   {
    "duration": 51,
    "start_time": "2023-12-20T00:04:19.520Z"
   },
   {
    "duration": 24,
    "start_time": "2023-12-20T00:04:19.572Z"
   },
   {
    "duration": 321,
    "start_time": "2023-12-20T00:04:19.600Z"
   },
   {
    "duration": 294,
    "start_time": "2023-12-20T00:04:19.923Z"
   },
   {
    "duration": 7,
    "start_time": "2023-12-20T00:04:20.219Z"
   },
   {
    "duration": 15,
    "start_time": "2023-12-20T00:04:20.227Z"
   },
   {
    "duration": 50,
    "start_time": "2023-12-20T00:04:20.243Z"
   },
   {
    "duration": 51,
    "start_time": "2023-12-20T00:04:20.294Z"
   },
   {
    "duration": 17,
    "start_time": "2023-12-20T00:04:20.346Z"
   },
   {
    "duration": 46,
    "start_time": "2023-12-20T00:04:20.365Z"
   },
   {
    "duration": 35,
    "start_time": "2023-12-20T00:04:20.412Z"
   },
   {
    "duration": 5,
    "start_time": "2023-12-20T00:04:20.448Z"
   },
   {
    "duration": 18,
    "start_time": "2023-12-20T00:04:20.455Z"
   },
   {
    "duration": 42,
    "start_time": "2023-12-20T00:04:20.475Z"
   },
   {
    "duration": 17,
    "start_time": "2023-12-20T00:04:20.519Z"
   },
   {
    "duration": 21,
    "start_time": "2023-12-20T00:04:20.538Z"
   },
   {
    "duration": 4,
    "start_time": "2023-12-20T00:04:20.560Z"
   },
   {
    "duration": 2091,
    "start_time": "2023-12-20T00:04:20.565Z"
   },
   {
    "duration": 319,
    "start_time": "2023-12-20T00:04:22.657Z"
   },
   {
    "duration": 335,
    "start_time": "2023-12-20T00:04:22.977Z"
   },
   {
    "duration": 8,
    "start_time": "2023-12-20T00:04:23.314Z"
   },
   {
    "duration": 256,
    "start_time": "2023-12-20T00:04:23.324Z"
   },
   {
    "duration": 4,
    "start_time": "2023-12-20T00:04:23.581Z"
   },
   {
    "duration": 16,
    "start_time": "2023-12-20T00:04:23.587Z"
   },
   {
    "duration": 4442,
    "start_time": "2023-12-20T00:04:23.604Z"
   },
   {
    "duration": 8,
    "start_time": "2023-12-20T00:04:28.048Z"
   },
   {
    "duration": 1627,
    "start_time": "2023-12-20T00:04:28.057Z"
   },
   {
    "duration": 5,
    "start_time": "2023-12-20T00:04:29.686Z"
   },
   {
    "duration": 22,
    "start_time": "2023-12-20T00:04:29.693Z"
   },
   {
    "duration": 322,
    "start_time": "2023-12-20T00:04:29.717Z"
   },
   {
    "duration": 327,
    "start_time": "2023-12-20T00:04:30.041Z"
   },
   {
    "duration": 6,
    "start_time": "2023-12-20T00:04:30.370Z"
   },
   {
    "duration": 42,
    "start_time": "2023-12-20T00:04:30.377Z"
   },
   {
    "duration": 35,
    "start_time": "2023-12-20T00:04:30.421Z"
   },
   {
    "duration": 57,
    "start_time": "2023-12-20T00:04:30.458Z"
   },
   {
    "duration": 59,
    "start_time": "2023-12-20T00:04:30.516Z"
   },
   {
    "duration": 41,
    "start_time": "2023-12-20T00:04:30.577Z"
   },
   {
    "duration": 355,
    "start_time": "2023-12-20T00:04:30.620Z"
   },
   {
    "duration": 0,
    "start_time": "2023-12-20T00:04:30.977Z"
   },
   {
    "duration": 0,
    "start_time": "2023-12-20T00:04:30.979Z"
   },
   {
    "duration": 0,
    "start_time": "2023-12-20T00:04:30.980Z"
   },
   {
    "duration": 0,
    "start_time": "2023-12-20T00:04:30.981Z"
   },
   {
    "duration": 0,
    "start_time": "2023-12-20T00:04:30.982Z"
   },
   {
    "duration": 0,
    "start_time": "2023-12-20T00:04:30.983Z"
   },
   {
    "duration": 0,
    "start_time": "2023-12-20T00:04:30.984Z"
   },
   {
    "duration": 0,
    "start_time": "2023-12-20T00:04:30.985Z"
   },
   {
    "duration": 0,
    "start_time": "2023-12-20T00:04:30.986Z"
   },
   {
    "duration": 0,
    "start_time": "2023-12-20T00:04:30.987Z"
   },
   {
    "duration": 0,
    "start_time": "2023-12-20T00:04:30.988Z"
   },
   {
    "duration": 0,
    "start_time": "2023-12-20T00:04:30.989Z"
   },
   {
    "duration": 0,
    "start_time": "2023-12-20T00:04:30.989Z"
   },
   {
    "duration": 0,
    "start_time": "2023-12-20T00:04:31.012Z"
   },
   {
    "duration": 0,
    "start_time": "2023-12-20T00:04:31.013Z"
   },
   {
    "duration": 0,
    "start_time": "2023-12-20T00:04:31.014Z"
   },
   {
    "duration": 0,
    "start_time": "2023-12-20T00:04:31.015Z"
   },
   {
    "duration": 0,
    "start_time": "2023-12-20T00:04:31.016Z"
   },
   {
    "duration": 0,
    "start_time": "2023-12-20T00:04:31.018Z"
   },
   {
    "duration": 0,
    "start_time": "2023-12-20T00:04:31.019Z"
   },
   {
    "duration": 0,
    "start_time": "2023-12-20T00:04:31.020Z"
   },
   {
    "duration": 0,
    "start_time": "2023-12-20T00:04:31.021Z"
   },
   {
    "duration": 0,
    "start_time": "2023-12-20T00:04:31.022Z"
   },
   {
    "duration": 0,
    "start_time": "2023-12-20T00:04:31.023Z"
   },
   {
    "duration": 0,
    "start_time": "2023-12-20T00:04:31.024Z"
   },
   {
    "duration": 0,
    "start_time": "2023-12-20T00:04:31.025Z"
   },
   {
    "duration": 0,
    "start_time": "2023-12-20T00:04:31.026Z"
   },
   {
    "duration": 0,
    "start_time": "2023-12-20T00:04:31.027Z"
   },
   {
    "duration": 0,
    "start_time": "2023-12-20T00:04:31.028Z"
   },
   {
    "duration": 0,
    "start_time": "2023-12-20T00:04:31.029Z"
   },
   {
    "duration": 49,
    "start_time": "2023-12-20T00:04:56.156Z"
   },
   {
    "duration": 4,
    "start_time": "2023-12-20T00:04:57.856Z"
   },
   {
    "duration": 18,
    "start_time": "2023-12-20T00:05:03.622Z"
   },
   {
    "duration": 3,
    "start_time": "2023-12-20T00:05:29.529Z"
   },
   {
    "duration": 4,
    "start_time": "2023-12-20T00:05:35.155Z"
   },
   {
    "duration": 5,
    "start_time": "2023-12-20T00:05:35.752Z"
   },
   {
    "duration": 2,
    "start_time": "2023-12-20T00:05:41.626Z"
   },
   {
    "duration": 5,
    "start_time": "2023-12-20T00:05:44.670Z"
   },
   {
    "duration": 19,
    "start_time": "2023-12-20T00:05:50.286Z"
   },
   {
    "duration": 3,
    "start_time": "2023-12-20T00:07:24.863Z"
   },
   {
    "duration": 16,
    "start_time": "2023-12-20T00:07:34.936Z"
   },
   {
    "duration": 4,
    "start_time": "2023-12-20T00:07:36.724Z"
   },
   {
    "duration": 5,
    "start_time": "2023-12-20T00:07:41.500Z"
   },
   {
    "duration": 3,
    "start_time": "2023-12-20T00:07:43.104Z"
   },
   {
    "duration": 21,
    "start_time": "2023-12-20T00:07:45.996Z"
   },
   {
    "duration": 19,
    "start_time": "2023-12-20T00:08:42.056Z"
   },
   {
    "duration": 3071,
    "start_time": "2023-12-20T00:08:57.587Z"
   },
   {
    "duration": 308,
    "start_time": "2023-12-20T00:09:06.383Z"
   },
   {
    "duration": 28245,
    "start_time": "2023-12-20T00:09:10.577Z"
   },
   {
    "duration": 56779,
    "start_time": "2023-12-20T00:11:25.985Z"
   },
   {
    "duration": 49568,
    "start_time": "2023-12-20T00:12:43.637Z"
   },
   {
    "duration": 70600,
    "start_time": "2023-12-20T00:14:26.519Z"
   },
   {
    "duration": 98795,
    "start_time": "2023-12-20T00:15:56.386Z"
   },
   {
    "duration": 28323,
    "start_time": "2023-12-20T00:18:51.318Z"
   },
   {
    "duration": 527,
    "start_time": "2023-12-20T00:19:22.511Z"
   },
   {
    "duration": 0,
    "start_time": "2023-12-20T00:19:23.040Z"
   },
   {
    "duration": 4306,
    "start_time": "2023-12-20T00:19:45.339Z"
   },
   {
    "duration": 2,
    "start_time": "2023-12-20T00:20:43.552Z"
   },
   {
    "duration": 19,
    "start_time": "2023-12-20T00:20:44.961Z"
   },
   {
    "duration": 22,
    "start_time": "2023-12-20T00:20:45.183Z"
   },
   {
    "duration": 1842,
    "start_time": "2023-12-20T00:20:56.301Z"
   },
   {
    "duration": 27779,
    "start_time": "2023-12-20T00:21:01.543Z"
   },
   {
    "duration": 4,
    "start_time": "2023-12-20T00:21:29.326Z"
   },
   {
    "duration": 242,
    "start_time": "2023-12-20T00:21:50.076Z"
   },
   {
    "duration": 4659,
    "start_time": "2023-12-20T00:21:55.802Z"
   },
   {
    "duration": 4001,
    "start_time": "2023-12-20T00:22:10.005Z"
   },
   {
    "duration": 9,
    "start_time": "2023-12-20T00:22:17.102Z"
   },
   {
    "duration": 36336,
    "start_time": "2023-12-20T00:22:18.159Z"
   },
   {
    "duration": 30,
    "start_time": "2023-12-20T00:22:54.497Z"
   },
   {
    "duration": 148,
    "start_time": "2023-12-20T00:24:58.753Z"
   },
   {
    "duration": 4091,
    "start_time": "2023-12-20T00:25:09.035Z"
   },
   {
    "duration": 56,
    "start_time": "2023-12-20T00:25:13.127Z"
   },
   {
    "duration": 70,
    "start_time": "2023-12-20T00:25:13.185Z"
   },
   {
    "duration": 196,
    "start_time": "2023-12-20T00:25:13.834Z"
   },
   {
    "duration": 6,
    "start_time": "2023-12-20T00:25:14.333Z"
   },
   {
    "duration": 6318,
    "start_time": "2023-12-20T00:27:15.393Z"
   },
   {
    "duration": 11,
    "start_time": "2023-12-20T00:27:21.713Z"
   },
   {
    "duration": 54834,
    "start_time": "2023-12-20T00:27:21.725Z"
   },
   {
    "duration": 25,
    "start_time": "2023-12-20T00:28:16.561Z"
   },
   {
    "duration": 0,
    "start_time": "2023-12-20T00:28:16.587Z"
   },
   {
    "duration": 3930,
    "start_time": "2023-12-20T00:28:54.989Z"
   },
   {
    "duration": 9,
    "start_time": "2023-12-20T00:28:58.921Z"
   },
   {
    "duration": 36529,
    "start_time": "2023-12-20T00:28:58.931Z"
   },
   {
    "duration": 154,
    "start_time": "2023-12-20T00:29:35.462Z"
   },
   {
    "duration": 4026,
    "start_time": "2023-12-20T00:29:45.496Z"
   },
   {
    "duration": 6011,
    "start_time": "2023-12-20T00:29:58.428Z"
   },
   {
    "duration": 6076,
    "start_time": "2023-12-20T00:30:09.112Z"
   },
   {
    "duration": 7985,
    "start_time": "2023-12-20T00:30:25.809Z"
   },
   {
    "duration": 8219,
    "start_time": "2023-12-20T00:30:44.372Z"
   },
   {
    "duration": 12003,
    "start_time": "2023-12-20T00:31:00.293Z"
   },
   {
    "duration": 12288,
    "start_time": "2023-12-20T00:31:17.795Z"
   },
   {
    "duration": 20076,
    "start_time": "2023-12-20T00:31:42.321Z"
   },
   {
    "duration": 20477,
    "start_time": "2023-12-20T00:32:29.099Z"
   },
   {
    "duration": 27864,
    "start_time": "2023-12-20T00:32:56.690Z"
   },
   {
    "duration": 28651,
    "start_time": "2023-12-20T00:33:32.515Z"
   },
   {
    "duration": 28657,
    "start_time": "2023-12-20T00:34:12.010Z"
   },
   {
    "duration": 24003,
    "start_time": "2023-12-20T00:34:49.485Z"
   },
   {
    "duration": 24423,
    "start_time": "2023-12-20T00:35:19.318Z"
   },
   {
    "duration": 21811,
    "start_time": "2023-12-20T00:36:16.452Z"
   },
   {
    "duration": 22567,
    "start_time": "2023-12-20T00:36:44.896Z"
   },
   {
    "duration": 2034,
    "start_time": "2023-12-20T00:37:17.406Z"
   },
   {
    "duration": 2046,
    "start_time": "2023-12-20T00:37:22.708Z"
   },
   {
    "duration": 6,
    "start_time": "2023-12-20T00:37:34.050Z"
   },
   {
    "duration": 18266,
    "start_time": "2023-12-20T00:37:35.276Z"
   },
   {
    "duration": 29200,
    "start_time": "2023-12-20T00:38:22.432Z"
   },
   {
    "duration": 29531,
    "start_time": "2023-12-20T00:39:04.821Z"
   },
   {
    "duration": 23237,
    "start_time": "2023-12-20T00:39:47.837Z"
   },
   {
    "duration": 23540,
    "start_time": "2023-12-20T00:40:11.076Z"
   },
   {
    "duration": 21211,
    "start_time": "2023-12-20T00:41:00.830Z"
   },
   {
    "duration": 21506,
    "start_time": "2023-12-20T00:41:22.044Z"
   },
   {
    "duration": 12730,
    "start_time": "2023-12-20T00:42:27.133Z"
   },
   {
    "duration": 13087,
    "start_time": "2023-12-20T00:42:59.808Z"
   },
   {
    "duration": 14020,
    "start_time": "2023-12-20T00:43:33.720Z"
   },
   {
    "duration": 14459,
    "start_time": "2023-12-20T00:43:47.741Z"
   },
   {
    "duration": 11786,
    "start_time": "2023-12-20T00:44:13.808Z"
   },
   {
    "duration": 12101,
    "start_time": "2023-12-20T00:44:29.818Z"
   },
   {
    "duration": 137072,
    "start_time": "2023-12-20T00:45:06.804Z"
   },
   {
    "duration": 140426,
    "start_time": "2023-12-20T00:47:23.878Z"
   },
   {
    "duration": 14750,
    "start_time": "2023-12-20T00:50:08.049Z"
   },
   {
    "duration": 14990,
    "start_time": "2023-12-20T00:50:30.261Z"
   },
   {
    "duration": 14412,
    "start_time": "2023-12-20T00:50:53.721Z"
   },
   {
    "duration": 14914,
    "start_time": "2023-12-20T00:51:27.689Z"
   },
   {
    "duration": 12564,
    "start_time": "2023-12-20T00:52:01.374Z"
   },
   {
    "duration": 12951,
    "start_time": "2023-12-20T00:52:18.335Z"
   },
   {
    "duration": 12467,
    "start_time": "2023-12-20T00:52:43.716Z"
   },
   {
    "duration": 12791,
    "start_time": "2023-12-20T00:53:03.270Z"
   },
   {
    "duration": 12933,
    "start_time": "2023-12-20T00:53:31.425Z"
   },
   {
    "duration": 13246,
    "start_time": "2023-12-20T00:54:10.423Z"
   },
   {
    "duration": 15916,
    "start_time": "2023-12-20T00:55:57.184Z"
   },
   {
    "duration": 516424,
    "start_time": "2023-12-20T00:56:29.581Z"
   },
   {
    "duration": 521599,
    "start_time": "2023-12-20T01:05:23.978Z"
   },
   {
    "duration": 123050,
    "start_time": "2023-12-20T01:14:50.415Z"
   },
   {
    "duration": 17373,
    "start_time": "2023-12-20T01:18:46.766Z"
   },
   {
    "duration": 23,
    "start_time": "2023-12-20T01:19:04.141Z"
   },
   {
    "duration": 159922,
    "start_time": "2023-12-20T01:19:04.165Z"
   },
   {
    "duration": 48,
    "start_time": "2023-12-20T01:21:44.090Z"
   },
   {
    "duration": 37,
    "start_time": "2023-12-20T01:24:56.835Z"
   },
   {
    "duration": 223,
    "start_time": "2023-12-20T01:25:12.294Z"
   },
   {
    "duration": 8802,
    "start_time": "2023-12-20T01:25:45.114Z"
   },
   {
    "duration": 8437,
    "start_time": "2023-12-20T01:25:53.918Z"
   },
   {
    "duration": 3,
    "start_time": "2023-12-20T01:26:02.356Z"
   },
   {
    "duration": 318,
    "start_time": "2023-12-20T01:26:02.360Z"
   },
   {
    "duration": 4,
    "start_time": "2023-12-20T01:26:02.680Z"
   },
   {
    "duration": 59,
    "start_time": "2023-12-20T01:26:02.685Z"
   },
   {
    "duration": 59,
    "start_time": "2023-12-20T01:26:02.746Z"
   },
   {
    "duration": 12,
    "start_time": "2023-12-20T01:26:02.806Z"
   },
   {
    "duration": 47,
    "start_time": "2023-12-20T01:26:02.820Z"
   },
   {
    "duration": 8,
    "start_time": "2023-12-20T01:26:02.869Z"
   },
   {
    "duration": 4,
    "start_time": "2023-12-20T01:26:02.878Z"
   },
   {
    "duration": 42,
    "start_time": "2023-12-20T01:26:02.883Z"
   },
   {
    "duration": 11,
    "start_time": "2023-12-20T01:26:02.926Z"
   },
   {
    "duration": 10,
    "start_time": "2023-12-20T01:26:02.940Z"
   },
   {
    "duration": 4,
    "start_time": "2023-12-20T01:26:02.952Z"
   },
   {
    "duration": 9,
    "start_time": "2023-12-20T01:26:02.958Z"
   },
   {
    "duration": 3,
    "start_time": "2023-12-20T01:26:02.968Z"
   },
   {
    "duration": 8,
    "start_time": "2023-12-20T01:26:02.972Z"
   },
   {
    "duration": 15,
    "start_time": "2023-12-20T01:26:02.982Z"
   },
   {
    "duration": 13,
    "start_time": "2023-12-20T01:26:02.998Z"
   },
   {
    "duration": 15,
    "start_time": "2023-12-20T01:26:03.012Z"
   },
   {
    "duration": 11,
    "start_time": "2023-12-20T01:26:03.028Z"
   },
   {
    "duration": 4098,
    "start_time": "2023-12-20T01:26:03.041Z"
   },
   {
    "duration": 3,
    "start_time": "2023-12-20T01:26:07.141Z"
   },
   {
    "duration": 27,
    "start_time": "2023-12-20T01:26:07.145Z"
   },
   {
    "duration": 5,
    "start_time": "2023-12-20T01:26:07.173Z"
   },
   {
    "duration": 13,
    "start_time": "2023-12-20T01:26:07.179Z"
   },
   {
    "duration": 307,
    "start_time": "2023-12-20T01:26:07.193Z"
   },
   {
    "duration": 297,
    "start_time": "2023-12-20T01:26:07.501Z"
   },
   {
    "duration": 16,
    "start_time": "2023-12-20T01:26:07.799Z"
   },
   {
    "duration": 7,
    "start_time": "2023-12-20T01:26:07.816Z"
   },
   {
    "duration": 26,
    "start_time": "2023-12-20T01:26:07.825Z"
   },
   {
    "duration": 60,
    "start_time": "2023-12-20T01:26:07.852Z"
   },
   {
    "duration": 18,
    "start_time": "2023-12-20T01:26:07.913Z"
   },
   {
    "duration": 31,
    "start_time": "2023-12-20T01:26:07.933Z"
   },
   {
    "duration": 60,
    "start_time": "2023-12-20T01:26:07.966Z"
   },
   {
    "duration": 4,
    "start_time": "2023-12-20T01:26:08.027Z"
   },
   {
    "duration": 17,
    "start_time": "2023-12-20T01:26:08.033Z"
   },
   {
    "duration": 13,
    "start_time": "2023-12-20T01:26:08.051Z"
   },
   {
    "duration": 12,
    "start_time": "2023-12-20T01:26:08.066Z"
   },
   {
    "duration": 17,
    "start_time": "2023-12-20T01:26:08.111Z"
   },
   {
    "duration": 3,
    "start_time": "2023-12-20T01:26:08.130Z"
   },
   {
    "duration": 2106,
    "start_time": "2023-12-20T01:26:08.134Z"
   },
   {
    "duration": 335,
    "start_time": "2023-12-20T01:26:10.242Z"
   },
   {
    "duration": 318,
    "start_time": "2023-12-20T01:26:10.579Z"
   },
   {
    "duration": 12,
    "start_time": "2023-12-20T01:26:10.899Z"
   },
   {
    "duration": 40,
    "start_time": "2023-12-20T01:26:10.913Z"
   },
   {
    "duration": 4,
    "start_time": "2023-12-20T01:26:10.955Z"
   },
   {
    "duration": 6,
    "start_time": "2023-12-20T01:26:10.961Z"
   },
   {
    "duration": 4554,
    "start_time": "2023-12-20T01:26:10.969Z"
   },
   {
    "duration": 9,
    "start_time": "2023-12-20T01:26:15.524Z"
   },
   {
    "duration": 1601,
    "start_time": "2023-12-20T01:26:15.535Z"
   },
   {
    "duration": 6,
    "start_time": "2023-12-20T01:26:17.138Z"
   },
   {
    "duration": 16,
    "start_time": "2023-12-20T01:26:17.146Z"
   },
   {
    "duration": 332,
    "start_time": "2023-12-20T01:26:17.164Z"
   },
   {
    "duration": 318,
    "start_time": "2023-12-20T01:26:17.498Z"
   },
   {
    "duration": 5,
    "start_time": "2023-12-20T01:26:17.818Z"
   },
   {
    "duration": 5,
    "start_time": "2023-12-20T01:26:17.825Z"
   },
   {
    "duration": 5,
    "start_time": "2023-12-20T01:26:17.831Z"
   },
   {
    "duration": 5,
    "start_time": "2023-12-20T01:26:17.837Z"
   },
   {
    "duration": 11,
    "start_time": "2023-12-20T01:26:17.844Z"
   },
   {
    "duration": 4,
    "start_time": "2023-12-20T01:26:17.856Z"
   },
   {
    "duration": 60,
    "start_time": "2023-12-20T01:26:17.862Z"
   },
   {
    "duration": 3,
    "start_time": "2023-12-20T01:26:17.924Z"
   },
   {
    "duration": 11,
    "start_time": "2023-12-20T01:26:17.929Z"
   },
   {
    "duration": 8,
    "start_time": "2023-12-20T01:26:17.942Z"
   },
   {
    "duration": 13,
    "start_time": "2023-12-20T01:26:17.951Z"
   },
   {
    "duration": 12,
    "start_time": "2023-12-20T01:26:17.965Z"
   },
   {
    "duration": 5,
    "start_time": "2023-12-20T01:26:17.978Z"
   },
   {
    "duration": 3,
    "start_time": "2023-12-20T01:26:17.984Z"
   },
   {
    "duration": 6,
    "start_time": "2023-12-20T01:26:17.989Z"
   },
   {
    "duration": 13,
    "start_time": "2023-12-20T01:26:17.996Z"
   },
   {
    "duration": 27,
    "start_time": "2023-12-20T01:26:18.010Z"
   },
   {
    "duration": 3009,
    "start_time": "2023-12-20T01:26:18.039Z"
   },
   {
    "duration": 292,
    "start_time": "2023-12-20T01:26:21.050Z"
   },
   {
    "duration": 28170,
    "start_time": "2023-12-20T01:26:21.343Z"
   },
   {
    "duration": 2,
    "start_time": "2023-12-20T01:26:49.515Z"
   },
   {
    "duration": 17,
    "start_time": "2023-12-20T01:26:49.518Z"
   },
   {
    "duration": 22,
    "start_time": "2023-12-20T01:26:49.536Z"
   },
   {
    "duration": 1803,
    "start_time": "2023-12-20T01:26:49.560Z"
   },
   {
    "duration": 27447,
    "start_time": "2023-12-20T01:26:51.365Z"
   },
   {
    "duration": 4,
    "start_time": "2023-12-20T01:27:18.813Z"
   },
   {
    "duration": 267,
    "start_time": "2023-12-20T01:27:18.818Z"
   },
   {
    "duration": 20585,
    "start_time": "2023-12-20T01:27:19.087Z"
   },
   {
    "duration": 17567,
    "start_time": "2023-12-20T01:27:39.673Z"
   },
   {
    "duration": 29,
    "start_time": "2023-12-20T01:27:57.242Z"
   },
   {
    "duration": 160415,
    "start_time": "2023-12-20T01:27:57.272Z"
   },
   {
    "duration": 227,
    "start_time": "2023-12-20T01:30:37.688Z"
   },
   {
    "duration": 17866,
    "start_time": "2023-12-20T01:30:37.916Z"
   },
   {
    "duration": 2,
    "start_time": "2023-12-20T01:30:55.784Z"
   },
   {
    "duration": 228,
    "start_time": "2023-12-20T01:30:55.788Z"
   },
   {
    "duration": 229,
    "start_time": "2023-12-20T01:30:56.017Z"
   },
   {
    "duration": 355,
    "start_time": "2023-12-20T01:30:56.248Z"
   },
   {
    "duration": 10,
    "start_time": "2023-12-20T01:30:56.605Z"
   },
   {
    "duration": 124136,
    "start_time": "2023-12-20T01:31:55.763Z"
   },
   {
    "duration": 25346,
    "start_time": "2023-12-20T18:15:40.659Z"
   },
   {
    "duration": 8210,
    "start_time": "2023-12-20T18:16:06.007Z"
   },
   {
    "duration": 3,
    "start_time": "2023-12-20T18:16:14.219Z"
   },
   {
    "duration": 391,
    "start_time": "2023-12-20T18:16:14.224Z"
   },
   {
    "duration": 5,
    "start_time": "2023-12-20T18:16:14.616Z"
   },
   {
    "duration": 82,
    "start_time": "2023-12-20T18:16:14.622Z"
   },
   {
    "duration": 57,
    "start_time": "2023-12-20T18:16:14.705Z"
   },
   {
    "duration": 14,
    "start_time": "2023-12-20T18:16:14.763Z"
   },
   {
    "duration": 50,
    "start_time": "2023-12-20T18:16:14.778Z"
   },
   {
    "duration": 14,
    "start_time": "2023-12-20T18:16:14.831Z"
   },
   {
    "duration": 11,
    "start_time": "2023-12-20T18:16:14.847Z"
   },
   {
    "duration": 48,
    "start_time": "2023-12-20T18:16:14.859Z"
   },
   {
    "duration": 14,
    "start_time": "2023-12-20T18:16:14.908Z"
   },
   {
    "duration": 26,
    "start_time": "2023-12-20T18:16:14.923Z"
   },
   {
    "duration": 40,
    "start_time": "2023-12-20T18:16:14.950Z"
   },
   {
    "duration": 91,
    "start_time": "2023-12-20T18:16:14.991Z"
   },
   {
    "duration": 49,
    "start_time": "2023-12-20T18:16:15.083Z"
   },
   {
    "duration": 12,
    "start_time": "2023-12-20T18:16:15.134Z"
   },
   {
    "duration": 42,
    "start_time": "2023-12-20T18:16:15.148Z"
   },
   {
    "duration": 3,
    "start_time": "2023-12-20T18:16:15.192Z"
   },
   {
    "duration": 25,
    "start_time": "2023-12-20T18:16:15.196Z"
   },
   {
    "duration": 13,
    "start_time": "2023-12-20T18:16:15.222Z"
   },
   {
    "duration": 4314,
    "start_time": "2023-12-20T18:16:15.237Z"
   },
   {
    "duration": 3,
    "start_time": "2023-12-20T18:16:19.552Z"
   },
   {
    "duration": 32,
    "start_time": "2023-12-20T18:16:19.557Z"
   },
   {
    "duration": 5,
    "start_time": "2023-12-20T18:16:19.590Z"
   },
   {
    "duration": 18,
    "start_time": "2023-12-20T18:16:19.596Z"
   },
   {
    "duration": 308,
    "start_time": "2023-12-20T18:16:19.618Z"
   },
   {
    "duration": 296,
    "start_time": "2023-12-20T18:16:19.927Z"
   },
   {
    "duration": 7,
    "start_time": "2023-12-20T18:16:20.224Z"
   },
   {
    "duration": 11,
    "start_time": "2023-12-20T18:16:20.232Z"
   },
   {
    "duration": 27,
    "start_time": "2023-12-20T18:16:20.244Z"
   },
   {
    "duration": 55,
    "start_time": "2023-12-20T18:16:20.272Z"
   },
   {
    "duration": 17,
    "start_time": "2023-12-20T18:16:20.329Z"
   },
   {
    "duration": 28,
    "start_time": "2023-12-20T18:16:20.348Z"
   },
   {
    "duration": 55,
    "start_time": "2023-12-20T18:16:20.378Z"
   },
   {
    "duration": 4,
    "start_time": "2023-12-20T18:16:20.435Z"
   },
   {
    "duration": 22,
    "start_time": "2023-12-20T18:16:20.441Z"
   },
   {
    "duration": 14,
    "start_time": "2023-12-20T18:16:20.465Z"
   },
   {
    "duration": 35,
    "start_time": "2023-12-20T18:16:20.480Z"
   },
   {
    "duration": 18,
    "start_time": "2023-12-20T18:16:20.517Z"
   },
   {
    "duration": 4,
    "start_time": "2023-12-20T18:16:20.536Z"
   },
   {
    "duration": 2200,
    "start_time": "2023-12-20T18:16:20.541Z"
   },
   {
    "duration": 326,
    "start_time": "2023-12-20T18:16:22.743Z"
   },
   {
    "duration": 538,
    "start_time": "2023-12-20T18:16:23.071Z"
   },
   {
    "duration": 8,
    "start_time": "2023-12-20T18:16:23.615Z"
   },
   {
    "duration": 38,
    "start_time": "2023-12-20T18:16:23.624Z"
   },
   {
    "duration": 4,
    "start_time": "2023-12-20T18:16:23.664Z"
   },
   {
    "duration": 4,
    "start_time": "2023-12-20T18:16:23.670Z"
   },
   {
    "duration": 4580,
    "start_time": "2023-12-20T18:16:23.675Z"
   },
   {
    "duration": 7,
    "start_time": "2023-12-20T18:16:28.257Z"
   },
   {
    "duration": 1685,
    "start_time": "2023-12-20T18:16:28.266Z"
   },
   {
    "duration": 5,
    "start_time": "2023-12-20T18:16:29.953Z"
   },
   {
    "duration": 21,
    "start_time": "2023-12-20T18:16:29.959Z"
   },
   {
    "duration": 336,
    "start_time": "2023-12-20T18:16:29.981Z"
   },
   {
    "duration": 324,
    "start_time": "2023-12-20T18:16:30.319Z"
   },
   {
    "duration": 5,
    "start_time": "2023-12-20T18:16:30.644Z"
   },
   {
    "duration": 41,
    "start_time": "2023-12-20T18:16:30.650Z"
   },
   {
    "duration": 31,
    "start_time": "2023-12-20T18:16:30.692Z"
   },
   {
    "duration": 36,
    "start_time": "2023-12-20T18:16:30.725Z"
   },
   {
    "duration": 34,
    "start_time": "2023-12-20T18:16:30.763Z"
   },
   {
    "duration": 45,
    "start_time": "2023-12-20T18:16:30.798Z"
   },
   {
    "duration": 100,
    "start_time": "2023-12-20T18:16:30.844Z"
   },
   {
    "duration": 4,
    "start_time": "2023-12-20T18:17:02.512Z"
   },
   {
    "duration": 241,
    "start_time": "2023-12-20T18:17:10.842Z"
   },
   {
    "duration": 198,
    "start_time": "2023-12-20T18:17:23.382Z"
   },
   {
    "duration": 35,
    "start_time": "2023-12-20T18:17:24.442Z"
   },
   {
    "duration": 41,
    "start_time": "2023-12-20T18:17:39.745Z"
   },
   {
    "duration": 10078,
    "start_time": "2023-12-20T22:48:54.450Z"
   },
   {
    "duration": 4904,
    "start_time": "2023-12-20T22:49:04.530Z"
   },
   {
    "duration": 3,
    "start_time": "2023-12-20T22:49:09.435Z"
   },
   {
    "duration": 101,
    "start_time": "2023-12-20T22:49:09.440Z"
   },
   {
    "duration": 4,
    "start_time": "2023-12-20T22:49:09.543Z"
   },
   {
    "duration": 22,
    "start_time": "2023-12-20T22:49:09.549Z"
   },
   {
    "duration": 37,
    "start_time": "2023-12-20T22:49:09.573Z"
   },
   {
    "duration": 12,
    "start_time": "2023-12-20T22:49:09.612Z"
   },
   {
    "duration": 15,
    "start_time": "2023-12-20T22:49:09.625Z"
   },
   {
    "duration": 7,
    "start_time": "2023-12-20T22:49:09.642Z"
   },
   {
    "duration": 5,
    "start_time": "2023-12-20T22:49:09.650Z"
   },
   {
    "duration": 76,
    "start_time": "2023-12-20T22:49:09.656Z"
   },
   {
    "duration": 11,
    "start_time": "2023-12-20T22:49:09.733Z"
   },
   {
    "duration": 19,
    "start_time": "2023-12-20T22:49:09.746Z"
   },
   {
    "duration": 2,
    "start_time": "2023-12-20T22:49:09.766Z"
   },
   {
    "duration": 31,
    "start_time": "2023-12-20T22:49:09.770Z"
   },
   {
    "duration": 3,
    "start_time": "2023-12-20T22:49:09.803Z"
   },
   {
    "duration": 10,
    "start_time": "2023-12-20T22:49:09.807Z"
   },
   {
    "duration": 17,
    "start_time": "2023-12-20T22:49:09.818Z"
   },
   {
    "duration": 2,
    "start_time": "2023-12-20T22:49:09.837Z"
   },
   {
    "duration": 14,
    "start_time": "2023-12-20T22:49:09.841Z"
   },
   {
    "duration": 3,
    "start_time": "2023-12-20T22:49:09.856Z"
   },
   {
    "duration": 4040,
    "start_time": "2023-12-20T22:49:09.860Z"
   },
   {
    "duration": 3,
    "start_time": "2023-12-20T22:49:13.902Z"
   },
   {
    "duration": 25,
    "start_time": "2023-12-20T22:49:13.907Z"
   },
   {
    "duration": 12,
    "start_time": "2023-12-20T22:49:13.934Z"
   },
   {
    "duration": 4,
    "start_time": "2023-12-20T22:49:13.948Z"
   },
   {
    "duration": 296,
    "start_time": "2023-12-20T22:49:13.953Z"
   },
   {
    "duration": 302,
    "start_time": "2023-12-20T22:49:14.250Z"
   },
   {
    "duration": 8,
    "start_time": "2023-12-20T22:49:14.554Z"
   },
   {
    "duration": 20,
    "start_time": "2023-12-20T22:49:14.564Z"
   },
   {
    "duration": 38,
    "start_time": "2023-12-20T22:49:14.586Z"
   },
   {
    "duration": 33,
    "start_time": "2023-12-20T22:49:14.625Z"
   },
   {
    "duration": 16,
    "start_time": "2023-12-20T22:49:14.659Z"
   },
   {
    "duration": 46,
    "start_time": "2023-12-20T22:49:14.676Z"
   },
   {
    "duration": 29,
    "start_time": "2023-12-20T22:49:14.724Z"
   },
   {
    "duration": 3,
    "start_time": "2023-12-20T22:49:14.754Z"
   },
   {
    "duration": 42,
    "start_time": "2023-12-20T22:49:14.758Z"
   },
   {
    "duration": 11,
    "start_time": "2023-12-20T22:49:14.802Z"
   },
   {
    "duration": 34,
    "start_time": "2023-12-20T22:49:14.815Z"
   },
   {
    "duration": 16,
    "start_time": "2023-12-20T22:49:14.853Z"
   },
   {
    "duration": 3,
    "start_time": "2023-12-20T22:49:14.871Z"
   },
   {
    "duration": 1964,
    "start_time": "2023-12-20T22:49:14.875Z"
   },
   {
    "duration": 295,
    "start_time": "2023-12-20T22:49:16.840Z"
   },
   {
    "duration": 304,
    "start_time": "2023-12-20T22:49:17.137Z"
   },
   {
    "duration": 8,
    "start_time": "2023-12-20T22:49:17.442Z"
   },
   {
    "duration": 263,
    "start_time": "2023-12-20T22:49:17.451Z"
   },
   {
    "duration": 5,
    "start_time": "2023-12-20T22:49:17.715Z"
   },
   {
    "duration": 3,
    "start_time": "2023-12-20T22:49:17.722Z"
   },
   {
    "duration": 3998,
    "start_time": "2023-12-20T22:49:17.726Z"
   },
   {
    "duration": 7,
    "start_time": "2023-12-20T22:49:21.726Z"
   },
   {
    "duration": 1508,
    "start_time": "2023-12-20T22:49:21.734Z"
   },
   {
    "duration": 5,
    "start_time": "2023-12-20T22:49:23.243Z"
   },
   {
    "duration": 11,
    "start_time": "2023-12-20T22:49:23.250Z"
   },
   {
    "duration": 318,
    "start_time": "2023-12-20T22:49:23.262Z"
   },
   {
    "duration": 317,
    "start_time": "2023-12-20T22:49:23.582Z"
   },
   {
    "duration": 5,
    "start_time": "2023-12-20T22:49:23.901Z"
   },
   {
    "duration": 9,
    "start_time": "2023-12-20T22:49:23.907Z"
   },
   {
    "duration": 4,
    "start_time": "2023-12-20T22:49:23.918Z"
   },
   {
    "duration": 6,
    "start_time": "2023-12-20T22:49:23.923Z"
   },
   {
    "duration": 6,
    "start_time": "2023-12-20T22:49:23.931Z"
   },
   {
    "duration": 4,
    "start_time": "2023-12-20T22:49:23.939Z"
   },
   {
    "duration": 307,
    "start_time": "2023-12-20T22:49:23.944Z"
   },
   {
    "duration": 0,
    "start_time": "2023-12-20T22:49:24.252Z"
   },
   {
    "duration": 0,
    "start_time": "2023-12-20T22:49:24.254Z"
   },
   {
    "duration": 0,
    "start_time": "2023-12-20T22:49:24.255Z"
   },
   {
    "duration": 0,
    "start_time": "2023-12-20T22:49:24.256Z"
   },
   {
    "duration": 0,
    "start_time": "2023-12-20T22:49:24.257Z"
   },
   {
    "duration": 0,
    "start_time": "2023-12-20T22:49:24.258Z"
   },
   {
    "duration": 0,
    "start_time": "2023-12-20T22:49:24.259Z"
   },
   {
    "duration": 0,
    "start_time": "2023-12-20T22:49:24.260Z"
   },
   {
    "duration": 0,
    "start_time": "2023-12-20T22:49:24.261Z"
   },
   {
    "duration": 0,
    "start_time": "2023-12-20T22:49:24.262Z"
   },
   {
    "duration": 0,
    "start_time": "2023-12-20T22:49:24.263Z"
   },
   {
    "duration": 0,
    "start_time": "2023-12-20T22:49:24.264Z"
   },
   {
    "duration": 0,
    "start_time": "2023-12-20T22:49:24.265Z"
   },
   {
    "duration": 0,
    "start_time": "2023-12-20T22:49:24.266Z"
   },
   {
    "duration": 0,
    "start_time": "2023-12-20T22:49:24.267Z"
   },
   {
    "duration": 0,
    "start_time": "2023-12-20T22:49:24.268Z"
   },
   {
    "duration": 0,
    "start_time": "2023-12-20T22:49:24.269Z"
   },
   {
    "duration": 0,
    "start_time": "2023-12-20T22:49:24.298Z"
   },
   {
    "duration": 0,
    "start_time": "2023-12-20T22:49:24.299Z"
   },
   {
    "duration": 0,
    "start_time": "2023-12-20T22:49:24.301Z"
   },
   {
    "duration": 0,
    "start_time": "2023-12-20T22:49:24.301Z"
   },
   {
    "duration": 0,
    "start_time": "2023-12-20T22:49:24.302Z"
   },
   {
    "duration": 0,
    "start_time": "2023-12-20T22:49:24.303Z"
   },
   {
    "duration": 0,
    "start_time": "2023-12-20T22:49:24.304Z"
   },
   {
    "duration": 0,
    "start_time": "2023-12-20T22:49:24.305Z"
   },
   {
    "duration": 0,
    "start_time": "2023-12-20T22:49:24.306Z"
   },
   {
    "duration": 0,
    "start_time": "2023-12-20T22:49:24.307Z"
   },
   {
    "duration": 8155,
    "start_time": "2023-12-20T22:52:26.484Z"
   },
   {
    "duration": 5026,
    "start_time": "2023-12-20T22:52:34.641Z"
   },
   {
    "duration": 3,
    "start_time": "2023-12-20T22:52:39.668Z"
   },
   {
    "duration": 89,
    "start_time": "2023-12-20T22:52:39.673Z"
   },
   {
    "duration": 4,
    "start_time": "2023-12-20T22:52:39.763Z"
   },
   {
    "duration": 21,
    "start_time": "2023-12-20T22:52:39.769Z"
   },
   {
    "duration": 31,
    "start_time": "2023-12-20T22:52:39.792Z"
   },
   {
    "duration": 12,
    "start_time": "2023-12-20T22:52:39.824Z"
   },
   {
    "duration": 15,
    "start_time": "2023-12-20T22:52:39.837Z"
   },
   {
    "duration": 7,
    "start_time": "2023-12-20T22:52:39.854Z"
   },
   {
    "duration": 8,
    "start_time": "2023-12-20T22:52:39.862Z"
   },
   {
    "duration": 57,
    "start_time": "2023-12-20T22:52:39.871Z"
   },
   {
    "duration": 10,
    "start_time": "2023-12-20T22:52:39.929Z"
   },
   {
    "duration": 14,
    "start_time": "2023-12-20T22:52:39.940Z"
   },
   {
    "duration": 2,
    "start_time": "2023-12-20T22:52:39.955Z"
   },
   {
    "duration": 8,
    "start_time": "2023-12-20T22:52:39.958Z"
   },
   {
    "duration": 3,
    "start_time": "2023-12-20T22:52:39.968Z"
   },
   {
    "duration": 26,
    "start_time": "2023-12-20T22:52:39.973Z"
   },
   {
    "duration": 20,
    "start_time": "2023-12-20T22:52:40.001Z"
   },
   {
    "duration": 3,
    "start_time": "2023-12-20T22:52:40.022Z"
   },
   {
    "duration": 15,
    "start_time": "2023-12-20T22:52:40.026Z"
   },
   {
    "duration": 5,
    "start_time": "2023-12-20T22:52:40.042Z"
   },
   {
    "duration": 4023,
    "start_time": "2023-12-20T22:52:40.049Z"
   },
   {
    "duration": 3,
    "start_time": "2023-12-20T22:52:44.073Z"
   },
   {
    "duration": 35,
    "start_time": "2023-12-20T22:52:44.078Z"
   },
   {
    "duration": 5,
    "start_time": "2023-12-20T22:52:44.115Z"
   },
   {
    "duration": 4,
    "start_time": "2023-12-20T22:52:44.121Z"
   },
   {
    "duration": 290,
    "start_time": "2023-12-20T22:52:44.129Z"
   },
   {
    "duration": 279,
    "start_time": "2023-12-20T22:52:44.421Z"
   },
   {
    "duration": 9,
    "start_time": "2023-12-20T22:52:44.701Z"
   },
   {
    "duration": 6,
    "start_time": "2023-12-20T22:52:44.712Z"
   },
   {
    "duration": 26,
    "start_time": "2023-12-20T22:52:44.720Z"
   },
   {
    "duration": 73,
    "start_time": "2023-12-20T22:52:44.748Z"
   },
   {
    "duration": 17,
    "start_time": "2023-12-20T22:52:44.822Z"
   },
   {
    "duration": 28,
    "start_time": "2023-12-20T22:52:44.840Z"
   },
   {
    "duration": 57,
    "start_time": "2023-12-20T22:52:44.869Z"
   },
   {
    "duration": 4,
    "start_time": "2023-12-20T22:52:44.927Z"
   },
   {
    "duration": 17,
    "start_time": "2023-12-20T22:52:44.932Z"
   },
   {
    "duration": 11,
    "start_time": "2023-12-20T22:52:44.950Z"
   },
   {
    "duration": 36,
    "start_time": "2023-12-20T22:52:44.963Z"
   },
   {
    "duration": 18,
    "start_time": "2023-12-20T22:52:45.001Z"
   },
   {
    "duration": 30,
    "start_time": "2023-12-20T22:52:45.021Z"
   },
   {
    "duration": 1977,
    "start_time": "2023-12-20T22:52:45.052Z"
   },
   {
    "duration": 292,
    "start_time": "2023-12-20T22:52:47.031Z"
   },
   {
    "duration": 311,
    "start_time": "2023-12-20T22:52:47.325Z"
   },
   {
    "duration": 8,
    "start_time": "2023-12-20T22:52:47.637Z"
   },
   {
    "duration": 264,
    "start_time": "2023-12-20T22:52:47.647Z"
   },
   {
    "duration": 3,
    "start_time": "2023-12-20T22:52:47.913Z"
   },
   {
    "duration": 14,
    "start_time": "2023-12-20T22:52:47.918Z"
   },
   {
    "duration": 4037,
    "start_time": "2023-12-20T22:52:47.933Z"
   },
   {
    "duration": 8,
    "start_time": "2023-12-20T22:52:51.972Z"
   },
   {
    "duration": 1439,
    "start_time": "2023-12-20T22:52:51.981Z"
   },
   {
    "duration": 5,
    "start_time": "2023-12-20T22:52:53.421Z"
   },
   {
    "duration": 12,
    "start_time": "2023-12-20T22:52:53.428Z"
   },
   {
    "duration": 331,
    "start_time": "2023-12-20T22:52:53.443Z"
   },
   {
    "duration": 307,
    "start_time": "2023-12-20T22:52:53.776Z"
   },
   {
    "duration": 5,
    "start_time": "2023-12-20T22:52:54.085Z"
   },
   {
    "duration": 9,
    "start_time": "2023-12-20T22:52:54.091Z"
   },
   {
    "duration": 6,
    "start_time": "2023-12-20T22:52:54.101Z"
   },
   {
    "duration": 6,
    "start_time": "2023-12-20T22:52:54.109Z"
   },
   {
    "duration": 6,
    "start_time": "2023-12-20T22:52:54.116Z"
   },
   {
    "duration": 5,
    "start_time": "2023-12-20T22:52:54.124Z"
   },
   {
    "duration": 315,
    "start_time": "2023-12-20T22:52:54.130Z"
   },
   {
    "duration": 0,
    "start_time": "2023-12-20T22:52:54.448Z"
   },
   {
    "duration": 0,
    "start_time": "2023-12-20T22:52:54.449Z"
   },
   {
    "duration": 0,
    "start_time": "2023-12-20T22:52:54.450Z"
   },
   {
    "duration": 0,
    "start_time": "2023-12-20T22:52:54.452Z"
   },
   {
    "duration": 0,
    "start_time": "2023-12-20T22:52:54.453Z"
   },
   {
    "duration": 0,
    "start_time": "2023-12-20T22:52:54.454Z"
   },
   {
    "duration": 0,
    "start_time": "2023-12-20T22:52:54.456Z"
   },
   {
    "duration": 0,
    "start_time": "2023-12-20T22:52:54.457Z"
   },
   {
    "duration": 0,
    "start_time": "2023-12-20T22:52:54.458Z"
   },
   {
    "duration": 0,
    "start_time": "2023-12-20T22:52:54.460Z"
   },
   {
    "duration": 0,
    "start_time": "2023-12-20T22:52:54.461Z"
   },
   {
    "duration": 0,
    "start_time": "2023-12-20T22:52:54.462Z"
   },
   {
    "duration": 0,
    "start_time": "2023-12-20T22:52:54.464Z"
   },
   {
    "duration": 0,
    "start_time": "2023-12-20T22:52:54.465Z"
   },
   {
    "duration": 0,
    "start_time": "2023-12-20T22:52:54.499Z"
   },
   {
    "duration": 0,
    "start_time": "2023-12-20T22:52:54.500Z"
   },
   {
    "duration": 0,
    "start_time": "2023-12-20T22:52:54.502Z"
   },
   {
    "duration": 0,
    "start_time": "2023-12-20T22:52:54.503Z"
   },
   {
    "duration": 0,
    "start_time": "2023-12-20T22:52:54.504Z"
   },
   {
    "duration": 0,
    "start_time": "2023-12-20T22:52:54.506Z"
   },
   {
    "duration": 0,
    "start_time": "2023-12-20T22:52:54.507Z"
   },
   {
    "duration": 1,
    "start_time": "2023-12-20T22:52:54.508Z"
   },
   {
    "duration": 0,
    "start_time": "2023-12-20T22:52:54.510Z"
   },
   {
    "duration": 0,
    "start_time": "2023-12-20T22:52:54.511Z"
   },
   {
    "duration": 0,
    "start_time": "2023-12-20T22:52:54.512Z"
   },
   {
    "duration": 0,
    "start_time": "2023-12-20T22:52:54.513Z"
   },
   {
    "duration": 0,
    "start_time": "2023-12-20T22:52:54.515Z"
   },
   {
    "duration": 8208,
    "start_time": "2023-12-20T22:56:09.075Z"
   },
   {
    "duration": 5071,
    "start_time": "2023-12-20T22:56:17.285Z"
   },
   {
    "duration": 3,
    "start_time": "2023-12-20T22:56:22.357Z"
   },
   {
    "duration": 103,
    "start_time": "2023-12-20T22:56:22.362Z"
   },
   {
    "duration": 5,
    "start_time": "2023-12-20T22:56:22.466Z"
   },
   {
    "duration": 27,
    "start_time": "2023-12-20T22:56:22.472Z"
   },
   {
    "duration": 24,
    "start_time": "2023-12-20T22:56:22.501Z"
   },
   {
    "duration": 12,
    "start_time": "2023-12-20T22:56:22.526Z"
   },
   {
    "duration": 14,
    "start_time": "2023-12-20T22:56:22.540Z"
   },
   {
    "duration": 8,
    "start_time": "2023-12-20T22:56:22.556Z"
   },
   {
    "duration": 3,
    "start_time": "2023-12-20T22:56:22.565Z"
   },
   {
    "duration": 63,
    "start_time": "2023-12-20T22:56:22.569Z"
   },
   {
    "duration": 11,
    "start_time": "2023-12-20T22:56:22.634Z"
   },
   {
    "duration": 35,
    "start_time": "2023-12-20T22:56:22.646Z"
   },
   {
    "duration": 7,
    "start_time": "2023-12-20T22:56:22.682Z"
   },
   {
    "duration": 28,
    "start_time": "2023-12-20T22:56:22.690Z"
   },
   {
    "duration": 14,
    "start_time": "2023-12-20T22:56:22.720Z"
   },
   {
    "duration": 5,
    "start_time": "2023-12-20T22:56:22.736Z"
   },
   {
    "duration": 29,
    "start_time": "2023-12-20T22:56:22.742Z"
   },
   {
    "duration": 5,
    "start_time": "2023-12-20T22:56:22.773Z"
   },
   {
    "duration": 19,
    "start_time": "2023-12-20T22:56:22.779Z"
   },
   {
    "duration": 16,
    "start_time": "2023-12-20T22:56:22.799Z"
   },
   {
    "duration": 4056,
    "start_time": "2023-12-20T22:56:22.816Z"
   },
   {
    "duration": 3,
    "start_time": "2023-12-20T22:56:26.874Z"
   },
   {
    "duration": 34,
    "start_time": "2023-12-20T22:56:26.878Z"
   },
   {
    "duration": 15,
    "start_time": "2023-12-20T22:56:26.914Z"
   },
   {
    "duration": 28,
    "start_time": "2023-12-20T22:56:26.930Z"
   },
   {
    "duration": 278,
    "start_time": "2023-12-20T22:56:26.962Z"
   },
   {
    "duration": 275,
    "start_time": "2023-12-20T22:56:27.242Z"
   },
   {
    "duration": 6,
    "start_time": "2023-12-20T22:56:27.519Z"
   },
   {
    "duration": 5,
    "start_time": "2023-12-20T22:56:27.527Z"
   },
   {
    "duration": 28,
    "start_time": "2023-12-20T22:56:27.534Z"
   },
   {
    "duration": 56,
    "start_time": "2023-12-20T22:56:27.563Z"
   },
   {
    "duration": 16,
    "start_time": "2023-12-20T22:56:27.620Z"
   },
   {
    "duration": 25,
    "start_time": "2023-12-20T22:56:27.638Z"
   },
   {
    "duration": 64,
    "start_time": "2023-12-20T22:56:27.665Z"
   },
   {
    "duration": 4,
    "start_time": "2023-12-20T22:56:27.730Z"
   },
   {
    "duration": 14,
    "start_time": "2023-12-20T22:56:27.735Z"
   },
   {
    "duration": 11,
    "start_time": "2023-12-20T22:56:27.750Z"
   },
   {
    "duration": 42,
    "start_time": "2023-12-20T22:56:27.762Z"
   },
   {
    "duration": 29,
    "start_time": "2023-12-20T22:56:27.805Z"
   },
   {
    "duration": 17,
    "start_time": "2023-12-20T22:56:27.835Z"
   },
   {
    "duration": 1930,
    "start_time": "2023-12-20T22:56:27.853Z"
   },
   {
    "duration": 292,
    "start_time": "2023-12-20T22:56:29.784Z"
   },
   {
    "duration": 329,
    "start_time": "2023-12-20T22:56:30.077Z"
   },
   {
    "duration": 15,
    "start_time": "2023-12-20T22:56:30.408Z"
   },
   {
    "duration": 281,
    "start_time": "2023-12-20T22:56:30.425Z"
   },
   {
    "duration": 4,
    "start_time": "2023-12-20T22:56:30.708Z"
   },
   {
    "duration": 24,
    "start_time": "2023-12-20T22:56:30.713Z"
   },
   {
    "duration": 4094,
    "start_time": "2023-12-20T22:56:30.738Z"
   },
   {
    "duration": 8,
    "start_time": "2023-12-20T22:56:34.834Z"
   },
   {
    "duration": 1472,
    "start_time": "2023-12-20T22:56:34.843Z"
   },
   {
    "duration": 6,
    "start_time": "2023-12-20T22:56:36.317Z"
   },
   {
    "duration": 12,
    "start_time": "2023-12-20T22:56:36.324Z"
   },
   {
    "duration": 310,
    "start_time": "2023-12-20T22:56:36.338Z"
   },
   {
    "duration": 296,
    "start_time": "2023-12-20T22:56:36.649Z"
   },
   {
    "duration": 6,
    "start_time": "2023-12-20T22:56:36.947Z"
   },
   {
    "duration": 5,
    "start_time": "2023-12-20T22:56:36.955Z"
   },
   {
    "duration": 4,
    "start_time": "2023-12-20T22:56:36.961Z"
   },
   {
    "duration": 5,
    "start_time": "2023-12-20T22:56:36.966Z"
   },
   {
    "duration": 2,
    "start_time": "2023-12-20T22:56:36.999Z"
   },
   {
    "duration": 6,
    "start_time": "2023-12-20T22:56:37.003Z"
   },
   {
    "duration": 309,
    "start_time": "2023-12-20T22:56:37.010Z"
   },
   {
    "duration": 0,
    "start_time": "2023-12-20T22:56:37.321Z"
   },
   {
    "duration": 0,
    "start_time": "2023-12-20T22:56:37.323Z"
   },
   {
    "duration": 0,
    "start_time": "2023-12-20T22:56:37.324Z"
   },
   {
    "duration": 0,
    "start_time": "2023-12-20T22:56:37.326Z"
   },
   {
    "duration": 0,
    "start_time": "2023-12-20T22:56:37.327Z"
   },
   {
    "duration": 0,
    "start_time": "2023-12-20T22:56:37.328Z"
   },
   {
    "duration": 0,
    "start_time": "2023-12-20T22:56:37.330Z"
   },
   {
    "duration": 0,
    "start_time": "2023-12-20T22:56:37.331Z"
   },
   {
    "duration": 0,
    "start_time": "2023-12-20T22:56:37.332Z"
   },
   {
    "duration": 0,
    "start_time": "2023-12-20T22:56:37.333Z"
   },
   {
    "duration": 0,
    "start_time": "2023-12-20T22:56:37.335Z"
   },
   {
    "duration": 0,
    "start_time": "2023-12-20T22:56:37.336Z"
   },
   {
    "duration": 0,
    "start_time": "2023-12-20T22:56:37.337Z"
   },
   {
    "duration": 0,
    "start_time": "2023-12-20T22:56:37.338Z"
   },
   {
    "duration": 0,
    "start_time": "2023-12-20T22:56:37.340Z"
   },
   {
    "duration": 0,
    "start_time": "2023-12-20T22:56:37.341Z"
   },
   {
    "duration": 0,
    "start_time": "2023-12-20T22:56:37.343Z"
   },
   {
    "duration": 0,
    "start_time": "2023-12-20T22:56:37.344Z"
   },
   {
    "duration": 0,
    "start_time": "2023-12-20T22:56:37.345Z"
   },
   {
    "duration": 0,
    "start_time": "2023-12-20T22:56:37.347Z"
   },
   {
    "duration": 0,
    "start_time": "2023-12-20T22:56:37.348Z"
   },
   {
    "duration": 0,
    "start_time": "2023-12-20T22:56:37.349Z"
   },
   {
    "duration": 1,
    "start_time": "2023-12-20T22:56:37.349Z"
   },
   {
    "duration": 0,
    "start_time": "2023-12-20T22:56:37.350Z"
   },
   {
    "duration": 0,
    "start_time": "2023-12-20T22:56:37.351Z"
   },
   {
    "duration": 0,
    "start_time": "2023-12-20T22:56:37.398Z"
   },
   {
    "duration": 0,
    "start_time": "2023-12-20T22:56:37.400Z"
   },
   {
    "duration": 8256,
    "start_time": "2023-12-20T23:34:30.530Z"
   },
   {
    "duration": 5131,
    "start_time": "2023-12-20T23:34:38.788Z"
   },
   {
    "duration": 2,
    "start_time": "2023-12-20T23:34:43.921Z"
   },
   {
    "duration": 97,
    "start_time": "2023-12-20T23:34:43.925Z"
   },
   {
    "duration": 5,
    "start_time": "2023-12-20T23:34:44.023Z"
   },
   {
    "duration": 27,
    "start_time": "2023-12-20T23:34:44.029Z"
   },
   {
    "duration": 24,
    "start_time": "2023-12-20T23:34:44.057Z"
   },
   {
    "duration": 26,
    "start_time": "2023-12-20T23:34:44.082Z"
   },
   {
    "duration": 22,
    "start_time": "2023-12-20T23:34:44.110Z"
   },
   {
    "duration": 15,
    "start_time": "2023-12-20T23:34:44.135Z"
   },
   {
    "duration": 5,
    "start_time": "2023-12-20T23:34:44.151Z"
   },
   {
    "duration": 51,
    "start_time": "2023-12-20T23:34:44.158Z"
   },
   {
    "duration": 11,
    "start_time": "2023-12-20T23:34:44.210Z"
   },
   {
    "duration": 10,
    "start_time": "2023-12-20T23:34:44.222Z"
   },
   {
    "duration": 20,
    "start_time": "2023-12-20T23:34:44.233Z"
   },
   {
    "duration": 28,
    "start_time": "2023-12-20T23:34:44.254Z"
   },
   {
    "duration": 12,
    "start_time": "2023-12-20T23:34:44.283Z"
   },
   {
    "duration": 16,
    "start_time": "2023-12-20T23:34:44.296Z"
   },
   {
    "duration": 15,
    "start_time": "2023-12-20T23:34:44.313Z"
   },
   {
    "duration": 2,
    "start_time": "2023-12-20T23:34:44.329Z"
   },
   {
    "duration": 21,
    "start_time": "2023-12-20T23:34:44.333Z"
   },
   {
    "duration": 3,
    "start_time": "2023-12-20T23:34:44.355Z"
   },
   {
    "duration": 4055,
    "start_time": "2023-12-20T23:34:44.359Z"
   },
   {
    "duration": 3,
    "start_time": "2023-12-20T23:34:48.416Z"
   },
   {
    "duration": 21,
    "start_time": "2023-12-20T23:34:48.420Z"
   },
   {
    "duration": 5,
    "start_time": "2023-12-20T23:34:48.442Z"
   },
   {
    "duration": 4,
    "start_time": "2023-12-20T23:34:48.449Z"
   },
   {
    "duration": 298,
    "start_time": "2023-12-20T23:34:48.458Z"
   },
   {
    "duration": 280,
    "start_time": "2023-12-20T23:34:48.758Z"
   },
   {
    "duration": 8,
    "start_time": "2023-12-20T23:34:49.040Z"
   },
   {
    "duration": 6,
    "start_time": "2023-12-20T23:34:49.050Z"
   },
   {
    "duration": 59,
    "start_time": "2023-12-20T23:34:49.057Z"
   },
   {
    "duration": 41,
    "start_time": "2023-12-20T23:34:49.118Z"
   },
   {
    "duration": 38,
    "start_time": "2023-12-20T23:34:49.161Z"
   },
   {
    "duration": 27,
    "start_time": "2023-12-20T23:34:49.200Z"
   },
   {
    "duration": 31,
    "start_time": "2023-12-20T23:34:49.228Z"
   },
   {
    "duration": 4,
    "start_time": "2023-12-20T23:34:49.260Z"
   },
   {
    "duration": 40,
    "start_time": "2023-12-20T23:34:49.265Z"
   },
   {
    "duration": 11,
    "start_time": "2023-12-20T23:34:49.306Z"
   },
   {
    "duration": 10,
    "start_time": "2023-12-20T23:34:49.318Z"
   },
   {
    "duration": 15,
    "start_time": "2023-12-20T23:34:49.329Z"
   },
   {
    "duration": 3,
    "start_time": "2023-12-20T23:34:49.345Z"
   },
   {
    "duration": 1940,
    "start_time": "2023-12-20T23:34:49.349Z"
   },
   {
    "duration": 304,
    "start_time": "2023-12-20T23:34:51.291Z"
   },
   {
    "duration": 310,
    "start_time": "2023-12-20T23:34:51.598Z"
   },
   {
    "duration": 8,
    "start_time": "2023-12-20T23:34:51.909Z"
   },
   {
    "duration": 253,
    "start_time": "2023-12-20T23:34:51.919Z"
   },
   {
    "duration": 3,
    "start_time": "2023-12-20T23:34:52.174Z"
   },
   {
    "duration": 9,
    "start_time": "2023-12-20T23:34:52.179Z"
   },
   {
    "duration": 4099,
    "start_time": "2023-12-20T23:34:52.190Z"
   },
   {
    "duration": 13,
    "start_time": "2023-12-20T23:34:56.291Z"
   },
   {
    "duration": 1469,
    "start_time": "2023-12-20T23:34:56.305Z"
   },
   {
    "duration": 5,
    "start_time": "2023-12-20T23:34:57.775Z"
   },
   {
    "duration": 25,
    "start_time": "2023-12-20T23:34:57.781Z"
   },
   {
    "duration": 309,
    "start_time": "2023-12-20T23:34:57.807Z"
   },
   {
    "duration": 301,
    "start_time": "2023-12-20T23:34:58.118Z"
   },
   {
    "duration": 4,
    "start_time": "2023-12-20T23:34:58.421Z"
   },
   {
    "duration": 31,
    "start_time": "2023-12-20T23:34:58.426Z"
   },
   {
    "duration": 24,
    "start_time": "2023-12-20T23:34:58.459Z"
   },
   {
    "duration": 29,
    "start_time": "2023-12-20T23:34:58.484Z"
   },
   {
    "duration": 17,
    "start_time": "2023-12-20T23:34:58.515Z"
   },
   {
    "duration": 16,
    "start_time": "2023-12-20T23:34:58.533Z"
   },
   {
    "duration": 304,
    "start_time": "2023-12-20T23:34:58.551Z"
   },
   {
    "duration": 0,
    "start_time": "2023-12-20T23:34:58.857Z"
   },
   {
    "duration": 0,
    "start_time": "2023-12-20T23:34:58.859Z"
   },
   {
    "duration": 0,
    "start_time": "2023-12-20T23:34:58.860Z"
   },
   {
    "duration": 0,
    "start_time": "2023-12-20T23:34:58.861Z"
   },
   {
    "duration": 0,
    "start_time": "2023-12-20T23:34:58.863Z"
   },
   {
    "duration": 0,
    "start_time": "2023-12-20T23:34:58.864Z"
   },
   {
    "duration": 0,
    "start_time": "2023-12-20T23:34:58.865Z"
   },
   {
    "duration": 0,
    "start_time": "2023-12-20T23:34:58.867Z"
   },
   {
    "duration": 0,
    "start_time": "2023-12-20T23:34:58.868Z"
   },
   {
    "duration": 0,
    "start_time": "2023-12-20T23:34:58.869Z"
   },
   {
    "duration": 0,
    "start_time": "2023-12-20T23:34:58.870Z"
   },
   {
    "duration": 0,
    "start_time": "2023-12-20T23:34:58.872Z"
   },
   {
    "duration": 0,
    "start_time": "2023-12-20T23:34:58.898Z"
   },
   {
    "duration": 0,
    "start_time": "2023-12-20T23:34:58.899Z"
   },
   {
    "duration": 0,
    "start_time": "2023-12-20T23:34:58.900Z"
   },
   {
    "duration": 0,
    "start_time": "2023-12-20T23:34:58.901Z"
   },
   {
    "duration": 0,
    "start_time": "2023-12-20T23:34:58.903Z"
   },
   {
    "duration": 0,
    "start_time": "2023-12-20T23:34:58.904Z"
   },
   {
    "duration": 0,
    "start_time": "2023-12-20T23:34:58.904Z"
   },
   {
    "duration": 0,
    "start_time": "2023-12-20T23:34:58.905Z"
   },
   {
    "duration": 0,
    "start_time": "2023-12-20T23:34:58.906Z"
   },
   {
    "duration": 0,
    "start_time": "2023-12-20T23:34:58.907Z"
   },
   {
    "duration": 0,
    "start_time": "2023-12-20T23:34:58.908Z"
   },
   {
    "duration": 0,
    "start_time": "2023-12-20T23:34:58.909Z"
   },
   {
    "duration": 0,
    "start_time": "2023-12-20T23:34:58.910Z"
   },
   {
    "duration": 0,
    "start_time": "2023-12-20T23:34:58.911Z"
   },
   {
    "duration": 0,
    "start_time": "2023-12-20T23:34:58.912Z"
   },
   {
    "duration": 44,
    "start_time": "2023-12-20T23:41:52.083Z"
   },
   {
    "duration": 2,
    "start_time": "2023-12-20T23:41:55.755Z"
   },
   {
    "duration": 6,
    "start_time": "2023-12-20T23:41:56.098Z"
   },
   {
    "duration": 2,
    "start_time": "2023-12-20T23:41:56.277Z"
   },
   {
    "duration": 3,
    "start_time": "2023-12-20T23:41:56.333Z"
   },
   {
    "duration": 3,
    "start_time": "2023-12-20T23:41:56.423Z"
   },
   {
    "duration": 7,
    "start_time": "2023-12-20T23:41:56.580Z"
   },
   {
    "duration": 3,
    "start_time": "2023-12-20T23:41:56.665Z"
   },
   {
    "duration": 3,
    "start_time": "2023-12-20T23:41:56.801Z"
   },
   {
    "duration": 2843,
    "start_time": "2023-12-20T23:41:57.082Z"
   },
   {
    "duration": 298,
    "start_time": "2023-12-20T23:41:59.926Z"
   },
   {
    "duration": 26924,
    "start_time": "2023-12-20T23:42:00.226Z"
   },
   {
    "duration": 2,
    "start_time": "2023-12-20T23:42:27.151Z"
   },
   {
    "duration": 4,
    "start_time": "2023-12-20T23:42:27.155Z"
   },
   {
    "duration": 1784,
    "start_time": "2023-12-20T23:42:27.160Z"
   },
   {
    "duration": 25958,
    "start_time": "2023-12-20T23:42:28.945Z"
   },
   {
    "duration": 4,
    "start_time": "2023-12-20T23:42:54.905Z"
   },
   {
    "duration": 240,
    "start_time": "2023-12-20T23:42:54.910Z"
   },
   {
    "duration": 19422,
    "start_time": "2023-12-20T23:42:55.152Z"
   },
   {
    "duration": 16524,
    "start_time": "2023-12-20T23:43:14.575Z"
   },
   {
    "duration": 22,
    "start_time": "2023-12-20T23:43:31.100Z"
   },
   {
    "duration": 148118,
    "start_time": "2023-12-20T23:43:31.123Z"
   },
   {
    "duration": 213,
    "start_time": "2023-12-20T23:45:59.243Z"
   },
   {
    "duration": 17141,
    "start_time": "2023-12-20T23:45:59.457Z"
   },
   {
    "duration": 224,
    "start_time": "2023-12-20T23:46:16.600Z"
   },
   {
    "duration": 207,
    "start_time": "2023-12-20T23:46:16.825Z"
   },
   {
    "duration": 345,
    "start_time": "2023-12-20T23:46:17.033Z"
   },
   {
    "duration": 5,
    "start_time": "2023-12-20T23:46:17.380Z"
   },
   {
    "duration": 18,
    "start_time": "2023-12-21T00:01:00.417Z"
   },
   {
    "duration": 17,
    "start_time": "2023-12-21T00:01:17.472Z"
   },
   {
    "duration": 1196,
    "start_time": "2023-12-21T00:02:29.122Z"
   },
   {
    "duration": 21,
    "start_time": "2023-12-21T00:05:32.144Z"
   },
   {
    "duration": 17,
    "start_time": "2023-12-21T00:05:58.102Z"
   },
   {
    "duration": 16,
    "start_time": "2023-12-21T00:06:59.119Z"
   },
   {
    "duration": 9,
    "start_time": "2023-12-21T00:07:08.121Z"
   },
   {
    "duration": 19,
    "start_time": "2023-12-21T00:09:23.626Z"
   },
   {
    "duration": 17,
    "start_time": "2023-12-21T00:09:31.854Z"
   },
   {
    "duration": 20,
    "start_time": "2023-12-21T00:09:44.995Z"
   },
   {
    "duration": 16,
    "start_time": "2023-12-21T00:10:10.900Z"
   },
   {
    "duration": 25,
    "start_time": "2023-12-21T00:28:00.442Z"
   },
   {
    "duration": 3,
    "start_time": "2023-12-21T00:33:20.816Z"
   },
   {
    "duration": 2,
    "start_time": "2023-12-21T00:33:41.123Z"
   },
   {
    "duration": 5,
    "start_time": "2023-12-21T00:33:58.061Z"
   },
   {
    "duration": 25,
    "start_time": "2023-12-21T00:38:34.941Z"
   },
   {
    "duration": 20,
    "start_time": "2023-12-21T00:38:41.631Z"
   },
   {
    "duration": 14,
    "start_time": "2023-12-21T00:39:10.565Z"
   },
   {
    "duration": 6,
    "start_time": "2023-12-21T00:39:16.006Z"
   },
   {
    "duration": 24,
    "start_time": "2023-12-21T00:39:55.459Z"
   },
   {
    "duration": 11,
    "start_time": "2023-12-21T00:40:49.645Z"
   },
   {
    "duration": 20,
    "start_time": "2023-12-21T00:41:25.852Z"
   },
   {
    "duration": 10,
    "start_time": "2023-12-21T00:41:48.710Z"
   },
   {
    "duration": 4,
    "start_time": "2023-12-21T00:42:59.488Z"
   },
   {
    "duration": 3,
    "start_time": "2023-12-21T00:43:34.151Z"
   },
   {
    "duration": 3,
    "start_time": "2023-12-21T00:43:38.482Z"
   },
   {
    "duration": 6,
    "start_time": "2023-12-21T00:43:50.344Z"
   },
   {
    "duration": 3,
    "start_time": "2023-12-21T00:44:26.792Z"
   },
   {
    "duration": 4,
    "start_time": "2023-12-21T00:44:32.812Z"
   },
   {
    "duration": 2,
    "start_time": "2023-12-21T00:44:50.670Z"
   },
   {
    "duration": 24,
    "start_time": "2023-12-21T00:45:30.223Z"
   },
   {
    "duration": 21,
    "start_time": "2023-12-21T00:45:45.040Z"
   },
   {
    "duration": 23,
    "start_time": "2023-12-21T00:45:54.278Z"
   },
   {
    "duration": 4400,
    "start_time": "2023-12-21T00:47:07.064Z"
   },
   {
    "duration": 32,
    "start_time": "2023-12-21T00:47:27.796Z"
   },
   {
    "duration": 4445,
    "start_time": "2023-12-21T00:47:53.101Z"
   },
   {
    "duration": 34,
    "start_time": "2023-12-21T00:48:10.075Z"
   },
   {
    "duration": 18,
    "start_time": "2023-12-21T00:57:44.808Z"
   },
   {
    "duration": 21,
    "start_time": "2023-12-21T01:04:36.913Z"
   },
   {
    "duration": 20,
    "start_time": "2023-12-21T01:05:14.352Z"
   },
   {
    "duration": 20,
    "start_time": "2023-12-21T01:05:21.362Z"
   },
   {
    "duration": 3,
    "start_time": "2023-12-21T01:06:42.958Z"
   },
   {
    "duration": 5,
    "start_time": "2023-12-21T01:06:43.835Z"
   },
   {
    "duration": 19,
    "start_time": "2023-12-21T01:06:52.181Z"
   },
   {
    "duration": 4501,
    "start_time": "2023-12-21T01:07:20.012Z"
   },
   {
    "duration": 5100,
    "start_time": "2023-12-21T01:07:24.515Z"
   },
   {
    "duration": 3,
    "start_time": "2023-12-21T01:07:29.616Z"
   },
   {
    "duration": 105,
    "start_time": "2023-12-21T01:07:29.621Z"
   },
   {
    "duration": 5,
    "start_time": "2023-12-21T01:07:29.728Z"
   },
   {
    "duration": 28,
    "start_time": "2023-12-21T01:07:29.734Z"
   },
   {
    "duration": 35,
    "start_time": "2023-12-21T01:07:29.764Z"
   },
   {
    "duration": 12,
    "start_time": "2023-12-21T01:07:29.801Z"
   },
   {
    "duration": 16,
    "start_time": "2023-12-21T01:07:29.814Z"
   },
   {
    "duration": 9,
    "start_time": "2023-12-21T01:07:29.832Z"
   },
   {
    "duration": 6,
    "start_time": "2023-12-21T01:07:29.842Z"
   },
   {
    "duration": 66,
    "start_time": "2023-12-21T01:07:29.849Z"
   },
   {
    "duration": 13,
    "start_time": "2023-12-21T01:07:29.916Z"
   },
   {
    "duration": 9,
    "start_time": "2023-12-21T01:07:29.931Z"
   },
   {
    "duration": 2,
    "start_time": "2023-12-21T01:07:29.941Z"
   },
   {
    "duration": 8,
    "start_time": "2023-12-21T01:07:29.945Z"
   },
   {
    "duration": 5,
    "start_time": "2023-12-21T01:07:29.955Z"
   },
   {
    "duration": 3,
    "start_time": "2023-12-21T01:07:29.961Z"
   },
   {
    "duration": 16,
    "start_time": "2023-12-21T01:07:30.000Z"
   },
   {
    "duration": 25,
    "start_time": "2023-12-21T01:07:30.018Z"
   },
   {
    "duration": 45,
    "start_time": "2023-12-21T01:07:30.045Z"
   },
   {
    "duration": 47,
    "start_time": "2023-12-21T01:07:30.092Z"
   },
   {
    "duration": 4172,
    "start_time": "2023-12-21T01:07:30.141Z"
   },
   {
    "duration": 3,
    "start_time": "2023-12-21T01:07:34.314Z"
   },
   {
    "duration": 19,
    "start_time": "2023-12-21T01:07:34.318Z"
   },
   {
    "duration": 5,
    "start_time": "2023-12-21T01:07:34.338Z"
   },
   {
    "duration": 4,
    "start_time": "2023-12-21T01:07:34.344Z"
   },
   {
    "duration": 310,
    "start_time": "2023-12-21T01:07:34.351Z"
   },
   {
    "duration": 270,
    "start_time": "2023-12-21T01:07:34.662Z"
   },
   {
    "duration": 6,
    "start_time": "2023-12-21T01:07:34.934Z"
   },
   {
    "duration": 10,
    "start_time": "2023-12-21T01:07:34.941Z"
   },
   {
    "duration": 30,
    "start_time": "2023-12-21T01:07:34.952Z"
   },
   {
    "duration": 43,
    "start_time": "2023-12-21T01:07:34.984Z"
   },
   {
    "duration": 28,
    "start_time": "2023-12-21T01:07:35.029Z"
   },
   {
    "duration": 40,
    "start_time": "2023-12-21T01:07:35.059Z"
   },
   {
    "duration": 31,
    "start_time": "2023-12-21T01:07:35.100Z"
   },
   {
    "duration": 13,
    "start_time": "2023-12-21T01:07:35.133Z"
   },
   {
    "duration": 33,
    "start_time": "2023-12-21T01:07:35.148Z"
   },
   {
    "duration": 23,
    "start_time": "2023-12-21T01:07:35.182Z"
   },
   {
    "duration": 22,
    "start_time": "2023-12-21T01:07:35.207Z"
   },
   {
    "duration": 29,
    "start_time": "2023-12-21T01:07:35.230Z"
   },
   {
    "duration": 3,
    "start_time": "2023-12-21T01:07:40.311Z"
   },
   {
    "duration": 1957,
    "start_time": "2023-12-21T01:07:40.397Z"
   },
   {
    "duration": 295,
    "start_time": "2023-12-21T01:07:42.355Z"
   },
   {
    "duration": 314,
    "start_time": "2023-12-21T01:07:42.651Z"
   },
   {
    "duration": 8,
    "start_time": "2023-12-21T01:07:42.967Z"
   },
   {
    "duration": 38,
    "start_time": "2023-12-21T01:07:44.090Z"
   },
   {
    "duration": 5,
    "start_time": "2023-12-21T01:07:44.578Z"
   },
   {
    "duration": 2,
    "start_time": "2023-12-21T01:07:44.846Z"
   },
   {
    "duration": 4314,
    "start_time": "2023-12-21T01:07:45.351Z"
   },
   {
    "duration": 8,
    "start_time": "2023-12-21T01:07:49.667Z"
   },
   {
    "duration": 1527,
    "start_time": "2023-12-21T01:07:49.676Z"
   },
   {
    "duration": 5,
    "start_time": "2023-12-21T01:07:52.730Z"
   },
   {
    "duration": 10,
    "start_time": "2023-12-21T01:07:53.000Z"
   },
   {
    "duration": 310,
    "start_time": "2023-12-21T01:07:55.112Z"
   },
   {
    "duration": 313,
    "start_time": "2023-12-21T01:07:55.424Z"
   },
   {
    "duration": 4,
    "start_time": "2023-12-21T01:07:55.739Z"
   },
   {
    "duration": 4,
    "start_time": "2023-12-21T01:07:57.179Z"
   },
   {
    "duration": 2,
    "start_time": "2023-12-21T01:08:02.279Z"
   },
   {
    "duration": 4,
    "start_time": "2023-12-21T01:08:03.348Z"
   },
   {
    "duration": 2,
    "start_time": "2023-12-21T01:08:03.702Z"
   },
   {
    "duration": 2,
    "start_time": "2023-12-21T01:08:04.226Z"
   },
   {
    "duration": 2,
    "start_time": "2023-12-21T01:08:04.464Z"
   },
   {
    "duration": 2,
    "start_time": "2023-12-21T01:08:08.289Z"
   },
   {
    "duration": 18,
    "start_time": "2023-12-21T01:08:09.649Z"
   },
   {
    "duration": 9,
    "start_time": "2023-12-21T01:08:10.387Z"
   },
   {
    "duration": 16,
    "start_time": "2023-12-21T01:08:10.689Z"
   },
   {
    "duration": 3,
    "start_time": "2023-12-21T01:08:11.317Z"
   },
   {
    "duration": 4,
    "start_time": "2023-12-21T01:08:11.758Z"
   },
   {
    "duration": 14,
    "start_time": "2023-12-21T01:08:22.664Z"
   },
   {
    "duration": 299,
    "start_time": "2023-12-21T01:08:27.493Z"
   },
   {
    "duration": 20,
    "start_time": "2023-12-21T01:08:44.675Z"
   },
   {
    "duration": 8,
    "start_time": "2023-12-21T01:09:10.840Z"
   },
   {
    "duration": 2,
    "start_time": "2023-12-21T01:09:16.271Z"
   },
   {
    "duration": 2,
    "start_time": "2023-12-21T01:09:17.508Z"
   },
   {
    "duration": 2,
    "start_time": "2023-12-21T01:09:18.892Z"
   },
   {
    "duration": 3,
    "start_time": "2023-12-21T01:09:19.394Z"
   },
   {
    "duration": 4,
    "start_time": "2023-12-21T01:09:19.485Z"
   },
   {
    "duration": 6,
    "start_time": "2023-12-21T01:09:19.634Z"
   },
   {
    "duration": 2,
    "start_time": "2023-12-21T01:09:19.725Z"
   },
   {
    "duration": 2,
    "start_time": "2023-12-21T01:09:19.801Z"
   },
   {
    "duration": 53,
    "start_time": "2023-12-21T01:09:20.249Z"
   },
   {
    "duration": 55,
    "start_time": "2023-12-21T01:09:31.259Z"
   },
   {
    "duration": 70,
    "start_time": "2023-12-21T01:09:37.207Z"
   },
   {
    "duration": 21,
    "start_time": "2023-12-21T01:10:43.868Z"
   },
   {
    "duration": 27,
    "start_time": "2023-12-21T01:11:44.955Z"
   },
   {
    "duration": 3,
    "start_time": "2023-12-21T01:11:46.780Z"
   },
   {
    "duration": 6,
    "start_time": "2023-12-21T01:11:47.830Z"
   },
   {
    "duration": 2,
    "start_time": "2023-12-21T01:11:50.198Z"
   },
   {
    "duration": 3,
    "start_time": "2023-12-21T01:11:50.375Z"
   },
   {
    "duration": 3,
    "start_time": "2023-12-21T01:11:50.808Z"
   },
   {
    "duration": 5,
    "start_time": "2023-12-21T01:11:51.771Z"
   },
   {
    "duration": 3,
    "start_time": "2023-12-21T01:11:52.097Z"
   },
   {
    "duration": 4,
    "start_time": "2023-12-21T01:11:52.820Z"
   },
   {
    "duration": 1259,
    "start_time": "2023-12-21T01:11:54.393Z"
   },
   {
    "duration": 79,
    "start_time": "2023-12-21T01:11:59.754Z"
   },
   {
    "duration": 6185,
    "start_time": "2023-12-21T01:12:03.589Z"
   },
   {
    "duration": 3,
    "start_time": "2023-12-21T01:12:17.713Z"
   },
   {
    "duration": 2,
    "start_time": "2023-12-21T01:12:19.705Z"
   },
   {
    "duration": 23,
    "start_time": "2023-12-21T01:12:24.030Z"
   },
   {
    "duration": 3,
    "start_time": "2023-12-21T01:12:51.871Z"
   },
   {
    "duration": 11920,
    "start_time": "2023-12-21T01:12:52.895Z"
   },
   {
    "duration": 4,
    "start_time": "2023-12-21T01:13:07.302Z"
   },
   {
    "duration": 189,
    "start_time": "2023-12-21T01:13:12.710Z"
   },
   {
    "duration": 12880,
    "start_time": "2023-12-21T01:13:17.389Z"
   },
   {
    "duration": 2864,
    "start_time": "2023-12-21T01:13:55.397Z"
   },
   {
    "duration": 14,
    "start_time": "2023-12-21T01:13:58.263Z"
   },
   {
    "duration": 20850,
    "start_time": "2023-12-21T01:13:58.278Z"
   },
   {
    "duration": 3188,
    "start_time": "2023-12-21T01:14:19.130Z"
   },
   {
    "duration": 8385,
    "start_time": "2023-12-21T01:15:12.079Z"
   },
   {
    "duration": 5662,
    "start_time": "2023-12-21T01:15:20.467Z"
   },
   {
    "duration": 3,
    "start_time": "2023-12-21T01:15:26.130Z"
   },
   {
    "duration": 90,
    "start_time": "2023-12-21T01:15:26.135Z"
   },
   {
    "duration": 4,
    "start_time": "2023-12-21T01:15:26.227Z"
   },
   {
    "duration": 22,
    "start_time": "2023-12-21T01:15:26.233Z"
   },
   {
    "duration": 25,
    "start_time": "2023-12-21T01:15:26.256Z"
   },
   {
    "duration": 26,
    "start_time": "2023-12-21T01:15:26.283Z"
   },
   {
    "duration": 17,
    "start_time": "2023-12-21T01:15:26.310Z"
   },
   {
    "duration": 8,
    "start_time": "2023-12-21T01:15:26.329Z"
   },
   {
    "duration": 3,
    "start_time": "2023-12-21T01:15:26.338Z"
   },
   {
    "duration": 68,
    "start_time": "2023-12-21T01:15:26.342Z"
   },
   {
    "duration": 10,
    "start_time": "2023-12-21T01:15:26.412Z"
   },
   {
    "duration": 7,
    "start_time": "2023-12-21T01:15:26.424Z"
   },
   {
    "duration": 3,
    "start_time": "2023-12-21T01:15:26.432Z"
   },
   {
    "duration": 5,
    "start_time": "2023-12-21T01:15:26.436Z"
   },
   {
    "duration": 4,
    "start_time": "2023-12-21T01:15:26.442Z"
   },
   {
    "duration": 3,
    "start_time": "2023-12-21T01:15:26.447Z"
   },
   {
    "duration": 53,
    "start_time": "2023-12-21T01:15:26.451Z"
   },
   {
    "duration": 2,
    "start_time": "2023-12-21T01:15:26.505Z"
   },
   {
    "duration": 13,
    "start_time": "2023-12-21T01:15:26.509Z"
   },
   {
    "duration": 2,
    "start_time": "2023-12-21T01:15:26.524Z"
   },
   {
    "duration": 4152,
    "start_time": "2023-12-21T01:15:26.527Z"
   },
   {
    "duration": 3,
    "start_time": "2023-12-21T01:15:30.680Z"
   },
   {
    "duration": 36,
    "start_time": "2023-12-21T01:15:30.685Z"
   },
   {
    "duration": 28,
    "start_time": "2023-12-21T01:15:30.723Z"
   },
   {
    "duration": 35,
    "start_time": "2023-12-21T01:15:30.753Z"
   },
   {
    "duration": 299,
    "start_time": "2023-12-21T01:15:30.792Z"
   },
   {
    "duration": 283,
    "start_time": "2023-12-21T01:15:31.092Z"
   },
   {
    "duration": 6,
    "start_time": "2023-12-21T01:15:31.377Z"
   },
   {
    "duration": 20,
    "start_time": "2023-12-21T01:15:31.385Z"
   },
   {
    "duration": 40,
    "start_time": "2023-12-21T01:15:31.406Z"
   },
   {
    "duration": 51,
    "start_time": "2023-12-21T01:15:31.448Z"
   },
   {
    "duration": 16,
    "start_time": "2023-12-21T01:15:31.500Z"
   },
   {
    "duration": 39,
    "start_time": "2023-12-21T01:15:31.518Z"
   },
   {
    "duration": 52,
    "start_time": "2023-12-21T01:15:31.560Z"
   },
   {
    "duration": 4,
    "start_time": "2023-12-21T01:15:31.614Z"
   },
   {
    "duration": 23,
    "start_time": "2023-12-21T01:15:31.619Z"
   },
   {
    "duration": 12,
    "start_time": "2023-12-21T01:15:31.643Z"
   },
   {
    "duration": 43,
    "start_time": "2023-12-21T01:15:31.657Z"
   },
   {
    "duration": 20,
    "start_time": "2023-12-21T01:15:31.702Z"
   },
   {
    "duration": 29,
    "start_time": "2023-12-21T01:15:31.724Z"
   },
   {
    "duration": 1918,
    "start_time": "2023-12-21T01:15:31.755Z"
   },
   {
    "duration": 307,
    "start_time": "2023-12-21T01:15:33.674Z"
   },
   {
    "duration": 311,
    "start_time": "2023-12-21T01:15:33.982Z"
   },
   {
    "duration": 8,
    "start_time": "2023-12-21T01:15:34.298Z"
   },
   {
    "duration": 255,
    "start_time": "2023-12-21T01:15:34.307Z"
   },
   {
    "duration": 3,
    "start_time": "2023-12-21T01:15:34.564Z"
   },
   {
    "duration": 4,
    "start_time": "2023-12-21T01:15:34.569Z"
   },
   {
    "duration": 4042,
    "start_time": "2023-12-21T01:15:34.574Z"
   },
   {
    "duration": 10,
    "start_time": "2023-12-21T01:15:38.617Z"
   },
   {
    "duration": 1439,
    "start_time": "2023-12-21T01:15:38.629Z"
   },
   {
    "duration": 5,
    "start_time": "2023-12-21T01:15:40.069Z"
   },
   {
    "duration": 24,
    "start_time": "2023-12-21T01:15:40.075Z"
   },
   {
    "duration": 287,
    "start_time": "2023-12-21T01:15:40.100Z"
   },
   {
    "duration": 296,
    "start_time": "2023-12-21T01:15:40.389Z"
   },
   {
    "duration": 5,
    "start_time": "2023-12-21T01:15:40.686Z"
   },
   {
    "duration": 4,
    "start_time": "2023-12-21T01:15:40.698Z"
   },
   {
    "duration": 6,
    "start_time": "2023-12-21T01:15:40.703Z"
   },
   {
    "duration": 4,
    "start_time": "2023-12-21T01:15:40.711Z"
   },
   {
    "duration": 3,
    "start_time": "2023-12-21T01:15:40.716Z"
   },
   {
    "duration": 4,
    "start_time": "2023-12-21T01:15:40.720Z"
   },
   {
    "duration": 5,
    "start_time": "2023-12-21T01:15:40.725Z"
   },
   {
    "duration": 20,
    "start_time": "2023-12-21T01:15:40.731Z"
   },
   {
    "duration": 8,
    "start_time": "2023-12-21T01:15:40.752Z"
   },
   {
    "duration": 48,
    "start_time": "2023-12-21T01:15:40.762Z"
   },
   {
    "duration": 2,
    "start_time": "2023-12-21T01:15:40.812Z"
   },
   {
    "duration": 7,
    "start_time": "2023-12-21T01:15:40.816Z"
   },
   {
    "duration": 4,
    "start_time": "2023-12-21T01:15:40.824Z"
   },
   {
    "duration": 79,
    "start_time": "2023-12-21T01:15:40.830Z"
   },
   {
    "duration": 3,
    "start_time": "2023-12-21T01:15:40.910Z"
   },
   {
    "duration": 43,
    "start_time": "2023-12-21T01:15:40.914Z"
   },
   {
    "duration": 3,
    "start_time": "2023-12-21T01:15:40.959Z"
   },
   {
    "duration": 5,
    "start_time": "2023-12-21T01:15:40.964Z"
   },
   {
    "duration": 4,
    "start_time": "2023-12-21T01:15:40.970Z"
   },
   {
    "duration": 5,
    "start_time": "2023-12-21T01:15:40.975Z"
   },
   {
    "duration": 5,
    "start_time": "2023-12-21T01:15:40.981Z"
   },
   {
    "duration": 4,
    "start_time": "2023-12-21T01:15:40.988Z"
   },
   {
    "duration": 2814,
    "start_time": "2023-12-21T01:15:40.993Z"
   },
   {
    "duration": 282,
    "start_time": "2023-12-21T01:15:43.808Z"
   },
   {
    "duration": 26729,
    "start_time": "2023-12-21T01:15:44.098Z"
   },
   {
    "duration": 3,
    "start_time": "2023-12-21T01:16:10.831Z"
   },
   {
    "duration": 3,
    "start_time": "2023-12-21T01:16:10.835Z"
   },
   {
    "duration": 3,
    "start_time": "2023-12-21T01:16:10.839Z"
   },
   {
    "duration": 26057,
    "start_time": "2023-12-21T01:16:10.843Z"
   },
   {
    "duration": 4,
    "start_time": "2023-12-21T01:16:36.901Z"
   },
   {
    "duration": 240,
    "start_time": "2023-12-21T01:16:36.906Z"
   },
   {
    "duration": 19331,
    "start_time": "2023-12-21T01:16:37.147Z"
   },
   {
    "duration": 16771,
    "start_time": "2023-12-21T01:16:56.479Z"
   },
   {
    "duration": 21,
    "start_time": "2023-12-21T01:17:13.251Z"
   },
   {
    "duration": 146860,
    "start_time": "2023-12-21T01:17:13.274Z"
   },
   {
    "duration": 229,
    "start_time": "2023-12-21T01:19:40.135Z"
   },
   {
    "duration": 17060,
    "start_time": "2023-12-21T01:19:40.365Z"
   },
   {
    "duration": 213,
    "start_time": "2023-12-21T01:19:57.426Z"
   },
   {
    "duration": 210,
    "start_time": "2023-12-21T01:19:57.641Z"
   },
   {
    "duration": 341,
    "start_time": "2023-12-21T01:19:57.852Z"
   },
   {
    "duration": 8,
    "start_time": "2023-12-21T01:19:58.194Z"
   },
   {
    "duration": 40,
    "start_time": "2023-12-21T01:22:22.795Z"
   },
   {
    "duration": 2,
    "start_time": "2023-12-21T01:22:28.355Z"
   },
   {
    "duration": 5,
    "start_time": "2023-12-21T01:22:28.793Z"
   },
   {
    "duration": 2,
    "start_time": "2023-12-21T01:22:28.867Z"
   },
   {
    "duration": 2,
    "start_time": "2023-12-21T01:22:28.944Z"
   },
   {
    "duration": 4,
    "start_time": "2023-12-21T01:22:29.023Z"
   },
   {
    "duration": 5,
    "start_time": "2023-12-21T01:22:29.193Z"
   },
   {
    "duration": 3,
    "start_time": "2023-12-21T01:22:29.317Z"
   },
   {
    "duration": 3,
    "start_time": "2023-12-21T01:22:29.361Z"
   },
   {
    "duration": 320,
    "start_time": "2023-12-21T01:22:29.696Z"
   },
   {
    "duration": 50,
    "start_time": "2023-12-21T01:22:30.018Z"
   },
   {
    "duration": 3574,
    "start_time": "2023-12-21T01:22:30.201Z"
   },
   {
    "duration": 2,
    "start_time": "2023-12-21T01:22:33.777Z"
   },
   {
    "duration": 8,
    "start_time": "2023-12-21T01:22:33.780Z"
   },
   {
    "duration": 15,
    "start_time": "2023-12-21T01:22:33.789Z"
   },
   {
    "duration": 1701,
    "start_time": "2023-12-21T01:22:33.805Z"
   },
   {
    "duration": 4,
    "start_time": "2023-12-21T01:22:35.507Z"
   },
   {
    "duration": 287,
    "start_time": "2023-12-21T01:22:35.512Z"
   },
   {
    "duration": 15589,
    "start_time": "2023-12-21T01:22:35.800Z"
   },
   {
    "duration": 1608,
    "start_time": "2023-12-21T01:22:51.391Z"
   },
   {
    "duration": 14,
    "start_time": "2023-12-21T01:22:53.002Z"
   },
   {
    "duration": 512,
    "start_time": "2023-12-21T01:22:53.018Z"
   },
   {
    "duration": 216,
    "start_time": "2023-12-21T01:22:53.531Z"
   },
   {
    "duration": 1993,
    "start_time": "2023-12-21T01:22:53.748Z"
   },
   {
    "duration": 8225,
    "start_time": "2023-12-21T01:23:39.799Z"
   },
   {
    "duration": 5179,
    "start_time": "2023-12-21T01:23:48.026Z"
   },
   {
    "duration": 3,
    "start_time": "2023-12-21T01:23:53.206Z"
   },
   {
    "duration": 99,
    "start_time": "2023-12-21T01:23:53.212Z"
   },
   {
    "duration": 4,
    "start_time": "2023-12-21T01:23:53.313Z"
   },
   {
    "duration": 24,
    "start_time": "2023-12-21T01:23:53.319Z"
   },
   {
    "duration": 26,
    "start_time": "2023-12-21T01:23:53.344Z"
   },
   {
    "duration": 30,
    "start_time": "2023-12-21T01:23:53.372Z"
   },
   {
    "duration": 19,
    "start_time": "2023-12-21T01:23:53.403Z"
   },
   {
    "duration": 9,
    "start_time": "2023-12-21T01:23:53.425Z"
   },
   {
    "duration": 4,
    "start_time": "2023-12-21T01:23:53.435Z"
   },
   {
    "duration": 70,
    "start_time": "2023-12-21T01:23:53.441Z"
   },
   {
    "duration": 12,
    "start_time": "2023-12-21T01:23:53.513Z"
   },
   {
    "duration": 11,
    "start_time": "2023-12-21T01:23:53.527Z"
   },
   {
    "duration": 9,
    "start_time": "2023-12-21T01:23:53.539Z"
   },
   {
    "duration": 20,
    "start_time": "2023-12-21T01:23:53.549Z"
   },
   {
    "duration": 5,
    "start_time": "2023-12-21T01:23:53.570Z"
   },
   {
    "duration": 4,
    "start_time": "2023-12-21T01:23:53.576Z"
   },
   {
    "duration": 28,
    "start_time": "2023-12-21T01:23:53.581Z"
   },
   {
    "duration": 3,
    "start_time": "2023-12-21T01:23:53.610Z"
   },
   {
    "duration": 14,
    "start_time": "2023-12-21T01:23:53.614Z"
   },
   {
    "duration": 2,
    "start_time": "2023-12-21T01:23:53.629Z"
   },
   {
    "duration": 4141,
    "start_time": "2023-12-21T01:23:53.633Z"
   },
   {
    "duration": 3,
    "start_time": "2023-12-21T01:23:57.775Z"
   },
   {
    "duration": 33,
    "start_time": "2023-12-21T01:23:57.779Z"
   },
   {
    "duration": 32,
    "start_time": "2023-12-21T01:23:57.813Z"
   },
   {
    "duration": 10,
    "start_time": "2023-12-21T01:23:57.846Z"
   },
   {
    "duration": 292,
    "start_time": "2023-12-21T01:23:57.860Z"
   },
   {
    "duration": 286,
    "start_time": "2023-12-21T01:23:58.153Z"
   },
   {
    "duration": 7,
    "start_time": "2023-12-21T01:23:58.440Z"
   },
   {
    "duration": 24,
    "start_time": "2023-12-21T01:23:58.448Z"
   },
   {
    "duration": 40,
    "start_time": "2023-12-21T01:23:58.474Z"
   },
   {
    "duration": 33,
    "start_time": "2023-12-21T01:23:58.515Z"
   },
   {
    "duration": 22,
    "start_time": "2023-12-21T01:23:58.550Z"
   },
   {
    "duration": 48,
    "start_time": "2023-12-21T01:23:58.573Z"
   },
   {
    "duration": 36,
    "start_time": "2023-12-21T01:23:58.623Z"
   },
   {
    "duration": 4,
    "start_time": "2023-12-21T01:23:58.661Z"
   },
   {
    "duration": 38,
    "start_time": "2023-12-21T01:23:58.667Z"
   },
   {
    "duration": 25,
    "start_time": "2023-12-21T01:23:58.707Z"
   },
   {
    "duration": 40,
    "start_time": "2023-12-21T01:23:58.733Z"
   },
   {
    "duration": 48,
    "start_time": "2023-12-21T01:23:58.775Z"
   },
   {
    "duration": 11,
    "start_time": "2023-12-21T01:23:58.824Z"
   },
   {
    "duration": 2007,
    "start_time": "2023-12-21T01:23:58.836Z"
   },
   {
    "duration": 302,
    "start_time": "2023-12-21T01:24:00.845Z"
   },
   {
    "duration": 311,
    "start_time": "2023-12-21T01:24:01.149Z"
   },
   {
    "duration": 9,
    "start_time": "2023-12-21T01:24:01.462Z"
   },
   {
    "duration": 282,
    "start_time": "2023-12-21T01:24:01.473Z"
   },
   {
    "duration": 5,
    "start_time": "2023-12-21T01:24:01.756Z"
   },
   {
    "duration": 30,
    "start_time": "2023-12-21T01:24:01.762Z"
   },
   {
    "duration": 4154,
    "start_time": "2023-12-21T01:24:01.793Z"
   },
   {
    "duration": 8,
    "start_time": "2023-12-21T01:24:05.948Z"
   },
   {
    "duration": 1550,
    "start_time": "2023-12-21T01:24:05.957Z"
   },
   {
    "duration": 6,
    "start_time": "2023-12-21T01:24:07.509Z"
   },
   {
    "duration": 13,
    "start_time": "2023-12-21T01:24:07.516Z"
   },
   {
    "duration": 317,
    "start_time": "2023-12-21T01:24:07.530Z"
   },
   {
    "duration": 301,
    "start_time": "2023-12-21T01:24:07.849Z"
   },
   {
    "duration": 5,
    "start_time": "2023-12-21T01:24:08.151Z"
   },
   {
    "duration": 7,
    "start_time": "2023-12-21T01:24:08.157Z"
   },
   {
    "duration": 5,
    "start_time": "2023-12-21T01:24:08.165Z"
   },
   {
    "duration": 5,
    "start_time": "2023-12-21T01:24:08.171Z"
   },
   {
    "duration": 4,
    "start_time": "2023-12-21T01:24:08.177Z"
   },
   {
    "duration": 18,
    "start_time": "2023-12-21T01:24:08.182Z"
   },
   {
    "duration": 6,
    "start_time": "2023-12-21T01:24:08.201Z"
   },
   {
    "duration": 49,
    "start_time": "2023-12-21T01:24:08.208Z"
   },
   {
    "duration": 36,
    "start_time": "2023-12-21T01:24:08.258Z"
   },
   {
    "duration": 27,
    "start_time": "2023-12-21T01:24:08.295Z"
   },
   {
    "duration": 21,
    "start_time": "2023-12-21T01:24:08.323Z"
   },
   {
    "duration": 14,
    "start_time": "2023-12-21T01:24:08.346Z"
   },
   {
    "duration": 54,
    "start_time": "2023-12-21T01:24:08.361Z"
   },
   {
    "duration": 346,
    "start_time": "2023-12-21T01:24:08.416Z"
   },
   {
    "duration": 0,
    "start_time": "2023-12-21T01:24:08.764Z"
   },
   {
    "duration": 0,
    "start_time": "2023-12-21T01:24:08.765Z"
   },
   {
    "duration": 0,
    "start_time": "2023-12-21T01:24:08.767Z"
   },
   {
    "duration": 0,
    "start_time": "2023-12-21T01:24:08.768Z"
   },
   {
    "duration": 0,
    "start_time": "2023-12-21T01:24:08.769Z"
   },
   {
    "duration": 0,
    "start_time": "2023-12-21T01:24:08.770Z"
   },
   {
    "duration": 0,
    "start_time": "2023-12-21T01:24:08.771Z"
   },
   {
    "duration": 0,
    "start_time": "2023-12-21T01:24:08.772Z"
   },
   {
    "duration": 0,
    "start_time": "2023-12-21T01:24:08.773Z"
   },
   {
    "duration": 0,
    "start_time": "2023-12-21T01:24:08.774Z"
   },
   {
    "duration": 0,
    "start_time": "2023-12-21T01:24:08.774Z"
   },
   {
    "duration": 0,
    "start_time": "2023-12-21T01:24:08.775Z"
   },
   {
    "duration": 0,
    "start_time": "2023-12-21T01:24:08.799Z"
   },
   {
    "duration": 0,
    "start_time": "2023-12-21T01:24:08.800Z"
   },
   {
    "duration": 0,
    "start_time": "2023-12-21T01:24:08.801Z"
   },
   {
    "duration": 0,
    "start_time": "2023-12-21T01:24:08.802Z"
   },
   {
    "duration": 0,
    "start_time": "2023-12-21T01:24:08.803Z"
   },
   {
    "duration": 0,
    "start_time": "2023-12-21T01:24:08.804Z"
   },
   {
    "duration": 0,
    "start_time": "2023-12-21T01:24:08.805Z"
   },
   {
    "duration": 0,
    "start_time": "2023-12-21T01:24:08.805Z"
   },
   {
    "duration": 0,
    "start_time": "2023-12-21T01:24:08.806Z"
   },
   {
    "duration": 0,
    "start_time": "2023-12-21T01:24:08.807Z"
   },
   {
    "duration": 0,
    "start_time": "2023-12-21T01:24:08.808Z"
   },
   {
    "duration": 0,
    "start_time": "2023-12-21T01:24:08.809Z"
   },
   {
    "duration": 0,
    "start_time": "2023-12-21T01:24:08.810Z"
   },
   {
    "duration": 0,
    "start_time": "2023-12-21T01:24:08.811Z"
   },
   {
    "duration": 0,
    "start_time": "2023-12-21T01:24:08.812Z"
   },
   {
    "duration": 16,
    "start_time": "2023-12-21T01:26:44.158Z"
   },
   {
    "duration": 101,
    "start_time": "2023-12-21T01:27:05.839Z"
   },
   {
    "duration": 15,
    "start_time": "2023-12-21T01:27:09.291Z"
   },
   {
    "duration": 8,
    "start_time": "2023-12-21T01:27:31.180Z"
   },
   {
    "duration": 8,
    "start_time": "2023-12-21T01:27:38.688Z"
   },
   {
    "duration": 17,
    "start_time": "2023-12-21T01:28:48.907Z"
   },
   {
    "duration": 10,
    "start_time": "2023-12-21T01:29:03.588Z"
   },
   {
    "duration": 16,
    "start_time": "2023-12-21T01:29:29.530Z"
   },
   {
    "duration": 42,
    "start_time": "2023-12-21T01:30:08.757Z"
   },
   {
    "duration": 2,
    "start_time": "2023-12-21T01:30:13.530Z"
   },
   {
    "duration": 5,
    "start_time": "2023-12-21T01:30:13.861Z"
   },
   {
    "duration": 2,
    "start_time": "2023-12-21T01:30:14.028Z"
   },
   {
    "duration": 2,
    "start_time": "2023-12-21T01:30:14.122Z"
   },
   {
    "duration": 3,
    "start_time": "2023-12-21T01:30:14.196Z"
   },
   {
    "duration": 7,
    "start_time": "2023-12-21T01:30:14.368Z"
   },
   {
    "duration": 2,
    "start_time": "2023-12-21T01:30:14.447Z"
   },
   {
    "duration": 3,
    "start_time": "2023-12-21T01:30:14.531Z"
   },
   {
    "duration": 2810,
    "start_time": "2023-12-21T01:30:14.893Z"
   },
   {
    "duration": 289,
    "start_time": "2023-12-21T01:30:17.705Z"
   },
   {
    "duration": 26565,
    "start_time": "2023-12-21T01:30:17.995Z"
   },
   {
    "duration": 2,
    "start_time": "2023-12-21T01:30:44.561Z"
   },
   {
    "duration": 5,
    "start_time": "2023-12-21T01:30:44.565Z"
   },
   {
    "duration": 4,
    "start_time": "2023-12-21T01:30:44.571Z"
   },
   {
    "duration": 26211,
    "start_time": "2023-12-21T01:30:44.577Z"
   },
   {
    "duration": 9,
    "start_time": "2023-12-21T01:31:10.790Z"
   },
   {
    "duration": 241,
    "start_time": "2023-12-21T01:31:10.800Z"
   },
   {
    "duration": 19479,
    "start_time": "2023-12-21T01:31:11.043Z"
   },
   {
    "duration": 16549,
    "start_time": "2023-12-21T01:31:30.523Z"
   },
   {
    "duration": 33,
    "start_time": "2023-12-21T01:31:47.074Z"
   },
   {
    "duration": 148874,
    "start_time": "2023-12-21T01:31:47.108Z"
   },
   {
    "duration": 229,
    "start_time": "2023-12-21T01:34:15.983Z"
   },
   {
    "duration": 16786,
    "start_time": "2023-12-21T01:34:16.214Z"
   },
   {
    "duration": 216,
    "start_time": "2023-12-21T01:34:33.002Z"
   },
   {
    "duration": 221,
    "start_time": "2023-12-21T01:34:33.219Z"
   },
   {
    "duration": 942,
    "start_time": "2023-12-21T01:36:20.329Z"
   },
   {
    "duration": 29,
    "start_time": "2023-12-21T01:37:09.412Z"
   },
   {
    "duration": 41,
    "start_time": "2023-12-21T01:38:04.740Z"
   },
   {
    "duration": 53,
    "start_time": "2023-12-21T01:39:29.890Z"
   },
   {
    "duration": 10881,
    "start_time": "2023-12-21T11:10:05.549Z"
   },
   {
    "duration": 4971,
    "start_time": "2023-12-21T11:20:55.252Z"
   },
   {
    "duration": 8645,
    "start_time": "2023-12-21T11:21:00.226Z"
   },
   {
    "duration": 4,
    "start_time": "2023-12-21T11:21:08.873Z"
   },
   {
    "duration": 350,
    "start_time": "2023-12-21T11:21:08.879Z"
   },
   {
    "duration": 6,
    "start_time": "2023-12-21T11:21:09.231Z"
   },
   {
    "duration": 79,
    "start_time": "2023-12-21T11:21:09.238Z"
   },
   {
    "duration": 58,
    "start_time": "2023-12-21T11:21:09.319Z"
   },
   {
    "duration": 14,
    "start_time": "2023-12-21T11:21:09.379Z"
   },
   {
    "duration": 67,
    "start_time": "2023-12-21T11:21:09.395Z"
   },
   {
    "duration": 9,
    "start_time": "2023-12-21T11:21:09.466Z"
   },
   {
    "duration": 43,
    "start_time": "2023-12-21T11:21:09.477Z"
   },
   {
    "duration": 70,
    "start_time": "2023-12-21T11:21:09.521Z"
   },
   {
    "duration": 12,
    "start_time": "2023-12-21T11:21:09.592Z"
   },
   {
    "duration": 59,
    "start_time": "2023-12-21T11:21:09.606Z"
   },
   {
    "duration": 18,
    "start_time": "2023-12-21T11:21:09.666Z"
   },
   {
    "duration": 32,
    "start_time": "2023-12-21T11:21:09.685Z"
   },
   {
    "duration": 47,
    "start_time": "2023-12-21T11:21:09.719Z"
   },
   {
    "duration": 61,
    "start_time": "2023-12-21T11:21:09.768Z"
   },
   {
    "duration": 39,
    "start_time": "2023-12-21T11:21:09.831Z"
   },
   {
    "duration": 70,
    "start_time": "2023-12-21T11:21:09.872Z"
   },
   {
    "duration": 42,
    "start_time": "2023-12-21T11:21:09.943Z"
   },
   {
    "duration": 30,
    "start_time": "2023-12-21T11:21:09.987Z"
   },
   {
    "duration": 4348,
    "start_time": "2023-12-21T11:21:10.018Z"
   },
   {
    "duration": 3,
    "start_time": "2023-12-21T11:21:14.367Z"
   },
   {
    "duration": 62,
    "start_time": "2023-12-21T11:21:14.372Z"
   },
   {
    "duration": 38,
    "start_time": "2023-12-21T11:21:14.435Z"
   },
   {
    "duration": 23,
    "start_time": "2023-12-21T11:21:14.475Z"
   },
   {
    "duration": 330,
    "start_time": "2023-12-21T11:21:14.502Z"
   },
   {
    "duration": 324,
    "start_time": "2023-12-21T11:21:14.833Z"
   },
   {
    "duration": 11,
    "start_time": "2023-12-21T11:21:15.159Z"
   },
   {
    "duration": 56,
    "start_time": "2023-12-21T11:21:15.172Z"
   },
   {
    "duration": 59,
    "start_time": "2023-12-21T11:21:15.230Z"
   },
   {
    "duration": 63,
    "start_time": "2023-12-21T11:21:15.291Z"
   },
   {
    "duration": 23,
    "start_time": "2023-12-21T11:21:15.355Z"
   },
   {
    "duration": 49,
    "start_time": "2023-12-21T11:21:15.380Z"
   },
   {
    "duration": 44,
    "start_time": "2023-12-21T11:21:15.431Z"
   },
   {
    "duration": 4,
    "start_time": "2023-12-21T11:21:15.477Z"
   },
   {
    "duration": 43,
    "start_time": "2023-12-21T11:21:15.482Z"
   },
   {
    "duration": 18,
    "start_time": "2023-12-21T11:21:15.528Z"
   },
   {
    "duration": 32,
    "start_time": "2023-12-21T11:21:15.548Z"
   },
   {
    "duration": 43,
    "start_time": "2023-12-21T11:21:15.582Z"
   },
   {
    "duration": 21,
    "start_time": "2023-12-21T11:21:15.628Z"
   },
   {
    "duration": 2283,
    "start_time": "2023-12-21T11:21:15.651Z"
   },
   {
    "duration": 340,
    "start_time": "2023-12-21T11:21:17.936Z"
   },
   {
    "duration": 365,
    "start_time": "2023-12-21T11:21:18.279Z"
   },
   {
    "duration": 11,
    "start_time": "2023-12-21T11:21:18.645Z"
   },
   {
    "duration": 284,
    "start_time": "2023-12-21T11:21:18.666Z"
   },
   {
    "duration": 13,
    "start_time": "2023-12-21T11:21:18.951Z"
   },
   {
    "duration": 27,
    "start_time": "2023-12-21T11:21:18.965Z"
   },
   {
    "duration": 4901,
    "start_time": "2023-12-21T11:21:18.994Z"
   },
   {
    "duration": 11,
    "start_time": "2023-12-21T11:21:23.897Z"
   },
   {
    "duration": 1749,
    "start_time": "2023-12-21T11:21:23.910Z"
   },
   {
    "duration": 6,
    "start_time": "2023-12-21T11:21:25.660Z"
   },
   {
    "duration": 26,
    "start_time": "2023-12-21T11:21:25.667Z"
   },
   {
    "duration": 370,
    "start_time": "2023-12-21T11:21:25.695Z"
   },
   {
    "duration": 341,
    "start_time": "2023-12-21T11:21:26.067Z"
   },
   {
    "duration": 5,
    "start_time": "2023-12-21T11:21:26.410Z"
   },
   {
    "duration": 12,
    "start_time": "2023-12-21T11:21:26.417Z"
   },
   {
    "duration": 6,
    "start_time": "2023-12-21T11:21:26.430Z"
   },
   {
    "duration": 5,
    "start_time": "2023-12-21T11:21:26.437Z"
   },
   {
    "duration": 4,
    "start_time": "2023-12-21T11:21:26.444Z"
   },
   {
    "duration": 3,
    "start_time": "2023-12-21T11:21:26.449Z"
   },
   {
    "duration": 14,
    "start_time": "2023-12-21T11:21:26.453Z"
   },
   {
    "duration": 19,
    "start_time": "2023-12-21T11:21:26.469Z"
   },
   {
    "duration": 10,
    "start_time": "2023-12-21T11:21:26.490Z"
   },
   {
    "duration": 19,
    "start_time": "2023-12-21T11:21:26.502Z"
   },
   {
    "duration": 4,
    "start_time": "2023-12-21T11:21:26.522Z"
   },
   {
    "duration": 5,
    "start_time": "2023-12-21T11:21:26.527Z"
   },
   {
    "duration": 38,
    "start_time": "2023-12-21T11:21:26.533Z"
   },
   {
    "duration": 6,
    "start_time": "2023-12-21T11:21:26.573Z"
   },
   {
    "duration": 30,
    "start_time": "2023-12-21T11:21:26.580Z"
   },
   {
    "duration": 6,
    "start_time": "2023-12-21T11:21:26.612Z"
   },
   {
    "duration": 322,
    "start_time": "2023-12-21T11:21:26.620Z"
   },
   {
    "duration": 4853,
    "start_time": "2023-12-21T11:23:43.113Z"
   },
   {
    "duration": 43,
    "start_time": "2023-12-21T11:24:24.523Z"
   },
   {
    "duration": 29,
    "start_time": "2023-12-21T11:25:20.352Z"
   },
   {
    "duration": 106,
    "start_time": "2023-12-21T11:25:44.296Z"
   },
   {
    "duration": 14,
    "start_time": "2023-12-21T11:38:10.722Z"
   },
   {
    "duration": 4,
    "start_time": "2023-12-21T11:38:26.152Z"
   },
   {
    "duration": 82,
    "start_time": "2023-12-21T11:40:07.041Z"
   },
   {
    "duration": 23,
    "start_time": "2023-12-21T11:41:09.920Z"
   },
   {
    "duration": 8,
    "start_time": "2023-12-21T11:41:12.513Z"
   },
   {
    "duration": 2,
    "start_time": "2023-12-21T11:41:42.331Z"
   },
   {
    "duration": 62,
    "start_time": "2023-12-21T11:41:47.451Z"
   },
   {
    "duration": 3,
    "start_time": "2023-12-21T11:42:41.597Z"
   },
   {
    "duration": 64,
    "start_time": "2023-12-21T11:42:42.894Z"
   },
   {
    "duration": 59,
    "start_time": "2023-12-21T11:45:20.417Z"
   },
   {
    "duration": 73,
    "start_time": "2023-12-21T11:47:12.155Z"
   },
   {
    "duration": 25,
    "start_time": "2023-12-21T11:47:17.757Z"
   },
   {
    "duration": 21,
    "start_time": "2023-12-21T11:49:43.513Z"
   },
   {
    "duration": 22,
    "start_time": "2023-12-21T11:49:53.592Z"
   },
   {
    "duration": 9190,
    "start_time": "2023-12-21T11:50:06.240Z"
   },
   {
    "duration": 8968,
    "start_time": "2023-12-21T11:50:15.432Z"
   },
   {
    "duration": 3,
    "start_time": "2023-12-21T11:50:24.401Z"
   },
   {
    "duration": 345,
    "start_time": "2023-12-21T11:50:24.407Z"
   },
   {
    "duration": 4,
    "start_time": "2023-12-21T11:50:24.754Z"
   },
   {
    "duration": 67,
    "start_time": "2023-12-21T11:50:24.759Z"
   },
   {
    "duration": 59,
    "start_time": "2023-12-21T11:50:24.828Z"
   },
   {
    "duration": 13,
    "start_time": "2023-12-21T11:50:24.888Z"
   },
   {
    "duration": 51,
    "start_time": "2023-12-21T11:50:24.903Z"
   },
   {
    "duration": 8,
    "start_time": "2023-12-21T11:50:24.956Z"
   },
   {
    "duration": 33,
    "start_time": "2023-12-21T11:50:24.966Z"
   },
   {
    "duration": 57,
    "start_time": "2023-12-21T11:50:25.001Z"
   },
   {
    "duration": 12,
    "start_time": "2023-12-21T11:50:25.060Z"
   },
   {
    "duration": 23,
    "start_time": "2023-12-21T11:50:25.074Z"
   },
   {
    "duration": 6,
    "start_time": "2023-12-21T11:50:25.099Z"
   },
   {
    "duration": 21,
    "start_time": "2023-12-21T11:50:25.106Z"
   },
   {
    "duration": 13,
    "start_time": "2023-12-21T11:50:25.128Z"
   },
   {
    "duration": 15,
    "start_time": "2023-12-21T11:50:25.143Z"
   },
   {
    "duration": 33,
    "start_time": "2023-12-21T11:50:25.160Z"
   },
   {
    "duration": 3,
    "start_time": "2023-12-21T11:50:25.195Z"
   },
   {
    "duration": 32,
    "start_time": "2023-12-21T11:50:25.199Z"
   },
   {
    "duration": 33,
    "start_time": "2023-12-21T11:50:25.232Z"
   },
   {
    "duration": 4312,
    "start_time": "2023-12-21T11:50:25.267Z"
   },
   {
    "duration": 3,
    "start_time": "2023-12-21T11:50:29.580Z"
   },
   {
    "duration": 50,
    "start_time": "2023-12-21T11:50:29.584Z"
   },
   {
    "duration": 24,
    "start_time": "2023-12-21T11:50:29.636Z"
   },
   {
    "duration": 4,
    "start_time": "2023-12-21T11:50:29.661Z"
   },
   {
    "duration": 311,
    "start_time": "2023-12-21T11:50:29.669Z"
   },
   {
    "duration": 304,
    "start_time": "2023-12-21T11:50:29.982Z"
   },
   {
    "duration": 9,
    "start_time": "2023-12-21T11:50:30.288Z"
   },
   {
    "duration": 46,
    "start_time": "2023-12-21T11:50:30.299Z"
   },
   {
    "duration": 80,
    "start_time": "2023-12-21T11:50:30.347Z"
   },
   {
    "duration": 78,
    "start_time": "2023-12-21T11:50:30.429Z"
   },
   {
    "duration": 27,
    "start_time": "2023-12-21T11:50:30.509Z"
   },
   {
    "duration": 54,
    "start_time": "2023-12-21T11:50:30.538Z"
   },
   {
    "duration": 91,
    "start_time": "2023-12-21T11:50:30.594Z"
   },
   {
    "duration": 60,
    "start_time": "2023-12-21T11:50:30.687Z"
   },
   {
    "duration": 80,
    "start_time": "2023-12-21T11:50:30.748Z"
   },
   {
    "duration": 35,
    "start_time": "2023-12-21T11:50:30.829Z"
   },
   {
    "duration": 51,
    "start_time": "2023-12-21T11:50:30.866Z"
   },
   {
    "duration": 82,
    "start_time": "2023-12-21T11:50:30.919Z"
   },
   {
    "duration": 59,
    "start_time": "2023-12-21T11:50:31.002Z"
   },
   {
    "duration": 2282,
    "start_time": "2023-12-21T11:50:31.062Z"
   },
   {
    "duration": 335,
    "start_time": "2023-12-21T11:50:33.346Z"
   },
   {
    "duration": 363,
    "start_time": "2023-12-21T11:50:33.683Z"
   },
   {
    "duration": 17,
    "start_time": "2023-12-21T11:50:34.048Z"
   },
   {
    "duration": 252,
    "start_time": "2023-12-21T11:50:34.067Z"
   },
   {
    "duration": 5,
    "start_time": "2023-12-21T11:50:34.321Z"
   },
   {
    "duration": 29,
    "start_time": "2023-12-21T11:50:34.328Z"
   },
   {
    "duration": 4716,
    "start_time": "2023-12-21T11:50:34.359Z"
   },
   {
    "duration": 9,
    "start_time": "2023-12-21T11:50:39.077Z"
   },
   {
    "duration": 1615,
    "start_time": "2023-12-21T11:50:39.088Z"
   },
   {
    "duration": 7,
    "start_time": "2023-12-21T11:50:40.705Z"
   },
   {
    "duration": 47,
    "start_time": "2023-12-21T11:50:40.714Z"
   },
   {
    "duration": 326,
    "start_time": "2023-12-21T11:50:40.763Z"
   },
   {
    "duration": 336,
    "start_time": "2023-12-21T11:50:41.091Z"
   },
   {
    "duration": 5,
    "start_time": "2023-12-21T11:50:41.429Z"
   },
   {
    "duration": 21,
    "start_time": "2023-12-21T11:50:41.436Z"
   },
   {
    "duration": 12,
    "start_time": "2023-12-21T11:50:41.459Z"
   },
   {
    "duration": 8,
    "start_time": "2023-12-21T11:50:41.473Z"
   },
   {
    "duration": 10,
    "start_time": "2023-12-21T11:50:41.483Z"
   },
   {
    "duration": 34,
    "start_time": "2023-12-21T11:50:41.494Z"
   },
   {
    "duration": 28,
    "start_time": "2023-12-21T11:50:41.529Z"
   },
   {
    "duration": 26,
    "start_time": "2023-12-21T11:50:41.558Z"
   },
   {
    "duration": 13,
    "start_time": "2023-12-21T11:50:41.586Z"
   },
   {
    "duration": 41,
    "start_time": "2023-12-21T11:50:41.601Z"
   },
   {
    "duration": 29,
    "start_time": "2023-12-21T11:50:41.644Z"
   },
   {
    "duration": 16,
    "start_time": "2023-12-21T11:50:41.675Z"
   },
   {
    "duration": 18,
    "start_time": "2023-12-21T11:50:41.693Z"
   },
   {
    "duration": 25,
    "start_time": "2023-12-21T11:50:41.712Z"
   },
   {
    "duration": 41,
    "start_time": "2023-12-21T11:50:41.739Z"
   },
   {
    "duration": 31,
    "start_time": "2023-12-21T11:50:41.782Z"
   },
   {
    "duration": 30,
    "start_time": "2023-12-21T11:50:41.815Z"
   },
   {
    "duration": 10,
    "start_time": "2023-12-21T11:50:41.847Z"
   },
   {
    "duration": 355,
    "start_time": "2023-12-21T11:50:41.858Z"
   },
   {
    "duration": 0,
    "start_time": "2023-12-21T11:50:42.216Z"
   },
   {
    "duration": 0,
    "start_time": "2023-12-21T11:50:42.217Z"
   },
   {
    "duration": 0,
    "start_time": "2023-12-21T11:50:42.218Z"
   },
   {
    "duration": 0,
    "start_time": "2023-12-21T11:50:42.219Z"
   },
   {
    "duration": 0,
    "start_time": "2023-12-21T11:50:42.220Z"
   },
   {
    "duration": 0,
    "start_time": "2023-12-21T11:50:42.221Z"
   },
   {
    "duration": 0,
    "start_time": "2023-12-21T11:50:42.222Z"
   },
   {
    "duration": 0,
    "start_time": "2023-12-21T11:50:42.223Z"
   },
   {
    "duration": 0,
    "start_time": "2023-12-21T11:50:42.224Z"
   },
   {
    "duration": 0,
    "start_time": "2023-12-21T11:50:42.225Z"
   },
   {
    "duration": 0,
    "start_time": "2023-12-21T11:50:42.227Z"
   },
   {
    "duration": 0,
    "start_time": "2023-12-21T11:50:42.228Z"
   },
   {
    "duration": 0,
    "start_time": "2023-12-21T11:50:42.229Z"
   },
   {
    "duration": 0,
    "start_time": "2023-12-21T11:50:42.230Z"
   },
   {
    "duration": 0,
    "start_time": "2023-12-21T11:50:42.231Z"
   },
   {
    "duration": 0,
    "start_time": "2023-12-21T11:50:42.233Z"
   },
   {
    "duration": 0,
    "start_time": "2023-12-21T11:50:42.234Z"
   },
   {
    "duration": 0,
    "start_time": "2023-12-21T11:50:42.265Z"
   },
   {
    "duration": 1,
    "start_time": "2023-12-21T11:50:42.266Z"
   },
   {
    "duration": 0,
    "start_time": "2023-12-21T11:50:42.267Z"
   },
   {
    "duration": 0,
    "start_time": "2023-12-21T11:50:42.268Z"
   },
   {
    "duration": 0,
    "start_time": "2023-12-21T11:50:42.269Z"
   },
   {
    "duration": 0,
    "start_time": "2023-12-21T11:50:42.270Z"
   },
   {
    "duration": 0,
    "start_time": "2023-12-21T11:50:42.271Z"
   },
   {
    "duration": 0,
    "start_time": "2023-12-21T11:50:42.272Z"
   },
   {
    "duration": 0,
    "start_time": "2023-12-21T11:50:42.273Z"
   },
   {
    "duration": 0,
    "start_time": "2023-12-21T11:50:42.274Z"
   },
   {
    "duration": 0,
    "start_time": "2023-12-21T11:50:42.275Z"
   },
   {
    "duration": 74,
    "start_time": "2023-12-21T11:53:29.486Z"
   },
   {
    "duration": 81,
    "start_time": "2023-12-21T11:53:38.587Z"
   },
   {
    "duration": 25,
    "start_time": "2023-12-21T11:53:47.313Z"
   },
   {
    "duration": 23,
    "start_time": "2023-12-21T11:57:13.948Z"
   },
   {
    "duration": 22,
    "start_time": "2023-12-21T11:57:19.741Z"
   },
   {
    "duration": 30,
    "start_time": "2023-12-21T11:57:49.931Z"
   },
   {
    "duration": 9029,
    "start_time": "2023-12-21T11:58:34.432Z"
   },
   {
    "duration": 9252,
    "start_time": "2023-12-21T11:58:43.464Z"
   },
   {
    "duration": 3,
    "start_time": "2023-12-21T11:58:52.717Z"
   },
   {
    "duration": 341,
    "start_time": "2023-12-21T11:58:52.722Z"
   },
   {
    "duration": 5,
    "start_time": "2023-12-21T11:58:53.065Z"
   },
   {
    "duration": 66,
    "start_time": "2023-12-21T11:58:53.071Z"
   },
   {
    "duration": 58,
    "start_time": "2023-12-21T11:58:53.139Z"
   },
   {
    "duration": 13,
    "start_time": "2023-12-21T11:58:53.198Z"
   },
   {
    "duration": 76,
    "start_time": "2023-12-21T11:58:53.212Z"
   },
   {
    "duration": 11,
    "start_time": "2023-12-21T11:58:53.290Z"
   },
   {
    "duration": 5,
    "start_time": "2023-12-21T11:58:53.302Z"
   },
   {
    "duration": 63,
    "start_time": "2023-12-21T11:58:53.308Z"
   },
   {
    "duration": 12,
    "start_time": "2023-12-21T11:58:53.373Z"
   },
   {
    "duration": 12,
    "start_time": "2023-12-21T11:58:53.387Z"
   },
   {
    "duration": 8,
    "start_time": "2023-12-21T11:58:53.401Z"
   },
   {
    "duration": 28,
    "start_time": "2023-12-21T11:58:53.411Z"
   },
   {
    "duration": 13,
    "start_time": "2023-12-21T11:58:53.441Z"
   },
   {
    "duration": 17,
    "start_time": "2023-12-21T11:58:53.456Z"
   },
   {
    "duration": 27,
    "start_time": "2023-12-21T11:58:53.475Z"
   },
   {
    "duration": 10,
    "start_time": "2023-12-21T11:58:53.503Z"
   },
   {
    "duration": 23,
    "start_time": "2023-12-21T11:58:53.515Z"
   },
   {
    "duration": 2,
    "start_time": "2023-12-21T11:58:53.540Z"
   },
   {
    "duration": 4233,
    "start_time": "2023-12-21T11:58:53.544Z"
   },
   {
    "duration": 4,
    "start_time": "2023-12-21T11:58:57.779Z"
   },
   {
    "duration": 58,
    "start_time": "2023-12-21T11:58:57.784Z"
   },
   {
    "duration": 16,
    "start_time": "2023-12-21T11:58:57.844Z"
   },
   {
    "duration": 5,
    "start_time": "2023-12-21T11:58:57.861Z"
   },
   {
    "duration": 315,
    "start_time": "2023-12-21T11:58:57.870Z"
   },
   {
    "duration": 297,
    "start_time": "2023-12-21T11:58:58.186Z"
   },
   {
    "duration": 7,
    "start_time": "2023-12-21T11:58:58.484Z"
   },
   {
    "duration": 6,
    "start_time": "2023-12-21T11:58:58.493Z"
   },
   {
    "duration": 29,
    "start_time": "2023-12-21T11:58:58.500Z"
   },
   {
    "duration": 62,
    "start_time": "2023-12-21T11:58:58.530Z"
   },
   {
    "duration": 18,
    "start_time": "2023-12-21T11:58:58.593Z"
   },
   {
    "duration": 55,
    "start_time": "2023-12-21T11:58:58.613Z"
   },
   {
    "duration": 34,
    "start_time": "2023-12-21T11:58:58.670Z"
   },
   {
    "duration": 4,
    "start_time": "2023-12-21T11:58:58.705Z"
   },
   {
    "duration": 19,
    "start_time": "2023-12-21T11:58:58.710Z"
   },
   {
    "duration": 34,
    "start_time": "2023-12-21T11:58:58.731Z"
   },
   {
    "duration": 14,
    "start_time": "2023-12-21T11:58:58.767Z"
   },
   {
    "duration": 31,
    "start_time": "2023-12-21T11:58:58.782Z"
   },
   {
    "duration": 4,
    "start_time": "2023-12-21T11:58:58.815Z"
   },
   {
    "duration": 2097,
    "start_time": "2023-12-21T11:58:58.820Z"
   },
   {
    "duration": 317,
    "start_time": "2023-12-21T11:59:00.919Z"
   },
   {
    "duration": 346,
    "start_time": "2023-12-21T11:59:01.238Z"
   },
   {
    "duration": 9,
    "start_time": "2023-12-21T11:59:01.586Z"
   },
   {
    "duration": 287,
    "start_time": "2023-12-21T11:59:01.597Z"
   },
   {
    "duration": 20,
    "start_time": "2023-12-21T11:59:01.885Z"
   },
   {
    "duration": 19,
    "start_time": "2023-12-21T11:59:01.906Z"
   },
   {
    "duration": 4548,
    "start_time": "2023-12-21T11:59:01.927Z"
   },
   {
    "duration": 8,
    "start_time": "2023-12-21T11:59:06.477Z"
   },
   {
    "duration": 1580,
    "start_time": "2023-12-21T11:59:06.487Z"
   },
   {
    "duration": 5,
    "start_time": "2023-12-21T11:59:08.068Z"
   },
   {
    "duration": 21,
    "start_time": "2023-12-21T11:59:08.075Z"
   },
   {
    "duration": 340,
    "start_time": "2023-12-21T11:59:08.098Z"
   },
   {
    "duration": 349,
    "start_time": "2023-12-21T11:59:08.439Z"
   },
   {
    "duration": 5,
    "start_time": "2023-12-21T11:59:08.789Z"
   },
   {
    "duration": 20,
    "start_time": "2023-12-21T11:59:08.795Z"
   },
   {
    "duration": 7,
    "start_time": "2023-12-21T11:59:08.817Z"
   },
   {
    "duration": 6,
    "start_time": "2023-12-21T11:59:08.825Z"
   },
   {
    "duration": 5,
    "start_time": "2023-12-21T11:59:08.832Z"
   },
   {
    "duration": 11,
    "start_time": "2023-12-21T11:59:08.838Z"
   },
   {
    "duration": 6,
    "start_time": "2023-12-21T11:59:08.851Z"
   },
   {
    "duration": 23,
    "start_time": "2023-12-21T11:59:08.859Z"
   },
   {
    "duration": 17,
    "start_time": "2023-12-21T11:59:08.884Z"
   },
   {
    "duration": 26,
    "start_time": "2023-12-21T11:59:08.903Z"
   },
   {
    "duration": 9,
    "start_time": "2023-12-21T11:59:08.931Z"
   },
   {
    "duration": 14,
    "start_time": "2023-12-21T11:59:08.942Z"
   },
   {
    "duration": 14,
    "start_time": "2023-12-21T11:59:08.958Z"
   },
   {
    "duration": 33,
    "start_time": "2023-12-21T11:59:08.974Z"
   },
   {
    "duration": 22,
    "start_time": "2023-12-21T11:59:09.009Z"
   },
   {
    "duration": 12,
    "start_time": "2023-12-21T11:59:09.033Z"
   },
   {
    "duration": 28,
    "start_time": "2023-12-21T11:59:09.046Z"
   },
   {
    "duration": 43,
    "start_time": "2023-12-21T11:59:09.076Z"
   },
   {
    "duration": 82,
    "start_time": "2023-12-21T11:59:09.120Z"
   },
   {
    "duration": 12,
    "start_time": "2023-12-21T11:59:09.203Z"
   },
   {
    "duration": 24,
    "start_time": "2023-12-21T11:59:09.217Z"
   },
   {
    "duration": 19,
    "start_time": "2023-12-21T11:59:09.242Z"
   },
   {
    "duration": 7,
    "start_time": "2023-12-21T11:59:09.263Z"
   },
   {
    "duration": 18,
    "start_time": "2023-12-21T11:59:09.271Z"
   },
   {
    "duration": 12,
    "start_time": "2023-12-21T11:59:09.291Z"
   },
   {
    "duration": 9,
    "start_time": "2023-12-21T11:59:09.309Z"
   },
   {
    "duration": 21,
    "start_time": "2023-12-21T11:59:09.319Z"
   },
   {
    "duration": 9,
    "start_time": "2023-12-21T11:59:09.341Z"
   },
   {
    "duration": 78,
    "start_time": "2023-12-21T11:59:09.352Z"
   },
   {
    "duration": 84,
    "start_time": "2023-12-21T11:59:09.432Z"
   },
   {
    "duration": 119,
    "start_time": "2023-12-21T11:59:09.517Z"
   },
   {
    "duration": 3,
    "start_time": "2023-12-21T11:59:09.638Z"
   },
   {
    "duration": 23,
    "start_time": "2023-12-21T11:59:09.643Z"
   },
   {
    "duration": 44,
    "start_time": "2023-12-21T11:59:09.667Z"
   },
   {
    "duration": 379,
    "start_time": "2023-12-21T11:59:09.713Z"
   },
   {
    "duration": 4,
    "start_time": "2023-12-21T11:59:10.093Z"
   },
   {
    "duration": 806,
    "start_time": "2023-12-21T11:59:10.098Z"
   },
   {
    "duration": 100,
    "start_time": "2023-12-21T11:59:10.905Z"
   },
   {
    "duration": 111,
    "start_time": "2023-12-21T11:59:11.006Z"
   },
   {
    "duration": 21,
    "start_time": "2023-12-21T11:59:11.119Z"
   },
   {
    "duration": 0,
    "start_time": "2023-12-21T11:59:11.142Z"
   },
   {
    "duration": 0,
    "start_time": "2023-12-21T11:59:11.143Z"
   },
   {
    "duration": 0,
    "start_time": "2023-12-21T11:59:11.145Z"
   },
   {
    "duration": 0,
    "start_time": "2023-12-21T11:59:11.146Z"
   },
   {
    "duration": 0,
    "start_time": "2023-12-21T11:59:11.147Z"
   },
   {
    "duration": 0,
    "start_time": "2023-12-21T11:59:11.148Z"
   },
   {
    "duration": 0,
    "start_time": "2023-12-21T11:59:11.149Z"
   },
   {
    "duration": 8967,
    "start_time": "2023-12-21T12:03:41.641Z"
   },
   {
    "duration": 8652,
    "start_time": "2023-12-21T12:03:50.610Z"
   },
   {
    "duration": 4,
    "start_time": "2023-12-21T12:03:59.263Z"
   },
   {
    "duration": 315,
    "start_time": "2023-12-21T12:03:59.268Z"
   },
   {
    "duration": 5,
    "start_time": "2023-12-21T12:03:59.584Z"
   },
   {
    "duration": 60,
    "start_time": "2023-12-21T12:03:59.590Z"
   },
   {
    "duration": 57,
    "start_time": "2023-12-21T12:03:59.652Z"
   },
   {
    "duration": 12,
    "start_time": "2023-12-21T12:03:59.711Z"
   },
   {
    "duration": 66,
    "start_time": "2023-12-21T12:03:59.725Z"
   },
   {
    "duration": 8,
    "start_time": "2023-12-21T12:03:59.793Z"
   },
   {
    "duration": 18,
    "start_time": "2023-12-21T12:03:59.802Z"
   },
   {
    "duration": 63,
    "start_time": "2023-12-21T12:03:59.822Z"
   },
   {
    "duration": 11,
    "start_time": "2023-12-21T12:03:59.887Z"
   },
   {
    "duration": 24,
    "start_time": "2023-12-21T12:03:59.900Z"
   },
   {
    "duration": 12,
    "start_time": "2023-12-21T12:03:59.926Z"
   },
   {
    "duration": 43,
    "start_time": "2023-12-21T12:03:59.940Z"
   },
   {
    "duration": 54,
    "start_time": "2023-12-21T12:03:59.985Z"
   },
   {
    "duration": 63,
    "start_time": "2023-12-21T12:04:00.040Z"
   },
   {
    "duration": 66,
    "start_time": "2023-12-21T12:04:00.104Z"
   },
   {
    "duration": 23,
    "start_time": "2023-12-21T12:04:00.171Z"
   },
   {
    "duration": 69,
    "start_time": "2023-12-21T12:04:00.196Z"
   },
   {
    "duration": 48,
    "start_time": "2023-12-21T12:04:00.267Z"
   },
   {
    "duration": 4267,
    "start_time": "2023-12-21T12:04:00.317Z"
   },
   {
    "duration": 2,
    "start_time": "2023-12-21T12:04:04.586Z"
   },
   {
    "duration": 34,
    "start_time": "2023-12-21T12:04:04.590Z"
   },
   {
    "duration": 35,
    "start_time": "2023-12-21T12:04:04.626Z"
   },
   {
    "duration": 4,
    "start_time": "2023-12-21T12:04:04.663Z"
   },
   {
    "duration": 298,
    "start_time": "2023-12-21T12:04:04.671Z"
   },
   {
    "duration": 317,
    "start_time": "2023-12-21T12:04:04.970Z"
   },
   {
    "duration": 8,
    "start_time": "2023-12-21T12:04:05.289Z"
   },
   {
    "duration": 6,
    "start_time": "2023-12-21T12:04:05.298Z"
   },
   {
    "duration": 26,
    "start_time": "2023-12-21T12:04:05.306Z"
   },
   {
    "duration": 60,
    "start_time": "2023-12-21T12:04:05.334Z"
   },
   {
    "duration": 17,
    "start_time": "2023-12-21T12:04:05.396Z"
   },
   {
    "duration": 51,
    "start_time": "2023-12-21T12:04:05.414Z"
   },
   {
    "duration": 33,
    "start_time": "2023-12-21T12:04:05.467Z"
   },
   {
    "duration": 17,
    "start_time": "2023-12-21T12:04:05.501Z"
   },
   {
    "duration": 22,
    "start_time": "2023-12-21T12:04:05.520Z"
   },
   {
    "duration": 12,
    "start_time": "2023-12-21T12:04:05.544Z"
   },
   {
    "duration": 15,
    "start_time": "2023-12-21T12:04:05.557Z"
   },
   {
    "duration": 29,
    "start_time": "2023-12-21T12:04:05.573Z"
   },
   {
    "duration": 4,
    "start_time": "2023-12-21T12:04:05.604Z"
   },
   {
    "duration": 2149,
    "start_time": "2023-12-21T12:04:05.609Z"
   },
   {
    "duration": 327,
    "start_time": "2023-12-21T12:04:07.760Z"
   },
   {
    "duration": 328,
    "start_time": "2023-12-21T12:04:08.089Z"
   },
   {
    "duration": 9,
    "start_time": "2023-12-21T12:04:08.419Z"
   },
   {
    "duration": 297,
    "start_time": "2023-12-21T12:04:08.429Z"
   },
   {
    "duration": 4,
    "start_time": "2023-12-21T12:04:08.728Z"
   },
   {
    "duration": 20,
    "start_time": "2023-12-21T12:04:08.733Z"
   },
   {
    "duration": 4425,
    "start_time": "2023-12-21T12:04:08.755Z"
   },
   {
    "duration": 8,
    "start_time": "2023-12-21T12:04:13.181Z"
   },
   {
    "duration": 1605,
    "start_time": "2023-12-21T12:04:13.190Z"
   },
   {
    "duration": 6,
    "start_time": "2023-12-21T12:04:14.797Z"
   },
   {
    "duration": 11,
    "start_time": "2023-12-21T12:04:14.805Z"
   },
   {
    "duration": 302,
    "start_time": "2023-12-21T12:04:14.818Z"
   },
   {
    "duration": 319,
    "start_time": "2023-12-21T12:04:15.122Z"
   },
   {
    "duration": 4,
    "start_time": "2023-12-21T12:04:15.443Z"
   },
   {
    "duration": 15,
    "start_time": "2023-12-21T12:04:15.448Z"
   },
   {
    "duration": 30,
    "start_time": "2023-12-21T12:04:15.464Z"
   },
   {
    "duration": 14,
    "start_time": "2023-12-21T12:04:15.495Z"
   },
   {
    "duration": 8,
    "start_time": "2023-12-21T12:04:15.511Z"
   },
   {
    "duration": 12,
    "start_time": "2023-12-21T12:04:15.521Z"
   },
   {
    "duration": 13,
    "start_time": "2023-12-21T12:04:15.534Z"
   },
   {
    "duration": 43,
    "start_time": "2023-12-21T12:04:15.548Z"
   },
   {
    "duration": 38,
    "start_time": "2023-12-21T12:04:15.593Z"
   },
   {
    "duration": 31,
    "start_time": "2023-12-21T12:04:15.633Z"
   },
   {
    "duration": 42,
    "start_time": "2023-12-21T12:04:15.666Z"
   },
   {
    "duration": 21,
    "start_time": "2023-12-21T12:04:15.709Z"
   },
   {
    "duration": 57,
    "start_time": "2023-12-21T12:04:15.731Z"
   },
   {
    "duration": 32,
    "start_time": "2023-12-21T12:04:15.790Z"
   },
   {
    "duration": 51,
    "start_time": "2023-12-21T12:04:15.824Z"
   },
   {
    "duration": 92,
    "start_time": "2023-12-21T12:04:15.877Z"
   },
   {
    "duration": 55,
    "start_time": "2023-12-21T12:04:15.970Z"
   },
   {
    "duration": 52,
    "start_time": "2023-12-21T12:04:16.027Z"
   },
   {
    "duration": 96,
    "start_time": "2023-12-21T12:04:16.081Z"
   },
   {
    "duration": 12,
    "start_time": "2023-12-21T12:04:16.178Z"
   },
   {
    "duration": 37,
    "start_time": "2023-12-21T12:04:16.191Z"
   },
   {
    "duration": 32,
    "start_time": "2023-12-21T12:04:16.229Z"
   },
   {
    "duration": 20,
    "start_time": "2023-12-21T12:04:16.262Z"
   },
   {
    "duration": 30,
    "start_time": "2023-12-21T12:04:16.284Z"
   },
   {
    "duration": 40,
    "start_time": "2023-12-21T12:04:16.316Z"
   },
   {
    "duration": 46,
    "start_time": "2023-12-21T12:04:16.361Z"
   },
   {
    "duration": 36,
    "start_time": "2023-12-21T12:04:16.409Z"
   },
   {
    "duration": 38,
    "start_time": "2023-12-21T12:04:16.447Z"
   },
   {
    "duration": 5088,
    "start_time": "2023-12-21T12:04:16.487Z"
   },
   {
    "duration": 174,
    "start_time": "2023-12-21T12:04:21.667Z"
   },
   {
    "duration": 4509,
    "start_time": "2023-12-21T12:04:21.843Z"
   },
   {
    "duration": 11,
    "start_time": "2023-12-21T12:04:26.354Z"
   },
   {
    "duration": 28,
    "start_time": "2023-12-21T12:04:26.367Z"
   },
   {
    "duration": 30,
    "start_time": "2023-12-21T12:04:26.396Z"
   },
   {
    "duration": 29345,
    "start_time": "2023-12-21T12:04:26.428Z"
   },
   {
    "duration": 92,
    "start_time": "2023-12-21T12:04:55.776Z"
   },
   {
    "duration": 403,
    "start_time": "2023-12-21T12:04:55.870Z"
   },
   {
    "duration": 14719,
    "start_time": "2023-12-21T12:04:56.275Z"
   },
   {
    "duration": 2211,
    "start_time": "2023-12-21T12:05:10.996Z"
   },
   {
    "duration": 71,
    "start_time": "2023-12-21T12:05:13.209Z"
   },
   {
    "duration": 515,
    "start_time": "2023-12-21T12:05:13.282Z"
   },
   {
    "duration": 357,
    "start_time": "2023-12-21T12:05:13.798Z"
   },
   {
    "duration": 0,
    "start_time": "2023-12-21T12:05:14.156Z"
   },
   {
    "duration": 0,
    "start_time": "2023-12-21T12:05:14.165Z"
   },
   {
    "duration": 0,
    "start_time": "2023-12-21T12:05:14.166Z"
   },
   {
    "duration": 0,
    "start_time": "2023-12-21T12:05:14.167Z"
   },
   {
    "duration": 0,
    "start_time": "2023-12-21T12:05:14.168Z"
   },
   {
    "duration": 233,
    "start_time": "2023-12-21T12:06:52.922Z"
   },
   {
    "duration": 2495,
    "start_time": "2023-12-21T12:06:59.533Z"
   },
   {
    "duration": 132133,
    "start_time": "2023-12-21T12:10:07.758Z"
   },
   {
    "duration": 9120,
    "start_time": "2023-12-21T12:15:58.358Z"
   },
   {
    "duration": 8704,
    "start_time": "2023-12-21T12:16:07.480Z"
   },
   {
    "duration": 3,
    "start_time": "2023-12-21T12:16:16.186Z"
   },
   {
    "duration": 340,
    "start_time": "2023-12-21T12:16:16.191Z"
   },
   {
    "duration": 4,
    "start_time": "2023-12-21T12:16:16.533Z"
   },
   {
    "duration": 93,
    "start_time": "2023-12-21T12:16:16.538Z"
   },
   {
    "duration": 60,
    "start_time": "2023-12-21T12:16:16.633Z"
   },
   {
    "duration": 12,
    "start_time": "2023-12-21T12:16:16.695Z"
   },
   {
    "duration": 47,
    "start_time": "2023-12-21T12:16:16.709Z"
   },
   {
    "duration": 7,
    "start_time": "2023-12-21T12:16:16.759Z"
   },
   {
    "duration": 10,
    "start_time": "2023-12-21T12:16:16.768Z"
   },
   {
    "duration": 46,
    "start_time": "2023-12-21T12:16:16.780Z"
   },
   {
    "duration": 12,
    "start_time": "2023-12-21T12:16:16.827Z"
   },
   {
    "duration": 50,
    "start_time": "2023-12-21T12:16:16.840Z"
   },
   {
    "duration": 2,
    "start_time": "2023-12-21T12:16:16.891Z"
   },
   {
    "duration": 10,
    "start_time": "2023-12-21T12:16:16.895Z"
   },
   {
    "duration": 25,
    "start_time": "2023-12-21T12:16:16.906Z"
   },
   {
    "duration": 11,
    "start_time": "2023-12-21T12:16:16.932Z"
   },
   {
    "duration": 30,
    "start_time": "2023-12-21T12:16:16.944Z"
   },
   {
    "duration": 3,
    "start_time": "2023-12-21T12:16:16.975Z"
   },
   {
    "duration": 31,
    "start_time": "2023-12-21T12:16:16.980Z"
   },
   {
    "duration": 27,
    "start_time": "2023-12-21T12:16:17.013Z"
   },
   {
    "duration": 4266,
    "start_time": "2023-12-21T12:16:17.042Z"
   },
   {
    "duration": 2,
    "start_time": "2023-12-21T12:16:21.310Z"
   },
   {
    "duration": 32,
    "start_time": "2023-12-21T12:16:21.314Z"
   },
   {
    "duration": 31,
    "start_time": "2023-12-21T12:16:21.348Z"
   },
   {
    "duration": 31,
    "start_time": "2023-12-21T12:16:21.381Z"
   },
   {
    "duration": 298,
    "start_time": "2023-12-21T12:16:21.416Z"
   },
   {
    "duration": 298,
    "start_time": "2023-12-21T12:16:21.716Z"
   },
   {
    "duration": 7,
    "start_time": "2023-12-21T12:16:22.016Z"
   },
   {
    "duration": 33,
    "start_time": "2023-12-21T12:16:22.025Z"
   },
   {
    "duration": 53,
    "start_time": "2023-12-21T12:16:22.059Z"
   },
   {
    "duration": 45,
    "start_time": "2023-12-21T12:16:22.114Z"
   },
   {
    "duration": 17,
    "start_time": "2023-12-21T12:16:22.160Z"
   },
   {
    "duration": 41,
    "start_time": "2023-12-21T12:16:22.179Z"
   },
   {
    "duration": 44,
    "start_time": "2023-12-21T12:16:22.221Z"
   },
   {
    "duration": 16,
    "start_time": "2023-12-21T12:16:22.267Z"
   },
   {
    "duration": 40,
    "start_time": "2023-12-21T12:16:22.284Z"
   },
   {
    "duration": 26,
    "start_time": "2023-12-21T12:16:22.326Z"
   },
   {
    "duration": 35,
    "start_time": "2023-12-21T12:16:22.353Z"
   },
   {
    "duration": 45,
    "start_time": "2023-12-21T12:16:22.390Z"
   },
   {
    "duration": 21,
    "start_time": "2023-12-21T12:16:22.437Z"
   },
   {
    "duration": 2130,
    "start_time": "2023-12-21T12:16:22.459Z"
   },
   {
    "duration": 338,
    "start_time": "2023-12-21T12:16:24.590Z"
   },
   {
    "duration": 331,
    "start_time": "2023-12-21T12:16:24.929Z"
   },
   {
    "duration": 9,
    "start_time": "2023-12-21T12:16:25.262Z"
   },
   {
    "duration": 304,
    "start_time": "2023-12-21T12:16:25.272Z"
   },
   {
    "duration": 4,
    "start_time": "2023-12-21T12:16:25.578Z"
   },
   {
    "duration": 30,
    "start_time": "2023-12-21T12:16:25.583Z"
   },
   {
    "duration": 4611,
    "start_time": "2023-12-21T12:16:25.614Z"
   },
   {
    "duration": 8,
    "start_time": "2023-12-21T12:16:30.226Z"
   },
   {
    "duration": 1719,
    "start_time": "2023-12-21T12:16:30.235Z"
   },
   {
    "duration": 6,
    "start_time": "2023-12-21T12:16:31.956Z"
   },
   {
    "duration": 25,
    "start_time": "2023-12-21T12:16:31.963Z"
   },
   {
    "duration": 311,
    "start_time": "2023-12-21T12:16:31.990Z"
   },
   {
    "duration": 321,
    "start_time": "2023-12-21T12:16:32.302Z"
   },
   {
    "duration": 5,
    "start_time": "2023-12-21T12:16:32.624Z"
   },
   {
    "duration": 18,
    "start_time": "2023-12-21T12:16:32.630Z"
   },
   {
    "duration": 33,
    "start_time": "2023-12-21T12:16:32.649Z"
   },
   {
    "duration": 13,
    "start_time": "2023-12-21T12:16:32.684Z"
   },
   {
    "duration": 25,
    "start_time": "2023-12-21T12:16:32.698Z"
   },
   {
    "duration": 35,
    "start_time": "2023-12-21T12:16:32.724Z"
   },
   {
    "duration": 8,
    "start_time": "2023-12-21T12:16:32.761Z"
   },
   {
    "duration": 38,
    "start_time": "2023-12-21T12:16:32.770Z"
   },
   {
    "duration": 22,
    "start_time": "2023-12-21T12:16:32.810Z"
   },
   {
    "duration": 48,
    "start_time": "2023-12-21T12:16:32.833Z"
   },
   {
    "duration": 15,
    "start_time": "2023-12-21T12:16:32.883Z"
   },
   {
    "duration": 32,
    "start_time": "2023-12-21T12:16:32.900Z"
   },
   {
    "duration": 21,
    "start_time": "2023-12-21T12:16:32.934Z"
   },
   {
    "duration": 23,
    "start_time": "2023-12-21T12:16:32.956Z"
   },
   {
    "duration": 30,
    "start_time": "2023-12-21T12:16:32.981Z"
   },
   {
    "duration": 4,
    "start_time": "2023-12-21T12:16:33.013Z"
   },
   {
    "duration": 17,
    "start_time": "2023-12-21T12:16:33.019Z"
   },
   {
    "duration": 33,
    "start_time": "2023-12-21T12:16:33.038Z"
   },
   {
    "duration": 66,
    "start_time": "2023-12-21T12:16:33.073Z"
   },
   {
    "duration": 29,
    "start_time": "2023-12-21T12:16:33.141Z"
   },
   {
    "duration": 2,
    "start_time": "2023-12-21T12:16:33.171Z"
   },
   {
    "duration": 36,
    "start_time": "2023-12-21T12:16:33.174Z"
   },
   {
    "duration": 6,
    "start_time": "2023-12-21T12:16:33.212Z"
   },
   {
    "duration": 14,
    "start_time": "2023-12-21T12:16:33.219Z"
   },
   {
    "duration": 8,
    "start_time": "2023-12-21T12:16:33.234Z"
   },
   {
    "duration": 10,
    "start_time": "2023-12-21T12:16:33.247Z"
   },
   {
    "duration": 17,
    "start_time": "2023-12-21T12:16:33.258Z"
   },
   {
    "duration": 6,
    "start_time": "2023-12-21T12:16:33.276Z"
   },
   {
    "duration": 5286,
    "start_time": "2023-12-21T12:16:33.283Z"
   },
   {
    "duration": 253,
    "start_time": "2023-12-21T12:16:38.571Z"
   },
   {
    "duration": 4581,
    "start_time": "2023-12-21T12:16:38.825Z"
   },
   {
    "duration": 2,
    "start_time": "2023-12-21T12:16:43.407Z"
   },
   {
    "duration": 30,
    "start_time": "2023-12-21T12:16:43.411Z"
   },
   {
    "duration": 36,
    "start_time": "2023-12-21T12:16:43.443Z"
   },
   {
    "duration": 30384,
    "start_time": "2023-12-21T12:16:43.481Z"
   },
   {
    "duration": 5,
    "start_time": "2023-12-21T12:17:13.867Z"
   },
   {
    "duration": 425,
    "start_time": "2023-12-21T12:17:13.873Z"
   },
   {
    "duration": 15024,
    "start_time": "2023-12-21T12:17:14.299Z"
   },
   {
    "duration": 3764,
    "start_time": "2023-12-21T12:17:29.324Z"
   },
   {
    "duration": 21,
    "start_time": "2023-12-21T12:17:33.089Z"
   },
   {
    "duration": 505,
    "start_time": "2023-12-21T12:17:33.111Z"
   },
   {
    "duration": 353,
    "start_time": "2023-12-21T12:17:33.618Z"
   },
   {
    "duration": 0,
    "start_time": "2023-12-21T12:17:33.972Z"
   },
   {
    "duration": 0,
    "start_time": "2023-12-21T12:17:33.974Z"
   },
   {
    "duration": 0,
    "start_time": "2023-12-21T12:17:33.975Z"
   },
   {
    "duration": 0,
    "start_time": "2023-12-21T12:17:33.976Z"
   },
   {
    "duration": 0,
    "start_time": "2023-12-21T12:17:33.977Z"
   },
   {
    "duration": 0,
    "start_time": "2023-12-21T12:17:33.978Z"
   },
   {
    "duration": 264,
    "start_time": "2023-12-21T12:20:15.626Z"
   },
   {
    "duration": 4024,
    "start_time": "2023-12-21T12:20:21.714Z"
   },
   {
    "duration": 3,
    "start_time": "2023-12-21T12:26:29.252Z"
   },
   {
    "duration": 398,
    "start_time": "2023-12-21T12:26:29.875Z"
   },
   {
    "duration": 17875,
    "start_time": "2023-12-21T12:26:47.151Z"
   },
   {
    "duration": 17,
    "start_time": "2023-12-21T12:27:59.824Z"
   },
   {
    "duration": 5,
    "start_time": "2023-12-21T12:29:27.511Z"
   },
   {
    "duration": 4,
    "start_time": "2023-12-21T12:29:35.246Z"
   },
   {
    "duration": 4,
    "start_time": "2023-12-21T12:29:36.949Z"
   },
   {
    "duration": 6,
    "start_time": "2023-12-21T12:29:38.754Z"
   },
   {
    "duration": 3,
    "start_time": "2023-12-21T12:29:40.303Z"
   },
   {
    "duration": 96,
    "start_time": "2023-12-21T12:29:50.582Z"
   },
   {
    "duration": 9254,
    "start_time": "2023-12-21T12:33:59.889Z"
   },
   {
    "duration": 9912,
    "start_time": "2023-12-21T12:34:09.145Z"
   },
   {
    "duration": 2,
    "start_time": "2023-12-21T12:34:19.059Z"
   },
   {
    "duration": 355,
    "start_time": "2023-12-21T12:34:19.063Z"
   },
   {
    "duration": 4,
    "start_time": "2023-12-21T12:34:19.419Z"
   },
   {
    "duration": 73,
    "start_time": "2023-12-21T12:34:19.424Z"
   },
   {
    "duration": 59,
    "start_time": "2023-12-21T12:34:19.499Z"
   },
   {
    "duration": 12,
    "start_time": "2023-12-21T12:34:19.559Z"
   },
   {
    "duration": 66,
    "start_time": "2023-12-21T12:34:19.573Z"
   },
   {
    "duration": 9,
    "start_time": "2023-12-21T12:34:19.641Z"
   },
   {
    "duration": 27,
    "start_time": "2023-12-21T12:34:19.651Z"
   },
   {
    "duration": 92,
    "start_time": "2023-12-21T12:34:19.680Z"
   },
   {
    "duration": 12,
    "start_time": "2023-12-21T12:34:19.774Z"
   },
   {
    "duration": 16,
    "start_time": "2023-12-21T12:34:19.788Z"
   },
   {
    "duration": 19,
    "start_time": "2023-12-21T12:34:19.806Z"
   },
   {
    "duration": 45,
    "start_time": "2023-12-21T12:34:19.827Z"
   },
   {
    "duration": 10,
    "start_time": "2023-12-21T12:34:19.874Z"
   },
   {
    "duration": 8,
    "start_time": "2023-12-21T12:34:19.885Z"
   },
   {
    "duration": 36,
    "start_time": "2023-12-21T12:34:19.895Z"
   },
   {
    "duration": 3,
    "start_time": "2023-12-21T12:34:19.932Z"
   },
   {
    "duration": 46,
    "start_time": "2023-12-21T12:34:19.937Z"
   },
   {
    "duration": 7,
    "start_time": "2023-12-21T12:34:19.985Z"
   },
   {
    "duration": 4421,
    "start_time": "2023-12-21T12:34:19.994Z"
   },
   {
    "duration": 3,
    "start_time": "2023-12-21T12:34:24.417Z"
   },
   {
    "duration": 34,
    "start_time": "2023-12-21T12:34:24.422Z"
   },
   {
    "duration": 19,
    "start_time": "2023-12-21T12:34:24.465Z"
   },
   {
    "duration": 27,
    "start_time": "2023-12-21T12:34:24.486Z"
   },
   {
    "duration": 340,
    "start_time": "2023-12-21T12:34:24.517Z"
   },
   {
    "duration": 313,
    "start_time": "2023-12-21T12:34:24.859Z"
   },
   {
    "duration": 7,
    "start_time": "2023-12-21T12:34:25.174Z"
   },
   {
    "duration": 33,
    "start_time": "2023-12-21T12:34:25.182Z"
   },
   {
    "duration": 46,
    "start_time": "2023-12-21T12:34:25.216Z"
   },
   {
    "duration": 36,
    "start_time": "2023-12-21T12:34:25.263Z"
   },
   {
    "duration": 17,
    "start_time": "2023-12-21T12:34:25.300Z"
   },
   {
    "duration": 47,
    "start_time": "2023-12-21T12:34:25.318Z"
   },
   {
    "duration": 33,
    "start_time": "2023-12-21T12:34:25.367Z"
   },
   {
    "duration": 4,
    "start_time": "2023-12-21T12:34:25.401Z"
   },
   {
    "duration": 29,
    "start_time": "2023-12-21T12:34:25.406Z"
   },
   {
    "duration": 25,
    "start_time": "2023-12-21T12:34:25.437Z"
   },
   {
    "duration": 30,
    "start_time": "2023-12-21T12:34:25.464Z"
   },
   {
    "duration": 39,
    "start_time": "2023-12-21T12:34:25.496Z"
   },
   {
    "duration": 21,
    "start_time": "2023-12-21T12:34:25.537Z"
   },
   {
    "duration": 2213,
    "start_time": "2023-12-21T12:34:25.560Z"
   },
   {
    "duration": 334,
    "start_time": "2023-12-21T12:34:27.775Z"
   },
   {
    "duration": 346,
    "start_time": "2023-12-21T12:34:28.111Z"
   },
   {
    "duration": 10,
    "start_time": "2023-12-21T12:34:28.465Z"
   },
   {
    "duration": 273,
    "start_time": "2023-12-21T12:34:28.476Z"
   },
   {
    "duration": 4,
    "start_time": "2023-12-21T12:34:28.750Z"
   },
   {
    "duration": 11,
    "start_time": "2023-12-21T12:34:28.756Z"
   },
   {
    "duration": 4600,
    "start_time": "2023-12-21T12:34:28.768Z"
   },
   {
    "duration": 8,
    "start_time": "2023-12-21T12:34:33.369Z"
   },
   {
    "duration": 1593,
    "start_time": "2023-12-21T12:34:33.378Z"
   },
   {
    "duration": 5,
    "start_time": "2023-12-21T12:34:34.973Z"
   },
   {
    "duration": 16,
    "start_time": "2023-12-21T12:34:34.980Z"
   },
   {
    "duration": 341,
    "start_time": "2023-12-21T12:34:34.998Z"
   },
   {
    "duration": 327,
    "start_time": "2023-12-21T12:34:35.341Z"
   },
   {
    "duration": 5,
    "start_time": "2023-12-21T12:34:35.669Z"
   },
   {
    "duration": 5,
    "start_time": "2023-12-21T12:34:35.675Z"
   },
   {
    "duration": 6,
    "start_time": "2023-12-21T12:34:35.681Z"
   },
   {
    "duration": 5,
    "start_time": "2023-12-21T12:34:35.689Z"
   },
   {
    "duration": 4,
    "start_time": "2023-12-21T12:34:35.695Z"
   },
   {
    "duration": 4,
    "start_time": "2023-12-21T12:34:35.701Z"
   },
   {
    "duration": 5,
    "start_time": "2023-12-21T12:34:35.706Z"
   },
   {
    "duration": 8,
    "start_time": "2023-12-21T12:34:35.713Z"
   },
   {
    "duration": 23,
    "start_time": "2023-12-21T12:34:35.723Z"
   },
   {
    "duration": 24,
    "start_time": "2023-12-21T12:34:35.748Z"
   },
   {
    "duration": 24,
    "start_time": "2023-12-21T12:34:35.774Z"
   },
   {
    "duration": 8,
    "start_time": "2023-12-21T12:34:35.800Z"
   },
   {
    "duration": 9,
    "start_time": "2023-12-21T12:34:35.810Z"
   },
   {
    "duration": 23,
    "start_time": "2023-12-21T12:34:35.821Z"
   },
   {
    "duration": 31,
    "start_time": "2023-12-21T12:34:35.845Z"
   },
   {
    "duration": 14,
    "start_time": "2023-12-21T12:34:35.878Z"
   },
   {
    "duration": 84,
    "start_time": "2023-12-21T12:34:35.894Z"
   },
   {
    "duration": 12,
    "start_time": "2023-12-21T12:34:35.980Z"
   },
   {
    "duration": 3,
    "start_time": "2023-12-21T12:34:35.993Z"
   },
   {
    "duration": 5,
    "start_time": "2023-12-21T12:34:35.997Z"
   },
   {
    "duration": 7,
    "start_time": "2023-12-21T12:34:36.003Z"
   },
   {
    "duration": 6,
    "start_time": "2023-12-21T12:34:36.011Z"
   },
   {
    "duration": 4,
    "start_time": "2023-12-21T12:34:36.018Z"
   },
   {
    "duration": 8,
    "start_time": "2023-12-21T12:34:36.023Z"
   },
   {
    "duration": 33,
    "start_time": "2023-12-21T12:34:36.032Z"
   },
   {
    "duration": 2,
    "start_time": "2023-12-21T12:34:36.071Z"
   },
   {
    "duration": 391,
    "start_time": "2023-12-21T12:34:36.075Z"
   },
   {
    "duration": 0,
    "start_time": "2023-12-21T12:34:36.468Z"
   },
   {
    "duration": 0,
    "start_time": "2023-12-21T12:34:36.469Z"
   },
   {
    "duration": 0,
    "start_time": "2023-12-21T12:34:36.470Z"
   },
   {
    "duration": 0,
    "start_time": "2023-12-21T12:34:36.471Z"
   },
   {
    "duration": 0,
    "start_time": "2023-12-21T12:34:36.472Z"
   },
   {
    "duration": 0,
    "start_time": "2023-12-21T12:34:36.474Z"
   },
   {
    "duration": 0,
    "start_time": "2023-12-21T12:34:36.475Z"
   },
   {
    "duration": 0,
    "start_time": "2023-12-21T12:34:36.476Z"
   },
   {
    "duration": 0,
    "start_time": "2023-12-21T12:34:36.477Z"
   },
   {
    "duration": 0,
    "start_time": "2023-12-21T12:34:36.478Z"
   },
   {
    "duration": 0,
    "start_time": "2023-12-21T12:34:36.479Z"
   },
   {
    "duration": 0,
    "start_time": "2023-12-21T12:34:36.480Z"
   },
   {
    "duration": 0,
    "start_time": "2023-12-21T12:34:36.481Z"
   },
   {
    "duration": 0,
    "start_time": "2023-12-21T12:34:36.482Z"
   },
   {
    "duration": 0,
    "start_time": "2023-12-21T12:34:36.483Z"
   },
   {
    "duration": 0,
    "start_time": "2023-12-21T12:34:36.484Z"
   },
   {
    "duration": 0,
    "start_time": "2023-12-21T12:34:36.486Z"
   },
   {
    "duration": 0,
    "start_time": "2023-12-21T12:34:36.487Z"
   },
   {
    "duration": 0,
    "start_time": "2023-12-21T12:34:36.488Z"
   },
   {
    "duration": 249,
    "start_time": "2023-12-21T12:37:12.321Z"
   },
   {
    "duration": 3,
    "start_time": "2023-12-21T12:37:15.294Z"
   },
   {
    "duration": 6,
    "start_time": "2023-12-21T12:38:29.643Z"
   },
   {
    "duration": 3,
    "start_time": "2023-12-21T12:38:31.283Z"
   },
   {
    "duration": 51,
    "start_time": "2023-12-21T12:38:32.260Z"
   },
   {
    "duration": 5868,
    "start_time": "2023-12-21T12:39:45.907Z"
   },
   {
    "duration": 171,
    "start_time": "2023-12-21T12:39:51.873Z"
   },
   {
    "duration": 5006,
    "start_time": "2023-12-21T12:39:58.890Z"
   },
   {
    "duration": 1391,
    "start_time": "2023-12-21T12:40:22.560Z"
   },
   {
    "duration": 1678,
    "start_time": "2023-12-21T12:40:29.895Z"
   },
   {
    "duration": 8,
    "start_time": "2023-12-21T14:15:03.215Z"
   },
   {
    "duration": 3,
    "start_time": "2023-12-21T14:15:05.367Z"
   },
   {
    "duration": 61,
    "start_time": "2023-12-21T14:15:06.277Z"
   },
   {
    "duration": 5,
    "start_time": "2023-12-21T14:15:18.803Z"
   },
   {
    "duration": 3,
    "start_time": "2023-12-21T14:15:19.849Z"
   },
   {
    "duration": 186,
    "start_time": "2023-12-21T14:15:20.013Z"
   },
   {
    "duration": 5,
    "start_time": "2023-12-21T14:16:03.667Z"
   },
   {
    "duration": 3,
    "start_time": "2023-12-21T14:16:04.594Z"
   },
   {
    "duration": 113342,
    "start_time": "2023-12-21T14:16:05.137Z"
   },
   {
    "duration": 4581,
    "start_time": "2023-12-21T14:39:17.600Z"
   },
   {
    "duration": 4579,
    "start_time": "2023-12-21T14:40:22.702Z"
   },
   {
    "duration": 29984,
    "start_time": "2023-12-21T14:40:27.283Z"
   },
   {
    "duration": 97,
    "start_time": "2023-12-21T14:40:57.270Z"
   },
   {
    "duration": 332,
    "start_time": "2023-12-21T14:40:57.369Z"
   },
   {
    "duration": 15258,
    "start_time": "2023-12-21T14:40:57.703Z"
   },
   {
    "duration": 3558,
    "start_time": "2023-12-21T14:41:12.962Z"
   },
   {
    "duration": 23,
    "start_time": "2023-12-21T14:41:16.521Z"
   },
   {
    "duration": 480,
    "start_time": "2023-12-21T14:41:16.546Z"
   },
   {
    "duration": 279,
    "start_time": "2023-12-21T14:41:17.028Z"
   },
   {
    "duration": 4032,
    "start_time": "2023-12-21T14:41:17.309Z"
   },
   {
    "duration": 278,
    "start_time": "2023-12-21T14:41:21.342Z"
   },
   {
    "duration": 271,
    "start_time": "2023-12-21T14:41:21.622Z"
   },
   {
    "duration": 8856,
    "start_time": "2023-12-21T14:41:42.500Z"
   },
   {
    "duration": 8321,
    "start_time": "2023-12-21T14:41:51.358Z"
   },
   {
    "duration": 4,
    "start_time": "2023-12-21T14:41:59.681Z"
   },
   {
    "duration": 393,
    "start_time": "2023-12-21T14:41:59.686Z"
   },
   {
    "duration": 4,
    "start_time": "2023-12-21T14:42:00.081Z"
   },
   {
    "duration": 120,
    "start_time": "2023-12-21T14:42:00.087Z"
   },
   {
    "duration": 82,
    "start_time": "2023-12-21T14:42:00.209Z"
   },
   {
    "duration": 61,
    "start_time": "2023-12-21T14:42:00.292Z"
   },
   {
    "duration": 171,
    "start_time": "2023-12-21T14:42:00.354Z"
   },
   {
    "duration": 27,
    "start_time": "2023-12-21T14:42:00.527Z"
   },
   {
    "duration": 51,
    "start_time": "2023-12-21T14:42:00.555Z"
   },
   {
    "duration": 101,
    "start_time": "2023-12-21T14:42:00.608Z"
   },
   {
    "duration": 28,
    "start_time": "2023-12-21T14:42:00.710Z"
   },
   {
    "duration": 66,
    "start_time": "2023-12-21T14:42:00.740Z"
   },
   {
    "duration": 75,
    "start_time": "2023-12-21T14:42:00.807Z"
   },
   {
    "duration": 120,
    "start_time": "2023-12-21T14:42:00.884Z"
   },
   {
    "duration": 87,
    "start_time": "2023-12-21T14:42:01.006Z"
   },
   {
    "duration": 66,
    "start_time": "2023-12-21T14:42:01.094Z"
   },
   {
    "duration": 85,
    "start_time": "2023-12-21T14:42:01.162Z"
   },
   {
    "duration": 65,
    "start_time": "2023-12-21T14:42:01.248Z"
   },
   {
    "duration": 88,
    "start_time": "2023-12-21T14:42:01.314Z"
   },
   {
    "duration": 53,
    "start_time": "2023-12-21T14:42:01.403Z"
   },
   {
    "duration": 4363,
    "start_time": "2023-12-21T14:42:01.458Z"
   },
   {
    "duration": 3,
    "start_time": "2023-12-21T14:42:05.823Z"
   },
   {
    "duration": 49,
    "start_time": "2023-12-21T14:42:05.827Z"
   },
   {
    "duration": 64,
    "start_time": "2023-12-21T14:42:05.877Z"
   },
   {
    "duration": 19,
    "start_time": "2023-12-21T14:42:05.943Z"
   },
   {
    "duration": 365,
    "start_time": "2023-12-21T14:42:05.964Z"
   },
   {
    "duration": 315,
    "start_time": "2023-12-21T14:42:06.331Z"
   },
   {
    "duration": 7,
    "start_time": "2023-12-21T14:42:06.648Z"
   },
   {
    "duration": 33,
    "start_time": "2023-12-21T14:42:06.657Z"
   },
   {
    "duration": 50,
    "start_time": "2023-12-21T14:42:06.692Z"
   },
   {
    "duration": 37,
    "start_time": "2023-12-21T14:42:06.744Z"
   },
   {
    "duration": 30,
    "start_time": "2023-12-21T14:42:06.783Z"
   },
   {
    "duration": 42,
    "start_time": "2023-12-21T14:42:06.815Z"
   },
   {
    "duration": 37,
    "start_time": "2023-12-21T14:42:06.858Z"
   },
   {
    "duration": 9,
    "start_time": "2023-12-21T14:42:06.897Z"
   },
   {
    "duration": 50,
    "start_time": "2023-12-21T14:42:06.907Z"
   },
   {
    "duration": 30,
    "start_time": "2023-12-21T14:42:06.959Z"
   },
   {
    "duration": 47,
    "start_time": "2023-12-21T14:42:06.990Z"
   },
   {
    "duration": 42,
    "start_time": "2023-12-21T14:42:07.042Z"
   },
   {
    "duration": 34,
    "start_time": "2023-12-21T14:42:07.085Z"
   },
   {
    "duration": 2134,
    "start_time": "2023-12-21T14:42:07.121Z"
   },
   {
    "duration": 319,
    "start_time": "2023-12-21T14:42:09.257Z"
   },
   {
    "duration": 336,
    "start_time": "2023-12-21T14:42:09.578Z"
   },
   {
    "duration": 8,
    "start_time": "2023-12-21T14:42:09.916Z"
   },
   {
    "duration": 278,
    "start_time": "2023-12-21T14:42:09.926Z"
   },
   {
    "duration": 4,
    "start_time": "2023-12-21T14:42:10.206Z"
   },
   {
    "duration": 38,
    "start_time": "2023-12-21T14:42:10.211Z"
   },
   {
    "duration": 4591,
    "start_time": "2023-12-21T14:42:10.250Z"
   },
   {
    "duration": 7,
    "start_time": "2023-12-21T14:42:14.843Z"
   },
   {
    "duration": 1683,
    "start_time": "2023-12-21T14:42:14.852Z"
   },
   {
    "duration": 6,
    "start_time": "2023-12-21T14:42:16.537Z"
   },
   {
    "duration": 47,
    "start_time": "2023-12-21T14:42:16.544Z"
   },
   {
    "duration": 326,
    "start_time": "2023-12-21T14:42:16.592Z"
   },
   {
    "duration": 321,
    "start_time": "2023-12-21T14:42:16.920Z"
   },
   {
    "duration": 6,
    "start_time": "2023-12-21T14:42:17.242Z"
   },
   {
    "duration": 26,
    "start_time": "2023-12-21T14:42:17.250Z"
   },
   {
    "duration": 47,
    "start_time": "2023-12-21T14:42:17.278Z"
   },
   {
    "duration": 23,
    "start_time": "2023-12-21T14:42:17.327Z"
   },
   {
    "duration": 25,
    "start_time": "2023-12-21T14:42:17.351Z"
   },
   {
    "duration": 35,
    "start_time": "2023-12-21T14:42:17.378Z"
   },
   {
    "duration": 29,
    "start_time": "2023-12-21T14:42:17.415Z"
   },
   {
    "duration": 27,
    "start_time": "2023-12-21T14:42:17.446Z"
   },
   {
    "duration": 65,
    "start_time": "2023-12-21T14:42:17.476Z"
   },
   {
    "duration": 30,
    "start_time": "2023-12-21T14:42:17.542Z"
   },
   {
    "duration": 51,
    "start_time": "2023-12-21T14:42:17.574Z"
   },
   {
    "duration": 21,
    "start_time": "2023-12-21T14:42:17.627Z"
   },
   {
    "duration": 34,
    "start_time": "2023-12-21T14:42:17.650Z"
   },
   {
    "duration": 34,
    "start_time": "2023-12-21T14:42:17.685Z"
   },
   {
    "duration": 29,
    "start_time": "2023-12-21T14:42:17.721Z"
   },
   {
    "duration": 26,
    "start_time": "2023-12-21T14:42:17.751Z"
   },
   {
    "duration": 95,
    "start_time": "2023-12-21T14:42:17.778Z"
   },
   {
    "duration": 13,
    "start_time": "2023-12-21T14:42:17.875Z"
   },
   {
    "duration": 29,
    "start_time": "2023-12-21T14:42:17.890Z"
   },
   {
    "duration": 27,
    "start_time": "2023-12-21T14:42:17.921Z"
   },
   {
    "duration": 38,
    "start_time": "2023-12-21T14:42:17.949Z"
   },
   {
    "duration": 25,
    "start_time": "2023-12-21T14:42:17.989Z"
   },
   {
    "duration": 19,
    "start_time": "2023-12-21T14:42:18.016Z"
   },
   {
    "duration": 36,
    "start_time": "2023-12-21T14:42:18.037Z"
   },
   {
    "duration": 34,
    "start_time": "2023-12-21T14:42:18.075Z"
   },
   {
    "duration": 29,
    "start_time": "2023-12-21T14:42:18.111Z"
   },
   {
    "duration": 99141,
    "start_time": "2023-12-21T14:42:18.141Z"
   },
   {
    "duration": 5591,
    "start_time": "2023-12-21T14:43:57.283Z"
   },
   {
    "duration": 170,
    "start_time": "2023-12-21T14:44:02.970Z"
   },
   {
    "duration": 31861,
    "start_time": "2023-12-21T14:44:03.141Z"
   },
   {
    "duration": 4985,
    "start_time": "2023-12-21T14:44:35.003Z"
   },
   {
    "duration": 1584,
    "start_time": "2023-12-21T14:44:39.989Z"
   },
   {
    "duration": 4687,
    "start_time": "2023-12-21T14:44:41.664Z"
   },
   {
    "duration": 34518,
    "start_time": "2023-12-21T14:44:46.353Z"
   },
   {
    "duration": 95,
    "start_time": "2023-12-21T14:45:20.873Z"
   },
   {
    "duration": 450,
    "start_time": "2023-12-21T14:45:20.973Z"
   },
   {
    "duration": 15155,
    "start_time": "2023-12-21T14:45:21.424Z"
   },
   {
    "duration": 3461,
    "start_time": "2023-12-21T14:45:36.581Z"
   },
   {
    "duration": 31,
    "start_time": "2023-12-21T14:45:40.044Z"
   },
   {
    "duration": 509,
    "start_time": "2023-12-21T14:45:40.077Z"
   },
   {
    "duration": 267,
    "start_time": "2023-12-21T14:45:40.588Z"
   },
   {
    "duration": 3960,
    "start_time": "2023-12-21T14:45:40.856Z"
   },
   {
    "duration": 285,
    "start_time": "2023-12-21T14:45:44.817Z"
   },
   {
    "duration": 272,
    "start_time": "2023-12-21T14:45:45.103Z"
   },
   {
    "duration": 423,
    "start_time": "2023-12-21T14:45:45.377Z"
   },
   {
    "duration": 7,
    "start_time": "2023-12-21T14:45:45.801Z"
   },
   {
    "duration": 9082,
    "start_time": "2023-12-21T14:47:54.813Z"
   },
   {
    "duration": 8458,
    "start_time": "2023-12-21T14:48:03.897Z"
   },
   {
    "duration": 4,
    "start_time": "2023-12-21T14:48:12.357Z"
   },
   {
    "duration": 361,
    "start_time": "2023-12-21T14:48:12.363Z"
   },
   {
    "duration": 5,
    "start_time": "2023-12-21T14:48:12.726Z"
   },
   {
    "duration": 74,
    "start_time": "2023-12-21T14:48:12.733Z"
   },
   {
    "duration": 60,
    "start_time": "2023-12-21T14:48:12.809Z"
   },
   {
    "duration": 13,
    "start_time": "2023-12-21T14:48:12.871Z"
   },
   {
    "duration": 63,
    "start_time": "2023-12-21T14:48:12.886Z"
   },
   {
    "duration": 9,
    "start_time": "2023-12-21T14:48:12.952Z"
   },
   {
    "duration": 17,
    "start_time": "2023-12-21T14:48:12.963Z"
   },
   {
    "duration": 56,
    "start_time": "2023-12-21T14:48:12.982Z"
   },
   {
    "duration": 12,
    "start_time": "2023-12-21T14:48:13.040Z"
   },
   {
    "duration": 17,
    "start_time": "2023-12-21T14:48:13.054Z"
   },
   {
    "duration": 15,
    "start_time": "2023-12-21T14:48:13.072Z"
   },
   {
    "duration": 53,
    "start_time": "2023-12-21T14:48:13.088Z"
   },
   {
    "duration": 5,
    "start_time": "2023-12-21T14:48:13.142Z"
   },
   {
    "duration": 6,
    "start_time": "2023-12-21T14:48:13.149Z"
   },
   {
    "duration": 22,
    "start_time": "2023-12-21T14:48:13.156Z"
   },
   {
    "duration": 3,
    "start_time": "2023-12-21T14:48:13.179Z"
   },
   {
    "duration": 20,
    "start_time": "2023-12-21T14:48:13.183Z"
   },
   {
    "duration": 3,
    "start_time": "2023-12-21T14:48:13.205Z"
   },
   {
    "duration": 4421,
    "start_time": "2023-12-21T14:48:13.209Z"
   },
   {
    "duration": 4,
    "start_time": "2023-12-21T14:48:17.632Z"
   },
   {
    "duration": 39,
    "start_time": "2023-12-21T14:48:17.637Z"
   },
   {
    "duration": 52,
    "start_time": "2023-12-21T14:48:17.678Z"
   },
   {
    "duration": 30,
    "start_time": "2023-12-21T14:48:17.732Z"
   },
   {
    "duration": 340,
    "start_time": "2023-12-21T14:48:17.766Z"
   },
   {
    "duration": 325,
    "start_time": "2023-12-21T14:48:18.108Z"
   },
   {
    "duration": 7,
    "start_time": "2023-12-21T14:48:18.434Z"
   },
   {
    "duration": 37,
    "start_time": "2023-12-21T14:48:18.443Z"
   },
   {
    "duration": 48,
    "start_time": "2023-12-21T14:48:18.482Z"
   },
   {
    "duration": 37,
    "start_time": "2023-12-21T14:48:18.531Z"
   },
   {
    "duration": 17,
    "start_time": "2023-12-21T14:48:18.570Z"
   },
   {
    "duration": 31,
    "start_time": "2023-12-21T14:48:18.589Z"
   },
   {
    "duration": 57,
    "start_time": "2023-12-21T14:48:18.622Z"
   },
   {
    "duration": 5,
    "start_time": "2023-12-21T14:48:18.680Z"
   },
   {
    "duration": 42,
    "start_time": "2023-12-21T14:48:18.687Z"
   },
   {
    "duration": 27,
    "start_time": "2023-12-21T14:48:18.730Z"
   },
   {
    "duration": 38,
    "start_time": "2023-12-21T14:48:18.758Z"
   },
   {
    "duration": 34,
    "start_time": "2023-12-21T14:48:18.798Z"
   },
   {
    "duration": 24,
    "start_time": "2023-12-21T14:48:18.834Z"
   },
   {
    "duration": 2155,
    "start_time": "2023-12-21T14:48:18.860Z"
   },
   {
    "duration": 348,
    "start_time": "2023-12-21T14:48:21.017Z"
   },
   {
    "duration": 345,
    "start_time": "2023-12-21T14:48:21.367Z"
   },
   {
    "duration": 8,
    "start_time": "2023-12-21T14:48:21.714Z"
   },
   {
    "duration": 282,
    "start_time": "2023-12-21T14:48:21.724Z"
   },
   {
    "duration": 4,
    "start_time": "2023-12-21T14:48:22.007Z"
   },
   {
    "duration": 25,
    "start_time": "2023-12-21T14:48:22.013Z"
   },
   {
    "duration": 4760,
    "start_time": "2023-12-21T14:48:22.040Z"
   },
   {
    "duration": 8,
    "start_time": "2023-12-21T14:48:26.802Z"
   },
   {
    "duration": 1667,
    "start_time": "2023-12-21T14:48:26.811Z"
   },
   {
    "duration": 6,
    "start_time": "2023-12-21T14:48:28.480Z"
   },
   {
    "duration": 16,
    "start_time": "2023-12-21T14:48:28.488Z"
   },
   {
    "duration": 337,
    "start_time": "2023-12-21T14:48:28.506Z"
   },
   {
    "duration": 326,
    "start_time": "2023-12-21T14:48:28.845Z"
   },
   {
    "duration": 6,
    "start_time": "2023-12-21T14:48:29.173Z"
   },
   {
    "duration": 9,
    "start_time": "2023-12-21T14:48:29.180Z"
   },
   {
    "duration": 12,
    "start_time": "2023-12-21T14:48:29.190Z"
   },
   {
    "duration": 14,
    "start_time": "2023-12-21T14:48:29.203Z"
   },
   {
    "duration": 5,
    "start_time": "2023-12-21T14:48:29.219Z"
   },
   {
    "duration": 22,
    "start_time": "2023-12-21T14:48:29.225Z"
   },
   {
    "duration": 12,
    "start_time": "2023-12-21T14:48:29.249Z"
   },
   {
    "duration": 17,
    "start_time": "2023-12-21T14:48:29.263Z"
   },
   {
    "duration": 54,
    "start_time": "2023-12-21T14:48:29.282Z"
   },
   {
    "duration": 9,
    "start_time": "2023-12-21T14:48:29.338Z"
   },
   {
    "duration": 29,
    "start_time": "2023-12-21T14:48:29.348Z"
   },
   {
    "duration": 4,
    "start_time": "2023-12-21T14:48:29.379Z"
   },
   {
    "duration": 27,
    "start_time": "2023-12-21T14:48:29.385Z"
   },
   {
    "duration": 9,
    "start_time": "2023-12-21T14:48:29.423Z"
   },
   {
    "duration": 16,
    "start_time": "2023-12-21T14:48:29.434Z"
   },
   {
    "duration": 3,
    "start_time": "2023-12-21T14:48:29.452Z"
   },
   {
    "duration": 62,
    "start_time": "2023-12-21T14:48:29.456Z"
   },
   {
    "duration": 12,
    "start_time": "2023-12-21T14:48:29.520Z"
   },
   {
    "duration": 3,
    "start_time": "2023-12-21T14:48:29.534Z"
   },
   {
    "duration": 4,
    "start_time": "2023-12-21T14:48:29.539Z"
   },
   {
    "duration": 21,
    "start_time": "2023-12-21T14:48:29.545Z"
   },
   {
    "duration": 20,
    "start_time": "2023-12-21T14:48:29.568Z"
   },
   {
    "duration": 15,
    "start_time": "2023-12-21T14:48:29.590Z"
   },
   {
    "duration": 21,
    "start_time": "2023-12-21T14:48:29.607Z"
   },
   {
    "duration": 31,
    "start_time": "2023-12-21T14:48:29.630Z"
   },
   {
    "duration": 35,
    "start_time": "2023-12-21T14:48:29.667Z"
   },
   {
    "duration": 112466,
    "start_time": "2023-12-21T14:48:29.704Z"
   },
   {
    "duration": 5397,
    "start_time": "2023-12-21T14:50:22.172Z"
   },
   {
    "duration": 258,
    "start_time": "2023-12-21T14:50:27.572Z"
   },
   {
    "duration": 31966,
    "start_time": "2023-12-21T14:50:27.832Z"
   },
   {
    "duration": 5090,
    "start_time": "2023-12-21T14:50:59.800Z"
   },
   {
    "duration": 2075,
    "start_time": "2023-12-21T14:51:04.892Z"
   },
   {
    "duration": 4920,
    "start_time": "2023-12-21T14:51:06.968Z"
   },
   {
    "duration": 29679,
    "start_time": "2023-12-21T14:51:11.890Z"
   },
   {
    "duration": 94,
    "start_time": "2023-12-21T14:51:41.572Z"
   },
   {
    "duration": 357,
    "start_time": "2023-12-21T14:51:41.668Z"
   },
   {
    "duration": 14947,
    "start_time": "2023-12-21T14:51:42.026Z"
   },
   {
    "duration": 3430,
    "start_time": "2023-12-21T14:51:56.975Z"
   },
   {
    "duration": 29,
    "start_time": "2023-12-21T14:52:00.406Z"
   },
   {
    "duration": 657,
    "start_time": "2023-12-21T14:52:00.436Z"
   },
   {
    "duration": 260,
    "start_time": "2023-12-21T14:52:01.095Z"
   },
   {
    "duration": 3928,
    "start_time": "2023-12-21T14:52:01.357Z"
   },
   {
    "duration": 274,
    "start_time": "2023-12-21T14:52:05.287Z"
   },
   {
    "duration": 260,
    "start_time": "2023-12-21T14:52:05.565Z"
   },
   {
    "duration": 456,
    "start_time": "2023-12-21T14:52:05.826Z"
   },
   {
    "duration": 7,
    "start_time": "2023-12-21T14:52:06.283Z"
   }
  ],
  "kaggle": {
   "accelerator": "none",
   "dataSources": [],
   "dockerImageVersionId": 30626,
   "isGpuEnabled": false,
   "isInternetEnabled": true,
   "language": "python",
   "sourceType": "notebook"
  },
  "kernelspec": {
   "display_name": "Python 3 (ipykernel)",
   "language": "python",
   "name": "python3"
  },
  "language_info": {
   "codemirror_mode": {
    "name": "ipython",
    "version": 3
   },
   "file_extension": ".py",
   "mimetype": "text/x-python",
   "name": "python",
   "nbconvert_exporter": "python",
   "pygments_lexer": "ipython3",
   "version": "3.11.7"
  },
  "toc": {
   "base_numbering": 1,
   "nav_menu": {},
   "number_sections": true,
   "sideBar": true,
   "skip_h1_title": true,
   "title_cell": "Table of Contents",
   "title_sidebar": "Contents",
   "toc_cell": false,
   "toc_position": {
    "height": "calc(100% - 180px)",
    "left": "10px",
    "top": "150px",
    "width": "165px"
   },
   "toc_section_display": true,
   "toc_window_display": true
  }
 },
 "nbformat": 4,
 "nbformat_minor": 5
}
