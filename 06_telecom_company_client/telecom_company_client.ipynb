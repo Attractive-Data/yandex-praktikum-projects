{
 "cells": [
  {
   "cell_type": "markdown",
   "metadata": {},
   "source": [
    "# Рекомендация тарифов"
   ]
  },
  {
   "cell_type": "markdown",
   "metadata": {},
   "source": [
    "# Импорт библиотек"
   ]
  },
  {
   "cell_type": "code",
   "execution_count": 2,
   "metadata": {},
   "outputs": [],
   "source": [
    "import pandas as pd\n",
    "from sklearn.model_selection import train_test_split\n",
    "from matplotlib import pyplot as plt\n",
    "\n",
    "from sklearn.tree import DecisionTreeClassifier\n",
    "from sklearn.ensemble import RandomForestClassifier\n",
    "from sklearn.linear_model import LogisticRegression\n",
    "\n",
    "from sklearn.metrics import accuracy_score\n",
    "from sklearn.metrics import roc_curve\n",
    "from sklearn.metrics import auc\n",
    "\n",
    "from sklearn.dummy import DummyClassifier"
   ]
  },
  {
   "cell_type": "markdown",
   "metadata": {},
   "source": [
    "## Открытие и изучение файлов"
   ]
  },
  {
   "cell_type": "code",
   "execution_count": 3,
   "metadata": {},
   "outputs": [],
   "source": [
    "data = pd.read_csv('/datasets/users_behavior.csv')"
   ]
  },
  {
   "cell_type": "markdown",
   "metadata": {},
   "source": [
    "Проверим размер датасета"
   ]
  },
  {
   "cell_type": "code",
   "execution_count": 4,
   "metadata": {},
   "outputs": [
    {
     "data": {
      "text/plain": [
       "(3214, 5)"
      ]
     },
     "execution_count": 4,
     "metadata": {},
     "output_type": "execute_result"
    }
   ],
   "source": [
    "data.shape"
   ]
  },
  {
   "cell_type": "markdown",
   "metadata": {},
   "source": [
    "Проверим заголовки и содержимое"
   ]
  },
  {
   "cell_type": "code",
   "execution_count": 5,
   "metadata": {
    "scrolled": true
   },
   "outputs": [
    {
     "data": {
      "text/html": [
       "<div>\n",
       "<style scoped>\n",
       "    .dataframe tbody tr th:only-of-type {\n",
       "        vertical-align: middle;\n",
       "    }\n",
       "\n",
       "    .dataframe tbody tr th {\n",
       "        vertical-align: top;\n",
       "    }\n",
       "\n",
       "    .dataframe thead th {\n",
       "        text-align: right;\n",
       "    }\n",
       "</style>\n",
       "<table border=\"1\" class=\"dataframe\">\n",
       "  <thead>\n",
       "    <tr style=\"text-align: right;\">\n",
       "      <th></th>\n",
       "      <th>calls</th>\n",
       "      <th>minutes</th>\n",
       "      <th>messages</th>\n",
       "      <th>mb_used</th>\n",
       "      <th>is_ultra</th>\n",
       "    </tr>\n",
       "  </thead>\n",
       "  <tbody>\n",
       "    <tr>\n",
       "      <th>0</th>\n",
       "      <td>40.0</td>\n",
       "      <td>311.90</td>\n",
       "      <td>83.0</td>\n",
       "      <td>19915.42</td>\n",
       "      <td>0</td>\n",
       "    </tr>\n",
       "    <tr>\n",
       "      <th>1</th>\n",
       "      <td>85.0</td>\n",
       "      <td>516.75</td>\n",
       "      <td>56.0</td>\n",
       "      <td>22696.96</td>\n",
       "      <td>0</td>\n",
       "    </tr>\n",
       "    <tr>\n",
       "      <th>2</th>\n",
       "      <td>77.0</td>\n",
       "      <td>467.66</td>\n",
       "      <td>86.0</td>\n",
       "      <td>21060.45</td>\n",
       "      <td>0</td>\n",
       "    </tr>\n",
       "    <tr>\n",
       "      <th>3</th>\n",
       "      <td>106.0</td>\n",
       "      <td>745.53</td>\n",
       "      <td>81.0</td>\n",
       "      <td>8437.39</td>\n",
       "      <td>1</td>\n",
       "    </tr>\n",
       "    <tr>\n",
       "      <th>4</th>\n",
       "      <td>66.0</td>\n",
       "      <td>418.74</td>\n",
       "      <td>1.0</td>\n",
       "      <td>14502.75</td>\n",
       "      <td>0</td>\n",
       "    </tr>\n",
       "  </tbody>\n",
       "</table>\n",
       "</div>"
      ],
      "text/plain": [
       "   calls  minutes  messages   mb_used  is_ultra\n",
       "0   40.0   311.90      83.0  19915.42         0\n",
       "1   85.0   516.75      56.0  22696.96         0\n",
       "2   77.0   467.66      86.0  21060.45         0\n",
       "3  106.0   745.53      81.0   8437.39         1\n",
       "4   66.0   418.74       1.0  14502.75         0"
      ]
     },
     "execution_count": 5,
     "metadata": {},
     "output_type": "execute_result"
    }
   ],
   "source": [
    "data.head()"
   ]
  },
  {
   "cell_type": "markdown",
   "metadata": {},
   "source": [
    "Проверим типы данных"
   ]
  },
  {
   "cell_type": "code",
   "execution_count": 6,
   "metadata": {},
   "outputs": [
    {
     "name": "stdout",
     "output_type": "stream",
     "text": [
      "<class 'pandas.core.frame.DataFrame'>\n",
      "RangeIndex: 3214 entries, 0 to 3213\n",
      "Data columns (total 5 columns):\n",
      " #   Column    Non-Null Count  Dtype  \n",
      "---  ------    --------------  -----  \n",
      " 0   calls     3214 non-null   float64\n",
      " 1   minutes   3214 non-null   float64\n",
      " 2   messages  3214 non-null   float64\n",
      " 3   mb_used   3214 non-null   float64\n",
      " 4   is_ultra  3214 non-null   int64  \n",
      "dtypes: float64(4), int64(1)\n",
      "memory usage: 125.7 KB\n"
     ]
    }
   ],
   "source": [
    "data.info()"
   ]
  },
  {
   "cell_type": "markdown",
   "metadata": {},
   "source": [
    "Проверим общую своднуи информацию по данным"
   ]
  },
  {
   "cell_type": "code",
   "execution_count": 7,
   "metadata": {
    "scrolled": true
   },
   "outputs": [
    {
     "data": {
      "text/html": [
       "<div>\n",
       "<style scoped>\n",
       "    .dataframe tbody tr th:only-of-type {\n",
       "        vertical-align: middle;\n",
       "    }\n",
       "\n",
       "    .dataframe tbody tr th {\n",
       "        vertical-align: top;\n",
       "    }\n",
       "\n",
       "    .dataframe thead th {\n",
       "        text-align: right;\n",
       "    }\n",
       "</style>\n",
       "<table border=\"1\" class=\"dataframe\">\n",
       "  <thead>\n",
       "    <tr style=\"text-align: right;\">\n",
       "      <th></th>\n",
       "      <th>calls</th>\n",
       "      <th>minutes</th>\n",
       "      <th>messages</th>\n",
       "      <th>mb_used</th>\n",
       "      <th>is_ultra</th>\n",
       "    </tr>\n",
       "  </thead>\n",
       "  <tbody>\n",
       "    <tr>\n",
       "      <th>count</th>\n",
       "      <td>3214.000000</td>\n",
       "      <td>3214.000000</td>\n",
       "      <td>3214.000000</td>\n",
       "      <td>3214.000000</td>\n",
       "      <td>3214.000000</td>\n",
       "    </tr>\n",
       "    <tr>\n",
       "      <th>mean</th>\n",
       "      <td>63.038892</td>\n",
       "      <td>438.208787</td>\n",
       "      <td>38.281269</td>\n",
       "      <td>17207.673836</td>\n",
       "      <td>0.306472</td>\n",
       "    </tr>\n",
       "    <tr>\n",
       "      <th>std</th>\n",
       "      <td>33.236368</td>\n",
       "      <td>234.569872</td>\n",
       "      <td>36.148326</td>\n",
       "      <td>7570.968246</td>\n",
       "      <td>0.461100</td>\n",
       "    </tr>\n",
       "    <tr>\n",
       "      <th>min</th>\n",
       "      <td>0.000000</td>\n",
       "      <td>0.000000</td>\n",
       "      <td>0.000000</td>\n",
       "      <td>0.000000</td>\n",
       "      <td>0.000000</td>\n",
       "    </tr>\n",
       "    <tr>\n",
       "      <th>25%</th>\n",
       "      <td>40.000000</td>\n",
       "      <td>274.575000</td>\n",
       "      <td>9.000000</td>\n",
       "      <td>12491.902500</td>\n",
       "      <td>0.000000</td>\n",
       "    </tr>\n",
       "    <tr>\n",
       "      <th>50%</th>\n",
       "      <td>62.000000</td>\n",
       "      <td>430.600000</td>\n",
       "      <td>30.000000</td>\n",
       "      <td>16943.235000</td>\n",
       "      <td>0.000000</td>\n",
       "    </tr>\n",
       "    <tr>\n",
       "      <th>75%</th>\n",
       "      <td>82.000000</td>\n",
       "      <td>571.927500</td>\n",
       "      <td>57.000000</td>\n",
       "      <td>21424.700000</td>\n",
       "      <td>1.000000</td>\n",
       "    </tr>\n",
       "    <tr>\n",
       "      <th>max</th>\n",
       "      <td>244.000000</td>\n",
       "      <td>1632.060000</td>\n",
       "      <td>224.000000</td>\n",
       "      <td>49745.730000</td>\n",
       "      <td>1.000000</td>\n",
       "    </tr>\n",
       "  </tbody>\n",
       "</table>\n",
       "</div>"
      ],
      "text/plain": [
       "             calls      minutes     messages       mb_used     is_ultra\n",
       "count  3214.000000  3214.000000  3214.000000   3214.000000  3214.000000\n",
       "mean     63.038892   438.208787    38.281269  17207.673836     0.306472\n",
       "std      33.236368   234.569872    36.148326   7570.968246     0.461100\n",
       "min       0.000000     0.000000     0.000000      0.000000     0.000000\n",
       "25%      40.000000   274.575000     9.000000  12491.902500     0.000000\n",
       "50%      62.000000   430.600000    30.000000  16943.235000     0.000000\n",
       "75%      82.000000   571.927500    57.000000  21424.700000     1.000000\n",
       "max     244.000000  1632.060000   224.000000  49745.730000     1.000000"
      ]
     },
     "execution_count": 7,
     "metadata": {},
     "output_type": "execute_result"
    }
   ],
   "source": [
    "data.describe()"
   ]
  },
  {
   "cell_type": "code",
   "execution_count": 8,
   "metadata": {},
   "outputs": [
    {
     "data": {
      "image/png": "[encoded data removed]",
      "text/plain": [
       "<Figure size 1152x360 with 6 Axes>"
      ]
     },
     "metadata": {
      "needs_background": "light"
     },
     "output_type": "display_data"
    }
   ],
   "source": [
    "data.hist(figsize=(16,5))\n",
    "plt.show()"
   ]
  },
  {
   "cell_type": "markdown",
   "metadata": {},
   "source": [
    "Поменяем тип данных сообщений на целочисленный"
   ]
  },
  {
   "cell_type": "code",
   "execution_count": 9,
   "metadata": {},
   "outputs": [],
   "source": [
    "data['messages']=data['messages'].astype(\"int\")"
   ]
  },
  {
   "cell_type": "markdown",
   "metadata": {},
   "source": [
    "Проверим дубликаты"
   ]
  },
  {
   "cell_type": "code",
   "execution_count": 10,
   "metadata": {},
   "outputs": [
    {
     "data": {
      "text/plain": [
       "0"
      ]
     },
     "execution_count": 10,
     "metadata": {},
     "output_type": "execute_result"
    }
   ],
   "source": [
    "data.duplicated().sum()"
   ]
  },
  {
   "cell_type": "markdown",
   "metadata": {},
   "source": [
    "Данные содержат 3214 строк и 5 столбцов, все значения столбцов численные, сами данные отражают количество звонков, суммарную длительность звонков в минутах, количество sms-сообщений, израсходованный интернет-трафик в Мб, каким тарифом пользовался в течение месяца клиент."
   ]
  },
  {
   "cell_type": "markdown",
   "metadata": {},
   "source": [
    "## Разбивка данных на выборки"
   ]
  },
  {
   "cell_type": "markdown",
   "metadata": {},
   "source": [
    "Так как у нас нет тестовой выборки, разобьем общий датафрейм на и обучающую, валидационную и тестовую выборки в соотношении. 60 : 20 : 20"
   ]
  },
  {
   "cell_type": "code",
   "execution_count": 11,
   "metadata": {},
   "outputs": [],
   "source": [
    "data_train, data_test = train_test_split(data, test_size=0.4, random_state=12345)\n",
    "features = data_test.drop('is_ultra', axis=1)\n",
    "target = data_test['is_ultra']"
   ]
  },
  {
   "cell_type": "code",
   "execution_count": 12,
   "metadata": {},
   "outputs": [],
   "source": [
    "features_valid, features_test, target_valid, target_test = \\\n",
    "train_test_split(features, target, test_size=0.5, random_state=12345)"
   ]
  },
  {
   "cell_type": "code",
   "execution_count": 13,
   "metadata": {},
   "outputs": [],
   "source": [
    "features_train = data_train.drop('is_ultra', axis=1)\n",
    "target_train = data_train['is_ultra']"
   ]
  },
  {
   "cell_type": "code",
   "execution_count": 14,
   "metadata": {},
   "outputs": [
    {
     "name": "stdout",
     "output_type": "stream",
     "text": [
      "Размер обучающей выборки (1928, 4)\n",
      "Размер валидационной выборки (643, 4)\n",
      "Размер тестовой (643, 4)\n"
     ]
    }
   ],
   "source": [
    "print('Размер обучающей выборки',features_train.shape)\n",
    "print('Размер валидационной выборки',features_valid.shape)\n",
    "print('Размер тестовой',features_test.shape)"
   ]
  },
  {
   "cell_type": "markdown",
   "metadata": {},
   "source": [
    "## Исследование моделей"
   ]
  },
  {
   "cell_type": "markdown",
   "metadata": {},
   "source": [
    "Дерево решений"
   ]
  },
  {
   "cell_type": "code",
   "execution_count": 15,
   "metadata": {},
   "outputs": [
    {
     "name": "stdout",
     "output_type": "stream",
     "text": [
      "Лучшая лубина дерева: 3\n",
      "Accuracy: 0.7853810264385692\n"
     ]
    }
   ],
   "source": [
    "best_depth = 0\n",
    "best_accuracy = 0\n",
    "\n",
    "for depth in range(1,16):\n",
    "    model = DecisionTreeClassifier(max_depth=depth, random_state=12345)\n",
    "    model.fit(features_train, target_train)\n",
    "    accuracy = model.score(features_valid, target_valid)\n",
    "    if accuracy > best_accuracy:\n",
    "        best_accuracy = accuracy\n",
    "        best_depth = depth\n",
    "print(\"Лучшая лубина дерева:\", best_depth,)\n",
    "print(\"Accuracy:\", best_accuracy)"
   ]
  },
  {
   "cell_type": "markdown",
   "metadata": {},
   "source": [
    "Случайный лес"
   ]
  },
  {
   "cell_type": "code",
   "execution_count": 16,
   "metadata": {},
   "outputs": [
    {
     "name": "stdout",
     "output_type": "stream",
     "text": [
      "Лучшая глубина дерева: 6\n",
      "Лучшее количество деревьев: 35\n",
      "Лучший минимум объектов в узле: 2\n",
      "Accuracy: 0.8087091757387247\n"
     ]
    }
   ],
   "source": [
    "best_depth = 0\n",
    "best_accuracy = 0\n",
    "\n",
    "for depth in range(1,16):\n",
    "    for est in range(5,51,5):\n",
    "        for sample in range(2,5):\n",
    "            model = RandomForestClassifier(max_depth=depth, n_estimators=est, \n",
    "                                           min_samples_leaf=sample, random_state=12345)\n",
    "            model.fit(features_train, target_train)\n",
    "            accuracy = model.score(features_valid, target_valid)\n",
    "            if accuracy > best_accuracy:\n",
    "                best_accuracy = accuracy\n",
    "                best_depth = depth\n",
    "                best_est = est\n",
    "                best_sample = sample\n",
    "print(\"Лучшая глубина дерева:\", best_depth)\n",
    "print(\"Лучшее количество деревьев:\", best_est)\n",
    "print(\"Лучший минимум объектов в узле:\", best_sample)\n",
    "print(\"Accuracy:\", best_accuracy)"
   ]
  },
  {
   "cell_type": "markdown",
   "metadata": {},
   "source": [
    "Логистическая регрессия"
   ]
  },
  {
   "cell_type": "code",
   "execution_count": 17,
   "metadata": {},
   "outputs": [
    {
     "name": "stdout",
     "output_type": "stream",
     "text": [
      "Accuracy: 0.7107309486780715\n"
     ]
    }
   ],
   "source": [
    "model = LogisticRegression(solver='lbfgs')\n",
    "model.fit(features_train, target_train)\n",
    "accuracy = model.score(features_valid, target_valid)\n",
    "print(\"Accuracy:\", accuracy)"
   ]
  },
  {
   "cell_type": "markdown",
   "metadata": {},
   "source": [
    "Вывод:\n",
    "- Дерево решений : \n",
    "        Лучшая лубина дерева: 3\n",
    "        Accuracy: 0.7853810264385692\n",
    "- Случайный лес\n",
    "        Лучшая глубина дерева: 6\n",
    "        Лучшее количество деревьев: 35\n",
    "        Лучший минимум объектов в узле: 2\n",
    "        Accuracy: 0.8087091757387247\n",
    "- Логистическая регрессия:\n",
    "        Accuracy: 0.7107309486780715\n",
    "        \n",
    "Лучше всего показал себя случайный лес с параметрами, указанными выше."
   ]
  },
  {
   "cell_type": "markdown",
   "metadata": {},
   "source": [
    "## Проверка модели на тестовой выборке"
   ]
  },
  {
   "cell_type": "markdown",
   "metadata": {},
   "source": [
    "Проверим лучшую модель с лучшими гиперпараметрами на тестовой выборке"
   ]
  },
  {
   "cell_type": "markdown",
   "metadata": {},
   "source": [
    "Случайный лес"
   ]
  },
  {
   "cell_type": "code",
   "execution_count": 19,
   "metadata": {},
   "outputs": [
    {
     "name": "stdout",
     "output_type": "stream",
     "text": [
      "Accuracy: 0.7962674961119751\n"
     ]
    }
   ],
   "source": [
    "model = RandomForestClassifier(max_depth=6, n_estimators=35, min_samples_leaf=2, random_state=12345)\n",
    "model.fit(features_train, target_train)\n",
    "test_predict = model.predict(features_test)\n",
    "accuracy = accuracy_score(test_predict, target_test)\n",
    "print(\"Accuracy:\", accuracy)"
   ]
  },
  {
   "cell_type": "markdown",
   "metadata": {},
   "source": [
    "Вывод: Точность удовлетворяет условиям задачи."
   ]
  },
  {
   "cell_type": "markdown",
   "metadata": {},
   "source": [
    "## Проверка модели на адекватность"
   ]
  },
  {
   "cell_type": "code",
   "execution_count": 149,
   "metadata": {
    "scrolled": true
   },
   "outputs": [
    {
     "name": "stdout",
     "output_type": "stream",
     "text": [
      "Accuracy: 0.6842923794712286\n"
     ]
    }
   ],
   "source": [
    "model = LogisticRegression(solver='lbfgs')\n",
    "model.fit(features_train, target_train)\n",
    "accuracy = model.score(features_test, target_test)\n",
    "print(\"Accuracy:\", accuracy)"
   ]
  },
  {
   "cell_type": "code",
   "execution_count": null,
   "metadata": {},
   "outputs": [],
   "source": [
    "model = RandomForestClassifier(max_depth=6, n_estimators=35, min_samples_leaf=2, random_state=12345)\n",
    "model.fit(features_train, target_train)\n",
    "accuracy = model.score(features_test, target_test)\n",
    "print(\"Accuracy:\", accuracy)"
   ]
  },
  {
   "cell_type": "code",
   "execution_count": null,
   "metadata": {},
   "outputs": [],
   "source": [
    "dmb = DummyClassifier(strategy=\"stratified\" ,random_state=12345)\n",
    "dmb.fit(features_train, target_train)\n",
    "acc = dmb.score(features_test, target_test)\n",
    "print(\"Качество наивного прогноза :\", acc)\n",
    "print(\"Качество нашего прогноза :\", accuracy)"
   ]
  },
  {
   "cell_type": "code",
   "execution_count": null,
   "metadata": {},
   "outputs": [],
   "source": [
    "dmb = DummyClassifier(strategy='most_frequent', random_state=12345)\n",
    "dmb.fit(features_train, target_train)\n",
    "acc = dmb.score(features_test, target_test)\n",
    "print(\"Качество наивного прогноза :\", acc)\n",
    "print(\"Качество нашего прогноза :\", accuracy)"
   ]
  },
  {
   "cell_type": "code",
   "execution_count": null,
   "metadata": {},
   "outputs": [],
   "source": [
    "dmb = DummyClassifier(strategy='uniform', random_state=12345)\n",
    "dmb.fit(features_train, target_train)\n",
    "acc = dmb.score(features_test, target_test)\n",
    "print(\"Качество наивного прогноза :\", acc)\n",
    "print(\"Качество нашего прогноза :\", accuracy)"
   ]
  },
  {
   "cell_type": "code",
   "execution_count": null,
   "metadata": {},
   "outputs": [],
   "source": [
    "dmb = DummyClassifier(strategy='prior', random_state=12345)\n",
    "dmb.fit(features_train, target_train)\n",
    "acc = dmb.score(features_test, target_test)\n",
    "print(\"Качество наивного прогноза :\", acc)\n",
    "print(\"Качество нашего прогноза :\", accuracy)"
   ]
  },
  {
   "cell_type": "markdown",
   "metadata": {},
   "source": [
    "Вывод:\n",
    "    Были изучен и обработан датасет о поведении клиентов, на основе его проверены  3 модели: дерево решений, случайный лес и логистическая регрессия. Лучше всего себя показал случайный лес с параметрами : глубина дерева - 6,количество деревьев = 35, мин. обьектов в узле - 2. При этом доля правильных ответов составила 0,796 на тестовой выборке."
   ]
  }
 ],
 "metadata": {
  "ExecuteTimeLog": [
   {
    "duration": 345,
    "start_time": "2023-01-26T05:01:26.741Z"
   },
   {
    "duration": 54,
    "start_time": "2023-02-01T16:47:34.865Z"
   },
   {
    "duration": 386,
    "start_time": "2023-02-01T16:47:39.362Z"
   },
   {
    "duration": 81,
    "start_time": "2023-02-01T16:47:40.447Z"
   },
   {
    "duration": 17,
    "start_time": "2023-02-01T16:47:46.812Z"
   },
   {
    "duration": 5,
    "start_time": "2023-02-01T16:48:06.802Z"
   },
   {
    "duration": 4,
    "start_time": "2023-02-01T16:51:39.953Z"
   },
   {
    "duration": 804,
    "start_time": "2023-02-01T16:54:50.726Z"
   },
   {
    "duration": 9,
    "start_time": "2023-02-01T16:55:09.809Z"
   },
   {
    "duration": 4,
    "start_time": "2023-02-01T16:55:28.391Z"
   },
   {
    "duration": 28,
    "start_time": "2023-02-01T16:55:30.318Z"
   },
   {
    "duration": 4,
    "start_time": "2023-02-01T16:55:30.993Z"
   },
   {
    "duration": 10,
    "start_time": "2023-02-01T16:55:31.511Z"
   },
   {
    "duration": 5,
    "start_time": "2023-02-01T16:55:32.097Z"
   },
   {
    "duration": 3,
    "start_time": "2023-02-01T16:56:34.543Z"
   },
   {
    "duration": 10,
    "start_time": "2023-02-01T16:56:46.407Z"
   },
   {
    "duration": 3,
    "start_time": "2023-02-01T16:56:50.913Z"
   },
   {
    "duration": 5,
    "start_time": "2023-02-01T16:58:35.822Z"
   },
   {
    "duration": 3,
    "start_time": "2023-02-01T16:59:13.352Z"
   },
   {
    "duration": 13,
    "start_time": "2023-02-01T16:59:21.591Z"
   },
   {
    "duration": 11,
    "start_time": "2023-02-01T16:59:45.156Z"
   },
   {
    "duration": 7,
    "start_time": "2023-02-01T16:59:49.115Z"
   },
   {
    "duration": 15,
    "start_time": "2023-02-01T16:59:51.196Z"
   },
   {
    "duration": 8,
    "start_time": "2023-02-01T17:00:19.451Z"
   },
   {
    "duration": 24,
    "start_time": "2023-02-01T17:00:20.766Z"
   },
   {
    "duration": 4,
    "start_time": "2023-02-01T17:02:54.941Z"
   },
   {
    "duration": 34,
    "start_time": "2023-02-01T17:02:58.164Z"
   },
   {
    "duration": 19,
    "start_time": "2023-02-01T17:04:30.913Z"
   },
   {
    "duration": 14,
    "start_time": "2023-02-01T17:04:58.375Z"
   },
   {
    "duration": 5722,
    "start_time": "2023-02-01T17:05:01.462Z"
   },
   {
    "duration": 4,
    "start_time": "2023-02-01T17:06:09.818Z"
   },
   {
    "duration": 14,
    "start_time": "2023-02-01T17:06:14.217Z"
   },
   {
    "duration": 5926,
    "start_time": "2023-02-01T17:11:30.118Z"
   },
   {
    "duration": 20,
    "start_time": "2023-02-01T17:11:59.755Z"
   },
   {
    "duration": 5,
    "start_time": "2023-02-01T17:12:00.843Z"
   },
   {
    "duration": 16,
    "start_time": "2023-02-01T17:12:47.935Z"
   },
   {
    "duration": 4,
    "start_time": "2023-02-01T17:12:49.140Z"
   },
   {
    "duration": 165,
    "start_time": "2023-02-01T17:13:37.562Z"
   },
   {
    "duration": 24,
    "start_time": "2023-02-01T17:13:39.222Z"
   },
   {
    "duration": 170,
    "start_time": "2023-02-01T17:13:52.814Z"
   },
   {
    "duration": 210,
    "start_time": "2023-02-01T17:13:56.476Z"
   },
   {
    "duration": 19,
    "start_time": "2023-02-01T17:13:58.021Z"
   },
   {
    "duration": 20,
    "start_time": "2023-02-01T17:15:13.965Z"
   },
   {
    "duration": 6,
    "start_time": "2023-02-01T17:15:15.198Z"
   },
   {
    "duration": 4,
    "start_time": "2023-02-01T17:25:49.421Z"
   },
   {
    "duration": 25,
    "start_time": "2023-02-01T17:25:56.748Z"
   },
   {
    "duration": 26,
    "start_time": "2023-02-01T17:26:19.112Z"
   },
   {
    "duration": 90,
    "start_time": "2023-02-01T17:26:59.951Z"
   },
   {
    "duration": 10,
    "start_time": "2023-02-01T17:27:04.826Z"
   },
   {
    "duration": 7,
    "start_time": "2023-02-01T17:27:34.765Z"
   },
   {
    "duration": 12,
    "start_time": "2023-02-01T17:27:41.762Z"
   },
   {
    "duration": 11,
    "start_time": "2023-02-01T17:28:54.464Z"
   },
   {
    "duration": 27,
    "start_time": "2023-02-01T17:29:02.015Z"
   },
   {
    "duration": 1054,
    "start_time": "2023-02-01T17:35:04.924Z"
   },
   {
    "duration": 523,
    "start_time": "2023-02-01T17:35:26.029Z"
   },
   {
    "duration": 487,
    "start_time": "2023-02-01T17:39:27.833Z"
   },
   {
    "duration": 14,
    "start_time": "2023-02-01T17:39:43.745Z"
   },
   {
    "duration": 3,
    "start_time": "2023-02-01T17:39:47.014Z"
   },
   {
    "duration": 450,
    "start_time": "2023-02-01T17:39:51.173Z"
   },
   {
    "duration": 424,
    "start_time": "2023-02-01T17:40:22.594Z"
   },
   {
    "duration": 12,
    "start_time": "2023-02-01T17:40:46.112Z"
   },
   {
    "duration": 15,
    "start_time": "2023-02-01T17:40:51.004Z"
   },
   {
    "duration": 4,
    "start_time": "2023-02-01T17:41:01.464Z"
   },
   {
    "duration": 12,
    "start_time": "2023-02-01T17:41:11.969Z"
   },
   {
    "duration": 8,
    "start_time": "2023-02-01T17:41:18.610Z"
   },
   {
    "duration": 5,
    "start_time": "2023-02-01T17:43:24.371Z"
   },
   {
    "duration": 11,
    "start_time": "2023-02-01T17:43:27.596Z"
   },
   {
    "duration": 738,
    "start_time": "2023-02-01T17:43:31.894Z"
   },
   {
    "duration": 613,
    "start_time": "2023-02-01T17:43:46.022Z"
   },
   {
    "duration": 499,
    "start_time": "2023-02-01T17:43:52.717Z"
   },
   {
    "duration": 76,
    "start_time": "2023-02-01T17:44:26.723Z"
   },
   {
    "duration": 74,
    "start_time": "2023-02-01T17:47:20.209Z"
   },
   {
    "duration": 8,
    "start_time": "2023-02-01T17:50:51.727Z"
   },
   {
    "duration": 6,
    "start_time": "2023-02-01T17:51:29.238Z"
   },
   {
    "duration": 9,
    "start_time": "2023-02-01T17:51:29.943Z"
   },
   {
    "duration": 5,
    "start_time": "2023-02-01T17:51:36.668Z"
   },
   {
    "duration": 4,
    "start_time": "2023-02-01T17:51:53.071Z"
   },
   {
    "duration": 9,
    "start_time": "2023-02-01T17:52:06.726Z"
   },
   {
    "duration": 3,
    "start_time": "2023-02-01T17:52:17.841Z"
   },
   {
    "duration": 5,
    "start_time": "2023-02-01T17:53:13.469Z"
   },
   {
    "duration": 5,
    "start_time": "2023-02-01T17:53:49.150Z"
   },
   {
    "duration": 5,
    "start_time": "2023-02-01T17:54:34.426Z"
   },
   {
    "duration": 3,
    "start_time": "2023-02-01T17:54:36.806Z"
   },
   {
    "duration": 5,
    "start_time": "2023-02-01T17:54:37.335Z"
   },
   {
    "duration": 5,
    "start_time": "2023-02-01T17:54:40.006Z"
   },
   {
    "duration": 4,
    "start_time": "2023-02-01T17:54:40.084Z"
   },
   {
    "duration": 4,
    "start_time": "2023-02-01T17:54:40.286Z"
   },
   {
    "duration": 4,
    "start_time": "2023-02-01T17:54:40.679Z"
   },
   {
    "duration": 113,
    "start_time": "2023-02-01T17:59:16.236Z"
   },
   {
    "duration": 111,
    "start_time": "2023-02-01T17:59:42.603Z"
   },
   {
    "duration": 116,
    "start_time": "2023-02-01T18:01:13.211Z"
   },
   {
    "duration": 131,
    "start_time": "2023-02-01T18:01:28.593Z"
   },
   {
    "duration": 129,
    "start_time": "2023-02-01T18:01:33.581Z"
   },
   {
    "duration": 124,
    "start_time": "2023-02-01T18:01:40.025Z"
   },
   {
    "duration": 128,
    "start_time": "2023-02-01T18:01:45.579Z"
   },
   {
    "duration": 117,
    "start_time": "2023-02-01T18:02:01.950Z"
   },
   {
    "duration": 122,
    "start_time": "2023-02-01T18:02:21.633Z"
   },
   {
    "duration": 115424,
    "start_time": "2023-02-01T18:02:46.713Z"
   },
   {
    "duration": 115,
    "start_time": "2023-02-01T18:04:42.139Z"
   },
   {
    "duration": 23101,
    "start_time": "2023-02-01T18:06:59.557Z"
   },
   {
    "duration": 23154,
    "start_time": "2023-02-01T18:07:38.330Z"
   },
   {
    "duration": 26,
    "start_time": "2023-02-01T18:09:22.748Z"
   },
   {
    "duration": 139,
    "start_time": "2023-02-01T18:09:43.989Z"
   },
   {
    "duration": 117767,
    "start_time": "2023-02-01T18:10:10.205Z"
   },
   {
    "duration": 34244,
    "start_time": "2023-02-01T18:12:28.759Z"
   },
   {
    "duration": 117,
    "start_time": "2023-02-01T18:14:08.898Z"
   },
   {
    "duration": 11,
    "start_time": "2023-02-01T18:15:32.633Z"
   },
   {
    "duration": 95,
    "start_time": "2023-02-01T18:15:34.885Z"
   },
   {
    "duration": 26,
    "start_time": "2023-02-01T18:15:37.288Z"
   },
   {
    "duration": 72,
    "start_time": "2023-02-01T18:25:56.696Z"
   },
   {
    "duration": 10,
    "start_time": "2023-02-01T18:26:06.131Z"
   },
   {
    "duration": 9,
    "start_time": "2023-02-01T18:26:06.680Z"
   },
   {
    "duration": 4,
    "start_time": "2023-02-01T18:27:12.987Z"
   },
   {
    "duration": 6,
    "start_time": "2023-02-01T18:27:19.540Z"
   },
   {
    "duration": 5,
    "start_time": "2023-02-01T18:27:20.622Z"
   },
   {
    "duration": 7,
    "start_time": "2023-02-01T18:27:21.018Z"
   },
   {
    "duration": 6,
    "start_time": "2023-02-01T18:28:03.263Z"
   },
   {
    "duration": 12,
    "start_time": "2023-02-01T18:28:27.016Z"
   },
   {
    "duration": 11,
    "start_time": "2023-02-01T18:28:57.935Z"
   },
   {
    "duration": 8,
    "start_time": "2023-02-01T18:29:19.739Z"
   },
   {
    "duration": 5,
    "start_time": "2023-02-01T18:29:20.425Z"
   },
   {
    "duration": 6,
    "start_time": "2023-02-01T18:29:20.786Z"
   },
   {
    "duration": 6,
    "start_time": "2023-02-01T18:29:56.861Z"
   },
   {
    "duration": 6,
    "start_time": "2023-02-01T18:29:57.014Z"
   },
   {
    "duration": 5,
    "start_time": "2023-02-01T18:29:57.188Z"
   },
   {
    "duration": 9,
    "start_time": "2023-02-01T18:29:57.379Z"
   },
   {
    "duration": 92,
    "start_time": "2023-02-01T18:31:04.461Z"
   },
   {
    "duration": 6,
    "start_time": "2023-02-01T18:31:04.914Z"
   },
   {
    "duration": 6,
    "start_time": "2023-02-01T18:31:05.159Z"
   },
   {
    "duration": 6,
    "start_time": "2023-02-01T18:31:05.401Z"
   },
   {
    "duration": 6,
    "start_time": "2023-02-01T18:31:06.452Z"
   },
   {
    "duration": 4,
    "start_time": "2023-02-01T18:31:28.448Z"
   },
   {
    "duration": 26,
    "start_time": "2023-02-01T18:31:28.785Z"
   },
   {
    "duration": 4,
    "start_time": "2023-02-01T18:31:29.080Z"
   },
   {
    "duration": 10,
    "start_time": "2023-02-01T18:31:29.415Z"
   },
   {
    "duration": 10,
    "start_time": "2023-02-01T18:31:29.770Z"
   },
   {
    "duration": 24,
    "start_time": "2023-02-01T18:31:30.048Z"
   },
   {
    "duration": 463,
    "start_time": "2023-02-01T18:31:30.236Z"
   },
   {
    "duration": 4,
    "start_time": "2023-02-01T18:31:30.701Z"
   },
   {
    "duration": 6,
    "start_time": "2023-02-01T18:31:30.883Z"
   },
   {
    "duration": 7,
    "start_time": "2023-02-01T18:31:31.618Z"
   },
   {
    "duration": 5,
    "start_time": "2023-02-01T18:31:31.744Z"
   },
   {
    "duration": 4,
    "start_time": "2023-02-01T18:31:31.941Z"
   },
   {
    "duration": 4,
    "start_time": "2023-02-01T18:31:32.124Z"
   },
   {
    "duration": 110,
    "start_time": "2023-02-01T18:31:32.638Z"
   },
   {
    "duration": 34001,
    "start_time": "2023-02-01T18:31:32.970Z"
   },
   {
    "duration": 28,
    "start_time": "2023-02-01T18:32:06.972Z"
   },
   {
    "duration": 11,
    "start_time": "2023-02-01T18:32:07.001Z"
   },
   {
    "duration": 102,
    "start_time": "2023-02-01T18:32:07.013Z"
   },
   {
    "duration": 28,
    "start_time": "2023-02-01T18:32:07.117Z"
   },
   {
    "duration": 121,
    "start_time": "2023-02-01T18:32:07.146Z"
   },
   {
    "duration": 7,
    "start_time": "2023-02-01T18:32:07.269Z"
   },
   {
    "duration": 19,
    "start_time": "2023-02-01T18:32:07.278Z"
   },
   {
    "duration": 9,
    "start_time": "2023-02-01T18:32:07.298Z"
   },
   {
    "duration": 10,
    "start_time": "2023-02-01T18:32:07.309Z"
   },
   {
    "duration": 75,
    "start_time": "2023-02-01T18:33:00.201Z"
   },
   {
    "duration": 45,
    "start_time": "2023-02-02T17:00:14.655Z"
   },
   {
    "duration": 1504,
    "start_time": "2023-02-02T17:00:22.734Z"
   },
   {
    "duration": 124,
    "start_time": "2023-02-02T17:00:24.240Z"
   },
   {
    "duration": 5,
    "start_time": "2023-02-02T17:00:24.366Z"
   },
   {
    "duration": 19,
    "start_time": "2023-02-02T17:00:24.373Z"
   },
   {
    "duration": 13,
    "start_time": "2023-02-02T17:00:24.394Z"
   },
   {
    "duration": 21,
    "start_time": "2023-02-02T17:00:24.480Z"
   },
   {
    "duration": 475,
    "start_time": "2023-02-02T17:00:24.554Z"
   },
   {
    "duration": 3,
    "start_time": "2023-02-02T17:00:25.031Z"
   },
   {
    "duration": 16,
    "start_time": "2023-02-02T17:00:25.036Z"
   },
   {
    "duration": 7,
    "start_time": "2023-02-02T17:00:25.309Z"
   },
   {
    "duration": 8,
    "start_time": "2023-02-02T17:00:25.395Z"
   },
   {
    "duration": 4,
    "start_time": "2023-02-02T17:00:25.480Z"
   },
   {
    "duration": 4,
    "start_time": "2023-02-02T17:00:25.561Z"
   },
   {
    "duration": 124,
    "start_time": "2023-02-02T17:00:26.081Z"
   },
   {
    "duration": 32960,
    "start_time": "2023-02-02T17:00:26.232Z"
   },
   {
    "duration": 22,
    "start_time": "2023-02-02T17:00:59.195Z"
   },
   {
    "duration": 174,
    "start_time": "2023-02-02T17:00:59.219Z"
   },
   {
    "duration": 0,
    "start_time": "2023-02-02T17:00:59.395Z"
   },
   {
    "duration": 0,
    "start_time": "2023-02-02T17:00:59.396Z"
   },
   {
    "duration": 0,
    "start_time": "2023-02-02T17:00:59.397Z"
   },
   {
    "duration": 0,
    "start_time": "2023-02-02T17:00:59.398Z"
   },
   {
    "duration": 0,
    "start_time": "2023-02-02T17:00:59.399Z"
   },
   {
    "duration": 93,
    "start_time": "2023-02-02T17:05:30.764Z"
   }
  ],
  "kernelspec": {
   "display_name": "Python 3 (ipykernel)",
   "language": "python",
   "name": "python3"
  },
  "language_info": {
   "codemirror_mode": {
    "name": "ipython",
    "version": 3
   },
   "file_extension": ".py",
   "mimetype": "text/x-python",
   "name": "python",
   "nbconvert_exporter": "python",
   "pygments_lexer": "ipython3",
   "version": "3.11.7"
  },
  "toc": {
   "base_numbering": 1,
   "nav_menu": {},
   "number_sections": true,
   "sideBar": true,
   "skip_h1_title": true,
   "title_cell": "Table of Contents",
   "title_sidebar": "Contents",
   "toc_cell": false,
   "toc_position": {},
   "toc_section_display": true,
   "toc_window_display": false
  }
 },
 "nbformat": 4,
 "nbformat_minor": 4
}
