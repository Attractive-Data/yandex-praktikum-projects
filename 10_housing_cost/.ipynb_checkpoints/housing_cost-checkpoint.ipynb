{
 "cells": [
  {
   "cell_type": "markdown",
   "id": "GEqQaHzsZ_bA",
   "metadata": {
    "id": "GEqQaHzsZ_bA"
   },
   "source": [
    "## Предсказание стоимости жилья\n"
   ]
  },
  {
   "cell_type": "markdown",
   "id": "aa121087",
   "metadata": {},
   "source": [
    "### План проведения работы:"
   ]
  },
  {
   "cell_type": "markdown",
   "id": "c0d1a0cb",
   "metadata": {},
   "source": [
    "- `longitude` — широта;\n",
    "- `latitude` — долгота;\n",
    "- `housing_median_age` — медианный возраст жителей жилого массива;\n",
    "- `total_rooms` — общее количество комнат в домах жилого массива;\n",
    "- `total_bedrooms` — общее количество спален в домах жилого массива;\n",
    "- `population` — количество человек, которые проживают в жилом массиве;\n",
    "- `households` — количество домовладений в жилом массиве;\n",
    "- `median_income` — медианный доход жителей жилого массива;\n",
    "- `median_house_value` — медианная стоимость дома в жилом массиве;\n",
    "- `ocean_proximity` — близость к океану."
   ]
  },
  {
   "cell_type": "markdown",
   "id": "53871372",
   "metadata": {
    "id": "53871372"
   },
   "source": [
    "# Подготовка данных"
   ]
  },
  {
   "cell_type": "code",
   "execution_count": 41,
   "id": "0c986a54",
   "metadata": {},
   "outputs": [],
   "source": [
    "import pandas as pd \n",
    "import numpy as np\n",
    "import pyspark\n",
    "from pyspark.sql import SparkSession\n",
    "from pyspark.sql.types import *\n",
    "import pyspark.sql.functions as F\n",
    "\n",
    "RANDOM_SEED = 42 #ответ на главный вопрос жизни, вселенной и всего такого\n",
    "\n",
    "from pyspark.ml.feature import StringIndexer, VectorAssembler, StandardScaler\n",
    "from pyspark.ml.regression import LinearRegression\n",
    "from pyspark.ml.evaluation import RegressionEvaluator\n",
    "from pyspark.ml.evaluation import BinaryClassificationEvaluator, MulticlassClassificationEvaluator\n",
    "from pyspark.ml.feature import OneHotEncoder"
   ]
  },
  {
   "cell_type": "markdown",
   "id": "bd25b99a",
   "metadata": {},
   "source": [
    "#### Инициализируем локальную Spark-сессию."
   ]
  },
  {
   "cell_type": "code",
   "execution_count": 42,
   "id": "73e24997",
   "metadata": {},
   "outputs": [],
   "source": [
    "spark = SparkSession.builder \\\n",
    "                    .master(\"local\") \\\n",
    "                    .appName(\"California_Housing\") \\\n",
    "                    .getOrCreate()"
   ]
  },
  {
   "cell_type": "markdown",
   "id": "bdf669b9",
   "metadata": {},
   "source": [
    "#### Прочтем содержимое файла /datasets/housing.csv."
   ]
  },
  {
   "cell_type": "code",
   "execution_count": 43,
   "id": "6771a414",
   "metadata": {},
   "outputs": [
    {
     "name": "stdout",
     "output_type": "stream",
     "text": [
      "root\n",
      " |-- longitude: double (nullable = true)\n",
      " |-- latitude: double (nullable = true)\n",
      " |-- housing_median_age: double (nullable = true)\n",
      " |-- total_rooms: double (nullable = true)\n",
      " |-- total_bedrooms: double (nullable = true)\n",
      " |-- population: double (nullable = true)\n",
      " |-- households: double (nullable = true)\n",
      " |-- median_income: double (nullable = true)\n",
      " |-- median_house_value: double (nullable = true)\n",
      " |-- ocean_proximity: string (nullable = true)\n",
      "\n"
     ]
    }
   ],
   "source": [
    "df_housing = spark.read.option('header', 'true').csv('/datasets/housing.csv', inferSchema = True) \n",
    "df_housing.printSchema()"
   ]
  },
  {
   "cell_type": "markdown",
   "id": "9f3a61e6",
   "metadata": {},
   "source": [
    "В основном у столбцов тип данных число с плавающей точкой и хранят количественные данные, ктоме столбца ocean_proximity - у него строковый тип данных и он хранит категориальные данные."
   ]
  },
  {
   "cell_type": "code",
   "execution_count": 44,
   "id": "14fcc694",
   "metadata": {},
   "outputs": [
    {
     "name": "stdout",
     "output_type": "stream",
     "text": [
      "               column    type\n",
      "0           longitude  double\n",
      "1            latitude  double\n",
      "2  housing_median_age  double\n",
      "3         total_rooms  double\n",
      "4      total_bedrooms  double\n",
      "5          population  double\n",
      "6          households  double\n",
      "7       median_income  double\n",
      "8  median_house_value  double\n",
      "9     ocean_proximity  string\n"
     ]
    }
   ],
   "source": [
    "pandas_df_housing = pd.DataFrame(df_housing.dtypes, columns=['column', 'type']).head(10)\n",
    "print(pandas_df_housing)"
   ]
  },
  {
   "cell_type": "markdown",
   "id": "b65ef87f",
   "metadata": {},
   "source": [
    "Данные загруженны коректно."
   ]
  },
  {
   "cell_type": "code",
   "execution_count": 45,
   "id": "662f1398",
   "metadata": {},
   "outputs": [
    {
     "name": "stdout",
     "output_type": "stream",
     "text": [
      "+---------+--------+------------------+-----------+--------------+----------+----------+-------------+------------------+---------------+\n",
      "|longitude|latitude|housing_median_age|total_rooms|total_bedrooms|population|households|median_income|median_house_value|ocean_proximity|\n",
      "+---------+--------+------------------+-----------+--------------+----------+----------+-------------+------------------+---------------+\n",
      "|  -122.23|   37.88|              41.0|      880.0|         129.0|     322.0|     126.0|       8.3252|          452600.0|       NEAR BAY|\n",
      "|  -122.22|   37.86|              21.0|     7099.0|        1106.0|    2401.0|    1138.0|       8.3014|          358500.0|       NEAR BAY|\n",
      "|  -122.24|   37.85|              52.0|     1467.0|         190.0|     496.0|     177.0|       7.2574|          352100.0|       NEAR BAY|\n",
      "|  -122.25|   37.85|              52.0|     1274.0|         235.0|     558.0|     219.0|       5.6431|          341300.0|       NEAR BAY|\n",
      "|  -122.25|   37.85|              52.0|     1627.0|         280.0|     565.0|     259.0|       3.8462|          342200.0|       NEAR BAY|\n",
      "|  -122.25|   37.85|              52.0|      919.0|         213.0|     413.0|     193.0|       4.0368|          269700.0|       NEAR BAY|\n",
      "|  -122.25|   37.84|              52.0|     2535.0|         489.0|    1094.0|     514.0|       3.6591|          299200.0|       NEAR BAY|\n",
      "|  -122.25|   37.84|              52.0|     3104.0|         687.0|    1157.0|     647.0|         3.12|          241400.0|       NEAR BAY|\n",
      "|  -122.26|   37.84|              42.0|     2555.0|         665.0|    1206.0|     595.0|       2.0804|          226700.0|       NEAR BAY|\n",
      "|  -122.25|   37.84|              52.0|     3549.0|         707.0|    1551.0|     714.0|       3.6912|          261100.0|       NEAR BAY|\n",
      "+---------+--------+------------------+-----------+--------------+----------+----------+-------------+------------------+---------------+\n",
      "only showing top 10 rows\n",
      "\n"
     ]
    }
   ],
   "source": [
    "df_housing.show(10)"
   ]
  },
  {
   "cell_type": "code",
   "execution_count": 6,
   "id": "c1bec3d2",
   "metadata": {},
   "outputs": [
    {
     "name": "stderr",
     "output_type": "stream",
     "text": [
      "                                                                                \r"
     ]
    },
    {
     "data": {
      "text/html": [
       "<div>\n",
       "<style scoped>\n",
       "    .dataframe tbody tr th:only-of-type {\n",
       "        vertical-align: middle;\n",
       "    }\n",
       "\n",
       "    .dataframe tbody tr th {\n",
       "        vertical-align: top;\n",
       "    }\n",
       "\n",
       "    .dataframe thead th {\n",
       "        text-align: right;\n",
       "    }\n",
       "</style>\n",
       "<table border=\"1\" class=\"dataframe\">\n",
       "  <thead>\n",
       "    <tr style=\"text-align: right;\">\n",
       "      <th></th>\n",
       "      <th>summary</th>\n",
       "      <th>longitude</th>\n",
       "      <th>latitude</th>\n",
       "      <th>housing_median_age</th>\n",
       "      <th>total_rooms</th>\n",
       "      <th>total_bedrooms</th>\n",
       "      <th>population</th>\n",
       "      <th>households</th>\n",
       "      <th>median_income</th>\n",
       "      <th>median_house_value</th>\n",
       "      <th>ocean_proximity</th>\n",
       "    </tr>\n",
       "  </thead>\n",
       "  <tbody>\n",
       "    <tr>\n",
       "      <th>0</th>\n",
       "      <td>count</td>\n",
       "      <td>20640</td>\n",
       "      <td>20640</td>\n",
       "      <td>20640</td>\n",
       "      <td>20640</td>\n",
       "      <td>20433</td>\n",
       "      <td>20640</td>\n",
       "      <td>20640</td>\n",
       "      <td>20640</td>\n",
       "      <td>20640</td>\n",
       "      <td>20640</td>\n",
       "    </tr>\n",
       "    <tr>\n",
       "      <th>1</th>\n",
       "      <td>mean</td>\n",
       "      <td>-119.56970445736148</td>\n",
       "      <td>35.6318614341087</td>\n",
       "      <td>28.639486434108527</td>\n",
       "      <td>2635.7630813953488</td>\n",
       "      <td>537.8705525375618</td>\n",
       "      <td>1425.4767441860465</td>\n",
       "      <td>499.5396802325581</td>\n",
       "      <td>3.8706710029070246</td>\n",
       "      <td>206855.81690891474</td>\n",
       "      <td>None</td>\n",
       "    </tr>\n",
       "    <tr>\n",
       "      <th>2</th>\n",
       "      <td>stddev</td>\n",
       "      <td>2.003531723502584</td>\n",
       "      <td>2.135952397457101</td>\n",
       "      <td>12.58555761211163</td>\n",
       "      <td>2181.6152515827944</td>\n",
       "      <td>421.38507007403115</td>\n",
       "      <td>1132.46212176534</td>\n",
       "      <td>382.3297528316098</td>\n",
       "      <td>1.899821717945263</td>\n",
       "      <td>115395.61587441359</td>\n",
       "      <td>None</td>\n",
       "    </tr>\n",
       "    <tr>\n",
       "      <th>3</th>\n",
       "      <td>min</td>\n",
       "      <td>-124.35</td>\n",
       "      <td>32.54</td>\n",
       "      <td>1.0</td>\n",
       "      <td>2.0</td>\n",
       "      <td>1.0</td>\n",
       "      <td>3.0</td>\n",
       "      <td>1.0</td>\n",
       "      <td>0.4999</td>\n",
       "      <td>14999.0</td>\n",
       "      <td>&lt;1H OCEAN</td>\n",
       "    </tr>\n",
       "    <tr>\n",
       "      <th>4</th>\n",
       "      <td>max</td>\n",
       "      <td>-114.31</td>\n",
       "      <td>41.95</td>\n",
       "      <td>52.0</td>\n",
       "      <td>39320.0</td>\n",
       "      <td>6445.0</td>\n",
       "      <td>35682.0</td>\n",
       "      <td>6082.0</td>\n",
       "      <td>15.0001</td>\n",
       "      <td>500001.0</td>\n",
       "      <td>NEAR OCEAN</td>\n",
       "    </tr>\n",
       "  </tbody>\n",
       "</table>\n",
       "</div>"
      ],
      "text/plain": [
       "  summary            longitude           latitude  housing_median_age  \\\n",
       "0   count                20640              20640               20640   \n",
       "1    mean  -119.56970445736148   35.6318614341087  28.639486434108527   \n",
       "2  stddev    2.003531723502584  2.135952397457101   12.58555761211163   \n",
       "3     min              -124.35              32.54                 1.0   \n",
       "4     max              -114.31              41.95                52.0   \n",
       "\n",
       "          total_rooms      total_bedrooms          population  \\\n",
       "0               20640               20433               20640   \n",
       "1  2635.7630813953488   537.8705525375618  1425.4767441860465   \n",
       "2  2181.6152515827944  421.38507007403115    1132.46212176534   \n",
       "3                 2.0                 1.0                 3.0   \n",
       "4             39320.0              6445.0             35682.0   \n",
       "\n",
       "          households       median_income  median_house_value ocean_proximity  \n",
       "0              20640               20640               20640           20640  \n",
       "1  499.5396802325581  3.8706710029070246  206855.81690891474            None  \n",
       "2  382.3297528316098   1.899821717945263  115395.61587441359            None  \n",
       "3                1.0              0.4999             14999.0       <1H OCEAN  \n",
       "4             6082.0             15.0001            500001.0      NEAR OCEAN  "
      ]
     },
     "execution_count": 6,
     "metadata": {},
     "output_type": "execute_result"
    }
   ],
   "source": [
    "df_housing.describe().toPandas()"
   ]
  },
  {
   "cell_type": "markdown",
   "id": "0a9d4c45",
   "metadata": {},
   "source": [
    "В данных 20640 строк, на первый взгляд без выбросов."
   ]
  },
  {
   "cell_type": "markdown",
   "id": "faa180b1",
   "metadata": {},
   "source": [
    "#### Исследуем данные на наличие пропусков и заполните их, выбрав значения по своему усмотрению."
   ]
  },
  {
   "cell_type": "code",
   "execution_count": 7,
   "id": "702732b2",
   "metadata": {},
   "outputs": [
    {
     "name": "stdout",
     "output_type": "stream",
     "text": [
      "longitude 0\n",
      "latitude 0\n",
      "housing_median_age 0\n",
      "total_rooms 0\n",
      "total_bedrooms 207\n",
      "population 0\n",
      "households 0\n",
      "median_income 0\n",
      "median_house_value 0\n",
      "ocean_proximity 0\n"
     ]
    }
   ],
   "source": [
    "columns = df_housing.columns\n",
    "check_val = [None, np.nan]\n",
    "\n",
    "for column in columns:\n",
    "    print(column, df_housing.where(F.isnan(column) | F.col(column).isNull()).count())"
   ]
  },
  {
   "cell_type": "markdown",
   "id": "7ce64be2",
   "metadata": {},
   "source": [
    "Пропуски только в столбце total_bedrooms"
   ]
  },
  {
   "cell_type": "code",
   "execution_count": 8,
   "id": "432d5821",
   "metadata": {},
   "outputs": [],
   "source": [
    "#df_housing = df_housing.na.drop(subset='total_bedrooms')\n"
   ]
  },
  {
   "cell_type": "code",
   "execution_count": 9,
   "id": "768449dd",
   "metadata": {},
   "outputs": [
    {
     "name": "stdout",
     "output_type": "stream",
     "text": [
      "Среднее значение колонки total_bedrooms: 537.8705525375618\n"
     ]
    }
   ],
   "source": [
    "mean_total_bedrooms = df_housing.select(F.mean('total_bedrooms')).collect()[0][0]\n",
    "print('Среднее значение колонки total_bedrooms:', mean_total_bedrooms)"
   ]
  },
  {
   "cell_type": "code",
   "execution_count": 10,
   "id": "448f1905",
   "metadata": {},
   "outputs": [],
   "source": [
    "df_housing = df_housing.na.fill({'total_bedrooms': mean_total_bedrooms})"
   ]
  },
  {
   "cell_type": "code",
   "execution_count": 11,
   "id": "878eeeb7",
   "metadata": {},
   "outputs": [
    {
     "name": "stdout",
     "output_type": "stream",
     "text": [
      "longitude 0\n",
      "latitude 0\n",
      "housing_median_age 0\n",
      "total_rooms 0\n",
      "total_bedrooms 0\n",
      "population 0\n",
      "households 0\n",
      "median_income 0\n",
      "median_house_value 0\n",
      "ocean_proximity 0\n"
     ]
    }
   ],
   "source": [
    "columns = df_housing.columns\n",
    "check_val = [None, np.nan]\n",
    "\n",
    "for column in columns:\n",
    "    print(column, df_housing.where(F.isnan(column) | F.col(column).isNull()).count())"
   ]
  },
  {
   "cell_type": "markdown",
   "id": "e761156e",
   "metadata": {},
   "source": [
    "Больше пропусков нет."
   ]
  },
  {
   "cell_type": "markdown",
   "id": "0666b712",
   "metadata": {},
   "source": [
    "#### Преобразуем колонку с категориальными значениями техникой One hot encoding."
   ]
  },
  {
   "cell_type": "code",
   "execution_count": 12,
   "id": "75114044",
   "metadata": {},
   "outputs": [],
   "source": [
    "categorical_cols = ['ocean_proximity']\n",
    "numerical_cols  = ['longitude', 'latitude', 'housing_median_age', 'total_rooms', 'total_bedrooms', 'population', 'households',\n",
    "                  'median_income']\n",
    "target = 'median_house_value'"
   ]
  },
  {
   "cell_type": "markdown",
   "id": "63209f11",
   "metadata": {},
   "source": [
    "##### Метод StringIndexer"
   ]
  },
  {
   "cell_type": "code",
   "execution_count": 13,
   "id": "fcd0a528",
   "metadata": {},
   "outputs": [
    {
     "name": "stderr",
     "output_type": "stream",
     "text": [
      "                                                                                \r"
     ]
    },
    {
     "name": "stdout",
     "output_type": "stream",
     "text": [
      "+---------------+-------------------+\n",
      "|ocean_proximity|ocean_proximity_idx|\n",
      "+---------------+-------------------+\n",
      "|       NEAR BAY|                3.0|\n",
      "|       NEAR BAY|                3.0|\n",
      "|       NEAR BAY|                3.0|\n",
      "+---------------+-------------------+\n",
      "only showing top 3 rows\n",
      "\n"
     ]
    }
   ],
   "source": [
    "indexer = StringIndexer(inputCol='ocean_proximity', \n",
    "                        outputCol='ocean_proximity_idx')\n",
    "df_housing = indexer.fit(df_housing).transform(df_housing)\n",
    "cols = [c for c in df_housing.columns for i in categorical_cols if (c.startswith(i))]\n",
    "df_housing.select(cols).show(3) "
   ]
  },
  {
   "cell_type": "markdown",
   "id": "05494d27",
   "metadata": {},
   "source": [
    "Категориальный признак в столбце ocean_proximity пребразован из строковых в числовой."
   ]
  },
  {
   "cell_type": "markdown",
   "id": "737b0aad",
   "metadata": {},
   "source": [
    "##### Метод OneHotEncoding."
   ]
  },
  {
   "cell_type": "code",
   "execution_count": 14,
   "id": "5c425a29",
   "metadata": {},
   "outputs": [
    {
     "name": "stdout",
     "output_type": "stream",
     "text": [
      "+---------------+-------------------+-------------------+\n",
      "|ocean_proximity|ocean_proximity_idx|ocean_proximity_ohe|\n",
      "+---------------+-------------------+-------------------+\n",
      "|       NEAR BAY|                3.0|      (4,[3],[1.0])|\n",
      "|       NEAR BAY|                3.0|      (4,[3],[1.0])|\n",
      "|       NEAR BAY|                3.0|      (4,[3],[1.0])|\n",
      "+---------------+-------------------+-------------------+\n",
      "only showing top 3 rows\n",
      "\n"
     ]
    }
   ],
   "source": [
    "encoder = OneHotEncoder(inputCol='ocean_proximity_idx', \n",
    "                        outputCol='ocean_proximity_ohe')\n",
    "df_housing = encoder.fit(df_housing).transform(df_housing)\n",
    "cols = [c for c in df_housing.columns for i in categorical_cols if (c.startswith(i))]\n",
    "df_housing.select(cols).show(3) "
   ]
  },
  {
   "cell_type": "markdown",
   "id": "e500f16e",
   "metadata": {},
   "source": [
    "##### Метод VectorAssembler."
   ]
  },
  {
   "cell_type": "code",
   "execution_count": 15,
   "id": "9d02cfec",
   "metadata": {},
   "outputs": [],
   "source": [
    "categorical_assembler = \\\n",
    "        VectorAssembler(inputCols=[c+'_ohe' for c in categorical_cols],\n",
    "                        outputCol='categorical_features')\n",
    "df_housing = categorical_assembler.transform(df_housing) "
   ]
  },
  {
   "cell_type": "markdown",
   "id": "2315fb69",
   "metadata": {},
   "source": [
    "#### Преобразуем числовые признаки"
   ]
  },
  {
   "cell_type": "code",
   "execution_count": 16,
   "id": "4608689b",
   "metadata": {
    "scrolled": true
   },
   "outputs": [],
   "source": [
    "numerical_assembler = VectorAssembler(inputCols=numerical_cols,\n",
    "                                      outputCol='numerical_features')\n",
    "df_housing = numerical_assembler.transform(df_housing)"
   ]
  },
  {
   "cell_type": "code",
   "execution_count": 17,
   "id": "b5514515",
   "metadata": {},
   "outputs": [
    {
     "name": "stderr",
     "output_type": "stream",
     "text": [
      "                                                                                \r"
     ]
    }
   ],
   "source": [
    "standardScaler = StandardScaler(inputCol='numerical_features',\n",
    "                                outputCol='numerical_features_scaled')\n",
    "df_housing = standardScaler.fit(df_housing).transform(df_housing) "
   ]
  },
  {
   "cell_type": "markdown",
   "id": "041dee1a",
   "metadata": {},
   "source": [
    "Проверим результат:"
   ]
  },
  {
   "cell_type": "code",
   "execution_count": 18,
   "id": "2cf6a426",
   "metadata": {},
   "outputs": [
    {
     "name": "stdout",
     "output_type": "stream",
     "text": [
      "['longitude', 'latitude', 'housing_median_age', 'total_rooms', 'total_bedrooms', 'population', 'households', 'median_income', 'median_house_value', 'ocean_proximity', 'ocean_proximity_idx', 'ocean_proximity_ohe', 'categorical_features', 'numerical_features', 'numerical_features_scaled']\n"
     ]
    }
   ],
   "source": [
    "print(df_housing.columns)"
   ]
  },
  {
   "cell_type": "markdown",
   "id": "dde2f048",
   "metadata": {},
   "source": [
    "Соберем трансформированные категорийные и числовые признаки с помощью VectorAssembler:"
   ]
  },
  {
   "cell_type": "code",
   "execution_count": 19,
   "id": "f85ae82c",
   "metadata": {},
   "outputs": [
    {
     "name": "stdout",
     "output_type": "stream",
     "text": [
      "+--------------------+-------------------------+\n",
      "|categorical_features|numerical_features_scaled|\n",
      "+--------------------+-------------------------+\n",
      "|       (4,[3],[1.0])|     [-61.007269596069...|\n",
      "|       (4,[3],[1.0])|     [-61.002278409814...|\n",
      "|       (4,[3],[1.0])|     [-61.012260782324...|\n",
      "+--------------------+-------------------------+\n",
      "only showing top 3 rows\n",
      "\n"
     ]
    }
   ],
   "source": [
    "all_features = ['categorical_features','numerical_features_scaled']\n",
    "\n",
    "final_assembler = VectorAssembler(inputCols=all_features, \n",
    "                                  outputCol='features') \n",
    "df_housing = final_assembler.transform(df_housing)\n",
    "df_housing.select(all_features).show(3)"
   ]
  },
  {
   "cell_type": "code",
   "execution_count": 20,
   "id": "5c9a1594",
   "metadata": {},
   "outputs": [
    {
     "name": "stdout",
     "output_type": "stream",
     "text": [
      "+--------------------+------------------+\n",
      "|            features|median_house_value|\n",
      "+--------------------+------------------+\n",
      "|[0.0,0.0,0.0,1.0,...|          452600.0|\n",
      "|[0.0,0.0,0.0,1.0,...|          358500.0|\n",
      "|[0.0,0.0,0.0,1.0,...|          352100.0|\n",
      "+--------------------+------------------+\n",
      "only showing top 3 rows\n",
      "\n"
     ]
    }
   ],
   "source": [
    "df = df_housing.select(['features','median_house_value'])\n",
    "df.show(3)"
   ]
  },
  {
   "cell_type": "code",
   "execution_count": 21,
   "id": "2a8b7fe1",
   "metadata": {},
   "outputs": [
    {
     "name": "stdout",
     "output_type": "stream",
     "text": [
      "+-------------------------+------------------+\n",
      "|numerical_features_scaled|median_house_value|\n",
      "+-------------------------+------------------+\n",
      "|     [-61.007269596069...|          452600.0|\n",
      "|     [-61.002278409814...|          358500.0|\n",
      "|     [-61.012260782324...|          352100.0|\n",
      "+-------------------------+------------------+\n",
      "only showing top 3 rows\n",
      "\n"
     ]
    }
   ],
   "source": [
    "df_numerical = df_housing.select(['numerical_features_scaled','median_house_value'])\n",
    "df_numerical.show(3)"
   ]
  },
  {
   "cell_type": "markdown",
   "id": "89825292",
   "metadata": {},
   "source": [
    "**Вывод**\n",
    "- Проверили пропуски (найдено 207 пропусков в столбец total_bedrooms) и заменили пропуски на средние значения в столбце.\n",
    "- Преобразовали колонку с категориальными значениями техникой One hot encoding.\n",
    "- Преобразовали колонку с численными "
   ]
  },
  {
   "cell_type": "markdown",
   "id": "a29bac4b",
   "metadata": {},
   "source": [
    "# Обучение моделей"
   ]
  },
  {
   "cell_type": "markdown",
   "id": "f7e57e08",
   "metadata": {},
   "source": [
    "## Разделение на выборки"
   ]
  },
  {
   "cell_type": "markdown",
   "id": "0e01877c",
   "metadata": {},
   "source": [
    "Разделяем наш датасет на две части — выборку для обучения и выборку для тестирования качества модели."
   ]
  },
  {
   "cell_type": "code",
   "execution_count": 22,
   "id": "1934bc43",
   "metadata": {},
   "outputs": [
    {
     "name": "stderr",
     "output_type": "stream",
     "text": [
      "[Stage 58:>                                                         (0 + 1) / 1]\r"
     ]
    },
    {
     "name": "stdout",
     "output_type": "stream",
     "text": [
      "14509 6131\n"
     ]
    },
    {
     "name": "stderr",
     "output_type": "stream",
     "text": [
      "                                                                                \r"
     ]
    }
   ],
   "source": [
    "df_train, df_test = df.randomSplit([.7,.3], seed=RANDOM_SEED)\n",
    "print(df_train.count(), df_test.count())"
   ]
  },
  {
   "cell_type": "code",
   "execution_count": 23,
   "id": "f3af7cc4",
   "metadata": {},
   "outputs": [
    {
     "name": "stdout",
     "output_type": "stream",
     "text": [
      "14509 6131\n"
     ]
    }
   ],
   "source": [
    "df_num_train, df_num_test = df_numerical.randomSplit([.7,.3], seed=RANDOM_SEED)\n",
    "print(df_num_train.count(), df_num_test.count())"
   ]
  },
  {
   "cell_type": "markdown",
   "id": "09cdded1",
   "metadata": {},
   "source": [
    "### Обучение модели на всех данных из файла"
   ]
  },
  {
   "cell_type": "code",
   "execution_count": 24,
   "id": "d42f35c6",
   "metadata": {},
   "outputs": [
    {
     "name": "stderr",
     "output_type": "stream",
     "text": [
      "23/04/21 11:09:13 WARN BLAS: Failed to load implementation from: com.github.fommil.netlib.NativeSystemBLAS\n",
      "23/04/21 11:09:13 WARN BLAS: Failed to load implementation from: com.github.fommil.netlib.NativeRefBLAS\n",
      "                                                                                \r"
     ]
    }
   ],
   "source": [
    "lr = LinearRegression(featuresCol = 'features',labelCol='median_house_value', maxIter=10, regParam=0.2, elasticNetParam=0.6)\n",
    "lr_model = lr.fit(df_train)"
   ]
  },
  {
   "cell_type": "markdown",
   "id": "5fde2ffe",
   "metadata": {},
   "source": [
    "Подведем итог модели по набору обучающих данных и распечатаем некоторые показатели:"
   ]
  },
  {
   "cell_type": "code",
   "execution_count": 25,
   "id": "9cb075b1",
   "metadata": {},
   "outputs": [],
   "source": [
    "training_summary = lr_model.summary"
   ]
  },
  {
   "cell_type": "code",
   "execution_count": 26,
   "id": "fd1217de",
   "metadata": {},
   "outputs": [
    {
     "name": "stdout",
     "output_type": "stream",
     "text": [
      "RMSE на тренировочных данных: 69808.184078\n",
      "R2 на тренировочных данных: 0.633925\n",
      "MAE на тренировочных данных: 50521.073820\n"
     ]
    }
   ],
   "source": [
    "print(\"RMSE на тренировочных данных: %f\" % training_summary.rootMeanSquaredError)\n",
    "print(\"R2 на тренировочных данных: %f\" % training_summary.r2)\n",
    "print(\"MAE на тренировочных данных: %f\" % training_summary.meanAbsoluteError)"
   ]
  },
  {
   "cell_type": "markdown",
   "id": "01240e28",
   "metadata": {},
   "source": [
    "RMSE измеряет разницу между прогнозируемыми значениями по модели и фактическими значениями. Однако одно только RMSE не имеет смысла, пока мы не сравним с фактическим значением «median_house_value», таким как среднее, минимальное и максимальное"
   ]
  },
  {
   "cell_type": "code",
   "execution_count": 27,
   "id": "61ef7c7f",
   "metadata": {},
   "outputs": [
    {
     "name": "stdout",
     "output_type": "stream",
     "text": [
      "+-------+------------------+\n",
      "|summary|median_house_value|\n",
      "+-------+------------------+\n",
      "|  count|             14509|\n",
      "|   mean| 207246.7892342684|\n",
      "| stddev|115381.59958870789|\n",
      "|    min|           14999.0|\n",
      "|    max|          500001.0|\n",
      "+-------+------------------+\n",
      "\n"
     ]
    }
   ],
   "source": [
    "df_train.describe().show()"
   ]
  },
  {
   "cell_type": "markdown",
   "id": "cc11c322",
   "metadata": {},
   "source": [
    "После такого сравнения наша RMSE выглядит довольно хорошо."
   ]
  },
  {
   "cell_type": "code",
   "execution_count": 28,
   "id": "3d0ea33f",
   "metadata": {},
   "outputs": [
    {
     "name": "stdout",
     "output_type": "stream",
     "text": [
      "+------------------+------------------+--------------------+\n",
      "|        prediction|median_house_value|            features|\n",
      "+------------------+------------------+--------------------+\n",
      "|242267.81673128402|          300000.0|[0.0,0.0,0.0,0.0,...|\n",
      "|344266.39514970675|          414300.0|[0.0,0.0,0.0,1.0,...|\n",
      "| 306018.1537162665|          292200.0|[0.0,0.0,0.0,1.0,...|\n",
      "|  306535.072991314|          316300.0|[0.0,0.0,0.0,1.0,...|\n",
      "| 457704.1014488548|          500001.0|[0.0,0.0,0.0,1.0,...|\n",
      "+------------------+------------------+--------------------+\n",
      "only showing top 5 rows\n",
      "\n",
      "R2 на тестовых данных = 0.65026\n"
     ]
    }
   ],
   "source": [
    "lr_predictions = lr_model.transform(df_test)\n",
    "lr_predictions.select('prediction','median_house_value','features').show(5)\n",
    "lr_evaluator = RegressionEvaluator(predictionCol='prediction', \\\n",
    "                 labelCol='median_house_value',metricName='r2')\n",
    "print(\"R2 на тестовых данных = %g\" % lr_evaluator.evaluate(lr_predictions))"
   ]
  },
  {
   "cell_type": "code",
   "execution_count": 29,
   "id": "633ac85f",
   "metadata": {},
   "outputs": [
    {
     "name": "stderr",
     "output_type": "stream",
     "text": [
      "                                                                                \r"
     ]
    },
    {
     "name": "stdout",
     "output_type": "stream",
     "text": [
      "Среднеквадратическая ошибка (RMSE) на тестовой выборке = 68260\n"
     ]
    }
   ],
   "source": [
    "test_result = lr_model.evaluate(df_test)\n",
    "print(\"Среднеквадратическая ошибка (RMSE) на тестовой выборке = %g\" % test_result.rootMeanSquaredError)"
   ]
  },
  {
   "cell_type": "code",
   "execution_count": 30,
   "id": "40cbfd47",
   "metadata": {},
   "outputs": [
    {
     "name": "stdout",
     "output_type": "stream",
     "text": [
      "MAE на тестовых данных = 49888.3\n"
     ]
    }
   ],
   "source": [
    "lr_evaluator_mae = RegressionEvaluator(predictionCol='prediction', \\\n",
    "                 labelCol='median_house_value',metricName='mae')\n",
    "print(\"MAE на тестовых данных = %g\" % lr_evaluator_mae.evaluate(lr_predictions))"
   ]
  },
  {
   "cell_type": "markdown",
   "id": "ee11e8af",
   "metadata": {},
   "source": [
    "### Обучение модель только на числовых переменных"
   ]
  },
  {
   "cell_type": "code",
   "execution_count": 31,
   "id": "af4de597",
   "metadata": {},
   "outputs": [],
   "source": [
    "lr_num = LinearRegression(featuresCol = 'numerical_features_scaled', labelCol='median_house_value', maxIter=10, regParam=0.5, elasticNetParam=0.9)\n",
    "lr_model_num = lr_num.fit(df_num_train)"
   ]
  },
  {
   "cell_type": "code",
   "execution_count": 32,
   "id": "80620fac",
   "metadata": {},
   "outputs": [],
   "source": [
    "training_summary_num = lr_model_num.summary"
   ]
  },
  {
   "cell_type": "code",
   "execution_count": 33,
   "id": "5689df86",
   "metadata": {},
   "outputs": [
    {
     "name": "stdout",
     "output_type": "stream",
     "text": [
      "RMSE: 69749.772019\n"
     ]
    }
   ],
   "source": [
    "print(\"RMSE: %f\" % training_summary_num.rootMeanSquaredError)"
   ]
  },
  {
   "cell_type": "code",
   "execution_count": 34,
   "id": "477728d4",
   "metadata": {},
   "outputs": [
    {
     "name": "stdout",
     "output_type": "stream",
     "text": [
      "+-------+------------------+\n",
      "|summary|median_house_value|\n",
      "+-------+------------------+\n",
      "|  count|             14509|\n",
      "|   mean|205580.80998001242|\n",
      "| stddev|115026.89848308219|\n",
      "|    min|           14999.0|\n",
      "|    max|          500001.0|\n",
      "+-------+------------------+\n",
      "\n"
     ]
    }
   ],
   "source": [
    "df_num_train.describe().show()"
   ]
  },
  {
   "cell_type": "code",
   "execution_count": 35,
   "id": "9f3edddb",
   "metadata": {},
   "outputs": [
    {
     "name": "stdout",
     "output_type": "stream",
     "text": [
      "R2 на тренировочных данных: 0.632280\n"
     ]
    }
   ],
   "source": [
    "print(\"R2 на тренировочных данных: %f\" % training_summary_num.r2)"
   ]
  },
  {
   "cell_type": "code",
   "execution_count": 36,
   "id": "74d1aaf5",
   "metadata": {},
   "outputs": [
    {
     "name": "stdout",
     "output_type": "stream",
     "text": [
      "MAE на тренировочных данных: 50911.130985\n"
     ]
    }
   ],
   "source": [
    "print(\"MAE на тренировочных данных: %f\" % training_summary_num.meanAbsoluteError)"
   ]
  },
  {
   "cell_type": "code",
   "execution_count": 37,
   "id": "c226358a",
   "metadata": {},
   "outputs": [
    {
     "name": "stdout",
     "output_type": "stream",
     "text": [
      "+------------------+------------------+-------------------------+\n",
      "|        prediction|median_house_value|numerical_features_scaled|\n",
      "+------------------+------------------+-------------------------+\n",
      "|106875.20989484433|          103600.0|     [-62.040445150874...|\n",
      "|193894.03099082084|          106700.0|     [-62.005506847089...|\n",
      "| 80474.45119088236|           73200.0|     [-62.005506847089...|\n",
      "| 86239.45935887145|           78300.0|     [-62.000515660834...|\n",
      "|161029.11204810534|           90100.0|     [-61.985542102068...|\n",
      "+------------------+------------------+-------------------------+\n",
      "only showing top 5 rows\n",
      "\n",
      "R2 на тестовых данных = 0.623903\n"
     ]
    }
   ],
   "source": [
    "lr_predictions_num = lr_model_num.transform(df_num_test)\n",
    "lr_predictions_num.select('prediction','median_house_value','numerical_features_scaled').show(5)\n",
    "lr_evaluator_num = RegressionEvaluator(predictionCol='prediction', \\\n",
    "                 labelCol='median_house_value',metricName='r2')\n",
    "print(\"R2 на тестовых данных = %g\" % lr_evaluator_num.evaluate(lr_predictions_num))"
   ]
  },
  {
   "cell_type": "code",
   "execution_count": 38,
   "id": "fcb2280c",
   "metadata": {},
   "outputs": [
    {
     "name": "stdout",
     "output_type": "stream",
     "text": [
      "Среднеквадратическая ошибка (RMSE) на тестовых данных = 71266.4\n"
     ]
    },
    {
     "name": "stderr",
     "output_type": "stream",
     "text": [
      "                                                                                \r"
     ]
    }
   ],
   "source": [
    "test_result_num = lr_model_num.evaluate(df_num_test)\n",
    "print(\"Среднеквадратическая ошибка (RMSE) на тестовых данных = %g\" % test_result_num.rootMeanSquaredError)"
   ]
  },
  {
   "cell_type": "code",
   "execution_count": 39,
   "id": "39e3e45d",
   "metadata": {},
   "outputs": [
    {
     "name": "stdout",
     "output_type": "stream",
     "text": [
      "MAE на тестовых данных = 51487.5\n"
     ]
    }
   ],
   "source": [
    "lr_evaluator_num_mae = RegressionEvaluator(predictionCol='prediction', \\\n",
    "                 labelCol='median_house_value',metricName='mae')\n",
    "print(\"MAE на тестовых данных = %g\" % lr_evaluator_num_mae.evaluate(lr_predictions_num))"
   ]
  },
  {
   "cell_type": "markdown",
   "id": "74277743",
   "metadata": {},
   "source": [
    "# Анализ результатов"
   ]
  },
  {
   "cell_type": "markdown",
   "id": "c3910fb1",
   "metadata": {},
   "source": [
    "\n",
    "### При удалении пропусков\n",
    "\n",
    "**При построении модели линейной регрессии на всех данных были получены следующие результаты:**\n",
    "\n",
    "- RMSE\n",
    "    - на тренировочных данных = 69394.282630\n",
    "    - на тестовой выборке = 69694.6\n",
    "- R2\n",
    "    - на тренировочных данных = 0.643696\n",
    "    - на тестовых данных = 0.626811\n",
    "- MAE\n",
    "    - на тренировочных данных: 50618.862160\n",
    "    - на тестовых данных = 49829.8\n",
    "\n",
    "\n",
    "**При построении модели линейной регрессии только на числовых данных были получены следующие результаты:**\n",
    "\n",
    "- RMSE\n",
    "    - на обучающих данных = 69747.003721\n",
    "    - на тестовых данных = 69874\n",
    "- R2\n",
    "    - на тренировочных данных = 0.634815\n",
    "    - на тестовых данных = 0.633814\n",
    "- MAE\n",
    "    - на тренировочных данных: 50735.515295\n",
    "    - на тестовых данных = 51020.8"
   ]
  },
  {
   "cell_type": "markdown",
   "id": "aff919ed",
   "metadata": {},
   "source": [
    "### При замене пропусков средними \n",
    "\n",
    "**При построении модели линейной регрессии на всех данных были получены следующие результаты:**\n",
    "\n",
    "- RMSE\n",
    "    - на тренировочных данных = 69808.184078\n",
    "    - на тестовой выборке = 68260\n",
    "- R2\n",
    "    - на тренировочных данных = 0.643696\n",
    "    - на тестовых данных = 0.65026\n",
    "- MAE\n",
    "    - на тренировочных данных: 50521.073820\n",
    "    - на тестовых данных = 49888.3\n",
    "\n",
    "\n",
    "**При построении модели линейной регрессии только на числовых данных были получены следующие результаты:**\n",
    "\n",
    "- RMSE\n",
    "    - на обучающих данных = 69749.772019\n",
    "    - на тестовых данных = 71266.4\n",
    "- R2\n",
    "    - на тренировочных данных = 0.634815\n",
    "    - на тестовых данных = 0.623903\n",
    "- MAE\n",
    "    - на тренировочных данных: 50911.130985\n",
    "    - на тестовых данных = 51487.5"
   ]
  },
  {
   "cell_type": "markdown",
   "id": "1d3536fd",
   "metadata": {},
   "source": [
    "После замены пропусков метрики качества изменились, возможно они изменились еще из-за разбиения выборок на тестовую и обучающую, потому что количество вхождений элементов в выборку и их рандомизация тоже меняется. После замены изменения зафиксировались и отображены выше в виде всех значений метрик качетсва при удалении и при замене."
   ]
  }
 ],
 "metadata": {
  "ExecuteTimeLog": [
   {
    "duration": 10,
    "start_time": "2023-04-20T09:45:09.218Z"
   },
   {
    "duration": 4,
    "start_time": "2023-04-20T09:45:10.922Z"
   },
   {
    "duration": 16468,
    "start_time": "2023-04-20T09:45:37.695Z"
   },
   {
    "duration": 9673,
    "start_time": "2023-04-20T09:46:45.296Z"
   },
   {
    "duration": 766,
    "start_time": "2023-04-20T09:49:30.318Z"
   },
   {
    "duration": 1365,
    "start_time": "2023-04-20T09:50:22.592Z"
   },
   {
    "duration": 4189,
    "start_time": "2023-04-20T09:51:56.367Z"
   },
   {
    "duration": 11,
    "start_time": "2023-04-20T09:53:54.411Z"
   },
   {
    "duration": 11,
    "start_time": "2023-04-20T09:54:05.381Z"
   },
   {
    "duration": 77,
    "start_time": "2023-04-20T09:55:56.205Z"
   },
   {
    "duration": 356,
    "start_time": "2023-04-20T09:58:10.421Z"
   },
   {
    "duration": 1975,
    "start_time": "2023-04-20T09:58:28.911Z"
   },
   {
    "duration": 237,
    "start_time": "2023-04-20T09:58:37.323Z"
   },
   {
    "duration": 14,
    "start_time": "2023-04-20T09:58:46.970Z"
   },
   {
    "duration": 231,
    "start_time": "2023-04-20T09:58:50.935Z"
   },
   {
    "duration": 1178,
    "start_time": "2023-04-20T10:00:25.519Z"
   },
   {
    "duration": 641,
    "start_time": "2023-04-20T10:01:11.253Z"
   },
   {
    "duration": 400,
    "start_time": "2023-04-20T10:01:15.166Z"
   },
   {
    "duration": 55,
    "start_time": "2023-04-20T10:02:44.237Z"
   },
   {
    "duration": 433,
    "start_time": "2023-04-20T10:03:23.229Z"
   },
   {
    "duration": 347,
    "start_time": "2023-04-20T10:03:32.141Z"
   },
   {
    "duration": 8,
    "start_time": "2023-04-20T10:03:38.238Z"
   },
   {
    "duration": 696,
    "start_time": "2023-04-20T10:03:50.897Z"
   },
   {
    "duration": 9,
    "start_time": "2023-04-20T10:03:51.596Z"
   },
   {
    "duration": 16352,
    "start_time": "2023-04-20T10:03:51.606Z"
   },
   {
    "duration": 9899,
    "start_time": "2023-04-20T10:04:07.961Z"
   },
   {
    "duration": 706,
    "start_time": "2023-04-20T10:04:17.862Z"
   },
   {
    "duration": 1602,
    "start_time": "2023-04-20T10:04:18.570Z"
   },
   {
    "duration": 4799,
    "start_time": "2023-04-20T10:04:20.174Z"
   },
   {
    "duration": 888,
    "start_time": "2023-04-20T10:04:24.975Z"
   },
   {
    "duration": 1121,
    "start_time": "2023-04-20T10:04:25.865Z"
   },
   {
    "duration": 67,
    "start_time": "2023-04-20T10:04:26.989Z"
   },
   {
    "duration": 118,
    "start_time": "2023-04-20T10:04:27.058Z"
   },
   {
    "duration": 490,
    "start_time": "2023-04-20T10:04:27.178Z"
   },
   {
    "duration": 396,
    "start_time": "2023-04-20T10:04:27.669Z"
   },
   {
    "duration": 9,
    "start_time": "2023-04-20T10:04:28.067Z"
   },
   {
    "duration": 83,
    "start_time": "2023-04-20T10:05:02.731Z"
   },
   {
    "duration": 8,
    "start_time": "2023-04-20T10:05:07.509Z"
   },
   {
    "duration": 751,
    "start_time": "2023-04-20T10:05:31.045Z"
   },
   {
    "duration": 16681,
    "start_time": "2023-04-20T10:05:31.798Z"
   },
   {
    "duration": 9775,
    "start_time": "2023-04-20T10:05:48.481Z"
   },
   {
    "duration": 816,
    "start_time": "2023-04-20T10:05:58.259Z"
   },
   {
    "duration": 1392,
    "start_time": "2023-04-20T10:05:59.078Z"
   },
   {
    "duration": 4726,
    "start_time": "2023-04-20T10:06:00.472Z"
   },
   {
    "duration": 11,
    "start_time": "2023-04-20T10:06:05.257Z"
   },
   {
    "duration": 603,
    "start_time": "2023-04-20T10:06:05.270Z"
   },
   {
    "duration": 909,
    "start_time": "2023-04-20T10:06:05.875Z"
   },
   {
    "duration": 1283,
    "start_time": "2023-04-20T10:06:06.786Z"
   },
   {
    "duration": 9,
    "start_time": "2023-04-20T10:06:08.071Z"
   },
   {
    "duration": 588,
    "start_time": "2023-04-20T10:06:57.677Z"
   },
   {
    "duration": 248,
    "start_time": "2023-04-20T10:07:14.642Z"
   },
   {
    "duration": 31,
    "start_time": "2023-04-20T10:07:27.991Z"
   },
   {
    "duration": 998,
    "start_time": "2023-04-20T10:07:41.738Z"
   },
   {
    "duration": 1598,
    "start_time": "2023-04-20T10:09:13.788Z"
   },
   {
    "duration": 751,
    "start_time": "2023-04-20T10:09:26.371Z"
   },
   {
    "duration": 91,
    "start_time": "2023-04-20T10:14:58.777Z"
   },
   {
    "duration": 454,
    "start_time": "2023-04-20T10:28:21.579Z"
   },
   {
    "duration": 18,
    "start_time": "2023-04-20T10:29:05.013Z"
   },
   {
    "duration": 9,
    "start_time": "2023-04-20T10:29:10.240Z"
   },
   {
    "duration": 952,
    "start_time": "2023-04-20T10:34:39.033Z"
   },
   {
    "duration": 16690,
    "start_time": "2023-04-20T10:34:39.987Z"
   },
   {
    "duration": 10194,
    "start_time": "2023-04-20T10:34:56.681Z"
   },
   {
    "duration": 798,
    "start_time": "2023-04-20T10:35:06.877Z"
   },
   {
    "duration": 1613,
    "start_time": "2023-04-20T10:35:07.682Z"
   },
   {
    "duration": 5113,
    "start_time": "2023-04-20T10:35:09.297Z"
   },
   {
    "duration": 51,
    "start_time": "2023-04-20T10:35:14.412Z"
   },
   {
    "duration": 433,
    "start_time": "2023-04-20T10:35:14.464Z"
   },
   {
    "duration": 1276,
    "start_time": "2023-04-20T10:35:14.898Z"
   },
   {
    "duration": 618,
    "start_time": "2023-04-20T10:35:16.176Z"
   },
   {
    "duration": 105,
    "start_time": "2023-04-20T10:35:16.797Z"
   },
   {
    "duration": 860,
    "start_time": "2023-04-20T10:35:16.904Z"
   },
   {
    "duration": 1342,
    "start_time": "2023-04-20T10:35:17.765Z"
   },
   {
    "duration": 925,
    "start_time": "2023-04-20T10:35:19.162Z"
   },
   {
    "duration": 108,
    "start_time": "2023-04-20T10:35:20.089Z"
   },
   {
    "duration": 1456,
    "start_time": "2023-04-20T11:56:15.197Z"
   },
   {
    "duration": 20146,
    "start_time": "2023-04-20T11:56:26.870Z"
   },
   {
    "duration": 8840,
    "start_time": "2023-04-20T11:56:47.019Z"
   },
   {
    "duration": 6,
    "start_time": "2023-04-20T12:09:29.017Z"
   },
   {
    "duration": 4,
    "start_time": "2023-04-20T12:09:40.673Z"
   },
   {
    "duration": 891,
    "start_time": "2023-04-20T12:09:53.299Z"
   },
   {
    "duration": 116,
    "start_time": "2023-04-20T12:10:30.829Z"
   },
   {
    "duration": 756,
    "start_time": "2023-04-20T12:10:48.851Z"
   },
   {
    "duration": 15276,
    "start_time": "2023-04-20T12:10:49.609Z"
   },
   {
    "duration": 9572,
    "start_time": "2023-04-20T12:11:04.887Z"
   },
   {
    "duration": 711,
    "start_time": "2023-04-20T12:11:14.461Z"
   },
   {
    "duration": 1328,
    "start_time": "2023-04-20T12:11:15.174Z"
   },
   {
    "duration": 4269,
    "start_time": "2023-04-20T12:11:16.504Z"
   },
   {
    "duration": 10,
    "start_time": "2023-04-20T12:11:20.776Z"
   },
   {
    "duration": 486,
    "start_time": "2023-04-20T12:11:20.788Z"
   },
   {
    "duration": 1598,
    "start_time": "2023-04-20T12:11:21.276Z"
   },
   {
    "duration": 505,
    "start_time": "2023-04-20T12:11:22.876Z"
   },
   {
    "duration": 100,
    "start_time": "2023-04-20T12:11:23.383Z"
   },
   {
    "duration": 903,
    "start_time": "2023-04-20T12:11:23.485Z"
   },
   {
    "duration": 1501,
    "start_time": "2023-04-20T12:11:24.389Z"
   },
   {
    "duration": 868,
    "start_time": "2023-04-20T12:11:25.892Z"
   },
   {
    "duration": 94,
    "start_time": "2023-04-20T12:11:26.762Z"
   },
   {
    "duration": 464,
    "start_time": "2023-04-20T12:14:06.672Z"
   },
   {
    "duration": 500,
    "start_time": "2023-04-20T12:14:23.469Z"
   },
   {
    "duration": 674,
    "start_time": "2023-04-20T12:14:37.934Z"
   },
   {
    "duration": 12,
    "start_time": "2023-04-20T12:14:50.390Z"
   },
   {
    "duration": 7,
    "start_time": "2023-04-20T12:15:10.428Z"
   },
   {
    "duration": 24,
    "start_time": "2023-04-20T12:16:40.817Z"
   },
   {
    "duration": 12,
    "start_time": "2023-04-20T12:18:36.648Z"
   },
   {
    "duration": 19,
    "start_time": "2023-04-20T12:18:45.732Z"
   },
   {
    "duration": 7,
    "start_time": "2023-04-20T12:18:54.682Z"
   },
   {
    "duration": 13,
    "start_time": "2023-04-20T12:20:31.684Z"
   },
   {
    "duration": 16,
    "start_time": "2023-04-20T12:21:09.607Z"
   },
   {
    "duration": 2,
    "start_time": "2023-04-20T12:22:00.414Z"
   },
   {
    "duration": 9,
    "start_time": "2023-04-20T12:22:00.878Z"
   },
   {
    "duration": 2,
    "start_time": "2023-04-20T12:22:24.785Z"
   },
   {
    "duration": 8,
    "start_time": "2023-04-20T12:22:33.567Z"
   },
   {
    "duration": 2,
    "start_time": "2023-04-20T12:23:12.304Z"
   },
   {
    "duration": 153,
    "start_time": "2023-04-20T12:23:22.661Z"
   },
   {
    "duration": 3,
    "start_time": "2023-04-20T12:23:32.530Z"
   },
   {
    "duration": 9,
    "start_time": "2023-04-20T12:23:44.249Z"
   },
   {
    "duration": 8,
    "start_time": "2023-04-20T12:24:03.013Z"
   },
   {
    "duration": 7,
    "start_time": "2023-04-20T12:24:23.249Z"
   },
   {
    "duration": 100,
    "start_time": "2023-04-20T12:24:55.508Z"
   },
   {
    "duration": 72,
    "start_time": "2023-04-20T12:24:59.032Z"
   },
   {
    "duration": 8,
    "start_time": "2023-04-20T12:25:10.861Z"
   },
   {
    "duration": 7,
    "start_time": "2023-04-20T12:25:27.574Z"
   },
   {
    "duration": 11,
    "start_time": "2023-04-20T12:25:40.537Z"
   },
   {
    "duration": 8,
    "start_time": "2023-04-20T12:27:05.389Z"
   },
   {
    "duration": 8,
    "start_time": "2023-04-20T12:27:17.447Z"
   },
   {
    "duration": 8,
    "start_time": "2023-04-20T12:27:24.460Z"
   },
   {
    "duration": 12,
    "start_time": "2023-04-20T12:28:13.744Z"
   },
   {
    "duration": 8,
    "start_time": "2023-04-20T12:28:21.103Z"
   },
   {
    "duration": 8,
    "start_time": "2023-04-20T12:29:39.730Z"
   },
   {
    "duration": 9,
    "start_time": "2023-04-20T12:29:46.951Z"
   },
   {
    "duration": 8,
    "start_time": "2023-04-20T12:30:04.704Z"
   },
   {
    "duration": 8,
    "start_time": "2023-04-20T12:30:25.473Z"
   },
   {
    "duration": 393,
    "start_time": "2023-04-20T12:30:51.986Z"
   },
   {
    "duration": 73,
    "start_time": "2023-04-20T12:31:04.506Z"
   },
   {
    "duration": 7,
    "start_time": "2023-04-20T12:31:50.084Z"
   },
   {
    "duration": 8,
    "start_time": "2023-04-20T12:31:59.001Z"
   },
   {
    "duration": 3,
    "start_time": "2023-04-20T12:44:54.615Z"
   },
   {
    "duration": 690,
    "start_time": "2023-04-20T12:45:32.409Z"
   },
   {
    "duration": 4,
    "start_time": "2023-04-20T12:46:25.505Z"
   },
   {
    "duration": 592,
    "start_time": "2023-04-20T12:46:27.902Z"
   },
   {
    "duration": 242,
    "start_time": "2023-04-20T12:46:30.526Z"
   },
   {
    "duration": 498,
    "start_time": "2023-04-20T12:46:32.414Z"
   },
   {
    "duration": 1374,
    "start_time": "2023-04-20T12:46:32.996Z"
   },
   {
    "duration": 8,
    "start_time": "2023-04-20T12:46:36.609Z"
   },
   {
    "duration": 241,
    "start_time": "2023-04-20T12:46:38.183Z"
   },
   {
    "duration": 209,
    "start_time": "2023-04-20T12:46:39.234Z"
   },
   {
    "duration": 237,
    "start_time": "2023-04-20T12:46:39.444Z"
   },
   {
    "duration": 17,
    "start_time": "2023-04-20T12:46:39.683Z"
   },
   {
    "duration": 537,
    "start_time": "2023-04-20T12:46:39.836Z"
   },
   {
    "duration": 2,
    "start_time": "2023-04-20T12:46:44.729Z"
   },
   {
    "duration": 13,
    "start_time": "2023-04-20T12:46:51.820Z"
   },
   {
    "duration": 1265,
    "start_time": "2023-04-20T12:47:05.601Z"
   },
   {
    "duration": 123,
    "start_time": "2023-04-20T12:47:14.036Z"
   },
   {
    "duration": 4,
    "start_time": "2023-04-20T12:49:02.536Z"
   },
   {
    "duration": 4,
    "start_time": "2023-04-20T12:49:04.750Z"
   },
   {
    "duration": 7,
    "start_time": "2023-04-20T12:49:28.056Z"
   },
   {
    "duration": 420,
    "start_time": "2023-04-20T12:50:09.087Z"
   },
   {
    "duration": 7,
    "start_time": "2023-04-20T12:50:28.647Z"
   },
   {
    "duration": 193,
    "start_time": "2023-04-20T12:50:48.276Z"
   },
   {
    "duration": 203,
    "start_time": "2023-04-20T12:51:31.266Z"
   },
   {
    "duration": 2807,
    "start_time": "2023-04-20T12:51:41.368Z"
   },
   {
    "duration": 1472,
    "start_time": "2023-04-20T12:52:14.088Z"
   },
   {
    "duration": 740,
    "start_time": "2023-04-20T12:52:27.256Z"
   },
   {
    "duration": 14888,
    "start_time": "2023-04-20T12:52:27.999Z"
   },
   {
    "duration": 8171,
    "start_time": "2023-04-20T12:52:42.889Z"
   },
   {
    "duration": 31,
    "start_time": "2023-04-20T12:52:51.065Z"
   },
   {
    "duration": 677,
    "start_time": "2023-04-20T12:52:51.098Z"
   },
   {
    "duration": 4312,
    "start_time": "2023-04-20T12:52:51.777Z"
   },
   {
    "duration": 4603,
    "start_time": "2023-04-20T12:52:56.090Z"
   },
   {
    "duration": 168,
    "start_time": "2023-04-20T12:53:00.694Z"
   },
   {
    "duration": 0,
    "start_time": "2023-04-20T12:53:00.867Z"
   },
   {
    "duration": 0,
    "start_time": "2023-04-20T12:53:00.869Z"
   },
   {
    "duration": 0,
    "start_time": "2023-04-20T12:53:00.870Z"
   },
   {
    "duration": 0,
    "start_time": "2023-04-20T12:53:00.871Z"
   },
   {
    "duration": 0,
    "start_time": "2023-04-20T12:53:00.872Z"
   },
   {
    "duration": 0,
    "start_time": "2023-04-20T12:53:00.873Z"
   },
   {
    "duration": 0,
    "start_time": "2023-04-20T12:53:00.874Z"
   },
   {
    "duration": 0,
    "start_time": "2023-04-20T12:53:00.875Z"
   },
   {
    "duration": 0,
    "start_time": "2023-04-20T12:53:00.876Z"
   },
   {
    "duration": 0,
    "start_time": "2023-04-20T12:53:00.877Z"
   },
   {
    "duration": 0,
    "start_time": "2023-04-20T12:53:00.878Z"
   },
   {
    "duration": 0,
    "start_time": "2023-04-20T12:53:00.879Z"
   },
   {
    "duration": 0,
    "start_time": "2023-04-20T12:53:00.880Z"
   },
   {
    "duration": 0,
    "start_time": "2023-04-20T12:53:00.880Z"
   },
   {
    "duration": 0,
    "start_time": "2023-04-20T12:53:00.881Z"
   },
   {
    "duration": 0,
    "start_time": "2023-04-20T12:53:00.882Z"
   },
   {
    "duration": 0,
    "start_time": "2023-04-20T12:53:00.883Z"
   },
   {
    "duration": 0,
    "start_time": "2023-04-20T12:53:00.884Z"
   },
   {
    "duration": 0,
    "start_time": "2023-04-20T12:53:00.885Z"
   },
   {
    "duration": 0,
    "start_time": "2023-04-20T12:53:00.886Z"
   },
   {
    "duration": 0,
    "start_time": "2023-04-20T12:53:00.887Z"
   },
   {
    "duration": 0,
    "start_time": "2023-04-20T12:53:00.888Z"
   },
   {
    "duration": 0,
    "start_time": "2023-04-20T12:53:00.889Z"
   },
   {
    "duration": 0,
    "start_time": "2023-04-20T12:53:00.890Z"
   },
   {
    "duration": 0,
    "start_time": "2023-04-20T12:53:00.891Z"
   },
   {
    "duration": 0,
    "start_time": "2023-04-20T12:53:00.892Z"
   },
   {
    "duration": 0,
    "start_time": "2023-04-20T12:53:00.893Z"
   },
   {
    "duration": 0,
    "start_time": "2023-04-20T12:53:00.894Z"
   },
   {
    "duration": 0,
    "start_time": "2023-04-20T12:53:00.895Z"
   },
   {
    "duration": 0,
    "start_time": "2023-04-20T12:53:00.896Z"
   },
   {
    "duration": 0,
    "start_time": "2023-04-20T12:53:00.897Z"
   },
   {
    "duration": 0,
    "start_time": "2023-04-20T12:53:00.898Z"
   },
   {
    "duration": 0,
    "start_time": "2023-04-20T12:53:00.899Z"
   },
   {
    "duration": 0,
    "start_time": "2023-04-20T12:53:00.960Z"
   },
   {
    "duration": 0,
    "start_time": "2023-04-20T12:53:00.961Z"
   },
   {
    "duration": 0,
    "start_time": "2023-04-20T12:53:00.962Z"
   },
   {
    "duration": 1193,
    "start_time": "2023-04-20T12:54:28.507Z"
   },
   {
    "duration": 680,
    "start_time": "2023-04-20T12:54:36.612Z"
   },
   {
    "duration": 14870,
    "start_time": "2023-04-20T12:54:37.294Z"
   },
   {
    "duration": 8624,
    "start_time": "2023-04-20T12:54:52.166Z"
   },
   {
    "duration": 94,
    "start_time": "2023-04-20T12:55:00.792Z"
   },
   {
    "duration": 687,
    "start_time": "2023-04-20T12:55:00.889Z"
   },
   {
    "duration": 4416,
    "start_time": "2023-04-20T12:55:01.578Z"
   },
   {
    "duration": 3964,
    "start_time": "2023-04-20T12:55:05.996Z"
   },
   {
    "duration": 74,
    "start_time": "2023-04-20T12:55:09.961Z"
   },
   {
    "duration": 0,
    "start_time": "2023-04-20T12:55:10.040Z"
   },
   {
    "duration": 0,
    "start_time": "2023-04-20T12:55:10.042Z"
   },
   {
    "duration": 0,
    "start_time": "2023-04-20T12:55:10.059Z"
   },
   {
    "duration": 0,
    "start_time": "2023-04-20T12:55:10.060Z"
   },
   {
    "duration": 0,
    "start_time": "2023-04-20T12:55:10.061Z"
   },
   {
    "duration": 0,
    "start_time": "2023-04-20T12:55:10.062Z"
   },
   {
    "duration": 0,
    "start_time": "2023-04-20T12:55:10.063Z"
   },
   {
    "duration": 0,
    "start_time": "2023-04-20T12:55:10.064Z"
   },
   {
    "duration": 0,
    "start_time": "2023-04-20T12:55:10.065Z"
   },
   {
    "duration": 0,
    "start_time": "2023-04-20T12:55:10.066Z"
   },
   {
    "duration": 0,
    "start_time": "2023-04-20T12:55:10.067Z"
   },
   {
    "duration": 0,
    "start_time": "2023-04-20T12:55:10.068Z"
   },
   {
    "duration": 0,
    "start_time": "2023-04-20T12:55:10.069Z"
   },
   {
    "duration": 0,
    "start_time": "2023-04-20T12:55:10.070Z"
   },
   {
    "duration": 0,
    "start_time": "2023-04-20T12:55:10.071Z"
   },
   {
    "duration": 0,
    "start_time": "2023-04-20T12:55:10.072Z"
   },
   {
    "duration": 0,
    "start_time": "2023-04-20T12:55:10.073Z"
   },
   {
    "duration": 0,
    "start_time": "2023-04-20T12:55:10.074Z"
   },
   {
    "duration": 0,
    "start_time": "2023-04-20T12:55:10.075Z"
   },
   {
    "duration": 0,
    "start_time": "2023-04-20T12:55:10.076Z"
   },
   {
    "duration": 0,
    "start_time": "2023-04-20T12:55:10.077Z"
   },
   {
    "duration": 0,
    "start_time": "2023-04-20T12:55:10.078Z"
   },
   {
    "duration": 0,
    "start_time": "2023-04-20T12:55:10.079Z"
   },
   {
    "duration": 0,
    "start_time": "2023-04-20T12:55:10.080Z"
   },
   {
    "duration": 0,
    "start_time": "2023-04-20T12:55:10.081Z"
   },
   {
    "duration": 0,
    "start_time": "2023-04-20T12:55:10.082Z"
   },
   {
    "duration": 0,
    "start_time": "2023-04-20T12:55:10.083Z"
   },
   {
    "duration": 0,
    "start_time": "2023-04-20T12:55:10.084Z"
   },
   {
    "duration": 0,
    "start_time": "2023-04-20T12:55:10.085Z"
   },
   {
    "duration": 0,
    "start_time": "2023-04-20T12:55:10.086Z"
   },
   {
    "duration": 0,
    "start_time": "2023-04-20T12:55:10.086Z"
   },
   {
    "duration": 0,
    "start_time": "2023-04-20T12:55:10.088Z"
   },
   {
    "duration": 0,
    "start_time": "2023-04-20T12:55:10.089Z"
   },
   {
    "duration": 0,
    "start_time": "2023-04-20T12:55:10.090Z"
   },
   {
    "duration": 0,
    "start_time": "2023-04-20T12:55:10.091Z"
   },
   {
    "duration": 0,
    "start_time": "2023-04-20T12:55:10.092Z"
   },
   {
    "duration": 1410,
    "start_time": "2023-04-20T12:55:29.073Z"
   },
   {
    "duration": 3079,
    "start_time": "2023-04-20T12:55:54.493Z"
   },
   {
    "duration": 3,
    "start_time": "2023-04-20T12:58:42.767Z"
   },
   {
    "duration": 1657,
    "start_time": "2023-04-20T12:59:28.773Z"
   },
   {
    "duration": 563,
    "start_time": "2023-04-20T12:59:48.304Z"
   },
   {
    "duration": 41,
    "start_time": "2023-04-20T13:00:19.238Z"
   },
   {
    "duration": 139,
    "start_time": "2023-04-20T13:00:47.419Z"
   },
   {
    "duration": 109,
    "start_time": "2023-04-20T13:35:47.576Z"
   },
   {
    "duration": 108,
    "start_time": "2023-04-20T13:38:35.610Z"
   },
   {
    "duration": 110,
    "start_time": "2023-04-20T13:38:46.879Z"
   },
   {
    "duration": 3,
    "start_time": "2023-04-20T13:42:15.282Z"
   },
   {
    "duration": 110,
    "start_time": "2023-04-20T13:42:21.097Z"
   },
   {
    "duration": 3,
    "start_time": "2023-04-20T13:44:02.184Z"
   },
   {
    "duration": 125,
    "start_time": "2023-04-20T13:44:04.291Z"
   },
   {
    "duration": 679,
    "start_time": "2023-04-20T13:44:16.924Z"
   },
   {
    "duration": 15384,
    "start_time": "2023-04-20T13:44:17.605Z"
   },
   {
    "duration": 8975,
    "start_time": "2023-04-20T13:44:32.992Z"
   },
   {
    "duration": 28,
    "start_time": "2023-04-20T13:44:41.971Z"
   },
   {
    "duration": 712,
    "start_time": "2023-04-20T13:44:42.059Z"
   },
   {
    "duration": 4008,
    "start_time": "2023-04-20T13:44:42.773Z"
   },
   {
    "duration": 4415,
    "start_time": "2023-04-20T13:44:46.783Z"
   },
   {
    "duration": 1612,
    "start_time": "2023-04-20T13:44:51.259Z"
   },
   {
    "duration": 3223,
    "start_time": "2023-04-20T13:44:52.873Z"
   },
   {
    "duration": 3,
    "start_time": "2023-04-20T13:44:56.098Z"
   },
   {
    "duration": 1763,
    "start_time": "2023-04-20T13:44:56.103Z"
   },
   {
    "duration": 608,
    "start_time": "2023-04-20T13:44:57.868Z"
   },
   {
    "duration": 102,
    "start_time": "2023-04-20T13:44:58.478Z"
   },
   {
    "duration": 94,
    "start_time": "2023-04-20T13:44:58.581Z"
   },
   {
    "duration": 1114,
    "start_time": "2023-04-20T13:44:58.677Z"
   },
   {
    "duration": 191,
    "start_time": "2023-04-20T13:44:59.793Z"
   },
   {
    "duration": 5,
    "start_time": "2023-04-20T13:47:12.943Z"
   },
   {
    "duration": 361,
    "start_time": "2023-04-20T13:47:44.213Z"
   },
   {
    "duration": 278,
    "start_time": "2023-04-20T13:48:54.488Z"
   },
   {
    "duration": 239,
    "start_time": "2023-04-20T13:49:42.683Z"
   },
   {
    "duration": 2719,
    "start_time": "2023-04-20T13:56:50.362Z"
   },
   {
    "duration": 1102,
    "start_time": "2023-04-20T13:58:23.065Z"
   },
   {
    "duration": 4472,
    "start_time": "2023-04-20T14:00:45.395Z"
   },
   {
    "duration": 5,
    "start_time": "2023-04-20T14:02:08.459Z"
   },
   {
    "duration": 5,
    "start_time": "2023-04-20T14:02:16.763Z"
   },
   {
    "duration": 754,
    "start_time": "2023-04-20T14:03:05.611Z"
   },
   {
    "duration": 1271,
    "start_time": "2023-04-20T14:03:26.008Z"
   },
   {
    "duration": 1321,
    "start_time": "2023-04-20T14:03:41.142Z"
   },
   {
    "duration": 481,
    "start_time": "2023-04-20T14:03:49.523Z"
   },
   {
    "duration": 1700,
    "start_time": "2023-04-20T14:13:02.313Z"
   },
   {
    "duration": 3,
    "start_time": "2023-04-20T14:13:13.059Z"
   },
   {
    "duration": 3,
    "start_time": "2023-04-20T14:13:21.912Z"
   },
   {
    "duration": 535,
    "start_time": "2023-04-20T14:13:30.290Z"
   },
   {
    "duration": 3,
    "start_time": "2023-04-20T14:13:41.927Z"
   },
   {
    "duration": 3,
    "start_time": "2023-04-20T14:14:06.724Z"
   },
   {
    "duration": 948,
    "start_time": "2023-04-20T14:14:16.419Z"
   },
   {
    "duration": 673,
    "start_time": "2023-04-20T14:14:38.897Z"
   },
   {
    "duration": 355,
    "start_time": "2023-04-20T14:14:47.474Z"
   },
   {
    "duration": 519,
    "start_time": "2023-04-20T14:14:50.764Z"
   },
   {
    "duration": 70,
    "start_time": "2023-04-20T14:24:09.787Z"
   },
   {
    "duration": 736,
    "start_time": "2023-04-20T14:31:58.861Z"
   },
   {
    "duration": 15305,
    "start_time": "2023-04-20T14:31:59.599Z"
   },
   {
    "duration": 8635,
    "start_time": "2023-04-20T14:32:14.959Z"
   },
   {
    "duration": 29,
    "start_time": "2023-04-20T14:32:23.662Z"
   },
   {
    "duration": 681,
    "start_time": "2023-04-20T14:32:23.692Z"
   },
   {
    "duration": 4204,
    "start_time": "2023-04-20T14:32:24.374Z"
   },
   {
    "duration": 4484,
    "start_time": "2023-04-20T14:32:28.580Z"
   },
   {
    "duration": 1697,
    "start_time": "2023-04-20T14:32:33.066Z"
   },
   {
    "duration": 3337,
    "start_time": "2023-04-20T14:32:34.765Z"
   },
   {
    "duration": 3,
    "start_time": "2023-04-20T14:32:38.104Z"
   },
   {
    "duration": 1956,
    "start_time": "2023-04-20T14:32:38.109Z"
   },
   {
    "duration": 559,
    "start_time": "2023-04-20T14:32:40.066Z"
   },
   {
    "duration": 39,
    "start_time": "2023-04-20T14:32:40.658Z"
   },
   {
    "duration": 35,
    "start_time": "2023-04-20T14:32:40.760Z"
   },
   {
    "duration": 1200,
    "start_time": "2023-04-20T14:32:40.860Z"
   },
   {
    "duration": 5,
    "start_time": "2023-04-20T14:32:42.061Z"
   },
   {
    "duration": 441,
    "start_time": "2023-04-20T14:32:42.068Z"
   },
   {
    "duration": 295,
    "start_time": "2023-04-20T14:32:42.511Z"
   },
   {
    "duration": 235,
    "start_time": "2023-04-20T14:32:42.859Z"
   },
   {
    "duration": 2470,
    "start_time": "2023-04-20T14:32:43.096Z"
   },
   {
    "duration": 1213,
    "start_time": "2023-04-20T14:32:45.568Z"
   },
   {
    "duration": 4482,
    "start_time": "2023-04-20T14:32:46.783Z"
   },
   {
    "duration": 5,
    "start_time": "2023-04-20T14:32:51.266Z"
   },
   {
    "duration": 8,
    "start_time": "2023-04-20T14:32:51.272Z"
   },
   {
    "duration": 806,
    "start_time": "2023-04-20T14:32:51.282Z"
   },
   {
    "duration": 1386,
    "start_time": "2023-04-20T14:32:52.090Z"
   },
   {
    "duration": 1204,
    "start_time": "2023-04-20T14:32:53.478Z"
   },
   {
    "duration": 576,
    "start_time": "2023-04-20T14:32:54.685Z"
   },
   {
    "duration": 1627,
    "start_time": "2023-04-20T14:32:55.262Z"
   },
   {
    "duration": 3,
    "start_time": "2023-04-20T14:32:56.891Z"
   },
   {
    "duration": 5,
    "start_time": "2023-04-20T14:32:56.896Z"
   },
   {
    "duration": 557,
    "start_time": "2023-04-20T14:32:56.902Z"
   },
   {
    "duration": 3,
    "start_time": "2023-04-20T14:32:57.461Z"
   },
   {
    "duration": 32,
    "start_time": "2023-04-20T14:32:57.466Z"
   },
   {
    "duration": 904,
    "start_time": "2023-04-20T14:32:57.500Z"
   },
   {
    "duration": 1062,
    "start_time": "2023-04-20T14:32:58.406Z"
   },
   {
    "duration": 393,
    "start_time": "2023-04-20T14:32:59.470Z"
   },
   {
    "duration": 16,
    "start_time": "2023-04-20T15:38:37.441Z"
   },
   {
    "duration": 742,
    "start_time": "2023-04-20T15:38:51.451Z"
   },
   {
    "duration": 15095,
    "start_time": "2023-04-20T15:38:52.194Z"
   },
   {
    "duration": 8614,
    "start_time": "2023-04-20T15:39:07.292Z"
   },
   {
    "duration": 105,
    "start_time": "2023-04-20T15:39:15.960Z"
   },
   {
    "duration": 699,
    "start_time": "2023-04-20T15:39:16.067Z"
   },
   {
    "duration": 4025,
    "start_time": "2023-04-20T15:39:16.768Z"
   },
   {
    "duration": 4164,
    "start_time": "2023-04-20T15:39:20.795Z"
   },
   {
    "duration": 21,
    "start_time": "2023-04-20T15:39:24.961Z"
   },
   {
    "duration": 3463,
    "start_time": "2023-04-20T15:39:24.984Z"
   },
   {
    "duration": 3,
    "start_time": "2023-04-20T15:39:28.460Z"
   },
   {
    "duration": 1761,
    "start_time": "2023-04-20T15:39:28.464Z"
   },
   {
    "duration": 680,
    "start_time": "2023-04-20T15:39:30.227Z"
   },
   {
    "duration": 169,
    "start_time": "2023-04-20T15:39:30.909Z"
   },
   {
    "duration": 90,
    "start_time": "2023-04-20T15:39:31.086Z"
   },
   {
    "duration": 1217,
    "start_time": "2023-04-20T15:39:31.178Z"
   },
   {
    "duration": 66,
    "start_time": "2023-04-20T15:39:32.397Z"
   },
   {
    "duration": 411,
    "start_time": "2023-04-20T15:39:32.466Z"
   },
   {
    "duration": 324,
    "start_time": "2023-04-20T15:39:32.879Z"
   },
   {
    "duration": 246,
    "start_time": "2023-04-20T15:39:33.259Z"
   },
   {
    "duration": 2682,
    "start_time": "2023-04-20T15:39:33.508Z"
   },
   {
    "duration": 1278,
    "start_time": "2023-04-20T15:39:36.191Z"
   },
   {
    "duration": 3429,
    "start_time": "2023-04-20T15:39:37.470Z"
   },
   {
    "duration": 5,
    "start_time": "2023-04-20T15:39:40.959Z"
   },
   {
    "duration": 10,
    "start_time": "2023-04-20T15:39:40.966Z"
   },
   {
    "duration": 805,
    "start_time": "2023-04-20T15:39:40.977Z"
   },
   {
    "duration": 1687,
    "start_time": "2023-04-20T15:39:41.784Z"
   },
   {
    "duration": 1126,
    "start_time": "2023-04-20T15:39:43.473Z"
   },
   {
    "duration": 581,
    "start_time": "2023-04-20T15:39:44.601Z"
   },
   {
    "duration": 1791,
    "start_time": "2023-04-20T15:39:45.184Z"
   },
   {
    "duration": 3,
    "start_time": "2023-04-20T15:39:46.977Z"
   },
   {
    "duration": 14,
    "start_time": "2023-04-20T15:39:46.982Z"
   },
   {
    "duration": 588,
    "start_time": "2023-04-20T15:39:46.998Z"
   },
   {
    "duration": 4,
    "start_time": "2023-04-20T15:39:47.587Z"
   },
   {
    "duration": 16,
    "start_time": "2023-04-20T15:39:47.659Z"
   },
   {
    "duration": 1015,
    "start_time": "2023-04-20T15:39:47.677Z"
   },
   {
    "duration": 795,
    "start_time": "2023-04-20T15:39:48.694Z"
   },
   {
    "duration": 413,
    "start_time": "2023-04-20T15:39:49.491Z"
   },
   {
    "duration": 987,
    "start_time": "2023-04-21T10:00:23.819Z"
   },
   {
    "duration": 23167,
    "start_time": "2023-04-21T10:00:24.808Z"
   },
   {
    "duration": 13081,
    "start_time": "2023-04-21T10:00:47.977Z"
   },
   {
    "duration": 72,
    "start_time": "2023-04-21T10:01:01.095Z"
   },
   {
    "duration": 1058,
    "start_time": "2023-04-21T10:01:01.169Z"
   },
   {
    "duration": 5879,
    "start_time": "2023-04-21T10:01:02.228Z"
   },
   {
    "duration": 5832,
    "start_time": "2023-04-21T10:01:08.116Z"
   },
   {
    "duration": 13,
    "start_time": "2023-04-21T10:01:13.950Z"
   },
   {
    "duration": 4000,
    "start_time": "2023-04-21T10:01:13.965Z"
   },
   {
    "duration": 3,
    "start_time": "2023-04-21T10:01:17.968Z"
   },
   {
    "duration": 2439,
    "start_time": "2023-04-21T10:01:17.993Z"
   },
   {
    "duration": 833,
    "start_time": "2023-04-21T10:01:20.434Z"
   },
   {
    "duration": 166,
    "start_time": "2023-04-21T10:01:21.269Z"
   },
   {
    "duration": 101,
    "start_time": "2023-04-21T10:01:21.449Z"
   },
   {
    "duration": 1815,
    "start_time": "2023-04-21T10:01:21.605Z"
   },
   {
    "duration": 15,
    "start_time": "2023-04-21T10:01:23.422Z"
   },
   {
    "duration": 566,
    "start_time": "2023-04-21T10:01:23.439Z"
   },
   {
    "duration": 397,
    "start_time": "2023-04-21T10:01:24.006Z"
   },
   {
    "duration": 395,
    "start_time": "2023-04-21T10:01:24.405Z"
   },
   {
    "duration": 3726,
    "start_time": "2023-04-21T10:01:24.802Z"
   },
   {
    "duration": 1984,
    "start_time": "2023-04-21T10:01:28.532Z"
   },
   {
    "duration": 7234,
    "start_time": "2023-04-21T10:01:30.517Z"
   },
   {
    "duration": 5,
    "start_time": "2023-04-21T10:01:37.753Z"
   },
   {
    "duration": 7,
    "start_time": "2023-04-21T10:01:37.793Z"
   },
   {
    "duration": 1451,
    "start_time": "2023-04-21T10:01:37.802Z"
   },
   {
    "duration": 1680,
    "start_time": "2023-04-21T10:01:39.260Z"
   },
   {
    "duration": 1526,
    "start_time": "2023-04-21T10:01:40.945Z"
   },
   {
    "duration": 629,
    "start_time": "2023-04-21T10:01:42.476Z"
   },
   {
    "duration": 2210,
    "start_time": "2023-04-21T10:01:43.106Z"
   },
   {
    "duration": 8,
    "start_time": "2023-04-21T10:01:45.318Z"
   },
   {
    "duration": 21,
    "start_time": "2023-04-21T10:01:45.328Z"
   },
   {
    "duration": 711,
    "start_time": "2023-04-21T10:01:45.350Z"
   },
   {
    "duration": 8,
    "start_time": "2023-04-21T10:01:46.096Z"
   },
   {
    "duration": 14,
    "start_time": "2023-04-21T10:01:46.120Z"
   },
   {
    "duration": 1630,
    "start_time": "2023-04-21T10:01:46.137Z"
   },
   {
    "duration": 1113,
    "start_time": "2023-04-21T10:01:47.796Z"
   },
   {
    "duration": 421,
    "start_time": "2023-04-21T10:01:48.914Z"
   },
   {
    "duration": 565,
    "start_time": "2023-04-21T10:03:53.288Z"
   },
   {
    "duration": 167,
    "start_time": "2023-04-21T10:15:30.975Z"
   },
   {
    "duration": 133,
    "start_time": "2023-04-21T10:17:33.532Z"
   },
   {
    "duration": 864,
    "start_time": "2023-04-21T10:41:04.726Z"
   },
   {
    "duration": 16550,
    "start_time": "2023-04-21T10:41:05.592Z"
   },
   {
    "duration": 9598,
    "start_time": "2023-04-21T10:41:22.145Z"
   },
   {
    "duration": 88,
    "start_time": "2023-04-21T10:41:31.748Z"
   },
   {
    "duration": 721,
    "start_time": "2023-04-21T10:41:31.838Z"
   },
   {
    "duration": 4305,
    "start_time": "2023-04-21T10:41:32.562Z"
   },
   {
    "duration": 4573,
    "start_time": "2023-04-21T10:41:36.869Z"
   },
   {
    "duration": 3,
    "start_time": "2023-04-21T10:41:41.444Z"
   },
   {
    "duration": 3194,
    "start_time": "2023-04-21T10:41:41.448Z"
   },
   {
    "duration": 4,
    "start_time": "2023-04-21T10:41:44.645Z"
   },
   {
    "duration": 1693,
    "start_time": "2023-04-21T10:41:44.651Z"
   },
   {
    "duration": 612,
    "start_time": "2023-04-21T10:41:46.346Z"
   },
   {
    "duration": 115,
    "start_time": "2023-04-21T10:41:46.961Z"
   },
   {
    "duration": 78,
    "start_time": "2023-04-21T10:41:47.078Z"
   },
   {
    "duration": 971,
    "start_time": "2023-04-21T10:41:47.158Z"
   },
   {
    "duration": 0,
    "start_time": "2023-04-21T10:41:48.132Z"
   },
   {
    "duration": 0,
    "start_time": "2023-04-21T10:41:48.134Z"
   },
   {
    "duration": 0,
    "start_time": "2023-04-21T10:41:48.136Z"
   },
   {
    "duration": 0,
    "start_time": "2023-04-21T10:41:48.138Z"
   },
   {
    "duration": 0,
    "start_time": "2023-04-21T10:41:48.139Z"
   },
   {
    "duration": 0,
    "start_time": "2023-04-21T10:41:48.141Z"
   },
   {
    "duration": 0,
    "start_time": "2023-04-21T10:41:48.143Z"
   },
   {
    "duration": 0,
    "start_time": "2023-04-21T10:41:48.145Z"
   },
   {
    "duration": 0,
    "start_time": "2023-04-21T10:41:48.146Z"
   },
   {
    "duration": 0,
    "start_time": "2023-04-21T10:41:48.148Z"
   },
   {
    "duration": 0,
    "start_time": "2023-04-21T10:41:48.151Z"
   },
   {
    "duration": 0,
    "start_time": "2023-04-21T10:41:48.153Z"
   },
   {
    "duration": 0,
    "start_time": "2023-04-21T10:41:48.154Z"
   },
   {
    "duration": 0,
    "start_time": "2023-04-21T10:41:48.157Z"
   },
   {
    "duration": 0,
    "start_time": "2023-04-21T10:41:48.159Z"
   },
   {
    "duration": 0,
    "start_time": "2023-04-21T10:41:48.160Z"
   },
   {
    "duration": 0,
    "start_time": "2023-04-21T10:41:48.162Z"
   },
   {
    "duration": 0,
    "start_time": "2023-04-21T10:41:48.163Z"
   },
   {
    "duration": 0,
    "start_time": "2023-04-21T10:41:48.165Z"
   },
   {
    "duration": 0,
    "start_time": "2023-04-21T10:41:48.166Z"
   },
   {
    "duration": 0,
    "start_time": "2023-04-21T10:41:48.168Z"
   },
   {
    "duration": 0,
    "start_time": "2023-04-21T10:41:48.169Z"
   },
   {
    "duration": 8,
    "start_time": "2023-04-21T10:59:35.860Z"
   },
   {
    "duration": 361,
    "start_time": "2023-04-21T11:00:01.701Z"
   },
   {
    "duration": 523,
    "start_time": "2023-04-21T11:02:30.415Z"
   },
   {
    "duration": 27,
    "start_time": "2023-04-21T11:03:23.352Z"
   },
   {
    "duration": 3542,
    "start_time": "2023-04-21T11:03:29.748Z"
   },
   {
    "duration": 27,
    "start_time": "2023-04-21T11:03:43.303Z"
   },
   {
    "duration": 4059,
    "start_time": "2023-04-21T11:03:46.547Z"
   },
   {
    "duration": 791,
    "start_time": "2023-04-21T11:03:55.872Z"
   },
   {
    "duration": 17891,
    "start_time": "2023-04-21T11:03:56.665Z"
   },
   {
    "duration": 10717,
    "start_time": "2023-04-21T11:04:14.559Z"
   },
   {
    "duration": 37,
    "start_time": "2023-04-21T11:04:25.338Z"
   },
   {
    "duration": 910,
    "start_time": "2023-04-21T11:04:25.434Z"
   },
   {
    "duration": 5523,
    "start_time": "2023-04-21T11:04:26.345Z"
   },
   {
    "duration": 5988,
    "start_time": "2023-04-21T11:04:31.870Z"
   },
   {
    "duration": 3,
    "start_time": "2023-04-21T11:04:37.860Z"
   },
   {
    "duration": 504,
    "start_time": "2023-04-21T11:04:37.864Z"
   },
   {
    "duration": 111,
    "start_time": "2023-04-21T11:04:38.433Z"
   },
   {
    "duration": 3806,
    "start_time": "2023-04-21T11:04:38.561Z"
   },
   {
    "duration": 4,
    "start_time": "2023-04-21T11:04:42.369Z"
   },
   {
    "duration": 2138,
    "start_time": "2023-04-21T11:04:42.375Z"
   },
   {
    "duration": 638,
    "start_time": "2023-04-21T11:04:44.516Z"
   },
   {
    "duration": 107,
    "start_time": "2023-04-21T11:04:45.156Z"
   },
   {
    "duration": 94,
    "start_time": "2023-04-21T11:04:45.265Z"
   },
   {
    "duration": 1577,
    "start_time": "2023-04-21T11:04:45.361Z"
   },
   {
    "duration": 15,
    "start_time": "2023-04-21T11:04:46.942Z"
   },
   {
    "duration": 601,
    "start_time": "2023-04-21T11:04:46.960Z"
   },
   {
    "duration": 421,
    "start_time": "2023-04-21T11:04:47.563Z"
   },
   {
    "duration": 564,
    "start_time": "2023-04-21T11:04:47.986Z"
   },
   {
    "duration": 3516,
    "start_time": "2023-04-21T11:04:48.553Z"
   },
   {
    "duration": 1589,
    "start_time": "2023-04-21T11:04:52.071Z"
   },
   {
    "duration": 4691,
    "start_time": "2023-04-21T11:04:53.662Z"
   },
   {
    "duration": 6,
    "start_time": "2023-04-21T11:04:58.355Z"
   },
   {
    "duration": 67,
    "start_time": "2023-04-21T11:04:58.363Z"
   },
   {
    "duration": 940,
    "start_time": "2023-04-21T11:04:58.432Z"
   },
   {
    "duration": 1990,
    "start_time": "2023-04-21T11:04:59.446Z"
   },
   {
    "duration": 1742,
    "start_time": "2023-04-21T11:05:01.440Z"
   },
   {
    "duration": 598,
    "start_time": "2023-04-21T11:05:03.233Z"
   },
   {
    "duration": 1830,
    "start_time": "2023-04-21T11:05:03.833Z"
   },
   {
    "duration": 4,
    "start_time": "2023-04-21T11:05:05.665Z"
   },
   {
    "duration": 8,
    "start_time": "2023-04-21T11:05:05.671Z"
   },
   {
    "duration": 653,
    "start_time": "2023-04-21T11:05:05.681Z"
   },
   {
    "duration": 13,
    "start_time": "2023-04-21T11:05:06.336Z"
   },
   {
    "duration": 10,
    "start_time": "2023-04-21T11:05:06.351Z"
   },
   {
    "duration": 1173,
    "start_time": "2023-04-21T11:05:06.363Z"
   },
   {
    "duration": 964,
    "start_time": "2023-04-21T11:05:07.537Z"
   },
   {
    "duration": 489,
    "start_time": "2023-04-21T11:05:08.503Z"
   },
   {
    "duration": 253,
    "start_time": "2023-04-21T11:08:01.829Z"
   },
   {
    "duration": 23,
    "start_time": "2023-04-21T11:08:02.279Z"
   },
   {
    "duration": 3062,
    "start_time": "2023-04-21T11:08:02.804Z"
   },
   {
    "duration": 723,
    "start_time": "2023-04-21T11:08:15.253Z"
   },
   {
    "duration": 16988,
    "start_time": "2023-04-21T11:08:15.978Z"
   },
   {
    "duration": 11268,
    "start_time": "2023-04-21T11:08:32.968Z"
   },
   {
    "duration": 39,
    "start_time": "2023-04-21T11:08:44.238Z"
   },
   {
    "duration": 889,
    "start_time": "2023-04-21T11:08:44.279Z"
   },
   {
    "duration": 5402,
    "start_time": "2023-04-21T11:08:45.171Z"
   },
   {
    "duration": 5581,
    "start_time": "2023-04-21T11:08:50.575Z"
   },
   {
    "duration": 10,
    "start_time": "2023-04-21T11:08:56.159Z"
   },
   {
    "duration": 590,
    "start_time": "2023-04-21T11:08:56.170Z"
   },
   {
    "duration": 107,
    "start_time": "2023-04-21T11:08:56.763Z"
   },
   {
    "duration": 4280,
    "start_time": "2023-04-21T11:08:56.872Z"
   },
   {
    "duration": 5,
    "start_time": "2023-04-21T11:09:01.155Z"
   },
   {
    "duration": 1884,
    "start_time": "2023-04-21T11:09:01.162Z"
   },
   {
    "duration": 737,
    "start_time": "2023-04-21T11:09:03.049Z"
   },
   {
    "duration": 154,
    "start_time": "2023-04-21T11:09:03.787Z"
   },
   {
    "duration": 33,
    "start_time": "2023-04-21T11:09:03.943Z"
   },
   {
    "duration": 1422,
    "start_time": "2023-04-21T11:09:04.040Z"
   },
   {
    "duration": 8,
    "start_time": "2023-04-21T11:09:05.464Z"
   },
   {
    "duration": 457,
    "start_time": "2023-04-21T11:09:05.534Z"
   },
   {
    "duration": 363,
    "start_time": "2023-04-21T11:09:06.034Z"
   },
   {
    "duration": 345,
    "start_time": "2023-04-21T11:09:06.399Z"
   },
   {
    "duration": 3521,
    "start_time": "2023-04-21T11:09:06.747Z"
   },
   {
    "duration": 1601,
    "start_time": "2023-04-21T11:09:10.270Z"
   },
   {
    "duration": 5283,
    "start_time": "2023-04-21T11:09:11.874Z"
   },
   {
    "duration": 5,
    "start_time": "2023-04-21T11:09:17.160Z"
   },
   {
    "duration": 6,
    "start_time": "2023-04-21T11:09:17.167Z"
   },
   {
    "duration": 1070,
    "start_time": "2023-04-21T11:09:17.175Z"
   },
   {
    "duration": 1803,
    "start_time": "2023-04-21T11:09:18.247Z"
   },
   {
    "duration": 1709,
    "start_time": "2023-04-21T11:09:20.052Z"
   },
   {
    "duration": 895,
    "start_time": "2023-04-21T11:09:21.763Z"
   },
   {
    "duration": 1892,
    "start_time": "2023-04-21T11:09:22.660Z"
   },
   {
    "duration": 4,
    "start_time": "2023-04-21T11:09:24.554Z"
   },
   {
    "duration": 8,
    "start_time": "2023-04-21T11:09:24.559Z"
   },
   {
    "duration": 702,
    "start_time": "2023-04-21T11:09:24.569Z"
   },
   {
    "duration": 67,
    "start_time": "2023-04-21T11:09:25.273Z"
   },
   {
    "duration": 22,
    "start_time": "2023-04-21T11:09:25.342Z"
   },
   {
    "duration": 1297,
    "start_time": "2023-04-21T11:09:25.366Z"
   },
   {
    "duration": 1492,
    "start_time": "2023-04-21T11:09:26.666Z"
   },
   {
    "duration": 493,
    "start_time": "2023-04-21T11:09:28.160Z"
   },
   {
    "duration": 298,
    "start_time": "2023-04-21T11:28:10.262Z"
   },
   {
    "duration": 4,
    "start_time": "2023-04-21T12:27:36.834Z"
   },
   {
    "duration": 7,
    "start_time": "2023-04-21T12:27:36.859Z"
   },
   {
    "duration": 745,
    "start_time": "2023-04-21T12:27:36.868Z"
   },
   {
    "duration": 11,
    "start_time": "2023-04-21T12:27:37.615Z"
   },
   {
    "duration": 176,
    "start_time": "2023-04-21T12:27:37.628Z"
   }
  ],
  "colab": {
   "name": "PySparkSprint.ipynb",
   "provenance": []
  },
  "kernelspec": {
   "display_name": "Python 3 (ipykernel)",
   "language": "python",
   "name": "python3"
  },
  "language_info": {
   "codemirror_mode": {
    "name": "ipython",
    "version": 3
   },
   "file_extension": ".py",
   "mimetype": "text/x-python",
   "name": "python",
   "nbconvert_exporter": "python",
   "pygments_lexer": "ipython3",
   "version": "3.11.7"
  },
  "toc": {
   "base_numbering": 1,
   "nav_menu": {},
   "number_sections": true,
   "sideBar": true,
   "skip_h1_title": true,
   "title_cell": "Table of Contents",
   "title_sidebar": "Contents",
   "toc_cell": false,
   "toc_position": {},
   "toc_section_display": true,
   "toc_window_display": false
  }
 },
 "nbformat": 4,
 "nbformat_minor": 5
}
