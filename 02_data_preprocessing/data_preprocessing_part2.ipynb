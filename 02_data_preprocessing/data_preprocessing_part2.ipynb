{
 "cells": [
  {
   "cell_type": "markdown",
   "id": "74366aff",
   "metadata": {
    "deletable": false,
    "editable": false,
    "id": "c81daeeb"
   },
   "source": [
    "# Исследование надежности заемщиков\n"
   ]
  },
  {
   "cell_type": "markdown",
   "id": "f3078e7c",
   "metadata": {
    "deletable": false,
    "editable": false,
    "id": "827c20bf"
   },
   "source": [
    "Во второй части проекта вы выполните шаги 3 и 4. Их вручную проверит ревьюер.\n",
    "Чтобы вам не пришлось писать код заново для шагов 1 и 2, мы добавили авторские решения в ячейки с кодом. \n",
    "\n"
   ]
  },
  {
   "cell_type": "markdown",
   "id": "b0b8fd7c",
   "metadata": {
    "deletable": false,
    "editable": false,
    "id": "744d7639"
   },
   "source": [
    "## Откройте таблицу и изучите общую информацию о данных"
   ]
  },
  {
   "cell_type": "markdown",
   "id": "a2ab1583",
   "metadata": {
    "deletable": false,
    "editable": false,
    "id": "e7a14c31"
   },
   "source": [
    "**Задание 1. Импортируйте библиотеку pandas. Считайте данные из csv-файла в датафрейм и сохраните в переменную `data`. Путь к файлу:**\n",
    "\n",
    "`/datasets/data.csv`"
   ]
  },
  {
   "cell_type": "code",
   "execution_count": 1,
   "id": "7b812554",
   "metadata": {
    "deletable": false,
    "id": "7bcf75c9"
   },
   "outputs": [],
   "source": [
    "import pandas as pd\n",
    "import seaborn as sns\n",
    "\n",
    "try:\n",
    "    data = pd.read_csv('/datasets/data.csv')\n",
    "except:\n",
    "    data = pd.read_csv('https://code.s3.yandex.net/datasets/data.csv')"
   ]
  },
  {
   "cell_type": "markdown",
   "id": "c87d3dd8",
   "metadata": {
    "deletable": false,
    "editable": false,
    "id": "b8038fe3"
   },
   "source": [
    "**Задание 2. Выведите первые 20 строчек датафрейма `data` на экран.**"
   ]
  },
  {
   "cell_type": "code",
   "execution_count": 2,
   "id": "6b86ccb3",
   "metadata": {
    "deletable": false,
    "id": "2a7cab99",
    "outputId": "1a8f3ef2-d323-4ec2-ddf7-89670b5944c4"
   },
   "outputs": [
    {
     "data": {
      "text/html": [
       "<div>\n",
       "<style scoped>\n",
       "    .dataframe tbody tr th:only-of-type {\n",
       "        vertical-align: middle;\n",
       "    }\n",
       "\n",
       "    .dataframe tbody tr th {\n",
       "        vertical-align: top;\n",
       "    }\n",
       "\n",
       "    .dataframe thead th {\n",
       "        text-align: right;\n",
       "    }\n",
       "</style>\n",
       "<table border=\"1\" class=\"dataframe\">\n",
       "  <thead>\n",
       "    <tr style=\"text-align: right;\">\n",
       "      <th></th>\n",
       "      <th>children</th>\n",
       "      <th>days_employed</th>\n",
       "      <th>dob_years</th>\n",
       "      <th>education</th>\n",
       "      <th>education_id</th>\n",
       "      <th>family_status</th>\n",
       "      <th>family_status_id</th>\n",
       "      <th>gender</th>\n",
       "      <th>income_type</th>\n",
       "      <th>debt</th>\n",
       "      <th>total_income</th>\n",
       "      <th>purpose</th>\n",
       "    </tr>\n",
       "  </thead>\n",
       "  <tbody>\n",
       "    <tr>\n",
       "      <th>0</th>\n",
       "      <td>1</td>\n",
       "      <td>-8437.673028</td>\n",
       "      <td>42</td>\n",
       "      <td>высшее</td>\n",
       "      <td>0</td>\n",
       "      <td>женат / замужем</td>\n",
       "      <td>0</td>\n",
       "      <td>F</td>\n",
       "      <td>сотрудник</td>\n",
       "      <td>0</td>\n",
       "      <td>253875.639453</td>\n",
       "      <td>покупка жилья</td>\n",
       "    </tr>\n",
       "    <tr>\n",
       "      <th>1</th>\n",
       "      <td>1</td>\n",
       "      <td>-4024.803754</td>\n",
       "      <td>36</td>\n",
       "      <td>среднее</td>\n",
       "      <td>1</td>\n",
       "      <td>женат / замужем</td>\n",
       "      <td>0</td>\n",
       "      <td>F</td>\n",
       "      <td>сотрудник</td>\n",
       "      <td>0</td>\n",
       "      <td>112080.014102</td>\n",
       "      <td>приобретение автомобиля</td>\n",
       "    </tr>\n",
       "    <tr>\n",
       "      <th>2</th>\n",
       "      <td>0</td>\n",
       "      <td>-5623.422610</td>\n",
       "      <td>33</td>\n",
       "      <td>Среднее</td>\n",
       "      <td>1</td>\n",
       "      <td>женат / замужем</td>\n",
       "      <td>0</td>\n",
       "      <td>M</td>\n",
       "      <td>сотрудник</td>\n",
       "      <td>0</td>\n",
       "      <td>145885.952297</td>\n",
       "      <td>покупка жилья</td>\n",
       "    </tr>\n",
       "    <tr>\n",
       "      <th>3</th>\n",
       "      <td>3</td>\n",
       "      <td>-4124.747207</td>\n",
       "      <td>32</td>\n",
       "      <td>среднее</td>\n",
       "      <td>1</td>\n",
       "      <td>женат / замужем</td>\n",
       "      <td>0</td>\n",
       "      <td>M</td>\n",
       "      <td>сотрудник</td>\n",
       "      <td>0</td>\n",
       "      <td>267628.550329</td>\n",
       "      <td>дополнительное образование</td>\n",
       "    </tr>\n",
       "    <tr>\n",
       "      <th>4</th>\n",
       "      <td>0</td>\n",
       "      <td>340266.072047</td>\n",
       "      <td>53</td>\n",
       "      <td>среднее</td>\n",
       "      <td>1</td>\n",
       "      <td>гражданский брак</td>\n",
       "      <td>1</td>\n",
       "      <td>F</td>\n",
       "      <td>пенсионер</td>\n",
       "      <td>0</td>\n",
       "      <td>158616.077870</td>\n",
       "      <td>сыграть свадьбу</td>\n",
       "    </tr>\n",
       "    <tr>\n",
       "      <th>5</th>\n",
       "      <td>0</td>\n",
       "      <td>-926.185831</td>\n",
       "      <td>27</td>\n",
       "      <td>высшее</td>\n",
       "      <td>0</td>\n",
       "      <td>гражданский брак</td>\n",
       "      <td>1</td>\n",
       "      <td>M</td>\n",
       "      <td>компаньон</td>\n",
       "      <td>0</td>\n",
       "      <td>255763.565419</td>\n",
       "      <td>покупка жилья</td>\n",
       "    </tr>\n",
       "    <tr>\n",
       "      <th>6</th>\n",
       "      <td>0</td>\n",
       "      <td>-2879.202052</td>\n",
       "      <td>43</td>\n",
       "      <td>высшее</td>\n",
       "      <td>0</td>\n",
       "      <td>женат / замужем</td>\n",
       "      <td>0</td>\n",
       "      <td>F</td>\n",
       "      <td>компаньон</td>\n",
       "      <td>0</td>\n",
       "      <td>240525.971920</td>\n",
       "      <td>операции с жильем</td>\n",
       "    </tr>\n",
       "    <tr>\n",
       "      <th>7</th>\n",
       "      <td>0</td>\n",
       "      <td>-152.779569</td>\n",
       "      <td>50</td>\n",
       "      <td>СРЕДНЕЕ</td>\n",
       "      <td>1</td>\n",
       "      <td>женат / замужем</td>\n",
       "      <td>0</td>\n",
       "      <td>M</td>\n",
       "      <td>сотрудник</td>\n",
       "      <td>0</td>\n",
       "      <td>135823.934197</td>\n",
       "      <td>образование</td>\n",
       "    </tr>\n",
       "    <tr>\n",
       "      <th>8</th>\n",
       "      <td>2</td>\n",
       "      <td>-6929.865299</td>\n",
       "      <td>35</td>\n",
       "      <td>ВЫСШЕЕ</td>\n",
       "      <td>0</td>\n",
       "      <td>гражданский брак</td>\n",
       "      <td>1</td>\n",
       "      <td>F</td>\n",
       "      <td>сотрудник</td>\n",
       "      <td>0</td>\n",
       "      <td>95856.832424</td>\n",
       "      <td>на проведение свадьбы</td>\n",
       "    </tr>\n",
       "    <tr>\n",
       "      <th>9</th>\n",
       "      <td>0</td>\n",
       "      <td>-2188.756445</td>\n",
       "      <td>41</td>\n",
       "      <td>среднее</td>\n",
       "      <td>1</td>\n",
       "      <td>женат / замужем</td>\n",
       "      <td>0</td>\n",
       "      <td>M</td>\n",
       "      <td>сотрудник</td>\n",
       "      <td>0</td>\n",
       "      <td>144425.938277</td>\n",
       "      <td>покупка жилья для семьи</td>\n",
       "    </tr>\n",
       "    <tr>\n",
       "      <th>10</th>\n",
       "      <td>2</td>\n",
       "      <td>-4171.483647</td>\n",
       "      <td>36</td>\n",
       "      <td>высшее</td>\n",
       "      <td>0</td>\n",
       "      <td>женат / замужем</td>\n",
       "      <td>0</td>\n",
       "      <td>M</td>\n",
       "      <td>компаньон</td>\n",
       "      <td>0</td>\n",
       "      <td>113943.491460</td>\n",
       "      <td>покупка недвижимости</td>\n",
       "    </tr>\n",
       "    <tr>\n",
       "      <th>11</th>\n",
       "      <td>0</td>\n",
       "      <td>-792.701887</td>\n",
       "      <td>40</td>\n",
       "      <td>среднее</td>\n",
       "      <td>1</td>\n",
       "      <td>женат / замужем</td>\n",
       "      <td>0</td>\n",
       "      <td>F</td>\n",
       "      <td>сотрудник</td>\n",
       "      <td>0</td>\n",
       "      <td>77069.234271</td>\n",
       "      <td>покупка коммерческой недвижимости</td>\n",
       "    </tr>\n",
       "    <tr>\n",
       "      <th>12</th>\n",
       "      <td>0</td>\n",
       "      <td>NaN</td>\n",
       "      <td>65</td>\n",
       "      <td>среднее</td>\n",
       "      <td>1</td>\n",
       "      <td>гражданский брак</td>\n",
       "      <td>1</td>\n",
       "      <td>M</td>\n",
       "      <td>пенсионер</td>\n",
       "      <td>0</td>\n",
       "      <td>NaN</td>\n",
       "      <td>сыграть свадьбу</td>\n",
       "    </tr>\n",
       "    <tr>\n",
       "      <th>13</th>\n",
       "      <td>0</td>\n",
       "      <td>-1846.641941</td>\n",
       "      <td>54</td>\n",
       "      <td>неоконченное высшее</td>\n",
       "      <td>2</td>\n",
       "      <td>женат / замужем</td>\n",
       "      <td>0</td>\n",
       "      <td>F</td>\n",
       "      <td>сотрудник</td>\n",
       "      <td>0</td>\n",
       "      <td>130458.228857</td>\n",
       "      <td>приобретение автомобиля</td>\n",
       "    </tr>\n",
       "    <tr>\n",
       "      <th>14</th>\n",
       "      <td>0</td>\n",
       "      <td>-1844.956182</td>\n",
       "      <td>56</td>\n",
       "      <td>высшее</td>\n",
       "      <td>0</td>\n",
       "      <td>гражданский брак</td>\n",
       "      <td>1</td>\n",
       "      <td>F</td>\n",
       "      <td>компаньон</td>\n",
       "      <td>1</td>\n",
       "      <td>165127.911772</td>\n",
       "      <td>покупка жилой недвижимости</td>\n",
       "    </tr>\n",
       "    <tr>\n",
       "      <th>15</th>\n",
       "      <td>1</td>\n",
       "      <td>-972.364419</td>\n",
       "      <td>26</td>\n",
       "      <td>среднее</td>\n",
       "      <td>1</td>\n",
       "      <td>женат / замужем</td>\n",
       "      <td>0</td>\n",
       "      <td>F</td>\n",
       "      <td>сотрудник</td>\n",
       "      <td>0</td>\n",
       "      <td>116820.904450</td>\n",
       "      <td>строительство собственной недвижимости</td>\n",
       "    </tr>\n",
       "    <tr>\n",
       "      <th>16</th>\n",
       "      <td>0</td>\n",
       "      <td>-1719.934226</td>\n",
       "      <td>35</td>\n",
       "      <td>среднее</td>\n",
       "      <td>1</td>\n",
       "      <td>женат / замужем</td>\n",
       "      <td>0</td>\n",
       "      <td>F</td>\n",
       "      <td>сотрудник</td>\n",
       "      <td>0</td>\n",
       "      <td>289202.704229</td>\n",
       "      <td>недвижимость</td>\n",
       "    </tr>\n",
       "    <tr>\n",
       "      <th>17</th>\n",
       "      <td>0</td>\n",
       "      <td>-2369.999720</td>\n",
       "      <td>33</td>\n",
       "      <td>высшее</td>\n",
       "      <td>0</td>\n",
       "      <td>гражданский брак</td>\n",
       "      <td>1</td>\n",
       "      <td>M</td>\n",
       "      <td>сотрудник</td>\n",
       "      <td>0</td>\n",
       "      <td>90410.586745</td>\n",
       "      <td>строительство недвижимости</td>\n",
       "    </tr>\n",
       "    <tr>\n",
       "      <th>18</th>\n",
       "      <td>0</td>\n",
       "      <td>400281.136913</td>\n",
       "      <td>53</td>\n",
       "      <td>среднее</td>\n",
       "      <td>1</td>\n",
       "      <td>вдовец / вдова</td>\n",
       "      <td>2</td>\n",
       "      <td>F</td>\n",
       "      <td>пенсионер</td>\n",
       "      <td>0</td>\n",
       "      <td>56823.777243</td>\n",
       "      <td>на покупку подержанного автомобиля</td>\n",
       "    </tr>\n",
       "    <tr>\n",
       "      <th>19</th>\n",
       "      <td>0</td>\n",
       "      <td>-10038.818549</td>\n",
       "      <td>48</td>\n",
       "      <td>СРЕДНЕЕ</td>\n",
       "      <td>1</td>\n",
       "      <td>в разводе</td>\n",
       "      <td>3</td>\n",
       "      <td>F</td>\n",
       "      <td>сотрудник</td>\n",
       "      <td>0</td>\n",
       "      <td>242831.107982</td>\n",
       "      <td>на покупку своего автомобиля</td>\n",
       "    </tr>\n",
       "  </tbody>\n",
       "</table>\n",
       "</div>"
      ],
      "text/plain": [
       "    children  days_employed  dob_years            education  education_id  \\\n",
       "0          1   -8437.673028         42               высшее             0   \n",
       "1          1   -4024.803754         36              среднее             1   \n",
       "2          0   -5623.422610         33              Среднее             1   \n",
       "3          3   -4124.747207         32              среднее             1   \n",
       "4          0  340266.072047         53              среднее             1   \n",
       "5          0    -926.185831         27               высшее             0   \n",
       "6          0   -2879.202052         43               высшее             0   \n",
       "7          0    -152.779569         50              СРЕДНЕЕ             1   \n",
       "8          2   -6929.865299         35               ВЫСШЕЕ             0   \n",
       "9          0   -2188.756445         41              среднее             1   \n",
       "10         2   -4171.483647         36               высшее             0   \n",
       "11         0    -792.701887         40              среднее             1   \n",
       "12         0            NaN         65              среднее             1   \n",
       "13         0   -1846.641941         54  неоконченное высшее             2   \n",
       "14         0   -1844.956182         56               высшее             0   \n",
       "15         1    -972.364419         26              среднее             1   \n",
       "16         0   -1719.934226         35              среднее             1   \n",
       "17         0   -2369.999720         33               высшее             0   \n",
       "18         0  400281.136913         53              среднее             1   \n",
       "19         0  -10038.818549         48              СРЕДНЕЕ             1   \n",
       "\n",
       "       family_status  family_status_id gender income_type  debt  \\\n",
       "0    женат / замужем                 0      F   сотрудник     0   \n",
       "1    женат / замужем                 0      F   сотрудник     0   \n",
       "2    женат / замужем                 0      M   сотрудник     0   \n",
       "3    женат / замужем                 0      M   сотрудник     0   \n",
       "4   гражданский брак                 1      F   пенсионер     0   \n",
       "5   гражданский брак                 1      M   компаньон     0   \n",
       "6    женат / замужем                 0      F   компаньон     0   \n",
       "7    женат / замужем                 0      M   сотрудник     0   \n",
       "8   гражданский брак                 1      F   сотрудник     0   \n",
       "9    женат / замужем                 0      M   сотрудник     0   \n",
       "10   женат / замужем                 0      M   компаньон     0   \n",
       "11   женат / замужем                 0      F   сотрудник     0   \n",
       "12  гражданский брак                 1      M   пенсионер     0   \n",
       "13   женат / замужем                 0      F   сотрудник     0   \n",
       "14  гражданский брак                 1      F   компаньон     1   \n",
       "15   женат / замужем                 0      F   сотрудник     0   \n",
       "16   женат / замужем                 0      F   сотрудник     0   \n",
       "17  гражданский брак                 1      M   сотрудник     0   \n",
       "18    вдовец / вдова                 2      F   пенсионер     0   \n",
       "19         в разводе                 3      F   сотрудник     0   \n",
       "\n",
       "     total_income                                 purpose  \n",
       "0   253875.639453                           покупка жилья  \n",
       "1   112080.014102                 приобретение автомобиля  \n",
       "2   145885.952297                           покупка жилья  \n",
       "3   267628.550329              дополнительное образование  \n",
       "4   158616.077870                         сыграть свадьбу  \n",
       "5   255763.565419                           покупка жилья  \n",
       "6   240525.971920                       операции с жильем  \n",
       "7   135823.934197                             образование  \n",
       "8    95856.832424                   на проведение свадьбы  \n",
       "9   144425.938277                 покупка жилья для семьи  \n",
       "10  113943.491460                    покупка недвижимости  \n",
       "11   77069.234271       покупка коммерческой недвижимости  \n",
       "12            NaN                         сыграть свадьбу  \n",
       "13  130458.228857                 приобретение автомобиля  \n",
       "14  165127.911772              покупка жилой недвижимости  \n",
       "15  116820.904450  строительство собственной недвижимости  \n",
       "16  289202.704229                            недвижимость  \n",
       "17   90410.586745              строительство недвижимости  \n",
       "18   56823.777243      на покупку подержанного автомобиля  \n",
       "19  242831.107982            на покупку своего автомобиля  "
      ]
     },
     "execution_count": 2,
     "metadata": {},
     "output_type": "execute_result"
    }
   ],
   "source": [
    "data.head(20)"
   ]
  },
  {
   "cell_type": "markdown",
   "id": "c4363e31",
   "metadata": {
    "deletable": false,
    "editable": false,
    "id": "1c12e233"
   },
   "source": [
    "**Задание 3. Выведите основную информацию о датафрейме с помощью метода `info()`.**"
   ]
  },
  {
   "cell_type": "code",
   "execution_count": 3,
   "id": "bda609ad",
   "metadata": {
    "deletable": false,
    "id": "2b757bca",
    "outputId": "15376089-8dad-46c9-b520-c05248d43158"
   },
   "outputs": [
    {
     "name": "stdout",
     "output_type": "stream",
     "text": [
      "<class 'pandas.core.frame.DataFrame'>\n",
      "RangeIndex: 21525 entries, 0 to 21524\n",
      "Data columns (total 12 columns):\n",
      " #   Column            Non-Null Count  Dtype  \n",
      "---  ------            --------------  -----  \n",
      " 0   children          21525 non-null  int64  \n",
      " 1   days_employed     19351 non-null  float64\n",
      " 2   dob_years         21525 non-null  int64  \n",
      " 3   education         21525 non-null  object \n",
      " 4   education_id      21525 non-null  int64  \n",
      " 5   family_status     21525 non-null  object \n",
      " 6   family_status_id  21525 non-null  int64  \n",
      " 7   gender            21525 non-null  object \n",
      " 8   income_type       21525 non-null  object \n",
      " 9   debt              21525 non-null  int64  \n",
      " 10  total_income      19351 non-null  float64\n",
      " 11  purpose           21525 non-null  object \n",
      "dtypes: float64(2), int64(5), object(5)\n",
      "memory usage: 2.0+ MB\n"
     ]
    }
   ],
   "source": [
    "data.info()"
   ]
  },
  {
   "cell_type": "markdown",
   "id": "3f52dbac",
   "metadata": {
    "deletable": false,
    "editable": false,
    "id": "333ec665"
   },
   "source": [
    "## Предобработка данных"
   ]
  },
  {
   "cell_type": "markdown",
   "id": "77afcb16",
   "metadata": {
    "deletable": false,
    "editable": false,
    "id": "02d92d53"
   },
   "source": [
    "### Удаление пропусков"
   ]
  },
  {
   "cell_type": "markdown",
   "id": "cc081d1d",
   "metadata": {
    "deletable": false,
    "editable": false,
    "id": "cd84967c"
   },
   "source": [
    "**Задание 4. Выведите количество пропущенных значений для каждого столбца. Используйте комбинацию двух методов.**"
   ]
  },
  {
   "cell_type": "code",
   "execution_count": 4,
   "id": "ecd2cba7",
   "metadata": {
    "deletable": false,
    "id": "7f9b2309",
    "outputId": "81f4d817-781c-465c-ed15-91ce4446810d"
   },
   "outputs": [
    {
     "data": {
      "text/plain": [
       "children               0\n",
       "days_employed       2174\n",
       "dob_years              0\n",
       "education              0\n",
       "education_id           0\n",
       "family_status          0\n",
       "family_status_id       0\n",
       "gender                 0\n",
       "income_type            0\n",
       "debt                   0\n",
       "total_income        2174\n",
       "purpose                0\n",
       "dtype: int64"
      ]
     },
     "execution_count": 4,
     "metadata": {},
     "output_type": "execute_result"
    }
   ],
   "source": [
    "data.isna().sum()"
   ]
  },
  {
   "cell_type": "markdown",
   "id": "74b105f0",
   "metadata": {
    "deletable": false,
    "editable": false,
    "id": "db86e27b"
   },
   "source": [
    "**Задание 5. В двух столбцах есть пропущенные значения. Один из них — `days_employed`. Пропуски в этом столбце вы обработаете на следующем этапе. Другой столбец с пропущенными значениями — `total_income` — хранит данные о доходах. На сумму дохода сильнее всего влияет тип занятости, поэтому заполнить пропуски в этом столбце нужно медианным значением по каждому типу из столбца `income_type`. Например, у человека с типом занятости `сотрудник` пропуск в столбце `total_income` должен быть заполнен медианным доходом среди всех записей с тем же типом.**"
   ]
  },
  {
   "cell_type": "code",
   "execution_count": 5,
   "id": "acd13b98",
   "metadata": {
    "deletable": false,
    "id": "42006a93"
   },
   "outputs": [],
   "source": [
    "for t in data['income_type'].unique():\n",
    "    data.loc[(data['income_type'] == t) & (data['total_income'].isna()), 'total_income'] = \\\n",
    "    data.loc[(data['income_type'] == t), 'total_income'].median()"
   ]
  },
  {
   "cell_type": "markdown",
   "id": "6c395980",
   "metadata": {
    "deletable": false,
    "editable": false,
    "id": "89da5ece"
   },
   "source": [
    "### Обработка аномальных значений"
   ]
  },
  {
   "cell_type": "markdown",
   "id": "57f95b95",
   "metadata": {
    "deletable": false,
    "editable": false,
    "id": "57964554"
   },
   "source": [
    "**Задание 6. В данных могут встречаться артефакты (аномалии) — значения, которые не отражают действительность и появились по какой-то ошибке. таким артефактом будет отрицательное количество дней трудового стажа в столбце `days_employed`. Для реальных данных это нормально. Обработайте значения в этом столбце: замените все отрицательные значения положительными с помощью метода `abs()`.**"
   ]
  },
  {
   "cell_type": "code",
   "execution_count": 6,
   "id": "b1bfbee3",
   "metadata": {
    "deletable": false,
    "id": "f6f055bf"
   },
   "outputs": [],
   "source": [
    "data['days_employed'] = data['days_employed'].abs()"
   ]
  },
  {
   "cell_type": "markdown",
   "id": "4a095231",
   "metadata": {
    "deletable": false,
    "editable": false,
    "id": "6107dd2f"
   },
   "source": [
    "**Задание 7. Для каждого типа занятости выведите медианное значение трудового стажа `days_employed` в днях.**"
   ]
  },
  {
   "cell_type": "code",
   "execution_count": 7,
   "id": "09e51521",
   "metadata": {
    "deletable": false,
    "id": "85a5faf6",
    "outputId": "801ef80e-522b-4668-f34e-565af7432bcf"
   },
   "outputs": [
    {
     "data": {
      "text/plain": [
       "income_type\n",
       "безработный        366413.652744\n",
       "в декрете            3296.759962\n",
       "госслужащий          2689.368353\n",
       "компаньон            1547.382223\n",
       "пенсионер          365213.306266\n",
       "предприниматель       520.848083\n",
       "сотрудник            1574.202821\n",
       "студент               578.751554\n",
       "Name: days_employed, dtype: float64"
      ]
     },
     "execution_count": 7,
     "metadata": {},
     "output_type": "execute_result"
    }
   ],
   "source": [
    "data.groupby('income_type')['days_employed'].agg('median')"
   ]
  },
  {
   "cell_type": "markdown",
   "id": "79ba0d8c",
   "metadata": {
    "deletable": false,
    "editable": false,
    "id": "38d1a030"
   },
   "source": [
    "У двух типов (безработные и пенсионеры) получатся аномально большие значения. Исправить такие значения сложно, поэтому оставьте их как есть. Тем более этот столбец не понадобится вам для исследования."
   ]
  },
  {
   "cell_type": "markdown",
   "id": "355bc2b4",
   "metadata": {
    "deletable": false,
    "editable": false,
    "id": "d8a9f147"
   },
   "source": [
    "**Задание 8. Выведите перечень уникальных значений столбца `children`.**"
   ]
  },
  {
   "cell_type": "code",
   "execution_count": 8,
   "id": "bfb54f4c",
   "metadata": {
    "deletable": false,
    "id": "ef5056eb",
    "outputId": "6975b15c-7f95-4697-d16d-a0c79b657b03"
   },
   "outputs": [
    {
     "data": {
      "text/plain": [
       "array([ 1,  0,  3,  2, -1,  4, 20,  5])"
      ]
     },
     "execution_count": 8,
     "metadata": {},
     "output_type": "execute_result"
    }
   ],
   "source": [
    "data['children'].unique()"
   ]
  },
  {
   "cell_type": "markdown",
   "id": "1e3c1f2d",
   "metadata": {
    "deletable": false,
    "editable": false,
    "id": "40b9ebf2"
   },
   "source": [
    "**Задание 9. В столбце `children` есть два аномальных значения. Удалите строки, в которых встречаются такие аномальные значения из датафрейма `data`.**"
   ]
  },
  {
   "cell_type": "code",
   "execution_count": 9,
   "id": "5468f708",
   "metadata": {
    "deletable": false,
    "id": "3ff9801d"
   },
   "outputs": [],
   "source": [
    "data = data[(data['children'] != -1) & (data['children'] != 20)]"
   ]
  },
  {
   "cell_type": "markdown",
   "id": "cc00b890",
   "metadata": {
    "deletable": false,
    "editable": false,
    "id": "bbc4d0ce"
   },
   "source": [
    "**Задание 10. Ещё раз выведите перечень уникальных значений столбца `children`, чтобы убедиться, что артефакты удалены.**"
   ]
  },
  {
   "cell_type": "code",
   "execution_count": 10,
   "id": "ab10a5bd",
   "metadata": {
    "deletable": false,
    "id": "ad4fa8b7",
    "outputId": "b2097101-d49d-44d9-901b-32a65c9463d1"
   },
   "outputs": [
    {
     "data": {
      "text/plain": [
       "array([1, 0, 3, 2, 4, 5])"
      ]
     },
     "execution_count": 10,
     "metadata": {},
     "output_type": "execute_result"
    }
   ],
   "source": [
    "data['children'].unique()"
   ]
  },
  {
   "cell_type": "markdown",
   "id": "bd9e84d6",
   "metadata": {
    "deletable": false,
    "editable": false,
    "id": "75440b63"
   },
   "source": [
    "### Удаление пропусков (продолжение)"
   ]
  },
  {
   "cell_type": "markdown",
   "id": "3e936ab2",
   "metadata": {
    "deletable": false,
    "editable": false,
    "id": "f4ea573f"
   },
   "source": [
    "**Задание 11. Заполните пропуски в столбце `days_employed` медианными значениями по каждого типа занятости `income_type`.**"
   ]
  },
  {
   "cell_type": "code",
   "execution_count": 11,
   "id": "326aea84",
   "metadata": {
    "deletable": false,
    "id": "af6b1a7e"
   },
   "outputs": [],
   "source": [
    "for t in data['income_type'].unique():\n",
    "    data.loc[(data['income_type'] == t) & (data['days_employed'].isna()), 'days_employed'] = \\\n",
    "    data.loc[(data['income_type'] == t), 'days_employed'].median()"
   ]
  },
  {
   "cell_type": "markdown",
   "id": "ce7c6bf6",
   "metadata": {
    "deletable": false,
    "editable": false,
    "id": "2753f40d"
   },
   "source": [
    "**Задание 12. Убедитесь, что все пропуски заполнены. Проверьте себя и ещё раз выведите количество пропущенных значений для каждого столбца с помощью двух методов.**"
   ]
  },
  {
   "cell_type": "code",
   "execution_count": 12,
   "id": "7ad64c14",
   "metadata": {
    "deletable": false,
    "id": "55f78bc2",
    "outputId": "8da1e4e1-358e-4e87-98c9-f261bce0a7b2"
   },
   "outputs": [
    {
     "data": {
      "text/plain": [
       "children            0\n",
       "days_employed       0\n",
       "dob_years           0\n",
       "education           0\n",
       "education_id        0\n",
       "family_status       0\n",
       "family_status_id    0\n",
       "gender              0\n",
       "income_type         0\n",
       "debt                0\n",
       "total_income        0\n",
       "purpose             0\n",
       "dtype: int64"
      ]
     },
     "execution_count": 12,
     "metadata": {},
     "output_type": "execute_result"
    }
   ],
   "source": [
    "data.isna().sum()"
   ]
  },
  {
   "cell_type": "markdown",
   "id": "d6c74dd6",
   "metadata": {
    "deletable": false,
    "editable": false,
    "id": "ddc81e43"
   },
   "source": [
    "### Изменение типов данных"
   ]
  },
  {
   "cell_type": "markdown",
   "id": "e74fb08c",
   "metadata": {
    "deletable": false,
    "editable": false,
    "id": "42d19d24"
   },
   "source": [
    "**Задание 13. Замените вещественный тип данных в столбце `total_income` на целочисленный с помощью метода `astype()`.**"
   ]
  },
  {
   "cell_type": "code",
   "execution_count": 13,
   "id": "7a9a9ff6",
   "metadata": {
    "deletable": false,
    "id": "920b65ad"
   },
   "outputs": [],
   "source": [
    "data['total_income'] = data['total_income'].astype(int)"
   ]
  },
  {
   "cell_type": "markdown",
   "id": "d6103983",
   "metadata": {
    "deletable": false,
    "editable": false,
    "id": "80c420ba"
   },
   "source": [
    "### Обработка дубликатов"
   ]
  },
  {
   "cell_type": "markdown",
   "id": "fc833c23",
   "metadata": {
    "deletable": false,
    "editable": false
   },
   "source": [
    "**Задание 14. Обработайте неявные дубликаты в столбце `education`. В этом столбце есть одни и те же значения, но записанные по-разному: с использованием заглавных и строчных букв. Приведите их к нижнему регистру. Проверьте остальные столбцы.**"
   ]
  },
  {
   "cell_type": "code",
   "execution_count": 14,
   "id": "4eac41ff",
   "metadata": {
    "deletable": false
   },
   "outputs": [],
   "source": [
    "data['education'] = data['education'].str.lower()"
   ]
  },
  {
   "cell_type": "markdown",
   "id": "cbbd749d",
   "metadata": {
    "deletable": false,
    "editable": false,
    "id": "dc587695"
   },
   "source": [
    "**Задание 15. Выведите на экран количество строк-дубликатов в данных. Если такие строки присутствуют, удалите их.**"
   ]
  },
  {
   "cell_type": "code",
   "execution_count": 15,
   "id": "980b919d",
   "metadata": {
    "deletable": false,
    "id": "3ee445e4",
    "outputId": "9684deba-1934-42d1-99e1-cda61740f822"
   },
   "outputs": [
    {
     "data": {
      "text/plain": [
       "71"
      ]
     },
     "execution_count": 15,
     "metadata": {},
     "output_type": "execute_result"
    }
   ],
   "source": [
    "data.duplicated().sum()"
   ]
  },
  {
   "cell_type": "code",
   "execution_count": 16,
   "id": "1f587300",
   "metadata": {
    "deletable": false,
    "id": "8575fe05"
   },
   "outputs": [],
   "source": [
    "data = data.drop_duplicates()"
   ]
  },
  {
   "cell_type": "markdown",
   "id": "6f1731cd",
   "metadata": {
    "deletable": false,
    "editable": false,
    "id": "9904cf55"
   },
   "source": [
    "### Категоризация данных"
   ]
  },
  {
   "cell_type": "markdown",
   "id": "d2a97596",
   "metadata": {
    "deletable": false,
    "editable": false,
    "id": "72fcc8a2"
   },
   "source": [
    "**Задание 16. На основании диапазонов, указанных ниже, создайте в датафрейме `data` столбец `total_income_category` с категориями:**\n",
    "\n",
    "- 0–30000 — `'E'`;\n",
    "- 30001–50000 — `'D'`;\n",
    "- 50001–200000 — `'C'`;\n",
    "- 200001–1000000 — `'B'`;\n",
    "- 1000001 и выше — `'A'`.\n",
    "\n",
    "\n",
    "**Например, кредитополучателю с доходом 25000 нужно назначить категорию `'E'`, а клиенту, получающему 235000, — `'B'`. Используйте собственную функцию с именем `categorize_income()` и метод `apply()`.**"
   ]
  },
  {
   "cell_type": "code",
   "execution_count": 17,
   "id": "25f0f046",
   "metadata": {
    "deletable": false,
    "id": "e1771346"
   },
   "outputs": [],
   "source": [
    "def categorize_income(income):\n",
    "    try:\n",
    "        if 0 <= income <= 30000:\n",
    "            return 'E'\n",
    "        elif 30001 <= income <= 50000:\n",
    "            return 'D'\n",
    "        elif 50001 <= income <= 200000:\n",
    "            return 'C'\n",
    "        elif 200001 <= income <= 1000000:\n",
    "            return 'B'\n",
    "        elif income >= 1000001:\n",
    "            return 'A'\n",
    "    except:\n",
    "        pass"
   ]
  },
  {
   "cell_type": "code",
   "execution_count": 18,
   "id": "2bc470c5",
   "metadata": {
    "deletable": false,
    "id": "d5f3586d"
   },
   "outputs": [],
   "source": [
    "data['total_income_category'] = data['total_income'].apply(categorize_income)"
   ]
  },
  {
   "cell_type": "markdown",
   "id": "8ab4a46a",
   "metadata": {
    "deletable": false,
    "editable": false,
    "id": "dde49b5c"
   },
   "source": [
    "**Задание 17. Выведите на экран перечень уникальных целей взятия кредита из столбца `purpose`.**"
   ]
  },
  {
   "cell_type": "code",
   "execution_count": 19,
   "id": "58727c0e",
   "metadata": {
    "deletable": false,
    "id": "f67ce9b3",
    "outputId": "673c12d9-7d7e-4ae0-9812-c622c89dd244"
   },
   "outputs": [
    {
     "data": {
      "text/plain": [
       "array(['покупка жилья', 'приобретение автомобиля',\n",
       "       'дополнительное образование', 'сыграть свадьбу',\n",
       "       'операции с жильем', 'образование', 'на проведение свадьбы',\n",
       "       'покупка жилья для семьи', 'покупка недвижимости',\n",
       "       'покупка коммерческой недвижимости', 'покупка жилой недвижимости',\n",
       "       'строительство собственной недвижимости', 'недвижимость',\n",
       "       'строительство недвижимости', 'на покупку подержанного автомобиля',\n",
       "       'на покупку своего автомобиля',\n",
       "       'операции с коммерческой недвижимостью',\n",
       "       'строительство жилой недвижимости', 'жилье',\n",
       "       'операции со своей недвижимостью', 'автомобили',\n",
       "       'заняться образованием', 'сделка с подержанным автомобилем',\n",
       "       'получение образования', 'автомобиль', 'свадьба',\n",
       "       'получение дополнительного образования', 'покупка своего жилья',\n",
       "       'операции с недвижимостью', 'получение высшего образования',\n",
       "       'свой автомобиль', 'сделка с автомобилем',\n",
       "       'профильное образование', 'высшее образование',\n",
       "       'покупка жилья для сдачи', 'на покупку автомобиля', 'ремонт жилью',\n",
       "       'заняться высшим образованием'], dtype=object)"
      ]
     },
     "execution_count": 19,
     "metadata": {},
     "output_type": "execute_result"
    }
   ],
   "source": [
    "data['purpose'].unique()"
   ]
  },
  {
   "cell_type": "markdown",
   "id": "a93518ec",
   "metadata": {
    "deletable": false,
    "editable": false,
    "id": "85d0aef0"
   },
   "source": [
    "**Задание 18. Создайте функцию, которая на основании данных из столбца `purpose` сформирует новый столбец `purpose_category`, в который войдут следующие категории:**\n",
    "\n",
    "- `'операции с автомобилем'`,\n",
    "- `'операции с недвижимостью'`,\n",
    "- `'проведение свадьбы'`,\n",
    "- `'получение образования'`.\n",
    "\n",
    "**Например, если в столбце `purpose` находится подстрока `'на покупку автомобиля'`, то в столбце `purpose_category` должна появиться строка `'операции с автомобилем'`.**\n",
    "\n",
    "**Используйте собственную функцию с именем `categorize_purpose()` и метод `apply()`. Изучите данные в столбце `purpose` и определите, какие подстроки помогут вам правильно определить категорию.**"
   ]
  },
  {
   "cell_type": "code",
   "execution_count": 20,
   "id": "08e96488",
   "metadata": {
    "deletable": false,
    "id": "e149fab4"
   },
   "outputs": [],
   "source": [
    "def categorize_purpose(row):\n",
    "    try:\n",
    "        if 'автом' in row:\n",
    "            return 'операции с автомобилем'\n",
    "        elif 'жил' in row or 'недвиж' in row:\n",
    "            return 'операции с недвижимостью'\n",
    "        elif 'свад' in row:\n",
    "            return 'проведение свадьбы'\n",
    "        elif 'образов' in row:\n",
    "            return 'получение образования'\n",
    "    except:\n",
    "        return 'нет категории'"
   ]
  },
  {
   "cell_type": "code",
   "execution_count": 21,
   "id": "3fb5a40c",
   "metadata": {
    "deletable": false,
    "id": "bf36e69b"
   },
   "outputs": [],
   "source": [
    "data['purpose_category'] = data['purpose'].apply(categorize_purpose)"
   ]
  },
  {
   "cell_type": "markdown",
   "id": "396d908e",
   "metadata": {
    "deletable": false,
    "editable": false,
    "id": "09b242bf"
   },
   "source": [
    "### Шаг 3. Исследуйте данные и ответьте на вопросы"
   ]
  },
  {
   "cell_type": "markdown",
   "id": "6a28ac31",
   "metadata": {},
   "source": [
    "<div class=\"alert alert-danger\">\n",
    "<b>Комментарий ревьюера №1</b> Замечание по всему разделу ответов на вопросы\n",
    "    \n",
    "Гораздо рациональнее здесь воспользоваться `pivot_table()` и выводить результаты в одной таблице.\n",
    "    \n",
    "Чтобы найти долю должников, нужно количество должников поделить на общее число заемщиков. Эту долю можно найти с помощью функции агрегации `mean`\n",
    "    \n",
    "Попробуй получить сводную следующего вида. В индексе столбец, который исследуем (в первом вопросе это количество детей), а столбцы: 'Всего кредитополучателей', 'Всего должников', 'Доля должников'. Учитывай, что использовать параметр columns не обязательно, а в параметр aggfunc можно указывать несколько функций агрегации сразу.\n",
    "\n",
    "Также могу посоветовать переименовать столбцы и написать функцию для построения сводных во всех вопросах.\n",
    "</div>"
   ]
  },
  {
   "cell_type": "markdown",
   "id": "3aa72d62",
   "metadata": {
    "deletable": false,
    "editable": false,
    "id": "c5d66278"
   },
   "source": [
    "#### 3.1 Есть ли зависимость между количеством детей и возвратом кредита в срок?"
   ]
  },
  {
   "cell_type": "code",
   "execution_count": 22,
   "id": "2f0b5c9f",
   "metadata": {
    "deletable": false,
    "id": "2cacfc4a"
   },
   "outputs": [
    {
     "data": {
      "text/html": [
       "<div>\n",
       "<style scoped>\n",
       "    .dataframe tbody tr th:only-of-type {\n",
       "        vertical-align: middle;\n",
       "    }\n",
       "\n",
       "    .dataframe tbody tr th {\n",
       "        vertical-align: top;\n",
       "    }\n",
       "\n",
       "    .dataframe thead th {\n",
       "        text-align: right;\n",
       "    }\n",
       "</style>\n",
       "<table border=\"1\" class=\"dataframe\">\n",
       "  <thead>\n",
       "    <tr style=\"text-align: right;\">\n",
       "      <th></th>\n",
       "      <th>children</th>\n",
       "      <th>days_employed</th>\n",
       "      <th>dob_years</th>\n",
       "      <th>education</th>\n",
       "      <th>education_id</th>\n",
       "      <th>family_status</th>\n",
       "      <th>family_status_id</th>\n",
       "      <th>gender</th>\n",
       "      <th>income_type</th>\n",
       "      <th>debt</th>\n",
       "      <th>total_income</th>\n",
       "      <th>purpose</th>\n",
       "      <th>total_income_category</th>\n",
       "      <th>purpose_category</th>\n",
       "    </tr>\n",
       "  </thead>\n",
       "  <tbody>\n",
       "    <tr>\n",
       "      <th>0</th>\n",
       "      <td>1</td>\n",
       "      <td>8437.673028</td>\n",
       "      <td>42</td>\n",
       "      <td>высшее</td>\n",
       "      <td>0</td>\n",
       "      <td>женат / замужем</td>\n",
       "      <td>0</td>\n",
       "      <td>F</td>\n",
       "      <td>сотрудник</td>\n",
       "      <td>0</td>\n",
       "      <td>253875</td>\n",
       "      <td>покупка жилья</td>\n",
       "      <td>B</td>\n",
       "      <td>операции с недвижимостью</td>\n",
       "    </tr>\n",
       "    <tr>\n",
       "      <th>1</th>\n",
       "      <td>1</td>\n",
       "      <td>4024.803754</td>\n",
       "      <td>36</td>\n",
       "      <td>среднее</td>\n",
       "      <td>1</td>\n",
       "      <td>женат / замужем</td>\n",
       "      <td>0</td>\n",
       "      <td>F</td>\n",
       "      <td>сотрудник</td>\n",
       "      <td>0</td>\n",
       "      <td>112080</td>\n",
       "      <td>приобретение автомобиля</td>\n",
       "      <td>C</td>\n",
       "      <td>операции с автомобилем</td>\n",
       "    </tr>\n",
       "    <tr>\n",
       "      <th>2</th>\n",
       "      <td>0</td>\n",
       "      <td>5623.422610</td>\n",
       "      <td>33</td>\n",
       "      <td>среднее</td>\n",
       "      <td>1</td>\n",
       "      <td>женат / замужем</td>\n",
       "      <td>0</td>\n",
       "      <td>M</td>\n",
       "      <td>сотрудник</td>\n",
       "      <td>0</td>\n",
       "      <td>145885</td>\n",
       "      <td>покупка жилья</td>\n",
       "      <td>C</td>\n",
       "      <td>операции с недвижимостью</td>\n",
       "    </tr>\n",
       "    <tr>\n",
       "      <th>3</th>\n",
       "      <td>3</td>\n",
       "      <td>4124.747207</td>\n",
       "      <td>32</td>\n",
       "      <td>среднее</td>\n",
       "      <td>1</td>\n",
       "      <td>женат / замужем</td>\n",
       "      <td>0</td>\n",
       "      <td>M</td>\n",
       "      <td>сотрудник</td>\n",
       "      <td>0</td>\n",
       "      <td>267628</td>\n",
       "      <td>дополнительное образование</td>\n",
       "      <td>B</td>\n",
       "      <td>получение образования</td>\n",
       "    </tr>\n",
       "    <tr>\n",
       "      <th>4</th>\n",
       "      <td>0</td>\n",
       "      <td>340266.072047</td>\n",
       "      <td>53</td>\n",
       "      <td>среднее</td>\n",
       "      <td>1</td>\n",
       "      <td>гражданский брак</td>\n",
       "      <td>1</td>\n",
       "      <td>F</td>\n",
       "      <td>пенсионер</td>\n",
       "      <td>0</td>\n",
       "      <td>158616</td>\n",
       "      <td>сыграть свадьбу</td>\n",
       "      <td>C</td>\n",
       "      <td>проведение свадьбы</td>\n",
       "    </tr>\n",
       "  </tbody>\n",
       "</table>\n",
       "</div>"
      ],
      "text/plain": [
       "   children  days_employed  dob_years education  education_id  \\\n",
       "0         1    8437.673028         42    высшее             0   \n",
       "1         1    4024.803754         36   среднее             1   \n",
       "2         0    5623.422610         33   среднее             1   \n",
       "3         3    4124.747207         32   среднее             1   \n",
       "4         0  340266.072047         53   среднее             1   \n",
       "\n",
       "      family_status  family_status_id gender income_type  debt  total_income  \\\n",
       "0   женат / замужем                 0      F   сотрудник     0        253875   \n",
       "1   женат / замужем                 0      F   сотрудник     0        112080   \n",
       "2   женат / замужем                 0      M   сотрудник     0        145885   \n",
       "3   женат / замужем                 0      M   сотрудник     0        267628   \n",
       "4  гражданский брак                 1      F   пенсионер     0        158616   \n",
       "\n",
       "                      purpose total_income_category          purpose_category  \n",
       "0               покупка жилья                     B  операции с недвижимостью  \n",
       "1     приобретение автомобиля                     C    операции с автомобилем  \n",
       "2               покупка жилья                     C  операции с недвижимостью  \n",
       "3  дополнительное образование                     B     получение образования  \n",
       "4             сыграть свадьбу                     C        проведение свадьбы  "
      ]
     },
     "execution_count": 22,
     "metadata": {},
     "output_type": "execute_result"
    }
   ],
   "source": [
    "# Ваш код будет здесь. Вы можете создавать новые ячейки.\n",
    "\n",
    "#Выведем заголовки таблицы для удобной работы\n",
    "data.head()"
   ]
  },
  {
   "cell_type": "markdown",
   "id": "6641e5fb",
   "metadata": {},
   "source": [
    "<div class=\"alert alert-warning\">\n",
    "<b>Комментарий ревьюера №1</b> \n",
    "    \n",
    "Все библиотеки нужно импортировать в одной ячейке в начале всего кода, это соответствует стилистическому гайду <a href=\"https://peps.python.org/pep-0008/\">pep 8</a>\n",
    "</div>"
   ]
  },
  {
   "cell_type": "code",
   "execution_count": 23,
   "id": "b6bcde4e",
   "metadata": {},
   "outputs": [
    {
     "data": {
      "text/plain": [
       "<AxesSubplot:xlabel='debt', ylabel='count'>"
      ]
     },
     "execution_count": 23,
     "metadata": {},
     "output_type": "execute_result"
    },
    {
     "data": {
      "image/png": "[encoded data removed]",
      "text/plain": [
       "<Figure size 432x288 with 1 Axes>"
      ]
     },
     "metadata": {},
     "output_type": "display_data"
    }
   ],
   "source": [
    "#Зададим визуальный стиль таблиц\n",
    "sns.set_theme(style =\"darkgrid\")\n",
    "\n",
    "#Посмотрим как распределены задолжности по кредитам среди всех клиентов\n",
    "sns.countplot(x =\"debt\", data =data)"
   ]
  },
  {
   "cell_type": "code",
   "execution_count": 24,
   "id": "ced3b1b1",
   "metadata": {},
   "outputs": [
    {
     "name": "stdout",
     "output_type": "stream",
     "text": [
      "\n",
      "Имеющие задолжность 8.1%\n",
      "Не имеющие задолжность 91.9%\n"
     ]
    }
   ],
   "source": [
    "# Выведем информацию в процентах\n",
    "debt_is_true = data[data['debt'] == 1].count() / data['debt'].count()\n",
    "debt_is_false = data[data['debt'] == 0].count() / data['debt'].count()\n",
    "\n",
    "print(f'''\n",
    "Имеющие задолжность {debt_is_true['debt']:.1%}\n",
    "Не имеющие задолжность {debt_is_false['debt']:.1%}''')\n"
   ]
  },
  {
   "cell_type": "code",
   "execution_count": 25,
   "id": "b0b13ee0",
   "metadata": {},
   "outputs": [],
   "source": [
    "#Две контрольные группы клиентов имеющие задолжности и не имеющие их\n",
    "debt_on = data[data['debt'] == 1]\n",
    "debt_off = data[data['debt'] == 0]"
   ]
  },
  {
   "cell_type": "code",
   "execution_count": 26,
   "id": "1ea865c8",
   "metadata": {},
   "outputs": [
    {
     "data": {
      "text/plain": [
       "<AxesSubplot:xlabel='children', ylabel='count'>"
      ]
     },
     "execution_count": 26,
     "metadata": {},
     "output_type": "execute_result"
    },
    {
     "data": {
      "image/png": "[encoded data removed]",
      "text/plain": [
       "<Figure size 432x288 with 1 Axes>"
      ]
     },
     "metadata": {},
     "output_type": "display_data"
    }
   ],
   "source": [
    "#Посмотрим распределение наличия детей среди клиентов\n",
    "sns.countplot(x =\"children\", data =data)"
   ]
  },
  {
   "cell_type": "code",
   "execution_count": 27,
   "id": "8855c8d2",
   "metadata": {},
   "outputs": [
    {
     "name": "stdout",
     "output_type": "stream",
     "text": [
      "Среди всех клиентов у 66.06% клиентов 0 детей.\n",
      "Среди всех клиентов у 22.54% клиентов 1 детей.\n",
      "Среди всех клиентов у 9.62% клиентов 2 детей.\n",
      "Среди всех клиентов у 1.55% клиентов 3 детей.\n",
      "Среди всех клиентов у 0.19% клиентов 4 детей.\n",
      "Среди всех клиентов у 0.04% клиентов 5 детей.\n"
     ]
    }
   ],
   "source": [
    "# Выведем информацию в процентах\n",
    "for child in range(6):\n",
    "    children_count_percent = data[data['children'] == child]['children'].count() / data['children'].count()\n",
    "    print(f'Среди всех клиентов у {children_count_percent:.2%} клиентов {child} детей.')"
   ]
  },
  {
   "cell_type": "code",
   "execution_count": 28,
   "id": "654168fd",
   "metadata": {},
   "outputs": [
    {
     "data": {
      "text/plain": [
       "<AxesSubplot:xlabel='children', ylabel='count'>"
      ]
     },
     "execution_count": 28,
     "metadata": {},
     "output_type": "execute_result"
    },
    {
     "data": {
      "image/png": "[encoded data removed]",
      "text/plain": [
       "<Figure size 432x288 with 1 Axes>"
      ]
     },
     "metadata": {},
     "output_type": "display_data"
    }
   ],
   "source": [
    "#Наличие детей у клиентов имеющие задолжности\n",
    "sns.countplot(x = debt_on['children'], data = data)"
   ]
  },
  {
   "cell_type": "code",
   "execution_count": 29,
   "id": "aa44b8d1",
   "metadata": {},
   "outputs": [
    {
     "name": "stdout",
     "output_type": "stream",
     "text": [
      "Среди клиентов имеющих задолжности у 61.4% клиентов 0 детей.\n",
      "Среди клиентов имеющих задолжности у 25.6% клиентов 1 детей.\n",
      "Среди клиентов имеющих задолжности у 11.2% клиентов 2 детей.\n",
      "Среди клиентов имеющих задолжности у 1.6% клиентов 3 детей.\n",
      "Среди клиентов имеющих задолжности у 0.2% клиентов 4 детей.\n"
     ]
    }
   ],
   "source": [
    "# Выведем информацию в процентах\n",
    "for child in range(5):\n",
    "    children_count_percent = debt_on[debt_on['children'] == child]['children'].count() / debt_on['children'].count()\n",
    "    print(f'Среди клиентов имеющих задолжности у {children_count_percent:.1%} клиентов {child} детей.')"
   ]
  },
  {
   "cell_type": "code",
   "execution_count": 30,
   "id": "df46b57d",
   "metadata": {},
   "outputs": [
    {
     "data": {
      "text/plain": [
       "<AxesSubplot:xlabel='children', ylabel='count'>"
      ]
     },
     "execution_count": 30,
     "metadata": {},
     "output_type": "execute_result"
    },
    {
     "data": {
      "image/png": "[encoded data removed]",
      "text/plain": [
       "<Figure size 432x288 with 1 Axes>"
      ]
     },
     "metadata": {},
     "output_type": "display_data"
    }
   ],
   "source": [
    "#Наличие детей у клиентов не имеющие задолжности\n",
    "sns.countplot(x = debt_off['children'], data = data)"
   ]
  },
  {
   "cell_type": "code",
   "execution_count": 31,
   "id": "0f159a1c",
   "metadata": {},
   "outputs": [
    {
     "name": "stdout",
     "output_type": "stream",
     "text": [
      "Среди клиентов не имеющих задолжности у 66.47% клиентов 0 детей.\n",
      "Среди клиентов не имеющих задолжности у 22.27% клиентов 1 детей.\n",
      "Среди клиентов не имеющих задолжности у 9.48% клиентов 2 детей.\n",
      "Среди клиентов не имеющих задолжности у 1.55% клиентов 3 детей.\n",
      "Среди клиентов не имеющих задолжности у 0.19% клиентов 4 детей.\n",
      "Среди клиентов не имеющих задолжности у 0.05% клиентов 5 детей.\n"
     ]
    }
   ],
   "source": [
    "# Выведем информацию в процентах\n",
    "for child in range(6):\n",
    "    children_count_percent = debt_off[debt_off['children'] == child]['children'].count() / debt_off['children'].count()\n",
    "    print(f'Среди клиентов не имеющих задолжности у {children_count_percent:.2%} клиентов {child} детей.')"
   ]
  },
  {
   "cell_type": "markdown",
   "id": "f19ab1e9",
   "metadata": {},
   "source": [
    "### Доработки и исправления ниже"
   ]
  },
  {
   "cell_type": "markdown",
   "id": "84da76b0",
   "metadata": {},
   "source": [
    "Комментарий ревьюера №1 Замечание по всему разделу ответов на вопросы\n",
    "Гораздо рациональнее здесь воспользоваться pivot_table() и выводить результаты в одной таблице.\n",
    "\n",
    "Чтобы найти долю должников, нужно количество должников поделить на общее число заемщиков. Эту долю можно найти с помощью функции агрегации mean\n",
    "\n",
    "Попробуй получить сводную следующего вида. В индексе столбец, который исследуем (в первом вопросе это количество детей), а столбцы: 'Всего кредитополучателей', 'Всего должников', 'Доля должников'. Учитывай, что использовать параметр columns не обязательно, а в параметр aggfunc можно указывать несколько функций агрегации сразу.\n",
    "\n",
    "Также могу посоветовать переименовать столбцы и написать функцию для построения сводных во всех вопросах."
   ]
  },
  {
   "cell_type": "code",
   "execution_count": 32,
   "id": "8c5900f3",
   "metadata": {},
   "outputs": [],
   "source": [
    "#функция для вывода сводной таблицы по должникам для разных категорий\n",
    "def final_table(df, index):\n",
    "    new_df = df.pivot_table(index=index, values='debt', aggfunc = ['count','sum','mean'])\n",
    "    new_df.columns = ['Всего кредитополучателей', 'Всего должников', 'Доля должников']\n",
    "    display(new_df)"
   ]
  },
  {
   "cell_type": "code",
   "execution_count": 33,
   "id": "bd48cf4a",
   "metadata": {},
   "outputs": [
    {
     "data": {
      "text/html": [
       "<div>\n",
       "<style scoped>\n",
       "    .dataframe tbody tr th:only-of-type {\n",
       "        vertical-align: middle;\n",
       "    }\n",
       "\n",
       "    .dataframe tbody tr th {\n",
       "        vertical-align: top;\n",
       "    }\n",
       "\n",
       "    .dataframe thead th {\n",
       "        text-align: right;\n",
       "    }\n",
       "</style>\n",
       "<table border=\"1\" class=\"dataframe\">\n",
       "  <thead>\n",
       "    <tr style=\"text-align: right;\">\n",
       "      <th></th>\n",
       "      <th>Всего кредитополучателей</th>\n",
       "      <th>Всего должников</th>\n",
       "      <th>Доля должников</th>\n",
       "    </tr>\n",
       "    <tr>\n",
       "      <th>children</th>\n",
       "      <th></th>\n",
       "      <th></th>\n",
       "      <th></th>\n",
       "    </tr>\n",
       "  </thead>\n",
       "  <tbody>\n",
       "    <tr>\n",
       "      <th>0</th>\n",
       "      <td>14091</td>\n",
       "      <td>1063</td>\n",
       "      <td>0.075438</td>\n",
       "    </tr>\n",
       "    <tr>\n",
       "      <th>1</th>\n",
       "      <td>4808</td>\n",
       "      <td>444</td>\n",
       "      <td>0.092346</td>\n",
       "    </tr>\n",
       "    <tr>\n",
       "      <th>2</th>\n",
       "      <td>2052</td>\n",
       "      <td>194</td>\n",
       "      <td>0.094542</td>\n",
       "    </tr>\n",
       "    <tr>\n",
       "      <th>3</th>\n",
       "      <td>330</td>\n",
       "      <td>27</td>\n",
       "      <td>0.081818</td>\n",
       "    </tr>\n",
       "    <tr>\n",
       "      <th>4</th>\n",
       "      <td>41</td>\n",
       "      <td>4</td>\n",
       "      <td>0.097561</td>\n",
       "    </tr>\n",
       "    <tr>\n",
       "      <th>5</th>\n",
       "      <td>9</td>\n",
       "      <td>0</td>\n",
       "      <td>0.000000</td>\n",
       "    </tr>\n",
       "  </tbody>\n",
       "</table>\n",
       "</div>"
      ],
      "text/plain": [
       "          Всего кредитополучателей  Всего должников  Доля должников\n",
       "children                                                           \n",
       "0                            14091             1063        0.075438\n",
       "1                             4808              444        0.092346\n",
       "2                             2052              194        0.094542\n",
       "3                              330               27        0.081818\n",
       "4                               41                4        0.097561\n",
       "5                                9                0        0.000000"
      ]
     },
     "metadata": {},
     "output_type": "display_data"
    }
   ],
   "source": [
    "#сводная таблица по должникам для количества детей\n",
    "final_table(data, 'children')"
   ]
  },
  {
   "cell_type": "markdown",
   "id": "00b1cfef",
   "metadata": {},
   "source": [
    "<div class=\"alert alert-warning\">\n",
    "<b>Комментарий ревьюера №2</b> \n",
    "    \n",
    "Долю людей с определенным количеством детей от всех людей можно было находить в той же сводной так\n",
    "\n",
    "    new_df['Всего кредитополучателей']/new_df['Всего кредитополучателей'].sum()\n",
    "</div>"
   ]
  },
  {
   "cell_type": "markdown",
   "id": "c1f3eacb",
   "metadata": {
    "deletable": false,
    "id": "3a6b99ec"
   },
   "source": [
    "**Вывод:** \n",
    "- У большей части клиентов детей нет, таких клиентов около 2/3, у клиентов имеющих детей как правило один ребенок, реже 2\n",
    "- Наличие детей повышает риск невыплаты кредита в срок."
   ]
  },
  {
   "cell_type": "markdown",
   "id": "e83b9df3",
   "metadata": {},
   "source": [
    "<div class=\"alert alert-success\">\n",
    "<b>Комментарий ревьюера №2</b> \n",
    "    \n",
    "Хороший вывод\n",
    "</div>"
   ]
  },
  {
   "cell_type": "markdown",
   "id": "78b1a101",
   "metadata": {
    "deletable": false,
    "editable": false,
    "id": "97be82ca"
   },
   "source": [
    "#### 3.2 Есть ли зависимость между семейным положением и возвратом кредита в срок?"
   ]
  },
  {
   "cell_type": "code",
   "execution_count": 34,
   "id": "7ad0371f",
   "metadata": {
    "deletable": false,
    "id": "dc3f7ee8"
   },
   "outputs": [
    {
     "data": {
      "text/plain": [
       "<AxesSubplot:xlabel='count', ylabel='family_status'>"
      ]
     },
     "execution_count": 34,
     "metadata": {},
     "output_type": "execute_result"
    },
    {
     "data": {
      "image/png": "[encoded data removed]",
      "text/plain": [
       "<Figure size 432x288 with 1 Axes>"
      ]
     },
     "metadata": {},
     "output_type": "display_data"
    }
   ],
   "source": [
    "# Ваш код будет здесь. Вы можете создавать новые ячейки.\n",
    "#Проверим распределение семейного положения среди всех клиентов\n",
    "sns.countplot(y =\"family_status\", data =data)"
   ]
  },
  {
   "cell_type": "code",
   "execution_count": 35,
   "id": "72813a4a",
   "metadata": {},
   "outputs": [],
   "source": [
    "#Найдем все категории семейного статуса\n",
    "unicue_family_status = data['family_status'].unique()"
   ]
  },
  {
   "cell_type": "code",
   "execution_count": 36,
   "id": "9eaa8adc",
   "metadata": {},
   "outputs": [
    {
     "name": "stdout",
     "output_type": "stream",
     "text": [
      "Среди всех клиентов у 57.48%  семейный статус - женат / замужем.\n",
      "Среди всех клиентов у 19.38%  семейный статус - гражданский брак.\n",
      "Среди всех клиентов у 4.46%  семейный статус - вдовец / вдова.\n",
      "Среди всех клиентов у 5.57%  семейный статус - в разводе.\n",
      "Среди всех клиентов у 13.11%  семейный статус - Не женат / не замужем.\n"
     ]
    }
   ],
   "source": [
    "# Выведем информацию в процентах\n",
    "for status in unicue_family_status:\n",
    "    family_status_count_percent = data[data['family_status'] == status ]['family_status'].count() / data['family_status'].count()\n",
    "    print(f'Среди всех клиентов у {family_status_count_percent:.2%}  семейный статус - {status}.')"
   ]
  },
  {
   "cell_type": "code",
   "execution_count": 37,
   "id": "f5813f2c",
   "metadata": {},
   "outputs": [
    {
     "data": {
      "text/plain": [
       "<AxesSubplot:xlabel='count', ylabel='family_status'>"
      ]
     },
     "execution_count": 37,
     "metadata": {},
     "output_type": "execute_result"
    },
    {
     "data": {
      "image/png": "[encoded data removed]",
      "text/plain": [
       "<Figure size 432x288 with 1 Axes>"
      ]
     },
     "metadata": {},
     "output_type": "display_data"
    }
   ],
   "source": [
    "#Семейное положение у клиентов имеющих задолжности в прошлом\n",
    "sns.countplot(y = debt_on['family_status'], data = data)"
   ]
  },
  {
   "cell_type": "code",
   "execution_count": 38,
   "id": "c09409e5",
   "metadata": {},
   "outputs": [
    {
     "name": "stdout",
     "output_type": "stream",
     "text": [
      "Среди клиентов имеющих задолжности в прошлом у 53.52%  семейны статус - женат / замужем.\n",
      "Среди клиентов имеющих задолжности в прошлом у 22.23%  семейны статус - гражданский брак.\n",
      "Среди клиентов имеющих задолжности в прошлом у 3.64%  семейны статус - вдовец / вдова.\n",
      "Среди клиентов имеющих задолжности в прошлом у 4.85%  семейны статус - в разводе.\n",
      "Среди клиентов имеющих задолжности в прошлом у 15.76%  семейны статус - Не женат / не замужем.\n"
     ]
    }
   ],
   "source": [
    "# Выведем информацию в процентах\n",
    "for status in unicue_family_status:\n",
    "    family_status_count_percent = debt_on[debt_on['family_status'] == status ]['family_status'].count() / debt_on['family_status'].count()\n",
    "    print(f'Среди клиентов имеющих задолжности в прошлом у {family_status_count_percent:.2%}  семейны статус - {status}.')"
   ]
  },
  {
   "cell_type": "code",
   "execution_count": 39,
   "id": "7f8f33e7",
   "metadata": {},
   "outputs": [
    {
     "data": {
      "text/plain": [
       "<AxesSubplot:xlabel='count', ylabel='family_status'>"
      ]
     },
     "execution_count": 39,
     "metadata": {},
     "output_type": "execute_result"
    },
    {
     "data": {
      "image/png": "[encoded data removed]",
      "text/plain": [
       "<Figure size 432x288 with 1 Axes>"
      ]
     },
     "metadata": {},
     "output_type": "display_data"
    }
   ],
   "source": [
    "#Семейное положение у клиентов не имеющих задолжности в прошлом\n",
    "sns.countplot(y = debt_off['family_status'], data = data)"
   ]
  },
  {
   "cell_type": "code",
   "execution_count": 40,
   "id": "e9963b2a",
   "metadata": {},
   "outputs": [
    {
     "name": "stdout",
     "output_type": "stream",
     "text": [
      "Среди  клиентов не имеющих задолжности в прошлом у 57.83%  семейный статус - женат / замужем.\n",
      "Среди  клиентов не имеющих задолжности в прошлом у 19.13%  семейный статус - гражданский брак.\n",
      "Среди  клиентов не имеющих задолжности в прошлом у 4.53%  семейный статус - вдовец / вдова.\n",
      "Среди  клиентов не имеющих задолжности в прошлом у 5.64%  семейный статус - в разводе.\n",
      "Среди  клиентов не имеющих задолжности в прошлом у 12.87%  семейный статус - Не женат / не замужем.\n"
     ]
    }
   ],
   "source": [
    "# Выведем информацию в процентах\n",
    "for status in unicue_family_status:\n",
    "    family_status_count_percent = debt_off[debt_off['family_status'] == status ]['family_status'].count() / debt_off['family_status'].count()\n",
    "    print(f'Среди  клиентов не имеющих задолжности в прошлом у {family_status_count_percent:.2%}  семейный статус - {status}.')"
   ]
  },
  {
   "cell_type": "code",
   "execution_count": 41,
   "id": "aafed518",
   "metadata": {},
   "outputs": [
    {
     "data": {
      "text/html": [
       "<div>\n",
       "<style scoped>\n",
       "    .dataframe tbody tr th:only-of-type {\n",
       "        vertical-align: middle;\n",
       "    }\n",
       "\n",
       "    .dataframe tbody tr th {\n",
       "        vertical-align: top;\n",
       "    }\n",
       "\n",
       "    .dataframe thead th {\n",
       "        text-align: right;\n",
       "    }\n",
       "</style>\n",
       "<table border=\"1\" class=\"dataframe\">\n",
       "  <thead>\n",
       "    <tr style=\"text-align: right;\">\n",
       "      <th></th>\n",
       "      <th>Всего кредитополучателей</th>\n",
       "      <th>Всего должников</th>\n",
       "      <th>Доля должников</th>\n",
       "    </tr>\n",
       "    <tr>\n",
       "      <th>family_status</th>\n",
       "      <th></th>\n",
       "      <th></th>\n",
       "      <th></th>\n",
       "    </tr>\n",
       "  </thead>\n",
       "  <tbody>\n",
       "    <tr>\n",
       "      <th>Не женат / не замужем</th>\n",
       "      <td>2796</td>\n",
       "      <td>273</td>\n",
       "      <td>0.097639</td>\n",
       "    </tr>\n",
       "    <tr>\n",
       "      <th>в разводе</th>\n",
       "      <td>1189</td>\n",
       "      <td>84</td>\n",
       "      <td>0.070648</td>\n",
       "    </tr>\n",
       "    <tr>\n",
       "      <th>вдовец / вдова</th>\n",
       "      <td>951</td>\n",
       "      <td>63</td>\n",
       "      <td>0.066246</td>\n",
       "    </tr>\n",
       "    <tr>\n",
       "      <th>гражданский брак</th>\n",
       "      <td>4134</td>\n",
       "      <td>385</td>\n",
       "      <td>0.093130</td>\n",
       "    </tr>\n",
       "    <tr>\n",
       "      <th>женат / замужем</th>\n",
       "      <td>12261</td>\n",
       "      <td>927</td>\n",
       "      <td>0.075606</td>\n",
       "    </tr>\n",
       "  </tbody>\n",
       "</table>\n",
       "</div>"
      ],
      "text/plain": [
       "                       Всего кредитополучателей  Всего должников  \\\n",
       "family_status                                                      \n",
       "Не женат / не замужем                      2796              273   \n",
       "в разводе                                  1189               84   \n",
       "вдовец / вдова                              951               63   \n",
       "гражданский брак                           4134              385   \n",
       "женат / замужем                           12261              927   \n",
       "\n",
       "                       Доля должников  \n",
       "family_status                          \n",
       "Не женат / не замужем        0.097639  \n",
       "в разводе                    0.070648  \n",
       "вдовец / вдова               0.066246  \n",
       "гражданский брак             0.093130  \n",
       "женат / замужем              0.075606  "
      ]
     },
     "metadata": {},
     "output_type": "display_data"
    }
   ],
   "source": [
    "#сводная таблица по должникам среди семейного статуса\n",
    "final_table(data, 'family_status')"
   ]
  },
  {
   "cell_type": "markdown",
   "id": "f94bbb38",
   "metadata": {
    "deletable": false,
    "id": "1cef7837"
   },
   "source": [
    "**Вывод:** \n",
    "- Больше половины клиентов имеют статус женат/замужем\n",
    "- Больше риска в невыплату кредита в срок вносят статусы \"Не женат / не замужем\" и \"гражданский брак\"."
   ]
  },
  {
   "cell_type": "markdown",
   "id": "59c5250d",
   "metadata": {},
   "source": [
    "<div class=\"alert alert-success\">\n",
    "<b>Комментарий ревьюера №2</b> \n",
    "    \n",
    "Хорошо\n",
    "</div>"
   ]
  },
  {
   "cell_type": "markdown",
   "id": "04ebb23f",
   "metadata": {
    "deletable": false,
    "editable": false,
    "id": "1e8b2fca"
   },
   "source": [
    "#### 3.3 Есть ли зависимость между уровнем дохода и возвратом кредита в срок?"
   ]
  },
  {
   "cell_type": "code",
   "execution_count": 42,
   "id": "c288917d",
   "metadata": {
    "deletable": false,
    "id": "cd7e3720"
   },
   "outputs": [
    {
     "data": {
      "text/plain": [
       "<AxesSubplot:xlabel='total_income_category', ylabel='count'>"
      ]
     },
     "execution_count": 42,
     "metadata": {},
     "output_type": "execute_result"
    },
    {
     "data": {
      "image/png": "[encoded data removed]",
      "text/plain": [
       "<Figure size 432x288 with 1 Axes>"
      ]
     },
     "metadata": {},
     "output_type": "display_data"
    }
   ],
   "source": [
    "# Ваш код будет здесь. Вы можете создавать новые ячейки.\n",
    "#Распределение всех клиентов по категориям доходов\n",
    "sns.countplot(x =\"total_income_category\", data =data)"
   ]
  },
  {
   "cell_type": "code",
   "execution_count": 43,
   "id": "f7612ff8",
   "metadata": {},
   "outputs": [
    {
     "name": "stdout",
     "output_type": "stream",
     "text": [
      "Среди всех клиентов у 0.12% - A категория доходов.\n",
      "Среди всех клиентов у 23.51% - B категория доходов.\n",
      "Среди всех клиентов у 74.64% - C категория доходов.\n",
      "Среди всех клиентов у 1.64% - D категория доходов.\n",
      "Среди всех клиентов у 0.10% - E категория доходов.\n"
     ]
    }
   ],
   "source": [
    "# Выведем информацию в процентах\n",
    "for category in 'ABCDE':\n",
    "    total_income_category_count_percent = data[data['total_income_category'] == category ]['total_income_category'].count() / data['total_income_category'].count()\n",
    "    print(f'Среди всех клиентов у {total_income_category_count_percent:.2%} - {category} категория доходов.')"
   ]
  },
  {
   "cell_type": "code",
   "execution_count": 44,
   "id": "e36e16c2",
   "metadata": {},
   "outputs": [
    {
     "data": {
      "text/plain": [
       "<AxesSubplot:xlabel='total_income', ylabel='Count'>"
      ]
     },
     "execution_count": 44,
     "metadata": {},
     "output_type": "execute_result"
    },
    {
     "data": {
      "image/png": "[encoded data removed]",
      "text/plain": [
       "<Figure size 432x288 with 1 Axes>"
      ]
     },
     "metadata": {},
     "output_type": "display_data"
    }
   ],
   "source": [
    "#Распределение всех клиентов по сумме доходов\n",
    "sns.histplot(\n",
    "    data,\n",
    "    x=\"total_income\")"
   ]
  },
  {
   "cell_type": "code",
   "execution_count": 45,
   "id": "0b8da7d1",
   "metadata": {},
   "outputs": [
    {
     "name": "stdout",
     "output_type": "stream",
     "text": [
      "Медианная заработная плата среди всех клиентов 142594\n",
      "Максимальная заработная плата среди всех клиентов 2265604\n"
     ]
    }
   ],
   "source": [
    "#Выделим некоторые характеристики выборки по доходам\n",
    "total_income_mean = data['total_income'].median()\n",
    "total_income_max = data['total_income'].max()\n",
    "print(f'''Медианная заработная плата среди всех клиентов {total_income_mean:.0f}\n",
    "Максимальная заработная плата среди всех клиентов {total_income_max:.0f}''')"
   ]
  },
  {
   "cell_type": "code",
   "execution_count": 46,
   "id": "b68ed4a3",
   "metadata": {},
   "outputs": [
    {
     "data": {
      "text/plain": [
       "<AxesSubplot:xlabel='total_income_category', ylabel='count'>"
      ]
     },
     "execution_count": 46,
     "metadata": {},
     "output_type": "execute_result"
    },
    {
     "data": {
      "image/png": "[encoded data removed]",
      "text/plain": [
       "<Figure size 432x288 with 1 Axes>"
      ]
     },
     "metadata": {},
     "output_type": "display_data"
    }
   ],
   "source": [
    "#Распределение клиентов имеющих задолжности по категориям доходов\n",
    "sns.countplot(x = debt_on['total_income_category'], data = data)"
   ]
  },
  {
   "cell_type": "code",
   "execution_count": 47,
   "id": "a71ce405",
   "metadata": {},
   "outputs": [
    {
     "name": "stdout",
     "output_type": "stream",
     "text": [
      "Среди клиентов имеющих задолжности у 0.12% - A категория доходов.\n",
      "Среди клиентов имеющих задолжности у 20.44% - B категория доходов.\n",
      "Среди клиентов имеющих задолжности у 78.12% - C категория доходов.\n",
      "Среди клиентов имеющих задолжности у 1.21% - D категория доходов.\n",
      "Среди клиентов имеющих задолжности у 0.12% - E категория доходов.\n"
     ]
    }
   ],
   "source": [
    "# Выведем информацию в процентах\n",
    "for category in 'ABCDE':\n",
    "    total_income_category_count_percent = debt_on[debt_on['total_income_category'] == category ]['total_income_category'].count() / debt_on['total_income_category'].count()\n",
    "    print(f'Среди клиентов имеющих задолжности у {total_income_category_count_percent:.2%} - {category} категория доходов.')"
   ]
  },
  {
   "cell_type": "code",
   "execution_count": 48,
   "id": "7069ad83",
   "metadata": {},
   "outputs": [
    {
     "data": {
      "text/plain": [
       "<AxesSubplot:xlabel='total_income_category', ylabel='count'>"
      ]
     },
     "execution_count": 48,
     "metadata": {},
     "output_type": "execute_result"
    },
    {
     "data": {
      "image/png": "[encoded data removed]",
      "text/plain": [
       "<Figure size 432x288 with 1 Axes>"
      ]
     },
     "metadata": {},
     "output_type": "display_data"
    }
   ],
   "source": [
    "#Распределение клиентов не имеющих задолжности по категориям доходов\n",
    "sns.countplot(x = debt_off['total_income_category'], data = data)"
   ]
  },
  {
   "cell_type": "code",
   "execution_count": 49,
   "id": "76f127d9",
   "metadata": {},
   "outputs": [
    {
     "name": "stdout",
     "output_type": "stream",
     "text": [
      "Среди клиентов не имеющих задолжности у 0.12% - A категория доходов.\n",
      "Среди клиентов не имеющих задолжности у 23.78% - B категория доходов.\n",
      "Среди клиентов не имеющих задолжности у 74.33% - C категория доходов.\n",
      "Среди клиентов не имеющих задолжности у 1.67% - D категория доходов.\n",
      "Среди клиентов не имеющих задолжности у 0.10% - E категория доходов.\n"
     ]
    }
   ],
   "source": [
    "# Выведем информацию в процентах\n",
    "for category in 'ABCDE':\n",
    "    total_income_category_count_percent = debt_off[debt_off['total_income_category'] == category ]['total_income_category'].count() / debt_off['total_income_category'].count()\n",
    "    print(f'Среди клиентов не имеющих задолжности у {total_income_category_count_percent:.2%} - {category} категория доходов.')"
   ]
  },
  {
   "cell_type": "code",
   "execution_count": 50,
   "id": "5ecbd3cd",
   "metadata": {},
   "outputs": [
    {
     "data": {
      "text/html": [
       "<div>\n",
       "<style scoped>\n",
       "    .dataframe tbody tr th:only-of-type {\n",
       "        vertical-align: middle;\n",
       "    }\n",
       "\n",
       "    .dataframe tbody tr th {\n",
       "        vertical-align: top;\n",
       "    }\n",
       "\n",
       "    .dataframe thead th {\n",
       "        text-align: right;\n",
       "    }\n",
       "</style>\n",
       "<table border=\"1\" class=\"dataframe\">\n",
       "  <thead>\n",
       "    <tr style=\"text-align: right;\">\n",
       "      <th></th>\n",
       "      <th>Всего кредитополучателей</th>\n",
       "      <th>Всего должников</th>\n",
       "      <th>Доля должников</th>\n",
       "    </tr>\n",
       "    <tr>\n",
       "      <th>total_income_category</th>\n",
       "      <th></th>\n",
       "      <th></th>\n",
       "      <th></th>\n",
       "    </tr>\n",
       "  </thead>\n",
       "  <tbody>\n",
       "    <tr>\n",
       "      <th>A</th>\n",
       "      <td>25</td>\n",
       "      <td>2</td>\n",
       "      <td>0.080000</td>\n",
       "    </tr>\n",
       "    <tr>\n",
       "      <th>B</th>\n",
       "      <td>5014</td>\n",
       "      <td>354</td>\n",
       "      <td>0.070602</td>\n",
       "    </tr>\n",
       "    <tr>\n",
       "      <th>C</th>\n",
       "      <td>15921</td>\n",
       "      <td>1353</td>\n",
       "      <td>0.084982</td>\n",
       "    </tr>\n",
       "    <tr>\n",
       "      <th>D</th>\n",
       "      <td>349</td>\n",
       "      <td>21</td>\n",
       "      <td>0.060172</td>\n",
       "    </tr>\n",
       "    <tr>\n",
       "      <th>E</th>\n",
       "      <td>22</td>\n",
       "      <td>2</td>\n",
       "      <td>0.090909</td>\n",
       "    </tr>\n",
       "  </tbody>\n",
       "</table>\n",
       "</div>"
      ],
      "text/plain": [
       "                       Всего кредитополучателей  Всего должников  \\\n",
       "total_income_category                                              \n",
       "A                                            25                2   \n",
       "B                                          5014              354   \n",
       "C                                         15921             1353   \n",
       "D                                           349               21   \n",
       "E                                            22                2   \n",
       "\n",
       "                       Доля должников  \n",
       "total_income_category                  \n",
       "A                            0.080000  \n",
       "B                            0.070602  \n",
       "C                            0.084982  \n",
       "D                            0.060172  \n",
       "E                            0.090909  "
      ]
     },
     "metadata": {},
     "output_type": "display_data"
    }
   ],
   "source": [
    "#сводная таблица по доджникам среди категорий доходов\n",
    "final_table(data, 'total_income_category')"
   ]
  },
  {
   "cell_type": "markdown",
   "id": "3eb6df1c",
   "metadata": {
    "deletable": false,
    "id": "e8593def"
   },
   "source": [
    "**Вывод:** \n",
    "- 3/4 категорий доходности клиентов приходится на доходность класса С которая включает диапазон\n",
    "- Так же категория доходов С  повышает риск не выплаты кредитов в срок, более благонадежной оказадась категория B в которую попадают клиенты с доходом от 50001 до 200000."
   ]
  },
  {
   "cell_type": "markdown",
   "id": "5745a921",
   "metadata": {},
   "source": [
    "<div class=\"alert alert-success\">\n",
    "<b>Комментарий ревьюера №2</b> \n",
    "    \n",
    "👍\n",
    "</div>"
   ]
  },
  {
   "cell_type": "markdown",
   "id": "c2c53149",
   "metadata": {
    "deletable": false,
    "editable": false,
    "id": "99ecbd1f"
   },
   "source": [
    "#### 3.4 Как разные цели кредита влияют на его возврат в срок?"
   ]
  },
  {
   "cell_type": "code",
   "execution_count": 51,
   "id": "170b85f1",
   "metadata": {
    "deletable": false,
    "id": "2b687290"
   },
   "outputs": [
    {
     "data": {
      "text/plain": [
       "<AxesSubplot:xlabel='count', ylabel='purpose_category'>"
      ]
     },
     "execution_count": 51,
     "metadata": {},
     "output_type": "execute_result"
    },
    {
     "data": {
      "image/png": "[encoded data removed]",
      "text/plain": [
       "<Figure size 432x288 with 1 Axes>"
      ]
     },
     "metadata": {},
     "output_type": "display_data"
    }
   ],
   "source": [
    "# Ваш код будет здесь. Вы можете создавать новые ячейки.\n",
    "#Распределение целей кредита среди всех клиентов\n",
    "sns.countplot(y =\"purpose_category\", data =data)"
   ]
  },
  {
   "cell_type": "code",
   "execution_count": 52,
   "id": "7b59133e",
   "metadata": {},
   "outputs": [],
   "source": [
    "# Блок со всеми целями взятия кредита\n",
    "unicue_purpose_category = data['purpose_category'].unique()"
   ]
  },
  {
   "cell_type": "code",
   "execution_count": 53,
   "id": "63ef8e4e",
   "metadata": {},
   "outputs": [
    {
     "name": "stdout",
     "output_type": "stream",
     "text": [
      "Среди всех клиентов 50.40%  берут кредит для категории: операции с недвижимостью.\n",
      "Среди всех клиентов 20.06%  берут кредит для категории: операции с автомобилем.\n",
      "Среди всех клиентов 18.70%  берут кредит для категории: получение образования.\n",
      "Среди всех клиентов 10.84%  берут кредит для категории: проведение свадьбы.\n"
     ]
    }
   ],
   "source": [
    "# Выведем информацию в процентах\n",
    "for category in unicue_purpose_category:\n",
    "    purpose_category_count_percent = data[data['purpose_category'] == category ]['purpose_category'].count() / data['purpose_category'].count()\n",
    "    print(f'Среди всех клиентов {purpose_category_count_percent:.2%}  берут кредит для категории: {category}.')"
   ]
  },
  {
   "cell_type": "code",
   "execution_count": 54,
   "id": "5093628a",
   "metadata": {},
   "outputs": [
    {
     "data": {
      "text/plain": [
       "<AxesSubplot:xlabel='count', ylabel='purpose_category'>"
      ]
     },
     "execution_count": 54,
     "metadata": {},
     "output_type": "execute_result"
    },
    {
     "data": {
      "image/png": "[encoded data removed]",
      "text/plain": [
       "<Figure size 432x288 with 1 Axes>"
      ]
     },
     "metadata": {},
     "output_type": "display_data"
    }
   ],
   "source": [
    "#Распределение целей кредита среди  клиентов имеющих задолжности\n",
    "sns.countplot(y=debt_on['purpose_category'], data=data)"
   ]
  },
  {
   "cell_type": "code",
   "execution_count": 55,
   "id": "a70dc3d4",
   "metadata": {},
   "outputs": [
    {
     "name": "stdout",
     "output_type": "stream",
     "text": [
      "Среди клиентов имеющих задолжности 45.03%  берут кредит для категории: операции с недвижимостью.\n",
      "Среди клиентов имеющих задолжности 23.09%  берут кредит для категории: операции с автомобилем.\n",
      "Среди клиентов имеющих задолжности 21.30%  берут кредит для категории: получение образования.\n",
      "Среди клиентов имеющих задолжности 10.57%  берут кредит для категории: проведение свадьбы.\n"
     ]
    }
   ],
   "source": [
    "# Выведем информацию в процентах\n",
    "for category in unicue_purpose_category:\n",
    "    purpose_category_count_percent = debt_on[debt_on['purpose_category'] == category ]['purpose_category'].count() / debt_on['purpose_category'].count()\n",
    "    print(f'Среди клиентов имеющих задолжности {purpose_category_count_percent:.2%}  берут кредит для категории: {category}.')"
   ]
  },
  {
   "cell_type": "code",
   "execution_count": 56,
   "id": "f3ba27f7",
   "metadata": {},
   "outputs": [
    {
     "data": {
      "text/plain": [
       "<AxesSubplot:xlabel='count', ylabel='purpose_category'>"
      ]
     },
     "execution_count": 56,
     "metadata": {},
     "output_type": "execute_result"
    },
    {
     "data": {
      "image/png": "[encoded data removed]",
      "text/plain": [
       "<Figure size 432x288 with 1 Axes>"
      ]
     },
     "metadata": {},
     "output_type": "display_data"
    }
   ],
   "source": [
    "#Распределение целей кредита среди  клиентов не имеющих задолжности\n",
    "sns.countplot(y=debt_off['purpose_category'], data=data)"
   ]
  },
  {
   "cell_type": "code",
   "execution_count": 57,
   "id": "08d61176",
   "metadata": {},
   "outputs": [
    {
     "name": "stdout",
     "output_type": "stream",
     "text": [
      "Среди клиентов не имеющих задолжности 50.88%  берут кредит для категории: операции с недвижимостью.\n",
      "Среди клиентов не имеющих задолжности 19.79%  берут кредит для категории: операции с автомобилем.\n",
      "Среди клиентов не имеющих задолжности 18.47%  берут кредит для категории: получение образования.\n",
      "Среди клиентов не имеющих задолжности 10.87%  берут кредит для категории: проведение свадьбы.\n"
     ]
    }
   ],
   "source": [
    "# Выведем информацию в процентах\n",
    "for category in unicue_purpose_category:\n",
    "    purpose_category_count_percent = debt_off[debt_off['purpose_category'] == category ]['purpose_category'].count() / debt_off['purpose_category'].count()\n",
    "    print(f'Среди клиентов не имеющих задолжности {purpose_category_count_percent:.2%}  берут кредит для категории: {category}.')"
   ]
  },
  {
   "cell_type": "code",
   "execution_count": 58,
   "id": "4e329ab0",
   "metadata": {},
   "outputs": [
    {
     "data": {
      "text/html": [
       "<div>\n",
       "<style scoped>\n",
       "    .dataframe tbody tr th:only-of-type {\n",
       "        vertical-align: middle;\n",
       "    }\n",
       "\n",
       "    .dataframe tbody tr th {\n",
       "        vertical-align: top;\n",
       "    }\n",
       "\n",
       "    .dataframe thead th {\n",
       "        text-align: right;\n",
       "    }\n",
       "</style>\n",
       "<table border=\"1\" class=\"dataframe\">\n",
       "  <thead>\n",
       "    <tr style=\"text-align: right;\">\n",
       "      <th></th>\n",
       "      <th>Всего кредитополучателей</th>\n",
       "      <th>Всего должников</th>\n",
       "      <th>Доля должников</th>\n",
       "    </tr>\n",
       "    <tr>\n",
       "      <th>purpose_category</th>\n",
       "      <th></th>\n",
       "      <th></th>\n",
       "      <th></th>\n",
       "    </tr>\n",
       "  </thead>\n",
       "  <tbody>\n",
       "    <tr>\n",
       "      <th>операции с автомобилем</th>\n",
       "      <td>4279</td>\n",
       "      <td>400</td>\n",
       "      <td>0.093480</td>\n",
       "    </tr>\n",
       "    <tr>\n",
       "      <th>операции с недвижимостью</th>\n",
       "      <td>10751</td>\n",
       "      <td>780</td>\n",
       "      <td>0.072551</td>\n",
       "    </tr>\n",
       "    <tr>\n",
       "      <th>получение образования</th>\n",
       "      <td>3988</td>\n",
       "      <td>369</td>\n",
       "      <td>0.092528</td>\n",
       "    </tr>\n",
       "    <tr>\n",
       "      <th>проведение свадьбы</th>\n",
       "      <td>2313</td>\n",
       "      <td>183</td>\n",
       "      <td>0.079118</td>\n",
       "    </tr>\n",
       "  </tbody>\n",
       "</table>\n",
       "</div>"
      ],
      "text/plain": [
       "                          Всего кредитополучателей  Всего должников  \\\n",
       "purpose_category                                                      \n",
       "операции с автомобилем                        4279              400   \n",
       "операции с недвижимостью                     10751              780   \n",
       "получение образования                         3988              369   \n",
       "проведение свадьбы                            2313              183   \n",
       "\n",
       "                          Доля должников  \n",
       "purpose_category                          \n",
       "операции с автомобилем          0.093480  \n",
       "операции с недвижимостью        0.072551  \n",
       "получение образования           0.092528  \n",
       "проведение свадьбы              0.079118  "
      ]
     },
     "metadata": {},
     "output_type": "display_data"
    }
   ],
   "source": [
    "#сводная таблица по дожникам среди категорий целей заема\n",
    "final_table(data, 'purpose_category')"
   ]
  },
  {
   "cell_type": "markdown",
   "id": "9e925ec6",
   "metadata": {
    "deletable": false,
    "id": "b4bb2ce6"
   },
   "source": [
    "**Вывод:** \n",
    "- Почти половина клиентов берет кредит для операций с недвижимостью\n",
    "- Если клиент берет кредит для операций с автомобилем, то повышается риск невозврата кредита в срок."
   ]
  },
  {
   "cell_type": "markdown",
   "id": "79653754",
   "metadata": {},
   "source": [
    "<div class=\"alert alert-success\">\n",
    "<b>Комментарий ревьюера №2</b> \n",
    "    \n",
    "Верно\n",
    "</div>"
   ]
  },
  {
   "cell_type": "markdown",
   "id": "a9ea56a4",
   "metadata": {
    "deletable": false,
    "editable": false,
    "id": "09c3ac4c"
   },
   "source": [
    "#### 3.5 Приведите возможные причины появления пропусков в исходных данных."
   ]
  },
  {
   "cell_type": "markdown",
   "id": "5b613ce6",
   "metadata": {
    "deletable": false,
    "id": "9da2ceda"
   },
   "source": [
    "*Ответ:* \n",
    "- Не все клиенты получают \"белую\" зарплату, они могут получать ее на руки, такая зарплата не отражается в налогах, а стаж не отражается в трудовой книжке, поэтому стаж работы и доходы могут отсутствовать\n",
    "- Клиент может быть временно безработным, например студенты, пенсионеры или женщины в декрете \n",
    "- Могли произойти ошибки при выгрузке данных"
   ]
  },
  {
   "cell_type": "markdown",
   "id": "f0b003aa",
   "metadata": {},
   "source": [
    "<div class=\"alert alert-success\">\n",
    "<b>Комментарий ревьюера №1</b> \n",
    "    \n",
    "Хорошие предположения\n",
    "</div>"
   ]
  },
  {
   "cell_type": "markdown",
   "id": "4a5a5b0f",
   "metadata": {
    "deletable": false,
    "editable": false,
    "id": "7b0487d6"
   },
   "source": [
    "#### 3.6 Объясните, почему заполнить пропуски медианным значением — лучшее решение для количественных переменных."
   ]
  },
  {
   "cell_type": "markdown",
   "id": "d92d9c66",
   "metadata": {
    "deletable": false,
    "id": "7ecf2b8e"
   },
   "source": [
    "*Ответ:* При рассчетах количественных данных максимальные и минимальные значения могут сильно исказать представление о выборке, для показаний средних значений в таких случаях лучше брать медианные значения, они будут делить выборку примерно поровнуу, проходя ровно посередине всех отсортированных значений, либо же можно взять усеченную выборку, в которой удалены несколько процентов с каждого края, таким образом можно избавиться от выбросов и тогда среднеарефметическое будет более коректно представлять среднее значение."
   ]
  },
  {
   "cell_type": "code",
   "execution_count": 59,
   "id": "5a043466",
   "metadata": {},
   "outputs": [
    {
     "data": {
      "text/plain": [
       "<AxesSubplot:xlabel='total_income'>"
      ]
     },
     "execution_count": 59,
     "metadata": {},
     "output_type": "execute_result"
    },
    {
     "data": {
      "image/png": "[encoded data removed]",
      "text/plain": [
       "<Figure size 432x288 with 1 Axes>"
      ]
     },
     "metadata": {},
     "output_type": "display_data"
    }
   ],
   "source": [
    "# Ящик с усами для распределения доходов, единичные выбросы миллионеров сильно искажают доходы \"работяг\"\n",
    "sns.boxplot(x=\"total_income\",  data=data,\n",
    "            whis=[0, 100], width=.6,)"
   ]
  },
  {
   "cell_type": "code",
   "execution_count": 60,
   "id": "ee258754",
   "metadata": {},
   "outputs": [
    {
     "name": "stdout",
     "output_type": "stream",
     "text": [
      "\n",
      "Максимальное значение: 2265604\n",
      "Минимальное значение: 20667\n",
      "Среднее значение: 165342.74576906848\n",
      "Медиана: 142594.0\n"
     ]
    }
   ],
   "source": [
    "total_income_max = data['total_income'].max()\n",
    "total_income_min = data['total_income'].min()\n",
    "total_inclome_mean = data['total_income'].mean()\n",
    "total_income_median = data['total_income'].median()\n",
    "\n",
    "print(f'''\n",
    "Максимальное значение: {total_income_max}\n",
    "Минимальное значение: {total_income_min}\n",
    "Среднее значение: {total_inclome_mean}\n",
    "Медиана: {total_income_median}''')"
   ]
  },
  {
   "cell_type": "markdown",
   "id": "576d0a87",
   "metadata": {},
   "source": [
    "<div class=\"alert alert-success\">\n",
    "<b>Комментарий ревьюера №1</b> \n",
    "    \n",
    "Да, смотрим на наличие выбросов👍\n",
    "</div>"
   ]
  },
  {
   "cell_type": "markdown",
   "id": "d6c7ca68",
   "metadata": {
    "deletable": false,
    "editable": false,
    "id": "6db5255a"
   },
   "source": [
    "### Шаг 4: общий вывод."
   ]
  },
  {
   "cell_type": "markdown",
   "id": "5c1876a6",
   "metadata": {
    "deletable": false,
    "id": "bad65432"
   },
   "source": [
    "Напишите ваш общий вывод. \n",
    "\n",
    "Данные выборок клиентов имевших и не имевших задолжности в прошлом довольно схожи, но есть некоторые закономерности.\n",
    "Кредит вовремя не выплачивают 8,1% клиентов, самые сильные факторы влияющие на не выплату кредита в срок являются:\n",
    "\n",
    "- Наличие детей: наличие ребенка\n",
    "- Семейный статус: \"Не женат / не замужем\" и \"гражданский брак\"\n",
    "- Зависимость от доходов: доходная категория С с доходами от 50001 до 200000\n",
    "- Цель кредита: операции с автомобилем  и образование.\n",
    "\n",
    "Рекомендации по описанию \"идеального\" клиента:\n",
    "- Наличие детей: без детей\n",
    "- Семейный статус: в разводе или вдовец/вдова\n",
    "- Зависимость от доходов: категории B и D\n",
    "- Цель кредита: свадьба и операции с недвижимостью"
   ]
  },
  {
   "cell_type": "markdown",
   "id": "af79c9b7",
   "metadata": {},
   "source": [
    "<div class=\"alert alert-success\">\n",
    "<b>Комментарий ревьюера №1</b> \n",
    "    \n",
    "Можно описать портрет \"идеального\" клиента и добавить рекомендации банку-заказчику\n",
    "</div>"
   ]
  },
  {
   "cell_type": "markdown",
   "id": "06e51cc6",
   "metadata": {},
   "source": [
    "<div style=\"border:solid purple 2px; padding: 20px\"> \n",
    "<b> <font color='purple' >   \n",
    "    \n",
    "В целом, работа хорошая. У тебя отличные аналитические навыки, но остались небольшие доработки. Доделывай и присылай на повторную проверку.\n",
    "        \n",
    "Жду твоих исправлений 😊\n",
    "</font></b>\n",
    "</div>"
   ]
  },
  {
   "cell_type": "markdown",
   "id": "464ee9e9",
   "metadata": {},
   "source": [
    "<div style=\"border:solid purple 2px; padding: 20px\"> \n",
    "<b> <font color='purple' >   \n",
    "Отлично! Критических замечаний больше нет. Проект принят! 👏 Поздравляю и желаю удачи!\n",
    "</font></b>\n",
    "</div>"
   ]
  }
 ],
 "metadata": {
  "ExecuteTimeLog": [
   {
    "duration": 46,
    "start_time": "2022-09-05T00:17:26.914Z"
   },
   {
    "duration": 1319,
    "start_time": "2022-09-05T00:17:45.543Z"
   },
   {
    "duration": 77,
    "start_time": "2022-09-05T00:17:53.908Z"
   },
   {
    "duration": 19,
    "start_time": "2022-09-05T00:17:53.986Z"
   },
   {
    "duration": 19,
    "start_time": "2022-09-05T00:17:54.007Z"
   },
   {
    "duration": 9,
    "start_time": "2022-09-05T00:17:54.027Z"
   },
   {
    "duration": 49,
    "start_time": "2022-09-05T00:17:54.038Z"
   },
   {
    "duration": 4,
    "start_time": "2022-09-05T00:17:54.088Z"
   },
   {
    "duration": 10,
    "start_time": "2022-09-05T00:17:54.093Z"
   },
   {
    "duration": 5,
    "start_time": "2022-09-05T00:17:54.105Z"
   },
   {
    "duration": 12,
    "start_time": "2022-09-05T00:17:54.111Z"
   },
   {
    "duration": 5,
    "start_time": "2022-09-05T00:17:54.124Z"
   },
   {
    "duration": 60,
    "start_time": "2022-09-05T00:17:54.130Z"
   },
   {
    "duration": 9,
    "start_time": "2022-09-05T00:17:54.192Z"
   },
   {
    "duration": 4,
    "start_time": "2022-09-05T00:17:54.202Z"
   },
   {
    "duration": 11,
    "start_time": "2022-09-05T00:17:54.208Z"
   },
   {
    "duration": 21,
    "start_time": "2022-09-05T00:17:54.221Z"
   },
   {
    "duration": 17,
    "start_time": "2022-09-05T00:17:54.243Z"
   },
   {
    "duration": 4,
    "start_time": "2022-09-05T00:17:54.286Z"
   },
   {
    "duration": 14,
    "start_time": "2022-09-05T00:17:54.291Z"
   },
   {
    "duration": 6,
    "start_time": "2022-09-05T00:17:54.306Z"
   },
   {
    "duration": 4,
    "start_time": "2022-09-05T00:17:54.313Z"
   },
   {
    "duration": 15,
    "start_time": "2022-09-05T00:17:54.319Z"
   },
   {
    "duration": 53,
    "start_time": "2022-09-05T00:17:54.335Z"
   },
   {
    "duration": 0,
    "start_time": "2022-09-05T00:17:54.389Z"
   },
   {
    "duration": 0,
    "start_time": "2022-09-05T00:17:54.390Z"
   },
   {
    "duration": 0,
    "start_time": "2022-09-05T00:17:54.392Z"
   },
   {
    "duration": 2,
    "start_time": "2022-09-05T00:19:39.659Z"
   },
   {
    "duration": 13,
    "start_time": "2022-09-05T00:21:12.734Z"
   },
   {
    "duration": 369,
    "start_time": "2022-09-05T00:23:17.467Z"
   },
   {
    "duration": 4,
    "start_time": "2022-09-05T00:24:49.630Z"
   },
   {
    "duration": 10,
    "start_time": "2022-09-05T00:25:05.637Z"
   },
   {
    "duration": 355,
    "start_time": "2022-09-05T00:25:13.108Z"
   },
   {
    "duration": 233,
    "start_time": "2022-09-05T00:25:38.417Z"
   },
   {
    "duration": 239,
    "start_time": "2022-09-05T00:25:58.911Z"
   },
   {
    "duration": 133,
    "start_time": "2022-09-05T00:26:03.317Z"
   },
   {
    "duration": 342,
    "start_time": "2022-09-05T00:26:07.187Z"
   },
   {
    "duration": 9,
    "start_time": "2022-09-05T00:37:09.831Z"
   },
   {
    "duration": 4,
    "start_time": "2022-09-05T00:37:19.380Z"
   },
   {
    "duration": 121,
    "start_time": "2022-09-05T00:37:20.467Z"
   },
   {
    "duration": 12,
    "start_time": "2022-09-05T00:37:44.556Z"
   },
   {
    "duration": 76,
    "start_time": "2022-09-05T00:37:57.157Z"
   },
   {
    "duration": 15,
    "start_time": "2022-09-05T00:37:57.235Z"
   },
   {
    "duration": 16,
    "start_time": "2022-09-05T00:37:57.252Z"
   },
   {
    "duration": 19,
    "start_time": "2022-09-05T00:37:57.269Z"
   },
   {
    "duration": 33,
    "start_time": "2022-09-05T00:37:57.290Z"
   },
   {
    "duration": 3,
    "start_time": "2022-09-05T00:37:57.324Z"
   },
   {
    "duration": 10,
    "start_time": "2022-09-05T00:37:57.329Z"
   },
   {
    "duration": 4,
    "start_time": "2022-09-05T00:37:57.341Z"
   },
   {
    "duration": 12,
    "start_time": "2022-09-05T00:37:57.346Z"
   },
   {
    "duration": 27,
    "start_time": "2022-09-05T00:37:57.360Z"
   },
   {
    "duration": 32,
    "start_time": "2022-09-05T00:37:57.388Z"
   },
   {
    "duration": 9,
    "start_time": "2022-09-05T00:37:57.422Z"
   },
   {
    "duration": 4,
    "start_time": "2022-09-05T00:37:57.433Z"
   },
   {
    "duration": 12,
    "start_time": "2022-09-05T00:37:57.439Z"
   },
   {
    "duration": 43,
    "start_time": "2022-09-05T00:37:57.453Z"
   },
   {
    "duration": 16,
    "start_time": "2022-09-05T00:37:57.498Z"
   },
   {
    "duration": 4,
    "start_time": "2022-09-05T00:37:57.515Z"
   },
   {
    "duration": 13,
    "start_time": "2022-09-05T00:37:57.520Z"
   },
   {
    "duration": 6,
    "start_time": "2022-09-05T00:37:57.535Z"
   },
   {
    "duration": 4,
    "start_time": "2022-09-05T00:37:57.543Z"
   },
   {
    "duration": 39,
    "start_time": "2022-09-05T00:37:57.548Z"
   },
   {
    "duration": 3,
    "start_time": "2022-09-05T00:37:57.588Z"
   },
   {
    "duration": 134,
    "start_time": "2022-09-05T00:37:57.592Z"
   },
   {
    "duration": 2,
    "start_time": "2022-09-05T00:37:57.728Z"
   },
   {
    "duration": 7,
    "start_time": "2022-09-05T00:37:57.732Z"
   },
   {
    "duration": 7,
    "start_time": "2022-09-05T00:37:57.741Z"
   },
   {
    "duration": 111,
    "start_time": "2022-09-05T00:39:19.192Z"
   },
   {
    "duration": 1232,
    "start_time": "2022-09-05T00:41:09.811Z"
   },
   {
    "duration": 211,
    "start_time": "2022-09-05T00:41:14.479Z"
   },
   {
    "duration": 110,
    "start_time": "2022-09-05T00:41:32.301Z"
   },
   {
    "duration": 138,
    "start_time": "2022-09-05T00:41:49.559Z"
   },
   {
    "duration": 91,
    "start_time": "2022-09-05T00:44:59.042Z"
   },
   {
    "duration": 119,
    "start_time": "2022-09-05T00:45:49.435Z"
   },
   {
    "duration": 10,
    "start_time": "2022-09-05T00:46:46.316Z"
   },
   {
    "duration": 1147,
    "start_time": "2022-09-05T00:48:51.675Z"
   },
   {
    "duration": 131,
    "start_time": "2022-09-05T00:49:11.110Z"
   },
   {
    "duration": 127,
    "start_time": "2022-09-05T00:49:28.129Z"
   },
   {
    "duration": 114,
    "start_time": "2022-09-05T00:49:45.528Z"
   },
   {
    "duration": 140,
    "start_time": "2022-09-05T00:51:14.064Z"
   },
   {
    "duration": 121,
    "start_time": "2022-09-05T00:51:29.104Z"
   },
   {
    "duration": 109,
    "start_time": "2022-09-05T00:52:08.957Z"
   },
   {
    "duration": 14,
    "start_time": "2022-09-05T00:53:44.921Z"
   },
   {
    "duration": 139,
    "start_time": "2022-09-05T00:54:08.900Z"
   },
   {
    "duration": 138,
    "start_time": "2022-09-05T00:55:00.579Z"
   },
   {
    "duration": 216,
    "start_time": "2022-09-05T01:00:37.653Z"
   },
   {
    "duration": 12,
    "start_time": "2022-09-05T01:02:13.829Z"
   },
   {
    "duration": 144,
    "start_time": "2022-09-05T01:02:24.855Z"
   },
   {
    "duration": 14,
    "start_time": "2022-09-05T01:03:38.001Z"
   },
   {
    "duration": 161,
    "start_time": "2022-09-05T01:07:49.928Z"
   },
   {
    "duration": 137,
    "start_time": "2022-09-05T01:13:21.525Z"
   },
   {
    "duration": 107,
    "start_time": "2022-09-05T01:13:29.735Z"
   },
   {
    "duration": 89,
    "start_time": "2022-09-05T01:13:54.865Z"
   },
   {
    "duration": 52,
    "start_time": "2022-09-05T01:14:17.711Z"
   },
   {
    "duration": 71,
    "start_time": "2022-09-05T01:14:21.546Z"
   },
   {
    "duration": 14,
    "start_time": "2022-09-05T01:14:28.591Z"
   },
   {
    "duration": 0,
    "start_time": "2022-09-05T01:15:24.589Z"
   },
   {
    "duration": 50,
    "start_time": "2022-09-05T01:15:26.030Z"
   },
   {
    "duration": 118,
    "start_time": "2022-09-05T01:15:31.415Z"
   },
   {
    "duration": 13,
    "start_time": "2022-09-05T01:16:55.649Z"
   },
   {
    "duration": 11,
    "start_time": "2022-09-05T01:17:28.882Z"
   },
   {
    "duration": 11,
    "start_time": "2022-09-05T01:17:44.183Z"
   },
   {
    "duration": 11,
    "start_time": "2022-09-05T01:17:56.124Z"
   },
   {
    "duration": 115,
    "start_time": "2022-09-05T01:18:11.725Z"
   },
   {
    "duration": 125,
    "start_time": "2022-09-05T01:19:22.548Z"
   },
   {
    "duration": 5,
    "start_time": "2022-09-05T01:21:55.387Z"
   },
   {
    "duration": 6,
    "start_time": "2022-09-05T01:22:39.365Z"
   },
   {
    "duration": 6,
    "start_time": "2022-09-05T01:23:24.899Z"
   },
   {
    "duration": 5,
    "start_time": "2022-09-05T01:23:32.422Z"
   },
   {
    "duration": 557,
    "start_time": "2022-09-05T01:28:00.341Z"
   },
   {
    "duration": 49,
    "start_time": "2022-09-05T06:16:50.945Z"
   },
   {
    "duration": 705,
    "start_time": "2022-09-05T06:16:57.288Z"
   },
   {
    "duration": 29,
    "start_time": "2022-09-05T06:16:57.995Z"
   },
   {
    "duration": 40,
    "start_time": "2022-09-05T06:16:58.026Z"
   },
   {
    "duration": 19,
    "start_time": "2022-09-05T06:16:58.068Z"
   },
   {
    "duration": 38,
    "start_time": "2022-09-05T06:16:58.089Z"
   },
   {
    "duration": 3,
    "start_time": "2022-09-05T06:16:58.129Z"
   },
   {
    "duration": 14,
    "start_time": "2022-09-05T06:16:58.134Z"
   },
   {
    "duration": 17,
    "start_time": "2022-09-05T06:16:58.149Z"
   },
   {
    "duration": 21,
    "start_time": "2022-09-05T06:16:58.168Z"
   },
   {
    "duration": 8,
    "start_time": "2022-09-05T06:16:58.191Z"
   },
   {
    "duration": 47,
    "start_time": "2022-09-05T06:16:58.200Z"
   },
   {
    "duration": 10,
    "start_time": "2022-09-05T06:16:58.248Z"
   },
   {
    "duration": 22,
    "start_time": "2022-09-05T06:16:58.259Z"
   },
   {
    "duration": 16,
    "start_time": "2022-09-05T06:16:58.283Z"
   },
   {
    "duration": 33,
    "start_time": "2022-09-05T06:16:58.301Z"
   },
   {
    "duration": 17,
    "start_time": "2022-09-05T06:16:58.335Z"
   },
   {
    "duration": 3,
    "start_time": "2022-09-05T06:16:58.354Z"
   },
   {
    "duration": 27,
    "start_time": "2022-09-05T06:16:58.359Z"
   },
   {
    "duration": 20,
    "start_time": "2022-09-05T06:16:58.388Z"
   },
   {
    "duration": 13,
    "start_time": "2022-09-05T06:16:58.409Z"
   },
   {
    "duration": 29,
    "start_time": "2022-09-05T06:16:58.423Z"
   },
   {
    "duration": 926,
    "start_time": "2022-09-05T06:16:58.454Z"
   },
   {
    "duration": 124,
    "start_time": "2022-09-05T06:16:59.386Z"
   },
   {
    "duration": 139,
    "start_time": "2022-09-05T06:16:59.512Z"
   },
   {
    "duration": 11,
    "start_time": "2022-09-05T06:16:59.652Z"
   },
   {
    "duration": 171,
    "start_time": "2022-09-05T06:16:59.664Z"
   },
   {
    "duration": 152,
    "start_time": "2022-09-05T06:16:59.836Z"
   },
   {
    "duration": 652,
    "start_time": "2022-09-05T06:16:59.991Z"
   },
   {
    "duration": 160,
    "start_time": "2022-09-05T06:17:00.645Z"
   },
   {
    "duration": 129,
    "start_time": "2022-09-05T06:17:00.807Z"
   },
   {
    "duration": 6,
    "start_time": "2022-09-05T06:17:00.937Z"
   },
   {
    "duration": 185,
    "start_time": "2022-09-05T06:17:00.945Z"
   },
   {
    "duration": 140,
    "start_time": "2022-09-05T06:18:17.684Z"
   },
   {
    "duration": 117,
    "start_time": "2022-09-05T06:18:56.074Z"
   },
   {
    "duration": 140,
    "start_time": "2022-09-05T06:19:14.999Z"
   },
   {
    "duration": 132,
    "start_time": "2022-09-05T06:23:49.340Z"
   },
   {
    "duration": 169,
    "start_time": "2022-09-05T06:24:00.652Z"
   },
   {
    "duration": 152,
    "start_time": "2022-09-05T06:24:03.425Z"
   },
   {
    "duration": 163,
    "start_time": "2022-09-05T06:25:11.909Z"
   },
   {
    "duration": 154,
    "start_time": "2022-09-05T06:25:17.176Z"
   },
   {
    "duration": 151,
    "start_time": "2022-09-05T06:25:54.431Z"
   },
   {
    "duration": 130,
    "start_time": "2022-09-05T06:25:59.843Z"
   },
   {
    "duration": 55,
    "start_time": "2022-09-05T06:27:43.375Z"
   },
   {
    "duration": 50,
    "start_time": "2022-09-05T06:27:49.464Z"
   },
   {
    "duration": 271,
    "start_time": "2022-09-05T06:28:11.212Z"
   },
   {
    "duration": 161,
    "start_time": "2022-09-05T06:28:41.455Z"
   },
   {
    "duration": 103,
    "start_time": "2022-09-05T06:33:05.131Z"
   },
   {
    "duration": 110,
    "start_time": "2022-09-05T06:33:11.197Z"
   },
   {
    "duration": 162,
    "start_time": "2022-09-05T06:44:44.630Z"
   },
   {
    "duration": 595,
    "start_time": "2022-09-05T06:45:12.286Z"
   },
   {
    "duration": 457,
    "start_time": "2022-09-05T06:45:29.780Z"
   },
   {
    "duration": 138,
    "start_time": "2022-09-05T06:46:33.056Z"
   },
   {
    "duration": 132,
    "start_time": "2022-09-05T06:46:44.283Z"
   },
   {
    "duration": 158,
    "start_time": "2022-09-05T07:03:39.002Z"
   },
   {
    "duration": 127,
    "start_time": "2022-09-05T07:03:50.828Z"
   },
   {
    "duration": 124,
    "start_time": "2022-09-05T07:03:54.330Z"
   },
   {
    "duration": 55,
    "start_time": "2022-09-05T07:07:30.410Z"
   },
   {
    "duration": 75,
    "start_time": "2022-09-05T07:07:39.761Z"
   },
   {
    "duration": 4,
    "start_time": "2022-09-05T07:08:50.645Z"
   },
   {
    "duration": 35,
    "start_time": "2022-09-05T07:11:22.964Z"
   },
   {
    "duration": 25,
    "start_time": "2022-09-05T07:11:37.908Z"
   },
   {
    "duration": 8,
    "start_time": "2022-09-05T07:11:55.274Z"
   },
   {
    "duration": 10,
    "start_time": "2022-09-05T07:12:00.194Z"
   },
   {
    "duration": 16,
    "start_time": "2022-09-05T07:12:39.698Z"
   },
   {
    "duration": 24,
    "start_time": "2022-09-05T07:12:54.381Z"
   },
   {
    "duration": 1155,
    "start_time": "2022-09-05T07:13:26.193Z"
   },
   {
    "duration": 22,
    "start_time": "2022-09-05T07:13:33.428Z"
   },
   {
    "duration": 31,
    "start_time": "2022-09-05T07:15:13.631Z"
   },
   {
    "duration": 20,
    "start_time": "2022-09-05T07:15:32.142Z"
   },
   {
    "duration": 21,
    "start_time": "2022-09-05T07:15:44.739Z"
   },
   {
    "duration": 20,
    "start_time": "2022-09-05T07:15:52.424Z"
   },
   {
    "duration": 4,
    "start_time": "2022-09-05T07:18:11.841Z"
   },
   {
    "duration": 58,
    "start_time": "2022-09-05T07:22:05.486Z"
   },
   {
    "duration": 63,
    "start_time": "2022-09-05T07:24:09.025Z"
   },
   {
    "duration": 54,
    "start_time": "2022-09-05T07:24:18.775Z"
   },
   {
    "duration": 11,
    "start_time": "2022-09-05T07:24:26.806Z"
   },
   {
    "duration": 21,
    "start_time": "2022-09-05T07:24:42.398Z"
   },
   {
    "duration": 10,
    "start_time": "2022-09-05T07:24:52.071Z"
   },
   {
    "duration": 11,
    "start_time": "2022-09-05T07:25:40.560Z"
   },
   {
    "duration": 12,
    "start_time": "2022-09-05T07:25:51.205Z"
   },
   {
    "duration": 13,
    "start_time": "2022-09-05T07:26:59.639Z"
   },
   {
    "duration": 13,
    "start_time": "2022-09-05T07:27:05.470Z"
   },
   {
    "duration": 12,
    "start_time": "2022-09-05T07:27:33.658Z"
   },
   {
    "duration": 10,
    "start_time": "2022-09-05T07:28:00.403Z"
   },
   {
    "duration": 10,
    "start_time": "2022-09-05T07:28:04.213Z"
   },
   {
    "duration": 11,
    "start_time": "2022-09-05T07:28:10.197Z"
   },
   {
    "duration": 10,
    "start_time": "2022-09-05T07:28:28.494Z"
   },
   {
    "duration": 12,
    "start_time": "2022-09-05T07:28:32.117Z"
   },
   {
    "duration": 16,
    "start_time": "2022-09-05T07:28:49.209Z"
   },
   {
    "duration": 17,
    "start_time": "2022-09-05T07:28:52.994Z"
   },
   {
    "duration": 25,
    "start_time": "2022-09-05T07:37:57.109Z"
   },
   {
    "duration": 3,
    "start_time": "2022-09-05T07:40:50.937Z"
   },
   {
    "duration": 4,
    "start_time": "2022-09-05T07:41:13.321Z"
   },
   {
    "duration": 5,
    "start_time": "2022-09-05T07:41:23.932Z"
   },
   {
    "duration": 4,
    "start_time": "2022-09-05T07:41:32.703Z"
   },
   {
    "duration": 4,
    "start_time": "2022-09-05T07:41:36.213Z"
   },
   {
    "duration": 4,
    "start_time": "2022-09-05T07:41:50.217Z"
   },
   {
    "duration": 5,
    "start_time": "2022-09-05T07:43:17.321Z"
   },
   {
    "duration": 5,
    "start_time": "2022-09-05T07:44:29.162Z"
   },
   {
    "duration": 5,
    "start_time": "2022-09-05T07:44:32.349Z"
   },
   {
    "duration": 5,
    "start_time": "2022-09-05T07:44:36.848Z"
   },
   {
    "duration": 148,
    "start_time": "2022-09-05T07:50:08.586Z"
   },
   {
    "duration": 22,
    "start_time": "2022-09-05T07:54:10.216Z"
   },
   {
    "duration": 20,
    "start_time": "2022-09-05T07:55:44.628Z"
   },
   {
    "duration": 18,
    "start_time": "2022-09-05T07:59:51.657Z"
   },
   {
    "duration": 10,
    "start_time": "2022-09-05T08:00:14.149Z"
   },
   {
    "duration": 20,
    "start_time": "2022-09-05T08:01:41.548Z"
   },
   {
    "duration": 4,
    "start_time": "2022-09-05T08:06:04.789Z"
   },
   {
    "duration": 5,
    "start_time": "2022-09-05T08:06:17.457Z"
   },
   {
    "duration": 5,
    "start_time": "2022-09-05T08:06:37.729Z"
   },
   {
    "duration": 19,
    "start_time": "2022-09-05T08:21:10.938Z"
   },
   {
    "duration": 18,
    "start_time": "2022-09-05T08:21:24.970Z"
   },
   {
    "duration": 27,
    "start_time": "2022-09-05T08:21:46.449Z"
   },
   {
    "duration": 21,
    "start_time": "2022-09-05T08:21:57.331Z"
   },
   {
    "duration": 22,
    "start_time": "2022-09-05T08:22:55.917Z"
   },
   {
    "duration": 9,
    "start_time": "2022-09-05T08:23:15.366Z"
   },
   {
    "duration": 21,
    "start_time": "2022-09-05T08:23:40.765Z"
   },
   {
    "duration": 4,
    "start_time": "2022-09-05T08:30:58.779Z"
   },
   {
    "duration": 11,
    "start_time": "2022-09-05T08:39:26.619Z"
   },
   {
    "duration": 4,
    "start_time": "2022-09-05T08:39:37.244Z"
   },
   {
    "duration": 21,
    "start_time": "2022-09-05T08:39:38.985Z"
   },
   {
    "duration": 20,
    "start_time": "2022-09-05T08:40:11.574Z"
   },
   {
    "duration": 18,
    "start_time": "2022-09-05T08:40:24.962Z"
   },
   {
    "duration": 20,
    "start_time": "2022-09-05T08:40:39.627Z"
   },
   {
    "duration": 19,
    "start_time": "2022-09-05T08:45:58.360Z"
   },
   {
    "duration": 10,
    "start_time": "2022-09-05T08:46:40.230Z"
   },
   {
    "duration": 19,
    "start_time": "2022-09-05T08:54:29.220Z"
   },
   {
    "duration": 53,
    "start_time": "2022-09-05T08:58:18.621Z"
   },
   {
    "duration": 18,
    "start_time": "2022-09-05T08:58:28.728Z"
   },
   {
    "duration": 9,
    "start_time": "2022-09-05T08:58:36.968Z"
   },
   {
    "duration": 13,
    "start_time": "2022-09-05T08:58:42.156Z"
   },
   {
    "duration": 20,
    "start_time": "2022-09-05T08:58:50.449Z"
   },
   {
    "duration": 46,
    "start_time": "2022-09-05T08:58:59.522Z"
   },
   {
    "duration": 10,
    "start_time": "2022-09-05T08:59:04.897Z"
   },
   {
    "duration": 19,
    "start_time": "2022-09-05T08:59:15.113Z"
   },
   {
    "duration": 22,
    "start_time": "2022-09-05T08:59:22.022Z"
   },
   {
    "duration": 14,
    "start_time": "2022-09-05T08:59:36.340Z"
   },
   {
    "duration": 21,
    "start_time": "2022-09-05T08:59:44.144Z"
   },
   {
    "duration": 22,
    "start_time": "2022-09-05T09:15:15.196Z"
   },
   {
    "duration": 12,
    "start_time": "2022-09-05T09:15:34.408Z"
   },
   {
    "duration": 11,
    "start_time": "2022-09-05T09:15:38.259Z"
   },
   {
    "duration": 21,
    "start_time": "2022-09-05T09:15:54.663Z"
   },
   {
    "duration": 462,
    "start_time": "2022-09-05T09:34:43.249Z"
   },
   {
    "duration": 23,
    "start_time": "2022-09-05T09:34:43.713Z"
   },
   {
    "duration": 15,
    "start_time": "2022-09-05T09:34:43.737Z"
   },
   {
    "duration": 8,
    "start_time": "2022-09-05T09:34:43.758Z"
   },
   {
    "duration": 41,
    "start_time": "2022-09-05T09:34:43.768Z"
   },
   {
    "duration": 3,
    "start_time": "2022-09-05T09:34:43.810Z"
   },
   {
    "duration": 10,
    "start_time": "2022-09-05T09:34:43.815Z"
   },
   {
    "duration": 4,
    "start_time": "2022-09-05T09:34:43.826Z"
   },
   {
    "duration": 30,
    "start_time": "2022-09-05T09:34:43.833Z"
   },
   {
    "duration": 5,
    "start_time": "2022-09-05T09:34:43.867Z"
   },
   {
    "duration": 42,
    "start_time": "2022-09-05T09:34:43.873Z"
   },
   {
    "duration": 10,
    "start_time": "2022-09-05T09:34:43.916Z"
   },
   {
    "duration": 5,
    "start_time": "2022-09-05T09:34:43.927Z"
   },
   {
    "duration": 36,
    "start_time": "2022-09-05T09:34:43.933Z"
   },
   {
    "duration": 22,
    "start_time": "2022-09-05T09:34:43.970Z"
   },
   {
    "duration": 17,
    "start_time": "2022-09-05T09:34:43.993Z"
   },
   {
    "duration": 4,
    "start_time": "2022-09-05T09:34:44.011Z"
   },
   {
    "duration": 13,
    "start_time": "2022-09-05T09:34:44.016Z"
   },
   {
    "duration": 30,
    "start_time": "2022-09-05T09:34:44.030Z"
   },
   {
    "duration": 5,
    "start_time": "2022-09-05T09:34:44.061Z"
   },
   {
    "duration": 15,
    "start_time": "2022-09-05T09:34:44.068Z"
   },
   {
    "duration": 783,
    "start_time": "2022-09-05T09:34:44.085Z"
   },
   {
    "duration": 126,
    "start_time": "2022-09-05T09:34:44.870Z"
   },
   {
    "duration": 20,
    "start_time": "2022-09-05T09:34:44.998Z"
   },
   {
    "duration": 5,
    "start_time": "2022-09-05T09:34:45.020Z"
   },
   {
    "duration": 162,
    "start_time": "2022-09-05T09:34:45.027Z"
   },
   {
    "duration": 13,
    "start_time": "2022-09-05T09:34:45.191Z"
   },
   {
    "duration": 180,
    "start_time": "2022-09-05T09:34:45.207Z"
   },
   {
    "duration": 13,
    "start_time": "2022-09-05T09:34:45.389Z"
   },
   {
    "duration": 174,
    "start_time": "2022-09-05T09:34:45.404Z"
   },
   {
    "duration": 13,
    "start_time": "2022-09-05T09:34:45.580Z"
   },
   {
    "duration": 214,
    "start_time": "2022-09-05T09:34:45.595Z"
   },
   {
    "duration": 3,
    "start_time": "2022-09-05T09:34:45.811Z"
   },
   {
    "duration": 28,
    "start_time": "2022-09-05T09:34:45.816Z"
   },
   {
    "duration": 150,
    "start_time": "2022-09-05T09:34:45.845Z"
   },
   {
    "duration": 11,
    "start_time": "2022-09-05T09:34:45.996Z"
   },
   {
    "duration": 176,
    "start_time": "2022-09-05T09:34:46.009Z"
   },
   {
    "duration": 27,
    "start_time": "2022-09-05T09:34:46.187Z"
   },
   {
    "duration": 160,
    "start_time": "2022-09-05T09:34:46.217Z"
   },
   {
    "duration": 20,
    "start_time": "2022-09-05T09:34:46.379Z"
   },
   {
    "duration": 631,
    "start_time": "2022-09-05T09:34:46.401Z"
   },
   {
    "duration": 5,
    "start_time": "2022-09-05T09:34:47.034Z"
   },
   {
    "duration": 135,
    "start_time": "2022-09-05T09:34:47.041Z"
   },
   {
    "duration": 9,
    "start_time": "2022-09-05T09:34:47.178Z"
   },
   {
    "duration": 153,
    "start_time": "2022-09-05T09:34:47.188Z"
   },
   {
    "duration": 38,
    "start_time": "2022-09-05T09:34:47.343Z"
   },
   {
    "duration": 178,
    "start_time": "2022-09-05T09:34:47.384Z"
   },
   {
    "duration": 5,
    "start_time": "2022-09-05T09:34:47.563Z"
   },
   {
    "duration": 19,
    "start_time": "2022-09-05T09:34:47.570Z"
   },
   {
    "duration": 191,
    "start_time": "2022-09-05T09:34:47.591Z"
   },
   {
    "duration": 9,
    "start_time": "2022-09-05T09:34:47.784Z"
   },
   {
    "duration": 168,
    "start_time": "2022-09-05T09:34:47.795Z"
   },
   {
    "duration": 18,
    "start_time": "2022-09-05T09:34:47.965Z"
   },
   {
    "duration": 137,
    "start_time": "2022-09-05T09:34:47.985Z"
   },
   {
    "duration": 6,
    "start_time": "2022-09-05T09:34:48.124Z"
   },
   {
    "duration": 98,
    "start_time": "2022-09-15T12:28:37.722Z"
   },
   {
    "duration": 41,
    "start_time": "2022-09-15T13:08:12.932Z"
   },
   {
    "duration": 1427,
    "start_time": "2022-09-15T13:08:23.093Z"
   },
   {
    "duration": 20,
    "start_time": "2022-09-15T13:08:24.522Z"
   },
   {
    "duration": 21,
    "start_time": "2022-09-15T13:08:24.544Z"
   },
   {
    "duration": 21,
    "start_time": "2022-09-15T13:08:24.568Z"
   },
   {
    "duration": 32,
    "start_time": "2022-09-15T13:08:24.591Z"
   },
   {
    "duration": 3,
    "start_time": "2022-09-15T13:08:24.625Z"
   },
   {
    "duration": 14,
    "start_time": "2022-09-15T13:08:24.630Z"
   },
   {
    "duration": 4,
    "start_time": "2022-09-15T13:08:24.646Z"
   },
   {
    "duration": 7,
    "start_time": "2022-09-15T13:08:24.652Z"
   },
   {
    "duration": 25,
    "start_time": "2022-09-15T13:08:24.661Z"
   },
   {
    "duration": 32,
    "start_time": "2022-09-15T13:08:24.688Z"
   },
   {
    "duration": 8,
    "start_time": "2022-09-15T13:08:24.722Z"
   },
   {
    "duration": 5,
    "start_time": "2022-09-15T13:08:24.732Z"
   },
   {
    "duration": 14,
    "start_time": "2022-09-15T13:08:24.738Z"
   },
   {
    "duration": 46,
    "start_time": "2022-09-15T13:08:24.753Z"
   },
   {
    "duration": 18,
    "start_time": "2022-09-15T13:08:24.800Z"
   },
   {
    "duration": 3,
    "start_time": "2022-09-15T13:08:24.820Z"
   },
   {
    "duration": 13,
    "start_time": "2022-09-15T13:08:24.825Z"
   },
   {
    "duration": 9,
    "start_time": "2022-09-15T13:08:24.840Z"
   },
   {
    "duration": 3,
    "start_time": "2022-09-15T13:08:24.851Z"
   },
   {
    "duration": 10,
    "start_time": "2022-09-15T13:08:24.855Z"
   },
   {
    "duration": 27,
    "start_time": "2022-09-15T13:08:24.866Z"
   },
   {
    "duration": 131,
    "start_time": "2022-09-15T13:08:24.895Z"
   },
   {
    "duration": 20,
    "start_time": "2022-09-15T13:08:25.028Z"
   },
   {
    "duration": 7,
    "start_time": "2022-09-15T13:08:25.049Z"
   },
   {
    "duration": 172,
    "start_time": "2022-09-15T13:08:25.057Z"
   },
   {
    "duration": 14,
    "start_time": "2022-09-15T13:08:25.230Z"
   },
   {
    "duration": 146,
    "start_time": "2022-09-15T13:08:25.247Z"
   },
   {
    "duration": 10,
    "start_time": "2022-09-15T13:08:25.395Z"
   },
   {
    "duration": 164,
    "start_time": "2022-09-15T13:08:25.406Z"
   },
   {
    "duration": 15,
    "start_time": "2022-09-15T13:08:25.572Z"
   },
   {
    "duration": 20,
    "start_time": "2022-09-15T13:08:25.596Z"
   },
   {
    "duration": 180,
    "start_time": "2022-09-15T13:08:25.618Z"
   },
   {
    "duration": 4,
    "start_time": "2022-09-15T13:08:25.800Z"
   },
   {
    "duration": 26,
    "start_time": "2022-09-15T13:08:25.806Z"
   },
   {
    "duration": 165,
    "start_time": "2022-09-15T13:08:25.834Z"
   },
   {
    "duration": 9,
    "start_time": "2022-09-15T13:08:26.001Z"
   },
   {
    "duration": 169,
    "start_time": "2022-09-15T13:08:26.012Z"
   },
   {
    "duration": 18,
    "start_time": "2022-09-15T13:08:26.192Z"
   },
   {
    "duration": 141,
    "start_time": "2022-09-15T13:08:26.212Z"
   },
   {
    "duration": 34,
    "start_time": "2022-09-15T13:08:26.355Z"
   },
   {
    "duration": 610,
    "start_time": "2022-09-15T13:08:26.391Z"
   },
   {
    "duration": 5,
    "start_time": "2022-09-15T13:08:27.002Z"
   },
   {
    "duration": 138,
    "start_time": "2022-09-15T13:08:27.008Z"
   },
   {
    "duration": 9,
    "start_time": "2022-09-15T13:08:27.148Z"
   },
   {
    "duration": 157,
    "start_time": "2022-09-15T13:08:27.158Z"
   },
   {
    "duration": 19,
    "start_time": "2022-09-15T13:08:27.317Z"
   },
   {
    "duration": 175,
    "start_time": "2022-09-15T13:08:27.338Z"
   },
   {
    "duration": 5,
    "start_time": "2022-09-15T13:08:27.515Z"
   },
   {
    "duration": 33,
    "start_time": "2022-09-15T13:08:27.522Z"
   },
   {
    "duration": 195,
    "start_time": "2022-09-15T13:08:27.556Z"
   },
   {
    "duration": 12,
    "start_time": "2022-09-15T13:08:27.753Z"
   },
   {
    "duration": 222,
    "start_time": "2022-09-15T13:08:27.778Z"
   },
   {
    "duration": 17,
    "start_time": "2022-09-15T13:08:28.002Z"
   },
   {
    "duration": 131,
    "start_time": "2022-09-15T13:08:28.021Z"
   },
   {
    "duration": 5,
    "start_time": "2022-09-15T13:08:28.154Z"
   },
   {
    "duration": 12,
    "start_time": "2022-09-15T13:16:05.896Z"
   },
   {
    "duration": 19,
    "start_time": "2022-09-15T13:19:12.533Z"
   },
   {
    "duration": 18,
    "start_time": "2022-09-15T13:19:17.866Z"
   },
   {
    "duration": 24,
    "start_time": "2022-09-15T13:20:27.299Z"
   },
   {
    "duration": 57,
    "start_time": "2022-09-15T13:21:35.075Z"
   },
   {
    "duration": 24,
    "start_time": "2022-09-15T13:21:57.229Z"
   },
   {
    "duration": 27,
    "start_time": "2022-09-15T13:22:01.146Z"
   },
   {
    "duration": 3,
    "start_time": "2022-09-15T13:27:22.623Z"
   },
   {
    "duration": 2266,
    "start_time": "2022-09-15T13:27:44.973Z"
   },
   {
    "duration": 4,
    "start_time": "2022-09-15T13:28:25.555Z"
   },
   {
    "duration": 3,
    "start_time": "2022-09-15T13:28:31.351Z"
   },
   {
    "duration": 1730,
    "start_time": "2022-09-15T13:28:34.285Z"
   },
   {
    "duration": 4,
    "start_time": "2022-09-15T13:30:16.033Z"
   },
   {
    "duration": 20,
    "start_time": "2022-09-15T13:30:19.101Z"
   },
   {
    "duration": 3,
    "start_time": "2022-09-15T13:32:19.993Z"
   },
   {
    "duration": 23,
    "start_time": "2022-09-15T13:32:21.805Z"
   },
   {
    "duration": 96,
    "start_time": "2022-09-15T13:33:22.843Z"
   },
   {
    "duration": 23,
    "start_time": "2022-09-15T13:33:28.902Z"
   },
   {
    "duration": 27,
    "start_time": "2022-09-15T13:33:57.245Z"
   },
   {
    "duration": 26,
    "start_time": "2022-09-15T13:35:11.527Z"
   },
   {
    "duration": 30,
    "start_time": "2022-09-15T13:36:55.491Z"
   },
   {
    "duration": 72,
    "start_time": "2022-09-15T13:47:53.327Z"
   },
   {
    "duration": 16,
    "start_time": "2022-09-15T13:47:53.401Z"
   },
   {
    "duration": 16,
    "start_time": "2022-09-15T13:47:53.418Z"
   },
   {
    "duration": 14,
    "start_time": "2022-09-15T13:47:53.437Z"
   },
   {
    "duration": 30,
    "start_time": "2022-09-15T13:47:53.478Z"
   },
   {
    "duration": 3,
    "start_time": "2022-09-15T13:47:53.510Z"
   },
   {
    "duration": 11,
    "start_time": "2022-09-15T13:47:53.515Z"
   },
   {
    "duration": 4,
    "start_time": "2022-09-15T13:47:53.528Z"
   },
   {
    "duration": 7,
    "start_time": "2022-09-15T13:47:53.534Z"
   },
   {
    "duration": 7,
    "start_time": "2022-09-15T13:47:53.577Z"
   },
   {
    "duration": 55,
    "start_time": "2022-09-15T13:47:53.586Z"
   },
   {
    "duration": 9,
    "start_time": "2022-09-15T13:47:53.643Z"
   },
   {
    "duration": 8,
    "start_time": "2022-09-15T13:47:53.653Z"
   },
   {
    "duration": 17,
    "start_time": "2022-09-15T13:47:53.663Z"
   },
   {
    "duration": 42,
    "start_time": "2022-09-15T13:47:53.681Z"
   },
   {
    "duration": 17,
    "start_time": "2022-09-15T13:47:53.724Z"
   },
   {
    "duration": 4,
    "start_time": "2022-09-15T13:47:53.742Z"
   },
   {
    "duration": 18,
    "start_time": "2022-09-15T13:47:53.747Z"
   },
   {
    "duration": 9,
    "start_time": "2022-09-15T13:47:53.767Z"
   },
   {
    "duration": 8,
    "start_time": "2022-09-15T13:47:53.777Z"
   },
   {
    "duration": 11,
    "start_time": "2022-09-15T13:47:53.786Z"
   },
   {
    "duration": 16,
    "start_time": "2022-09-15T13:47:53.798Z"
   },
   {
    "duration": 152,
    "start_time": "2022-09-15T13:47:53.816Z"
   },
   {
    "duration": 32,
    "start_time": "2022-09-15T13:47:53.969Z"
   },
   {
    "duration": 19,
    "start_time": "2022-09-15T13:47:54.004Z"
   },
   {
    "duration": 211,
    "start_time": "2022-09-15T13:47:54.024Z"
   },
   {
    "duration": 16,
    "start_time": "2022-09-15T13:47:54.236Z"
   },
   {
    "duration": 135,
    "start_time": "2022-09-15T13:47:54.256Z"
   },
   {
    "duration": 8,
    "start_time": "2022-09-15T13:47:54.393Z"
   },
   {
    "duration": 157,
    "start_time": "2022-09-15T13:47:54.403Z"
   },
   {
    "duration": 23,
    "start_time": "2022-09-15T13:47:54.561Z"
   },
   {
    "duration": 4,
    "start_time": "2022-09-15T13:47:54.586Z"
   },
   {
    "duration": 36,
    "start_time": "2022-09-15T13:47:54.592Z"
   },
   {
    "duration": 180,
    "start_time": "2022-09-15T13:47:54.630Z"
   },
   {
    "duration": 5,
    "start_time": "2022-09-15T13:47:54.811Z"
   },
   {
    "duration": 22,
    "start_time": "2022-09-15T13:47:54.817Z"
   },
   {
    "duration": 168,
    "start_time": "2022-09-15T13:47:54.841Z"
   },
   {
    "duration": 11,
    "start_time": "2022-09-15T13:47:55.011Z"
   },
   {
    "duration": 170,
    "start_time": "2022-09-15T13:47:55.024Z"
   },
   {
    "duration": 19,
    "start_time": "2022-09-15T13:47:55.196Z"
   },
   {
    "duration": 26,
    "start_time": "2022-09-15T13:47:55.217Z"
   },
   {
    "duration": 162,
    "start_time": "2022-09-15T13:47:55.244Z"
   },
   {
    "duration": 21,
    "start_time": "2022-09-15T13:47:55.408Z"
   },
   {
    "duration": 572,
    "start_time": "2022-09-15T13:47:55.431Z"
   },
   {
    "duration": 7,
    "start_time": "2022-09-15T13:47:56.005Z"
   },
   {
    "duration": 263,
    "start_time": "2022-09-15T13:47:56.014Z"
   },
   {
    "duration": 13,
    "start_time": "2022-09-15T13:47:56.279Z"
   },
   {
    "duration": 197,
    "start_time": "2022-09-15T13:47:56.294Z"
   },
   {
    "duration": 30,
    "start_time": "2022-09-15T13:47:56.494Z"
   },
   {
    "duration": 25,
    "start_time": "2022-09-15T13:47:56.525Z"
   },
   {
    "duration": 190,
    "start_time": "2022-09-15T13:47:56.552Z"
   },
   {
    "duration": 4,
    "start_time": "2022-09-15T13:47:56.744Z"
   },
   {
    "duration": 33,
    "start_time": "2022-09-15T13:47:56.749Z"
   },
   {
    "duration": 160,
    "start_time": "2022-09-15T13:47:56.784Z"
   },
   {
    "duration": 9,
    "start_time": "2022-09-15T13:47:56.946Z"
   },
   {
    "duration": 216,
    "start_time": "2022-09-15T13:47:56.957Z"
   },
   {
    "duration": 17,
    "start_time": "2022-09-15T13:47:57.177Z"
   },
   {
    "duration": 26,
    "start_time": "2022-09-15T13:47:57.196Z"
   },
   {
    "duration": 147,
    "start_time": "2022-09-15T13:47:57.224Z"
   },
   {
    "duration": 8,
    "start_time": "2022-09-15T13:47:57.373Z"
   },
   {
    "duration": 2108,
    "start_time": "2022-09-15T14:28:21.849Z"
   },
   {
    "duration": 22,
    "start_time": "2022-09-15T14:28:23.960Z"
   },
   {
    "duration": 18,
    "start_time": "2022-09-15T14:28:23.984Z"
   },
   {
    "duration": 11,
    "start_time": "2022-09-15T14:28:24.005Z"
   },
   {
    "duration": 41,
    "start_time": "2022-09-15T14:28:24.017Z"
   },
   {
    "duration": 4,
    "start_time": "2022-09-15T14:28:24.060Z"
   },
   {
    "duration": 33,
    "start_time": "2022-09-15T14:28:24.066Z"
   },
   {
    "duration": 4,
    "start_time": "2022-09-15T14:28:24.101Z"
   },
   {
    "duration": 14,
    "start_time": "2022-09-15T14:28:24.107Z"
   },
   {
    "duration": 4,
    "start_time": "2022-09-15T14:28:24.124Z"
   },
   {
    "duration": 40,
    "start_time": "2022-09-15T14:28:24.130Z"
   },
   {
    "duration": 31,
    "start_time": "2022-09-15T14:28:24.171Z"
   },
   {
    "duration": 4,
    "start_time": "2022-09-15T14:28:24.204Z"
   },
   {
    "duration": 14,
    "start_time": "2022-09-15T14:28:24.210Z"
   },
   {
    "duration": 21,
    "start_time": "2022-09-15T14:28:24.225Z"
   },
   {
    "duration": 19,
    "start_time": "2022-09-15T14:28:24.247Z"
   },
   {
    "duration": 27,
    "start_time": "2022-09-15T14:28:24.268Z"
   },
   {
    "duration": 10,
    "start_time": "2022-09-15T14:28:24.297Z"
   },
   {
    "duration": 14,
    "start_time": "2022-09-15T14:28:24.309Z"
   },
   {
    "duration": 4,
    "start_time": "2022-09-15T14:28:24.325Z"
   },
   {
    "duration": 11,
    "start_time": "2022-09-15T14:28:24.330Z"
   },
   {
    "duration": 14,
    "start_time": "2022-09-15T14:28:24.342Z"
   },
   {
    "duration": 164,
    "start_time": "2022-09-15T14:28:24.358Z"
   },
   {
    "duration": 23,
    "start_time": "2022-09-15T14:28:24.524Z"
   },
   {
    "duration": 7,
    "start_time": "2022-09-15T14:28:24.548Z"
   },
   {
    "duration": 171,
    "start_time": "2022-09-15T14:28:24.557Z"
   },
   {
    "duration": 15,
    "start_time": "2022-09-15T14:28:24.729Z"
   },
   {
    "duration": 173,
    "start_time": "2022-09-15T14:28:24.749Z"
   },
   {
    "duration": 10,
    "start_time": "2022-09-15T14:28:24.924Z"
   },
   {
    "duration": 174,
    "start_time": "2022-09-15T14:28:24.936Z"
   },
   {
    "duration": 14,
    "start_time": "2022-09-15T14:28:25.112Z"
   },
   {
    "duration": 3,
    "start_time": "2022-09-15T14:28:25.128Z"
   },
   {
    "duration": 29,
    "start_time": "2022-09-15T14:28:25.133Z"
   },
   {
    "duration": 199,
    "start_time": "2022-09-15T14:28:25.164Z"
   },
   {
    "duration": 4,
    "start_time": "2022-09-15T14:28:25.365Z"
   },
   {
    "duration": 39,
    "start_time": "2022-09-15T14:28:25.371Z"
   },
   {
    "duration": 169,
    "start_time": "2022-09-15T14:28:25.411Z"
   },
   {
    "duration": 16,
    "start_time": "2022-09-15T14:28:25.582Z"
   },
   {
    "duration": 202,
    "start_time": "2022-09-15T14:28:25.600Z"
   },
   {
    "duration": 23,
    "start_time": "2022-09-15T14:28:25.804Z"
   },
   {
    "duration": 29,
    "start_time": "2022-09-15T14:28:25.829Z"
   },
   {
    "duration": 188,
    "start_time": "2022-09-15T14:28:25.860Z"
   },
   {
    "duration": 23,
    "start_time": "2022-09-15T14:28:26.050Z"
   },
   {
    "duration": 817,
    "start_time": "2022-09-15T14:28:26.075Z"
   },
   {
    "duration": 6,
    "start_time": "2022-09-15T14:28:26.897Z"
   },
   {
    "duration": 185,
    "start_time": "2022-09-15T14:28:26.904Z"
   },
   {
    "duration": 15,
    "start_time": "2022-09-15T14:28:27.094Z"
   },
   {
    "duration": 190,
    "start_time": "2022-09-15T14:28:27.111Z"
   },
   {
    "duration": 21,
    "start_time": "2022-09-15T14:28:27.303Z"
   },
   {
    "duration": 28,
    "start_time": "2022-09-15T14:28:27.326Z"
   },
   {
    "duration": 195,
    "start_time": "2022-09-15T14:28:27.355Z"
   },
   {
    "duration": 4,
    "start_time": "2022-09-15T14:28:27.552Z"
   },
   {
    "duration": 22,
    "start_time": "2022-09-15T14:28:27.557Z"
   },
   {
    "duration": 194,
    "start_time": "2022-09-15T14:28:27.581Z"
   },
   {
    "duration": 20,
    "start_time": "2022-09-15T14:28:27.777Z"
   },
   {
    "duration": 189,
    "start_time": "2022-09-15T14:28:27.799Z"
   },
   {
    "duration": 22,
    "start_time": "2022-09-15T14:28:27.990Z"
   },
   {
    "duration": 38,
    "start_time": "2022-09-15T14:28:28.014Z"
   },
   {
    "duration": 168,
    "start_time": "2022-09-15T14:28:28.054Z"
   },
   {
    "duration": 5,
    "start_time": "2022-09-15T14:28:28.224Z"
   },
   {
    "duration": 104,
    "start_time": "2022-09-15T14:35:51.819Z"
   },
   {
    "duration": 143,
    "start_time": "2022-09-15T14:37:52.599Z"
   }
  ],
  "colab": {
   "name": "dpp_template_part2.ipynb",
   "provenance": []
  },
  "kernelspec": {
   "display_name": "Python 3 (ipykernel)",
   "language": "python",
   "name": "python3"
  },
  "language_info": {
   "codemirror_mode": {
    "name": "ipython",
    "version": 3
   },
   "file_extension": ".py",
   "mimetype": "text/x-python",
   "name": "python",
   "nbconvert_exporter": "python",
   "pygments_lexer": "ipython3",
   "version": "3.11.7"
  },
  "toc": {
   "base_numbering": 1,
   "nav_menu": {},
   "number_sections": true,
   "sideBar": true,
   "skip_h1_title": true,
   "title_cell": "Table of Contents",
   "title_sidebar": "Contents",
   "toc_cell": false,
   "toc_position": {},
   "toc_section_display": true,
   "toc_window_display": false
  }
 },
 "nbformat": 4,
 "nbformat_minor": 5
}
