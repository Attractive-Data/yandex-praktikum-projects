{
 "cells": [
  {
   "cell_type": "markdown",
   "id": "3ab8582f",
   "metadata": {
    "deletable": false,
    "editable": false,
    "id": "c81daeeb"
   },
   "source": [
    "# Исследование надежности заемщиков"
   ]
  },
  {
   "cell_type": "markdown",
   "id": "509b1bdd",
   "metadata": {
    "deletable": false,
    "editable": false,
    "id": "-G3EJWzf62s6"
   },
   "source": [
    "Это первая часть проекта, она будет проверена автоматически. Вторую часть проверит ревьюер. "
   ]
  },
  {
   "cell_type": "markdown",
   "id": "831a7418",
   "metadata": {
    "deletable": false,
    "editable": false,
    "id": "744d7639"
   },
   "source": [
    "## Откройте таблицу и изучите общую информацию о данных"
   ]
  },
  {
   "cell_type": "markdown",
   "id": "53827a13",
   "metadata": {
    "deletable": false,
    "editable": false,
    "id": "e7a14c31",
    "tags": [
     "start_task"
    ]
   },
   "source": [
    "**Задание 1. Импортируйте библиотеку pandas. Считайте данные из csv-файла в датафрейм и сохраните в переменную `data`. Путь к файлу:**\n",
    "\n",
    "`/datasets/data.csv`"
   ]
  },
  {
   "cell_type": "code",
   "execution_count": 402,
   "id": "3783e23f",
   "metadata": {
    "id": "7bcf75c9"
   },
   "outputs": [],
   "source": [
    "# импортируйте библиотеку pandas\n",
    "import pandas as pd"
   ]
  },
  {
   "cell_type": "code",
   "execution_count": 403,
   "id": "e8842895",
   "metadata": {
    "id": "4d240ee2"
   },
   "outputs": [],
   "source": [
    "# прочитайте csv-файл\n",
    "data = pd.read_csv('/datasets/data.csv')"
   ]
  },
  {
   "cell_type": "markdown",
   "id": "933656e0",
   "metadata": {
    "deletable": false,
    "editable": false,
    "id": "b8038fe3",
    "tags": [
     "start_task"
    ]
   },
   "source": [
    "**Задание 2. Выведите первые 20 строчек датафрейма `data` на экран.**"
   ]
  },
  {
   "cell_type": "code",
   "execution_count": 404,
   "id": "b5f32365",
   "metadata": {
    "id": "2a7cab99"
   },
   "outputs": [
    {
     "data": {
      "text/html": [
       "<div>\n",
       "<style scoped>\n",
       "    .dataframe tbody tr th:only-of-type {\n",
       "        vertical-align: middle;\n",
       "    }\n",
       "\n",
       "    .dataframe tbody tr th {\n",
       "        vertical-align: top;\n",
       "    }\n",
       "\n",
       "    .dataframe thead th {\n",
       "        text-align: right;\n",
       "    }\n",
       "</style>\n",
       "<table border=\"1\" class=\"dataframe\">\n",
       "  <thead>\n",
       "    <tr style=\"text-align: right;\">\n",
       "      <th></th>\n",
       "      <th>children</th>\n",
       "      <th>days_employed</th>\n",
       "      <th>dob_years</th>\n",
       "      <th>education</th>\n",
       "      <th>education_id</th>\n",
       "      <th>family_status</th>\n",
       "      <th>family_status_id</th>\n",
       "      <th>gender</th>\n",
       "      <th>income_type</th>\n",
       "      <th>debt</th>\n",
       "      <th>total_income</th>\n",
       "      <th>purpose</th>\n",
       "    </tr>\n",
       "  </thead>\n",
       "  <tbody>\n",
       "    <tr>\n",
       "      <th>0</th>\n",
       "      <td>1</td>\n",
       "      <td>-8437.673028</td>\n",
       "      <td>42</td>\n",
       "      <td>высшее</td>\n",
       "      <td>0</td>\n",
       "      <td>женат / замужем</td>\n",
       "      <td>0</td>\n",
       "      <td>F</td>\n",
       "      <td>сотрудник</td>\n",
       "      <td>0</td>\n",
       "      <td>253875.639453</td>\n",
       "      <td>покупка жилья</td>\n",
       "    </tr>\n",
       "    <tr>\n",
       "      <th>1</th>\n",
       "      <td>1</td>\n",
       "      <td>-4024.803754</td>\n",
       "      <td>36</td>\n",
       "      <td>среднее</td>\n",
       "      <td>1</td>\n",
       "      <td>женат / замужем</td>\n",
       "      <td>0</td>\n",
       "      <td>F</td>\n",
       "      <td>сотрудник</td>\n",
       "      <td>0</td>\n",
       "      <td>112080.014102</td>\n",
       "      <td>приобретение автомобиля</td>\n",
       "    </tr>\n",
       "    <tr>\n",
       "      <th>2</th>\n",
       "      <td>0</td>\n",
       "      <td>-5623.422610</td>\n",
       "      <td>33</td>\n",
       "      <td>Среднее</td>\n",
       "      <td>1</td>\n",
       "      <td>женат / замужем</td>\n",
       "      <td>0</td>\n",
       "      <td>M</td>\n",
       "      <td>сотрудник</td>\n",
       "      <td>0</td>\n",
       "      <td>145885.952297</td>\n",
       "      <td>покупка жилья</td>\n",
       "    </tr>\n",
       "    <tr>\n",
       "      <th>3</th>\n",
       "      <td>3</td>\n",
       "      <td>-4124.747207</td>\n",
       "      <td>32</td>\n",
       "      <td>среднее</td>\n",
       "      <td>1</td>\n",
       "      <td>женат / замужем</td>\n",
       "      <td>0</td>\n",
       "      <td>M</td>\n",
       "      <td>сотрудник</td>\n",
       "      <td>0</td>\n",
       "      <td>267628.550329</td>\n",
       "      <td>дополнительное образование</td>\n",
       "    </tr>\n",
       "    <tr>\n",
       "      <th>4</th>\n",
       "      <td>0</td>\n",
       "      <td>340266.072047</td>\n",
       "      <td>53</td>\n",
       "      <td>среднее</td>\n",
       "      <td>1</td>\n",
       "      <td>гражданский брак</td>\n",
       "      <td>1</td>\n",
       "      <td>F</td>\n",
       "      <td>пенсионер</td>\n",
       "      <td>0</td>\n",
       "      <td>158616.077870</td>\n",
       "      <td>сыграть свадьбу</td>\n",
       "    </tr>\n",
       "    <tr>\n",
       "      <th>5</th>\n",
       "      <td>0</td>\n",
       "      <td>-926.185831</td>\n",
       "      <td>27</td>\n",
       "      <td>высшее</td>\n",
       "      <td>0</td>\n",
       "      <td>гражданский брак</td>\n",
       "      <td>1</td>\n",
       "      <td>M</td>\n",
       "      <td>компаньон</td>\n",
       "      <td>0</td>\n",
       "      <td>255763.565419</td>\n",
       "      <td>покупка жилья</td>\n",
       "    </tr>\n",
       "    <tr>\n",
       "      <th>6</th>\n",
       "      <td>0</td>\n",
       "      <td>-2879.202052</td>\n",
       "      <td>43</td>\n",
       "      <td>высшее</td>\n",
       "      <td>0</td>\n",
       "      <td>женат / замужем</td>\n",
       "      <td>0</td>\n",
       "      <td>F</td>\n",
       "      <td>компаньон</td>\n",
       "      <td>0</td>\n",
       "      <td>240525.971920</td>\n",
       "      <td>операции с жильем</td>\n",
       "    </tr>\n",
       "    <tr>\n",
       "      <th>7</th>\n",
       "      <td>0</td>\n",
       "      <td>-152.779569</td>\n",
       "      <td>50</td>\n",
       "      <td>СРЕДНЕЕ</td>\n",
       "      <td>1</td>\n",
       "      <td>женат / замужем</td>\n",
       "      <td>0</td>\n",
       "      <td>M</td>\n",
       "      <td>сотрудник</td>\n",
       "      <td>0</td>\n",
       "      <td>135823.934197</td>\n",
       "      <td>образование</td>\n",
       "    </tr>\n",
       "    <tr>\n",
       "      <th>8</th>\n",
       "      <td>2</td>\n",
       "      <td>-6929.865299</td>\n",
       "      <td>35</td>\n",
       "      <td>ВЫСШЕЕ</td>\n",
       "      <td>0</td>\n",
       "      <td>гражданский брак</td>\n",
       "      <td>1</td>\n",
       "      <td>F</td>\n",
       "      <td>сотрудник</td>\n",
       "      <td>0</td>\n",
       "      <td>95856.832424</td>\n",
       "      <td>на проведение свадьбы</td>\n",
       "    </tr>\n",
       "    <tr>\n",
       "      <th>9</th>\n",
       "      <td>0</td>\n",
       "      <td>-2188.756445</td>\n",
       "      <td>41</td>\n",
       "      <td>среднее</td>\n",
       "      <td>1</td>\n",
       "      <td>женат / замужем</td>\n",
       "      <td>0</td>\n",
       "      <td>M</td>\n",
       "      <td>сотрудник</td>\n",
       "      <td>0</td>\n",
       "      <td>144425.938277</td>\n",
       "      <td>покупка жилья для семьи</td>\n",
       "    </tr>\n",
       "    <tr>\n",
       "      <th>10</th>\n",
       "      <td>2</td>\n",
       "      <td>-4171.483647</td>\n",
       "      <td>36</td>\n",
       "      <td>высшее</td>\n",
       "      <td>0</td>\n",
       "      <td>женат / замужем</td>\n",
       "      <td>0</td>\n",
       "      <td>M</td>\n",
       "      <td>компаньон</td>\n",
       "      <td>0</td>\n",
       "      <td>113943.491460</td>\n",
       "      <td>покупка недвижимости</td>\n",
       "    </tr>\n",
       "    <tr>\n",
       "      <th>11</th>\n",
       "      <td>0</td>\n",
       "      <td>-792.701887</td>\n",
       "      <td>40</td>\n",
       "      <td>среднее</td>\n",
       "      <td>1</td>\n",
       "      <td>женат / замужем</td>\n",
       "      <td>0</td>\n",
       "      <td>F</td>\n",
       "      <td>сотрудник</td>\n",
       "      <td>0</td>\n",
       "      <td>77069.234271</td>\n",
       "      <td>покупка коммерческой недвижимости</td>\n",
       "    </tr>\n",
       "    <tr>\n",
       "      <th>12</th>\n",
       "      <td>0</td>\n",
       "      <td>NaN</td>\n",
       "      <td>65</td>\n",
       "      <td>среднее</td>\n",
       "      <td>1</td>\n",
       "      <td>гражданский брак</td>\n",
       "      <td>1</td>\n",
       "      <td>M</td>\n",
       "      <td>пенсионер</td>\n",
       "      <td>0</td>\n",
       "      <td>NaN</td>\n",
       "      <td>сыграть свадьбу</td>\n",
       "    </tr>\n",
       "    <tr>\n",
       "      <th>13</th>\n",
       "      <td>0</td>\n",
       "      <td>-1846.641941</td>\n",
       "      <td>54</td>\n",
       "      <td>неоконченное высшее</td>\n",
       "      <td>2</td>\n",
       "      <td>женат / замужем</td>\n",
       "      <td>0</td>\n",
       "      <td>F</td>\n",
       "      <td>сотрудник</td>\n",
       "      <td>0</td>\n",
       "      <td>130458.228857</td>\n",
       "      <td>приобретение автомобиля</td>\n",
       "    </tr>\n",
       "    <tr>\n",
       "      <th>14</th>\n",
       "      <td>0</td>\n",
       "      <td>-1844.956182</td>\n",
       "      <td>56</td>\n",
       "      <td>высшее</td>\n",
       "      <td>0</td>\n",
       "      <td>гражданский брак</td>\n",
       "      <td>1</td>\n",
       "      <td>F</td>\n",
       "      <td>компаньон</td>\n",
       "      <td>1</td>\n",
       "      <td>165127.911772</td>\n",
       "      <td>покупка жилой недвижимости</td>\n",
       "    </tr>\n",
       "    <tr>\n",
       "      <th>15</th>\n",
       "      <td>1</td>\n",
       "      <td>-972.364419</td>\n",
       "      <td>26</td>\n",
       "      <td>среднее</td>\n",
       "      <td>1</td>\n",
       "      <td>женат / замужем</td>\n",
       "      <td>0</td>\n",
       "      <td>F</td>\n",
       "      <td>сотрудник</td>\n",
       "      <td>0</td>\n",
       "      <td>116820.904450</td>\n",
       "      <td>строительство собственной недвижимости</td>\n",
       "    </tr>\n",
       "    <tr>\n",
       "      <th>16</th>\n",
       "      <td>0</td>\n",
       "      <td>-1719.934226</td>\n",
       "      <td>35</td>\n",
       "      <td>среднее</td>\n",
       "      <td>1</td>\n",
       "      <td>женат / замужем</td>\n",
       "      <td>0</td>\n",
       "      <td>F</td>\n",
       "      <td>сотрудник</td>\n",
       "      <td>0</td>\n",
       "      <td>289202.704229</td>\n",
       "      <td>недвижимость</td>\n",
       "    </tr>\n",
       "    <tr>\n",
       "      <th>17</th>\n",
       "      <td>0</td>\n",
       "      <td>-2369.999720</td>\n",
       "      <td>33</td>\n",
       "      <td>высшее</td>\n",
       "      <td>0</td>\n",
       "      <td>гражданский брак</td>\n",
       "      <td>1</td>\n",
       "      <td>M</td>\n",
       "      <td>сотрудник</td>\n",
       "      <td>0</td>\n",
       "      <td>90410.586745</td>\n",
       "      <td>строительство недвижимости</td>\n",
       "    </tr>\n",
       "    <tr>\n",
       "      <th>18</th>\n",
       "      <td>0</td>\n",
       "      <td>400281.136913</td>\n",
       "      <td>53</td>\n",
       "      <td>среднее</td>\n",
       "      <td>1</td>\n",
       "      <td>вдовец / вдова</td>\n",
       "      <td>2</td>\n",
       "      <td>F</td>\n",
       "      <td>пенсионер</td>\n",
       "      <td>0</td>\n",
       "      <td>56823.777243</td>\n",
       "      <td>на покупку подержанного автомобиля</td>\n",
       "    </tr>\n",
       "    <tr>\n",
       "      <th>19</th>\n",
       "      <td>0</td>\n",
       "      <td>-10038.818549</td>\n",
       "      <td>48</td>\n",
       "      <td>СРЕДНЕЕ</td>\n",
       "      <td>1</td>\n",
       "      <td>в разводе</td>\n",
       "      <td>3</td>\n",
       "      <td>F</td>\n",
       "      <td>сотрудник</td>\n",
       "      <td>0</td>\n",
       "      <td>242831.107982</td>\n",
       "      <td>на покупку своего автомобиля</td>\n",
       "    </tr>\n",
       "  </tbody>\n",
       "</table>\n",
       "</div>"
      ],
      "text/plain": [
       "    children  days_employed  dob_years            education  education_id  \\\n",
       "0          1   -8437.673028         42               высшее             0   \n",
       "1          1   -4024.803754         36              среднее             1   \n",
       "2          0   -5623.422610         33              Среднее             1   \n",
       "3          3   -4124.747207         32              среднее             1   \n",
       "4          0  340266.072047         53              среднее             1   \n",
       "5          0    -926.185831         27               высшее             0   \n",
       "6          0   -2879.202052         43               высшее             0   \n",
       "7          0    -152.779569         50              СРЕДНЕЕ             1   \n",
       "8          2   -6929.865299         35               ВЫСШЕЕ             0   \n",
       "9          0   -2188.756445         41              среднее             1   \n",
       "10         2   -4171.483647         36               высшее             0   \n",
       "11         0    -792.701887         40              среднее             1   \n",
       "12         0            NaN         65              среднее             1   \n",
       "13         0   -1846.641941         54  неоконченное высшее             2   \n",
       "14         0   -1844.956182         56               высшее             0   \n",
       "15         1    -972.364419         26              среднее             1   \n",
       "16         0   -1719.934226         35              среднее             1   \n",
       "17         0   -2369.999720         33               высшее             0   \n",
       "18         0  400281.136913         53              среднее             1   \n",
       "19         0  -10038.818549         48              СРЕДНЕЕ             1   \n",
       "\n",
       "       family_status  family_status_id gender income_type  debt  \\\n",
       "0    женат / замужем                 0      F   сотрудник     0   \n",
       "1    женат / замужем                 0      F   сотрудник     0   \n",
       "2    женат / замужем                 0      M   сотрудник     0   \n",
       "3    женат / замужем                 0      M   сотрудник     0   \n",
       "4   гражданский брак                 1      F   пенсионер     0   \n",
       "5   гражданский брак                 1      M   компаньон     0   \n",
       "6    женат / замужем                 0      F   компаньон     0   \n",
       "7    женат / замужем                 0      M   сотрудник     0   \n",
       "8   гражданский брак                 1      F   сотрудник     0   \n",
       "9    женат / замужем                 0      M   сотрудник     0   \n",
       "10   женат / замужем                 0      M   компаньон     0   \n",
       "11   женат / замужем                 0      F   сотрудник     0   \n",
       "12  гражданский брак                 1      M   пенсионер     0   \n",
       "13   женат / замужем                 0      F   сотрудник     0   \n",
       "14  гражданский брак                 1      F   компаньон     1   \n",
       "15   женат / замужем                 0      F   сотрудник     0   \n",
       "16   женат / замужем                 0      F   сотрудник     0   \n",
       "17  гражданский брак                 1      M   сотрудник     0   \n",
       "18    вдовец / вдова                 2      F   пенсионер     0   \n",
       "19         в разводе                 3      F   сотрудник     0   \n",
       "\n",
       "     total_income                                 purpose  \n",
       "0   253875.639453                           покупка жилья  \n",
       "1   112080.014102                 приобретение автомобиля  \n",
       "2   145885.952297                           покупка жилья  \n",
       "3   267628.550329              дополнительное образование  \n",
       "4   158616.077870                         сыграть свадьбу  \n",
       "5   255763.565419                           покупка жилья  \n",
       "6   240525.971920                       операции с жильем  \n",
       "7   135823.934197                             образование  \n",
       "8    95856.832424                   на проведение свадьбы  \n",
       "9   144425.938277                 покупка жилья для семьи  \n",
       "10  113943.491460                    покупка недвижимости  \n",
       "11   77069.234271       покупка коммерческой недвижимости  \n",
       "12            NaN                         сыграть свадьбу  \n",
       "13  130458.228857                 приобретение автомобиля  \n",
       "14  165127.911772              покупка жилой недвижимости  \n",
       "15  116820.904450  строительство собственной недвижимости  \n",
       "16  289202.704229                            недвижимость  \n",
       "17   90410.586745              строительство недвижимости  \n",
       "18   56823.777243      на покупку подержанного автомобиля  \n",
       "19  242831.107982            на покупку своего автомобиля  "
      ]
     },
     "execution_count": 404,
     "metadata": {},
     "output_type": "execute_result"
    }
   ],
   "source": [
    "# ваш код здесь\n",
    "data.head(20)"
   ]
  },
  {
   "cell_type": "markdown",
   "id": "548d22ef",
   "metadata": {
    "deletable": false,
    "editable": false,
    "id": "1c12e233",
    "tags": [
     "start_task"
    ]
   },
   "source": [
    "**Задание 3. Выведите основную информацию о датафрейме с помощью метода `info()`.**"
   ]
  },
  {
   "cell_type": "code",
   "execution_count": 405,
   "id": "24a08144",
   "metadata": {
    "id": "2b757bca"
   },
   "outputs": [
    {
     "name": "stdout",
     "output_type": "stream",
     "text": [
      "<class 'pandas.core.frame.DataFrame'>\n",
      "RangeIndex: 21525 entries, 0 to 21524\n",
      "Data columns (total 12 columns):\n",
      " #   Column            Non-Null Count  Dtype  \n",
      "---  ------            --------------  -----  \n",
      " 0   children          21525 non-null  int64  \n",
      " 1   days_employed     19351 non-null  float64\n",
      " 2   dob_years         21525 non-null  int64  \n",
      " 3   education         21525 non-null  object \n",
      " 4   education_id      21525 non-null  int64  \n",
      " 5   family_status     21525 non-null  object \n",
      " 6   family_status_id  21525 non-null  int64  \n",
      " 7   gender            21525 non-null  object \n",
      " 8   income_type       21525 non-null  object \n",
      " 9   debt              21525 non-null  int64  \n",
      " 10  total_income      19351 non-null  float64\n",
      " 11  purpose           21525 non-null  object \n",
      "dtypes: float64(2), int64(5), object(5)\n",
      "memory usage: 2.0+ MB\n"
     ]
    }
   ],
   "source": [
    "# ваш код здесь\n",
    "data.info()"
   ]
  },
  {
   "cell_type": "markdown",
   "id": "21d7c046",
   "metadata": {
    "deletable": false,
    "editable": false,
    "id": "333ec665"
   },
   "source": [
    "## Предобработка данных"
   ]
  },
  {
   "cell_type": "markdown",
   "id": "935447f0",
   "metadata": {
    "deletable": false,
    "editable": false,
    "id": "02d92d53"
   },
   "source": [
    "### Удаление пропусков"
   ]
  },
  {
   "cell_type": "markdown",
   "id": "57444026",
   "metadata": {
    "deletable": false,
    "editable": false,
    "id": "cd84967c",
    "tags": [
     "start_task"
    ]
   },
   "source": [
    "**Задание 4. Выведите количество пропущенных значений для каждого столбца. Используйте комбинацию двух методов.**"
   ]
  },
  {
   "cell_type": "code",
   "execution_count": 406,
   "id": "4019fca0",
   "metadata": {
    "id": "7f9b2309"
   },
   "outputs": [
    {
     "data": {
      "text/plain": [
       "children               0\n",
       "days_employed       2174\n",
       "dob_years              0\n",
       "education              0\n",
       "education_id           0\n",
       "family_status          0\n",
       "family_status_id       0\n",
       "gender                 0\n",
       "income_type            0\n",
       "debt                   0\n",
       "total_income        2174\n",
       "purpose                0\n",
       "dtype: int64"
      ]
     },
     "execution_count": 406,
     "metadata": {},
     "output_type": "execute_result"
    }
   ],
   "source": [
    "# ваш код здесь\n",
    "data.isna().sum()"
   ]
  },
  {
   "cell_type": "markdown",
   "id": "fae1c60a",
   "metadata": {
    "deletable": false,
    "editable": false,
    "id": "db86e27b",
    "tags": [
     "start_task"
    ]
   },
   "source": [
    "**Задание 5. В двух столбцах есть пропущенные значения. Один из них — `days_employed`. Пропуски в этом столбце вы обработаете на следующем этапе. Другой столбец с пропущенными значениями — `total_income` — хранит данные о доходах. На сумму дохода сильнее всего влияет тип занятости, поэтому заполнить пропуски в этом столбце нужно медианным значением по каждому типу из столбца `income_type`. Например, у человека с типом занятости `сотрудник` пропуск в столбце `total_income` должен быть заполнен медианным доходом среди всех записей с тем же типом.**"
   ]
  },
  {
   "cell_type": "code",
   "execution_count": 407,
   "id": "b6e54c00",
   "metadata": {
    "id": "42006a93",
    "scrolled": true
   },
   "outputs": [],
   "source": [
    "# ваш код здесь\n",
    "m1 = data[data['income_type'] == 'сотрудник']['total_income'].median()\n",
    "m2 = data[data['income_type'] == 'пенсионер']['total_income'].median()\n",
    "m3 = data[data['income_type'] == 'компаньон']['total_income'].median()\n",
    "m4 = data[data['income_type'] == 'госслужащий']['total_income'].median()\n",
    "m5 = data[data['income_type'] == 'безработный']['total_income'].median()\n",
    "m6 = data[data['income_type'] == 'предприниматель']['total_income'].median()\n",
    "m7 = data[data['income_type'] == 'студент']['total_income'].median()\n",
    "m8 = data[data['income_type'] == 'в декрете']['total_income'].median()\n",
    "                                                                       \n",
    "data.loc[data['income_type'] == 'сотрудник','total_income'] = data[data['income_type'] == 'сотрудник']['total_income'].fillna(m1)\n",
    "data.loc[data['income_type'] == 'пенсионер','total_income'] = data[data['income_type'] == 'пенсионер']['total_income'].fillna(m2)\n",
    "data.loc[data['income_type'] == 'компаньон','total_income'] = data[data['income_type'] == 'компаньон']['total_income'].fillna(m3)\n",
    "data.loc[data['income_type'] == 'госслужащий','total_income'] = data[data['income_type'] == 'госслужащий']['total_income'].fillna(m4)\n",
    "data.loc[data['income_type'] == 'безработный','total_income'] = data[data['income_type'] == 'безработный']['total_income'].fillna(m5)\n",
    "data.loc[data['income_type'] == 'предприниматель','total_income'] = data[data['income_type'] == 'предприниматель']['total_income'].fillna(m6)\n",
    "data.loc[data['income_type'] == 'студент','total_income'] = data[data['income_type'] == 'студент']['total_income'].fillna(m7)\n",
    "data.loc[data['income_type'] == 'в декрете','total_income'] = data[data['income_type'] == 'в декрете']['total_income'].fillna(m8)\n",
    "\n",
    "                                                                                  "
   ]
  },
  {
   "cell_type": "markdown",
   "id": "ed06f921",
   "metadata": {
    "deletable": false,
    "editable": false,
    "id": "89da5ece"
   },
   "source": [
    "### Обработка аномальных значений"
   ]
  },
  {
   "cell_type": "markdown",
   "id": "17e0acbd",
   "metadata": {
    "deletable": false,
    "editable": false,
    "id": "57964554",
    "tags": [
     "start_task"
    ]
   },
   "source": [
    "**Задание 6. В данных могут встречаться артефакты (аномалии) — значения, которые не отражают действительность и появились по какой-то ошибке. Таким артефактом будет отрицательное количество дней трудового стажа в столбце `days_employed`. Для реальных данных это нормально. Обработайте значения в этом столбце: замените все отрицательные значения положительными с помощью метода `abs()`.**"
   ]
  },
  {
   "cell_type": "code",
   "execution_count": 408,
   "id": "0d8ec8a9",
   "metadata": {
    "id": "f6f055bf"
   },
   "outputs": [],
   "source": [
    "# ваш код здесь\n",
    "data['days_employed'] = data['days_employed'].abs()"
   ]
  },
  {
   "cell_type": "markdown",
   "id": "9638e5de",
   "metadata": {
    "deletable": false,
    "editable": false,
    "id": "6107dd2f",
    "tags": [
     "start_task"
    ]
   },
   "source": [
    "**Задание 7. Для каждого типа занятости выведите медианное значение трудового стажа `days_employed` в днях.**"
   ]
  },
  {
   "cell_type": "code",
   "execution_count": 409,
   "id": "334955b2",
   "metadata": {
    "id": "85a5faf6"
   },
   "outputs": [
    {
     "name": "stdout",
     "output_type": "stream",
     "text": [
      "income_type\n",
      "безработный        366413.652744\n",
      "в декрете            3296.759962\n",
      "госслужащий          2689.368353\n",
      "компаньон            1547.382223\n",
      "пенсионер          365213.306266\n",
      "предприниматель       520.848083\n",
      "сотрудник            1574.202821\n",
      "студент               578.751554\n",
      "Name: days_employed, dtype: float64\n"
     ]
    }
   ],
   "source": [
    "# ваш код здесь\n",
    "print(data.groupby('income_type')['days_employed'].median())"
   ]
  },
  {
   "cell_type": "markdown",
   "id": "67fc685c",
   "metadata": {
    "deletable": false,
    "editable": false,
    "id": "38d1a030"
   },
   "source": [
    "У двух типов (безработные и пенсионеры) получатся аномально большие значения. Исправить такие значения сложно, поэтому оставьте их как есть. Тем более этот столбец не понадобится вам для исследования."
   ]
  },
  {
   "cell_type": "markdown",
   "id": "4fac19c7",
   "metadata": {
    "deletable": false,
    "editable": false,
    "id": "d8a9f147",
    "tags": [
     "start_task"
    ]
   },
   "source": [
    "**Задание 8. Выведите перечень уникальных значений столбца `children`.**"
   ]
  },
  {
   "cell_type": "code",
   "execution_count": 410,
   "id": "637279ca",
   "metadata": {
    "id": "ef5056eb"
   },
   "outputs": [
    {
     "data": {
      "text/plain": [
       "array([ 1,  0,  3,  2, -1,  4, 20,  5])"
      ]
     },
     "execution_count": 410,
     "metadata": {},
     "output_type": "execute_result"
    }
   ],
   "source": [
    "# ваш код здесь\n",
    "data['children'].unique()\n"
   ]
  },
  {
   "cell_type": "markdown",
   "id": "34375d46",
   "metadata": {
    "deletable": false,
    "editable": false,
    "id": "40b9ebf2",
    "tags": [
     "start_task"
    ]
   },
   "source": [
    "**Задание 9. В столбце `children` есть два аномальных значения. Удалите строки, в которых встречаются такие аномальные значения из датафрейма `data`.**"
   ]
  },
  {
   "cell_type": "code",
   "execution_count": 411,
   "id": "41c4ca12",
   "metadata": {
    "id": "3ff9801d"
   },
   "outputs": [],
   "source": [
    "# ваш код здесь\n",
    "data.loc[data['children'] == -1] = None\n",
    "data.loc[data['children'] == 20] = None\n",
    "data['children'] = data['children'].dropna()"
   ]
  },
  {
   "cell_type": "markdown",
   "id": "8cc9bbe7",
   "metadata": {
    "deletable": false,
    "editable": false,
    "id": "bbc4d0ce",
    "tags": [
     "start_task"
    ]
   },
   "source": [
    "**Задание 10. Ещё раз выведите перечень уникальных значений столбца `children`, чтобы убедиться, что артефакты удалены.**"
   ]
  },
  {
   "cell_type": "code",
   "execution_count": 412,
   "id": "f2f7e919",
   "metadata": {
    "id": "ad4fa8b7"
   },
   "outputs": [
    {
     "data": {
      "text/plain": [
       "array([1, 0, 3, 2, 4, 5])"
      ]
     },
     "execution_count": 412,
     "metadata": {},
     "output_type": "execute_result"
    }
   ],
   "source": [
    "# ваш код здесь\n",
    "data['children'] = data['children'].fillna(0)\n",
    "data['children'] = data['children'].astype('int')\n",
    "data['children'].unique()\n"
   ]
  },
  {
   "cell_type": "markdown",
   "id": "0cc31158",
   "metadata": {
    "deletable": false,
    "editable": false,
    "id": "75440b63"
   },
   "source": [
    "### Удаление пропусков (продолжение)"
   ]
  },
  {
   "cell_type": "markdown",
   "id": "076f28e5",
   "metadata": {
    "deletable": false,
    "editable": false,
    "id": "f4ea573f",
    "tags": [
     "start_task"
    ]
   },
   "source": [
    "**Задание 11. Заполните пропуски в столбце `days_employed` медианными значениями по каждому типу занятости `income_type`.**"
   ]
  },
  {
   "cell_type": "code",
   "execution_count": 413,
   "id": "c125ddaf",
   "metadata": {
    "id": "af6b1a7e"
   },
   "outputs": [],
   "source": [
    "# ваш код здесь\n",
    "m1 = data[data['income_type'] == 'сотрудник']['days_employed'].median()\n",
    "m2 = data[data['income_type'] == 'пенсионер']['days_employed'].median()\n",
    "m3 = data[data['income_type'] == 'компаньон']['days_employed'].median()\n",
    "m4 = data[data['income_type'] == 'госслужащий']['days_employed'].median()\n",
    "m5 = data[data['income_type'] == 'безработный']['days_employed'].median()\n",
    "m6 = data[data['income_type'] == 'предприниматель']['days_employed'].median()\n",
    "m7 = data[data['income_type'] == 'студент']['days_employed'].median()\n",
    "m8 = data[data['income_type'] == 'в декрете']['days_employed'].median()\n",
    "                                                                       \n",
    "data.loc[data['income_type'] == 'сотрудник','days_employed'] = data[data['income_type'] == 'сотрудник']['days_employed'].fillna(m1)\n",
    "data.loc[data['income_type'] == 'пенсионер','days_employed'] = data[data['income_type'] == 'пенсионер']['days_employed'].fillna(m2)\n",
    "data.loc[data['income_type'] == 'компаньон','days_employed'] = data[data['income_type'] == 'компаньон']['days_employed'].fillna(m3)\n",
    "data.loc[data['income_type'] == 'госслужащий','days_employed'] = data[data['income_type'] == 'госслужащий']['days_employed'].fillna(m4)\n",
    "data.loc[data['income_type'] == 'безработный','days_employed'] = data[data['income_type'] == 'безработный']['days_employed'].fillna(m5)\n",
    "data.loc[data['income_type'] == 'предприниматель','days_employed'] = data[data['income_type'] == 'предприниматель']['days_employed'].fillna(m6)\n",
    "data.loc[data['income_type'] == 'студент','days_employed'] = data[data['income_type'] == 'студент']['days_employed'].fillna(m7)\n",
    "data.loc[data['income_type'] == 'в декрете','days_employed'] = data[data['income_type'] == 'в декрете']['days_employed'].fillna(m8)\n"
   ]
  },
  {
   "cell_type": "markdown",
   "id": "c933d10d",
   "metadata": {
    "deletable": false,
    "editable": false,
    "id": "2753f40d",
    "tags": [
     "start_task"
    ]
   },
   "source": [
    "**Задание 12. Убедитесь, что все пропуски заполнены. Проверьте себя и ещё раз выведите количество пропущенных значений для каждого столбца с помощью двух методов.**"
   ]
  },
  {
   "cell_type": "code",
   "execution_count": 414,
   "id": "47bf0381",
   "metadata": {
    "id": "55f78bc2"
   },
   "outputs": [
    {
     "data": {
      "text/plain": [
       "children              0\n",
       "days_employed       123\n",
       "dob_years           123\n",
       "education           123\n",
       "education_id        123\n",
       "family_status       123\n",
       "family_status_id    123\n",
       "gender              123\n",
       "income_type         123\n",
       "debt                123\n",
       "total_income        123\n",
       "purpose             123\n",
       "dtype: int64"
      ]
     },
     "execution_count": 414,
     "metadata": {},
     "output_type": "execute_result"
    }
   ],
   "source": [
    "# ваш код здесь\n",
    "data.isna().sum()"
   ]
  },
  {
   "cell_type": "markdown",
   "id": "93a0b498",
   "metadata": {
    "deletable": false,
    "editable": false,
    "id": "ddc81e43"
   },
   "source": [
    "### Изменение типов данных"
   ]
  },
  {
   "cell_type": "markdown",
   "id": "53379e40",
   "metadata": {
    "deletable": false,
    "editable": false,
    "id": "42d19d24",
    "tags": [
     "start_task"
    ]
   },
   "source": [
    "**Задание 13. Замените вещественный тип данных в столбце `total_income` на целочисленный с помощью метода `astype()`.**"
   ]
  },
  {
   "cell_type": "code",
   "execution_count": 415,
   "id": "60b639b4",
   "metadata": {
    "id": "920b65ad"
   },
   "outputs": [],
   "source": [
    "# ваш код здесь\n",
    "data['total_income'] = data['total_income'].fillna(0.0).astype(int)\n"
   ]
  },
  {
   "cell_type": "markdown",
   "id": "9b472a80",
   "metadata": {
    "deletable": false,
    "editable": false,
    "id": "80c420ba"
   },
   "source": [
    "### Обработка дубликатов"
   ]
  },
  {
   "cell_type": "markdown",
   "id": "169878f9",
   "metadata": {
    "deletable": false,
    "editable": false,
    "tags": [
     "start_task"
    ]
   },
   "source": [
    "**Задание 14. Обработайте неявные дубликаты в столбце `education`. В этом столбце есть одни и те же значения, но записанные по-разному: с использованием заглавных и строчных букв. Приведите их к нижнему регистру. Проверьте остальные столбцы.**"
   ]
  },
  {
   "cell_type": "code",
   "execution_count": 416,
   "id": "c84dc000",
   "metadata": {},
   "outputs": [],
   "source": [
    "# ваш код здесь\n",
    "data['education'] = data['education'].str.lower()\n"
   ]
  },
  {
   "cell_type": "markdown",
   "id": "5262aaae",
   "metadata": {
    "deletable": false,
    "editable": false,
    "id": "dc587695",
    "tags": [
     "start_task"
    ]
   },
   "source": [
    "**Задание 15. Выведите на экран количество строк-дубликатов в данных. Если такие строки присутствуют, удалите их.**"
   ]
  },
  {
   "cell_type": "code",
   "execution_count": 417,
   "id": "126a3ade",
   "metadata": {
    "id": "3ee445e4"
   },
   "outputs": [
    {
     "data": {
      "text/plain": [
       "193"
      ]
     },
     "execution_count": 417,
     "metadata": {},
     "output_type": "execute_result"
    }
   ],
   "source": [
    "# посчитайте дубликаты\n",
    "data.duplicated().sum()"
   ]
  },
  {
   "cell_type": "code",
   "execution_count": 418,
   "id": "34872808",
   "metadata": {
    "id": "8575fe05"
   },
   "outputs": [
    {
     "data": {
      "text/plain": [
       "array(['покупка жилья', 'приобретение автомобиля',\n",
       "       'дополнительное образование', 'сыграть свадьбу',\n",
       "       'операции с жильем', 'образование', 'на проведение свадьбы',\n",
       "       'покупка жилья для семьи', 'покупка недвижимости',\n",
       "       'покупка коммерческой недвижимости', 'покупка жилой недвижимости',\n",
       "       'строительство собственной недвижимости', 'недвижимость',\n",
       "       'строительство недвижимости', 'на покупку подержанного автомобиля',\n",
       "       'на покупку своего автомобиля',\n",
       "       'операции с коммерческой недвижимостью',\n",
       "       'строительство жилой недвижимости', 'жилье',\n",
       "       'операции со своей недвижимостью', 'автомобили',\n",
       "       'заняться образованием', 'сделка с подержанным автомобилем',\n",
       "       'получение образования', 'автомобиль', 'свадьба',\n",
       "       'получение дополнительного образования', 'покупка своего жилья',\n",
       "       'операции с недвижимостью', 'получение высшего образования',\n",
       "       'свой автомобиль', 'сделка с автомобилем',\n",
       "       'профильное образование', 'высшее образование',\n",
       "       'покупка жилья для сдачи', 'на покупку автомобиля', 'ремонт жилью',\n",
       "       'заняться высшим образованием', None], dtype=object)"
      ]
     },
     "execution_count": 418,
     "metadata": {},
     "output_type": "execute_result"
    }
   ],
   "source": [
    "# удалите дубликаты\n",
    "data.drop_duplicates()\n",
    "data['purpose'].unique()"
   ]
  },
  {
   "cell_type": "markdown",
   "id": "7d86eecc",
   "metadata": {
    "deletable": false,
    "editable": false,
    "id": "9904cf55"
   },
   "source": [
    "### Категоризация данных"
   ]
  },
  {
   "cell_type": "markdown",
   "id": "bdd85939",
   "metadata": {
    "deletable": false,
    "editable": false,
    "id": "72fcc8a2",
    "tags": [
     "start_task"
    ]
   },
   "source": [
    "**Задание 16. На основании диапазонов, указанных ниже, создайте в датафрейме `data` столбец `total_income_category` с категориями:**\n",
    "\n",
    "- 0–30000 — `'E'`;\n",
    "- 30001–50000 — `'D'`;\n",
    "- 50001–200000 — `'C'`;\n",
    "- 200001–1000000 — `'B'`;\n",
    "- 1000001 и выше — `'A'`.\n",
    "\n",
    "\n",
    "**Например, кредитополучателю с доходом 25000 нужно назначить категорию `'E'`, а клиенту, получающему 235000, — `'B'`. Используйте собственную функцию с именем `categorize_income()` и метод `apply()`.**"
   ]
  },
  {
   "cell_type": "code",
   "execution_count": 419,
   "id": "6862b6ae",
   "metadata": {
    "id": "e1771346"
   },
   "outputs": [],
   "source": [
    "# создайте функцию categorize_income()\n",
    "def categorize_income(salary):\n",
    "    if salary < 30001:\n",
    "        return 'E'\n",
    "    if 30000 < salary < 50001:\n",
    "        return 'D'\n",
    "    if 50000 < salary < 200001:\n",
    "        return 'C'\n",
    "    if 200000 < salary < 1000001:\n",
    "        return 'B'\n",
    "    if  salary > 1000000:\n",
    "        return 'A'"
   ]
  },
  {
   "cell_type": "code",
   "execution_count": 420,
   "id": "9e3b047b",
   "metadata": {
    "id": "d5f3586d"
   },
   "outputs": [],
   "source": [
    "# примените функцию методом apply()\n",
    "data['total_income_category'] = data['total_income'].apply(categorize_income)"
   ]
  },
  {
   "cell_type": "markdown",
   "id": "988f9c2e",
   "metadata": {
    "deletable": false,
    "editable": false,
    "id": "dde49b5c",
    "tags": [
     "start_task"
    ]
   },
   "source": [
    "**Задание 17. Выведите на экран перечень уникальных целей взятия кредита из столбца `purpose`.**"
   ]
  },
  {
   "cell_type": "code",
   "execution_count": 425,
   "id": "7e2812ab",
   "metadata": {
    "id": "f67ce9b3"
   },
   "outputs": [
    {
     "data": {
      "text/plain": [
       "array(['покупка жилья', 'приобретение автомобиля',\n",
       "       'дополнительное образование', 'сыграть свадьбу',\n",
       "       'операции с жильем', 'образование', 'на проведение свадьбы',\n",
       "       'покупка жилья для семьи', 'покупка недвижимости',\n",
       "       'покупка коммерческой недвижимости', 'покупка жилой недвижимости',\n",
       "       'строительство собственной недвижимости', 'недвижимость',\n",
       "       'строительство недвижимости', 'на покупку подержанного автомобиля',\n",
       "       'на покупку своего автомобиля',\n",
       "       'операции с коммерческой недвижимостью',\n",
       "       'строительство жилой недвижимости', 'жилье',\n",
       "       'операции со своей недвижимостью', 'автомобили',\n",
       "       'заняться образованием', 'сделка с подержанным автомобилем',\n",
       "       'получение образования', 'автомобиль', 'свадьба',\n",
       "       'получение дополнительного образования', 'покупка своего жилья',\n",
       "       'операции с недвижимостью', 'получение высшего образования',\n",
       "       'свой автомобиль', 'сделка с автомобилем',\n",
       "       'профильное образование', 'высшее образование',\n",
       "       'покупка жилья для сдачи', 'на покупку автомобиля', 'ремонт жилью',\n",
       "       'заняться высшим образованием'], dtype=object)"
      ]
     },
     "execution_count": 425,
     "metadata": {},
     "output_type": "execute_result"
    }
   ],
   "source": [
    "# ваш код здесь\n",
    "data = data.dropna()\n",
    "data['purpose'].unique()\n",
    "\n"
   ]
  },
  {
   "cell_type": "markdown",
   "id": "8eda8e8f",
   "metadata": {
    "deletable": false,
    "editable": false,
    "id": "85d0aef0",
    "tags": [
     "start_task"
    ]
   },
   "source": [
    "**Задание 18. Создайте функцию, которая на основании данных из столбца `purpose` сформирует новый столбец `purpose_category`, в который войдут следующие категории:**\n",
    "\n",
    "- `'операции с автомобилем'`,\n",
    "- `'операции с недвижимостью'`,\n",
    "- `'проведение свадьбы'`,\n",
    "- `'получение образования'`.\n",
    "\n",
    "**Например, если в столбце `purpose` находится подстрока `'на покупку автомобиля'`, то в столбце `purpose_category` должна появиться строка `'операции с автомобилем'`.**\n",
    "\n",
    "**Используйте собственную функцию с именем `categorize_purpose()` и метод `apply()`. Изучите данные в столбце `purpose` и определите, какие подстроки помогут вам правильно определить категорию.**"
   ]
  },
  {
   "cell_type": "code",
   "execution_count": 426,
   "id": "3ff9a2ec",
   "metadata": {
    "id": "e149fab4"
   },
   "outputs": [],
   "source": [
    "# создайте функцию categorize_purpose()\n",
    "def categorize_purpose(row):\n",
    "    try:\n",
    "        if 'автомобил' in row:\n",
    "            return 'операции с автомобилем'\n",
    "        if  'жил' in row or 'недвижимо' in row:\n",
    "            return 'операции с недвижимостью'\n",
    "        if  'свадьб' in row:\n",
    "            return 'проведение свадьбы'\n",
    "        if  'образован' in row:\n",
    "            return 'получение образования'\n",
    "    except:\n",
    "        return '1'\n",
    "        "
   ]
  },
  {
   "cell_type": "code",
   "execution_count": 427,
   "id": "836658ff",
   "metadata": {
    "id": "bf36e69b"
   },
   "outputs": [
    {
     "data": {
      "text/html": [
       "<div>\n",
       "<style scoped>\n",
       "    .dataframe tbody tr th:only-of-type {\n",
       "        vertical-align: middle;\n",
       "    }\n",
       "\n",
       "    .dataframe tbody tr th {\n",
       "        vertical-align: top;\n",
       "    }\n",
       "\n",
       "    .dataframe thead th {\n",
       "        text-align: right;\n",
       "    }\n",
       "</style>\n",
       "<table border=\"1\" class=\"dataframe\">\n",
       "  <thead>\n",
       "    <tr style=\"text-align: right;\">\n",
       "      <th></th>\n",
       "      <th>children</th>\n",
       "      <th>days_employed</th>\n",
       "      <th>dob_years</th>\n",
       "      <th>education</th>\n",
       "      <th>education_id</th>\n",
       "      <th>family_status</th>\n",
       "      <th>family_status_id</th>\n",
       "      <th>gender</th>\n",
       "      <th>income_type</th>\n",
       "      <th>debt</th>\n",
       "      <th>total_income</th>\n",
       "      <th>purpose</th>\n",
       "      <th>total_income_category</th>\n",
       "      <th>purpose_category</th>\n",
       "    </tr>\n",
       "  </thead>\n",
       "  <tbody>\n",
       "    <tr>\n",
       "      <th>0</th>\n",
       "      <td>1</td>\n",
       "      <td>8437.673028</td>\n",
       "      <td>42.0</td>\n",
       "      <td>высшее</td>\n",
       "      <td>0.0</td>\n",
       "      <td>женат / замужем</td>\n",
       "      <td>0.0</td>\n",
       "      <td>F</td>\n",
       "      <td>сотрудник</td>\n",
       "      <td>0.0</td>\n",
       "      <td>253875</td>\n",
       "      <td>покупка жилья</td>\n",
       "      <td>B</td>\n",
       "      <td>операции с недвижимостью</td>\n",
       "    </tr>\n",
       "    <tr>\n",
       "      <th>1</th>\n",
       "      <td>1</td>\n",
       "      <td>4024.803754</td>\n",
       "      <td>36.0</td>\n",
       "      <td>среднее</td>\n",
       "      <td>1.0</td>\n",
       "      <td>женат / замужем</td>\n",
       "      <td>0.0</td>\n",
       "      <td>F</td>\n",
       "      <td>сотрудник</td>\n",
       "      <td>0.0</td>\n",
       "      <td>112080</td>\n",
       "      <td>приобретение автомобиля</td>\n",
       "      <td>C</td>\n",
       "      <td>операции с автомобилем</td>\n",
       "    </tr>\n",
       "    <tr>\n",
       "      <th>2</th>\n",
       "      <td>0</td>\n",
       "      <td>5623.422610</td>\n",
       "      <td>33.0</td>\n",
       "      <td>среднее</td>\n",
       "      <td>1.0</td>\n",
       "      <td>женат / замужем</td>\n",
       "      <td>0.0</td>\n",
       "      <td>M</td>\n",
       "      <td>сотрудник</td>\n",
       "      <td>0.0</td>\n",
       "      <td>145885</td>\n",
       "      <td>покупка жилья</td>\n",
       "      <td>C</td>\n",
       "      <td>операции с недвижимостью</td>\n",
       "    </tr>\n",
       "    <tr>\n",
       "      <th>3</th>\n",
       "      <td>3</td>\n",
       "      <td>4124.747207</td>\n",
       "      <td>32.0</td>\n",
       "      <td>среднее</td>\n",
       "      <td>1.0</td>\n",
       "      <td>женат / замужем</td>\n",
       "      <td>0.0</td>\n",
       "      <td>M</td>\n",
       "      <td>сотрудник</td>\n",
       "      <td>0.0</td>\n",
       "      <td>267628</td>\n",
       "      <td>дополнительное образование</td>\n",
       "      <td>B</td>\n",
       "      <td>получение образования</td>\n",
       "    </tr>\n",
       "    <tr>\n",
       "      <th>4</th>\n",
       "      <td>0</td>\n",
       "      <td>340266.072047</td>\n",
       "      <td>53.0</td>\n",
       "      <td>среднее</td>\n",
       "      <td>1.0</td>\n",
       "      <td>гражданский брак</td>\n",
       "      <td>1.0</td>\n",
       "      <td>F</td>\n",
       "      <td>пенсионер</td>\n",
       "      <td>0.0</td>\n",
       "      <td>158616</td>\n",
       "      <td>сыграть свадьбу</td>\n",
       "      <td>C</td>\n",
       "      <td>проведение свадьбы</td>\n",
       "    </tr>\n",
       "  </tbody>\n",
       "</table>\n",
       "</div>"
      ],
      "text/plain": [
       "   children  days_employed  dob_years education  education_id  \\\n",
       "0         1    8437.673028       42.0    высшее           0.0   \n",
       "1         1    4024.803754       36.0   среднее           1.0   \n",
       "2         0    5623.422610       33.0   среднее           1.0   \n",
       "3         3    4124.747207       32.0   среднее           1.0   \n",
       "4         0  340266.072047       53.0   среднее           1.0   \n",
       "\n",
       "      family_status  family_status_id gender income_type  debt  total_income  \\\n",
       "0   женат / замужем               0.0      F   сотрудник   0.0        253875   \n",
       "1   женат / замужем               0.0      F   сотрудник   0.0        112080   \n",
       "2   женат / замужем               0.0      M   сотрудник   0.0        145885   \n",
       "3   женат / замужем               0.0      M   сотрудник   0.0        267628   \n",
       "4  гражданский брак               1.0      F   пенсионер   0.0        158616   \n",
       "\n",
       "                      purpose total_income_category          purpose_category  \n",
       "0               покупка жилья                     B  операции с недвижимостью  \n",
       "1     приобретение автомобиля                     C    операции с автомобилем  \n",
       "2               покупка жилья                     C  операции с недвижимостью  \n",
       "3  дополнительное образование                     B     получение образования  \n",
       "4             сыграть свадьбу                     C        проведение свадьбы  "
      ]
     },
     "execution_count": 427,
     "metadata": {},
     "output_type": "execute_result"
    }
   ],
   "source": [
    "# примените функцию методом apply()\n",
    "data.dropna()\n",
    "data['purpose_category'] = data['purpose'].apply(categorize_purpose)\n"
   ]
  },
  {
   "cell_type": "code",
   "execution_count": null,
   "id": "d8720088",
   "metadata": {},
   "outputs": [],
   "source": []
  },
  {
   "cell_type": "code",
   "execution_count": null,
   "id": "60a447a7",
   "metadata": {},
   "outputs": [],
   "source": []
  }
 ],
 "metadata": {
  "ExecuteTimeLog": [
   {
    "duration": 408,
    "start_time": "2022-09-04T11:25:52.929Z"
   },
   {
    "duration": 318,
    "start_time": "2022-09-04T11:26:17.329Z"
   },
   {
    "duration": 19,
    "start_time": "2022-09-04T11:26:42.324Z"
   },
   {
    "duration": 16,
    "start_time": "2022-09-04T11:27:10.169Z"
   },
   {
    "duration": 12,
    "start_time": "2022-09-04T11:28:59.956Z"
   },
   {
    "duration": 4,
    "start_time": "2022-09-04T11:31:57.766Z"
   },
   {
    "duration": 5,
    "start_time": "2022-09-04T11:32:56.309Z"
   },
   {
    "duration": 48,
    "start_time": "2022-09-04T16:47:14.207Z"
   },
   {
    "duration": 451,
    "start_time": "2022-09-04T16:47:24.172Z"
   },
   {
    "duration": 305,
    "start_time": "2022-09-04T16:47:24.625Z"
   },
   {
    "duration": 20,
    "start_time": "2022-09-04T16:47:24.932Z"
   },
   {
    "duration": 14,
    "start_time": "2022-09-04T16:47:24.954Z"
   },
   {
    "duration": 10,
    "start_time": "2022-09-04T16:47:24.970Z"
   },
   {
    "duration": 932,
    "start_time": "2022-09-04T16:47:24.981Z"
   },
   {
    "duration": 0,
    "start_time": "2022-09-04T16:47:25.915Z"
   },
   {
    "duration": 0,
    "start_time": "2022-09-04T16:47:25.916Z"
   },
   {
    "duration": 0,
    "start_time": "2022-09-04T16:47:25.918Z"
   },
   {
    "duration": 0,
    "start_time": "2022-09-04T16:47:25.919Z"
   },
   {
    "duration": 0,
    "start_time": "2022-09-04T16:47:25.921Z"
   },
   {
    "duration": 0,
    "start_time": "2022-09-04T16:47:25.922Z"
   },
   {
    "duration": 0,
    "start_time": "2022-09-04T16:47:25.923Z"
   },
   {
    "duration": 0,
    "start_time": "2022-09-04T16:47:25.924Z"
   },
   {
    "duration": 0,
    "start_time": "2022-09-04T16:47:25.925Z"
   },
   {
    "duration": 0,
    "start_time": "2022-09-04T16:47:25.926Z"
   },
   {
    "duration": 0,
    "start_time": "2022-09-04T16:47:25.928Z"
   },
   {
    "duration": 0,
    "start_time": "2022-09-04T16:47:25.930Z"
   },
   {
    "duration": 0,
    "start_time": "2022-09-04T16:47:25.931Z"
   },
   {
    "duration": 0,
    "start_time": "2022-09-04T16:47:25.933Z"
   },
   {
    "duration": 0,
    "start_time": "2022-09-04T16:47:25.934Z"
   },
   {
    "duration": 0,
    "start_time": "2022-09-04T16:47:25.935Z"
   },
   {
    "duration": 5,
    "start_time": "2022-09-04T16:47:40.222Z"
   },
   {
    "duration": 3,
    "start_time": "2022-09-04T16:56:08.103Z"
   },
   {
    "duration": 4,
    "start_time": "2022-09-04T17:16:17.693Z"
   },
   {
    "duration": 3,
    "start_time": "2022-09-04T17:16:44.543Z"
   },
   {
    "duration": 51,
    "start_time": "2022-09-04T17:18:23.459Z"
   },
   {
    "duration": 65,
    "start_time": "2022-09-04T17:18:51.185Z"
   },
   {
    "duration": 3,
    "start_time": "2022-09-04T17:19:56.491Z"
   },
   {
    "duration": 5,
    "start_time": "2022-09-04T17:20:04.032Z"
   },
   {
    "duration": 20,
    "start_time": "2022-09-04T17:20:10.878Z"
   },
   {
    "duration": 5,
    "start_time": "2022-09-04T17:26:55.062Z"
   },
   {
    "duration": 25,
    "start_time": "2022-09-04T17:27:10.128Z"
   },
   {
    "duration": 11,
    "start_time": "2022-09-04T17:31:17.990Z"
   },
   {
    "duration": 7,
    "start_time": "2022-09-04T17:31:23.003Z"
   },
   {
    "duration": 8,
    "start_time": "2022-09-04T18:54:24.827Z"
   },
   {
    "duration": 23,
    "start_time": "2022-09-04T18:54:37.023Z"
   },
   {
    "duration": 21,
    "start_time": "2022-09-04T18:54:52.724Z"
   },
   {
    "duration": 14,
    "start_time": "2022-09-04T18:55:31.242Z"
   },
   {
    "duration": 48,
    "start_time": "2022-09-04T18:55:56.393Z"
   },
   {
    "duration": 17,
    "start_time": "2022-09-04T18:55:59.077Z"
   },
   {
    "duration": 5,
    "start_time": "2022-09-04T20:20:05.063Z"
   },
   {
    "duration": 7,
    "start_time": "2022-09-04T20:22:31.017Z"
   },
   {
    "duration": 22,
    "start_time": "2022-09-04T20:25:13.130Z"
   },
   {
    "duration": 26,
    "start_time": "2022-09-04T21:03:02.029Z"
   },
   {
    "duration": 25,
    "start_time": "2022-09-04T21:03:15.865Z"
   },
   {
    "duration": 624,
    "start_time": "2022-09-04T21:06:55.574Z"
   },
   {
    "duration": 771,
    "start_time": "2022-09-04T21:08:14.463Z"
   },
   {
    "duration": 3,
    "start_time": "2022-09-04T21:08:28.500Z"
   },
   {
    "duration": 78,
    "start_time": "2022-09-04T21:08:28.505Z"
   },
   {
    "duration": 15,
    "start_time": "2022-09-04T21:08:28.585Z"
   },
   {
    "duration": 28,
    "start_time": "2022-09-04T21:08:28.602Z"
   },
   {
    "duration": 10,
    "start_time": "2022-09-04T21:08:28.633Z"
   },
   {
    "duration": 745,
    "start_time": "2022-09-04T21:08:28.645Z"
   },
   {
    "duration": 0,
    "start_time": "2022-09-04T21:08:29.392Z"
   },
   {
    "duration": 0,
    "start_time": "2022-09-04T21:08:29.393Z"
   },
   {
    "duration": 0,
    "start_time": "2022-09-04T21:08:29.394Z"
   },
   {
    "duration": 0,
    "start_time": "2022-09-04T21:08:29.395Z"
   },
   {
    "duration": 0,
    "start_time": "2022-09-04T21:08:29.396Z"
   },
   {
    "duration": 0,
    "start_time": "2022-09-04T21:08:29.397Z"
   },
   {
    "duration": 0,
    "start_time": "2022-09-04T21:08:29.398Z"
   },
   {
    "duration": 0,
    "start_time": "2022-09-04T21:08:29.399Z"
   },
   {
    "duration": 0,
    "start_time": "2022-09-04T21:08:29.400Z"
   },
   {
    "duration": 0,
    "start_time": "2022-09-04T21:08:29.402Z"
   },
   {
    "duration": 0,
    "start_time": "2022-09-04T21:08:29.404Z"
   },
   {
    "duration": 0,
    "start_time": "2022-09-04T21:08:29.405Z"
   },
   {
    "duration": 0,
    "start_time": "2022-09-04T21:08:29.406Z"
   },
   {
    "duration": 0,
    "start_time": "2022-09-04T21:08:29.407Z"
   },
   {
    "duration": 0,
    "start_time": "2022-09-04T21:08:29.409Z"
   },
   {
    "duration": 0,
    "start_time": "2022-09-04T21:08:29.410Z"
   },
   {
    "duration": 610,
    "start_time": "2022-09-04T21:09:50.193Z"
   },
   {
    "duration": 3,
    "start_time": "2022-09-04T21:10:02.468Z"
   },
   {
    "duration": 93,
    "start_time": "2022-09-04T21:10:02.472Z"
   },
   {
    "duration": 16,
    "start_time": "2022-09-04T21:10:02.566Z"
   },
   {
    "duration": 26,
    "start_time": "2022-09-04T21:10:02.584Z"
   },
   {
    "duration": 37,
    "start_time": "2022-09-04T21:10:02.613Z"
   },
   {
    "duration": 62,
    "start_time": "2022-09-04T21:10:02.651Z"
   },
   {
    "duration": 0,
    "start_time": "2022-09-04T21:10:02.715Z"
   },
   {
    "duration": 0,
    "start_time": "2022-09-04T21:10:02.716Z"
   },
   {
    "duration": 0,
    "start_time": "2022-09-04T21:10:02.718Z"
   },
   {
    "duration": 0,
    "start_time": "2022-09-04T21:10:02.719Z"
   },
   {
    "duration": 0,
    "start_time": "2022-09-04T21:10:02.720Z"
   },
   {
    "duration": 0,
    "start_time": "2022-09-04T21:10:02.721Z"
   },
   {
    "duration": 0,
    "start_time": "2022-09-04T21:10:02.722Z"
   },
   {
    "duration": 0,
    "start_time": "2022-09-04T21:10:02.723Z"
   },
   {
    "duration": 0,
    "start_time": "2022-09-04T21:10:02.724Z"
   },
   {
    "duration": 0,
    "start_time": "2022-09-04T21:10:02.724Z"
   },
   {
    "duration": 0,
    "start_time": "2022-09-04T21:10:02.725Z"
   },
   {
    "duration": 0,
    "start_time": "2022-09-04T21:10:02.726Z"
   },
   {
    "duration": 0,
    "start_time": "2022-09-04T21:10:02.727Z"
   },
   {
    "duration": 0,
    "start_time": "2022-09-04T21:10:02.728Z"
   },
   {
    "duration": 0,
    "start_time": "2022-09-04T21:10:02.729Z"
   },
   {
    "duration": 0,
    "start_time": "2022-09-04T21:10:02.730Z"
   },
   {
    "duration": 3,
    "start_time": "2022-09-04T21:10:38.565Z"
   },
   {
    "duration": 76,
    "start_time": "2022-09-04T21:10:38.570Z"
   },
   {
    "duration": 14,
    "start_time": "2022-09-04T21:10:38.648Z"
   },
   {
    "duration": 19,
    "start_time": "2022-09-04T21:10:38.664Z"
   },
   {
    "duration": 10,
    "start_time": "2022-09-04T21:10:38.687Z"
   },
   {
    "duration": 28,
    "start_time": "2022-09-04T21:10:38.699Z"
   },
   {
    "duration": 3,
    "start_time": "2022-09-04T21:10:38.729Z"
   },
   {
    "duration": 7,
    "start_time": "2022-09-04T21:10:38.733Z"
   },
   {
    "duration": 736,
    "start_time": "2022-09-04T21:10:38.741Z"
   },
   {
    "duration": 0,
    "start_time": "2022-09-04T21:10:39.479Z"
   },
   {
    "duration": 0,
    "start_time": "2022-09-04T21:10:39.480Z"
   },
   {
    "duration": 0,
    "start_time": "2022-09-04T21:10:39.481Z"
   },
   {
    "duration": 0,
    "start_time": "2022-09-04T21:10:39.482Z"
   },
   {
    "duration": 0,
    "start_time": "2022-09-04T21:10:39.483Z"
   },
   {
    "duration": 0,
    "start_time": "2022-09-04T21:10:39.484Z"
   },
   {
    "duration": 0,
    "start_time": "2022-09-04T21:10:39.485Z"
   },
   {
    "duration": 0,
    "start_time": "2022-09-04T21:10:39.486Z"
   },
   {
    "duration": 0,
    "start_time": "2022-09-04T21:10:39.487Z"
   },
   {
    "duration": 0,
    "start_time": "2022-09-04T21:10:39.488Z"
   },
   {
    "duration": 0,
    "start_time": "2022-09-04T21:10:39.489Z"
   },
   {
    "duration": 0,
    "start_time": "2022-09-04T21:10:39.490Z"
   },
   {
    "duration": 0,
    "start_time": "2022-09-04T21:10:39.491Z"
   },
   {
    "duration": 669,
    "start_time": "2022-09-04T21:12:12.033Z"
   },
   {
    "duration": 2,
    "start_time": "2022-09-04T21:12:15.965Z"
   },
   {
    "duration": 101,
    "start_time": "2022-09-04T21:12:15.969Z"
   },
   {
    "duration": 19,
    "start_time": "2022-09-04T21:12:16.073Z"
   },
   {
    "duration": 16,
    "start_time": "2022-09-04T21:12:16.094Z"
   },
   {
    "duration": 10,
    "start_time": "2022-09-04T21:12:16.112Z"
   },
   {
    "duration": 64,
    "start_time": "2022-09-04T21:12:16.123Z"
   },
   {
    "duration": 2,
    "start_time": "2022-09-04T21:12:16.190Z"
   },
   {
    "duration": 16,
    "start_time": "2022-09-04T21:12:16.194Z"
   },
   {
    "duration": 13,
    "start_time": "2022-09-04T21:12:16.212Z"
   },
   {
    "duration": 12,
    "start_time": "2022-09-04T21:12:16.227Z"
   },
   {
    "duration": 12,
    "start_time": "2022-09-04T21:12:16.241Z"
   },
   {
    "duration": 8,
    "start_time": "2022-09-04T21:12:16.256Z"
   },
   {
    "duration": 12,
    "start_time": "2022-09-04T21:12:16.266Z"
   },
   {
    "duration": 10,
    "start_time": "2022-09-04T21:12:16.286Z"
   },
   {
    "duration": 16,
    "start_time": "2022-09-04T21:12:16.298Z"
   },
   {
    "duration": 11,
    "start_time": "2022-09-04T21:12:16.316Z"
   },
   {
    "duration": 8,
    "start_time": "2022-09-04T21:12:16.329Z"
   },
   {
    "duration": 9,
    "start_time": "2022-09-04T21:12:16.341Z"
   },
   {
    "duration": 13,
    "start_time": "2022-09-04T21:12:16.352Z"
   },
   {
    "duration": 15,
    "start_time": "2022-09-04T21:12:16.367Z"
   },
   {
    "duration": 7,
    "start_time": "2022-09-04T21:12:16.383Z"
   },
   {
    "duration": 12,
    "start_time": "2022-09-04T21:12:16.392Z"
   },
   {
    "duration": 3,
    "start_time": "2022-09-04T21:12:43.984Z"
   },
   {
    "duration": 84,
    "start_time": "2022-09-04T21:12:43.989Z"
   },
   {
    "duration": 16,
    "start_time": "2022-09-04T21:12:44.074Z"
   },
   {
    "duration": 29,
    "start_time": "2022-09-04T21:12:44.092Z"
   },
   {
    "duration": 11,
    "start_time": "2022-09-04T21:12:44.123Z"
   },
   {
    "duration": 66,
    "start_time": "2022-09-04T21:12:44.136Z"
   },
   {
    "duration": 2,
    "start_time": "2022-09-04T21:12:44.204Z"
   },
   {
    "duration": 16,
    "start_time": "2022-09-04T21:12:44.208Z"
   },
   {
    "duration": 8,
    "start_time": "2022-09-04T21:12:44.226Z"
   },
   {
    "duration": 5,
    "start_time": "2022-09-04T21:12:44.236Z"
   },
   {
    "duration": 15,
    "start_time": "2022-09-04T21:12:44.242Z"
   },
   {
    "duration": 4,
    "start_time": "2022-09-04T21:12:44.259Z"
   },
   {
    "duration": 22,
    "start_time": "2022-09-04T21:12:44.265Z"
   },
   {
    "duration": 4,
    "start_time": "2022-09-04T21:12:44.290Z"
   },
   {
    "duration": 5,
    "start_time": "2022-09-04T21:12:44.296Z"
   },
   {
    "duration": 6,
    "start_time": "2022-09-04T21:12:44.302Z"
   },
   {
    "duration": 5,
    "start_time": "2022-09-04T21:12:44.309Z"
   },
   {
    "duration": 7,
    "start_time": "2022-09-04T21:12:44.315Z"
   },
   {
    "duration": 5,
    "start_time": "2022-09-04T21:12:44.324Z"
   },
   {
    "duration": 5,
    "start_time": "2022-09-04T21:12:44.331Z"
   },
   {
    "duration": 8,
    "start_time": "2022-09-04T21:12:44.337Z"
   },
   {
    "duration": 5,
    "start_time": "2022-09-04T21:12:44.347Z"
   },
   {
    "duration": 3,
    "start_time": "2022-09-04T21:13:46.730Z"
   },
   {
    "duration": 75,
    "start_time": "2022-09-04T21:13:46.734Z"
   },
   {
    "duration": 14,
    "start_time": "2022-09-04T21:13:46.810Z"
   },
   {
    "duration": 16,
    "start_time": "2022-09-04T21:13:46.826Z"
   },
   {
    "duration": 10,
    "start_time": "2022-09-04T21:13:46.844Z"
   },
   {
    "duration": 79,
    "start_time": "2022-09-04T21:13:46.855Z"
   },
   {
    "duration": 3,
    "start_time": "2022-09-04T21:13:46.935Z"
   },
   {
    "duration": 6,
    "start_time": "2022-09-04T21:13:46.939Z"
   },
   {
    "duration": 7,
    "start_time": "2022-09-04T21:13:46.947Z"
   },
   {
    "duration": 6,
    "start_time": "2022-09-04T21:13:46.957Z"
   },
   {
    "duration": 25,
    "start_time": "2022-09-04T21:13:46.964Z"
   },
   {
    "duration": 5,
    "start_time": "2022-09-04T21:13:46.990Z"
   },
   {
    "duration": 6,
    "start_time": "2022-09-04T21:13:46.996Z"
   },
   {
    "duration": 7,
    "start_time": "2022-09-04T21:13:47.004Z"
   },
   {
    "duration": 5,
    "start_time": "2022-09-04T21:13:47.012Z"
   },
   {
    "duration": 7,
    "start_time": "2022-09-04T21:13:47.018Z"
   },
   {
    "duration": 7,
    "start_time": "2022-09-04T21:13:47.026Z"
   },
   {
    "duration": 7,
    "start_time": "2022-09-04T21:13:47.034Z"
   },
   {
    "duration": 4,
    "start_time": "2022-09-04T21:13:47.042Z"
   },
   {
    "duration": 5,
    "start_time": "2022-09-04T21:13:47.048Z"
   },
   {
    "duration": 8,
    "start_time": "2022-09-04T21:13:47.055Z"
   },
   {
    "duration": 22,
    "start_time": "2022-09-04T21:13:47.064Z"
   },
   {
    "duration": 3,
    "start_time": "2022-09-04T21:18:52.917Z"
   },
   {
    "duration": 70,
    "start_time": "2022-09-04T21:18:52.922Z"
   },
   {
    "duration": 14,
    "start_time": "2022-09-04T21:18:52.993Z"
   },
   {
    "duration": 20,
    "start_time": "2022-09-04T21:18:53.008Z"
   },
   {
    "duration": 9,
    "start_time": "2022-09-04T21:18:53.030Z"
   },
   {
    "duration": 106,
    "start_time": "2022-09-04T21:18:53.040Z"
   },
   {
    "duration": 3,
    "start_time": "2022-09-04T21:18:53.147Z"
   },
   {
    "duration": 5,
    "start_time": "2022-09-04T21:18:53.151Z"
   },
   {
    "duration": 6,
    "start_time": "2022-09-04T21:18:53.158Z"
   },
   {
    "duration": 4,
    "start_time": "2022-09-04T21:18:53.165Z"
   },
   {
    "duration": 4,
    "start_time": "2022-09-04T21:18:53.191Z"
   },
   {
    "duration": 5,
    "start_time": "2022-09-04T21:18:53.196Z"
   },
   {
    "duration": 13,
    "start_time": "2022-09-04T21:18:53.203Z"
   },
   {
    "duration": 13,
    "start_time": "2022-09-04T21:18:53.218Z"
   },
   {
    "duration": 5,
    "start_time": "2022-09-04T21:18:53.232Z"
   },
   {
    "duration": 8,
    "start_time": "2022-09-04T21:18:53.239Z"
   },
   {
    "duration": 6,
    "start_time": "2022-09-04T21:18:53.249Z"
   },
   {
    "duration": 5,
    "start_time": "2022-09-04T21:18:53.256Z"
   },
   {
    "duration": 4,
    "start_time": "2022-09-04T21:18:53.263Z"
   },
   {
    "duration": 6,
    "start_time": "2022-09-04T21:18:53.268Z"
   },
   {
    "duration": 5,
    "start_time": "2022-09-04T21:18:53.275Z"
   },
   {
    "duration": 7,
    "start_time": "2022-09-04T21:18:53.282Z"
   },
   {
    "duration": 62,
    "start_time": "2022-09-04T21:19:55.926Z"
   },
   {
    "duration": 3,
    "start_time": "2022-09-04T21:22:06.278Z"
   },
   {
    "duration": 84,
    "start_time": "2022-09-04T21:22:06.282Z"
   },
   {
    "duration": 18,
    "start_time": "2022-09-04T21:22:06.369Z"
   },
   {
    "duration": 29,
    "start_time": "2022-09-04T21:22:06.390Z"
   },
   {
    "duration": 20,
    "start_time": "2022-09-04T21:22:06.422Z"
   },
   {
    "duration": 87,
    "start_time": "2022-09-04T21:22:06.444Z"
   },
   {
    "duration": 2,
    "start_time": "2022-09-04T21:22:06.534Z"
   },
   {
    "duration": 5,
    "start_time": "2022-09-04T21:22:06.538Z"
   },
   {
    "duration": 12,
    "start_time": "2022-09-04T21:22:06.545Z"
   },
   {
    "duration": 15,
    "start_time": "2022-09-04T21:22:06.559Z"
   },
   {
    "duration": 12,
    "start_time": "2022-09-04T21:22:06.577Z"
   },
   {
    "duration": 8,
    "start_time": "2022-09-04T21:22:06.591Z"
   },
   {
    "duration": 5,
    "start_time": "2022-09-04T21:22:06.600Z"
   },
   {
    "duration": 8,
    "start_time": "2022-09-04T21:22:06.606Z"
   },
   {
    "duration": 7,
    "start_time": "2022-09-04T21:22:06.615Z"
   },
   {
    "duration": 6,
    "start_time": "2022-09-04T21:22:06.623Z"
   },
   {
    "duration": 5,
    "start_time": "2022-09-04T21:22:06.630Z"
   },
   {
    "duration": 6,
    "start_time": "2022-09-04T21:22:06.637Z"
   },
   {
    "duration": 5,
    "start_time": "2022-09-04T21:22:06.644Z"
   },
   {
    "duration": 16,
    "start_time": "2022-09-04T21:22:06.651Z"
   },
   {
    "duration": 9,
    "start_time": "2022-09-04T21:22:06.668Z"
   },
   {
    "duration": 17,
    "start_time": "2022-09-04T21:22:06.678Z"
   },
   {
    "duration": 65,
    "start_time": "2022-09-04T21:27:44.048Z"
   },
   {
    "duration": 69,
    "start_time": "2022-09-04T21:27:52.052Z"
   },
   {
    "duration": 54,
    "start_time": "2022-09-04T21:28:54.352Z"
   },
   {
    "duration": 58,
    "start_time": "2022-09-04T21:30:04.037Z"
   },
   {
    "duration": 73,
    "start_time": "2022-09-04T21:30:08.936Z"
   },
   {
    "duration": 56,
    "start_time": "2022-09-04T21:30:13.063Z"
   },
   {
    "duration": 815,
    "start_time": "2022-09-04T21:33:30.135Z"
   },
   {
    "duration": 795,
    "start_time": "2022-09-04T21:34:03.447Z"
   },
   {
    "duration": 3,
    "start_time": "2022-09-04T21:34:31.177Z"
   },
   {
    "duration": 6,
    "start_time": "2022-09-04T21:38:11.303Z"
   },
   {
    "duration": 7,
    "start_time": "2022-09-04T21:42:33.773Z"
   },
   {
    "duration": 10,
    "start_time": "2022-09-04T21:42:41.599Z"
   },
   {
    "duration": 12,
    "start_time": "2022-09-04T21:43:36.659Z"
   },
   {
    "duration": 5,
    "start_time": "2022-09-04T21:43:51.754Z"
   },
   {
    "duration": 3,
    "start_time": "2022-09-04T21:44:06.490Z"
   },
   {
    "duration": 76,
    "start_time": "2022-09-04T21:44:06.495Z"
   },
   {
    "duration": 15,
    "start_time": "2022-09-04T21:44:06.573Z"
   },
   {
    "duration": 20,
    "start_time": "2022-09-04T21:44:06.590Z"
   },
   {
    "duration": 10,
    "start_time": "2022-09-04T21:44:06.613Z"
   },
   {
    "duration": 68,
    "start_time": "2022-09-04T21:44:06.625Z"
   },
   {
    "duration": 4,
    "start_time": "2022-09-04T21:44:06.695Z"
   },
   {
    "duration": 22,
    "start_time": "2022-09-04T21:44:06.702Z"
   },
   {
    "duration": 4,
    "start_time": "2022-09-04T21:44:06.727Z"
   },
   {
    "duration": 18,
    "start_time": "2022-09-04T21:44:06.733Z"
   },
   {
    "duration": 5,
    "start_time": "2022-09-04T21:44:06.753Z"
   },
   {
    "duration": 6,
    "start_time": "2022-09-04T21:44:06.760Z"
   },
   {
    "duration": 3,
    "start_time": "2022-09-04T21:44:06.786Z"
   },
   {
    "duration": 5,
    "start_time": "2022-09-04T21:44:06.791Z"
   },
   {
    "duration": 7,
    "start_time": "2022-09-04T21:44:06.798Z"
   },
   {
    "duration": 9,
    "start_time": "2022-09-04T21:44:06.806Z"
   },
   {
    "duration": 6,
    "start_time": "2022-09-04T21:44:06.817Z"
   },
   {
    "duration": 5,
    "start_time": "2022-09-04T21:44:06.824Z"
   },
   {
    "duration": 4,
    "start_time": "2022-09-04T21:44:06.831Z"
   },
   {
    "duration": 11,
    "start_time": "2022-09-04T21:44:06.837Z"
   },
   {
    "duration": 9,
    "start_time": "2022-09-04T21:44:06.850Z"
   },
   {
    "duration": 6,
    "start_time": "2022-09-04T21:44:06.860Z"
   },
   {
    "duration": 4,
    "start_time": "2022-09-04T21:45:23.885Z"
   },
   {
    "duration": 6,
    "start_time": "2022-09-04T21:45:42.816Z"
   },
   {
    "duration": 8,
    "start_time": "2022-09-04T21:46:01.568Z"
   },
   {
    "duration": 7,
    "start_time": "2022-09-04T21:47:14.671Z"
   },
   {
    "duration": 10,
    "start_time": "2022-09-04T21:47:36.470Z"
   },
   {
    "duration": 12,
    "start_time": "2022-09-04T21:48:38.118Z"
   },
   {
    "duration": 2,
    "start_time": "2022-09-04T21:49:06.413Z"
   },
   {
    "duration": 78,
    "start_time": "2022-09-04T21:49:06.418Z"
   },
   {
    "duration": 14,
    "start_time": "2022-09-04T21:49:06.497Z"
   },
   {
    "duration": 16,
    "start_time": "2022-09-04T21:49:06.513Z"
   },
   {
    "duration": 11,
    "start_time": "2022-09-04T21:49:06.535Z"
   },
   {
    "duration": 73,
    "start_time": "2022-09-04T21:49:06.548Z"
   },
   {
    "duration": 4,
    "start_time": "2022-09-04T21:49:06.623Z"
   },
   {
    "duration": 11,
    "start_time": "2022-09-04T21:49:06.629Z"
   },
   {
    "duration": 5,
    "start_time": "2022-09-04T21:49:06.642Z"
   },
   {
    "duration": 16,
    "start_time": "2022-09-04T21:49:06.649Z"
   },
   {
    "duration": 30,
    "start_time": "2022-09-04T21:49:06.666Z"
   },
   {
    "duration": 2,
    "start_time": "2022-09-04T21:49:06.697Z"
   },
   {
    "duration": 4,
    "start_time": "2022-09-04T21:49:06.702Z"
   },
   {
    "duration": 7,
    "start_time": "2022-09-04T21:49:06.707Z"
   },
   {
    "duration": 7,
    "start_time": "2022-09-04T21:49:06.715Z"
   },
   {
    "duration": 4,
    "start_time": "2022-09-04T21:49:06.724Z"
   },
   {
    "duration": 5,
    "start_time": "2022-09-04T21:49:06.730Z"
   },
   {
    "duration": 6,
    "start_time": "2022-09-04T21:49:06.736Z"
   },
   {
    "duration": 23,
    "start_time": "2022-09-04T21:49:06.743Z"
   },
   {
    "duration": 17,
    "start_time": "2022-09-04T21:49:06.768Z"
   },
   {
    "duration": 5,
    "start_time": "2022-09-04T21:49:06.787Z"
   },
   {
    "duration": 4,
    "start_time": "2022-09-04T21:49:06.794Z"
   },
   {
    "duration": 5,
    "start_time": "2022-09-04T21:49:47.157Z"
   },
   {
    "duration": 7,
    "start_time": "2022-09-04T21:51:34.386Z"
   },
   {
    "duration": 9,
    "start_time": "2022-09-04T21:51:55.252Z"
   },
   {
    "duration": 51,
    "start_time": "2022-09-04T21:53:11.670Z"
   },
   {
    "duration": 786,
    "start_time": "2022-09-04T21:53:15.269Z"
   },
   {
    "duration": 14,
    "start_time": "2022-09-04T21:53:28.685Z"
   },
   {
    "duration": 4,
    "start_time": "2022-09-04T21:54:34.484Z"
   },
   {
    "duration": 7,
    "start_time": "2022-09-04T21:54:38.968Z"
   },
   {
    "duration": 4,
    "start_time": "2022-09-04T21:54:55.811Z"
   },
   {
    "duration": 31,
    "start_time": "2022-09-04T21:55:08.414Z"
   },
   {
    "duration": 10,
    "start_time": "2022-09-04T21:55:53.387Z"
   },
   {
    "duration": 33,
    "start_time": "2022-09-04T21:56:12.683Z"
   },
   {
    "duration": 5,
    "start_time": "2022-09-04T21:56:33.762Z"
   },
   {
    "duration": 5,
    "start_time": "2022-09-04T21:56:36.771Z"
   },
   {
    "duration": 4,
    "start_time": "2022-09-04T21:57:23.670Z"
   },
   {
    "duration": 5,
    "start_time": "2022-09-04T21:57:35.368Z"
   },
   {
    "duration": 4,
    "start_time": "2022-09-04T21:57:58.627Z"
   },
   {
    "duration": 7,
    "start_time": "2022-09-04T21:58:46.019Z"
   },
   {
    "duration": 57,
    "start_time": "2022-09-04T22:01:55.654Z"
   },
   {
    "duration": 54,
    "start_time": "2022-09-04T22:02:24.226Z"
   },
   {
    "duration": 12,
    "start_time": "2022-09-04T22:03:30.474Z"
   },
   {
    "duration": 13,
    "start_time": "2022-09-04T22:06:55.830Z"
   },
   {
    "duration": 2,
    "start_time": "2022-09-04T22:07:15.010Z"
   },
   {
    "duration": 101,
    "start_time": "2022-09-04T22:07:15.014Z"
   },
   {
    "duration": 15,
    "start_time": "2022-09-04T22:07:15.116Z"
   },
   {
    "duration": 33,
    "start_time": "2022-09-04T22:07:15.132Z"
   },
   {
    "duration": 9,
    "start_time": "2022-09-04T22:07:15.167Z"
   },
   {
    "duration": 52,
    "start_time": "2022-09-04T22:07:15.178Z"
   },
   {
    "duration": 3,
    "start_time": "2022-09-04T22:07:15.232Z"
   },
   {
    "duration": 13,
    "start_time": "2022-09-04T22:07:15.236Z"
   },
   {
    "duration": 7,
    "start_time": "2022-09-04T22:07:15.250Z"
   },
   {
    "duration": 14,
    "start_time": "2022-09-04T22:07:15.258Z"
   },
   {
    "duration": 17,
    "start_time": "2022-09-04T22:07:15.273Z"
   },
   {
    "duration": 54,
    "start_time": "2022-09-04T22:07:15.291Z"
   },
   {
    "duration": 10,
    "start_time": "2022-09-04T22:07:15.346Z"
   },
   {
    "duration": 31,
    "start_time": "2022-09-04T22:07:15.358Z"
   },
   {
    "duration": 0,
    "start_time": "2022-09-04T22:07:15.391Z"
   },
   {
    "duration": 0,
    "start_time": "2022-09-04T22:07:15.392Z"
   },
   {
    "duration": 0,
    "start_time": "2022-09-04T22:07:15.393Z"
   },
   {
    "duration": 0,
    "start_time": "2022-09-04T22:07:15.394Z"
   },
   {
    "duration": 0,
    "start_time": "2022-09-04T22:07:15.395Z"
   },
   {
    "duration": 0,
    "start_time": "2022-09-04T22:07:15.396Z"
   },
   {
    "duration": 0,
    "start_time": "2022-09-04T22:07:15.397Z"
   },
   {
    "duration": 0,
    "start_time": "2022-09-04T22:07:15.398Z"
   },
   {
    "duration": 14,
    "start_time": "2022-09-04T22:07:57.981Z"
   },
   {
    "duration": 15,
    "start_time": "2022-09-04T22:08:56.286Z"
   },
   {
    "duration": 11,
    "start_time": "2022-09-04T22:14:15.833Z"
   },
   {
    "duration": 12,
    "start_time": "2022-09-04T22:15:15.234Z"
   },
   {
    "duration": 12,
    "start_time": "2022-09-04T22:15:26.737Z"
   },
   {
    "duration": 11,
    "start_time": "2022-09-04T22:16:02.172Z"
   },
   {
    "duration": 16,
    "start_time": "2022-09-04T22:16:10.541Z"
   },
   {
    "duration": 3,
    "start_time": "2022-09-04T22:16:14.554Z"
   },
   {
    "duration": 4,
    "start_time": "2022-09-04T22:16:32.807Z"
   },
   {
    "duration": 98,
    "start_time": "2022-09-04T22:18:02.144Z"
   },
   {
    "duration": 11,
    "start_time": "2022-09-04T22:18:07.402Z"
   },
   {
    "duration": 52,
    "start_time": "2022-09-04T22:19:23.822Z"
   },
   {
    "duration": 5,
    "start_time": "2022-09-04T22:19:28.604Z"
   },
   {
    "duration": 5,
    "start_time": "2022-09-04T22:19:50.657Z"
   },
   {
    "duration": 8,
    "start_time": "2022-09-04T22:22:20.431Z"
   },
   {
    "duration": 4,
    "start_time": "2022-09-04T22:22:28.075Z"
   },
   {
    "duration": 5,
    "start_time": "2022-09-04T22:23:51.016Z"
   },
   {
    "duration": 12,
    "start_time": "2022-09-04T22:24:02.338Z"
   },
   {
    "duration": 11,
    "start_time": "2022-09-04T22:24:24.109Z"
   },
   {
    "duration": 23,
    "start_time": "2022-09-04T22:24:36.356Z"
   },
   {
    "duration": 20,
    "start_time": "2022-09-04T22:25:33.663Z"
   },
   {
    "duration": 18,
    "start_time": "2022-09-04T22:25:41.920Z"
   },
   {
    "duration": 18,
    "start_time": "2022-09-04T22:25:57.439Z"
   },
   {
    "duration": 20,
    "start_time": "2022-09-04T22:26:07.656Z"
   },
   {
    "duration": 35,
    "start_time": "2022-09-04T22:26:22.982Z"
   },
   {
    "duration": 7,
    "start_time": "2022-09-04T22:46:51.747Z"
   },
   {
    "duration": 4,
    "start_time": "2022-09-04T22:47:12.917Z"
   },
   {
    "duration": 10,
    "start_time": "2022-09-04T22:47:14.727Z"
   },
   {
    "duration": 8,
    "start_time": "2022-09-04T22:47:40.277Z"
   },
   {
    "duration": 3,
    "start_time": "2022-09-04T22:47:46.682Z"
   },
   {
    "duration": 9,
    "start_time": "2022-09-04T22:47:48.233Z"
   },
   {
    "duration": 26,
    "start_time": "2022-09-04T22:53:21.380Z"
   },
   {
    "duration": 53,
    "start_time": "2022-09-04T22:56:53.480Z"
   },
   {
    "duration": 45,
    "start_time": "2022-09-04T22:57:20.647Z"
   },
   {
    "duration": 56,
    "start_time": "2022-09-04T22:57:27.262Z"
   },
   {
    "duration": 3,
    "start_time": "2022-09-04T22:57:35.277Z"
   },
   {
    "duration": 3,
    "start_time": "2022-09-04T22:58:39.276Z"
   },
   {
    "duration": 4,
    "start_time": "2022-09-04T22:59:24.614Z"
   },
   {
    "duration": 3,
    "start_time": "2022-09-04T23:00:23.750Z"
   },
   {
    "duration": 3,
    "start_time": "2022-09-04T23:03:05.844Z"
   },
   {
    "duration": 872,
    "start_time": "2022-09-04T23:03:08.636Z"
   },
   {
    "duration": 338,
    "start_time": "2022-09-04T23:03:37.889Z"
   },
   {
    "duration": 3,
    "start_time": "2022-09-04T23:03:44.110Z"
   },
   {
    "duration": 213,
    "start_time": "2022-09-04T23:03:46.801Z"
   },
   {
    "duration": 3,
    "start_time": "2022-09-04T23:04:15.379Z"
   },
   {
    "duration": 2495,
    "start_time": "2022-09-04T23:04:18.092Z"
   },
   {
    "duration": 3,
    "start_time": "2022-09-04T23:04:36.284Z"
   },
   {
    "duration": 82,
    "start_time": "2022-09-04T23:04:36.290Z"
   },
   {
    "duration": 14,
    "start_time": "2022-09-04T23:04:36.374Z"
   },
   {
    "duration": 15,
    "start_time": "2022-09-04T23:04:36.390Z"
   },
   {
    "duration": 9,
    "start_time": "2022-09-04T23:04:36.407Z"
   },
   {
    "duration": 70,
    "start_time": "2022-09-04T23:04:36.417Z"
   },
   {
    "duration": 3,
    "start_time": "2022-09-04T23:04:36.489Z"
   },
   {
    "duration": 9,
    "start_time": "2022-09-04T23:04:36.494Z"
   },
   {
    "duration": 5,
    "start_time": "2022-09-04T23:04:36.504Z"
   },
   {
    "duration": 14,
    "start_time": "2022-09-04T23:04:36.511Z"
   },
   {
    "duration": 6,
    "start_time": "2022-09-04T23:04:36.526Z"
   },
   {
    "duration": 80,
    "start_time": "2022-09-04T23:04:36.533Z"
   },
   {
    "duration": 12,
    "start_time": "2022-09-04T23:04:36.615Z"
   },
   {
    "duration": 15,
    "start_time": "2022-09-04T23:04:36.629Z"
   },
   {
    "duration": 22,
    "start_time": "2022-09-04T23:04:36.646Z"
   },
   {
    "duration": 21,
    "start_time": "2022-09-04T23:04:36.669Z"
   },
   {
    "duration": 18,
    "start_time": "2022-09-04T23:04:36.691Z"
   },
   {
    "duration": 3,
    "start_time": "2022-09-04T23:04:36.710Z"
   },
   {
    "duration": 12,
    "start_time": "2022-09-04T23:04:36.715Z"
   },
   {
    "duration": 7,
    "start_time": "2022-09-04T23:04:36.728Z"
   },
   {
    "duration": 6,
    "start_time": "2022-09-04T23:04:36.736Z"
   },
   {
    "duration": 2402,
    "start_time": "2022-09-04T23:04:36.743Z"
   },
   {
    "duration": 4,
    "start_time": "2022-09-04T23:05:28.167Z"
   },
   {
    "duration": 3,
    "start_time": "2022-09-04T23:05:35.987Z"
   },
   {
    "duration": 241,
    "start_time": "2022-09-04T23:05:38.039Z"
   },
   {
    "duration": 3,
    "start_time": "2022-09-04T23:06:33.725Z"
   },
   {
    "duration": 251,
    "start_time": "2022-09-04T23:06:34.585Z"
   },
   {
    "duration": 3,
    "start_time": "2022-09-04T23:07:41.366Z"
   },
   {
    "duration": 184,
    "start_time": "2022-09-04T23:07:42.965Z"
   },
   {
    "duration": 45,
    "start_time": "2022-09-04T23:07:55.806Z"
   },
   {
    "duration": 194,
    "start_time": "2022-09-04T23:07:57.434Z"
   },
   {
    "duration": 49,
    "start_time": "2022-09-04T23:08:22.995Z"
   },
   {
    "duration": 255,
    "start_time": "2022-09-04T23:08:23.932Z"
   },
   {
    "duration": 3,
    "start_time": "2022-09-04T23:08:42.625Z"
   },
   {
    "duration": 242,
    "start_time": "2022-09-04T23:08:44.109Z"
   },
   {
    "duration": 3,
    "start_time": "2022-09-04T23:09:17.158Z"
   },
   {
    "duration": 74,
    "start_time": "2022-09-04T23:09:17.162Z"
   },
   {
    "duration": 15,
    "start_time": "2022-09-04T23:09:17.237Z"
   },
   {
    "duration": 16,
    "start_time": "2022-09-04T23:09:17.254Z"
   },
   {
    "duration": 21,
    "start_time": "2022-09-04T23:09:17.272Z"
   },
   {
    "duration": 58,
    "start_time": "2022-09-04T23:09:17.294Z"
   },
   {
    "duration": 3,
    "start_time": "2022-09-04T23:09:17.354Z"
   },
   {
    "duration": 11,
    "start_time": "2022-09-04T23:09:17.358Z"
   },
   {
    "duration": 18,
    "start_time": "2022-09-04T23:09:17.370Z"
   },
   {
    "duration": 17,
    "start_time": "2022-09-04T23:09:17.390Z"
   },
   {
    "duration": 6,
    "start_time": "2022-09-04T23:09:17.409Z"
   },
   {
    "duration": 71,
    "start_time": "2022-09-04T23:09:17.416Z"
   },
   {
    "duration": 11,
    "start_time": "2022-09-04T23:09:17.489Z"
   },
   {
    "duration": 12,
    "start_time": "2022-09-04T23:09:17.502Z"
   },
   {
    "duration": 22,
    "start_time": "2022-09-04T23:09:17.516Z"
   },
   {
    "duration": 24,
    "start_time": "2022-09-04T23:09:17.540Z"
   },
   {
    "duration": 28,
    "start_time": "2022-09-04T23:09:17.566Z"
   },
   {
    "duration": 4,
    "start_time": "2022-09-04T23:09:17.595Z"
   },
   {
    "duration": 31,
    "start_time": "2022-09-04T23:09:17.601Z"
   },
   {
    "duration": 20,
    "start_time": "2022-09-04T23:09:17.634Z"
   },
   {
    "duration": 29,
    "start_time": "2022-09-04T23:09:17.656Z"
   },
   {
    "duration": 243,
    "start_time": "2022-09-04T23:09:17.687Z"
   },
   {
    "duration": 54,
    "start_time": "2022-09-04T23:09:47.611Z"
   },
   {
    "duration": 43,
    "start_time": "2022-09-04T23:09:54.638Z"
   },
   {
    "duration": 4,
    "start_time": "2022-09-04T23:10:00.240Z"
   },
   {
    "duration": 377,
    "start_time": "2022-09-04T23:10:01.861Z"
   },
   {
    "duration": 8,
    "start_time": "2022-09-04T23:12:41.387Z"
   },
   {
    "duration": 50,
    "start_time": "2022-09-04T23:13:44.899Z"
   },
   {
    "duration": 66,
    "start_time": "2022-09-04T23:14:17.535Z"
   },
   {
    "duration": 3,
    "start_time": "2022-09-04T23:14:57.886Z"
   },
   {
    "duration": 9,
    "start_time": "2022-09-04T23:15:01.367Z"
   },
   {
    "duration": 5,
    "start_time": "2022-09-04T23:15:23.062Z"
   },
   {
    "duration": 31,
    "start_time": "2022-09-04T23:15:57.454Z"
   },
   {
    "duration": 5,
    "start_time": "2022-09-04T23:16:45.164Z"
   },
   {
    "duration": 5,
    "start_time": "2022-09-04T23:16:51.405Z"
   },
   {
    "duration": 3,
    "start_time": "2022-09-04T23:17:02.219Z"
   },
   {
    "duration": 4,
    "start_time": "2022-09-04T23:17:03.328Z"
   },
   {
    "duration": 8,
    "start_time": "2022-09-04T23:17:04.453Z"
   },
   {
    "duration": 5,
    "start_time": "2022-09-04T23:17:05.200Z"
   },
   {
    "duration": 10,
    "start_time": "2022-09-04T23:17:55.773Z"
   },
   {
    "duration": 9,
    "start_time": "2022-09-04T23:18:09.386Z"
   },
   {
    "duration": 50,
    "start_time": "2022-09-04T23:18:36.915Z"
   },
   {
    "duration": 99,
    "start_time": "2022-09-04T23:18:40.027Z"
   },
   {
    "duration": 7,
    "start_time": "2022-09-04T23:18:43.983Z"
   },
   {
    "duration": 6,
    "start_time": "2022-09-04T23:20:47.642Z"
   },
   {
    "duration": 5,
    "start_time": "2022-09-04T23:20:56.723Z"
   },
   {
    "duration": 11,
    "start_time": "2022-09-04T23:21:52.957Z"
   },
   {
    "duration": 20,
    "start_time": "2022-09-04T23:22:34.156Z"
   },
   {
    "duration": 5,
    "start_time": "2022-09-04T23:22:54.320Z"
   },
   {
    "duration": 17,
    "start_time": "2022-09-04T23:23:27.399Z"
   },
   {
    "duration": 4,
    "start_time": "2022-09-04T23:23:28.606Z"
   },
   {
    "duration": 17,
    "start_time": "2022-09-04T23:23:29.560Z"
   },
   {
    "duration": 28,
    "start_time": "2022-09-04T23:23:47.295Z"
   },
   {
    "duration": 2,
    "start_time": "2022-09-04T23:24:44.935Z"
   },
   {
    "duration": 72,
    "start_time": "2022-09-04T23:24:44.939Z"
   },
   {
    "duration": 14,
    "start_time": "2022-09-04T23:24:45.013Z"
   },
   {
    "duration": 27,
    "start_time": "2022-09-04T23:24:45.029Z"
   },
   {
    "duration": 9,
    "start_time": "2022-09-04T23:24:45.058Z"
   },
   {
    "duration": 65,
    "start_time": "2022-09-04T23:24:45.069Z"
   },
   {
    "duration": 3,
    "start_time": "2022-09-04T23:24:45.136Z"
   },
   {
    "duration": 9,
    "start_time": "2022-09-04T23:24:45.140Z"
   },
   {
    "duration": 5,
    "start_time": "2022-09-04T23:24:45.151Z"
   },
   {
    "duration": 30,
    "start_time": "2022-09-04T23:24:45.157Z"
   },
   {
    "duration": 6,
    "start_time": "2022-09-04T23:24:45.188Z"
   },
   {
    "duration": 60,
    "start_time": "2022-09-04T23:24:45.195Z"
   },
   {
    "duration": 10,
    "start_time": "2022-09-04T23:24:45.257Z"
   },
   {
    "duration": 26,
    "start_time": "2022-09-04T23:24:45.269Z"
   },
   {
    "duration": 28,
    "start_time": "2022-09-04T23:24:45.297Z"
   },
   {
    "duration": 17,
    "start_time": "2022-09-04T23:24:45.326Z"
   },
   {
    "duration": 20,
    "start_time": "2022-09-04T23:24:45.345Z"
   },
   {
    "duration": 4,
    "start_time": "2022-09-04T23:24:45.366Z"
   },
   {
    "duration": 12,
    "start_time": "2022-09-04T23:24:45.371Z"
   },
   {
    "duration": 20,
    "start_time": "2022-09-04T23:24:45.386Z"
   },
   {
    "duration": 7,
    "start_time": "2022-09-04T23:24:45.407Z"
   },
   {
    "duration": 32,
    "start_time": "2022-09-04T23:24:45.416Z"
   },
   {
    "duration": 19,
    "start_time": "2022-09-04T23:25:12.232Z"
   },
   {
    "duration": 24,
    "start_time": "2022-09-04T23:25:26.197Z"
   },
   {
    "duration": 4,
    "start_time": "2022-09-04T23:25:33.975Z"
   },
   {
    "duration": 29,
    "start_time": "2022-09-04T23:25:35.695Z"
   }
  ],
  "colab": {
   "name": "dpp_template_part1.ipynb",
   "provenance": []
  },
  "kernelspec": {
   "display_name": "Python 3 (ipykernel)",
   "language": "python",
   "name": "python3"
  },
  "language_info": {
   "codemirror_mode": {
    "name": "ipython",
    "version": 3
   },
   "file_extension": ".py",
   "mimetype": "text/x-python",
   "name": "python",
   "nbconvert_exporter": "python",
   "pygments_lexer": "ipython3",
   "version": "3.9.5"
  },
  "toc": {
   "base_numbering": 1,
   "nav_menu": {},
   "number_sections": true,
   "sideBar": true,
   "skip_h1_title": true,
   "title_cell": "Table of Contents",
   "title_sidebar": "Contents",
   "toc_cell": false,
   "toc_position": {},
   "toc_section_display": true,
   "toc_window_display": false
  }
 },
 "nbformat": 4,
 "nbformat_minor": 5
}
