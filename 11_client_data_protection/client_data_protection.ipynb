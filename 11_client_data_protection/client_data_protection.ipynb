{
 "cells": [
  {
   "cell_type": "markdown",
   "metadata": {
    "toc": true
   },
   "source": [
    "<h1>Содержание<span class=\"tocSkip\"></span></h1>\n",
    "<div class=\"toc\"><ul class=\"toc-item\"><li><span><a href=\"#Загрузка-данных\" data-toc-modified-id=\"Загрузка-данных-1\"><span class=\"toc-item-num\">1&nbsp;&nbsp;</span>Загрузка данных</a></span></li><li><span><a href=\"#Умножение-матриц\" data-toc-modified-id=\"Умножение-матриц-2\"><span class=\"toc-item-num\">2&nbsp;&nbsp;</span>Умножение матриц</a></span></li><li><span><a href=\"#Алгоритм-преобразования\" data-toc-modified-id=\"Алгоритм-преобразования-3\"><span class=\"toc-item-num\">3&nbsp;&nbsp;</span>Алгоритм преобразования</a></span></li><li><span><a href=\"#Проверка-алгоритма\" data-toc-modified-id=\"Проверка-алгоритма-4\"><span class=\"toc-item-num\">4&nbsp;&nbsp;</span>Проверка алгоритма</a></span></li><li><span><a href=\"#Итоговый-вывод\" data-toc-modified-id=\"Итоговый-вывод-5\"><span class=\"toc-item-num\">5&nbsp;&nbsp;</span>Итоговый вывод</a></span></li><li><span><a href=\"#Чек-лист-проверки\" data-toc-modified-id=\"Чек-лист-проверки-6\"><span class=\"toc-item-num\">6&nbsp;&nbsp;</span>Чек-лист проверки</a></span></li></ul></div>"
   ]
  },
  {
   "cell_type": "markdown",
   "metadata": {},
   "source": [
    "# Защита персональных данных клиентов"
   ]
  },
  {
   "cell_type": "markdown",
   "metadata": {},
   "source": [
    "## Загрузка данных"
   ]
  },
  {
   "cell_type": "code",
   "execution_count": 1,
   "metadata": {},
   "outputs": [],
   "source": [
    "import pandas as pd\n",
    "import numpy as np\n",
    "from sklearn.model_selection import train_test_split\n",
    "from sklearn.preprocessing import StandardScaler\n",
    "from sklearn.pipeline import Pipeline\n",
    "from sklearn.linear_model import LinearRegression\n",
    "from sklearn.metrics import r2_score"
   ]
  },
  {
   "cell_type": "code",
   "execution_count": 2,
   "metadata": {},
   "outputs": [
    {
     "name": "stdout",
     "output_type": "stream",
     "text": [
      "<class 'pandas.core.frame.DataFrame'>\n",
      "RangeIndex: 5000 entries, 0 to 4999\n",
      "Data columns (total 5 columns):\n",
      " #   Column             Non-Null Count  Dtype  \n",
      "---  ------             --------------  -----  \n",
      " 0   Пол                5000 non-null   int64  \n",
      " 1   Возраст            5000 non-null   float64\n",
      " 2   Зарплата           5000 non-null   float64\n",
      " 3   Члены семьи        5000 non-null   int64  \n",
      " 4   Страховые выплаты  5000 non-null   int64  \n",
      "dtypes: float64(2), int64(3)\n",
      "memory usage: 195.4 KB\n"
     ]
    }
   ],
   "source": [
    "insurance_data = pd.read_csv('/datasets/insurance.csv')\n",
    "insurance_data.info()"
   ]
  },
  {
   "cell_type": "code",
   "execution_count": 3,
   "metadata": {
    "scrolled": true
   },
   "outputs": [
    {
     "data": {
      "text/html": [
       "<div>\n",
       "<style scoped>\n",
       "    .dataframe tbody tr th:only-of-type {\n",
       "        vertical-align: middle;\n",
       "    }\n",
       "\n",
       "    .dataframe tbody tr th {\n",
       "        vertical-align: top;\n",
       "    }\n",
       "\n",
       "    .dataframe thead th {\n",
       "        text-align: right;\n",
       "    }\n",
       "</style>\n",
       "<table border=\"1\" class=\"dataframe\">\n",
       "  <thead>\n",
       "    <tr style=\"text-align: right;\">\n",
       "      <th></th>\n",
       "      <th>Пол</th>\n",
       "      <th>Возраст</th>\n",
       "      <th>Зарплата</th>\n",
       "      <th>Члены семьи</th>\n",
       "      <th>Страховые выплаты</th>\n",
       "    </tr>\n",
       "  </thead>\n",
       "  <tbody>\n",
       "    <tr>\n",
       "      <th>0</th>\n",
       "      <td>1</td>\n",
       "      <td>41.0</td>\n",
       "      <td>49600.0</td>\n",
       "      <td>1</td>\n",
       "      <td>0</td>\n",
       "    </tr>\n",
       "    <tr>\n",
       "      <th>1</th>\n",
       "      <td>0</td>\n",
       "      <td>46.0</td>\n",
       "      <td>38000.0</td>\n",
       "      <td>1</td>\n",
       "      <td>1</td>\n",
       "    </tr>\n",
       "    <tr>\n",
       "      <th>2</th>\n",
       "      <td>0</td>\n",
       "      <td>29.0</td>\n",
       "      <td>21000.0</td>\n",
       "      <td>0</td>\n",
       "      <td>0</td>\n",
       "    </tr>\n",
       "    <tr>\n",
       "      <th>3</th>\n",
       "      <td>0</td>\n",
       "      <td>21.0</td>\n",
       "      <td>41700.0</td>\n",
       "      <td>2</td>\n",
       "      <td>0</td>\n",
       "    </tr>\n",
       "    <tr>\n",
       "      <th>4</th>\n",
       "      <td>1</td>\n",
       "      <td>28.0</td>\n",
       "      <td>26100.0</td>\n",
       "      <td>0</td>\n",
       "      <td>0</td>\n",
       "    </tr>\n",
       "  </tbody>\n",
       "</table>\n",
       "</div>"
      ],
      "text/plain": [
       "   Пол  Возраст  Зарплата  Члены семьи  Страховые выплаты\n",
       "0    1     41.0   49600.0            1                  0\n",
       "1    0     46.0   38000.0            1                  1\n",
       "2    0     29.0   21000.0            0                  0\n",
       "3    0     21.0   41700.0            2                  0\n",
       "4    1     28.0   26100.0            0                  0"
      ]
     },
     "execution_count": 3,
     "metadata": {},
     "output_type": "execute_result"
    }
   ],
   "source": [
    "insurance_data.head()"
   ]
  },
  {
   "cell_type": "code",
   "execution_count": 4,
   "metadata": {},
   "outputs": [],
   "source": [
    "def show_rows(data_frame):\n",
    "    for column in data_frame.columns:\n",
    "        print('Уникальные значения столбца', column)\n",
    "        print(data_frame[column].unique())\n",
    "    print('Количество пропусков в каждом столбце')    \n",
    "    print(data_frame.isna().mean())"
   ]
  },
  {
   "cell_type": "code",
   "execution_count": 5,
   "metadata": {},
   "outputs": [
    {
     "name": "stdout",
     "output_type": "stream",
     "text": [
      "Уникальные значения столбца Пол\n",
      "[1 0]\n",
      "Уникальные значения столбца Возраст\n",
      "[41. 46. 29. 21. 28. 43. 39. 25. 36. 32. 38. 23. 40. 34. 26. 42. 27. 33.\n",
      " 47. 30. 19. 31. 22. 20. 24. 18. 37. 48. 45. 44. 52. 49. 35. 56. 65. 55.\n",
      " 57. 54. 50. 53. 51. 58. 59. 60. 61. 62.]\n",
      "Уникальные значения столбца Зарплата\n",
      "[49600. 38000. 21000. 41700. 26100. 41000. 39700. 38600. 49700. 51700.\n",
      " 36600. 29300. 39500. 55000. 43700. 23300. 48900. 33200. 36900. 43500.\n",
      " 36100. 26600. 48700. 40400. 38400. 34600. 34800. 36800. 42200. 46300.\n",
      " 30300. 51000. 28100. 64800. 30400. 45300. 38300. 49500. 19400. 40200.\n",
      " 31700. 69200. 33100. 31600. 34500. 38700. 39600. 42400. 34900. 30500.\n",
      " 24200. 49900. 14300. 47000. 44800. 43800. 42700. 35400. 57200. 29600.\n",
      " 37400. 48100. 33700. 61800. 39400. 15600. 52600. 37600. 52500. 32700.\n",
      " 51600. 60900. 41800. 47400. 26500. 45900. 35700. 34300. 26700. 25700.\n",
      " 33300. 31100. 31500. 42100. 37300. 42500. 27300. 46800. 33500. 44300.\n",
      " 41600. 53900. 40100. 44600. 45000. 32000. 38200. 33000. 38500. 51800.\n",
      " 33800. 46400. 43200. 31800. 50200. 35100. 30700. 45800. 49300. 42800.\n",
      " 33600. 50300. 34000. 36400. 44900. 43600. 54600. 52800. 29700. 39000.\n",
      " 44100. 31900. 37700. 35200. 43100. 51300. 47500. 40800. 26800. 64900.\n",
      " 35900. 31200. 39900. 43300. 33900. 40700. 44700. 53400. 30600. 56000.\n",
      " 35600. 55200. 40600. 48300. 50800. 41200. 44200. 44400. 40500. 39800.\n",
      " 16600. 48400. 25100. 23100. 32100. 31000. 42900. 46700. 26000. 55900.\n",
      " 52000. 41500. 49400. 60300. 45600. 49000. 37500. 21900. 45100. 47900.\n",
      " 54300. 32400. 41300. 44500. 23200. 37900. 48000. 52100. 45700. 29900.\n",
      " 42600. 45200. 36000. 46500. 23800. 30200. 24400. 32800. 29000. 43400.\n",
      " 51500. 61700. 45400. 50700. 36200. 41900. 27900. 47200. 48800. 55100.\n",
      " 48200. 35500. 35000. 43900. 40000. 22000. 40300. 36300. 49800. 25600.\n",
      " 42300. 54900. 25500. 32900. 36700. 38900. 24700. 28800. 22900. 47300.\n",
      " 14500. 28700. 44000. 34100. 53000. 59300. 28500. 47100. 41400. 58900.\n",
      " 17500. 54200. 43000. 29800. 20000. 13800. 27500. 67700. 28000. 37100.\n",
      "  8900. 14600. 56200. 38800. 27700. 50500. 58400. 34700. 34400. 49100.\n",
      " 50900. 28200. 61500. 32500. 25900.  9800. 28300. 41100. 62000. 32600.\n",
      " 37200. 53800. 24000. 53600. 54800. 59600. 20200. 21700. 29200. 38100.\n",
      " 20700. 32300. 21200. 62100. 54000. 24500. 51900. 47800. 56100. 55300.\n",
      " 58100. 28900. 39100. 58000. 27200. 24600. 30100. 57100. 60100. 22200.\n",
      " 47700. 24900. 37800. 52700. 34200. 18700. 42000. 26300. 22600. 30900.\n",
      " 35800. 30800. 51100. 53300. 46200. 24100. 54700. 51200. 62300. 51400.\n",
      " 40900. 23400. 35300. 55800. 33400. 21300. 30000. 56700. 46900.  5300.\n",
      " 39200. 57500. 31300. 53700. 21600. 50000. 36500. 16400. 15900. 65100.\n",
      " 59900. 63200. 26200. 61200. 48500. 32200. 29100. 50100. 22700. 28600.\n",
      " 23500. 23700. 19600. 17800. 50600. 57900. 22500. 22100. 58300. 64100.\n",
      " 25000. 60400. 59100. 37000. 62400. 29500. 25800. 25400. 26900. 21500.\n",
      " 52200. 46600. 57300. 46100. 19300. 18900. 31400. 28400. 29400. 17600.\n",
      " 13900. 52400. 11300. 46000. 60500. 58700. 58200. 24800. 63700. 60600.\n",
      " 20400. 26400. 55600. 57000. 45500. 48600. 57600. 52900. 62800. 17000.\n",
      " 56500. 52300. 18400. 63300. 12900. 27000. 55700. 39300. 27800. 18300.\n",
      " 56300. 59800. 24300. 14400. 13400. 17900. 47600. 54500. 54400. 23900.\n",
      " 13000. 19900. 55400. 22800. 61000. 57400. 23000. 20500. 53200. 18100.\n",
      " 25300. 59500. 18200. 50400. 21100. 20900. 27400. 17300. 60700. 70600.\n",
      " 17700. 19700. 49200. 63100. 59200. 14700. 53100. 21800. 68000. 16500.\n",
      " 71400. 10000. 55500. 54100. 56400. 20600. 66300. 18800. 11000. 66100.\n",
      " 27100. 57800. 53500. 19200. 58500. 64000. 63600. 23600. 25200. 19100.\n",
      " 18600. 57700. 62700. 56600. 21400. 58800. 68400. 17100. 13300. 68500.\n",
      " 56900. 64400. 27600. 67200. 16200. 58600. 62200. 16000. 79000. 22300.\n",
      " 11200. 71600. 61300. 70500. 67100. 59000. 13500. 16700. 15700. 60000.\n",
      " 17400. 63400. 61900. 65200. 62600. 14100. 20100. 63800. 15100. 70000.\n",
      " 60200. 20300. 65900. 15200. 63500. 13200. 68900. 12200.  6000. 74800.\n",
      " 59700. 10800. 19000. 10600. 69400. 15000. 75200. 62500. 16300. 20800.\n",
      "  7400. 65300. 61400. 56800.]\n",
      "Уникальные значения столбца Члены семьи\n",
      "[1 0 2 4 3 5 6]\n",
      "Уникальные значения столбца Страховые выплаты\n",
      "[0 1 2 3 5 4]\n",
      "Количество пропусков в каждом столбце\n",
      "Пол                  0.0\n",
      "Возраст              0.0\n",
      "Зарплата             0.0\n",
      "Члены семьи          0.0\n",
      "Страховые выплаты    0.0\n",
      "dtype: float64\n"
     ]
    }
   ],
   "source": [
    "show_rows(insurance_data)"
   ]
  },
  {
   "cell_type": "markdown",
   "metadata": {},
   "source": [
    "Изменим тип данных в столбцах Возраст и Зарплата на целочисленный ввиду отсуствия дробных частей. Так же уменьшим обращение к памяти для остальных столбцов."
   ]
  },
  {
   "cell_type": "code",
   "execution_count": 6,
   "metadata": {
    "scrolled": true
   },
   "outputs": [
    {
     "name": "stdout",
     "output_type": "stream",
     "text": [
      "<class 'pandas.core.frame.DataFrame'>\n",
      "RangeIndex: 5000 entries, 0 to 4999\n",
      "Data columns (total 5 columns):\n",
      " #   Column             Non-Null Count  Dtype  \n",
      "---  ------             --------------  -----  \n",
      " 0   Пол                5000 non-null   int8   \n",
      " 1   Возраст            5000 non-null   int8   \n",
      " 2   Зарплата           5000 non-null   float64\n",
      " 3   Члены семьи        5000 non-null   int8   \n",
      " 4   Страховые выплаты  5000 non-null   int8   \n",
      "dtypes: float64(1), int8(4)\n",
      "memory usage: 58.7 KB\n"
     ]
    }
   ],
   "source": [
    "insurance_data['Пол'] = pd.to_numeric(insurance_data['Пол'], downcast='integer')\n",
    "insurance_data['Возраст'] = pd.to_numeric(insurance_data['Возраст'], downcast='integer')\n",
    "insurance_data['Зарплата'] = pd.to_numeric(insurance_data['Зарплата'], downcast='integer')\n",
    "insurance_data['Члены семьи'] = pd.to_numeric(insurance_data['Члены семьи'], downcast='integer')\n",
    "insurance_data['Страховые выплаты'] = pd.to_numeric(insurance_data['Страховые выплаты'], downcast='integer')\n",
    "insurance_data.info()"
   ]
  },
  {
   "cell_type": "code",
   "execution_count": null,
   "metadata": {},
   "outputs": [],
   "source": []
  },
  {
   "cell_type": "markdown",
   "metadata": {},
   "source": [
    "Мы изменили тип данных и уменьшили вес датасета, в нашем проекте это незначительное улучшение, но в крупных датасетах может существенно улучшиться скорость обработки данных: 195.4 KB - 58.7 KB = 136.7 KB"
   ]
  },
  {
   "cell_type": "markdown",
   "metadata": {},
   "source": [
    "## Умножение матриц"
   ]
  },
  {
   "cell_type": "markdown",
   "metadata": {},
   "source": [
    "В этом задании вы можете записывать формулы в *Jupyter Notebook.*\n",
    "\n",
    "Чтобы записать формулу внутри текста, окружите её символами доллара \\\\$; если снаружи —  двойными символами \\\\$\\\\$. Эти формулы записываются на языке вёрстки *LaTeX.* \n",
    "\n",
    "Для примера мы записали формулы линейной регрессии. Можете их скопировать и отредактировать, чтобы решить задачу.\n",
    "\n",
    "Работать в *LaTeX* необязательно."
   ]
  },
  {
   "cell_type": "markdown",
   "metadata": {},
   "source": [
    "Убедимся в том, что линейня регрессия из scikit-learn вычисляет значения по формуле."
   ]
  },
  {
   "cell_type": "code",
   "execution_count": 7,
   "metadata": {},
   "outputs": [],
   "source": [
    "features = insurance_data.drop('Страховые выплаты',axis=1)\n",
    "target = insurance_data['Страховые выплаты']"
   ]
  },
  {
   "cell_type": "code",
   "execution_count": 8,
   "metadata": {},
   "outputs": [
    {
     "data": {
      "text/plain": [
       "array([ 7.92580543e-03,  3.57083050e-02, -1.70080492e-07, -1.35676623e-02])"
      ]
     },
     "metadata": {},
     "output_type": "display_data"
    },
    {
     "data": {
      "text/plain": [
       "array([ 7.92580543e-03,  3.57083050e-02, -1.70080492e-07, -1.35676623e-02])"
      ]
     },
     "execution_count": 8,
     "metadata": {},
     "output_type": "execute_result"
    }
   ],
   "source": [
    "X = np.concatenate((np.ones((features.shape[0], 1)), features), axis=1)\n",
    "y = target\n",
    "w = np.linalg.inv(X.T @ X) @ X.T @ y\n",
    "display(w[1:])\n",
    "model = LinearRegression()\n",
    "model.fit(features, target)\n",
    "model.coef_"
   ]
  },
  {
   "cell_type": "markdown",
   "metadata": {},
   "source": [
    "Коэфициенты регрессии совпадают на 100%. Теперь перейдем к теоретической части."
   ]
  },
  {
   "cell_type": "markdown",
   "metadata": {},
   "source": [
    "Обозначения:\n",
    "\n",
    "- $X$ — матрица признаков (нулевой столбец состоит из единиц)\n",
    "\n",
    "- $y$ — вектор целевого признака\n",
    "\n",
    "- $P$ — матрица, на которую умножаются признаки\n",
    "\n",
    "- $w$ — вектор весов линейной регрессии (нулевой элемент равен сдвигу)"
   ]
  },
  {
   "cell_type": "markdown",
   "metadata": {},
   "source": [
    "Предсказания:\n",
    "\n",
    "$$\n",
    "a = Xw\n",
    "$$\n",
    "\n",
    "Задача обучения:\n",
    "\n",
    "$$\n",
    "w = \\arg\\min_w MSE(Xw, y)\n",
    "$$\n",
    "\n",
    "Формула обучения:\n",
    "\n",
    "$$\n",
    "w = (X^T X)^{-1} X^T y\n",
    "$$"
   ]
  },
  {
   "cell_type": "markdown",
   "metadata": {},
   "source": [
    "**Вопрос:** Признаки умножают на обратимую матрицу. Изменится ли качество линейной регрессии?\n",
    "\n",
    "**Ответ:** не изменится.<br>\n",
    "\n",
    "Заменим матрицу $X$ на матрицу $Z$:\n",
    "\n",
    "$$\n",
    "Z = XP \\qquad (2.1)\n",
    "$$\n",
    "\n",
    "где $P$ - обратимая матрица с некими значениями, на которую может быть умножена матрица $X$. \n",
    "\n",
    "**Обоснование:** <br>\n",
    "\n",
    "Заменим $X$ на $Z$ и вычислим, чему будет равено предсказание и вектор весов.\n",
    "\n",
    "$$\n",
    "a_1 = Zw_1 \\qquad (2.2)\n",
    "$$\n",
    "$$\n",
    "w_1 = (Z^T Z)^{-1} Z^T y \\qquad (2.3)\n",
    "$$\n",
    "\n",
    "Подставим уравнение 2.2 правую часть уравнения 2.3 и получим следущее:\n",
    "\n",
    "$$\n",
    "a_1 = Z (Z^T Z)^{-1} Z^T y \\qquad (2.4)\n",
    "$$\n",
    "\n",
    "Заменим все $Z$ правой частью уравнения 2.1:\n",
    "\n",
    "$$\n",
    "a_1 = XP ((XP)^T (XP))^{-1} (XP)^T y \\qquad (2.5)\n",
    "$$\n",
    "\n",
    "Для следующего шага понадобится следующее свойсво обратной матрицы:\n",
    "\n",
    "$$\n",
    "(AB)^{-1} = B^{-1} A^{-1}\n",
    "$$\n",
    "\n",
    "Раскроем $((XP)^T (XP))^{-1}$ в два шага:\n",
    "\n",
    "$$\n",
    "a_1 = XP ((XP)^T (XP))^{-1} (XP)^T y = XP(XP)^{-1}((XP)^T)^{-1} (XP)^T y = XPP^{-1}X^{-1}((XP)^T)^{-1} (XP)^T y  \\qquad (2.6)\n",
    "$$\n",
    "\n",
    "Умножение приведет к $PP^{-1} = E$. Для следуюзего этапа воспользуемся свойством транспорнированной матрицы:\n",
    "\n",
    "$$\n",
    "(AB)^T = B^T A^T\n",
    "$$\n",
    "\n",
    "Умножение на единичную матрицу ничего не меняет. Раскроем $((XP)^T)^{-1} (XP)^T$ в три шага:\n",
    "\n",
    "$$\n",
    "a_1 = XEX^{-1}((XP)^T)^{-1} (XP)^T y = XX^{-1}(P^T X^T)^{-1} P^T X^T y = XX^{-1} (X^T)^{-1} (P^T)^{-1}  P^T X^T y   \\qquad (2.7)\n",
    "$$\n",
    "\n",
    "Умножение приведет к $(P^T)^{-1}  P^T = E$. Посмотрим, что осталось от уравнения 2.7:\n",
    "\n",
    "$$\n",
    "a_1 = XX^{-1} (X^T)^{-1} E X^T y = X(X^T X)^{-1} X^T y = Xw = a  \\qquad (2.8)\n",
    "$$\n",
    "\n",
    "Как видно, значение предсказания $a$ не меняется, если умножать матрицу признаков на обратимую матрицу."
   ]
  },
  {
   "cell_type": "markdown",
   "metadata": {},
   "source": [
    "**Обоснование: №2** \n",
    "\n",
    "Для обоснования ответа получим предсказания для домноженных признаков. Пусть наши признаки будут как в исходном датасете размерностью 5000 на 4, а матрица для домножения 4 на 4. Умноженная матрица будет иметь вид X * P. Тогда фомула предсказаний примет следующий вид:\n",
    "\n",
    "$$\n",
    "a' = XP'w\n",
    "$$"
   ]
  },
  {
   "cell_type": "markdown",
   "metadata": {},
   "source": [
    "$$\n",
    "a' = X'w' = XPw'\n",
    "$$"
   ]
  },
  {
   "cell_type": "markdown",
   "metadata": {},
   "source": [
    "$$\n",
    "w' = (X'^T X')^{-1} X'^T y = ((XP)^TXP)^{-1})(XP)^Ty\n",
    "$$"
   ]
  },
  {
   "cell_type": "markdown",
   "metadata": {},
   "source": [
    "Подставим в формулу предсказаний формулу обучения для матрицы X P:\n",
    "\n",
    "$$\n",
    "a' = XP((XP)^TXP)^{-1})(XP)^Ty\n",
    "$$\n",
    "\n",
    "Воспользуемся следующими свойствами матриц:\n",
    "\n",
    "$$\n",
    "(AB)^{-1} = B^{-1}A^{-1}\n",
    "$$\n",
    "$$\n",
    "(AB)^T = B^TA^T\n",
    "$$\n",
    "$$\n",
    "AA^{-1} = E\n",
    "$$\n",
    "$$\n",
    "AE = EA = A\n",
    "$$\n",
    "\n",
    "\n",
    "\n",
    "Раскроем скобки с транспонированием матриц, получится следующее уравнение:\n",
    "\n",
    "$$\n",
    "a' = XP(P^TX^TXP)^{-1})P^TX^Ty\n",
    "$$\n",
    "\n",
    "Внутри скобок, от множителей которых берется обратная матрица остались следующие матрицы:  $P^T$ размером 4х4, $X^T$ размером 4х5000, $X$ размером 5000x4, $P$ размером 4x4. Одно из дополнительных свойств матриц, о котором следует помнить слудующее $A(BC)=(AB)C$ . Оно позволяет группировать матрицы внутри произведения различным образом. Т.к. обратная матрица может браться только от квадратной матрицы, то для раскрытия скобок данного произведения нам надо сгруппировать его множители так, чтобы они были квадратными матрицами."
   ]
  },
  {
   "cell_type": "markdown",
   "metadata": {},
   "source": [
    "Выделим 2 множителя произведения $P^TX^TX$ и P и раскроем скобки:\n",
    "\n",
    "$$\n",
    "a' = XPP^{-1}(P^TX^TX)^{-1}P^TX^Ty\n",
    "$$\n",
    "\n",
    "Выделим внутри оставшихся скобок множители $P^T$ и $X^TX$ и раскроем скобки:\n",
    "\n",
    "$$\n",
    "a' = XPP^{-1}(X^TX)^{-1}(P^T)^{-1}P^TX^Ty\n",
    "$$\n",
    "\n",
    "Произведения $PP^{-1}$ и $(P^T)^{-1}P^T$ дают единичные матрицы, которые можно исключить из уровнения. С учетом этого формула принимает вид:\n",
    "\n",
    "$$\n",
    "a' = X^TX^{-1}X^Ty\n",
    "$$\n",
    "\n",
    "Не сложно заметить, что произведение  равно , тогда:\n",
    "\n",
    "$$\n",
    "a' = Xw\n",
    "$$\n",
    "\n",
    "Таким образом, мы получили аналогичную формулу предсказаний, что и была в начале, значит домножение признаков на обратимую матрицу не влияет на предсказания модели."
   ]
  },
  {
   "cell_type": "markdown",
   "metadata": {},
   "source": [
    "## Алгоритм преобразования"
   ]
  },
  {
   "cell_type": "markdown",
   "metadata": {},
   "source": [
    "**Алгоритм**\n",
    "\n",
    "Для защиты информации на этапе поиска коэффициентов регрессии и предсказаний регрессии будем умножать матрицу признаков на обратимую матрицу $Y$, которая будет генерироваться случайным образом.\n",
    "\n",
    "Этапы алгоритма:\n",
    "1. Составление матрицы $Y$.\n",
    "2. Проверка матрицы на обратимость. Вычисление детерминанта матрицы $Y$.\n",
    "3. Получение матрицы преобразованных признаков $Z = XY$.\n",
    "4. Применение алгоритма на преобразованных признаках $Z$."
   ]
  },
  {
   "cell_type": "markdown",
   "metadata": {},
   "source": [
    "**Обоснование**\n",
    "\n",
    "Матрица $Y$ должна иметь необходимую размерность $(nxn)$, где n - количество признаков для регрессии.\n",
    "Таким образом матрица $Z$ будет иметь туже размерность, что и матрица $X$. Обратная матрица $Y$ существует только для квадратных невырожденных матриц (определитель которых не равен нулю).\n",
    "\n",
    "Пример:\n",
    "\n",
    "$\n",
    "X = \\begin{pmatrix}\n",
    "1 & 2 \\\\\n",
    "2 & 3 \\\\\n",
    "4 & 5  \n",
    "\\end{pmatrix}\n",
    "\\qquad \n",
    "Y = \\begin{pmatrix}\n",
    "1 & 0 \\\\\n",
    "2 & 3 \\\\  \n",
    "\\end{pmatrix}\n",
    "\\qquad det  Y = 3 $\n",
    "\n",
    "Найдем значние Z:\n",
    "\n",
    "$\n",
    "Z = \\begin{pmatrix}\n",
    "1 & 2 \\\\\n",
    "2 & 3 \\\\\n",
    "4 & 5  \n",
    "\\end{pmatrix} \\begin{pmatrix}\n",
    "1 & 0 \\\\\n",
    "2 & 3 \\\\  \n",
    "\\end{pmatrix} = \\begin{pmatrix}\n",
    "1*1+2*2 & 1*0+2*3  \\\\\n",
    "2*1+3*2 & 2*0+3*3  \\\\\n",
    "4*1+5*2 & 4*0+5*3   \n",
    "\\end{pmatrix} = \\begin{pmatrix}\n",
    "5 & 6 \\\\\n",
    "8 & 9 \\\\\n",
    "14 & 15  \n",
    "\\end{pmatrix}$\n",
    "\n",
    "После этого добавляем нулевой столбец и вводим данные в линейную регрессию."
   ]
  },
  {
   "cell_type": "markdown",
   "metadata": {},
   "source": [
    "## Проверка алгоритма"
   ]
  },
  {
   "cell_type": "markdown",
   "metadata": {},
   "source": [
    "Проведем исследование модели по двум направлениям:\n",
    "1. Исследуем качество модели без преобразования.\n",
    "         1.1 С исходными признаками\n",
    "         1.2 С отмасштабированными признаками\n",
    "2. Исследуем качество модели с преобразованием.\n",
    "         2.1 С исходными признаками\n",
    "         2.2 С отмасштабированными признаками\n",
    "\n",
    "Разделим данные на обучающие и тестовые."
   ]
  },
  {
   "cell_type": "code",
   "execution_count": 9,
   "metadata": {},
   "outputs": [],
   "source": [
    "features_train, features_test, target_train, target_test = train_test_split(\n",
    "    features, target, test_size=0.25, random_state=42)"
   ]
  },
  {
   "cell_type": "code",
   "execution_count": 10,
   "metadata": {},
   "outputs": [
    {
     "name": "stdout",
     "output_type": "stream",
     "text": [
      "w-vector coef [ 4.92432086e-03  3.51527196e-02 -2.45796619e-07 -1.49140089e-02]\n",
      "R2 = 0.4254778540696319\n"
     ]
    }
   ],
   "source": [
    "model = LinearRegression()\n",
    "model.fit(features_train, target_train)\n",
    "R2_LR_origin_data = r2_score(target_test, model.predict(features_test))\n",
    "print(\"w-vector coef\",model.coef_)\n",
    "print(\"R2 =\", R2_LR_origin_data)"
   ]
  },
  {
   "cell_type": "code",
   "execution_count": 11,
   "metadata": {},
   "outputs": [
    {
     "name": "stdout",
     "output_type": "stream",
     "text": [
      "R2 = 0.4254778540696321\n"
     ]
    }
   ],
   "source": [
    "regressor = LinearRegression()\n",
    "scaller = StandardScaler()\n",
    "pipeline = Pipeline([(\"standard_scaller\", scaller),(\"linear_regression\", regressor)])\n",
    "pipeline.fit(features_train, target_train)\n",
    "R2_LR_origin_data_scaled = r2_score(target_test, pipeline.predict(features_test))\n",
    "#print(\"w-vector coef\",pipeline.coef_) при использовании pipeline невозможно получить коэффициенты регрессии\n",
    "print(\"R2 =\", R2_LR_origin_data_scaled) "
   ]
  },
  {
   "cell_type": "markdown",
   "metadata": {},
   "source": [
    "Модель ведет себя одинаково как на исходных данных, так и на отмасштабированных. "
   ]
  },
  {
   "cell_type": "markdown",
   "metadata": {},
   "source": [
    "Создадим функцию преобразования матрицы признаков."
   ]
  },
  {
   "cell_type": "code",
   "execution_count": 12,
   "metadata": {},
   "outputs": [],
   "source": [
    "def cipher_features(features):\n",
    "    crypted_features = features\n",
    "    n = features.shape[1]\n",
    "    \n",
    "    cipher_matrix = np.random.randint(1, 10, (n,n))\n",
    "    det = np.linalg.det(cipher_matrix)\n",
    "    while det == 0:\n",
    "        \n",
    "        cipher_matrix = np.random.randint(1, 10, (n,n))\n",
    "        det = np.linalg.det(cipher_matrix)\n",
    "    crypted_features = crypted_features @ cipher_matrix\n",
    "    return crypted_features, cipher_matrix"
   ]
  },
  {
   "cell_type": "markdown",
   "metadata": {},
   "source": [
    "Выведем данные до преобразования и после."
   ]
  },
  {
   "cell_type": "markdown",
   "metadata": {},
   "source": [
    "Модель ведет себя одинаково как на исходных данных, так и на отмасштабированных. "
   ]
  },
  {
   "cell_type": "code",
   "execution_count": 13,
   "metadata": {
    "scrolled": true
   },
   "outputs": [
    {
     "data": {
      "text/html": [
       "<div>\n",
       "<style scoped>\n",
       "    .dataframe tbody tr th:only-of-type {\n",
       "        vertical-align: middle;\n",
       "    }\n",
       "\n",
       "    .dataframe tbody tr th {\n",
       "        vertical-align: top;\n",
       "    }\n",
       "\n",
       "    .dataframe thead th {\n",
       "        text-align: right;\n",
       "    }\n",
       "</style>\n",
       "<table border=\"1\" class=\"dataframe\">\n",
       "  <thead>\n",
       "    <tr style=\"text-align: right;\">\n",
       "      <th></th>\n",
       "      <th>Пол</th>\n",
       "      <th>Возраст</th>\n",
       "      <th>Зарплата</th>\n",
       "      <th>Члены семьи</th>\n",
       "    </tr>\n",
       "  </thead>\n",
       "  <tbody>\n",
       "    <tr>\n",
       "      <th>0</th>\n",
       "      <td>1</td>\n",
       "      <td>41</td>\n",
       "      <td>49600.0</td>\n",
       "      <td>1</td>\n",
       "    </tr>\n",
       "    <tr>\n",
       "      <th>1</th>\n",
       "      <td>0</td>\n",
       "      <td>46</td>\n",
       "      <td>38000.0</td>\n",
       "      <td>1</td>\n",
       "    </tr>\n",
       "    <tr>\n",
       "      <th>2</th>\n",
       "      <td>0</td>\n",
       "      <td>29</td>\n",
       "      <td>21000.0</td>\n",
       "      <td>0</td>\n",
       "    </tr>\n",
       "    <tr>\n",
       "      <th>3</th>\n",
       "      <td>0</td>\n",
       "      <td>21</td>\n",
       "      <td>41700.0</td>\n",
       "      <td>2</td>\n",
       "    </tr>\n",
       "    <tr>\n",
       "      <th>4</th>\n",
       "      <td>1</td>\n",
       "      <td>28</td>\n",
       "      <td>26100.0</td>\n",
       "      <td>0</td>\n",
       "    </tr>\n",
       "  </tbody>\n",
       "</table>\n",
       "</div>"
      ],
      "text/plain": [
       "   Пол  Возраст  Зарплата  Члены семьи\n",
       "0    1       41   49600.0            1\n",
       "1    0       46   38000.0            1\n",
       "2    0       29   21000.0            0\n",
       "3    0       21   41700.0            2\n",
       "4    1       28   26100.0            0"
      ]
     },
     "metadata": {},
     "output_type": "display_data"
    },
    {
     "data": {
      "text/html": [
       "<div>\n",
       "<style scoped>\n",
       "    .dataframe tbody tr th:only-of-type {\n",
       "        vertical-align: middle;\n",
       "    }\n",
       "\n",
       "    .dataframe tbody tr th {\n",
       "        vertical-align: top;\n",
       "    }\n",
       "\n",
       "    .dataframe thead th {\n",
       "        text-align: right;\n",
       "    }\n",
       "</style>\n",
       "<table border=\"1\" class=\"dataframe\">\n",
       "  <thead>\n",
       "    <tr style=\"text-align: right;\">\n",
       "      <th></th>\n",
       "      <th>0</th>\n",
       "      <th>1</th>\n",
       "      <th>2</th>\n",
       "      <th>3</th>\n",
       "    </tr>\n",
       "  </thead>\n",
       "  <tbody>\n",
       "    <tr>\n",
       "      <th>0</th>\n",
       "      <td>148934.0</td>\n",
       "      <td>396850.0</td>\n",
       "      <td>99415.0</td>\n",
       "      <td>397182.0</td>\n",
       "    </tr>\n",
       "    <tr>\n",
       "      <th>1</th>\n",
       "      <td>114144.0</td>\n",
       "      <td>304050.0</td>\n",
       "      <td>76234.0</td>\n",
       "      <td>304418.0</td>\n",
       "    </tr>\n",
       "    <tr>\n",
       "      <th>2</th>\n",
       "      <td>63087.0</td>\n",
       "      <td>168029.0</td>\n",
       "      <td>42145.0</td>\n",
       "      <td>168261.0</td>\n",
       "    </tr>\n",
       "    <tr>\n",
       "      <th>3</th>\n",
       "      <td>125175.0</td>\n",
       "      <td>333629.0</td>\n",
       "      <td>83513.0</td>\n",
       "      <td>333797.0</td>\n",
       "    </tr>\n",
       "    <tr>\n",
       "      <th>4</th>\n",
       "      <td>78389.0</td>\n",
       "      <td>208833.0</td>\n",
       "      <td>52346.0</td>\n",
       "      <td>209061.0</td>\n",
       "    </tr>\n",
       "  </tbody>\n",
       "</table>\n",
       "</div>"
      ],
      "text/plain": [
       "          0         1        2         3\n",
       "0  148934.0  396850.0  99415.0  397182.0\n",
       "1  114144.0  304050.0  76234.0  304418.0\n",
       "2   63087.0  168029.0  42145.0  168261.0\n",
       "3  125175.0  333629.0  83513.0  333797.0\n",
       "4   78389.0  208833.0  52346.0  209061.0"
      ]
     },
     "metadata": {},
     "output_type": "display_data"
    },
    {
     "data": {
      "text/plain": [
       "array([[5, 5, 6, 9],\n",
       "       [3, 1, 5, 9],\n",
       "       [3, 8, 2, 8],\n",
       "       [6, 4, 4, 4]])"
      ]
     },
     "execution_count": 13,
     "metadata": {},
     "output_type": "execute_result"
    }
   ],
   "source": [
    "display(features.head())\n",
    "features, cipher_matrix = cipher_features(features)\n",
    "display(features.head())\n",
    "cipher_matrix"
   ]
  },
  {
   "cell_type": "markdown",
   "metadata": {},
   "source": [
    "Как видно, данные потеряли свои оригинальные значения, теперь в них хранится непонятное число. Разобьем данные на тренировочную и обучающую выборку и проверим R2 значение."
   ]
  },
  {
   "cell_type": "code",
   "execution_count": 14,
   "metadata": {},
   "outputs": [],
   "source": [
    "features_train, features_test, target_train, target_test = train_test_split(\n",
    "    features, target, test_size=0.25, random_state=42)"
   ]
  },
  {
   "cell_type": "code",
   "execution_count": 15,
   "metadata": {},
   "outputs": [
    {
     "name": "stdout",
     "output_type": "stream",
     "text": [
      "w-vector coef [ 0.0004829  -0.00637464 -0.00569564  0.00761743]\n",
      "R2 = 0.4254778540696196\n"
     ]
    }
   ],
   "source": [
    "model = LinearRegression()\n",
    "model.fit(features_train, target_train)\n",
    "R2_LR_cipher_data = r2_score(target_test, model.predict(features_test))\n",
    "print(\"w-vector coef\",model.coef_)\n",
    "print(\"R2 =\", R2_LR_cipher_data)"
   ]
  },
  {
   "cell_type": "code",
   "execution_count": 16,
   "metadata": {},
   "outputs": [
    {
     "name": "stdout",
     "output_type": "stream",
     "text": [
      "R2 = 0.4254778540696301\n"
     ]
    }
   ],
   "source": [
    "regressor = LinearRegression()\n",
    "scaller = StandardScaler()\n",
    "pipeline = Pipeline([(\"standard_scaller\", scaller),(\"linear_regression\", regressor)])\n",
    "pipeline.fit(features_train, target_train)\n",
    "R2_LR_cipher_data_scaled = r2_score(target_test, pipeline.predict(features_test))\n",
    "#print(\"w-vector coef\",pipeline.coef_) при использовании pipeline невозможно получить коэффициенты регрессии\n",
    "print(\"R2 =\", R2_LR_cipher_data_scaled)"
   ]
  },
  {
   "cell_type": "markdown",
   "metadata": {},
   "source": [
    "Сравним показатели качества моделей."
   ]
  },
  {
   "cell_type": "code",
   "execution_count": 18,
   "metadata": {},
   "outputs": [
    {
     "data": {
      "text/html": [
       "<div>\n",
       "<style scoped>\n",
       "    .dataframe tbody tr th:only-of-type {\n",
       "        vertical-align: middle;\n",
       "    }\n",
       "\n",
       "    .dataframe tbody tr th {\n",
       "        vertical-align: top;\n",
       "    }\n",
       "\n",
       "    .dataframe thead th {\n",
       "        text-align: right;\n",
       "    }\n",
       "</style>\n",
       "<table border=\"1\" class=\"dataframe\">\n",
       "  <thead>\n",
       "    <tr style=\"text-align: right;\">\n",
       "      <th></th>\n",
       "      <th>R2</th>\n",
       "    </tr>\n",
       "  </thead>\n",
       "  <tbody>\n",
       "    <tr>\n",
       "      <th>Линейная регрессия</th>\n",
       "      <td>0.425478</td>\n",
       "    </tr>\n",
       "    <tr>\n",
       "      <th>Линейная регрессия c масштабом</th>\n",
       "      <td>0.425478</td>\n",
       "    </tr>\n",
       "    <tr>\n",
       "      <th>Линейная регрессия на преобразованных признаках</th>\n",
       "      <td>0.425478</td>\n",
       "    </tr>\n",
       "    <tr>\n",
       "      <th>Линейная регрессия на преобразованных признаках c масштабом</th>\n",
       "      <td>0.425478</td>\n",
       "    </tr>\n",
       "  </tbody>\n",
       "</table>\n",
       "</div>"
      ],
      "text/plain": [
       "                                                          R2\n",
       "Линейная регрессия                                  0.425478\n",
       "Линейная регрессия c масштабом                      0.425478\n",
       "Линейная регрессия на преобразованных признаках     0.425478\n",
       "Линейная регрессия на преобразованных признаках...  0.425478"
      ]
     },
     "execution_count": 18,
     "metadata": {},
     "output_type": "execute_result"
    }
   ],
   "source": [
    "result = pd.DataFrame(data= [R2_LR_origin_data_scaled,\n",
    "                      R2_LR_origin_data,\n",
    "                      R2_LR_cipher_data,\n",
    "                      R2_LR_cipher_data_scaled], \n",
    "                     columns=['R2'], \n",
    "                     index=['Линейная регрессия',\n",
    "                            'Линейная регрессия c масштабом',\n",
    "                            'Линейная регрессия на преобразованных признаках',\n",
    "                            'Линейная регрессия на преобразованных признаках c масштабом',])\n",
    "result"
   ]
  },
  {
   "cell_type": "markdown",
   "metadata": {},
   "source": [
    "## Итоговый вывод\n",
    "\n",
    "В ходе работы было проделано:\n",
    "\n",
    "1. Загружены и изучены данные.\n",
    "2. Качество линейной регресии не изменилось от использования исодной матрици и исходной матрицы, умноженную на обратимую.\n",
    "3. Создан алгоритм преобразования данных.\n",
    "4. Исследован алгоритм преобразования данных и проверена метрика R2 для данных без преобразования и с ним.\n",
    "\n",
    "По результатам работы использования матричных операций можно увидеть, что данные очень просто зашифровать от распознования, имея правильную матрицу."
   ]
  }
 ],
 "metadata": {
  "ExecuteTimeLog": [
   {
    "duration": 1284,
    "start_time": "2023-07-14T17:34:51.782Z"
   },
   {
    "duration": 106,
    "start_time": "2023-07-14T17:35:04.189Z"
   },
   {
    "duration": 18,
    "start_time": "2023-07-14T17:35:14.183Z"
   },
   {
    "duration": 4,
    "start_time": "2023-07-14T17:35:27.675Z"
   },
   {
    "duration": 21,
    "start_time": "2023-07-14T17:35:35.646Z"
   },
   {
    "duration": 17,
    "start_time": "2023-07-14T17:36:37.874Z"
   },
   {
    "duration": 7,
    "start_time": "2023-07-14T17:39:05.966Z"
   },
   {
    "duration": 18,
    "start_time": "2023-07-14T17:39:14.647Z"
   },
   {
    "duration": 8,
    "start_time": "2023-07-14T17:43:59.474Z"
   },
   {
    "duration": 13,
    "start_time": "2023-07-14T17:44:08.890Z"
   },
   {
    "duration": 16,
    "start_time": "2023-07-14T17:44:20.859Z"
   },
   {
    "duration": 5,
    "start_time": "2023-07-14T17:45:18.779Z"
   },
   {
    "duration": 18,
    "start_time": "2023-07-14T17:46:56.651Z"
   },
   {
    "duration": 32,
    "start_time": "2023-07-14T17:47:11.983Z"
   },
   {
    "duration": 9,
    "start_time": "2023-07-14T17:47:33.744Z"
   },
   {
    "duration": 27,
    "start_time": "2023-07-14T17:47:42.034Z"
   },
   {
    "duration": 29,
    "start_time": "2023-07-14T17:47:53.324Z"
   },
   {
    "duration": 18,
    "start_time": "2023-07-14T17:48:07.538Z"
   },
   {
    "duration": 1468,
    "start_time": "2023-07-14T17:50:15.703Z"
   },
   {
    "duration": 41,
    "start_time": "2023-07-14T17:50:17.174Z"
   },
   {
    "duration": 27,
    "start_time": "2023-07-14T17:50:17.217Z"
   },
   {
    "duration": 36,
    "start_time": "2023-07-14T17:50:17.250Z"
   },
   {
    "duration": 81,
    "start_time": "2023-07-14T17:50:17.288Z"
   },
   {
    "duration": 21,
    "start_time": "2023-07-14T17:50:17.371Z"
   },
   {
    "duration": 5,
    "start_time": "2023-07-14T17:50:17.394Z"
   },
   {
    "duration": 78,
    "start_time": "2023-07-14T17:50:17.400Z"
   },
   {
    "duration": 35,
    "start_time": "2023-07-14T17:50:17.482Z"
   },
   {
    "duration": 157,
    "start_time": "2023-07-14T17:50:17.521Z"
   },
   {
    "duration": 209,
    "start_time": "2023-07-14T17:50:17.680Z"
   },
   {
    "duration": 0,
    "start_time": "2023-07-14T17:50:17.891Z"
   },
   {
    "duration": 0,
    "start_time": "2023-07-14T17:50:17.893Z"
   },
   {
    "duration": 0,
    "start_time": "2023-07-14T17:50:17.894Z"
   },
   {
    "duration": 0,
    "start_time": "2023-07-14T17:50:17.896Z"
   },
   {
    "duration": 0,
    "start_time": "2023-07-14T17:50:17.897Z"
   },
   {
    "duration": 0,
    "start_time": "2023-07-14T17:50:17.898Z"
   },
   {
    "duration": 94,
    "start_time": "2023-07-14T17:50:47.193Z"
   },
   {
    "duration": 19,
    "start_time": "2023-07-14T17:51:07.981Z"
   },
   {
    "duration": 19,
    "start_time": "2023-07-14T17:51:33.629Z"
   },
   {
    "duration": 15,
    "start_time": "2023-07-14T17:51:36.120Z"
   },
   {
    "duration": 34,
    "start_time": "2023-07-14T17:51:38.338Z"
   },
   {
    "duration": 127,
    "start_time": "2023-07-14T17:51:41.438Z"
   },
   {
    "duration": 6,
    "start_time": "2023-07-14T17:51:46.476Z"
   },
   {
    "duration": 18,
    "start_time": "2023-07-14T17:51:47.035Z"
   },
   {
    "duration": 15,
    "start_time": "2023-07-14T17:51:47.962Z"
   },
   {
    "duration": 20,
    "start_time": "2023-07-14T17:51:49.903Z"
   },
   {
    "duration": 3172,
    "start_time": "2023-07-14T18:49:55.407Z"
   },
   {
    "duration": 134,
    "start_time": "2023-07-14T18:49:58.586Z"
   },
   {
    "duration": 24,
    "start_time": "2023-07-14T18:49:58.722Z"
   },
   {
    "duration": 14,
    "start_time": "2023-07-14T18:49:58.755Z"
   },
   {
    "duration": 35,
    "start_time": "2023-07-14T18:49:58.771Z"
   },
   {
    "duration": 36,
    "start_time": "2023-07-14T18:49:58.808Z"
   },
   {
    "duration": 4,
    "start_time": "2023-07-14T18:49:58.846Z"
   },
   {
    "duration": 106,
    "start_time": "2023-07-14T18:49:58.852Z"
   },
   {
    "duration": 14,
    "start_time": "2023-07-14T18:49:58.962Z"
   },
   {
    "duration": 15,
    "start_time": "2023-07-14T18:49:58.987Z"
   },
   {
    "duration": 65,
    "start_time": "2023-07-14T18:49:59.006Z"
   },
   {
    "duration": 6,
    "start_time": "2023-07-14T18:49:59.076Z"
   },
   {
    "duration": 33,
    "start_time": "2023-07-14T18:49:59.087Z"
   },
   {
    "duration": 9,
    "start_time": "2023-07-14T18:49:59.122Z"
   },
   {
    "duration": 31,
    "start_time": "2023-07-14T18:49:59.134Z"
   },
   {
    "duration": 46,
    "start_time": "2023-07-14T18:49:59.167Z"
   },
   {
    "duration": 38,
    "start_time": "2023-07-14T18:49:59.215Z"
   },
   {
    "duration": 1296,
    "start_time": "2023-07-17T18:34:06.327Z"
   },
   {
    "duration": 113,
    "start_time": "2023-07-17T18:34:10.579Z"
   },
   {
    "duration": 16,
    "start_time": "2023-07-17T18:34:12.164Z"
   },
   {
    "duration": 4,
    "start_time": "2023-07-17T18:34:13.231Z"
   },
   {
    "duration": 13,
    "start_time": "2023-07-17T18:34:15.176Z"
   },
   {
    "duration": 17,
    "start_time": "2023-07-17T18:34:21.084Z"
   },
   {
    "duration": 5,
    "start_time": "2023-07-17T18:34:28.885Z"
   },
   {
    "duration": 20,
    "start_time": "2023-07-17T18:34:29.187Z"
   },
   {
    "duration": 6,
    "start_time": "2023-07-17T18:34:39.631Z"
   },
   {
    "duration": 9,
    "start_time": "2023-07-17T18:34:41.444Z"
   },
   {
    "duration": 15,
    "start_time": "2023-07-17T18:34:51.618Z"
   },
   {
    "duration": 4,
    "start_time": "2023-07-17T18:34:57.400Z"
   },
   {
    "duration": 18,
    "start_time": "2023-07-17T18:35:01.879Z"
   },
   {
    "duration": 5,
    "start_time": "2023-07-17T18:35:05.623Z"
   },
   {
    "duration": 10,
    "start_time": "2023-07-17T18:35:06.459Z"
   },
   {
    "duration": 12,
    "start_time": "2023-07-17T18:35:07.632Z"
   },
   {
    "duration": 9,
    "start_time": "2023-07-17T18:35:17.084Z"
   },
   {
    "duration": 8,
    "start_time": "2023-07-17T18:36:38.480Z"
   }
  ],
  "kernelspec": {
   "display_name": "Python 3 (ipykernel)",
   "language": "python",
   "name": "python3"
  },
  "language_info": {
   "codemirror_mode": {
    "name": "ipython",
    "version": 3
   },
   "file_extension": ".py",
   "mimetype": "text/x-python",
   "name": "python",
   "nbconvert_exporter": "python",
   "pygments_lexer": "ipython3",
   "version": "3.11.7"
  },
  "toc": {
   "base_numbering": 1,
   "nav_menu": {},
   "number_sections": true,
   "sideBar": true,
   "skip_h1_title": true,
   "title_cell": "Содержание",
   "title_sidebar": "Contents",
   "toc_cell": true,
   "toc_position": {},
   "toc_section_display": true,
   "toc_window_display": true
  }
 },
 "nbformat": 4,
 "nbformat_minor": 4
}
