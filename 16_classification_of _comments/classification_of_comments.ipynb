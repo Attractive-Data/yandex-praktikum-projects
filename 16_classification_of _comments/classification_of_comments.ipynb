{
 "cells": [
  {
   "cell_type": "markdown",
   "metadata": {
    "toc": true
   },
   "source": [
    "<h1>Содержание<span class=\"tocSkip\"></span></h1>\n",
    "<div class=\"toc\"><ul class=\"toc-item\"><li><span><a href=\"#Подготовка\" data-toc-modified-id=\"Подготовка-1\"><span class=\"toc-item-num\">1&nbsp;&nbsp;</span>Подготовка</a></span><ul class=\"toc-item\"><li><span><a href=\"#Балансировка-данных\" data-toc-modified-id=\"Балансировка-данных-1.1\"><span class=\"toc-item-num\">1.1&nbsp;&nbsp;</span>Балансировка данных</a></span><ul class=\"toc-item\"><li><span><a href=\"#Уменьшение-размера-весов-классов\" data-toc-modified-id=\"Уменьшение-размера-весов-классов-1.1.1\"><span class=\"toc-item-num\">1.1.1&nbsp;&nbsp;</span>Уменьшение размера весов классов</a></span></li><li><span><a href=\"#Ресемплинг-с-уменшением-класса-0\" data-toc-modified-id=\"Ресемплинг-с-уменшением-класса-0-1.1.2\"><span class=\"toc-item-num\">1.1.2&nbsp;&nbsp;</span>Ресемплинг с уменшением класса 0</a></span></li></ul></li></ul></li><li><span><a href=\"#Обучение\" data-toc-modified-id=\"Обучение-2\"><span class=\"toc-item-num\">2&nbsp;&nbsp;</span>Обучение</a></span><ul class=\"toc-item\"><li><span><a href=\"#Классификатор-LogisticRegression\" data-toc-modified-id=\"Классификатор-LogisticRegression-2.1\"><span class=\"toc-item-num\">2.1&nbsp;&nbsp;</span>Классификатор LogisticRegression</a></span></li><li><span><a href=\"#Классификатор-DecisionTreeClassifier\" data-toc-modified-id=\"Классификатор-DecisionTreeClassifier-2.2\"><span class=\"toc-item-num\">2.2&nbsp;&nbsp;</span>Классификатор DecisionTreeClassifier</a></span></li><li><span><a href=\"#Классификатор-CatBoostClassifier\" data-toc-modified-id=\"Классификатор-CatBoostClassifier-2.3\"><span class=\"toc-item-num\">2.3&nbsp;&nbsp;</span>Классификатор CatBoostClassifier</a></span></li><li><span><a href=\"#Вывод-по-классификаторам\" data-toc-modified-id=\"Вывод-по-классификаторам-2.4\"><span class=\"toc-item-num\">2.4&nbsp;&nbsp;</span>Вывод по классификаторам</a></span></li></ul></li><li><span><a href=\"#Выводы\" data-toc-modified-id=\"Выводы-3\"><span class=\"toc-item-num\">3&nbsp;&nbsp;</span>Выводы</a></span></li><li><span><a href=\"#Чек-лист-проверки\" data-toc-modified-id=\"Чек-лист-проверки-4\"><span class=\"toc-item-num\">4&nbsp;&nbsp;</span>Чек-лист проверки</a></span></li></ul></div>"
   ]
  },
  {
   "cell_type": "markdown",
   "metadata": {},
   "source": [
    "# Проект для «Викишоп»"
   ]
  },
  {
   "cell_type": "markdown",
   "metadata": {},
   "source": [
    "## Подготовка"
   ]
  },
  {
   "cell_type": "code",
   "execution_count": 1,
   "metadata": {
    "ExecuteTime": {
     "end_time": "2023-10-09T11:25:51.422303Z",
     "start_time": "2023-10-09T11:25:49.709764Z"
    }
   },
   "outputs": [
    {
     "name": "stderr",
     "output_type": "stream",
     "text": [
      "[nltk_data] Downloading package averaged_perceptron_tagger to\n",
      "[nltk_data]     /home/jovyan/nltk_data...\n",
      "[nltk_data]   Package averaged_perceptron_tagger is already up-to-\n",
      "[nltk_data]       date!\n"
     ]
    }
   ],
   "source": [
    "import numpy as np\n",
    "import pandas as pd\n",
    "import re\n",
    "\n",
    "\n",
    "import nltk\n",
    "from nltk.stem import WordNetLemmatizer\n",
    "from nltk.corpus import stopwords as nltk_stopwords\n",
    "from nltk.corpus import wordnet\n",
    "nltk.download('averaged_perceptron_tagger')\n",
    "\n",
    "from sklearn.feature_extraction.text import TfidfVectorizer\n",
    "from sklearn.model_selection import train_test_split, cross_val_score, GridSearchCV\n",
    "from sklearn.linear_model import LogisticRegression, SGDClassifier\n",
    "from sklearn.tree import DecisionTreeClassifier\n",
    "\n",
    "from catboost import CatBoostClassifier\n",
    "\n",
    "from sklearn.metrics import f1_score, precision_score, recall_score, accuracy_score, roc_auc_score, roc_curve\n",
    "from sklearn.utils import shuffle\n",
    "\n",
    "import matplotlib.pyplot as plt\n",
    "import warnings\n",
    "warnings.filterwarnings('ignore')"
   ]
  },
  {
   "cell_type": "code",
   "execution_count": 2,
   "metadata": {
    "ExecuteTime": {
     "end_time": "2023-10-09T11:32:19.460976Z",
     "start_time": "2023-10-09T11:32:18.757148Z"
    }
   },
   "outputs": [
    {
     "name": "stdout",
     "output_type": "stream",
     "text": [
      "<class 'pandas.core.frame.DataFrame'>\n",
      "RangeIndex: 159292 entries, 0 to 159291\n",
      "Data columns (total 3 columns):\n",
      " #   Column      Non-Null Count   Dtype \n",
      "---  ------      --------------   ----- \n",
      " 0   Unnamed: 0  159292 non-null  int64 \n",
      " 1   text        159292 non-null  object\n",
      " 2   toxic       159292 non-null  int64 \n",
      "dtypes: int64(2), object(1)\n",
      "memory usage: 3.6+ MB\n"
     ]
    }
   ],
   "source": [
    "try:\n",
    "    toxic_comments = pd.read_csv('/datasets/toxic_comments.csv')\n",
    "except:\n",
    "    toxic_comments = pd.read_csv('./toxic_comments.csv')\n",
    "toxic_comments.info()"
   ]
  },
  {
   "cell_type": "code",
   "execution_count": 3,
   "metadata": {
    "ExecuteTime": {
     "end_time": "2023-10-09T11:32:21.412793Z",
     "start_time": "2023-10-09T11:32:21.405754Z"
    }
   },
   "outputs": [
    {
     "data": {
      "text/html": [
       "<div>\n",
       "<style scoped>\n",
       "    .dataframe tbody tr th:only-of-type {\n",
       "        vertical-align: middle;\n",
       "    }\n",
       "\n",
       "    .dataframe tbody tr th {\n",
       "        vertical-align: top;\n",
       "    }\n",
       "\n",
       "    .dataframe thead th {\n",
       "        text-align: right;\n",
       "    }\n",
       "</style>\n",
       "<table border=\"1\" class=\"dataframe\">\n",
       "  <thead>\n",
       "    <tr style=\"text-align: right;\">\n",
       "      <th></th>\n",
       "      <th>Unnamed: 0</th>\n",
       "      <th>text</th>\n",
       "      <th>toxic</th>\n",
       "    </tr>\n",
       "  </thead>\n",
       "  <tbody>\n",
       "    <tr>\n",
       "      <th>0</th>\n",
       "      <td>0</td>\n",
       "      <td>Explanation\\nWhy the edits made under my usern...</td>\n",
       "      <td>0</td>\n",
       "    </tr>\n",
       "    <tr>\n",
       "      <th>1</th>\n",
       "      <td>1</td>\n",
       "      <td>D'aww! He matches this background colour I'm s...</td>\n",
       "      <td>0</td>\n",
       "    </tr>\n",
       "    <tr>\n",
       "      <th>2</th>\n",
       "      <td>2</td>\n",
       "      <td>Hey man, I'm really not trying to edit war. It...</td>\n",
       "      <td>0</td>\n",
       "    </tr>\n",
       "    <tr>\n",
       "      <th>3</th>\n",
       "      <td>3</td>\n",
       "      <td>\"\\nMore\\nI can't make any real suggestions on ...</td>\n",
       "      <td>0</td>\n",
       "    </tr>\n",
       "    <tr>\n",
       "      <th>4</th>\n",
       "      <td>4</td>\n",
       "      <td>You, sir, are my hero. Any chance you remember...</td>\n",
       "      <td>0</td>\n",
       "    </tr>\n",
       "  </tbody>\n",
       "</table>\n",
       "</div>"
      ],
      "text/plain": [
       "   Unnamed: 0                                               text  toxic\n",
       "0           0  Explanation\\nWhy the edits made under my usern...      0\n",
       "1           1  D'aww! He matches this background colour I'm s...      0\n",
       "2           2  Hey man, I'm really not trying to edit war. It...      0\n",
       "3           3  \"\\nMore\\nI can't make any real suggestions on ...      0\n",
       "4           4  You, sir, are my hero. Any chance you remember...      0"
      ]
     },
     "execution_count": 3,
     "metadata": {},
     "output_type": "execute_result"
    }
   ],
   "source": [
    "toxic_comments.head()"
   ]
  },
  {
   "cell_type": "code",
   "execution_count": 4,
   "metadata": {
    "ExecuteTime": {
     "end_time": "2023-10-09T11:32:22.706055Z",
     "start_time": "2023-10-09T11:32:22.694163Z"
    },
    "scrolled": true
   },
   "outputs": [
    {
     "data": {
      "text/plain": [
       "0    143106\n",
       "1     16186\n",
       "Name: toxic, dtype: int64"
      ]
     },
     "metadata": {},
     "output_type": "display_data"
    },
    {
     "data": {
      "text/plain": [
       "8.841344371679229"
      ]
     },
     "execution_count": 4,
     "metadata": {},
     "output_type": "execute_result"
    }
   ],
   "source": [
    "#Посмотрим сколько у нас токсичных/нектоксичных текстов\n",
    "display(toxic_comments['toxic'].value_counts())\n",
    "#Выведем соотношение\n",
    "class_ratio = toxic_comments['toxic'].value_counts()[0] / toxic_comments['toxic'].value_counts()[1]\n",
    "class_ratio"
   ]
  },
  {
   "cell_type": "markdown",
   "metadata": {},
   "source": [
    "**Вывод**\n",
    "\n",
    "Видим что классы несбалансированы, применем несколько спомобов балансировки и сравним их"
   ]
  },
  {
   "cell_type": "code",
   "execution_count": 6,
   "metadata": {},
   "outputs": [],
   "source": [
    "def get_wordnet_pos(word):\n",
    "    \"\"\"Map POS tag to first character lemmatize() accepts\"\"\"\n",
    "    tag = nltk.pos_tag([word])[0][1][0].upper()\n",
    "    tag_dict = {\"J\": wordnet.ADJ,\n",
    "                \"N\": wordnet.NOUN,\n",
    "                \"V\": wordnet.VERB,\n",
    "                \"R\": wordnet.ADV}\n",
    "    return tag_dict.get(tag, wordnet.NOUN)\n",
    "\n",
    "\n",
    "def clear_text(text):\n",
    "    re_list = re.sub(r\"[^a-zA-Z']\", ' ', text)\n",
    "    re_list = re_list.split()\n",
    "    re_list = \" \".join(re_list)\n",
    "    return re_list\n",
    "\n",
    "m = WordNetLemmatizer()\n",
    "\n",
    "def lemmatize_text(text):\n",
    "    word_list = nltk.word_tokenize(text)\n",
    "\n",
    "    return ' '.join([m.lemmatize(w, get_wordnet_pos(w)) for w in word_list]).lower()\n",
    "\n",
    "\n",
    "toxic_comments['text'] = toxic_comments['text'].apply(clear_text)\n",
    "toxic_comments['lemm_text'] = toxic_comments['text'].apply(lemmatize_text)\n",
    "\n",
    "toxic_comments = toxic_comments.drop(['text'], axis=1)"
   ]
  },
  {
   "cell_type": "code",
   "execution_count": 8,
   "metadata": {},
   "outputs": [
    {
     "data": {
      "text/html": [
       "<div>\n",
       "<style scoped>\n",
       "    .dataframe tbody tr th:only-of-type {\n",
       "        vertical-align: middle;\n",
       "    }\n",
       "\n",
       "    .dataframe tbody tr th {\n",
       "        vertical-align: top;\n",
       "    }\n",
       "\n",
       "    .dataframe thead th {\n",
       "        text-align: right;\n",
       "    }\n",
       "</style>\n",
       "<table border=\"1\" class=\"dataframe\">\n",
       "  <thead>\n",
       "    <tr style=\"text-align: right;\">\n",
       "      <th></th>\n",
       "      <th>Unnamed: 0</th>\n",
       "      <th>toxic</th>\n",
       "      <th>lemm_text</th>\n",
       "    </tr>\n",
       "  </thead>\n",
       "  <tbody>\n",
       "    <tr>\n",
       "      <th>0</th>\n",
       "      <td>0</td>\n",
       "      <td>0</td>\n",
       "      <td>explanation why the edits make under my userna...</td>\n",
       "    </tr>\n",
       "    <tr>\n",
       "      <th>1</th>\n",
       "      <td>1</td>\n",
       "      <td>0</td>\n",
       "      <td>d'aww he match this background colour i 'm see...</td>\n",
       "    </tr>\n",
       "    <tr>\n",
       "      <th>2</th>\n",
       "      <td>2</td>\n",
       "      <td>0</td>\n",
       "      <td>hey man i 'm really not try to edit war it 's ...</td>\n",
       "    </tr>\n",
       "    <tr>\n",
       "      <th>3</th>\n",
       "      <td>3</td>\n",
       "      <td>0</td>\n",
       "      <td>more i ca n't make any real suggestion on impr...</td>\n",
       "    </tr>\n",
       "    <tr>\n",
       "      <th>4</th>\n",
       "      <td>4</td>\n",
       "      <td>0</td>\n",
       "      <td>you sir be my hero any chance you remember wha...</td>\n",
       "    </tr>\n",
       "  </tbody>\n",
       "</table>\n",
       "</div>"
      ],
      "text/plain": [
       "   Unnamed: 0  toxic                                          lemm_text\n",
       "0           0      0  explanation why the edits make under my userna...\n",
       "1           1      0  d'aww he match this background colour i 'm see...\n",
       "2           2      0  hey man i 'm really not try to edit war it 's ...\n",
       "3           3      0  more i ca n't make any real suggestion on impr...\n",
       "4           4      0  you sir be my hero any chance you remember wha..."
      ]
     },
     "execution_count": 8,
     "metadata": {},
     "output_type": "execute_result"
    }
   ],
   "source": [
    "toxic_comments.head()"
   ]
  },
  {
   "cell_type": "raw",
   "metadata": {},
   "source": [
    "text = toxic_comments['text'][0]\n",
    "for word in list(text)[:10]:\n",
    "    print(word)"
   ]
  },
  {
   "cell_type": "code",
   "execution_count": null,
   "metadata": {
    "ExecuteTime": {
     "end_time": "2023-10-09T11:32:51.765345Z",
     "start_time": "2023-10-09T11:32:43.818426Z"
    }
   },
   "outputs": [],
   "source": [
    "# Разобьем выборку по отношению 50/20/20. Уменьшим количество кроссвалидаций до 3 из-за размера выборки.\n",
    "target = toxic_comments['toxic']\n",
    "features = toxic_comments.drop(['toxic'], axis=1)\n",
    "\n",
    "features_train, features_valid, target_train, target_valid = train_test_split(features, \n",
    "                                                                              target, \n",
    "                                                                              test_size=0.5, \n",
    "                                                                              random_state=1515)\n",
    "features_valid, features_test, target_valid, target_test = train_test_split(features_valid, \n",
    "                                                                            target_valid, \n",
    "                                                                            test_size=0.5,\n",
    "                                                                            random_state=1515)\n",
    "\n",
    "nltk.download('stopwords')\n",
    "stopwords = set(nltk_stopwords.words('english'))\n",
    "\n",
    "count_tf_idf = TfidfVectorizer(stop_words=list(stopwords))\n",
    "\n",
    "features_train = count_tf_idf.fit_transform(features_train['lemm_text'].values)\n",
    "features_valid = count_tf_idf.transform(features_valid['lemm_text'].values)\n",
    "features_test = count_tf_idf.transform(features_test['lemm_text'].values)\n",
    "print(features_train.shape)\n",
    "print(features_valid.shape)\n",
    "print(features_test.shape)\n",
    "cv_counts = 2"
   ]
  },
  {
   "cell_type": "code",
   "execution_count": null,
   "metadata": {
    "ExecuteTime": {
     "end_time": "2023-10-09T11:32:55.934663Z",
     "start_time": "2023-10-09T11:32:53.766223Z"
    }
   },
   "outputs": [],
   "source": [
    "classificator = LogisticRegression()\n",
    "train_f1 = cross_val_score(classificator, \n",
    "                      features_train, \n",
    "                      target_train, \n",
    "                      cv=cv_counts, \n",
    "                      scoring='f1').mean()\n",
    "print('F1 на CV', train_f1)"
   ]
  },
  {
   "cell_type": "markdown",
   "metadata": {},
   "source": [
    "### Балансировка данных"
   ]
  },
  {
   "cell_type": "markdown",
   "metadata": {},
   "source": [
    "#### Уменьшение размера весов классов"
   ]
  },
  {
   "cell_type": "code",
   "execution_count": null,
   "metadata": {
    "ExecuteTime": {
     "end_time": "2023-10-09T11:33:00.774981Z",
     "start_time": "2023-10-09T11:32:59.031583Z"
    }
   },
   "outputs": [],
   "source": [
    "dict_classes={0:1, 1:class_ratio}\n",
    "classificator = LogisticRegression(class_weight=dict_classes)\n",
    "train_f1_ballanced = cross_val_score(classificator, \n",
    "                                    features_train, \n",
    "                                    target_train, \n",
    "                                    cv=cv_counts, \n",
    "                                    scoring='f1').mean()\n",
    "print('F1 на CV с балансированными классами', train_f1_ballanced)"
   ]
  },
  {
   "cell_type": "code",
   "execution_count": null,
   "metadata": {
    "ExecuteTime": {
     "end_time": "2023-10-09T11:33:04.018293Z",
     "start_time": "2023-10-09T11:33:02.620446Z"
    }
   },
   "outputs": [],
   "source": [
    "classificator = LogisticRegression(class_weight='balanced')\n",
    "train_f1_balanced = cross_val_score(classificator, \n",
    "                                    features_train, \n",
    "                                    target_train, \n",
    "                                    cv=cv_counts, \n",
    "                                    scoring='f1').mean()\n",
    "print('F1 на CV с балансированными классами', train_f1_ballanced)"
   ]
  },
  {
   "cell_type": "markdown",
   "metadata": {},
   "source": [
    "#### Ресемплинг с уменшением класса 0"
   ]
  },
  {
   "cell_type": "code",
   "execution_count": null,
   "metadata": {
    "ExecuteTime": {
     "end_time": "2023-10-09T11:33:06.411484Z",
     "start_time": "2023-10-09T11:33:06.400213Z"
    }
   },
   "outputs": [],
   "source": [
    "toxic_comments_train = toxic_comments.iloc[target_train.index]\n",
    "\n",
    "target_train_class_zero = toxic_comments_train[toxic_comments_train['toxic'] == 0]['toxic']\n",
    "target_train_class_one = toxic_comments_train[toxic_comments_train['toxic'] == 1]['toxic']"
   ]
  },
  {
   "cell_type": "code",
   "execution_count": null,
   "metadata": {
    "ExecuteTime": {
     "end_time": "2023-10-09T11:33:10.656939Z",
     "start_time": "2023-10-09T11:33:09.987286Z"
    }
   },
   "outputs": [],
   "source": [
    "target_train_class_zero_downsample = target_train_class_zero.sample(target_train_class_one.shape[0],\n",
    "                                                                    random_state=12082020)\n",
    "target_train_downsample = pd.concat([target_train_class_zero_downsample, target_train_class_one])\n",
    "\n",
    "features_train_downsample = toxic_comments.iloc[target_train_downsample.index]\n",
    "features_train_downsample, target_train_downsample = shuffle(features_train_downsample,\n",
    "                                                             target_train_downsample,\n",
    "                                                             random_state=12082020)\n",
    "features_train_downsample = count_tf_idf.transform(features_train_downsample['lemm_text']\n",
    "                                                   .values.astype('U'))"
   ]
  },
  {
   "cell_type": "code",
   "execution_count": null,
   "metadata": {
    "ExecuteTime": {
     "end_time": "2023-10-09T11:33:14.069429Z",
     "start_time": "2023-10-09T11:33:13.150522Z"
    }
   },
   "outputs": [],
   "source": [
    "classificator = LogisticRegression()\n",
    "train_f1_downsampled = cross_val_score(classificator,\n",
    "                      features_train_downsample, \n",
    "                      target_train_downsample, \n",
    "                      cv=cv_counts, \n",
    "                      scoring='f1').mean()\n",
    "print('F1 на CV с уменьшением классов', train_f1_downsampled)"
   ]
  },
  {
   "cell_type": "markdown",
   "metadata": {},
   "source": [
    "Видим значительный прирост f1 меры"
   ]
  },
  {
   "cell_type": "code",
   "execution_count": null,
   "metadata": {
    "ExecuteTime": {
     "end_time": "2023-10-09T11:33:19.728428Z",
     "start_time": "2023-10-09T11:33:15.843526Z"
    }
   },
   "outputs": [],
   "source": [
    "# Построим ROC-AUC графики балансировки\n",
    "plt.figure(figsize=[12,9])\n",
    "\n",
    "plt.plot([0, 1], [0, 1], linestyle='--', label='RandomModel')\n",
    "\n",
    "\n",
    "classificator = LogisticRegression()\n",
    "classificator.fit(features_train, target_train)\n",
    "probabilities_valid = classificator.predict_proba(features_valid)\n",
    "probabilities_one_valid = probabilities_valid[:, 1]\n",
    "fpr, tpr, thresholds = roc_curve(target_valid, probabilities_one_valid)\n",
    "auc_roc = roc_auc_score(target_valid, probabilities_one_valid)\n",
    "valid_f1 = f1_score(target_valid, classificator.predict(features_valid))\n",
    "plt.plot(fpr, tpr, label='LR')\n",
    "\n",
    "classificator = LogisticRegression(class_weight=dict_classes)\n",
    "classificator.fit(features_train, target_train)\n",
    "probabilities_valid = classificator.predict_proba(features_valid)\n",
    "probabilities_one_valid = probabilities_valid[:, 1]\n",
    "fpr, tpr, thresholds = roc_curve(target_valid, probabilities_one_valid)\n",
    "auc_roc_balanced = roc_auc_score(target_valid, probabilities_one_valid)\n",
    "valid_f1_balanced = f1_score(target_valid, classificator.predict(features_valid))\n",
    "plt.plot(fpr, tpr, label='LR по весу')\n",
    "\n",
    "classificator = LogisticRegression()\n",
    "classificator.fit(features_train_downsample,target_train_downsample)\n",
    "probabilities_valid = classificator.predict_proba(features_valid)\n",
    "probabilities_one_valid = probabilities_valid[:, 1]\n",
    "fpr, tpr, thresholds = roc_curve(target_valid, probabilities_one_valid)\n",
    "auc_roc_downsampled = roc_auc_score(target_valid, probabilities_one_valid)\n",
    "valid_f1_downsampled = f1_score(target_valid, classificator.predict(features_valid))\n",
    "plt.plot(fpr, tpr, label='LR downsampled classes')\n",
    "\n",
    "plt.xlim([0,1])\n",
    "plt.ylim([0,1])\n",
    "\n",
    "plt.xlabel(\"False Positive Rate\")\n",
    "plt.ylabel(\"True Positive Rate\")\n",
    "\n",
    "plt.legend(loc='lower right', fontsize='x-large')\n",
    "\n",
    "plt.title(\"ROC-кривая\")\n",
    "plt.show()"
   ]
  },
  {
   "cell_type": "code",
   "execution_count": null,
   "metadata": {
    "ExecuteTime": {
     "end_time": "2023-10-09T11:33:22.598951Z",
     "start_time": "2023-10-09T11:33:22.568849Z"
    }
   },
   "outputs": [],
   "source": [
    "# Построим таблицу результатов баллансировки\n",
    "index = ['LogisticRegression',\n",
    "         'LR по весу',\n",
    "         'LR downsampled classes']\n",
    "data = {'F1 на CV':[train_f1,\n",
    "                    train_f1_balanced,\n",
    "                    train_f1_downsampled],\n",
    "        'F1 на валидации':[valid_f1,\n",
    "                           valid_f1_balanced,\n",
    "                           valid_f1_downsampled],\n",
    "        'AUC-ROC':[auc_roc,\n",
    "                   auc_roc_balanced,\n",
    "                   auc_roc_downsampled]}\n",
    "\n",
    "scores_data = pd.DataFrame(data=data, index=index)\n",
    "scores_data"
   ]
  },
  {
   "cell_type": "markdown",
   "metadata": {},
   "source": [
    "**Вывод**\n",
    "\n",
    "1) В ходе подготовки данных мы получили признаки для обучения, получили обучающую, валидационную и тестовую выборку.\n",
    "\n",
    "2) По итогу балансировки даееых мо поняли что баланс по весам самый оптимальный, с ним и работаем дальше"
   ]
  },
  {
   "cell_type": "markdown",
   "metadata": {},
   "source": [
    "## Обучение"
   ]
  },
  {
   "cell_type": "markdown",
   "metadata": {},
   "source": [
    "### Классификатор LogisticRegression"
   ]
  },
  {
   "cell_type": "markdown",
   "metadata": {},
   "source": [
    "https://scikit-learn.org/stable/modules/generated/sklearn.linear_model.LogisticRegression.html"
   ]
  },
  {
   "cell_type": "code",
   "execution_count": null,
   "metadata": {
    "ExecuteTime": {
     "end_time": "2023-10-09T11:34:02.412578Z",
     "start_time": "2023-10-09T11:33:39.140507Z"
    }
   },
   "outputs": [],
   "source": [
    "classificator = LogisticRegression()\n",
    "hyperparams = [{'solver':['newton-cg', 'lbfgs', 'liblinear'],\n",
    "                'C':[0.1, 1, 10],\n",
    "                'class_weight':[dict_classes]}]\n",
    "\n",
    "\n",
    "print('# Tuning hyper-parameters for f1_score')\n",
    "print()\n",
    "clf = GridSearchCV(classificator, hyperparams, scoring='f1',cv=cv_counts)\n",
    "clf.fit(features_train, target_train)\n",
    "print(\"Best parameters set found on development set:\")\n",
    "print()\n",
    "LR_best_params = clf.best_params_\n",
    "print(LR_best_params)\n",
    "print()\n",
    "print(\"Grid scores on development set:\")\n",
    "print()\n",
    "means = clf.cv_results_['mean_test_score']\n",
    "stds = clf.cv_results_['std_test_score']\n",
    "for mean, std, params in zip(means, stds, clf.cv_results_['params']):\n",
    "    print(\"%0.6f for %r\"% (mean, params))\n",
    "print()\n",
    "\n",
    "cv_f1_LR = max(means)"
   ]
  },
  {
   "cell_type": "code",
   "execution_count": null,
   "metadata": {
    "ExecuteTime": {
     "end_time": "2023-10-09T11:34:50.476774Z",
     "start_time": "2023-10-09T11:34:48.316808Z"
    }
   },
   "outputs": [],
   "source": [
    "classificator = LogisticRegression()\n",
    "classificator.set_params(**LR_best_params)\n",
    "classificator.fit(features_train, target_train)\n",
    "target_predict = classificator.predict(features_valid)\n",
    "valid_f1_LR = f1_score(target_valid, target_predict)\n",
    "print('F1 на cv', cv_f1_LR)\n",
    "print('F1 на валидации', valid_f1_LR)"
   ]
  },
  {
   "cell_type": "markdown",
   "metadata": {},
   "source": [
    "### Классификатор DecisionTreeClassifier"
   ]
  },
  {
   "cell_type": "code",
   "execution_count": null,
   "metadata": {
    "ExecuteTime": {
     "end_time": "2023-10-09T11:43:40.001990Z",
     "start_time": "2023-10-09T11:34:53.605453Z"
    }
   },
   "outputs": [],
   "source": [
    "classificator = DecisionTreeClassifier()\n",
    "hyperparams = [{'max_depth':[x for x in range(50,100,2)],\n",
    "                'random_state':[1515],\n",
    "                'class_weight':[dict_classes]}]\n",
    "\n",
    "\n",
    "print('# Tuning hyper-parameters for f1_score')\n",
    "print()\n",
    "clf = GridSearchCV(classificator, hyperparams, scoring='f1',cv=cv_counts)\n",
    "clf.fit(features_train, target_train)\n",
    "print(\"Best parameters set found on development set:\")\n",
    "print()\n",
    "DTC_best_params = clf.best_params_\n",
    "print(DTC_best_params)\n",
    "print()\n",
    "print(\"Grid scores on development set:\")\n",
    "print()\n",
    "means = clf.cv_results_['mean_test_score']\n",
    "stds = clf.cv_results_['std_test_score']\n",
    "for mean, std, params in zip(means, stds, clf.cv_results_['params']):\n",
    "    print(\"%0.6f for %r\"% (mean, params))\n",
    "print()\n",
    "\n",
    "cv_f1_DTC = max(means)"
   ]
  },
  {
   "cell_type": "code",
   "execution_count": null,
   "metadata": {
    "ExecuteTime": {
     "end_time": "2023-10-09T11:44:54.110240Z",
     "start_time": "2023-10-09T11:44:31.815658Z"
    }
   },
   "outputs": [],
   "source": [
    "classificator = DecisionTreeClassifier()\n",
    "classificator.set_params(**DTC_best_params)\n",
    "classificator.fit(features_train, target_train)\n",
    "target_predict = classificator.predict(features_valid)\n",
    "valid_f1_DTC = f1_score(target_valid, target_predict)\n",
    "print('F1 на cv', cv_f1_DTC)\n",
    "print('F1 на валидации', valid_f1_DTC)"
   ]
  },
  {
   "cell_type": "markdown",
   "metadata": {},
   "source": [
    "### Классификатор CatBoostClassifier"
   ]
  },
  {
   "cell_type": "code",
   "execution_count": null,
   "metadata": {
    "ExecuteTime": {
     "end_time": "2023-10-09T11:48:27.347108Z",
     "start_time": "2023-10-09T11:45:05.682807Z"
    }
   },
   "outputs": [],
   "source": [
    "classificator = CatBoostClassifier(verbose=False, iterations=250)\n",
    "classificator.fit(features_train, target_train)\n",
    "target_predict = classificator.predict(features_valid)\n",
    "cv_f1_CBC = cross_val_score(classificator,\n",
    "                                         features_train, \n",
    "                                         target_train, \n",
    "                                         cv=cv_counts, \n",
    "                                         scoring='f1').mean()\n",
    "valid_f1_CBC = f1_score(target_valid, target_predict)\n",
    "print('F1 на cv', cv_f1_CBC)\n",
    "print('F1 на валидации', valid_f1_CBC)"
   ]
  },
  {
   "cell_type": "markdown",
   "metadata": {},
   "source": [
    "### Вывод по классификаторам"
   ]
  },
  {
   "cell_type": "code",
   "execution_count": null,
   "metadata": {
    "ExecuteTime": {
     "end_time": "2023-10-09T11:49:33.837482Z",
     "start_time": "2023-10-09T11:49:33.817731Z"
    }
   },
   "outputs": [],
   "source": [
    "index = ['LogisticRegression',\n",
    "         'DecisionTreeClassifier',\n",
    "         'CatBoostClassifier']\n",
    "data = {'F1 на CV':[cv_f1_LR,\n",
    "                    cv_f1_DTC,\n",
    "                    cv_f1_CBC],\n",
    "        'F1 на валидации':[valid_f1_LR,\n",
    "                           valid_f1_DTC,\n",
    "                           valid_f1_CBC]}\n",
    "\n",
    "scores_data = pd.DataFrame(data=data, index=index)\n",
    "scores_data['Выполнение задачи'] = scores_data['F1 на валидации'] > 0.75\n",
    "scores_data"
   ]
  },
  {
   "cell_type": "markdown",
   "metadata": {},
   "source": [
    "**Вывод**\n",
    "\n",
    "К тестовому набору данных перейдут LogisticRegression"
   ]
  },
  {
   "cell_type": "markdown",
   "metadata": {},
   "source": [
    "## Выводы"
   ]
  },
  {
   "cell_type": "code",
   "execution_count": null,
   "metadata": {
    "ExecuteTime": {
     "end_time": "2023-10-09T11:49:45.416797Z",
     "start_time": "2023-10-09T11:49:43.095190Z"
    }
   },
   "outputs": [],
   "source": [
    "plt.figure(figsize=[12,9])\n",
    "\n",
    "plt.plot([0, 1], [0, 1], linestyle='--', label='RandomModel')\n",
    "\n",
    "\n",
    "classificator = LogisticRegression()\n",
    "classificator.set_params(**LR_best_params)\n",
    "classificator.fit(features_train, target_train)\n",
    "probabilities_test = classificator.predict_proba(features_test)\n",
    "probabilities_one_test = probabilities_test[:, 1]\n",
    "fpr, tpr, thresholds = roc_curve(target_test, probabilities_one_test)\n",
    "predict_test = classificator.predict(features_test)\n",
    "plt.plot(fpr, tpr, label='LogisticRegression')\n",
    "print('Метрики LogisticRegression')\n",
    "print('ROC AUC:', roc_auc_score(target_test, probabilities_one_test))\n",
    "print('F1:', f1_score(target_test, predict_test))\n",
    "print('Precision:', precision_score(target_test, predict_test))\n",
    "print('Recall:', recall_score(target_test, predict_test))\n",
    "print('Accuracy:', accuracy_score(target_test, predict_test))\n",
    "print()\n",
    "\n",
    "plt.xlim([0,1])\n",
    "plt.ylim([0,1])\n",
    "\n",
    "plt.xlabel(\"False Positive Rate\")\n",
    "plt.ylabel(\"True Positive Rate\")\n",
    "\n",
    "plt.legend(loc='lower right', fontsize='x-large')\n",
    "\n",
    "plt.title(\"ROC-кривая\")\n",
    "plt.show()"
   ]
  },
  {
   "cell_type": "markdown",
   "metadata": {},
   "source": [
    "# Вывод\n",
    "Было проделано:\n",
    "1) Подготовленны данные обучения.\n",
    "\n",
    "2) Выбран способ баланса классов, сформированы обучающая, валидационная и тестовая выборка.\n",
    "\n",
    "3) Обучены модели и выбрана лучшая из них на валидационной выборке.\n",
    "\n",
    "4) Показаны параметры качества моделей.\n",
    "\n",
    "**Исходные данные обладают большим количеством признаков.** Созданных столбцов больше, чем записей данных. Лучшая модель стала LogisticRegression. \n",
    "\n",
    "**CatBoostClassifier может показать себя очень хорошо при долгом обучении на данных.** "
   ]
  }
 ],
 "metadata": {
  "ExecuteTimeLog": [
   {
    "duration": 3,
    "start_time": "2022-06-11T16:53:08.716Z"
   },
   {
    "duration": 780,
    "start_time": "2022-06-11T16:53:09.157Z"
   },
   {
    "duration": 356,
    "start_time": "2022-06-11T16:53:13.412Z"
   },
   {
    "duration": 840,
    "start_time": "2022-06-11T16:53:13.770Z"
   },
   {
    "duration": 12,
    "start_time": "2022-06-11T16:53:14.611Z"
   },
   {
    "duration": 11,
    "start_time": "2022-06-11T16:53:14.625Z"
   },
   {
    "duration": 63,
    "start_time": "2022-06-11T16:55:26.847Z"
   },
   {
    "duration": 1316,
    "start_time": "2022-06-11T16:55:43.721Z"
   },
   {
    "duration": 987,
    "start_time": "2022-06-11T16:55:46.851Z"
   },
   {
    "duration": 4,
    "start_time": "2022-06-11T16:56:00.475Z"
   },
   {
    "duration": 89744,
    "start_time": "2022-06-11T16:56:02.791Z"
   },
   {
    "duration": 20,
    "start_time": "2022-06-11T16:59:58.730Z"
   },
   {
    "duration": 4,
    "start_time": "2022-06-11T17:00:18.248Z"
   },
   {
    "duration": 270,
    "start_time": "2022-06-11T17:00:21.620Z"
   },
   {
    "duration": 3,
    "start_time": "2022-06-11T17:00:36.175Z"
   },
   {
    "duration": 62,
    "start_time": "2022-06-11T17:00:39.411Z"
   },
   {
    "duration": 4,
    "start_time": "2022-06-11T17:00:56.953Z"
   },
   {
    "duration": 10995,
    "start_time": "2022-06-11T17:00:59.629Z"
   },
   {
    "duration": 10,
    "start_time": "2022-06-11T17:30:02.361Z"
   },
   {
    "duration": 148,
    "start_time": "2022-06-11T17:30:21.280Z"
   },
   {
    "duration": 118634,
    "start_time": "2022-06-11T17:30:24.346Z"
   },
   {
    "duration": 12201,
    "start_time": "2022-06-11T17:34:04.473Z"
   },
   {
    "duration": 71572,
    "start_time": "2022-06-11T17:35:04.295Z"
   },
   {
    "duration": 43797,
    "start_time": "2022-06-11T17:36:15.869Z"
   },
   {
    "duration": 2,
    "start_time": "2022-06-11T17:40:54.142Z"
   },
   {
    "duration": 45,
    "start_time": "2022-06-11T17:41:07.952Z"
   },
   {
    "duration": 24,
    "start_time": "2022-06-11T17:41:15.284Z"
   },
   {
    "duration": 4,
    "start_time": "2022-06-11T17:41:32.368Z"
   },
   {
    "duration": 1038,
    "start_time": "2022-06-11T17:41:35.797Z"
   },
   {
    "duration": 37,
    "start_time": "2022-06-11T17:41:49.558Z"
   },
   {
    "duration": 27,
    "start_time": "2022-06-11T17:41:55.213Z"
   },
   {
    "duration": 303,
    "start_time": "2022-06-11T17:42:26.091Z"
   },
   {
    "duration": 20232,
    "start_time": "2022-06-11T17:42:43.536Z"
   },
   {
    "duration": 9,
    "start_time": "2022-06-11T17:44:46.880Z"
   },
   {
    "duration": 2122,
    "start_time": "2022-06-11T17:45:38.812Z"
   },
   {
    "duration": 2394,
    "start_time": "2022-06-11T17:45:40.936Z"
   },
   {
    "duration": 13,
    "start_time": "2022-06-11T17:45:43.331Z"
   },
   {
    "duration": 19,
    "start_time": "2022-06-11T17:45:43.346Z"
   },
   {
    "duration": 86524,
    "start_time": "2022-06-11T17:45:43.367Z"
   },
   {
    "duration": 10744,
    "start_time": "2022-06-11T17:47:09.892Z"
   },
   {
    "duration": 55823,
    "start_time": "2022-06-11T17:47:20.637Z"
   },
   {
    "duration": 73200,
    "start_time": "2022-06-11T17:48:16.462Z"
   },
   {
    "duration": 46899,
    "start_time": "2022-06-11T17:49:29.663Z"
   },
   {
    "duration": 36,
    "start_time": "2022-06-11T17:50:16.565Z"
   },
   {
    "duration": 1114,
    "start_time": "2022-06-11T17:50:16.602Z"
   },
   {
    "duration": 18541,
    "start_time": "2022-06-11T17:50:17.718Z"
   },
   {
    "duration": 122,
    "start_time": "2022-06-11T17:50:36.261Z"
   },
   {
    "duration": 14,
    "start_time": "2022-06-11T17:54:30.737Z"
   },
   {
    "duration": 758,
    "start_time": "2022-06-11T17:54:45.527Z"
   },
   {
    "duration": 88989,
    "start_time": "2022-06-11T17:54:53.765Z"
   },
   {
    "duration": 11,
    "start_time": "2022-06-11T17:56:32.775Z"
   },
   {
    "duration": 11,
    "start_time": "2022-06-11T17:57:28.822Z"
   },
   {
    "duration": 20,
    "start_time": "2022-06-11T18:03:08.218Z"
   },
   {
    "duration": 336064,
    "start_time": "2022-06-11T18:03:42.144Z"
   },
   {
    "duration": 30370,
    "start_time": "2022-06-11T18:10:20.950Z"
   },
   {
    "duration": 39,
    "start_time": "2022-06-11T18:11:33.199Z"
   },
   {
    "duration": 16,
    "start_time": "2022-06-11T18:12:17.232Z"
   },
   {
    "duration": 281591,
    "start_time": "2022-06-11T18:14:31.133Z"
   },
   {
    "duration": 712432,
    "start_time": "2022-06-11T18:19:59.976Z"
   },
   {
    "duration": 37754,
    "start_time": "2022-06-11T18:38:40.106Z"
   },
   {
    "duration": 726547,
    "start_time": "2022-06-11T18:42:54.867Z"
   },
   {
    "duration": 15,
    "start_time": "2022-06-11T18:55:01.416Z"
   },
   {
    "duration": 31719,
    "start_time": "2022-06-11T18:59:24.984Z"
   },
   {
    "duration": 1362,
    "start_time": "2022-06-11T19:08:53.314Z"
   },
   {
    "duration": 917,
    "start_time": "2022-06-11T19:08:54.677Z"
   },
   {
    "duration": 9,
    "start_time": "2022-06-11T19:08:55.596Z"
   },
   {
    "duration": 10,
    "start_time": "2022-06-11T19:08:55.607Z"
   },
   {
    "duration": 97871,
    "start_time": "2022-06-11T19:08:55.619Z"
   },
   {
    "duration": 12105,
    "start_time": "2022-06-11T19:10:33.492Z"
   },
   {
    "duration": 70874,
    "start_time": "2022-06-11T19:10:45.598Z"
   },
   {
    "duration": 91512,
    "start_time": "2022-06-11T19:11:56.474Z"
   },
   {
    "duration": 5557,
    "start_time": "2022-06-12T05:57:02.492Z"
   },
   {
    "duration": 2535,
    "start_time": "2022-06-12T05:57:08.053Z"
   },
   {
    "duration": 11,
    "start_time": "2022-06-12T05:57:10.590Z"
   },
   {
    "duration": 15,
    "start_time": "2022-06-12T05:57:10.602Z"
   },
   {
    "duration": 93933,
    "start_time": "2022-06-12T05:57:10.618Z"
   },
   {
    "duration": 11151,
    "start_time": "2022-06-12T05:58:44.553Z"
   },
   {
    "duration": 55662,
    "start_time": "2022-06-12T05:58:55.706Z"
   },
   {
    "duration": 72695,
    "start_time": "2022-06-12T05:59:51.370Z"
   },
   {
    "duration": 46504,
    "start_time": "2022-06-12T06:01:04.067Z"
   },
   {
    "duration": 1888,
    "start_time": "2022-06-12T06:01:50.574Z"
   },
   {
    "duration": 997,
    "start_time": "2022-06-12T06:01:52.464Z"
   },
   {
    "duration": 17702,
    "start_time": "2022-06-12T06:01:53.463Z"
   },
   {
    "duration": 71600,
    "start_time": "2022-06-12T06:03:37.078Z"
   },
   {
    "duration": 45803,
    "start_time": "2022-06-12T06:04:48.679Z"
   },
   {
    "duration": 25,
    "start_time": "2022-06-12T06:05:34.484Z"
   },
   {
    "duration": 1063,
    "start_time": "2022-06-12T06:05:34.510Z"
   },
   {
    "duration": 18893,
    "start_time": "2022-06-12T06:05:35.574Z"
   },
   {
    "duration": 88527,
    "start_time": "2022-06-12T06:05:54.471Z"
   },
   {
    "duration": 10,
    "start_time": "2022-06-12T06:07:23.000Z"
   },
   {
    "duration": 325845,
    "start_time": "2022-06-12T06:08:34.258Z"
   },
   {
    "duration": 32706,
    "start_time": "2022-06-12T06:14:00.105Z"
   },
   {
    "duration": 1442,
    "start_time": "2022-06-13T09:04:22.603Z"
   },
   {
    "duration": 107,
    "start_time": "2022-06-13T09:04:45.629Z"
   },
   {
    "duration": 1276,
    "start_time": "2022-06-13T09:04:52.684Z"
   },
   {
    "duration": 3004,
    "start_time": "2022-06-13T09:04:53.962Z"
   },
   {
    "duration": 9,
    "start_time": "2022-06-13T09:04:56.967Z"
   },
   {
    "duration": 8,
    "start_time": "2022-06-13T09:04:56.978Z"
   },
   {
    "duration": 140,
    "start_time": "2022-06-13T09:04:56.988Z"
   },
   {
    "duration": 0,
    "start_time": "2022-06-13T09:04:57.130Z"
   },
   {
    "duration": 0,
    "start_time": "2022-06-13T09:04:57.132Z"
   },
   {
    "duration": 0,
    "start_time": "2022-06-13T09:04:57.133Z"
   },
   {
    "duration": 0,
    "start_time": "2022-06-13T09:04:57.134Z"
   },
   {
    "duration": 0,
    "start_time": "2022-06-13T09:04:57.135Z"
   },
   {
    "duration": 0,
    "start_time": "2022-06-13T09:04:57.136Z"
   },
   {
    "duration": 0,
    "start_time": "2022-06-13T09:04:57.137Z"
   },
   {
    "duration": 0,
    "start_time": "2022-06-13T09:04:57.139Z"
   },
   {
    "duration": 0,
    "start_time": "2022-06-13T09:04:57.140Z"
   },
   {
    "duration": 0,
    "start_time": "2022-06-13T09:04:57.141Z"
   },
   {
    "duration": 0,
    "start_time": "2022-06-13T09:04:57.142Z"
   },
   {
    "duration": 0,
    "start_time": "2022-06-13T09:04:57.144Z"
   },
   {
    "duration": 0,
    "start_time": "2022-06-13T09:04:57.145Z"
   },
   {
    "duration": 0,
    "start_time": "2022-06-13T09:04:57.147Z"
   },
   {
    "duration": 0,
    "start_time": "2022-06-13T09:04:57.148Z"
   },
   {
    "duration": 0,
    "start_time": "2022-06-13T09:04:57.149Z"
   },
   {
    "duration": 5770,
    "start_time": "2022-06-13T09:05:27.981Z"
   },
   {
    "duration": 9439,
    "start_time": "2022-06-13T09:05:39.285Z"
   },
   {
    "duration": 1420,
    "start_time": "2022-06-13T09:06:11.866Z"
   },
   {
    "duration": 698,
    "start_time": "2022-06-13T09:06:13.287Z"
   },
   {
    "duration": 12,
    "start_time": "2022-06-13T09:06:13.986Z"
   },
   {
    "duration": 9,
    "start_time": "2022-06-13T09:06:13.999Z"
   },
   {
    "duration": 5845,
    "start_time": "2022-06-13T09:06:14.010Z"
   },
   {
    "duration": 9816,
    "start_time": "2022-06-13T09:06:19.856Z"
   },
   {
    "duration": 48827,
    "start_time": "2022-06-13T09:06:29.674Z"
   },
   {
    "duration": 54002,
    "start_time": "2022-06-13T09:07:18.503Z"
   },
   {
    "duration": 41586,
    "start_time": "2022-06-13T09:08:12.506Z"
   },
   {
    "duration": 24,
    "start_time": "2022-06-13T09:08:54.094Z"
   },
   {
    "duration": 939,
    "start_time": "2022-06-13T09:08:54.119Z"
   },
   {
    "duration": 19140,
    "start_time": "2022-06-13T09:08:55.060Z"
   },
   {
    "duration": 8,
    "start_time": "2022-06-13T09:09:21.393Z"
   },
   {
    "duration": 0,
    "start_time": "2022-06-13T09:09:21.402Z"
   },
   {
    "duration": 0,
    "start_time": "2022-06-13T09:09:21.403Z"
   },
   {
    "duration": 0,
    "start_time": "2022-06-13T09:09:21.404Z"
   },
   {
    "duration": 0,
    "start_time": "2022-06-13T09:09:21.405Z"
   },
   {
    "duration": 0,
    "start_time": "2022-06-13T09:09:21.405Z"
   },
   {
    "duration": 0,
    "start_time": "2022-06-13T09:09:21.406Z"
   },
   {
    "duration": 0,
    "start_time": "2022-06-13T09:09:21.407Z"
   },
   {
    "duration": 0,
    "start_time": "2022-06-13T09:09:21.408Z"
   },
   {
    "duration": 39,
    "start_time": "2022-06-13T09:09:21.410Z"
   },
   {
    "duration": 0,
    "start_time": "2022-06-13T09:09:21.450Z"
   },
   {
    "duration": 0,
    "start_time": "2022-06-13T09:09:21.451Z"
   },
   {
    "duration": 0,
    "start_time": "2022-06-13T09:09:21.452Z"
   },
   {
    "duration": 0,
    "start_time": "2022-06-13T09:09:21.453Z"
   },
   {
    "duration": 0,
    "start_time": "2022-06-13T09:09:21.454Z"
   },
   {
    "duration": 0,
    "start_time": "2022-06-13T09:09:21.454Z"
   },
   {
    "duration": 0,
    "start_time": "2022-06-13T09:09:21.491Z"
   },
   {
    "duration": 0,
    "start_time": "2022-06-13T09:09:21.492Z"
   },
   {
    "duration": 0,
    "start_time": "2022-06-13T09:09:21.493Z"
   },
   {
    "duration": 0,
    "start_time": "2022-06-13T09:09:21.494Z"
   },
   {
    "duration": 0,
    "start_time": "2022-06-13T09:09:21.495Z"
   },
   {
    "duration": 0,
    "start_time": "2022-06-13T09:09:21.495Z"
   },
   {
    "duration": 3,
    "start_time": "2022-06-13T09:10:03.101Z"
   },
   {
    "duration": 1295,
    "start_time": "2022-06-13T09:10:34.881Z"
   },
   {
    "duration": 678,
    "start_time": "2022-06-13T09:10:36.179Z"
   },
   {
    "duration": 8,
    "start_time": "2022-06-13T09:10:36.859Z"
   },
   {
    "duration": 23,
    "start_time": "2022-06-13T09:10:36.869Z"
   },
   {
    "duration": 5793,
    "start_time": "2022-06-13T09:10:36.894Z"
   },
   {
    "duration": 9236,
    "start_time": "2022-06-13T09:10:42.688Z"
   },
   {
    "duration": 45171,
    "start_time": "2022-06-13T09:10:51.925Z"
   },
   {
    "duration": 1558,
    "start_time": "2022-06-13T09:12:14.570Z"
   },
   {
    "duration": 900,
    "start_time": "2022-06-13T09:12:16.129Z"
   },
   {
    "duration": 12,
    "start_time": "2022-06-13T09:12:17.031Z"
   },
   {
    "duration": 15,
    "start_time": "2022-06-13T09:12:17.046Z"
   },
   {
    "duration": 5881,
    "start_time": "2022-06-13T09:12:17.063Z"
   },
   {
    "duration": 9198,
    "start_time": "2022-06-13T09:12:22.946Z"
   },
   {
    "duration": 45056,
    "start_time": "2022-06-13T09:12:32.145Z"
   },
   {
    "duration": 1689,
    "start_time": "2022-08-12T12:18:49.691Z"
   },
   {
    "duration": 2323,
    "start_time": "2022-08-12T12:18:51.382Z"
   },
   {
    "duration": 10,
    "start_time": "2022-08-12T12:18:53.707Z"
   },
   {
    "duration": 27,
    "start_time": "2022-08-12T12:18:53.719Z"
   },
   {
    "duration": 6600,
    "start_time": "2022-08-12T12:18:53.748Z"
   },
   {
    "duration": 10765,
    "start_time": "2022-08-12T12:19:00.350Z"
   },
   {
    "duration": 51561,
    "start_time": "2022-08-12T12:19:11.117Z"
   },
   {
    "duration": 59300,
    "start_time": "2022-08-12T12:20:02.758Z"
   },
   {
    "duration": 48205,
    "start_time": "2022-08-12T12:21:02.060Z"
   },
   {
    "duration": 22,
    "start_time": "2022-08-12T12:21:50.267Z"
   },
   {
    "duration": 997,
    "start_time": "2022-08-12T12:21:50.291Z"
   },
   {
    "duration": 15271,
    "start_time": "2022-08-12T12:21:51.290Z"
   },
   {
    "duration": 79934,
    "start_time": "2022-08-12T12:22:06.563Z"
   },
   {
    "duration": 11,
    "start_time": "2022-08-12T12:23:26.500Z"
   },
   {
    "duration": 273349,
    "start_time": "2022-08-12T12:23:26.512Z"
   },
   {
    "duration": 19815,
    "start_time": "2022-08-12T12:27:59.863Z"
   },
   {
    "duration": 731726,
    "start_time": "2022-08-12T12:28:19.680Z"
   },
   {
    "duration": 36601,
    "start_time": "2022-08-12T12:40:31.407Z"
   },
   {
    "duration": 907908,
    "start_time": "2022-08-12T12:41:08.010Z"
   },
   {
    "duration": 10,
    "start_time": "2022-08-12T12:56:15.920Z"
   },
   {
    "duration": 19151,
    "start_time": "2022-08-12T12:56:15.932Z"
   },
   {
    "duration": 3757,
    "start_time": "2023-10-09T09:32:01.219Z"
   },
   {
    "duration": 3230,
    "start_time": "2023-10-09T09:32:04.979Z"
   },
   {
    "duration": 15,
    "start_time": "2023-10-09T09:32:08.214Z"
   },
   {
    "duration": 19,
    "start_time": "2023-10-09T09:32:08.240Z"
   },
   {
    "duration": 1784,
    "start_time": "2023-10-09T09:32:08.262Z"
   },
   {
    "duration": 8,
    "start_time": "2023-10-09T09:32:10.048Z"
   },
   {
    "duration": 2433,
    "start_time": "2023-10-09T10:22:51.807Z"
   },
   {
    "duration": 2242,
    "start_time": "2023-10-09T10:22:54.242Z"
   },
   {
    "duration": 9,
    "start_time": "2023-10-09T10:22:56.485Z"
   },
   {
    "duration": 11,
    "start_time": "2023-10-09T10:22:56.495Z"
   },
   {
    "duration": 6439,
    "start_time": "2023-10-09T10:22:56.507Z"
   },
   {
    "duration": 7,
    "start_time": "2023-10-09T10:23:02.947Z"
   },
   {
    "duration": 6259,
    "start_time": "2023-10-09T10:23:02.956Z"
   },
   {
    "duration": 41490,
    "start_time": "2023-10-09T10:25:15.450Z"
   },
   {
    "duration": 4,
    "start_time": "2023-10-09T13:13:00.004Z"
   },
   {
    "duration": 819,
    "start_time": "2023-10-09T13:13:01.772Z"
   },
   {
    "duration": 7,
    "start_time": "2023-10-09T13:13:04.272Z"
   },
   {
    "duration": 11,
    "start_time": "2023-10-09T13:13:06.586Z"
   },
   {
    "duration": 473,
    "start_time": "2023-10-09T13:13:09.065Z"
   },
   {
    "duration": 638,
    "start_time": "2023-10-09T13:13:39.656Z"
   },
   {
    "duration": 25934,
    "start_time": "2023-10-09T13:13:45.056Z"
   },
   {
    "duration": 8,
    "start_time": "2023-10-09T13:14:14.247Z"
   },
   {
    "duration": 2534,
    "start_time": "2023-10-10T21:27:00.215Z"
   },
   {
    "duration": 2854,
    "start_time": "2023-10-10T21:27:03.150Z"
   },
   {
    "duration": 12,
    "start_time": "2023-10-10T21:27:06.006Z"
   },
   {
    "duration": 32,
    "start_time": "2023-10-10T21:27:06.020Z"
   },
   {
    "duration": 505,
    "start_time": "2023-10-10T21:31:37.700Z"
   },
   {
    "duration": 408,
    "start_time": "2023-10-10T21:32:13.927Z"
   },
   {
    "duration": 21461,
    "start_time": "2023-10-10T21:33:00.401Z"
   },
   {
    "duration": 1362,
    "start_time": "2023-10-10T21:33:32.124Z"
   },
   {
    "duration": 1457,
    "start_time": "2023-10-10T21:33:58.484Z"
   },
   {
    "duration": 1408,
    "start_time": "2023-10-10T21:34:08.479Z"
   },
   {
    "duration": 11,
    "start_time": "2023-10-10T21:34:15.171Z"
   },
   {
    "duration": 1555,
    "start_time": "2023-10-10T21:34:18.390Z"
   },
   {
    "duration": 15,
    "start_time": "2023-10-10T21:34:26.120Z"
   },
   {
    "duration": 928,
    "start_time": "2023-10-10T21:34:26.944Z"
   },
   {
    "duration": 8,
    "start_time": "2023-10-10T21:34:27.874Z"
   },
   {
    "duration": 11,
    "start_time": "2023-10-10T21:34:32.421Z"
   },
   {
    "duration": 1756,
    "start_time": "2023-10-10T21:34:57.051Z"
   },
   {
    "duration": 5,
    "start_time": "2023-10-10T21:35:18.687Z"
   },
   {
    "duration": 922,
    "start_time": "2023-10-10T21:35:19.605Z"
   },
   {
    "duration": 7,
    "start_time": "2023-10-10T21:35:20.529Z"
   },
   {
    "duration": 11,
    "start_time": "2023-10-10T21:35:20.607Z"
   },
   {
    "duration": 19496,
    "start_time": "2023-10-10T21:36:05.785Z"
   },
   {
    "duration": 6,
    "start_time": "2023-10-10T21:39:21.193Z"
   },
   {
    "duration": 993,
    "start_time": "2023-10-10T21:39:22.685Z"
   },
   {
    "duration": 10,
    "start_time": "2023-10-10T21:39:23.680Z"
   },
   {
    "duration": 16,
    "start_time": "2023-10-10T21:39:23.692Z"
   },
   {
    "duration": 19899,
    "start_time": "2023-10-10T21:39:27.993Z"
   },
   {
    "duration": 203326,
    "start_time": "2023-10-10T21:47:55.546Z"
   },
   {
    "duration": 363,
    "start_time": "2023-10-10T21:52:13.381Z"
   },
   {
    "duration": 1707,
    "start_time": "2023-10-10T21:52:29.590Z"
   },
   {
    "duration": 1006,
    "start_time": "2023-10-10T21:52:31.299Z"
   },
   {
    "duration": 10,
    "start_time": "2023-10-10T21:52:32.307Z"
   },
   {
    "duration": 49,
    "start_time": "2023-10-10T21:52:32.320Z"
   },
   {
    "duration": 508,
    "start_time": "2023-10-10T21:52:32.371Z"
   },
   {
    "duration": 0,
    "start_time": "2023-10-10T21:52:32.881Z"
   },
   {
    "duration": 0,
    "start_time": "2023-10-10T21:52:32.883Z"
   },
   {
    "duration": 0,
    "start_time": "2023-10-10T21:52:32.884Z"
   },
   {
    "duration": 0,
    "start_time": "2023-10-10T21:52:32.886Z"
   },
   {
    "duration": 0,
    "start_time": "2023-10-10T21:52:32.887Z"
   },
   {
    "duration": 0,
    "start_time": "2023-10-10T21:52:32.889Z"
   },
   {
    "duration": 0,
    "start_time": "2023-10-10T21:52:32.890Z"
   },
   {
    "duration": 0,
    "start_time": "2023-10-10T21:52:32.892Z"
   },
   {
    "duration": 0,
    "start_time": "2023-10-10T21:52:32.894Z"
   },
   {
    "duration": 0,
    "start_time": "2023-10-10T21:52:32.895Z"
   },
   {
    "duration": 0,
    "start_time": "2023-10-10T21:52:32.896Z"
   },
   {
    "duration": 0,
    "start_time": "2023-10-10T21:52:32.898Z"
   },
   {
    "duration": 0,
    "start_time": "2023-10-10T21:52:32.899Z"
   },
   {
    "duration": 1,
    "start_time": "2023-10-10T21:52:32.900Z"
   },
   {
    "duration": 0,
    "start_time": "2023-10-10T21:52:32.902Z"
   },
   {
    "duration": 0,
    "start_time": "2023-10-10T21:52:32.903Z"
   },
   {
    "duration": 0,
    "start_time": "2023-10-10T21:52:32.905Z"
   },
   {
    "duration": 1744,
    "start_time": "2023-10-10T21:57:06.744Z"
   },
   {
    "duration": 44,
    "start_time": "2023-10-11T10:08:49.705Z"
   },
   {
    "duration": 6015,
    "start_time": "2023-10-11T10:09:00.132Z"
   },
   {
    "duration": 2254,
    "start_time": "2023-10-11T10:09:06.149Z"
   },
   {
    "duration": 9,
    "start_time": "2023-10-11T10:09:08.404Z"
   },
   {
    "duration": 23,
    "start_time": "2023-10-11T10:09:08.415Z"
   },
   {
    "duration": 1519,
    "start_time": "2023-10-11T10:09:08.439Z"
   },
   {
    "duration": 6,
    "start_time": "2023-10-11T10:09:09.960Z"
   },
   {
    "duration": 114,
    "start_time": "2023-10-11T10:11:48.990Z"
   },
   {
    "duration": 20,
    "start_time": "2023-10-11T10:12:09.476Z"
   },
   {
    "duration": 3,
    "start_time": "2023-10-11T10:12:27.795Z"
   },
   {
    "duration": 150,
    "start_time": "2023-10-11T11:07:45.897Z"
   },
   {
    "duration": 867,
    "start_time": "2023-10-11T11:07:49.168Z"
   },
   {
    "duration": 9,
    "start_time": "2023-10-11T11:07:50.886Z"
   },
   {
    "duration": 11,
    "start_time": "2023-10-11T11:07:52.573Z"
   },
   {
    "duration": 3,
    "start_time": "2023-10-11T11:07:54.775Z"
   },
   {
    "duration": 1148480,
    "start_time": "2023-10-11T11:07:56.881Z"
   },
   {
    "duration": 0,
    "start_time": "2023-10-11T11:27:05.365Z"
   },
   {
    "duration": 4165,
    "start_time": "2023-10-11T11:29:50.507Z"
   },
   {
    "duration": 1840,
    "start_time": "2023-10-11T11:30:15.041Z"
   },
   {
    "duration": 926,
    "start_time": "2023-10-11T11:30:16.883Z"
   },
   {
    "duration": 10,
    "start_time": "2023-10-11T11:30:17.812Z"
   },
   {
    "duration": 9,
    "start_time": "2023-10-11T11:30:17.824Z"
   },
   {
    "duration": 3,
    "start_time": "2023-10-11T11:30:17.849Z"
   },
   {
    "duration": 45,
    "start_time": "2023-10-11T11:49:26.601Z"
   },
   {
    "duration": 1782,
    "start_time": "2023-10-11T11:49:42.584Z"
   },
   {
    "duration": 949,
    "start_time": "2023-10-11T11:49:46.348Z"
   },
   {
    "duration": 11,
    "start_time": "2023-10-11T11:49:48.127Z"
   },
   {
    "duration": 10,
    "start_time": "2023-10-11T11:49:49.332Z"
   },
   {
    "duration": 3,
    "start_time": "2023-10-11T11:49:52.622Z"
   },
   {
    "duration": 1720,
    "start_time": "2023-10-11T12:18:36.754Z"
   },
   {
    "duration": 941,
    "start_time": "2023-10-11T12:18:38.476Z"
   },
   {
    "duration": 10,
    "start_time": "2023-10-11T12:18:39.419Z"
   },
   {
    "duration": 12,
    "start_time": "2023-10-11T12:18:40.112Z"
   },
   {
    "duration": 2,
    "start_time": "2023-10-11T12:18:42.265Z"
   },
   {
    "duration": 1080348,
    "start_time": "2023-10-11T12:18:43.129Z"
   },
   {
    "duration": 7,
    "start_time": "2023-10-11T12:36:43.479Z"
   },
   {
    "duration": 6,
    "start_time": "2023-10-11T12:52:18.998Z"
   }
  ],
  "kernelspec": {
   "display_name": "Python 3 (ipykernel)",
   "language": "python",
   "name": "python3"
  },
  "language_info": {
   "codemirror_mode": {
    "name": "ipython",
    "version": 3
   },
   "file_extension": ".py",
   "mimetype": "text/x-python",
   "name": "python",
   "nbconvert_exporter": "python",
   "pygments_lexer": "ipython3",
   "version": "3.11.7"
  },
  "toc": {
   "base_numbering": 1,
   "nav_menu": {},
   "number_sections": true,
   "sideBar": true,
   "skip_h1_title": true,
   "title_cell": "Содержание",
   "title_sidebar": "Contents",
   "toc_cell": true,
   "toc_position": {
    "height": "calc(100% - 180px)",
    "left": "10px",
    "top": "150px",
    "width": "302.391px"
   },
   "toc_section_display": true,
   "toc_window_display": false
  }
 },
 "nbformat": 4,
 "nbformat_minor": 4
}
