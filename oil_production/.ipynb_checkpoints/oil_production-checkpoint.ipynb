{
 "cells": [
  {
   "cell_type": "markdown",
   "metadata": {},
   "source": [
    "# Выбор локации для скважины"
   ]
  },
  {
   "cell_type": "markdown",
   "metadata": {},
   "source": [
    "# Билблиотеки"
   ]
  },
  {
   "cell_type": "code",
   "execution_count": 138,
   "metadata": {},
   "outputs": [],
   "source": [
    "import pandas as pd\n",
    "import numpy as np\n",
    "\n",
    "from matplotlib import pyplot as plt\n",
    "\n",
    "from sklearn.model_selection import train_test_split\n",
    "from sklearn.preprocessing import OrdinalEncoder\n",
    "\n",
    "from sklearn.linear_model import LinearRegression\n",
    "\n",
    "from sklearn.metrics import r2_score\n",
    "from sklearn.metrics import mean_squared_error\n",
    "\n",
    "from tqdm.notebook import tqdm\n",
    "from scipy import stats as st"
   ]
  },
  {
   "cell_type": "markdown",
   "metadata": {},
   "source": [
    "## Загрузка и подготовка данных"
   ]
  },
  {
   "cell_type": "markdown",
   "metadata": {},
   "source": [
    "*В Древнем Египте вращательное бурение (сверление) применялось при строительстве пирамид около 6000 лет назад.*"
   ]
  },
  {
   "cell_type": "markdown",
   "metadata": {},
   "source": [
    "Выгрузим данные из файлов в соответствующие переменные"
   ]
  },
  {
   "cell_type": "code",
   "execution_count": 139,
   "metadata": {},
   "outputs": [],
   "source": [
    "data_0 = pd.read_csv('/datasets/geo_data_0.csv')\n",
    "data_1 = pd.read_csv('/datasets/geo_data_1.csv')\n",
    "data_2 = pd.read_csv('/datasets/geo_data_2.csv')"
   ]
  },
  {
   "cell_type": "markdown",
   "metadata": {},
   "source": [
    "### Разведка региона 1"
   ]
  },
  {
   "cell_type": "markdown",
   "metadata": {},
   "source": [
    "Посмотрим количество строк и столбцов"
   ]
  },
  {
   "cell_type": "code",
   "execution_count": 140,
   "metadata": {},
   "outputs": [
    {
     "data": {
      "text/plain": [
       "(100000, 5)"
      ]
     },
     "execution_count": 140,
     "metadata": {},
     "output_type": "execute_result"
    }
   ],
   "source": [
    "data_0.shape"
   ]
  },
  {
   "cell_type": "markdown",
   "metadata": {},
   "source": []
  },
  {
   "cell_type": "markdown",
   "metadata": {},
   "source": [
    "Посмотрим названия столбцов и краткое содержание данных в них"
   ]
  },
  {
   "cell_type": "code",
   "execution_count": 141,
   "metadata": {},
   "outputs": [
    {
     "data": {
      "text/html": [
       "<div>\n",
       "<style scoped>\n",
       "    .dataframe tbody tr th:only-of-type {\n",
       "        vertical-align: middle;\n",
       "    }\n",
       "\n",
       "    .dataframe tbody tr th {\n",
       "        vertical-align: top;\n",
       "    }\n",
       "\n",
       "    .dataframe thead th {\n",
       "        text-align: right;\n",
       "    }\n",
       "</style>\n",
       "<table border=\"1\" class=\"dataframe\">\n",
       "  <thead>\n",
       "    <tr style=\"text-align: right;\">\n",
       "      <th></th>\n",
       "      <th>id</th>\n",
       "      <th>f0</th>\n",
       "      <th>f1</th>\n",
       "      <th>f2</th>\n",
       "      <th>product</th>\n",
       "    </tr>\n",
       "  </thead>\n",
       "  <tbody>\n",
       "    <tr>\n",
       "      <th>0</th>\n",
       "      <td>txEyH</td>\n",
       "      <td>0.705745</td>\n",
       "      <td>-0.497823</td>\n",
       "      <td>1.221170</td>\n",
       "      <td>105.280062</td>\n",
       "    </tr>\n",
       "    <tr>\n",
       "      <th>1</th>\n",
       "      <td>2acmU</td>\n",
       "      <td>1.334711</td>\n",
       "      <td>-0.340164</td>\n",
       "      <td>4.365080</td>\n",
       "      <td>73.037750</td>\n",
       "    </tr>\n",
       "    <tr>\n",
       "      <th>2</th>\n",
       "      <td>409Wp</td>\n",
       "      <td>1.022732</td>\n",
       "      <td>0.151990</td>\n",
       "      <td>1.419926</td>\n",
       "      <td>85.265647</td>\n",
       "    </tr>\n",
       "    <tr>\n",
       "      <th>3</th>\n",
       "      <td>iJLyR</td>\n",
       "      <td>-0.032172</td>\n",
       "      <td>0.139033</td>\n",
       "      <td>2.978566</td>\n",
       "      <td>168.620776</td>\n",
       "    </tr>\n",
       "    <tr>\n",
       "      <th>4</th>\n",
       "      <td>Xdl7t</td>\n",
       "      <td>1.988431</td>\n",
       "      <td>0.155413</td>\n",
       "      <td>4.751769</td>\n",
       "      <td>154.036647</td>\n",
       "    </tr>\n",
       "  </tbody>\n",
       "</table>\n",
       "</div>"
      ],
      "text/plain": [
       "      id        f0        f1        f2     product\n",
       "0  txEyH  0.705745 -0.497823  1.221170  105.280062\n",
       "1  2acmU  1.334711 -0.340164  4.365080   73.037750\n",
       "2  409Wp  1.022732  0.151990  1.419926   85.265647\n",
       "3  iJLyR -0.032172  0.139033  2.978566  168.620776\n",
       "4  Xdl7t  1.988431  0.155413  4.751769  154.036647"
      ]
     },
     "execution_count": 141,
     "metadata": {},
     "output_type": "execute_result"
    }
   ],
   "source": [
    "data_0.head()"
   ]
  },
  {
   "cell_type": "markdown",
   "metadata": {},
   "source": [
    "Проверим типы данных"
   ]
  },
  {
   "cell_type": "code",
   "execution_count": 142,
   "metadata": {},
   "outputs": [
    {
     "name": "stdout",
     "output_type": "stream",
     "text": [
      "<class 'pandas.core.frame.DataFrame'>\n",
      "RangeIndex: 100000 entries, 0 to 99999\n",
      "Data columns (total 5 columns):\n",
      " #   Column   Non-Null Count   Dtype  \n",
      "---  ------   --------------   -----  \n",
      " 0   id       100000 non-null  object \n",
      " 1   f0       100000 non-null  float64\n",
      " 2   f1       100000 non-null  float64\n",
      " 3   f2       100000 non-null  float64\n",
      " 4   product  100000 non-null  float64\n",
      "dtypes: float64(4), object(1)\n",
      "memory usage: 3.8+ MB\n"
     ]
    }
   ],
   "source": [
    "data_0.info()"
   ]
  },
  {
   "cell_type": "markdown",
   "metadata": {},
   "source": [
    "Посмотрим общие статистические данные по данным 🙃"
   ]
  },
  {
   "cell_type": "code",
   "execution_count": 143,
   "metadata": {},
   "outputs": [
    {
     "data": {
      "text/html": [
       "<div>\n",
       "<style scoped>\n",
       "    .dataframe tbody tr th:only-of-type {\n",
       "        vertical-align: middle;\n",
       "    }\n",
       "\n",
       "    .dataframe tbody tr th {\n",
       "        vertical-align: top;\n",
       "    }\n",
       "\n",
       "    .dataframe thead th {\n",
       "        text-align: right;\n",
       "    }\n",
       "</style>\n",
       "<table border=\"1\" class=\"dataframe\">\n",
       "  <thead>\n",
       "    <tr style=\"text-align: right;\">\n",
       "      <th></th>\n",
       "      <th>count</th>\n",
       "      <th>mean</th>\n",
       "      <th>std</th>\n",
       "      <th>min</th>\n",
       "      <th>25%</th>\n",
       "      <th>50%</th>\n",
       "      <th>75%</th>\n",
       "      <th>max</th>\n",
       "    </tr>\n",
       "  </thead>\n",
       "  <tbody>\n",
       "    <tr>\n",
       "      <th>f0</th>\n",
       "      <td>100000.0</td>\n",
       "      <td>0.500419</td>\n",
       "      <td>0.871832</td>\n",
       "      <td>-1.408605</td>\n",
       "      <td>-0.072580</td>\n",
       "      <td>0.502360</td>\n",
       "      <td>1.073581</td>\n",
       "      <td>2.362331</td>\n",
       "    </tr>\n",
       "    <tr>\n",
       "      <th>f1</th>\n",
       "      <td>100000.0</td>\n",
       "      <td>0.250143</td>\n",
       "      <td>0.504433</td>\n",
       "      <td>-0.848218</td>\n",
       "      <td>-0.200881</td>\n",
       "      <td>0.250252</td>\n",
       "      <td>0.700646</td>\n",
       "      <td>1.343769</td>\n",
       "    </tr>\n",
       "    <tr>\n",
       "      <th>f2</th>\n",
       "      <td>100000.0</td>\n",
       "      <td>2.502647</td>\n",
       "      <td>3.248248</td>\n",
       "      <td>-12.088328</td>\n",
       "      <td>0.287748</td>\n",
       "      <td>2.515969</td>\n",
       "      <td>4.715088</td>\n",
       "      <td>16.003790</td>\n",
       "    </tr>\n",
       "    <tr>\n",
       "      <th>product</th>\n",
       "      <td>100000.0</td>\n",
       "      <td>92.500000</td>\n",
       "      <td>44.288691</td>\n",
       "      <td>0.000000</td>\n",
       "      <td>56.497507</td>\n",
       "      <td>91.849972</td>\n",
       "      <td>128.564089</td>\n",
       "      <td>185.364347</td>\n",
       "    </tr>\n",
       "  </tbody>\n",
       "</table>\n",
       "</div>"
      ],
      "text/plain": [
       "            count       mean        std        min        25%        50%  \\\n",
       "f0       100000.0   0.500419   0.871832  -1.408605  -0.072580   0.502360   \n",
       "f1       100000.0   0.250143   0.504433  -0.848218  -0.200881   0.250252   \n",
       "f2       100000.0   2.502647   3.248248 -12.088328   0.287748   2.515969   \n",
       "product  100000.0  92.500000  44.288691   0.000000  56.497507  91.849972   \n",
       "\n",
       "                75%         max  \n",
       "f0         1.073581    2.362331  \n",
       "f1         0.700646    1.343769  \n",
       "f2         4.715088   16.003790  \n",
       "product  128.564089  185.364347  "
      ]
     },
     "execution_count": 143,
     "metadata": {},
     "output_type": "execute_result"
    }
   ],
   "source": [
    "data_0.describe().T"
   ]
  },
  {
   "cell_type": "markdown",
   "metadata": {},
   "source": [
    "Проверим гистограммы распределения частот в данных"
   ]
  },
  {
   "cell_type": "code",
   "execution_count": 144,
   "metadata": {},
   "outputs": [
    {
     "data": {
      "image/png": "[encoded data removed]",
      "text/plain": [
       "<Figure size 1440x1440 with 4 Axes>"
      ]
     },
     "metadata": {
      "needs_background": "light"
     },
     "output_type": "display_data"
    }
   ],
   "source": [
    "data_0.hist(figsize=(20,20))\n",
    "plt.show()"
   ]
  },
  {
   "cell_type": "markdown",
   "metadata": {},
   "source": [
    "Проверим корреляцию частот в данных"
   ]
  },
  {
   "cell_type": "code",
   "execution_count": 145,
   "metadata": {},
   "outputs": [
    {
     "name": "stdout",
     "output_type": "stream",
     "text": [
      "               f0        f1        f2   product\n",
      "f0       1.000000 -0.440723 -0.003153  0.143536\n",
      "f1      -0.440723  1.000000  0.001724 -0.192356\n",
      "f2      -0.003153  0.001724  1.000000  0.483663\n",
      "product  0.143536 -0.192356  0.483663  1.000000\n"
     ]
    },
    {
     "data": {
      "image/png": "[encoded data removed]",
      "text/plain": [
       "<Figure size 720x720 with 16 Axes>"
      ]
     },
     "metadata": {
      "needs_background": "light"
     },
     "output_type": "display_data"
    }
   ],
   "source": [
    "print(data_0.corr())\n",
    "pd.plotting.scatter_matrix(data_0, figsize=(10, 10)) \n",
    "plt.show()"
   ]
  },
  {
   "cell_type": "markdown",
   "metadata": {},
   "source": [
    "Проверим пропуски"
   ]
  },
  {
   "cell_type": "code",
   "execution_count": 146,
   "metadata": {},
   "outputs": [
    {
     "data": {
      "text/plain": [
       "id         0\n",
       "f0         0\n",
       "f1         0\n",
       "f2         0\n",
       "product    0\n",
       "dtype: int64"
      ]
     },
     "execution_count": 146,
     "metadata": {},
     "output_type": "execute_result"
    }
   ],
   "source": [
    "data_0.isna().sum()"
   ]
  },
  {
   "cell_type": "markdown",
   "metadata": {},
   "source": [
    "Проверим дубликаты"
   ]
  },
  {
   "cell_type": "code",
   "execution_count": 147,
   "metadata": {
    "scrolled": true
   },
   "outputs": [
    {
     "data": {
      "text/plain": [
       "0"
      ]
     },
     "execution_count": 147,
     "metadata": {},
     "output_type": "execute_result"
    }
   ],
   "source": [
    "data_0.duplicated().sum()"
   ]
  },
  {
   "cell_type": "markdown",
   "metadata": {},
   "source": [
    "Вывод по 1 региону:\n",
    "- Имеем 10000 срок и 4 столбца\n",
    "- Типы данных float64\n",
    "- Данные нормально распределены\n",
    "- Нет пропусков и дубликатов\n",
    "- Интерессная корреляция признаков f1 и f0"
   ]
  },
  {
   "cell_type": "markdown",
   "metadata": {},
   "source": [
    "### Разведка региона 2"
   ]
  },
  {
   "cell_type": "code",
   "execution_count": 148,
   "metadata": {},
   "outputs": [
    {
     "data": {
      "text/plain": [
       "(100000, 5)"
      ]
     },
     "execution_count": 148,
     "metadata": {},
     "output_type": "execute_result"
    }
   ],
   "source": [
    "data_1.shape"
   ]
  },
  {
   "cell_type": "code",
   "execution_count": 149,
   "metadata": {},
   "outputs": [
    {
     "data": {
      "text/html": [
       "<div>\n",
       "<style scoped>\n",
       "    .dataframe tbody tr th:only-of-type {\n",
       "        vertical-align: middle;\n",
       "    }\n",
       "\n",
       "    .dataframe tbody tr th {\n",
       "        vertical-align: top;\n",
       "    }\n",
       "\n",
       "    .dataframe thead th {\n",
       "        text-align: right;\n",
       "    }\n",
       "</style>\n",
       "<table border=\"1\" class=\"dataframe\">\n",
       "  <thead>\n",
       "    <tr style=\"text-align: right;\">\n",
       "      <th></th>\n",
       "      <th>id</th>\n",
       "      <th>f0</th>\n",
       "      <th>f1</th>\n",
       "      <th>f2</th>\n",
       "      <th>product</th>\n",
       "    </tr>\n",
       "  </thead>\n",
       "  <tbody>\n",
       "    <tr>\n",
       "      <th>0</th>\n",
       "      <td>kBEdx</td>\n",
       "      <td>-15.001348</td>\n",
       "      <td>-8.276000</td>\n",
       "      <td>-0.005876</td>\n",
       "      <td>3.179103</td>\n",
       "    </tr>\n",
       "    <tr>\n",
       "      <th>1</th>\n",
       "      <td>62mP7</td>\n",
       "      <td>14.272088</td>\n",
       "      <td>-3.475083</td>\n",
       "      <td>0.999183</td>\n",
       "      <td>26.953261</td>\n",
       "    </tr>\n",
       "    <tr>\n",
       "      <th>2</th>\n",
       "      <td>vyE1P</td>\n",
       "      <td>6.263187</td>\n",
       "      <td>-5.948386</td>\n",
       "      <td>5.001160</td>\n",
       "      <td>134.766305</td>\n",
       "    </tr>\n",
       "    <tr>\n",
       "      <th>3</th>\n",
       "      <td>KcrkZ</td>\n",
       "      <td>-13.081196</td>\n",
       "      <td>-11.506057</td>\n",
       "      <td>4.999415</td>\n",
       "      <td>137.945408</td>\n",
       "    </tr>\n",
       "    <tr>\n",
       "      <th>4</th>\n",
       "      <td>AHL4O</td>\n",
       "      <td>12.702195</td>\n",
       "      <td>-8.147433</td>\n",
       "      <td>5.004363</td>\n",
       "      <td>134.766305</td>\n",
       "    </tr>\n",
       "  </tbody>\n",
       "</table>\n",
       "</div>"
      ],
      "text/plain": [
       "      id         f0         f1        f2     product\n",
       "0  kBEdx -15.001348  -8.276000 -0.005876    3.179103\n",
       "1  62mP7  14.272088  -3.475083  0.999183   26.953261\n",
       "2  vyE1P   6.263187  -5.948386  5.001160  134.766305\n",
       "3  KcrkZ -13.081196 -11.506057  4.999415  137.945408\n",
       "4  AHL4O  12.702195  -8.147433  5.004363  134.766305"
      ]
     },
     "execution_count": 149,
     "metadata": {},
     "output_type": "execute_result"
    }
   ],
   "source": [
    "data_1.head()"
   ]
  },
  {
   "cell_type": "code",
   "execution_count": 150,
   "metadata": {},
   "outputs": [
    {
     "name": "stdout",
     "output_type": "stream",
     "text": [
      "<class 'pandas.core.frame.DataFrame'>\n",
      "RangeIndex: 100000 entries, 0 to 99999\n",
      "Data columns (total 5 columns):\n",
      " #   Column   Non-Null Count   Dtype  \n",
      "---  ------   --------------   -----  \n",
      " 0   id       100000 non-null  object \n",
      " 1   f0       100000 non-null  float64\n",
      " 2   f1       100000 non-null  float64\n",
      " 3   f2       100000 non-null  float64\n",
      " 4   product  100000 non-null  float64\n",
      "dtypes: float64(4), object(1)\n",
      "memory usage: 3.8+ MB\n"
     ]
    }
   ],
   "source": [
    "data_1.info()"
   ]
  },
  {
   "cell_type": "code",
   "execution_count": 151,
   "metadata": {},
   "outputs": [
    {
     "data": {
      "text/html": [
       "<div>\n",
       "<style scoped>\n",
       "    .dataframe tbody tr th:only-of-type {\n",
       "        vertical-align: middle;\n",
       "    }\n",
       "\n",
       "    .dataframe tbody tr th {\n",
       "        vertical-align: top;\n",
       "    }\n",
       "\n",
       "    .dataframe thead th {\n",
       "        text-align: right;\n",
       "    }\n",
       "</style>\n",
       "<table border=\"1\" class=\"dataframe\">\n",
       "  <thead>\n",
       "    <tr style=\"text-align: right;\">\n",
       "      <th></th>\n",
       "      <th>count</th>\n",
       "      <th>mean</th>\n",
       "      <th>std</th>\n",
       "      <th>min</th>\n",
       "      <th>25%</th>\n",
       "      <th>50%</th>\n",
       "      <th>75%</th>\n",
       "      <th>max</th>\n",
       "    </tr>\n",
       "  </thead>\n",
       "  <tbody>\n",
       "    <tr>\n",
       "      <th>f0</th>\n",
       "      <td>100000.0</td>\n",
       "      <td>1.141296</td>\n",
       "      <td>8.965932</td>\n",
       "      <td>-31.609576</td>\n",
       "      <td>-6.298551</td>\n",
       "      <td>1.153055</td>\n",
       "      <td>8.621015</td>\n",
       "      <td>29.421755</td>\n",
       "    </tr>\n",
       "    <tr>\n",
       "      <th>f1</th>\n",
       "      <td>100000.0</td>\n",
       "      <td>-4.796579</td>\n",
       "      <td>5.119872</td>\n",
       "      <td>-26.358598</td>\n",
       "      <td>-8.267985</td>\n",
       "      <td>-4.813172</td>\n",
       "      <td>-1.332816</td>\n",
       "      <td>18.734063</td>\n",
       "    </tr>\n",
       "    <tr>\n",
       "      <th>f2</th>\n",
       "      <td>100000.0</td>\n",
       "      <td>2.494541</td>\n",
       "      <td>1.703572</td>\n",
       "      <td>-0.018144</td>\n",
       "      <td>1.000021</td>\n",
       "      <td>2.011479</td>\n",
       "      <td>3.999904</td>\n",
       "      <td>5.019721</td>\n",
       "    </tr>\n",
       "    <tr>\n",
       "      <th>product</th>\n",
       "      <td>100000.0</td>\n",
       "      <td>68.825000</td>\n",
       "      <td>45.944423</td>\n",
       "      <td>0.000000</td>\n",
       "      <td>26.953261</td>\n",
       "      <td>57.085625</td>\n",
       "      <td>107.813044</td>\n",
       "      <td>137.945408</td>\n",
       "    </tr>\n",
       "  </tbody>\n",
       "</table>\n",
       "</div>"
      ],
      "text/plain": [
       "            count       mean        std        min        25%        50%  \\\n",
       "f0       100000.0   1.141296   8.965932 -31.609576  -6.298551   1.153055   \n",
       "f1       100000.0  -4.796579   5.119872 -26.358598  -8.267985  -4.813172   \n",
       "f2       100000.0   2.494541   1.703572  -0.018144   1.000021   2.011479   \n",
       "product  100000.0  68.825000  45.944423   0.000000  26.953261  57.085625   \n",
       "\n",
       "                75%         max  \n",
       "f0         8.621015   29.421755  \n",
       "f1        -1.332816   18.734063  \n",
       "f2         3.999904    5.019721  \n",
       "product  107.813044  137.945408  "
      ]
     },
     "execution_count": 151,
     "metadata": {},
     "output_type": "execute_result"
    }
   ],
   "source": [
    "data_1.describe().T"
   ]
  },
  {
   "cell_type": "code",
   "execution_count": 152,
   "metadata": {},
   "outputs": [
    {
     "data": {
      "image/png": "[encoded data removed]",
      "text/plain": [
       "<Figure size 1440x1440 with 4 Axes>"
      ]
     },
     "metadata": {
      "needs_background": "light"
     },
     "output_type": "display_data"
    }
   ],
   "source": [
    "data_1.hist(figsize=(20,20))\n",
    "plt.show()"
   ]
  },
  {
   "cell_type": "code",
   "execution_count": 153,
   "metadata": {},
   "outputs": [
    {
     "name": "stdout",
     "output_type": "stream",
     "text": [
      "               f0        f1        f2   product\n",
      "f0       1.000000  0.182287 -0.001777 -0.030491\n",
      "f1       0.182287  1.000000 -0.002595 -0.010155\n",
      "f2      -0.001777 -0.002595  1.000000  0.999397\n",
      "product -0.030491 -0.010155  0.999397  1.000000\n"
     ]
    },
    {
     "data": {
      "image/png": "[encoded data removed]",
      "text/plain": [
       "<Figure size 720x720 with 16 Axes>"
      ]
     },
     "metadata": {
      "needs_background": "light"
     },
     "output_type": "display_data"
    }
   ],
   "source": [
    "print(data_1.corr())\n",
    "pd.plotting.scatter_matrix(data_1, figsize=(10, 10)) \n",
    "plt.show()"
   ]
  },
  {
   "cell_type": "code",
   "execution_count": 154,
   "metadata": {},
   "outputs": [
    {
     "data": {
      "text/plain": [
       "id         0\n",
       "f0         0\n",
       "f1         0\n",
       "f2         0\n",
       "product    0\n",
       "dtype: int64"
      ]
     },
     "execution_count": 154,
     "metadata": {},
     "output_type": "execute_result"
    }
   ],
   "source": [
    "data_1.isna().sum()"
   ]
  },
  {
   "cell_type": "code",
   "execution_count": 155,
   "metadata": {},
   "outputs": [
    {
     "data": {
      "text/plain": [
       "0"
      ]
     },
     "execution_count": 155,
     "metadata": {},
     "output_type": "execute_result"
    }
   ],
   "source": [
    "data_1.duplicated().sum()"
   ]
  },
  {
   "cell_type": "markdown",
   "metadata": {},
   "source": [
    "Вывод по 2 региону:\n",
    "- Имеем 10000 срок и 4 столбца\n",
    "- Типы данных float64\n",
    "- Данные нормально распределены\n",
    "- Нет пропусков и дубликатов\n",
    "- Интерессная корреляция признаков, особенно целевого признака, где явно видны 2 моды в минимальных и максимальных значения"
   ]
  },
  {
   "cell_type": "markdown",
   "metadata": {},
   "source": [
    "### Разведка региона 3"
   ]
  },
  {
   "cell_type": "code",
   "execution_count": 156,
   "metadata": {},
   "outputs": [
    {
     "data": {
      "text/plain": [
       "(100000, 5)"
      ]
     },
     "execution_count": 156,
     "metadata": {},
     "output_type": "execute_result"
    }
   ],
   "source": [
    "data_2.shape"
   ]
  },
  {
   "cell_type": "code",
   "execution_count": 157,
   "metadata": {},
   "outputs": [
    {
     "data": {
      "text/html": [
       "<div>\n",
       "<style scoped>\n",
       "    .dataframe tbody tr th:only-of-type {\n",
       "        vertical-align: middle;\n",
       "    }\n",
       "\n",
       "    .dataframe tbody tr th {\n",
       "        vertical-align: top;\n",
       "    }\n",
       "\n",
       "    .dataframe thead th {\n",
       "        text-align: right;\n",
       "    }\n",
       "</style>\n",
       "<table border=\"1\" class=\"dataframe\">\n",
       "  <thead>\n",
       "    <tr style=\"text-align: right;\">\n",
       "      <th></th>\n",
       "      <th>id</th>\n",
       "      <th>f0</th>\n",
       "      <th>f1</th>\n",
       "      <th>f2</th>\n",
       "      <th>product</th>\n",
       "    </tr>\n",
       "  </thead>\n",
       "  <tbody>\n",
       "    <tr>\n",
       "      <th>0</th>\n",
       "      <td>fwXo0</td>\n",
       "      <td>-1.146987</td>\n",
       "      <td>0.963328</td>\n",
       "      <td>-0.828965</td>\n",
       "      <td>27.758673</td>\n",
       "    </tr>\n",
       "    <tr>\n",
       "      <th>1</th>\n",
       "      <td>WJtFt</td>\n",
       "      <td>0.262778</td>\n",
       "      <td>0.269839</td>\n",
       "      <td>-2.530187</td>\n",
       "      <td>56.069697</td>\n",
       "    </tr>\n",
       "    <tr>\n",
       "      <th>2</th>\n",
       "      <td>ovLUW</td>\n",
       "      <td>0.194587</td>\n",
       "      <td>0.289035</td>\n",
       "      <td>-5.586433</td>\n",
       "      <td>62.871910</td>\n",
       "    </tr>\n",
       "    <tr>\n",
       "      <th>3</th>\n",
       "      <td>q6cA6</td>\n",
       "      <td>2.236060</td>\n",
       "      <td>-0.553760</td>\n",
       "      <td>0.930038</td>\n",
       "      <td>114.572842</td>\n",
       "    </tr>\n",
       "    <tr>\n",
       "      <th>4</th>\n",
       "      <td>WPMUX</td>\n",
       "      <td>-0.515993</td>\n",
       "      <td>1.716266</td>\n",
       "      <td>5.899011</td>\n",
       "      <td>149.600746</td>\n",
       "    </tr>\n",
       "  </tbody>\n",
       "</table>\n",
       "</div>"
      ],
      "text/plain": [
       "      id        f0        f1        f2     product\n",
       "0  fwXo0 -1.146987  0.963328 -0.828965   27.758673\n",
       "1  WJtFt  0.262778  0.269839 -2.530187   56.069697\n",
       "2  ovLUW  0.194587  0.289035 -5.586433   62.871910\n",
       "3  q6cA6  2.236060 -0.553760  0.930038  114.572842\n",
       "4  WPMUX -0.515993  1.716266  5.899011  149.600746"
      ]
     },
     "execution_count": 157,
     "metadata": {},
     "output_type": "execute_result"
    }
   ],
   "source": [
    "data_2.head()"
   ]
  },
  {
   "cell_type": "code",
   "execution_count": 158,
   "metadata": {},
   "outputs": [
    {
     "name": "stdout",
     "output_type": "stream",
     "text": [
      "<class 'pandas.core.frame.DataFrame'>\n",
      "RangeIndex: 100000 entries, 0 to 99999\n",
      "Data columns (total 5 columns):\n",
      " #   Column   Non-Null Count   Dtype  \n",
      "---  ------   --------------   -----  \n",
      " 0   id       100000 non-null  object \n",
      " 1   f0       100000 non-null  float64\n",
      " 2   f1       100000 non-null  float64\n",
      " 3   f2       100000 non-null  float64\n",
      " 4   product  100000 non-null  float64\n",
      "dtypes: float64(4), object(1)\n",
      "memory usage: 3.8+ MB\n"
     ]
    }
   ],
   "source": [
    "data_2.info()"
   ]
  },
  {
   "cell_type": "code",
   "execution_count": 159,
   "metadata": {},
   "outputs": [
    {
     "data": {
      "text/html": [
       "<div>\n",
       "<style scoped>\n",
       "    .dataframe tbody tr th:only-of-type {\n",
       "        vertical-align: middle;\n",
       "    }\n",
       "\n",
       "    .dataframe tbody tr th {\n",
       "        vertical-align: top;\n",
       "    }\n",
       "\n",
       "    .dataframe thead th {\n",
       "        text-align: right;\n",
       "    }\n",
       "</style>\n",
       "<table border=\"1\" class=\"dataframe\">\n",
       "  <thead>\n",
       "    <tr style=\"text-align: right;\">\n",
       "      <th></th>\n",
       "      <th>count</th>\n",
       "      <th>mean</th>\n",
       "      <th>std</th>\n",
       "      <th>min</th>\n",
       "      <th>25%</th>\n",
       "      <th>50%</th>\n",
       "      <th>75%</th>\n",
       "      <th>max</th>\n",
       "    </tr>\n",
       "  </thead>\n",
       "  <tbody>\n",
       "    <tr>\n",
       "      <th>f0</th>\n",
       "      <td>100000.0</td>\n",
       "      <td>0.002023</td>\n",
       "      <td>1.732045</td>\n",
       "      <td>-8.760004</td>\n",
       "      <td>-1.162288</td>\n",
       "      <td>0.009424</td>\n",
       "      <td>1.158535</td>\n",
       "      <td>7.238262</td>\n",
       "    </tr>\n",
       "    <tr>\n",
       "      <th>f1</th>\n",
       "      <td>100000.0</td>\n",
       "      <td>-0.002081</td>\n",
       "      <td>1.730417</td>\n",
       "      <td>-7.084020</td>\n",
       "      <td>-1.174820</td>\n",
       "      <td>-0.009482</td>\n",
       "      <td>1.163678</td>\n",
       "      <td>7.844801</td>\n",
       "    </tr>\n",
       "    <tr>\n",
       "      <th>f2</th>\n",
       "      <td>100000.0</td>\n",
       "      <td>2.495128</td>\n",
       "      <td>3.473445</td>\n",
       "      <td>-11.970335</td>\n",
       "      <td>0.130359</td>\n",
       "      <td>2.484236</td>\n",
       "      <td>4.858794</td>\n",
       "      <td>16.739402</td>\n",
       "    </tr>\n",
       "    <tr>\n",
       "      <th>product</th>\n",
       "      <td>100000.0</td>\n",
       "      <td>95.000000</td>\n",
       "      <td>44.749921</td>\n",
       "      <td>0.000000</td>\n",
       "      <td>59.450441</td>\n",
       "      <td>94.925613</td>\n",
       "      <td>130.595027</td>\n",
       "      <td>190.029838</td>\n",
       "    </tr>\n",
       "  </tbody>\n",
       "</table>\n",
       "</div>"
      ],
      "text/plain": [
       "            count       mean        std        min        25%        50%  \\\n",
       "f0       100000.0   0.002023   1.732045  -8.760004  -1.162288   0.009424   \n",
       "f1       100000.0  -0.002081   1.730417  -7.084020  -1.174820  -0.009482   \n",
       "f2       100000.0   2.495128   3.473445 -11.970335   0.130359   2.484236   \n",
       "product  100000.0  95.000000  44.749921   0.000000  59.450441  94.925613   \n",
       "\n",
       "                75%         max  \n",
       "f0         1.158535    7.238262  \n",
       "f1         1.163678    7.844801  \n",
       "f2         4.858794   16.739402  \n",
       "product  130.595027  190.029838  "
      ]
     },
     "execution_count": 159,
     "metadata": {},
     "output_type": "execute_result"
    }
   ],
   "source": [
    "data_2.describe().T"
   ]
  },
  {
   "cell_type": "code",
   "execution_count": 160,
   "metadata": {},
   "outputs": [
    {
     "data": {
      "image/png": "[encoded data removed]",
      "text/plain": [
       "<Figure size 1440x1440 with 4 Axes>"
      ]
     },
     "metadata": {
      "needs_background": "light"
     },
     "output_type": "display_data"
    }
   ],
   "source": [
    "data_2.hist(figsize=(20,20))\n",
    "plt.show()"
   ]
  },
  {
   "cell_type": "code",
   "execution_count": 161,
   "metadata": {},
   "outputs": [
    {
     "name": "stdout",
     "output_type": "stream",
     "text": [
      "               f0        f1        f2   product\n",
      "f0       1.000000  0.000528 -0.000448 -0.001987\n",
      "f1       0.000528  1.000000  0.000779 -0.001012\n",
      "f2      -0.000448  0.000779  1.000000  0.445871\n",
      "product -0.001987 -0.001012  0.445871  1.000000\n"
     ]
    },
    {
     "data": {
      "image/png": "[encoded data removed]",
      "text/plain": [
       "<Figure size 720x720 with 16 Axes>"
      ]
     },
     "metadata": {
      "needs_background": "light"
     },
     "output_type": "display_data"
    }
   ],
   "source": [
    "print(data_2.corr())\n",
    "pd.plotting.scatter_matrix(data_2, figsize=(10, 10)) \n",
    "plt.show()"
   ]
  },
  {
   "cell_type": "code",
   "execution_count": 162,
   "metadata": {},
   "outputs": [
    {
     "data": {
      "text/plain": [
       "id         0\n",
       "f0         0\n",
       "f1         0\n",
       "f2         0\n",
       "product    0\n",
       "dtype: int64"
      ]
     },
     "execution_count": 162,
     "metadata": {},
     "output_type": "execute_result"
    }
   ],
   "source": [
    "data_2.isna().sum()"
   ]
  },
  {
   "cell_type": "code",
   "execution_count": 163,
   "metadata": {},
   "outputs": [
    {
     "data": {
      "text/plain": [
       "0"
      ]
     },
     "execution_count": 163,
     "metadata": {},
     "output_type": "execute_result"
    }
   ],
   "source": [
    "data_2.duplicated().sum()"
   ]
  },
  {
   "cell_type": "markdown",
   "metadata": {},
   "source": [
    "Вывод по 3 региону:\n",
    "- Имеем 10000 срок и 4 столбца\n",
    "- Типы данных float64\n",
    "- Данные нормально распределены\n",
    "- Нет пропусков и дубликатов"
   ]
  },
  {
   "cell_type": "markdown",
   "metadata": {},
   "source": [
    "**Проверим распределения целевого признака в регионах**"
   ]
  },
  {
   "cell_type": "code",
   "execution_count": 164,
   "metadata": {},
   "outputs": [
    {
     "data": {
      "image/png": "[encoded data removed]",
      "text/plain": [
       "<Figure size 1440x720 with 1 Axes>"
      ]
     },
     "metadata": {
      "needs_background": "light"
     },
     "output_type": "display_data"
    }
   ],
   "source": [
    "data_0['product'].hist(bins=10, alpha=0.5, figsize = (20,10)) \n",
    "data_1['product'].hist(bins=10, alpha=0.5, figsize = (20,10)) \n",
    "data_2['product'].hist(bins=10, alpha=0.5, figsize = (20,10)) \n",
    "plt.show()"
   ]
  },
  {
   "cell_type": "markdown",
   "metadata": {},
   "source": [
    "В 1 и 3 регионе целевой признак распределен нормально, как мы уже видели в диаграммах рассеивания до этого, а во втором регионе моды в самых крайних местах распределения: то есть в минимальных и максимальных значениях, что говорит, что запас скважин либо пуст, либо переполнен больше медианных значений в других регионах, остальные значения второго региона держатся стобильно на всем отрезке наблюдений. "
   ]
  },
  {
   "cell_type": "code",
   "execution_count": 165,
   "metadata": {},
   "outputs": [
    {
     "name": "stdout",
     "output_type": "stream",
     "text": [
      "Cреднее значение обьемов запасов в первом регионе: 92.50000000000001 медианное значение: 91.84997204396296\n",
      "Cреднее значение обьемов запасов во втором регионе: 68.82500000000002 медианное значение: 57.08562464628662\n",
      "Cреднее значение обьемов запасов в третьем регионе: 95.00000000000004 медианное значение: 94.92561258990247\n"
     ]
    }
   ],
   "source": [
    "print('Cреднее значение обьемов запасов в первом регионе:', data_0['product'].mean(), 'медианное значение:',data_0['product'].median())\n",
    "print('Cреднее значение обьемов запасов во втором регионе:', data_1['product'].mean(), 'медианное значение:',data_1['product'].median())\n",
    "print('Cреднее значение обьемов запасов в третьем регионе:', data_2['product'].mean(), 'медианное значение:',data_2['product'].median())"
   ]
  },
  {
   "cell_type": "markdown",
   "metadata": {},
   "source": [
    "Вывод:\n",
    "- Все данные имеют 10000 строк и 4 столбца\n",
    "- В данных нет пропусков и выбросов\n",
    "- Распределение целевого признака во 2 регионе отличается от нормального распределения и от других регионов\n",
    "- И среднее и медианное значение второго региона по обьемам запасов меньше чем в других"
   ]
  },
  {
   "cell_type": "markdown",
   "metadata": {},
   "source": [
    "## Обучение и проверка модели"
   ]
  },
  {
   "cell_type": "markdown",
   "metadata": {},
   "source": [
    "### Перед разбиением данных на выборки нужно применить технику порядкового кодирования"
   ]
  },
  {
   "cell_type": "markdown",
   "metadata": {},
   "source": [
    "#### Применение OrdinalEncoder к 1 региону"
   ]
  },
  {
   "cell_type": "code",
   "execution_count": 166,
   "metadata": {},
   "outputs": [
    {
     "data": {
      "text/html": [
       "<div>\n",
       "<style scoped>\n",
       "    .dataframe tbody tr th:only-of-type {\n",
       "        vertical-align: middle;\n",
       "    }\n",
       "\n",
       "    .dataframe tbody tr th {\n",
       "        vertical-align: top;\n",
       "    }\n",
       "\n",
       "    .dataframe thead th {\n",
       "        text-align: right;\n",
       "    }\n",
       "</style>\n",
       "<table border=\"1\" class=\"dataframe\">\n",
       "  <thead>\n",
       "    <tr style=\"text-align: right;\">\n",
       "      <th></th>\n",
       "      <th>f0</th>\n",
       "      <th>f1</th>\n",
       "      <th>f2</th>\n",
       "      <th>product</th>\n",
       "    </tr>\n",
       "  </thead>\n",
       "  <tbody>\n",
       "    <tr>\n",
       "      <th>0</th>\n",
       "      <td>0.705745</td>\n",
       "      <td>-0.497823</td>\n",
       "      <td>1.221170</td>\n",
       "      <td>105.280062</td>\n",
       "    </tr>\n",
       "    <tr>\n",
       "      <th>1</th>\n",
       "      <td>1.334711</td>\n",
       "      <td>-0.340164</td>\n",
       "      <td>4.365080</td>\n",
       "      <td>73.037750</td>\n",
       "    </tr>\n",
       "    <tr>\n",
       "      <th>2</th>\n",
       "      <td>1.022732</td>\n",
       "      <td>0.151990</td>\n",
       "      <td>1.419926</td>\n",
       "      <td>85.265647</td>\n",
       "    </tr>\n",
       "    <tr>\n",
       "      <th>3</th>\n",
       "      <td>-0.032172</td>\n",
       "      <td>0.139033</td>\n",
       "      <td>2.978566</td>\n",
       "      <td>168.620776</td>\n",
       "    </tr>\n",
       "    <tr>\n",
       "      <th>4</th>\n",
       "      <td>1.988431</td>\n",
       "      <td>0.155413</td>\n",
       "      <td>4.751769</td>\n",
       "      <td>154.036647</td>\n",
       "    </tr>\n",
       "  </tbody>\n",
       "</table>\n",
       "</div>"
      ],
      "text/plain": [
       "         f0        f1        f2     product\n",
       "0  0.705745 -0.497823  1.221170  105.280062\n",
       "1  1.334711 -0.340164  4.365080   73.037750\n",
       "2  1.022732  0.151990  1.419926   85.265647\n",
       "3 -0.032172  0.139033  2.978566  168.620776\n",
       "4  1.988431  0.155413  4.751769  154.036647"
      ]
     },
     "execution_count": 166,
     "metadata": {},
     "output_type": "execute_result"
    }
   ],
   "source": [
    "#encoder_0 = OrdinalEncoder() \n",
    "#encoder_0.fit(data_0)\n",
    "#data_ordinal_0 = pd.DataFrame(encoder_0.transform(data_0), columns=data_0.columns)\n",
    "#data_0['id'] = (data_ordinal_0['id']).astype('int')\n",
    "#data_0.head()\n",
    "data_0 = data_0.drop(['id'],axis=1)\n",
    "data_0.head()"
   ]
  },
  {
   "cell_type": "markdown",
   "metadata": {},
   "source": [
    "#### Применение OrdinalEncoder к 2 региону"
   ]
  },
  {
   "cell_type": "code",
   "execution_count": 167,
   "metadata": {},
   "outputs": [
    {
     "data": {
      "text/html": [
       "<div>\n",
       "<style scoped>\n",
       "    .dataframe tbody tr th:only-of-type {\n",
       "        vertical-align: middle;\n",
       "    }\n",
       "\n",
       "    .dataframe tbody tr th {\n",
       "        vertical-align: top;\n",
       "    }\n",
       "\n",
       "    .dataframe thead th {\n",
       "        text-align: right;\n",
       "    }\n",
       "</style>\n",
       "<table border=\"1\" class=\"dataframe\">\n",
       "  <thead>\n",
       "    <tr style=\"text-align: right;\">\n",
       "      <th></th>\n",
       "      <th>f0</th>\n",
       "      <th>f1</th>\n",
       "      <th>f2</th>\n",
       "      <th>product</th>\n",
       "    </tr>\n",
       "  </thead>\n",
       "  <tbody>\n",
       "    <tr>\n",
       "      <th>0</th>\n",
       "      <td>-15.001348</td>\n",
       "      <td>-8.276000</td>\n",
       "      <td>-0.005876</td>\n",
       "      <td>3.179103</td>\n",
       "    </tr>\n",
       "    <tr>\n",
       "      <th>1</th>\n",
       "      <td>14.272088</td>\n",
       "      <td>-3.475083</td>\n",
       "      <td>0.999183</td>\n",
       "      <td>26.953261</td>\n",
       "    </tr>\n",
       "    <tr>\n",
       "      <th>2</th>\n",
       "      <td>6.263187</td>\n",
       "      <td>-5.948386</td>\n",
       "      <td>5.001160</td>\n",
       "      <td>134.766305</td>\n",
       "    </tr>\n",
       "    <tr>\n",
       "      <th>3</th>\n",
       "      <td>-13.081196</td>\n",
       "      <td>-11.506057</td>\n",
       "      <td>4.999415</td>\n",
       "      <td>137.945408</td>\n",
       "    </tr>\n",
       "    <tr>\n",
       "      <th>4</th>\n",
       "      <td>12.702195</td>\n",
       "      <td>-8.147433</td>\n",
       "      <td>5.004363</td>\n",
       "      <td>134.766305</td>\n",
       "    </tr>\n",
       "  </tbody>\n",
       "</table>\n",
       "</div>"
      ],
      "text/plain": [
       "          f0         f1        f2     product\n",
       "0 -15.001348  -8.276000 -0.005876    3.179103\n",
       "1  14.272088  -3.475083  0.999183   26.953261\n",
       "2   6.263187  -5.948386  5.001160  134.766305\n",
       "3 -13.081196 -11.506057  4.999415  137.945408\n",
       "4  12.702195  -8.147433  5.004363  134.766305"
      ]
     },
     "execution_count": 167,
     "metadata": {},
     "output_type": "execute_result"
    }
   ],
   "source": [
    "#encoder_1 = OrdinalEncoder() \n",
    "#encoder_1.fit(data_1)\n",
    "#data_ordinal_1 = pd.DataFrame(encoder_1.transform(data_1), columns=data_1.columns)\n",
    "#data_1['id'] = (data_ordinal_1['id']).astype('int')\n",
    "#data_1.head()\n",
    "data_1 = data_1.drop(['id'],axis=1)\n",
    "data_1.head()"
   ]
  },
  {
   "cell_type": "markdown",
   "metadata": {},
   "source": [
    "#### Применение OrdinalEncoder к 3 региону"
   ]
  },
  {
   "cell_type": "code",
   "execution_count": 168,
   "metadata": {},
   "outputs": [
    {
     "data": {
      "text/html": [
       "<div>\n",
       "<style scoped>\n",
       "    .dataframe tbody tr th:only-of-type {\n",
       "        vertical-align: middle;\n",
       "    }\n",
       "\n",
       "    .dataframe tbody tr th {\n",
       "        vertical-align: top;\n",
       "    }\n",
       "\n",
       "    .dataframe thead th {\n",
       "        text-align: right;\n",
       "    }\n",
       "</style>\n",
       "<table border=\"1\" class=\"dataframe\">\n",
       "  <thead>\n",
       "    <tr style=\"text-align: right;\">\n",
       "      <th></th>\n",
       "      <th>f0</th>\n",
       "      <th>f1</th>\n",
       "      <th>f2</th>\n",
       "      <th>product</th>\n",
       "    </tr>\n",
       "  </thead>\n",
       "  <tbody>\n",
       "    <tr>\n",
       "      <th>0</th>\n",
       "      <td>-1.146987</td>\n",
       "      <td>0.963328</td>\n",
       "      <td>-0.828965</td>\n",
       "      <td>27.758673</td>\n",
       "    </tr>\n",
       "    <tr>\n",
       "      <th>1</th>\n",
       "      <td>0.262778</td>\n",
       "      <td>0.269839</td>\n",
       "      <td>-2.530187</td>\n",
       "      <td>56.069697</td>\n",
       "    </tr>\n",
       "    <tr>\n",
       "      <th>2</th>\n",
       "      <td>0.194587</td>\n",
       "      <td>0.289035</td>\n",
       "      <td>-5.586433</td>\n",
       "      <td>62.871910</td>\n",
       "    </tr>\n",
       "    <tr>\n",
       "      <th>3</th>\n",
       "      <td>2.236060</td>\n",
       "      <td>-0.553760</td>\n",
       "      <td>0.930038</td>\n",
       "      <td>114.572842</td>\n",
       "    </tr>\n",
       "    <tr>\n",
       "      <th>4</th>\n",
       "      <td>-0.515993</td>\n",
       "      <td>1.716266</td>\n",
       "      <td>5.899011</td>\n",
       "      <td>149.600746</td>\n",
       "    </tr>\n",
       "  </tbody>\n",
       "</table>\n",
       "</div>"
      ],
      "text/plain": [
       "         f0        f1        f2     product\n",
       "0 -1.146987  0.963328 -0.828965   27.758673\n",
       "1  0.262778  0.269839 -2.530187   56.069697\n",
       "2  0.194587  0.289035 -5.586433   62.871910\n",
       "3  2.236060 -0.553760  0.930038  114.572842\n",
       "4 -0.515993  1.716266  5.899011  149.600746"
      ]
     },
     "execution_count": 168,
     "metadata": {},
     "output_type": "execute_result"
    }
   ],
   "source": [
    "#encoder_2 = OrdinalEncoder() \n",
    "#encoder_2.fit(data_2)\n",
    "#data_ordinal_2 = pd.DataFrame(encoder_2.transform(data_2), columns=data_2.columns)\n",
    "#data_2['id'] = (data_ordinal_2['id']).astype('int')\n",
    "#data_2.head()\n",
    "data_2 = data_2.drop(['id'],axis=1)\n",
    "data_2.head()"
   ]
  },
  {
   "cell_type": "markdown",
   "metadata": {},
   "source": [
    "### Разобьем данные на обучающую и валидационную выборки в соотношении 75:25"
   ]
  },
  {
   "cell_type": "markdown",
   "metadata": {},
   "source": [
    "Подготовим целевые признаки и обучающие"
   ]
  },
  {
   "cell_type": "code",
   "execution_count": 169,
   "metadata": {},
   "outputs": [],
   "source": [
    "target_0=data_0['product']\n",
    "features_0=data_0.drop(['product'], axis=1)\n",
    "\n",
    "target_1=data_1['product']\n",
    "features_1=data_1.drop(['product'], axis=1)\n",
    "\n",
    "target_2=data_2['product']\n",
    "features_2=data_2.drop(['product'], axis=1)"
   ]
  },
  {
   "cell_type": "markdown",
   "metadata": {},
   "source": [
    "#### Разделение 1 региона"
   ]
  },
  {
   "cell_type": "code",
   "execution_count": 170,
   "metadata": {},
   "outputs": [
    {
     "name": "stdout",
     "output_type": "stream",
     "text": [
      "Размер тренировочной выборки- 75%\n",
      "Размер валидационной выборки - 25%\n"
     ]
    }
   ],
   "source": [
    "features_train_0, features_valid_0, target_train_0, target_valid_0 = train_test_split(features_0, target_0, test_size=0.25, random_state=42)\n",
    "procent_valid=target_valid_0.shape[0]/target_0.shape[0]\n",
    "procent_train=target_train_0.shape[0]/target_0.shape[0]\n",
    "\n",
    "print('Размер тренировочной выборки- {:.0%}'.format(procent_train))\n",
    "print('Размер валидационной выборки - {:.0%}'.format(procent_valid))"
   ]
  },
  {
   "cell_type": "markdown",
   "metadata": {},
   "source": [
    "#### Разделение 2 региона"
   ]
  },
  {
   "cell_type": "code",
   "execution_count": 171,
   "metadata": {},
   "outputs": [
    {
     "name": "stdout",
     "output_type": "stream",
     "text": [
      "Размер тренировочной выборки- 75%\n",
      "Размер валидационной выборки - 25%\n"
     ]
    }
   ],
   "source": [
    "features_train_1, features_valid_1, target_train_1, target_valid_1 = train_test_split(features_1, target_1, test_size=0.25, random_state=42)\n",
    "procent_valid=target_valid_1.shape[0]/target_1.shape[0]\n",
    "procent_train=target_train_1.shape[0]/target_1.shape[0]\n",
    "\n",
    "print('Размер тренировочной выборки- {:.0%}'.format(procent_train))\n",
    "print('Размер валидационной выборки - {:.0%}'.format(procent_valid))"
   ]
  },
  {
   "cell_type": "markdown",
   "metadata": {},
   "source": [
    "#### Разделение 3 региона"
   ]
  },
  {
   "cell_type": "code",
   "execution_count": 172,
   "metadata": {},
   "outputs": [
    {
     "name": "stdout",
     "output_type": "stream",
     "text": [
      "Размер тренировочной выборки- 75%\n",
      "Размер валидационной выборки - 25%\n"
     ]
    }
   ],
   "source": [
    "features_train_2, features_valid_2, target_train_2, target_valid_2 = train_test_split(features_2, target_2, test_size=0.25, random_state=42)\n",
    "procent_valid=target_valid_2.shape[0]/target_2.shape[0]\n",
    "procent_train=target_train_2.shape[0]/target_2.shape[0]\n",
    "\n",
    "print('Размер тренировочной выборки- {:.0%}'.format(procent_train))\n",
    "print('Размер валидационной выборки - {:.0%}'.format(procent_valid))"
   ]
  },
  {
   "cell_type": "markdown",
   "metadata": {},
   "source": [
    "### Обучим модель и сделаем предсказания на валидационной выборке.\n",
    "\n",
    "\n",
    "Для оценки качества моделей посчитаем коэффициент детерминации и корень из среднеквадратичной ошибки."
   ]
  },
  {
   "cell_type": "markdown",
   "metadata": {},
   "source": [
    "#### Регион 1"
   ]
  },
  {
   "cell_type": "code",
   "execution_count": 173,
   "metadata": {},
   "outputs": [
    {
     "name": "stdout",
     "output_type": "stream",
     "text": [
      "RMSE 1 региона: 37.75660035026169,\n",
      "R2 1 региона: 0.2728287328173471\n"
     ]
    }
   ],
   "source": [
    "model_0 = LinearRegression()\n",
    "model_0.fit(features_train_0, target_train_0)\n",
    "predicted_0 = model_0.predict(features_valid_0)\n",
    "\n",
    "rmse = mean_squared_error(target_valid_0, predicted_0) ** 0.5\n",
    "r2 = model_0.score(features_valid_0, target_valid_0)\n",
    "print(f'RMSE 1 региона: {rmse},\\nR2 1 региона: {r2}')"
   ]
  },
  {
   "cell_type": "markdown",
   "metadata": {},
   "source": [
    "#### Регион 2"
   ]
  },
  {
   "cell_type": "code",
   "execution_count": 174,
   "metadata": {},
   "outputs": [
    {
     "name": "stdout",
     "output_type": "stream",
     "text": [
      "RMSE 2 региона: 0.890280100102884,\n",
      "R2 2 региона: 0.9996245232002449\n"
     ]
    }
   ],
   "source": [
    "model_1 = LinearRegression()\n",
    "model_1.fit(features_train_1, target_train_1)\n",
    "predicted_1 = model_1.predict(features_valid_1)\n",
    "\n",
    "rmse = mean_squared_error(target_valid_1, predicted_1) ** 0.5\n",
    "r2 = model_1.score(features_valid_1, target_valid_1)\n",
    "\n",
    "print(f'RMSE 2 региона: {rmse},\\nR2 2 региона: {r2}')"
   ]
  },
  {
   "cell_type": "markdown",
   "metadata": {},
   "source": [
    "#### Регион 3"
   ]
  },
  {
   "cell_type": "code",
   "execution_count": 175,
   "metadata": {},
   "outputs": [
    {
     "name": "stdout",
     "output_type": "stream",
     "text": [
      "RMSE 3 региона: 40.145872311342174,\n",
      "R2 3 региона: 0.19634705977280487\n"
     ]
    }
   ],
   "source": [
    "model_2 = LinearRegression()\n",
    "model_2.fit(features_train_2, target_train_2)\n",
    "predicted_2 = model_2.predict(features_valid_2)\n",
    "\n",
    "rmse = mean_squared_error(target_valid_2, predicted_2) ** 0.5\n",
    "r2 = model_2.score(features_valid_2, target_valid_2)\n",
    "\n",
    "print(f'RMSE 3 региона: {rmse},\\nR2 3 региона: {r2}')"
   ]
  },
  {
   "cell_type": "markdown",
   "metadata": {},
   "source": [
    "### Сохраним предсказания и правильные ответы на валидационной выборке."
   ]
  },
  {
   "cell_type": "code",
   "execution_count": 176,
   "metadata": {},
   "outputs": [
    {
     "name": "stdout",
     "output_type": "stream",
     "text": [
      "регион 1:\n",
      "- Предсказания модели: \"predicted_0\"\n",
      "- Правильные ответы: \"target_valid_0\"\n",
      "\n",
      "регион 2:\n",
      "- Предсказания модели: \"predicted_1\"\n",
      "- Правильные ответы: \"target_valid_1\"\n",
      "\n",
      "регион 3:\n",
      "- Предсказания модели: \"predicted_2\"\n",
      "- Правильные ответы: \"target_valid_2\"\n"
     ]
    }
   ],
   "source": [
    "print(f'регион 1:\\n- Предсказания модели: \"predicted_0\"\\n- Правильные ответы: \"target_valid_0\"')\n",
    "print()\n",
    "print(f'регион 2:\\n- Предсказания модели: \"predicted_1\"\\n- Правильные ответы: \"target_valid_1\"')\n",
    "print()\n",
    "print(f'регион 3:\\n- Предсказания модели: \"predicted_2\"\\n- Правильные ответы: \"target_valid_2\"')"
   ]
  },
  {
   "cell_type": "markdown",
   "metadata": {},
   "source": [
    "### Напечатаем на экране средний запас предсказанного сырья и RMSE модели."
   ]
  },
  {
   "cell_type": "code",
   "execution_count": 177,
   "metadata": {},
   "outputs": [
    {
     "name": "stdout",
     "output_type": "stream",
     "text": [
      "регион 1: \n",
      "Средний запас предсказанного сырья: 92.39879990657768\n",
      "RSME модели:      37.75660035026169\n",
      "\n",
      "регион 2: \n",
      "Средний запас предсказанного сырья: 68.71287803913762\n",
      "RSME модели:      0.890280100102884\n",
      "\n",
      "регион 3: \n",
      "Средний запас предсказанного сырья: 94.77102387765939\n",
      "RSME модели:      40.145872311342174\n"
     ]
    }
   ],
   "source": [
    "print(f'регион 1: \\nСредний запас предсказанного сырья: {predicted_0.mean()}\\nRSME модели:\\\n",
    "      {(mean_squared_error(target_valid_0, predicted_0) ** 0.5)}\\n')\n",
    "print(f'регион 2: \\nСредний запас предсказанного сырья: {predicted_1.mean()}\\nRSME модели:\\\n",
    "      {(mean_squared_error(target_valid_1, predicted_1) ** 0.5)}\\n')\n",
    "print(f'регион 3: \\nСредний запас предсказанного сырья: {predicted_2.mean()}\\nRSME модели:\\\n",
    "      {(mean_squared_error(target_valid_2, predicted_2) ** 0.5)}')"
   ]
  },
  {
   "cell_type": "markdown",
   "metadata": {},
   "source": [
    "### Проанализируем результаты."
   ]
  },
  {
   "cell_type": "markdown",
   "metadata": {},
   "source": [
    "Вывод:\n",
    "- Для каждого региона обучили и проверили модель логистической регрессии\n",
    "- Имеем следующие результаты:\n",
    "    - регион 1: \n",
    "        - Средний запас предсказанного сырья: 92.39912564441762\n",
    "        - RSME модели:      37.75679972531727\n",
    "    - регион 2: \n",
    "        - Средний запас предсказанного сырья: 68.7128783572836\n",
    "        - RSME модели:      0.8902625051266332\n",
    "    - регион 3: \n",
    "        - Средний запас предсказанного сырья: 94.77226826114993\n",
    "        - RSME модели:      40.145722882517624\n",
    "- Модель предсказывает почти одинаково высокое ожидание запаса сырья для 1 и 3 региона, а для 2 существенно меньше, величина ошибки во втором регионе тоже существенно отличается от 1 и 3, это связанно с тем, что распределение во втором регионе не имеет нормальное распределение как в 2 других."
   ]
  },
  {
   "cell_type": "markdown",
   "metadata": {},
   "source": [
    "## Подготовка к расчёту прибыли"
   ]
  },
  {
   "cell_type": "markdown",
   "metadata": {},
   "source": [
    "### Все ключевые значения для расчётов сохраним в отдельных переменных."
   ]
  },
  {
   "cell_type": "code",
   "execution_count": 178,
   "metadata": {},
   "outputs": [],
   "source": [
    "ALL_POINTS = 500\n",
    "BEST_POINTS = 200\n",
    "BUDGET = 10_000_000 #Бюджет на разработку скважин в регионе в тыс. р.\n",
    "INCOME_ONE_BAREL = 450 #Доход с каждой единицы продукта в тыс. р.\n",
    "target_probability_losses = .025 # Вероятность убытков\n",
    "product_mean_0 = round(data_0['product'].mean(),2)\n",
    "product_mean_1 = round(data_1['product'].mean(),1)\n",
    "product_mean_2 = round(data_2['product'].mean(),2)"
   ]
  },
  {
   "cell_type": "code",
   "execution_count": 179,
   "metadata": {},
   "outputs": [
    {
     "name": "stdout",
     "output_type": "stream",
     "text": [
      "Cредний ожидаемый запас сырья в 1 регионе: 92.5 млн.баррелей\n",
      "Cредний ожидаемый запас сырья в 2 регионе: 68.8 млн.баррелей\n",
      "Cредний ожидаемый запас сырья в 3 регионе: 95.0 млн.баррелей\n"
     ]
    }
   ],
   "source": [
    "print(f'Cредний ожидаемый запас сырья в 1 регионе: {product_mean_0} млн.баррелей')\n",
    "print(f'Cредний ожидаемый запас сырья в 2 регионе: {product_mean_1} млн.баррелей')\n",
    "print(f'Cредний ожидаемый запас сырья в 3 регионе: {product_mean_2} млн.баррелей')"
   ]
  },
  {
   "cell_type": "code",
   "execution_count": 180,
   "metadata": {},
   "outputs": [
    {
     "name": "stdout",
     "output_type": "stream",
     "text": [
      "Бюджет на разработку одной скважины: 50.0 млн. рублей.\n"
     ]
    }
   ],
   "source": [
    "BUDGET_PER_ONE_POINT=(BUDGET/BEST_POINTS)\n",
    "print(f'Бюджет на разработку одной скважины: {BUDGET_PER_ONE_POINT/1000} млн. рублей.')"
   ]
  },
  {
   "cell_type": "markdown",
   "metadata": {},
   "source": [
    "### Рассчитаем достаточный объём сырья для безубыточной разработки новой скважины. Сравним полученный объём сырья со средним запасом в каждом регионе. "
   ]
  },
  {
   "cell_type": "code",
   "execution_count": 181,
   "metadata": {
    "scrolled": true
   },
   "outputs": [
    {
     "name": "stdout",
     "output_type": "stream",
     "text": [
      "Объём каждой скважины для безубыточной разработки должен составлять не менее: 111.11 тыс.баррелей\n"
     ]
    }
   ],
   "source": [
    "v_prod=BUDGET_PER_ONE_POINT/INCOME_ONE_BAREL\n",
    "print('Объём каждой скважины для безубыточной разработки должен составлять не менее: %.2f'%v_prod,'тыс.баррелей')"
   ]
  },
  {
   "cell_type": "markdown",
   "metadata": {},
   "source": [
    "#### Сравним полученный объём сырья со средним запасом в 1 регионе"
   ]
  },
  {
   "cell_type": "code",
   "execution_count": 182,
   "metadata": {},
   "outputs": [
    {
     "data": {
      "text/html": [
       "<div>\n",
       "<style scoped>\n",
       "    .dataframe tbody tr th:only-of-type {\n",
       "        vertical-align: middle;\n",
       "    }\n",
       "\n",
       "    .dataframe tbody tr th {\n",
       "        vertical-align: top;\n",
       "    }\n",
       "\n",
       "    .dataframe thead th {\n",
       "        text-align: right;\n",
       "    }\n",
       "</style>\n",
       "<table border=\"1\" class=\"dataframe\">\n",
       "  <thead>\n",
       "    <tr style=\"text-align: right;\">\n",
       "      <th></th>\n",
       "      <th>f0</th>\n",
       "      <th>f1</th>\n",
       "      <th>f2</th>\n",
       "      <th>product</th>\n",
       "      <th>profit</th>\n",
       "    </tr>\n",
       "  </thead>\n",
       "  <tbody>\n",
       "    <tr>\n",
       "      <th>0</th>\n",
       "      <td>0.705745</td>\n",
       "      <td>-0.497823</td>\n",
       "      <td>1.221170</td>\n",
       "      <td>105.280062</td>\n",
       "      <td>47376.03</td>\n",
       "    </tr>\n",
       "    <tr>\n",
       "      <th>1</th>\n",
       "      <td>1.334711</td>\n",
       "      <td>-0.340164</td>\n",
       "      <td>4.365080</td>\n",
       "      <td>73.037750</td>\n",
       "      <td>32866.99</td>\n",
       "    </tr>\n",
       "    <tr>\n",
       "      <th>2</th>\n",
       "      <td>1.022732</td>\n",
       "      <td>0.151990</td>\n",
       "      <td>1.419926</td>\n",
       "      <td>85.265647</td>\n",
       "      <td>38369.54</td>\n",
       "    </tr>\n",
       "    <tr>\n",
       "      <th>3</th>\n",
       "      <td>-0.032172</td>\n",
       "      <td>0.139033</td>\n",
       "      <td>2.978566</td>\n",
       "      <td>168.620776</td>\n",
       "      <td>75879.35</td>\n",
       "    </tr>\n",
       "    <tr>\n",
       "      <th>4</th>\n",
       "      <td>1.988431</td>\n",
       "      <td>0.155413</td>\n",
       "      <td>4.751769</td>\n",
       "      <td>154.036647</td>\n",
       "      <td>69316.49</td>\n",
       "    </tr>\n",
       "  </tbody>\n",
       "</table>\n",
       "</div>"
      ],
      "text/plain": [
       "         f0        f1        f2     product    profit\n",
       "0  0.705745 -0.497823  1.221170  105.280062  47376.03\n",
       "1  1.334711 -0.340164  4.365080   73.037750  32866.99\n",
       "2  1.022732  0.151990  1.419926   85.265647  38369.54\n",
       "3 -0.032172  0.139033  2.978566  168.620776  75879.35\n",
       "4  1.988431  0.155413  4.751769  154.036647  69316.49"
      ]
     },
     "execution_count": 182,
     "metadata": {},
     "output_type": "execute_result"
    }
   ],
   "source": [
    "data_0['profit']=(data_0['product']*(INCOME_ONE_BAREL)).round(2) # profit, тыс.руб\n",
    "data_0.head()"
   ]
  },
  {
   "cell_type": "markdown",
   "metadata": {},
   "source": [
    "**Определим значение ROI (return on investmen) для каждой скважины**"
   ]
  },
  {
   "cell_type": "code",
   "execution_count": 183,
   "metadata": {},
   "outputs": [
    {
     "data": {
      "text/html": [
       "<div>\n",
       "<style scoped>\n",
       "    .dataframe tbody tr th:only-of-type {\n",
       "        vertical-align: middle;\n",
       "    }\n",
       "\n",
       "    .dataframe tbody tr th {\n",
       "        vertical-align: top;\n",
       "    }\n",
       "\n",
       "    .dataframe thead th {\n",
       "        text-align: right;\n",
       "    }\n",
       "</style>\n",
       "<table border=\"1\" class=\"dataframe\">\n",
       "  <thead>\n",
       "    <tr style=\"text-align: right;\">\n",
       "      <th></th>\n",
       "      <th>f0</th>\n",
       "      <th>f1</th>\n",
       "      <th>f2</th>\n",
       "      <th>product</th>\n",
       "      <th>profit</th>\n",
       "      <th>ROI</th>\n",
       "    </tr>\n",
       "  </thead>\n",
       "  <tbody>\n",
       "    <tr>\n",
       "      <th>0</th>\n",
       "      <td>0.705745</td>\n",
       "      <td>-0.497823</td>\n",
       "      <td>1.221170</td>\n",
       "      <td>105.280062</td>\n",
       "      <td>47376.03</td>\n",
       "      <td>-0.05</td>\n",
       "    </tr>\n",
       "    <tr>\n",
       "      <th>1</th>\n",
       "      <td>1.334711</td>\n",
       "      <td>-0.340164</td>\n",
       "      <td>4.365080</td>\n",
       "      <td>73.037750</td>\n",
       "      <td>32866.99</td>\n",
       "      <td>-0.34</td>\n",
       "    </tr>\n",
       "    <tr>\n",
       "      <th>2</th>\n",
       "      <td>1.022732</td>\n",
       "      <td>0.151990</td>\n",
       "      <td>1.419926</td>\n",
       "      <td>85.265647</td>\n",
       "      <td>38369.54</td>\n",
       "      <td>-0.23</td>\n",
       "    </tr>\n",
       "    <tr>\n",
       "      <th>3</th>\n",
       "      <td>-0.032172</td>\n",
       "      <td>0.139033</td>\n",
       "      <td>2.978566</td>\n",
       "      <td>168.620776</td>\n",
       "      <td>75879.35</td>\n",
       "      <td>0.52</td>\n",
       "    </tr>\n",
       "    <tr>\n",
       "      <th>4</th>\n",
       "      <td>1.988431</td>\n",
       "      <td>0.155413</td>\n",
       "      <td>4.751769</td>\n",
       "      <td>154.036647</td>\n",
       "      <td>69316.49</td>\n",
       "      <td>0.39</td>\n",
       "    </tr>\n",
       "  </tbody>\n",
       "</table>\n",
       "</div>"
      ],
      "text/plain": [
       "         f0        f1        f2     product    profit   ROI\n",
       "0  0.705745 -0.497823  1.221170  105.280062  47376.03 -0.05\n",
       "1  1.334711 -0.340164  4.365080   73.037750  32866.99 -0.34\n",
       "2  1.022732  0.151990  1.419926   85.265647  38369.54 -0.23\n",
       "3 -0.032172  0.139033  2.978566  168.620776  75879.35  0.52\n",
       "4  1.988431  0.155413  4.751769  154.036647  69316.49  0.39"
      ]
     },
     "execution_count": 183,
     "metadata": {},
     "output_type": "execute_result"
    }
   ],
   "source": [
    "data_0['ROI']=((data_0['profit']-BUDGET_PER_ONE_POINT)/BUDGET_PER_ONE_POINT).round(2)\n",
    "data_0.head()"
   ]
  },
  {
   "cell_type": "code",
   "execution_count": 184,
   "metadata": {},
   "outputs": [
    {
     "name": "stdout",
     "output_type": "stream",
     "text": [
      "Cреднее значение ROI для 1 региона: -0.168\n"
     ]
    }
   ],
   "source": [
    "ROI_0 = data_0['ROI'].mean().round(3)\n",
    "\n",
    "print(f'Cреднее значение ROI для 1 региона: {ROI_0}')"
   ]
  },
  {
   "cell_type": "code",
   "execution_count": 185,
   "metadata": {},
   "outputs": [
    {
     "name": "stdout",
     "output_type": "stream",
     "text": [
      "Разница объёма сырья для безубыточной разработки скважины относительно среднего значения по 1 региону составляет: \n",
      "-16.75%\n",
      "Или 18.61 тыс.баррелей\n"
     ]
    }
   ],
   "source": [
    "print('Разница объёма сырья для безубыточной разработки скважины относительно среднего значения по 1 региону составляет: \\n{:.2%}'.format(product_mean_0/v_prod-1))\n",
    "print('Или {:.2f} тыс.баррелей'.format(v_prod-product_mean_0))"
   ]
  },
  {
   "cell_type": "markdown",
   "metadata": {},
   "source": [
    "#### Сравним полученный объём сырья со средним запасом в 2 регионе"
   ]
  },
  {
   "cell_type": "code",
   "execution_count": 186,
   "metadata": {},
   "outputs": [
    {
     "data": {
      "text/html": [
       "<div>\n",
       "<style scoped>\n",
       "    .dataframe tbody tr th:only-of-type {\n",
       "        vertical-align: middle;\n",
       "    }\n",
       "\n",
       "    .dataframe tbody tr th {\n",
       "        vertical-align: top;\n",
       "    }\n",
       "\n",
       "    .dataframe thead th {\n",
       "        text-align: right;\n",
       "    }\n",
       "</style>\n",
       "<table border=\"1\" class=\"dataframe\">\n",
       "  <thead>\n",
       "    <tr style=\"text-align: right;\">\n",
       "      <th></th>\n",
       "      <th>f0</th>\n",
       "      <th>f1</th>\n",
       "      <th>f2</th>\n",
       "      <th>product</th>\n",
       "      <th>profit</th>\n",
       "    </tr>\n",
       "  </thead>\n",
       "  <tbody>\n",
       "    <tr>\n",
       "      <th>0</th>\n",
       "      <td>-15.001348</td>\n",
       "      <td>-8.276000</td>\n",
       "      <td>-0.005876</td>\n",
       "      <td>3.179103</td>\n",
       "      <td>1430.60</td>\n",
       "    </tr>\n",
       "    <tr>\n",
       "      <th>1</th>\n",
       "      <td>14.272088</td>\n",
       "      <td>-3.475083</td>\n",
       "      <td>0.999183</td>\n",
       "      <td>26.953261</td>\n",
       "      <td>12128.97</td>\n",
       "    </tr>\n",
       "    <tr>\n",
       "      <th>2</th>\n",
       "      <td>6.263187</td>\n",
       "      <td>-5.948386</td>\n",
       "      <td>5.001160</td>\n",
       "      <td>134.766305</td>\n",
       "      <td>60644.84</td>\n",
       "    </tr>\n",
       "    <tr>\n",
       "      <th>3</th>\n",
       "      <td>-13.081196</td>\n",
       "      <td>-11.506057</td>\n",
       "      <td>4.999415</td>\n",
       "      <td>137.945408</td>\n",
       "      <td>62075.43</td>\n",
       "    </tr>\n",
       "    <tr>\n",
       "      <th>4</th>\n",
       "      <td>12.702195</td>\n",
       "      <td>-8.147433</td>\n",
       "      <td>5.004363</td>\n",
       "      <td>134.766305</td>\n",
       "      <td>60644.84</td>\n",
       "    </tr>\n",
       "  </tbody>\n",
       "</table>\n",
       "</div>"
      ],
      "text/plain": [
       "          f0         f1        f2     product    profit\n",
       "0 -15.001348  -8.276000 -0.005876    3.179103   1430.60\n",
       "1  14.272088  -3.475083  0.999183   26.953261  12128.97\n",
       "2   6.263187  -5.948386  5.001160  134.766305  60644.84\n",
       "3 -13.081196 -11.506057  4.999415  137.945408  62075.43\n",
       "4  12.702195  -8.147433  5.004363  134.766305  60644.84"
      ]
     },
     "execution_count": 186,
     "metadata": {},
     "output_type": "execute_result"
    }
   ],
   "source": [
    "data_1['profit']=(data_1['product']*INCOME_ONE_BAREL).round(2) # profit, тыс.руб\n",
    "data_1.head()"
   ]
  },
  {
   "cell_type": "code",
   "execution_count": 187,
   "metadata": {
    "scrolled": true
   },
   "outputs": [
    {
     "data": {
      "text/html": [
       "<div>\n",
       "<style scoped>\n",
       "    .dataframe tbody tr th:only-of-type {\n",
       "        vertical-align: middle;\n",
       "    }\n",
       "\n",
       "    .dataframe tbody tr th {\n",
       "        vertical-align: top;\n",
       "    }\n",
       "\n",
       "    .dataframe thead th {\n",
       "        text-align: right;\n",
       "    }\n",
       "</style>\n",
       "<table border=\"1\" class=\"dataframe\">\n",
       "  <thead>\n",
       "    <tr style=\"text-align: right;\">\n",
       "      <th></th>\n",
       "      <th>f0</th>\n",
       "      <th>f1</th>\n",
       "      <th>f2</th>\n",
       "      <th>product</th>\n",
       "      <th>profit</th>\n",
       "      <th>ROI</th>\n",
       "    </tr>\n",
       "  </thead>\n",
       "  <tbody>\n",
       "    <tr>\n",
       "      <th>0</th>\n",
       "      <td>-15.001348</td>\n",
       "      <td>-8.276000</td>\n",
       "      <td>-0.005876</td>\n",
       "      <td>3.179103</td>\n",
       "      <td>1430.60</td>\n",
       "      <td>-0.97</td>\n",
       "    </tr>\n",
       "    <tr>\n",
       "      <th>1</th>\n",
       "      <td>14.272088</td>\n",
       "      <td>-3.475083</td>\n",
       "      <td>0.999183</td>\n",
       "      <td>26.953261</td>\n",
       "      <td>12128.97</td>\n",
       "      <td>-0.76</td>\n",
       "    </tr>\n",
       "    <tr>\n",
       "      <th>2</th>\n",
       "      <td>6.263187</td>\n",
       "      <td>-5.948386</td>\n",
       "      <td>5.001160</td>\n",
       "      <td>134.766305</td>\n",
       "      <td>60644.84</td>\n",
       "      <td>0.21</td>\n",
       "    </tr>\n",
       "    <tr>\n",
       "      <th>3</th>\n",
       "      <td>-13.081196</td>\n",
       "      <td>-11.506057</td>\n",
       "      <td>4.999415</td>\n",
       "      <td>137.945408</td>\n",
       "      <td>62075.43</td>\n",
       "      <td>0.24</td>\n",
       "    </tr>\n",
       "    <tr>\n",
       "      <th>4</th>\n",
       "      <td>12.702195</td>\n",
       "      <td>-8.147433</td>\n",
       "      <td>5.004363</td>\n",
       "      <td>134.766305</td>\n",
       "      <td>60644.84</td>\n",
       "      <td>0.21</td>\n",
       "    </tr>\n",
       "  </tbody>\n",
       "</table>\n",
       "</div>"
      ],
      "text/plain": [
       "          f0         f1        f2     product    profit   ROI\n",
       "0 -15.001348  -8.276000 -0.005876    3.179103   1430.60 -0.97\n",
       "1  14.272088  -3.475083  0.999183   26.953261  12128.97 -0.76\n",
       "2   6.263187  -5.948386  5.001160  134.766305  60644.84  0.21\n",
       "3 -13.081196 -11.506057  4.999415  137.945408  62075.43  0.24\n",
       "4  12.702195  -8.147433  5.004363  134.766305  60644.84  0.21"
      ]
     },
     "execution_count": 187,
     "metadata": {},
     "output_type": "execute_result"
    }
   ],
   "source": [
    "data_1['ROI']=((data_1['profit']-BUDGET_PER_ONE_POINT)/BUDGET_PER_ONE_POINT).round(2)\n",
    "data_1.head()"
   ]
  },
  {
   "cell_type": "code",
   "execution_count": 188,
   "metadata": {},
   "outputs": [
    {
     "name": "stdout",
     "output_type": "stream",
     "text": [
      "Cреднее значение ROI для 2 региона: -0.38\n"
     ]
    }
   ],
   "source": [
    "ROI_1 = data_1['ROI'].mean().round(3)\n",
    "\n",
    "print(f'Cреднее значение ROI для 2 региона: {ROI_1}')"
   ]
  },
  {
   "cell_type": "code",
   "execution_count": 189,
   "metadata": {},
   "outputs": [
    {
     "name": "stdout",
     "output_type": "stream",
     "text": [
      "Разница объёма сырья для безубыточной разработки скважины относительно среднего значения по 2 региону составляет: -38.08%\n",
      "Или 42.31 тыс.баррелей\n"
     ]
    }
   ],
   "source": [
    "print('Разница объёма сырья для безубыточной разработки скважины относительно среднего значения по 2 региону составляет: {:.2%}'.format(product_mean_1/v_prod-1))\n",
    "print('Или {:.2f} тыс.баррелей'.format(v_prod-product_mean_1))"
   ]
  },
  {
   "cell_type": "markdown",
   "metadata": {},
   "source": [
    "#### Сравним полученный объём сырья со средним запасом в 3 регионе"
   ]
  },
  {
   "cell_type": "code",
   "execution_count": 190,
   "metadata": {},
   "outputs": [
    {
     "data": {
      "text/html": [
       "<div>\n",
       "<style scoped>\n",
       "    .dataframe tbody tr th:only-of-type {\n",
       "        vertical-align: middle;\n",
       "    }\n",
       "\n",
       "    .dataframe tbody tr th {\n",
       "        vertical-align: top;\n",
       "    }\n",
       "\n",
       "    .dataframe thead th {\n",
       "        text-align: right;\n",
       "    }\n",
       "</style>\n",
       "<table border=\"1\" class=\"dataframe\">\n",
       "  <thead>\n",
       "    <tr style=\"text-align: right;\">\n",
       "      <th></th>\n",
       "      <th>f0</th>\n",
       "      <th>f1</th>\n",
       "      <th>f2</th>\n",
       "      <th>product</th>\n",
       "      <th>profit</th>\n",
       "    </tr>\n",
       "  </thead>\n",
       "  <tbody>\n",
       "    <tr>\n",
       "      <th>0</th>\n",
       "      <td>-1.146987</td>\n",
       "      <td>0.963328</td>\n",
       "      <td>-0.828965</td>\n",
       "      <td>27.758673</td>\n",
       "      <td>12491.40</td>\n",
       "    </tr>\n",
       "    <tr>\n",
       "      <th>1</th>\n",
       "      <td>0.262778</td>\n",
       "      <td>0.269839</td>\n",
       "      <td>-2.530187</td>\n",
       "      <td>56.069697</td>\n",
       "      <td>25231.36</td>\n",
       "    </tr>\n",
       "    <tr>\n",
       "      <th>2</th>\n",
       "      <td>0.194587</td>\n",
       "      <td>0.289035</td>\n",
       "      <td>-5.586433</td>\n",
       "      <td>62.871910</td>\n",
       "      <td>28292.36</td>\n",
       "    </tr>\n",
       "    <tr>\n",
       "      <th>3</th>\n",
       "      <td>2.236060</td>\n",
       "      <td>-0.553760</td>\n",
       "      <td>0.930038</td>\n",
       "      <td>114.572842</td>\n",
       "      <td>51557.78</td>\n",
       "    </tr>\n",
       "    <tr>\n",
       "      <th>4</th>\n",
       "      <td>-0.515993</td>\n",
       "      <td>1.716266</td>\n",
       "      <td>5.899011</td>\n",
       "      <td>149.600746</td>\n",
       "      <td>67320.34</td>\n",
       "    </tr>\n",
       "  </tbody>\n",
       "</table>\n",
       "</div>"
      ],
      "text/plain": [
       "         f0        f1        f2     product    profit\n",
       "0 -1.146987  0.963328 -0.828965   27.758673  12491.40\n",
       "1  0.262778  0.269839 -2.530187   56.069697  25231.36\n",
       "2  0.194587  0.289035 -5.586433   62.871910  28292.36\n",
       "3  2.236060 -0.553760  0.930038  114.572842  51557.78\n",
       "4 -0.515993  1.716266  5.899011  149.600746  67320.34"
      ]
     },
     "execution_count": 190,
     "metadata": {},
     "output_type": "execute_result"
    }
   ],
   "source": [
    "data_2['profit']=(data_2['product']*INCOME_ONE_BAREL).round(2) # profit, тыс.руб\n",
    "data_2.head()"
   ]
  },
  {
   "cell_type": "code",
   "execution_count": 191,
   "metadata": {},
   "outputs": [
    {
     "data": {
      "text/html": [
       "<div>\n",
       "<style scoped>\n",
       "    .dataframe tbody tr th:only-of-type {\n",
       "        vertical-align: middle;\n",
       "    }\n",
       "\n",
       "    .dataframe tbody tr th {\n",
       "        vertical-align: top;\n",
       "    }\n",
       "\n",
       "    .dataframe thead th {\n",
       "        text-align: right;\n",
       "    }\n",
       "</style>\n",
       "<table border=\"1\" class=\"dataframe\">\n",
       "  <thead>\n",
       "    <tr style=\"text-align: right;\">\n",
       "      <th></th>\n",
       "      <th>f0</th>\n",
       "      <th>f1</th>\n",
       "      <th>f2</th>\n",
       "      <th>product</th>\n",
       "      <th>profit</th>\n",
       "      <th>ROI</th>\n",
       "    </tr>\n",
       "  </thead>\n",
       "  <tbody>\n",
       "    <tr>\n",
       "      <th>0</th>\n",
       "      <td>-1.146987</td>\n",
       "      <td>0.963328</td>\n",
       "      <td>-0.828965</td>\n",
       "      <td>27.758673</td>\n",
       "      <td>12491.40</td>\n",
       "      <td>-0.75</td>\n",
       "    </tr>\n",
       "    <tr>\n",
       "      <th>1</th>\n",
       "      <td>0.262778</td>\n",
       "      <td>0.269839</td>\n",
       "      <td>-2.530187</td>\n",
       "      <td>56.069697</td>\n",
       "      <td>25231.36</td>\n",
       "      <td>-0.50</td>\n",
       "    </tr>\n",
       "    <tr>\n",
       "      <th>2</th>\n",
       "      <td>0.194587</td>\n",
       "      <td>0.289035</td>\n",
       "      <td>-5.586433</td>\n",
       "      <td>62.871910</td>\n",
       "      <td>28292.36</td>\n",
       "      <td>-0.43</td>\n",
       "    </tr>\n",
       "    <tr>\n",
       "      <th>3</th>\n",
       "      <td>2.236060</td>\n",
       "      <td>-0.553760</td>\n",
       "      <td>0.930038</td>\n",
       "      <td>114.572842</td>\n",
       "      <td>51557.78</td>\n",
       "      <td>0.03</td>\n",
       "    </tr>\n",
       "    <tr>\n",
       "      <th>4</th>\n",
       "      <td>-0.515993</td>\n",
       "      <td>1.716266</td>\n",
       "      <td>5.899011</td>\n",
       "      <td>149.600746</td>\n",
       "      <td>67320.34</td>\n",
       "      <td>0.35</td>\n",
       "    </tr>\n",
       "  </tbody>\n",
       "</table>\n",
       "</div>"
      ],
      "text/plain": [
       "         f0        f1        f2     product    profit   ROI\n",
       "0 -1.146987  0.963328 -0.828965   27.758673  12491.40 -0.75\n",
       "1  0.262778  0.269839 -2.530187   56.069697  25231.36 -0.50\n",
       "2  0.194587  0.289035 -5.586433   62.871910  28292.36 -0.43\n",
       "3  2.236060 -0.553760  0.930038  114.572842  51557.78  0.03\n",
       "4 -0.515993  1.716266  5.899011  149.600746  67320.34  0.35"
      ]
     },
     "execution_count": 191,
     "metadata": {},
     "output_type": "execute_result"
    }
   ],
   "source": [
    "data_2['ROI']=((data_2['profit']-BUDGET_PER_ONE_POINT)/BUDGET_PER_ONE_POINT).round(2)\n",
    "data_2.head()"
   ]
  },
  {
   "cell_type": "code",
   "execution_count": 192,
   "metadata": {},
   "outputs": [
    {
     "name": "stdout",
     "output_type": "stream",
     "text": [
      "Cреднее значение ROI для 3 региона: -0.145\n"
     ]
    }
   ],
   "source": [
    "ROI_2 = data_2['ROI'].mean().round(3)\n",
    "\n",
    "print(f'Cреднее значение ROI для 3 региона: {ROI_2}')"
   ]
  },
  {
   "cell_type": "code",
   "execution_count": 193,
   "metadata": {},
   "outputs": [
    {
     "name": "stdout",
     "output_type": "stream",
     "text": [
      "Разница объёма сырья для безубыточной разработки скважины относительно среднего значения по 3 региону составляет: -14.50%\n",
      "Или 16.11 тыс.баррелей\n"
     ]
    }
   ],
   "source": [
    "print('Разница объёма сырья для безубыточной разработки скважины относительно среднего значения по 3 региону составляет: {:.2%}'.format(product_mean_2/v_prod-1))\n",
    "print('Или {:.2f} тыс.баррелей'.format(v_prod-product_mean_2))"
   ]
  },
  {
   "cell_type": "markdown",
   "metadata": {},
   "source": [
    "### Напишем выводы по этапу подготовки расчёта прибыли."
   ]
  },
  {
   "cell_type": "markdown",
   "metadata": {},
   "source": [
    "Вывод:\n",
    "- Для окупаемости скважена должна приносить не меньше 111,11 тыс барылей\n",
    "- в первом регионе добывается на 18.61 тыс.баррелей меньше\n",
    "- во втором регионе добывается на 42.31 тыс.баррелей меньше\n",
    "- в третьем регионе добывается на 16.11 тыс.баррелей меньше\n",
    "- Для окупаемости среднего значения не хватает"
   ]
  },
  {
   "cell_type": "markdown",
   "metadata": {},
   "source": [
    "# Напишем функцию для расчёта прибыли по выбранным скважинам и предсказаниям модели:\n"
   ]
  },
  {
   "cell_type": "markdown",
   "metadata": {},
   "source": [
    "### Выберите скважины с максимальными значениями предсказаний.¶"
   ]
  },
  {
   "cell_type": "code",
   "execution_count": 194,
   "metadata": {},
   "outputs": [
    {
     "data": {
      "text/plain": [
       "array([101.90101715,  78.21777385, 115.26690103, ...,  82.54439653,\n",
       "        81.82668931,  93.12106221])"
      ]
     },
     "execution_count": 194,
     "metadata": {},
     "output_type": "execute_result"
    }
   ],
   "source": [
    "predicted_0"
   ]
  },
  {
   "cell_type": "markdown",
   "metadata": {},
   "source": [
    "Индексы скважин привяжем к предсказаниям модели и отсорируем список"
   ]
  },
  {
   "cell_type": "code",
   "execution_count": 195,
   "metadata": {},
   "outputs": [
    {
     "data": {
      "text/plain": [
       "46784    176.536104\n",
       "27658    176.274510\n",
       "6496     173.249504\n",
       "65743    172.802708\n",
       "93716    172.744977\n",
       "            ...    \n",
       "14042    146.952653\n",
       "65925    146.948764\n",
       "65549    146.947483\n",
       "9462     146.946515\n",
       "39838    146.874947\n",
       "Length: 200, dtype: float64"
      ]
     },
     "execution_count": 195,
     "metadata": {},
     "output_type": "execute_result"
    }
   ],
   "source": [
    "probs_sorted_0 = pd.Series(predicted_0, index=target_valid_0.index).sort_values(ascending=False)\n",
    "selected_max_0 = probs_sorted_0[:200]\n",
    "selected_max_0"
   ]
  },
  {
   "cell_type": "markdown",
   "metadata": {},
   "source": [
    "### Просуммируйте целевое значение объёма сырья, соответствующее этим предсказаниям."
   ]
  },
  {
   "cell_type": "markdown",
   "metadata": {},
   "source": [
    "Выберем 200 скважен с наибольшими показателями добываемого сырья для максимизации доходов"
   ]
  },
  {
   "cell_type": "code",
   "execution_count": 196,
   "metadata": {},
   "outputs": [
    {
     "name": "stdout",
     "output_type": "stream",
     "text": [
      "Суммарный запас сырья в 200 лучших скважинах составит: 30881.46 тыс.баррелей\n"
     ]
    }
   ],
   "source": [
    "selected_max_0_sum = selected_max_0.sum()\n",
    "print('Суммарный запас сырья в 200 лучших скважинах составит: %.2f тыс.баррелей'%selected_max_0_sum)"
   ]
  },
  {
   "cell_type": "markdown",
   "metadata": {},
   "source": [
    "###  Рассчитайте прибыль для полученного объёма сырья."
   ]
  },
  {
   "cell_type": "code",
   "execution_count": 197,
   "metadata": {},
   "outputs": [
    {
     "name": "stdout",
     "output_type": "stream",
     "text": [
      "Прибыль для полученного объёма сырья с 200 лучших точек 1 региона составит 3896658.48 тыс.рублей\n"
     ]
    }
   ],
   "source": [
    "profit_pred_0=(selected_max_0_sum*INCOME_ONE_BAREL)-BUDGET\n",
    "print('Прибыль для полученного объёма сырья с 200 лучших точек 1 региона составит %.2f тыс.рублей'%profit_pred_0)"
   ]
  },
  {
   "cell_type": "markdown",
   "metadata": {},
   "source": [
    "*Функция для подсчета прибыли с каждого региона на 200 лучших точках*"
   ]
  },
  {
   "cell_type": "code",
   "execution_count": 198,
   "metadata": {},
   "outputs": [],
   "source": [
    "def income(predicted,target,count=200):\n",
    "    probs_sorted = pd.Series(predicted, index=target.index).sort_values(ascending=False)\n",
    "    selected_max = probs_sorted[:count].sum()\n",
    "    profit_pred=(selected_max*INCOME_ONE_BAREL)-BUDGET\n",
    "    print('Суммарный запас сырья в 200 лучших скважинах составит: %.2f тыс.баррелей'%selected_max)\n",
    "    print('Прибыль для полученного объёма сырья составит %.2f млн.рублей'%(profit_pred/1000))"
   ]
  },
  {
   "cell_type": "code",
   "execution_count": 199,
   "metadata": {},
   "outputs": [],
   "source": [
    "def income(target, predicted, COUNT):\n",
    "    preds_sorted = pd.Series(predicted, index=target.index).sort_values(ascending=False)\n",
    "    selected = target[preds_sorted.index][:COUNT].sum()\n",
    "    profit_pred= INCOME_ONE_BAREL * selected - BUDGET\n",
    "    print('Суммарный запас сырья в 200 лучших скважинах составит: %.2f тыс.баррелей'%selected)\n",
    "    print('Прибыль для полученного объёма сырья составит %.2f млн.рублей'%(profit_pred/1000))"
   ]
  },
  {
   "cell_type": "markdown",
   "metadata": {},
   "source": [
    "#### Прибыль в 1 регионе"
   ]
  },
  {
   "cell_type": "code",
   "execution_count": 200,
   "metadata": {},
   "outputs": [
    {
     "name": "stdout",
     "output_type": "stream",
     "text": [
      "Суммарный запас сырья в 200 лучших скважинах составит: 29686.98 тыс.баррелей\n",
      "Прибыль для полученного объёма сырья составит 3359.14 млн.рублей\n"
     ]
    }
   ],
   "source": [
    "income(target_valid_0, predicted_0, BEST_POINTS)"
   ]
  },
  {
   "cell_type": "markdown",
   "metadata": {},
   "source": [
    "#### Прибыль в 2 регионе"
   ]
  },
  {
   "cell_type": "code",
   "execution_count": 201,
   "metadata": {},
   "outputs": [
    {
     "name": "stdout",
     "output_type": "stream",
     "text": [
      "Суммарный запас сырья в 200 лучших скважинах составит: 27589.08 тыс.баррелей\n",
      "Прибыль для полученного объёма сырья составит 2415.09 млн.рублей\n"
     ]
    }
   ],
   "source": [
    "income(target_valid_1, predicted_1, BEST_POINTS)"
   ]
  },
  {
   "cell_type": "markdown",
   "metadata": {},
   "source": [
    "#### Прибыль в 3 регионе"
   ]
  },
  {
   "cell_type": "code",
   "execution_count": 202,
   "metadata": {},
   "outputs": [
    {
     "name": "stdout",
     "output_type": "stream",
     "text": [
      "Суммарный запас сырья в 200 лучших скважинах составит: 27996.83 тыс.баррелей\n",
      "Прибыль для полученного объёма сырья составит 2598.57 млн.рублей\n"
     ]
    }
   ],
   "source": [
    "income(target_valid_2, predicted_2, BEST_POINTS)"
   ]
  },
  {
   "cell_type": "markdown",
   "metadata": {},
   "source": [
    "Вывод: \n",
    "- При выборе лучших 200 точек каждый регион может окупиться\n",
    "- Самый ресурсный 1 регион имеет на лучших 200 точках:\n",
    "    - 27748.75 тыс.баррелей\n",
    "    - Прибыль с которых составит 3896.88 млн.рублей"
   ]
  },
  {
   "cell_type": "markdown",
   "metadata": {},
   "source": [
    "## Расчёт прибыли и рисков "
   ]
  },
  {
   "cell_type": "markdown",
   "metadata": {},
   "source": [
    "### Применим технику Bootstrap с 1000 выборок, чтобы найти распределение прибыли."
   ]
  },
  {
   "cell_type": "markdown",
   "metadata": {},
   "source": [
    "### Найдем среднюю прибыль, 95%-й доверительный интервал и риск убытков. Убыток — это отрицательная прибыль."
   ]
  },
  {
   "cell_type": "code",
   "execution_count": 203,
   "metadata": {},
   "outputs": [],
   "source": [
    "def profit_for_vp2(predicted,target,count):\n",
    "    probs_sorted = pd.Series(predicted).sort_values(ascending=False)\n",
    "    selected_points = target[probs_sorted.index][:count]\n",
    "    product = selected_points.sum()\n",
    "    revenue = product * INCOME_ONE_BAREL\n",
    "    return revenue - BUDGET"
   ]
  },
  {
   "cell_type": "code",
   "execution_count": 204,
   "metadata": {},
   "outputs": [],
   "source": [
    "def bootstrap_1000(target,predict):\n",
    "    values = []\n",
    "    count=0\n",
    "    state = np.random.RandomState(12345)\n",
    "    predict_e = pd.Series(predict, index=target.index)\n",
    "    \n",
    "    for i in tqdm(range(1000)):\n",
    "        target_subsample = target.sample(n=500,replace=True, random_state=state)\n",
    "  \n",
    "        probs_subsample = predict_e[target_subsample.index]\n",
    "        values.append(profit_for_vp2(probs_subsample,target_subsample, 200))  \n",
    "    for i in values:\n",
    "        if i < 0:\n",
    "            count +=1\n",
    "            \n",
    "    values = pd.Series(values)\n",
    "    mean = values.mean()\n",
    "    confidence_interval = st.t.interval(0.95, len(values)-1, values.mean(), values.sem())\n",
    "    \n",
    "    #plt.title('Распределение прибыли')\n",
    "    values.plot(kind=\"hist\", grid=True, figsize=(16,10))\n",
    "    plt.xlabel('Прибыль, тыс.руб')\n",
    "    plt.ylabel('Количество')\n",
    "    plt.show()\n",
    "    \n",
    "    low_95 = values.quantile(0.025)\n",
    "    high_95 = values.quantile(0.975)\n",
    "    \n",
    "    print(\"Средняя прибыль: {:.2f} млн.руб\".format(mean/1000))\n",
    "    print('С вероятностью 95% прибыль в данном регионе будет составлять от: {:.2f} млн.руб до: {:.2f} млн.руб'.format((low_95/1000),(high_95/1000)))\n",
    "    print(\"95%-ый доверительный интервал: от {:.2f} млн.руб до {:.2f} млн.руб\". format((confidence_interval[0]/1000),(confidence_interval[1]/1000)))\n",
    "    print ('Процент вероятности убытка в данном регионе составит {:.1%}'.format(count/1000))"
   ]
  },
  {
   "cell_type": "markdown",
   "metadata": {},
   "source": [
    "#### Первый регион"
   ]
  },
  {
   "cell_type": "code",
   "execution_count": 205,
   "metadata": {},
   "outputs": [
    {
     "data": {
      "application/vnd.jupyter.widget-view+json": {
       "model_id": "19a8baf787d442d39ce80032132c2c8f",
       "version_major": 2,
       "version_minor": 0
      },
      "text/plain": [
       "  0%|          | 0/1000 [00:00<?, ?it/s]"
      ]
     },
     "metadata": {},
     "output_type": "display_data"
    },
    {
     "data": {
      "image/png": "[encoded data removed]",
      "text/plain": [
       "<Figure size 1152x720 with 1 Axes>"
      ]
     },
     "metadata": {
      "needs_background": "light"
     },
     "output_type": "display_data"
    },
    {
     "name": "stdout",
     "output_type": "stream",
     "text": [
      "Средняя прибыль: 435.93 млн.руб\n",
      "С вероятностью 95% прибыль в данном регионе будет составлять от: -116.23 млн.руб до: 966.50 млн.руб\n",
      "95%-ый доверительный интервал: от 418.76 млн.руб до 453.11 млн.руб\n",
      "Процент вероятности убытка в данном регионе составит 6.1%\n"
     ]
    }
   ],
   "source": [
    "bootstrap_1000(target_valid_0,predicted_0)"
   ]
  },
  {
   "cell_type": "markdown",
   "metadata": {},
   "source": [
    "#### Второй регион"
   ]
  },
  {
   "cell_type": "code",
   "execution_count": 206,
   "metadata": {},
   "outputs": [
    {
     "data": {
      "application/vnd.jupyter.widget-view+json": {
       "model_id": "7723e11f7bd34a3da1c9a0eb9234b0ab",
       "version_major": 2,
       "version_minor": 0
      },
      "text/plain": [
       "  0%|          | 0/1000 [00:00<?, ?it/s]"
      ]
     },
     "metadata": {},
     "output_type": "display_data"
    },
    {
     "data": {
      "image/png": "[encoded data removed]",
      "text/plain": [
       "<Figure size 1152x720 with 1 Axes>"
      ]
     },
     "metadata": {
      "needs_background": "light"
     },
     "output_type": "display_data"
    },
    {
     "name": "stdout",
     "output_type": "stream",
     "text": [
      "Средняя прибыль: 489.66 млн.руб\n",
      "С вероятностью 95% прибыль в данном регионе будет составлять от: 55.12 млн.руб до: 905.76 млн.руб\n",
      "95%-ый доверительный интервал: от 476.23 млн.руб до 503.09 млн.руб\n",
      "Процент вероятности убытка в данном регионе составит 1.1%\n"
     ]
    }
   ],
   "source": [
    "bootstrap_1000(target_valid_1,predicted_1)"
   ]
  },
  {
   "cell_type": "markdown",
   "metadata": {},
   "source": [
    "#### Третий регион"
   ]
  },
  {
   "cell_type": "code",
   "execution_count": 207,
   "metadata": {},
   "outputs": [
    {
     "data": {
      "application/vnd.jupyter.widget-view+json": {
       "model_id": "da414116d3954c90b678dc4cb301d13a",
       "version_major": 2,
       "version_minor": 0
      },
      "text/plain": [
       "  0%|          | 0/1000 [00:00<?, ?it/s]"
      ]
     },
     "metadata": {},
     "output_type": "display_data"
    },
    {
     "data": {
      "image/png": "[encoded data removed]",
      "text/plain": [
       "<Figure size 1152x720 with 1 Axes>"
      ]
     },
     "metadata": {
      "needs_background": "light"
     },
     "output_type": "display_data"
    },
    {
     "name": "stdout",
     "output_type": "stream",
     "text": [
      "Средняя прибыль: 403.69 млн.руб\n",
      "С вероятностью 95% прибыль в данном регионе будет составлять от: -153.12 млн.руб до: 952.89 млн.руб\n",
      "95%-ый доверительный интервал: от 386.21 млн.руб до 421.17 млн.руб\n",
      "Процент вероятности убытка в данном регионе составит 7.1%\n"
     ]
    }
   ],
   "source": [
    "bootstrap_1000(target_valid_2,predicted_2)"
   ]
  },
  {
   "cell_type": "markdown",
   "metadata": {},
   "source": [
    "### Напишем выводы: предложем регион для разработки скважин и обоснуем выбор."
   ]
  },
  {
   "cell_type": "code",
   "execution_count": 208,
   "metadata": {},
   "outputs": [
    {
     "data": {
      "image/png": "[encoded data removed]",
      "text/plain": [
       "<Figure size 1152x720 with 1 Axes>"
      ]
     },
     "metadata": {
      "needs_background": "light"
     },
     "output_type": "display_data"
    }
   ],
   "source": [
    "x = pd.Series([435.84,489.66,403.95])\n",
    "x.plot(kind='bar',title='Средняя прибыль(млн. р.)',figsize=(16,10))\n",
    "plt.show()"
   ]
  },
  {
   "cell_type": "code",
   "execution_count": 209,
   "metadata": {},
   "outputs": [
    {
     "data": {
      "image/png": "[encoded data removed]",
      "text/plain": [
       "<Figure size 1152x720 with 1 Axes>"
      ]
     },
     "metadata": {
      "needs_background": "light"
     },
     "output_type": "display_data"
    }
   ],
   "source": [
    "x = pd.Series([30881.96,27748.75,29730.68])\n",
    "x.plot(kind='bar',title='Запас сырья в тыс.баррелей',figsize=(16,10))\n",
    "plt.show()"
   ]
  },
  {
   "cell_type": "code",
   "execution_count": 210,
   "metadata": {},
   "outputs": [
    {
     "data": {
      "image/png": "[encoded data removed]",
      "text/plain": [
       "<Figure size 1152x720 with 1 Axes>"
      ]
     },
     "metadata": {
      "needs_background": "light"
     },
     "output_type": "display_data"
    }
   ],
   "source": [
    "x = pd.Series([6.2,1.1,7.0])\n",
    "x.plot(kind='bar',title='Вероятность убытка(%)',figsize=(16,10))\n",
    "plt.show()"
   ]
  },
  {
   "cell_type": "markdown",
   "metadata": {},
   "source": [
    "**Проанализировав все три региона, можно придти к выводу, что наилучшим местом для размещения скважен является 2 регион, поскольку вероятность убытков в нем всего 1.1%, другие два региона не прошли проверку на риск потерь, не смотря на то, что средние запасы во 2 регионе меньше, средний доход в них выше, и как мы помним из предыдущего анализа, в данном регионе гораздо быльше точек с максимальными показателями обьемов сырья, ожидаемый доход при постройке 200 точек составляет 489.66 млн. рублей.**"
   ]
  },
  {
   "cell_type": "markdown",
   "metadata": {},
   "source": [
    "# Общий вывод\n",
    "\n",
    "- Все регионы имеют 10000 строк и 4 столбца\n",
    "- В данных отсутсвуют пропуски\n",
    "- Корреляция весьма специфическая, скорее всего данные синтетичские\n",
    "- Целевой признак 2 региона имеет 2 моды по краям распределения вместо нормального распределения\n",
    "- Для каждого региона обучили и проверили модель логистической регрессии\n",
    "- Имеем следующие результаты:\n",
    "    - регион 1: \n",
    "        - Средний запас предсказанного сырья: 92.39912564441762\n",
    "        - RSME модели:      37.75679972531727\n",
    "    - регион 2: \n",
    "        - Средний запас предсказанного сырья: 68.7128783572836\n",
    "        - RSME модели:      0.8902625051266332\n",
    "    - регион 3: \n",
    "        - Средний запас предсказанного сырья: 94.77226826114993\n",
    "        - RSME модели:      40.145722882517624\n",
    "- Модель предсказывает почти одинаково высокое ожидание запаса сырья для 1 и 3 региона, а для 2 существенно меньше, величина ошибки во втором регионе тоже существенно отличается от 1 и 3, это связанно с тем, что распределение во втором регионе не имеет нормальное распределение как в 2 других.\n",
    "- Для окупаемости скважена должна приносить не меньше 111,11 тыс барылей\n",
    "- в первом регионе добывается на 18.61 тыс.баррелей меньше\n",
    "- во втором регионе добывается на 42.31 тыс.баррелей меньше\n",
    "- в третьем регионе добывается на 16.11 тыс.баррелей меньше\n",
    "- Для окупаемости среднего значения не хватает\n",
    "- При выборе лучших 200 точек каждый регион может окупиться\n",
    "- Самый ресурсный 1 регион имеет на лучших 200 точках:\n",
    "    - 27748.75 тыс.баррелей\n",
    "    - Прибыль с которых составит 3896.88 млн.рублей\n",
    "- **Проанализировав все три региона, можно придти к выводу, что наилучшим местом для размещения скважен является 2 регион, поскольку вероятность убытков в нем всего 1.1%, другие два региона не прошли проверку на риск потерь, не смотря на то, что средние запасы во 2 регионе меньше, средний доход в них выше, и как мы помним из предыдущего анализа, в данном регионе гораздо быльше точек с максимальными показателями обьемов сырья, ожидаемый доход при постройке 200 точек составляет 489.66 млн. рублей.**"
   ]
  }
 ],
 "metadata": {
  "ExecuteTimeLog": [
   {
    "duration": 421,
    "start_time": "2023-02-05T07:46:44.616Z"
   },
   {
    "duration": 667,
    "start_time": "2023-02-05T07:48:48.346Z"
   },
   {
    "duration": 96,
    "start_time": "2023-02-05T07:49:34.608Z"
   },
   {
    "duration": 419,
    "start_time": "2023-02-05T07:49:39.087Z"
   },
   {
    "duration": 541,
    "start_time": "2023-02-05T07:51:09.050Z"
   },
   {
    "duration": 556,
    "start_time": "2023-02-05T07:51:50.991Z"
   },
   {
    "duration": 15,
    "start_time": "2023-02-05T07:52:09.272Z"
   },
   {
    "duration": 9,
    "start_time": "2023-02-05T07:52:16.647Z"
   },
   {
    "duration": 15,
    "start_time": "2023-02-05T07:52:21.230Z"
   },
   {
    "duration": 9,
    "start_time": "2023-02-05T07:52:42.007Z"
   },
   {
    "duration": 10,
    "start_time": "2023-02-05T07:52:47.459Z"
   },
   {
    "duration": 6,
    "start_time": "2023-02-05T07:52:53.888Z"
   },
   {
    "duration": 23,
    "start_time": "2023-02-05T07:53:15.295Z"
   },
   {
    "duration": 3,
    "start_time": "2023-02-05T07:56:08.266Z"
   },
   {
    "duration": 9,
    "start_time": "2023-02-05T08:49:49.065Z"
   },
   {
    "duration": 375,
    "start_time": "2023-02-05T08:49:51.933Z"
   },
   {
    "duration": 4,
    "start_time": "2023-02-05T08:49:53.165Z"
   },
   {
    "duration": 4,
    "start_time": "2023-02-05T08:51:04.604Z"
   },
   {
    "duration": 18,
    "start_time": "2023-02-05T08:51:14.069Z"
   },
   {
    "duration": 13,
    "start_time": "2023-02-05T08:51:55.865Z"
   },
   {
    "duration": 9,
    "start_time": "2023-02-05T08:51:58.495Z"
   },
   {
    "duration": 8,
    "start_time": "2023-02-05T08:52:05.984Z"
   },
   {
    "duration": 41,
    "start_time": "2023-02-05T08:52:13.464Z"
   },
   {
    "duration": 41,
    "start_time": "2023-02-05T08:52:30.611Z"
   },
   {
    "duration": 11,
    "start_time": "2023-02-05T08:52:54.166Z"
   },
   {
    "duration": 654,
    "start_time": "2023-02-05T08:53:53.106Z"
   },
   {
    "duration": 15,
    "start_time": "2023-02-05T08:58:52.056Z"
   },
   {
    "duration": 4627,
    "start_time": "2023-02-05T08:59:20.738Z"
   },
   {
    "duration": 4461,
    "start_time": "2023-02-05T09:01:19.409Z"
   },
   {
    "duration": 4711,
    "start_time": "2023-02-05T09:01:30.758Z"
   },
   {
    "duration": 4546,
    "start_time": "2023-02-05T09:01:53.352Z"
   },
   {
    "duration": 4712,
    "start_time": "2023-02-05T09:02:16.236Z"
   },
   {
    "duration": 9,
    "start_time": "2023-02-05T09:06:42.574Z"
   },
   {
    "duration": 54,
    "start_time": "2023-02-05T09:07:06.058Z"
   },
   {
    "duration": 48,
    "start_time": "2023-02-05T09:07:09.801Z"
   },
   {
    "duration": 4,
    "start_time": "2023-02-05T09:50:44.353Z"
   },
   {
    "duration": 10,
    "start_time": "2023-02-05T09:50:53.943Z"
   },
   {
    "duration": 17,
    "start_time": "2023-02-05T09:51:04.065Z"
   },
   {
    "duration": 38,
    "start_time": "2023-02-05T09:51:29.400Z"
   },
   {
    "duration": 39,
    "start_time": "2023-02-05T09:51:34.943Z"
   },
   {
    "duration": 609,
    "start_time": "2023-02-05T09:51:47.831Z"
   },
   {
    "duration": 45,
    "start_time": "2023-02-05T09:53:13.852Z"
   },
   {
    "duration": 5054,
    "start_time": "2023-02-05T09:53:15.931Z"
   },
   {
    "duration": 22,
    "start_time": "2023-02-05T09:53:20.987Z"
   },
   {
    "duration": 7,
    "start_time": "2023-02-05T09:58:30.412Z"
   },
   {
    "duration": 14,
    "start_time": "2023-02-05T09:58:30.635Z"
   },
   {
    "duration": 23,
    "start_time": "2023-02-05T09:58:30.824Z"
   },
   {
    "duration": 42,
    "start_time": "2023-02-05T09:58:30.990Z"
   },
   {
    "duration": 620,
    "start_time": "2023-02-05T09:58:31.164Z"
   },
   {
    "duration": 5254,
    "start_time": "2023-02-05T09:58:31.787Z"
   },
   {
    "duration": 13,
    "start_time": "2023-02-05T09:58:37.043Z"
   },
   {
    "duration": 80,
    "start_time": "2023-02-05T09:58:37.058Z"
   },
   {
    "duration": 11,
    "start_time": "2023-02-05T10:09:20.474Z"
   },
   {
    "duration": 138,
    "start_time": "2023-02-05T10:10:49.414Z"
   },
   {
    "duration": 175,
    "start_time": "2023-02-05T10:11:03.450Z"
   },
   {
    "duration": 224,
    "start_time": "2023-02-05T10:11:17.157Z"
   },
   {
    "duration": 206,
    "start_time": "2023-02-05T10:11:37.263Z"
   },
   {
    "duration": 326,
    "start_time": "2023-02-05T10:12:04.697Z"
   },
   {
    "duration": 251,
    "start_time": "2023-02-05T10:12:20.588Z"
   },
   {
    "duration": 243,
    "start_time": "2023-02-05T10:15:20.390Z"
   },
   {
    "duration": 261,
    "start_time": "2023-02-05T10:15:30.804Z"
   },
   {
    "duration": 251,
    "start_time": "2023-02-05T10:15:37.492Z"
   },
   {
    "duration": 236,
    "start_time": "2023-02-05T10:15:49.852Z"
   },
   {
    "duration": 245,
    "start_time": "2023-02-05T10:15:56.887Z"
   },
   {
    "duration": 252,
    "start_time": "2023-02-05T10:16:16.252Z"
   },
   {
    "duration": 252,
    "start_time": "2023-02-05T10:16:34.447Z"
   },
   {
    "duration": 16,
    "start_time": "2023-02-05T10:17:02.741Z"
   },
   {
    "duration": 16,
    "start_time": "2023-02-05T10:17:09.232Z"
   },
   {
    "duration": 434,
    "start_time": "2023-02-05T10:17:20.632Z"
   },
   {
    "duration": 11,
    "start_time": "2023-02-05T10:18:44.338Z"
   },
   {
    "duration": 248,
    "start_time": "2023-02-05T10:19:01.457Z"
   },
   {
    "duration": 260,
    "start_time": "2023-02-05T10:22:19.926Z"
   },
   {
    "duration": 13,
    "start_time": "2023-02-05T10:22:33.192Z"
   },
   {
    "duration": 297,
    "start_time": "2023-02-05T10:22:50.577Z"
   },
   {
    "duration": 270,
    "start_time": "2023-02-05T10:23:50.418Z"
   },
   {
    "duration": 361,
    "start_time": "2023-02-05T10:23:54.068Z"
   },
   {
    "duration": 9,
    "start_time": "2023-02-05T10:29:59.834Z"
   },
   {
    "duration": 634,
    "start_time": "2023-02-05T10:33:01.795Z"
   },
   {
    "duration": 4687,
    "start_time": "2023-02-05T10:36:34.241Z"
   },
   {
    "duration": 588,
    "start_time": "2023-02-05T10:49:30.939Z"
   },
   {
    "duration": 5,
    "start_time": "2023-02-05T10:50:50.419Z"
   },
   {
    "duration": 101,
    "start_time": "2023-02-05T10:52:39.467Z"
   },
   {
    "duration": 7,
    "start_time": "2023-02-05T10:52:45.835Z"
   },
   {
    "duration": 13,
    "start_time": "2023-02-05T10:53:14.522Z"
   },
   {
    "duration": 13,
    "start_time": "2023-02-05T10:53:25.014Z"
   },
   {
    "duration": 9,
    "start_time": "2023-02-05T11:03:33.788Z"
   },
   {
    "duration": 4,
    "start_time": "2023-02-05T11:03:41.436Z"
   },
   {
    "duration": 3,
    "start_time": "2023-02-05T11:07:29.690Z"
   },
   {
    "duration": 515,
    "start_time": "2023-02-05T11:07:41.088Z"
   },
   {
    "duration": 514,
    "start_time": "2023-02-05T11:08:05.352Z"
   },
   {
    "duration": 517,
    "start_time": "2023-02-05T11:08:26.234Z"
   },
   {
    "duration": 9,
    "start_time": "2023-02-05T11:10:55.721Z"
   },
   {
    "duration": 13,
    "start_time": "2023-02-05T11:12:17.001Z"
   },
   {
    "duration": 23,
    "start_time": "2023-02-05T11:15:35.223Z"
   },
   {
    "duration": 17,
    "start_time": "2023-02-05T11:15:35.587Z"
   },
   {
    "duration": 19,
    "start_time": "2023-02-05T11:15:37.870Z"
   },
   {
    "duration": 23,
    "start_time": "2023-02-05T11:30:00.633Z"
   },
   {
    "duration": 11,
    "start_time": "2023-02-05T11:35:23.617Z"
   },
   {
    "duration": 9,
    "start_time": "2023-02-05T11:35:30.426Z"
   },
   {
    "duration": 9,
    "start_time": "2023-02-05T11:35:39.270Z"
   },
   {
    "duration": 187,
    "start_time": "2023-02-05T11:35:45.317Z"
   },
   {
    "duration": 17,
    "start_time": "2023-02-05T11:35:55.240Z"
   },
   {
    "duration": 4,
    "start_time": "2023-02-05T12:03:14.742Z"
   },
   {
    "duration": 148,
    "start_time": "2023-02-05T12:35:12.058Z"
   },
   {
    "duration": 35,
    "start_time": "2023-02-05T12:35:30.981Z"
   },
   {
    "duration": 27,
    "start_time": "2023-02-05T12:35:44.262Z"
   },
   {
    "duration": 25,
    "start_time": "2023-02-05T12:35:49.398Z"
   },
   {
    "duration": 20,
    "start_time": "2023-02-05T12:36:28.352Z"
   },
   {
    "duration": 68,
    "start_time": "2023-02-05T12:37:56.659Z"
   },
   {
    "duration": 32,
    "start_time": "2023-02-05T12:38:03.391Z"
   },
   {
    "duration": 26,
    "start_time": "2023-02-05T12:39:06.613Z"
   },
   {
    "duration": 29,
    "start_time": "2023-02-05T12:42:50.200Z"
   },
   {
    "duration": 24,
    "start_time": "2023-02-05T12:42:50.551Z"
   },
   {
    "duration": 20,
    "start_time": "2023-02-05T12:42:51.475Z"
   },
   {
    "duration": 15,
    "start_time": "2023-02-05T12:44:19.522Z"
   },
   {
    "duration": 5,
    "start_time": "2023-02-05T12:44:57.421Z"
   },
   {
    "duration": 5,
    "start_time": "2023-02-05T12:45:29.149Z"
   },
   {
    "duration": 4,
    "start_time": "2023-02-05T12:45:59.123Z"
   },
   {
    "duration": 92,
    "start_time": "2023-02-05T13:09:23.130Z"
   },
   {
    "duration": 3,
    "start_time": "2023-02-05T13:09:29.962Z"
   },
   {
    "duration": 4,
    "start_time": "2023-02-05T13:10:11.289Z"
   },
   {
    "duration": 72,
    "start_time": "2023-02-05T13:12:10.345Z"
   },
   {
    "duration": 4,
    "start_time": "2023-02-05T13:12:39.451Z"
   },
   {
    "duration": 4,
    "start_time": "2023-02-05T13:12:46.761Z"
   },
   {
    "duration": 4,
    "start_time": "2023-02-05T13:12:59.315Z"
   },
   {
    "duration": 4,
    "start_time": "2023-02-05T13:13:08.540Z"
   },
   {
    "duration": 4,
    "start_time": "2023-02-05T13:13:16.678Z"
   },
   {
    "duration": 4,
    "start_time": "2023-02-05T13:13:25.284Z"
   },
   {
    "duration": 4,
    "start_time": "2023-02-05T13:13:32.318Z"
   },
   {
    "duration": 3,
    "start_time": "2023-02-05T13:13:40.297Z"
   },
   {
    "duration": 4,
    "start_time": "2023-02-05T13:13:42.725Z"
   },
   {
    "duration": 74,
    "start_time": "2023-02-05T13:14:00.767Z"
   },
   {
    "duration": 3,
    "start_time": "2023-02-05T13:14:06.009Z"
   },
   {
    "duration": 5,
    "start_time": "2023-02-05T13:14:22.103Z"
   },
   {
    "duration": 5,
    "start_time": "2023-02-05T13:14:43.128Z"
   },
   {
    "duration": 8,
    "start_time": "2023-02-05T13:14:48.925Z"
   },
   {
    "duration": 8,
    "start_time": "2023-02-05T13:14:58.904Z"
   },
   {
    "duration": 7,
    "start_time": "2023-02-05T13:15:22.410Z"
   },
   {
    "duration": 7,
    "start_time": "2023-02-05T13:15:27.322Z"
   },
   {
    "duration": 940,
    "start_time": "2023-02-05T13:15:55.222Z"
   },
   {
    "duration": 8,
    "start_time": "2023-02-05T13:15:59.096Z"
   },
   {
    "duration": 9,
    "start_time": "2023-02-05T13:16:24.386Z"
   },
   {
    "duration": 413,
    "start_time": "2023-02-05T13:27:03.265Z"
   },
   {
    "duration": 435,
    "start_time": "2023-02-05T13:27:17.075Z"
   },
   {
    "duration": 421,
    "start_time": "2023-02-05T13:27:24.077Z"
   },
   {
    "duration": 414,
    "start_time": "2023-02-05T13:27:26.639Z"
   },
   {
    "duration": 452,
    "start_time": "2023-02-05T13:27:56.937Z"
   },
   {
    "duration": 419,
    "start_time": "2023-02-05T13:28:34.681Z"
   },
   {
    "duration": 435,
    "start_time": "2023-02-05T13:28:54.041Z"
   },
   {
    "duration": 9,
    "start_time": "2023-02-05T13:45:43.231Z"
   },
   {
    "duration": 415,
    "start_time": "2023-02-05T13:55:53.839Z"
   },
   {
    "duration": 411,
    "start_time": "2023-02-05T13:56:26.092Z"
   },
   {
    "duration": 6,
    "start_time": "2023-02-05T13:57:56.021Z"
   },
   {
    "duration": 4,
    "start_time": "2023-02-05T13:58:19.567Z"
   },
   {
    "duration": 6,
    "start_time": "2023-02-05T13:58:21.593Z"
   },
   {
    "duration": 4,
    "start_time": "2023-02-05T13:58:31.324Z"
   },
   {
    "duration": 6,
    "start_time": "2023-02-05T14:02:48.265Z"
   },
   {
    "duration": 4,
    "start_time": "2023-02-05T14:02:50.756Z"
   },
   {
    "duration": 3,
    "start_time": "2023-02-05T14:02:50.946Z"
   },
   {
    "duration": 5,
    "start_time": "2023-02-05T14:03:13.761Z"
   },
   {
    "duration": 5,
    "start_time": "2023-02-05T14:03:14.173Z"
   },
   {
    "duration": 3,
    "start_time": "2023-02-05T14:03:14.712Z"
   },
   {
    "duration": 5,
    "start_time": "2023-02-05T14:03:31.351Z"
   },
   {
    "duration": 3,
    "start_time": "2023-02-05T14:04:48.762Z"
   },
   {
    "duration": 5,
    "start_time": "2023-02-05T14:05:24.772Z"
   },
   {
    "duration": 4,
    "start_time": "2023-02-05T14:05:26.432Z"
   },
   {
    "duration": 5,
    "start_time": "2023-02-05T14:05:42.382Z"
   },
   {
    "duration": 4,
    "start_time": "2023-02-05T14:05:43.271Z"
   },
   {
    "duration": 5,
    "start_time": "2023-02-05T14:05:48.625Z"
   },
   {
    "duration": 3,
    "start_time": "2023-02-05T14:05:49.010Z"
   },
   {
    "duration": 6,
    "start_time": "2023-02-05T14:05:53.964Z"
   },
   {
    "duration": 4,
    "start_time": "2023-02-05T14:05:54.389Z"
   },
   {
    "duration": 5,
    "start_time": "2023-02-05T14:05:57.464Z"
   },
   {
    "duration": 5,
    "start_time": "2023-02-05T14:05:57.966Z"
   },
   {
    "duration": 6,
    "start_time": "2023-02-05T14:06:09.129Z"
   },
   {
    "duration": 4,
    "start_time": "2023-02-05T14:06:09.427Z"
   },
   {
    "duration": 5,
    "start_time": "2023-02-05T14:08:10.441Z"
   },
   {
    "duration": 4,
    "start_time": "2023-02-05T14:08:10.829Z"
   },
   {
    "duration": 3,
    "start_time": "2023-02-05T14:08:10.983Z"
   },
   {
    "duration": 3,
    "start_time": "2023-02-05T14:09:06.339Z"
   },
   {
    "duration": 3,
    "start_time": "2023-02-05T14:09:43.358Z"
   },
   {
    "duration": 4,
    "start_time": "2023-02-05T14:10:00.972Z"
   },
   {
    "duration": 4,
    "start_time": "2023-02-05T14:10:06.102Z"
   },
   {
    "duration": 4,
    "start_time": "2023-02-05T14:10:48.040Z"
   },
   {
    "duration": 3,
    "start_time": "2023-02-05T14:11:00.169Z"
   },
   {
    "duration": 5,
    "start_time": "2023-02-05T14:12:39.961Z"
   },
   {
    "duration": 4,
    "start_time": "2023-02-05T14:12:40.275Z"
   },
   {
    "duration": 4,
    "start_time": "2023-02-05T14:12:40.675Z"
   },
   {
    "duration": 4,
    "start_time": "2023-02-05T14:16:14.697Z"
   },
   {
    "duration": 5,
    "start_time": "2023-02-05T14:17:05.824Z"
   },
   {
    "duration": 5,
    "start_time": "2023-02-05T14:17:06.602Z"
   },
   {
    "duration": 4,
    "start_time": "2023-02-05T14:17:07.246Z"
   },
   {
    "duration": 3,
    "start_time": "2023-02-05T14:17:15.495Z"
   },
   {
    "duration": 3,
    "start_time": "2023-02-05T14:17:29.528Z"
   },
   {
    "duration": 4,
    "start_time": "2023-02-05T14:17:34.103Z"
   },
   {
    "duration": 3,
    "start_time": "2023-02-05T14:18:01.428Z"
   },
   {
    "duration": 17,
    "start_time": "2023-02-05T14:22:42.526Z"
   },
   {
    "duration": 14,
    "start_time": "2023-02-05T14:22:54.910Z"
   },
   {
    "duration": 3,
    "start_time": "2023-02-05T14:23:06.798Z"
   },
   {
    "duration": 76,
    "start_time": "2023-02-05T14:25:59.655Z"
   },
   {
    "duration": 12,
    "start_time": "2023-02-05T14:26:44.287Z"
   },
   {
    "duration": 4,
    "start_time": "2023-02-05T14:26:52.660Z"
   },
   {
    "duration": 12,
    "start_time": "2023-02-05T14:26:54.369Z"
   },
   {
    "duration": 4,
    "start_time": "2023-02-05T14:27:24.261Z"
   },
   {
    "duration": 12,
    "start_time": "2023-02-05T14:27:26.394Z"
   },
   {
    "duration": 14,
    "start_time": "2023-02-05T14:27:28.041Z"
   },
   {
    "duration": 4,
    "start_time": "2023-02-05T14:27:53.503Z"
   },
   {
    "duration": 377,
    "start_time": "2023-02-05T14:27:53.509Z"
   },
   {
    "duration": 5,
    "start_time": "2023-02-05T14:27:53.888Z"
   },
   {
    "duration": 19,
    "start_time": "2023-02-05T14:27:53.894Z"
   },
   {
    "duration": 18,
    "start_time": "2023-02-05T14:27:53.915Z"
   },
   {
    "duration": 39,
    "start_time": "2023-02-05T14:27:53.934Z"
   },
   {
    "duration": 664,
    "start_time": "2023-02-05T14:27:53.975Z"
   },
   {
    "duration": 4629,
    "start_time": "2023-02-05T14:27:54.641Z"
   },
   {
    "duration": 13,
    "start_time": "2023-02-05T14:27:59.272Z"
   },
   {
    "duration": 49,
    "start_time": "2023-02-05T14:27:59.304Z"
   },
   {
    "duration": 4,
    "start_time": "2023-02-05T14:27:59.355Z"
   },
   {
    "duration": 12,
    "start_time": "2023-02-05T14:27:59.361Z"
   },
   {
    "duration": 36,
    "start_time": "2023-02-05T14:27:59.375Z"
   },
   {
    "duration": 40,
    "start_time": "2023-02-05T14:27:59.413Z"
   },
   {
    "duration": 613,
    "start_time": "2023-02-05T14:27:59.454Z"
   },
   {
    "duration": 4698,
    "start_time": "2023-02-05T14:28:00.069Z"
   },
   {
    "duration": 10,
    "start_time": "2023-02-05T14:28:04.769Z"
   },
   {
    "duration": 60,
    "start_time": "2023-02-05T14:28:04.781Z"
   },
   {
    "duration": 3,
    "start_time": "2023-02-05T14:28:04.843Z"
   },
   {
    "duration": 12,
    "start_time": "2023-02-05T14:28:04.848Z"
   },
   {
    "duration": 20,
    "start_time": "2023-02-05T14:28:04.862Z"
   },
   {
    "duration": 39,
    "start_time": "2023-02-05T14:28:04.903Z"
   },
   {
    "duration": 808,
    "start_time": "2023-02-05T14:28:04.944Z"
   },
   {
    "duration": 4531,
    "start_time": "2023-02-05T14:28:05.754Z"
   },
   {
    "duration": 18,
    "start_time": "2023-02-05T14:28:10.286Z"
   },
   {
    "duration": 4654,
    "start_time": "2023-02-05T14:28:10.305Z"
   },
   {
    "duration": 57,
    "start_time": "2023-02-05T14:28:14.961Z"
   },
   {
    "duration": 252,
    "start_time": "2023-02-05T14:28:15.020Z"
   },
   {
    "duration": 13,
    "start_time": "2023-02-05T14:28:15.276Z"
   },
   {
    "duration": 566,
    "start_time": "2023-02-05T14:28:15.291Z"
   },
   {
    "duration": 509,
    "start_time": "2023-02-05T14:28:15.859Z"
   },
   {
    "duration": 545,
    "start_time": "2023-02-05T14:28:16.370Z"
   },
   {
    "duration": 8,
    "start_time": "2023-02-05T14:28:16.916Z"
   },
   {
    "duration": 16,
    "start_time": "2023-02-05T14:28:16.926Z"
   },
   {
    "duration": 14,
    "start_time": "2023-02-05T14:28:16.943Z"
   },
   {
    "duration": 15,
    "start_time": "2023-02-05T14:28:16.959Z"
   },
   {
    "duration": 206,
    "start_time": "2023-02-05T14:28:17.005Z"
   },
   {
    "duration": 194,
    "start_time": "2023-02-05T14:28:17.214Z"
   },
   {
    "duration": 112,
    "start_time": "2023-02-05T14:28:17.412Z"
   },
   {
    "duration": 5,
    "start_time": "2023-02-05T14:28:17.605Z"
   },
   {
    "duration": 102,
    "start_time": "2023-02-05T14:28:17.612Z"
   },
   {
    "duration": 6,
    "start_time": "2023-02-05T14:28:17.716Z"
   },
   {
    "duration": 6,
    "start_time": "2023-02-05T14:28:17.724Z"
   },
   {
    "duration": 8,
    "start_time": "2023-02-05T14:28:17.732Z"
   },
   {
    "duration": 6,
    "start_time": "2023-02-05T14:28:17.741Z"
   },
   {
    "duration": 15,
    "start_time": "2023-02-05T14:28:17.748Z"
   },
   {
    "duration": 13,
    "start_time": "2023-02-05T14:28:17.764Z"
   },
   {
    "duration": 3,
    "start_time": "2023-02-05T14:28:17.804Z"
   },
   {
    "duration": 20,
    "start_time": "2023-02-05T14:28:17.809Z"
   },
   {
    "duration": 12,
    "start_time": "2023-02-05T14:31:21.635Z"
   },
   {
    "duration": 16,
    "start_time": "2023-02-05T14:31:56.003Z"
   },
   {
    "duration": 14,
    "start_time": "2023-02-05T14:32:14.033Z"
   },
   {
    "duration": 11,
    "start_time": "2023-02-05T14:32:21.357Z"
   },
   {
    "duration": 3,
    "start_time": "2023-02-05T14:35:24.373Z"
   },
   {
    "duration": 4,
    "start_time": "2023-02-05T14:35:31.126Z"
   },
   {
    "duration": 5,
    "start_time": "2023-02-05T14:35:41.811Z"
   },
   {
    "duration": 4,
    "start_time": "2023-02-05T14:36:10.707Z"
   },
   {
    "duration": 3,
    "start_time": "2023-02-05T14:36:18.368Z"
   },
   {
    "duration": 4,
    "start_time": "2023-02-05T14:37:44.985Z"
   },
   {
    "duration": 4,
    "start_time": "2023-02-05T14:38:12.328Z"
   },
   {
    "duration": 4,
    "start_time": "2023-02-05T14:38:18.413Z"
   },
   {
    "duration": 4,
    "start_time": "2023-02-05T14:38:41.508Z"
   },
   {
    "duration": 12,
    "start_time": "2023-02-05T14:39:20.467Z"
   },
   {
    "duration": 13,
    "start_time": "2023-02-05T14:39:52.002Z"
   },
   {
    "duration": 4,
    "start_time": "2023-02-05T14:40:05.538Z"
   },
   {
    "duration": 11,
    "start_time": "2023-02-05T14:40:35.522Z"
   },
   {
    "duration": 13,
    "start_time": "2023-02-05T14:40:47.672Z"
   },
   {
    "duration": 5,
    "start_time": "2023-02-05T14:40:57.410Z"
   },
   {
    "duration": 12,
    "start_time": "2023-02-05T14:41:51.767Z"
   },
   {
    "duration": 15,
    "start_time": "2023-02-05T14:41:54.167Z"
   },
   {
    "duration": 14,
    "start_time": "2023-02-05T14:42:01.697Z"
   },
   {
    "duration": 14,
    "start_time": "2023-02-05T14:43:48.416Z"
   },
   {
    "duration": 15,
    "start_time": "2023-02-05T14:43:52.298Z"
   },
   {
    "duration": 4,
    "start_time": "2023-02-05T14:43:53.719Z"
   },
   {
    "duration": 14,
    "start_time": "2023-02-05T14:43:55.083Z"
   },
   {
    "duration": 14,
    "start_time": "2023-02-05T14:43:59.081Z"
   },
   {
    "duration": 3,
    "start_time": "2023-02-05T14:43:59.537Z"
   },
   {
    "duration": 14,
    "start_time": "2023-02-05T14:46:07.827Z"
   },
   {
    "duration": 13,
    "start_time": "2023-02-05T14:46:46.041Z"
   },
   {
    "duration": 4,
    "start_time": "2023-02-05T14:48:15.926Z"
   },
   {
    "duration": 356,
    "start_time": "2023-02-05T14:48:15.932Z"
   },
   {
    "duration": 4,
    "start_time": "2023-02-05T14:48:16.290Z"
   },
   {
    "duration": 18,
    "start_time": "2023-02-05T14:48:16.295Z"
   },
   {
    "duration": 19,
    "start_time": "2023-02-05T14:48:16.315Z"
   },
   {
    "duration": 41,
    "start_time": "2023-02-05T14:48:16.336Z"
   },
   {
    "duration": 680,
    "start_time": "2023-02-05T14:48:16.379Z"
   },
   {
    "duration": 4589,
    "start_time": "2023-02-05T14:48:17.061Z"
   },
   {
    "duration": 10,
    "start_time": "2023-02-05T14:48:21.651Z"
   },
   {
    "duration": 65,
    "start_time": "2023-02-05T14:48:21.663Z"
   },
   {
    "duration": 3,
    "start_time": "2023-02-05T14:48:21.731Z"
   },
   {
    "duration": 17,
    "start_time": "2023-02-05T14:48:21.736Z"
   },
   {
    "duration": 24,
    "start_time": "2023-02-05T14:48:21.755Z"
   },
   {
    "duration": 52,
    "start_time": "2023-02-05T14:48:21.781Z"
   },
   {
    "duration": 578,
    "start_time": "2023-02-05T14:48:21.835Z"
   },
   {
    "duration": 4734,
    "start_time": "2023-02-05T14:48:22.415Z"
   },
   {
    "duration": 10,
    "start_time": "2023-02-05T14:48:27.151Z"
   },
   {
    "duration": 66,
    "start_time": "2023-02-05T14:48:27.163Z"
   },
   {
    "duration": 5,
    "start_time": "2023-02-05T14:48:27.231Z"
   },
   {
    "duration": 23,
    "start_time": "2023-02-05T14:48:27.237Z"
   },
   {
    "duration": 24,
    "start_time": "2023-02-05T14:48:27.262Z"
   },
   {
    "duration": 51,
    "start_time": "2023-02-05T14:48:27.287Z"
   },
   {
    "duration": 595,
    "start_time": "2023-02-05T14:48:27.340Z"
   },
   {
    "duration": 4727,
    "start_time": "2023-02-05T14:48:27.937Z"
   },
   {
    "duration": 10,
    "start_time": "2023-02-05T14:48:32.666Z"
   },
   {
    "duration": 4480,
    "start_time": "2023-02-05T14:48:32.678Z"
   },
   {
    "duration": 61,
    "start_time": "2023-02-05T14:48:37.160Z"
   },
   {
    "duration": 272,
    "start_time": "2023-02-05T14:48:37.223Z"
   },
   {
    "duration": 13,
    "start_time": "2023-02-05T14:48:37.502Z"
   },
   {
    "duration": 537,
    "start_time": "2023-02-05T14:48:37.517Z"
   },
   {
    "duration": 511,
    "start_time": "2023-02-05T14:48:38.056Z"
   },
   {
    "duration": 534,
    "start_time": "2023-02-05T14:48:38.569Z"
   },
   {
    "duration": 8,
    "start_time": "2023-02-05T14:48:39.105Z"
   },
   {
    "duration": 16,
    "start_time": "2023-02-05T14:48:39.114Z"
   },
   {
    "duration": 14,
    "start_time": "2023-02-05T14:48:39.132Z"
   },
   {
    "duration": 15,
    "start_time": "2023-02-05T14:48:39.147Z"
   },
   {
    "duration": 49,
    "start_time": "2023-02-05T14:48:39.163Z"
   },
   {
    "duration": 198,
    "start_time": "2023-02-05T14:48:39.213Z"
   },
   {
    "duration": 118,
    "start_time": "2023-02-05T14:48:39.504Z"
   },
   {
    "duration": 83,
    "start_time": "2023-02-05T14:48:39.627Z"
   },
   {
    "duration": 96,
    "start_time": "2023-02-05T14:48:39.714Z"
   },
   {
    "duration": 6,
    "start_time": "2023-02-05T14:48:39.812Z"
   },
   {
    "duration": 7,
    "start_time": "2023-02-05T14:48:39.819Z"
   },
   {
    "duration": 8,
    "start_time": "2023-02-05T14:48:39.827Z"
   },
   {
    "duration": 8,
    "start_time": "2023-02-05T14:48:39.836Z"
   },
   {
    "duration": 13,
    "start_time": "2023-02-05T14:48:39.846Z"
   },
   {
    "duration": 44,
    "start_time": "2023-02-05T14:48:39.861Z"
   },
   {
    "duration": 4,
    "start_time": "2023-02-05T14:48:39.906Z"
   },
   {
    "duration": 14,
    "start_time": "2023-02-05T14:48:39.911Z"
   },
   {
    "duration": 11,
    "start_time": "2023-02-05T14:48:39.927Z"
   },
   {
    "duration": 4,
    "start_time": "2023-02-05T14:48:39.939Z"
   },
   {
    "duration": 16,
    "start_time": "2023-02-05T14:48:39.945Z"
   },
   {
    "duration": 41,
    "start_time": "2023-02-05T14:48:39.963Z"
   },
   {
    "duration": 4,
    "start_time": "2023-02-05T14:48:40.006Z"
   },
   {
    "duration": 13,
    "start_time": "2023-02-05T14:56:54.269Z"
   },
   {
    "duration": 5,
    "start_time": "2023-02-05T14:57:03.669Z"
   },
   {
    "duration": 9,
    "start_time": "2023-02-05T14:57:17.795Z"
   },
   {
    "duration": 5,
    "start_time": "2023-02-05T14:57:20.981Z"
   },
   {
    "duration": 76,
    "start_time": "2023-02-05T14:57:55.924Z"
   },
   {
    "duration": 5,
    "start_time": "2023-02-05T14:58:26.566Z"
   },
   {
    "duration": 4,
    "start_time": "2023-02-05T14:58:59.377Z"
   },
   {
    "duration": 5,
    "start_time": "2023-02-05T14:59:48.118Z"
   },
   {
    "duration": 5,
    "start_time": "2023-02-05T15:00:02.321Z"
   },
   {
    "duration": 5,
    "start_time": "2023-02-05T15:00:06.891Z"
   },
   {
    "duration": 5,
    "start_time": "2023-02-05T15:00:16.321Z"
   },
   {
    "duration": 5,
    "start_time": "2023-02-05T15:00:26.458Z"
   },
   {
    "duration": 5,
    "start_time": "2023-02-05T15:00:33.557Z"
   },
   {
    "duration": 5,
    "start_time": "2023-02-05T15:00:40.476Z"
   },
   {
    "duration": 3,
    "start_time": "2023-02-05T15:00:43.088Z"
   },
   {
    "duration": 8,
    "start_time": "2023-02-05T15:09:42.484Z"
   },
   {
    "duration": 5,
    "start_time": "2023-02-05T15:09:49.890Z"
   },
   {
    "duration": 10,
    "start_time": "2023-02-05T15:10:39.663Z"
   },
   {
    "duration": 11,
    "start_time": "2023-02-05T15:10:48.315Z"
   },
   {
    "duration": 81,
    "start_time": "2023-02-05T15:11:22.771Z"
   },
   {
    "duration": 4,
    "start_time": "2023-02-05T15:14:23.661Z"
   },
   {
    "duration": 4,
    "start_time": "2023-02-05T15:15:28.621Z"
   },
   {
    "duration": 3,
    "start_time": "2023-02-05T15:18:46.290Z"
   },
   {
    "duration": 3,
    "start_time": "2023-02-05T15:19:27.041Z"
   },
   {
    "duration": 4,
    "start_time": "2023-02-05T15:22:44.442Z"
   },
   {
    "duration": 16,
    "start_time": "2023-02-05T15:24:57.266Z"
   },
   {
    "duration": 6,
    "start_time": "2023-02-05T15:25:27.910Z"
   },
   {
    "duration": 6,
    "start_time": "2023-02-05T15:25:33.096Z"
   },
   {
    "duration": 7,
    "start_time": "2023-02-05T15:25:36.574Z"
   },
   {
    "duration": 3,
    "start_time": "2023-02-05T15:37:56.807Z"
   },
   {
    "duration": 7,
    "start_time": "2023-02-05T15:38:16.597Z"
   },
   {
    "duration": 9,
    "start_time": "2023-02-05T15:40:53.180Z"
   },
   {
    "duration": 10,
    "start_time": "2023-02-05T15:42:15.581Z"
   },
   {
    "duration": 17,
    "start_time": "2023-02-05T15:42:23.033Z"
   },
   {
    "duration": 59,
    "start_time": "2023-02-05T15:43:56.679Z"
   },
   {
    "duration": 1576,
    "start_time": "2023-02-05T15:44:06.151Z"
   },
   {
    "duration": 3,
    "start_time": "2023-02-05T15:44:39.717Z"
   },
   {
    "duration": 1772,
    "start_time": "2023-02-05T15:44:51.079Z"
   },
   {
    "duration": 11,
    "start_time": "2023-02-05T15:44:58.848Z"
   },
   {
    "duration": 11,
    "start_time": "2023-02-05T15:46:10.235Z"
   },
   {
    "duration": 9,
    "start_time": "2023-02-05T15:46:16.593Z"
   },
   {
    "duration": 1720,
    "start_time": "2023-02-05T15:46:17.564Z"
   },
   {
    "duration": 1794,
    "start_time": "2023-02-05T15:46:19.286Z"
   },
   {
    "duration": 1841,
    "start_time": "2023-02-05T15:46:21.082Z"
   },
   {
    "duration": 10,
    "start_time": "2023-02-05T15:49:42.451Z"
   },
   {
    "duration": 11,
    "start_time": "2023-02-05T15:49:57.959Z"
   },
   {
    "duration": 113,
    "start_time": "2023-02-05T15:50:06.769Z"
   },
   {
    "duration": 282,
    "start_time": "2023-02-05T15:50:18.357Z"
   },
   {
    "duration": 108,
    "start_time": "2023-02-05T15:50:55.922Z"
   },
   {
    "duration": 10,
    "start_time": "2023-02-05T15:51:26.733Z"
   },
   {
    "duration": 10,
    "start_time": "2023-02-05T15:51:52.904Z"
   },
   {
    "duration": 9,
    "start_time": "2023-02-05T15:52:22.798Z"
   },
   {
    "duration": 10,
    "start_time": "2023-02-05T15:52:38.251Z"
   },
   {
    "duration": 106,
    "start_time": "2023-02-05T15:52:50.464Z"
   },
   {
    "duration": 156,
    "start_time": "2023-02-05T15:53:04.806Z"
   },
   {
    "duration": 72,
    "start_time": "2023-02-05T15:56:49.583Z"
   },
   {
    "duration": 143,
    "start_time": "2023-02-05T15:56:56.291Z"
   },
   {
    "duration": 132,
    "start_time": "2023-02-05T15:57:19.956Z"
   },
   {
    "duration": 156,
    "start_time": "2023-02-05T15:59:53.026Z"
   },
   {
    "duration": 152,
    "start_time": "2023-02-05T16:00:58.709Z"
   },
   {
    "duration": 148,
    "start_time": "2023-02-05T16:06:01.046Z"
   },
   {
    "duration": 447,
    "start_time": "2023-02-05T16:16:32.633Z"
   },
   {
    "duration": 8,
    "start_time": "2023-02-05T16:21:26.612Z"
   },
   {
    "duration": 407,
    "start_time": "2023-02-05T16:21:26.623Z"
   },
   {
    "duration": 4,
    "start_time": "2023-02-05T16:21:27.032Z"
   },
   {
    "duration": 15,
    "start_time": "2023-02-05T16:21:27.038Z"
   },
   {
    "duration": 19,
    "start_time": "2023-02-05T16:21:27.055Z"
   },
   {
    "duration": 67,
    "start_time": "2023-02-05T16:21:27.076Z"
   },
   {
    "duration": 645,
    "start_time": "2023-02-05T16:21:27.145Z"
   },
   {
    "duration": 4842,
    "start_time": "2023-02-05T16:21:27.792Z"
   },
   {
    "duration": 11,
    "start_time": "2023-02-05T16:21:32.636Z"
   },
   {
    "duration": 77,
    "start_time": "2023-02-05T16:21:32.648Z"
   },
   {
    "duration": 4,
    "start_time": "2023-02-05T16:21:32.728Z"
   },
   {
    "duration": 17,
    "start_time": "2023-02-05T16:21:32.735Z"
   },
   {
    "duration": 25,
    "start_time": "2023-02-05T16:21:32.754Z"
   },
   {
    "duration": 43,
    "start_time": "2023-02-05T16:21:32.804Z"
   },
   {
    "duration": 893,
    "start_time": "2023-02-05T16:21:32.849Z"
   },
   {
    "duration": 4950,
    "start_time": "2023-02-05T16:21:33.745Z"
   },
   {
    "duration": 16,
    "start_time": "2023-02-05T16:21:38.703Z"
   },
   {
    "duration": 50,
    "start_time": "2023-02-05T16:21:38.721Z"
   },
   {
    "duration": 4,
    "start_time": "2023-02-05T16:21:38.773Z"
   },
   {
    "duration": 40,
    "start_time": "2023-02-05T16:21:38.779Z"
   },
   {
    "duration": 18,
    "start_time": "2023-02-05T16:21:38.821Z"
   },
   {
    "duration": 38,
    "start_time": "2023-02-05T16:21:38.840Z"
   },
   {
    "duration": 623,
    "start_time": "2023-02-05T16:21:38.880Z"
   },
   {
    "duration": 5129,
    "start_time": "2023-02-05T16:21:39.508Z"
   },
   {
    "duration": 13,
    "start_time": "2023-02-05T16:21:44.639Z"
   },
   {
    "duration": 70,
    "start_time": "2023-02-05T16:21:44.654Z"
   },
   {
    "duration": 262,
    "start_time": "2023-02-05T16:21:44.725Z"
   },
   {
    "duration": 31,
    "start_time": "2023-02-05T16:21:44.989Z"
   },
   {
    "duration": 588,
    "start_time": "2023-02-05T16:21:45.021Z"
   },
   {
    "duration": 559,
    "start_time": "2023-02-05T16:21:45.610Z"
   },
   {
    "duration": 564,
    "start_time": "2023-02-05T16:21:46.171Z"
   },
   {
    "duration": 10,
    "start_time": "2023-02-05T16:21:46.736Z"
   },
   {
    "duration": 20,
    "start_time": "2023-02-05T16:21:46.748Z"
   },
   {
    "duration": 15,
    "start_time": "2023-02-05T16:21:46.769Z"
   },
   {
    "duration": 34,
    "start_time": "2023-02-05T16:21:46.786Z"
   },
   {
    "duration": 188,
    "start_time": "2023-02-05T16:21:46.822Z"
   },
   {
    "duration": 120,
    "start_time": "2023-02-05T16:21:47.012Z"
   },
   {
    "duration": 132,
    "start_time": "2023-02-05T16:21:47.205Z"
   },
   {
    "duration": 68,
    "start_time": "2023-02-05T16:21:47.340Z"
   },
   {
    "duration": 98,
    "start_time": "2023-02-05T16:21:47.412Z"
   },
   {
    "duration": 7,
    "start_time": "2023-02-05T16:21:47.519Z"
   },
   {
    "duration": 6,
    "start_time": "2023-02-05T16:21:47.527Z"
   },
   {
    "duration": 9,
    "start_time": "2023-02-05T16:21:47.535Z"
   },
   {
    "duration": 7,
    "start_time": "2023-02-05T16:21:47.545Z"
   },
   {
    "duration": 18,
    "start_time": "2023-02-05T16:21:47.554Z"
   },
   {
    "duration": 32,
    "start_time": "2023-02-05T16:21:47.574Z"
   },
   {
    "duration": 9,
    "start_time": "2023-02-05T16:21:47.608Z"
   },
   {
    "duration": 9,
    "start_time": "2023-02-05T16:21:47.619Z"
   },
   {
    "duration": 16,
    "start_time": "2023-02-05T16:21:47.629Z"
   },
   {
    "duration": 27,
    "start_time": "2023-02-05T16:21:47.647Z"
   },
   {
    "duration": 5,
    "start_time": "2023-02-05T16:21:47.676Z"
   },
   {
    "duration": 40,
    "start_time": "2023-02-05T16:21:47.683Z"
   },
   {
    "duration": 14,
    "start_time": "2023-02-05T16:21:47.725Z"
   },
   {
    "duration": 13,
    "start_time": "2023-02-05T16:21:47.741Z"
   },
   {
    "duration": 4,
    "start_time": "2023-02-05T16:21:47.756Z"
   },
   {
    "duration": 5,
    "start_time": "2023-02-05T16:21:47.762Z"
   },
   {
    "duration": 8,
    "start_time": "2023-02-05T16:21:47.768Z"
   },
   {
    "duration": 35,
    "start_time": "2023-02-05T16:21:47.777Z"
   },
   {
    "duration": 4,
    "start_time": "2023-02-05T16:21:47.813Z"
   },
   {
    "duration": 7,
    "start_time": "2023-02-05T16:21:47.820Z"
   },
   {
    "duration": 8,
    "start_time": "2023-02-05T16:21:47.829Z"
   },
   {
    "duration": 12,
    "start_time": "2023-02-05T16:21:47.839Z"
   },
   {
    "duration": 6,
    "start_time": "2023-02-05T16:21:47.853Z"
   },
   {
    "duration": 6,
    "start_time": "2023-02-05T16:21:47.861Z"
   },
   {
    "duration": 6,
    "start_time": "2023-02-05T16:21:47.868Z"
   },
   {
    "duration": 37,
    "start_time": "2023-02-05T16:21:47.875Z"
   },
   {
    "duration": 1644,
    "start_time": "2023-02-05T16:21:47.914Z"
   },
   {
    "duration": 0,
    "start_time": "2023-02-05T16:21:49.560Z"
   },
   {
    "duration": 0,
    "start_time": "2023-02-05T16:21:49.561Z"
   },
   {
    "duration": 0,
    "start_time": "2023-02-05T16:21:49.562Z"
   },
   {
    "duration": 0,
    "start_time": "2023-02-05T16:21:49.563Z"
   },
   {
    "duration": 0,
    "start_time": "2023-02-05T16:21:49.565Z"
   },
   {
    "duration": 1639,
    "start_time": "2023-02-05T16:24:22.422Z"
   },
   {
    "duration": 6,
    "start_time": "2023-02-05T16:24:33.667Z"
   },
   {
    "duration": 1887,
    "start_time": "2023-02-05T16:24:35.785Z"
   },
   {
    "duration": 1868,
    "start_time": "2023-02-05T16:25:02.466Z"
   },
   {
    "duration": 1888,
    "start_time": "2023-02-05T16:25:04.337Z"
   },
   {
    "duration": 141,
    "start_time": "2023-02-05T16:25:08.054Z"
   },
   {
    "duration": 156,
    "start_time": "2023-02-05T16:25:08.734Z"
   },
   {
    "duration": 153,
    "start_time": "2023-02-05T16:25:10.320Z"
   },
   {
    "duration": 46,
    "start_time": "2023-02-06T12:33:53.071Z"
   },
   {
    "duration": 6,
    "start_time": "2023-02-06T12:34:01.310Z"
   },
   {
    "duration": 8,
    "start_time": "2023-02-06T12:34:06.175Z"
   },
   {
    "duration": 4,
    "start_time": "2023-02-06T12:34:09.611Z"
   },
   {
    "duration": 4,
    "start_time": "2023-02-06T12:34:12.891Z"
   },
   {
    "duration": 6,
    "start_time": "2023-02-06T12:39:25.045Z"
   },
   {
    "duration": 1621,
    "start_time": "2023-02-06T12:39:48.054Z"
   },
   {
    "duration": 1565,
    "start_time": "2023-02-06T12:39:49.677Z"
   },
   {
    "duration": 4,
    "start_time": "2023-02-06T12:39:51.243Z"
   },
   {
    "duration": 32,
    "start_time": "2023-02-06T12:39:51.250Z"
   },
   {
    "duration": 18,
    "start_time": "2023-02-06T12:39:51.284Z"
   },
   {
    "duration": 37,
    "start_time": "2023-02-06T12:39:51.304Z"
   },
   {
    "duration": 582,
    "start_time": "2023-02-06T12:39:51.343Z"
   },
   {
    "duration": 4533,
    "start_time": "2023-02-06T12:39:51.927Z"
   },
   {
    "duration": 13,
    "start_time": "2023-02-06T12:39:56.463Z"
   },
   {
    "duration": 59,
    "start_time": "2023-02-06T12:39:56.478Z"
   },
   {
    "duration": 4,
    "start_time": "2023-02-06T12:39:56.538Z"
   },
   {
    "duration": 39,
    "start_time": "2023-02-06T12:39:56.543Z"
   },
   {
    "duration": 22,
    "start_time": "2023-02-06T12:39:56.584Z"
   },
   {
    "duration": 37,
    "start_time": "2023-02-06T12:39:56.607Z"
   },
   {
    "duration": 571,
    "start_time": "2023-02-06T12:39:56.646Z"
   },
   {
    "duration": 4413,
    "start_time": "2023-02-06T12:39:57.219Z"
   },
   {
    "duration": 9,
    "start_time": "2023-02-06T12:40:01.634Z"
   },
   {
    "duration": 87,
    "start_time": "2023-02-06T12:40:01.645Z"
   },
   {
    "duration": 9,
    "start_time": "2023-02-06T12:40:01.734Z"
   },
   {
    "duration": 25,
    "start_time": "2023-02-06T12:40:01.744Z"
   },
   {
    "duration": 35,
    "start_time": "2023-02-06T12:40:01.771Z"
   },
   {
    "duration": 68,
    "start_time": "2023-02-06T12:40:01.807Z"
   },
   {
    "duration": 559,
    "start_time": "2023-02-06T12:40:01.876Z"
   },
   {
    "duration": 4331,
    "start_time": "2023-02-06T12:40:02.437Z"
   },
   {
    "duration": 22,
    "start_time": "2023-02-06T12:40:06.770Z"
   },
   {
    "duration": 42,
    "start_time": "2023-02-06T12:40:06.793Z"
   },
   {
    "duration": 360,
    "start_time": "2023-02-06T12:40:06.837Z"
   },
   {
    "duration": 13,
    "start_time": "2023-02-06T12:40:07.201Z"
   },
   {
    "duration": 13,
    "start_time": "2023-02-06T12:40:07.216Z"
   },
   {
    "duration": 24,
    "start_time": "2023-02-06T12:40:07.231Z"
   },
   {
    "duration": 7,
    "start_time": "2023-02-06T12:40:07.256Z"
   },
   {
    "duration": 19,
    "start_time": "2023-02-06T12:40:07.265Z"
   },
   {
    "duration": 14,
    "start_time": "2023-02-06T12:40:07.286Z"
   },
   {
    "duration": 15,
    "start_time": "2023-02-06T12:40:07.302Z"
   },
   {
    "duration": 20,
    "start_time": "2023-02-06T12:40:07.319Z"
   },
   {
    "duration": 57,
    "start_time": "2023-02-06T12:40:07.341Z"
   },
   {
    "duration": 277,
    "start_time": "2023-02-06T12:40:07.401Z"
   },
   {
    "duration": 0,
    "start_time": "2023-02-06T12:40:07.680Z"
   },
   {
    "duration": 0,
    "start_time": "2023-02-06T12:40:07.681Z"
   },
   {
    "duration": 0,
    "start_time": "2023-02-06T12:40:07.682Z"
   },
   {
    "duration": 0,
    "start_time": "2023-02-06T12:40:07.683Z"
   },
   {
    "duration": 0,
    "start_time": "2023-02-06T12:40:07.685Z"
   },
   {
    "duration": 0,
    "start_time": "2023-02-06T12:40:07.685Z"
   },
   {
    "duration": 0,
    "start_time": "2023-02-06T12:40:07.691Z"
   },
   {
    "duration": 0,
    "start_time": "2023-02-06T12:40:07.692Z"
   },
   {
    "duration": 0,
    "start_time": "2023-02-06T12:40:07.694Z"
   },
   {
    "duration": 0,
    "start_time": "2023-02-06T12:40:07.695Z"
   },
   {
    "duration": 0,
    "start_time": "2023-02-06T12:40:07.697Z"
   },
   {
    "duration": 0,
    "start_time": "2023-02-06T12:40:07.698Z"
   },
   {
    "duration": 1,
    "start_time": "2023-02-06T12:40:07.698Z"
   },
   {
    "duration": 0,
    "start_time": "2023-02-06T12:40:07.699Z"
   },
   {
    "duration": 0,
    "start_time": "2023-02-06T12:40:07.700Z"
   },
   {
    "duration": 1,
    "start_time": "2023-02-06T12:40:07.701Z"
   },
   {
    "duration": 0,
    "start_time": "2023-02-06T12:40:07.703Z"
   },
   {
    "duration": 0,
    "start_time": "2023-02-06T12:40:07.704Z"
   },
   {
    "duration": 0,
    "start_time": "2023-02-06T12:40:07.705Z"
   },
   {
    "duration": 0,
    "start_time": "2023-02-06T12:40:07.706Z"
   },
   {
    "duration": 0,
    "start_time": "2023-02-06T12:40:07.707Z"
   },
   {
    "duration": 0,
    "start_time": "2023-02-06T12:40:07.708Z"
   },
   {
    "duration": 0,
    "start_time": "2023-02-06T12:40:07.709Z"
   },
   {
    "duration": 0,
    "start_time": "2023-02-06T12:40:07.710Z"
   },
   {
    "duration": 0,
    "start_time": "2023-02-06T12:40:07.711Z"
   },
   {
    "duration": 0,
    "start_time": "2023-02-06T12:40:07.712Z"
   },
   {
    "duration": 0,
    "start_time": "2023-02-06T12:40:07.713Z"
   },
   {
    "duration": 0,
    "start_time": "2023-02-06T12:40:07.715Z"
   },
   {
    "duration": 0,
    "start_time": "2023-02-06T12:40:07.716Z"
   },
   {
    "duration": 0,
    "start_time": "2023-02-06T12:40:07.717Z"
   },
   {
    "duration": 0,
    "start_time": "2023-02-06T12:40:07.718Z"
   },
   {
    "duration": 0,
    "start_time": "2023-02-06T12:40:07.719Z"
   },
   {
    "duration": 0,
    "start_time": "2023-02-06T12:40:07.720Z"
   },
   {
    "duration": 0,
    "start_time": "2023-02-06T12:40:07.721Z"
   },
   {
    "duration": 0,
    "start_time": "2023-02-06T12:40:07.723Z"
   },
   {
    "duration": 4,
    "start_time": "2023-02-06T12:41:13.315Z"
   },
   {
    "duration": 384,
    "start_time": "2023-02-06T12:41:13.323Z"
   },
   {
    "duration": 4,
    "start_time": "2023-02-06T12:41:13.708Z"
   },
   {
    "duration": 15,
    "start_time": "2023-02-06T12:41:13.713Z"
   },
   {
    "duration": 17,
    "start_time": "2023-02-06T12:41:13.730Z"
   },
   {
    "duration": 48,
    "start_time": "2023-02-06T12:41:13.748Z"
   },
   {
    "duration": 607,
    "start_time": "2023-02-06T12:41:13.798Z"
   },
   {
    "duration": 4409,
    "start_time": "2023-02-06T12:41:14.407Z"
   },
   {
    "duration": 13,
    "start_time": "2023-02-06T12:41:18.818Z"
   },
   {
    "duration": 67,
    "start_time": "2023-02-06T12:41:18.833Z"
   },
   {
    "duration": 3,
    "start_time": "2023-02-06T12:41:18.904Z"
   },
   {
    "duration": 12,
    "start_time": "2023-02-06T12:41:18.909Z"
   },
   {
    "duration": 14,
    "start_time": "2023-02-06T12:41:18.923Z"
   },
   {
    "duration": 56,
    "start_time": "2023-02-06T12:41:18.939Z"
   },
   {
    "duration": 643,
    "start_time": "2023-02-06T12:41:18.997Z"
   },
   {
    "duration": 4217,
    "start_time": "2023-02-06T12:41:19.642Z"
   },
   {
    "duration": 13,
    "start_time": "2023-02-06T12:41:23.861Z"
   },
   {
    "duration": 57,
    "start_time": "2023-02-06T12:41:23.876Z"
   },
   {
    "duration": 4,
    "start_time": "2023-02-06T12:41:23.935Z"
   },
   {
    "duration": 11,
    "start_time": "2023-02-06T12:41:23.940Z"
   },
   {
    "duration": 15,
    "start_time": "2023-02-06T12:41:23.953Z"
   },
   {
    "duration": 53,
    "start_time": "2023-02-06T12:41:23.969Z"
   },
   {
    "duration": 569,
    "start_time": "2023-02-06T12:41:24.024Z"
   },
   {
    "duration": 4567,
    "start_time": "2023-02-06T12:41:24.595Z"
   },
   {
    "duration": 11,
    "start_time": "2023-02-06T12:41:29.164Z"
   },
   {
    "duration": 52,
    "start_time": "2023-02-06T12:41:29.176Z"
   },
   {
    "duration": 231,
    "start_time": "2023-02-06T12:41:29.229Z"
   },
   {
    "duration": 12,
    "start_time": "2023-02-06T12:41:29.462Z"
   },
   {
    "duration": 19,
    "start_time": "2023-02-06T12:41:29.477Z"
   },
   {
    "duration": 10,
    "start_time": "2023-02-06T12:41:29.498Z"
   },
   {
    "duration": 16,
    "start_time": "2023-02-06T12:41:29.510Z"
   },
   {
    "duration": 12,
    "start_time": "2023-02-06T12:41:29.528Z"
   },
   {
    "duration": 12,
    "start_time": "2023-02-06T12:41:29.541Z"
   },
   {
    "duration": 11,
    "start_time": "2023-02-06T12:41:29.554Z"
   },
   {
    "duration": 34,
    "start_time": "2023-02-06T12:41:29.566Z"
   },
   {
    "duration": 21,
    "start_time": "2023-02-06T12:41:29.601Z"
   },
   {
    "duration": 111,
    "start_time": "2023-02-06T12:41:29.696Z"
   },
   {
    "duration": 187,
    "start_time": "2023-02-06T12:41:29.809Z"
   },
   {
    "duration": 93,
    "start_time": "2023-02-06T12:41:30.000Z"
   },
   {
    "duration": 22,
    "start_time": "2023-02-06T12:41:30.095Z"
   },
   {
    "duration": 40,
    "start_time": "2023-02-06T12:41:30.119Z"
   },
   {
    "duration": 11,
    "start_time": "2023-02-06T12:41:30.161Z"
   },
   {
    "duration": 21,
    "start_time": "2023-02-06T12:41:30.174Z"
   },
   {
    "duration": 9,
    "start_time": "2023-02-06T12:41:30.197Z"
   },
   {
    "duration": 22,
    "start_time": "2023-02-06T12:41:30.208Z"
   },
   {
    "duration": 16,
    "start_time": "2023-02-06T12:41:30.232Z"
   },
   {
    "duration": 12,
    "start_time": "2023-02-06T12:41:30.250Z"
   },
   {
    "duration": 19,
    "start_time": "2023-02-06T12:41:30.264Z"
   },
   {
    "duration": 27,
    "start_time": "2023-02-06T12:41:30.284Z"
   },
   {
    "duration": 35,
    "start_time": "2023-02-06T12:41:30.313Z"
   },
   {
    "duration": 20,
    "start_time": "2023-02-06T12:41:30.349Z"
   },
   {
    "duration": 27,
    "start_time": "2023-02-06T12:41:30.370Z"
   },
   {
    "duration": 36,
    "start_time": "2023-02-06T12:41:30.398Z"
   },
   {
    "duration": 41,
    "start_time": "2023-02-06T12:41:30.435Z"
   },
   {
    "duration": 16,
    "start_time": "2023-02-06T12:41:30.478Z"
   },
   {
    "duration": 20,
    "start_time": "2023-02-06T12:41:30.496Z"
   },
   {
    "duration": 22,
    "start_time": "2023-02-06T12:41:30.518Z"
   },
   {
    "duration": 11,
    "start_time": "2023-02-06T12:41:30.541Z"
   },
   {
    "duration": 48,
    "start_time": "2023-02-06T12:41:30.554Z"
   },
   {
    "duration": 24,
    "start_time": "2023-02-06T12:41:30.603Z"
   },
   {
    "duration": 23,
    "start_time": "2023-02-06T12:41:30.629Z"
   },
   {
    "duration": 22,
    "start_time": "2023-02-06T12:41:30.654Z"
   },
   {
    "duration": 34,
    "start_time": "2023-02-06T12:41:30.678Z"
   },
   {
    "duration": 61,
    "start_time": "2023-02-06T12:41:30.715Z"
   },
   {
    "duration": 24,
    "start_time": "2023-02-06T12:41:30.777Z"
   },
   {
    "duration": 38,
    "start_time": "2023-02-06T12:41:30.803Z"
   },
   {
    "duration": 1715,
    "start_time": "2023-02-06T12:41:30.843Z"
   },
   {
    "duration": 1673,
    "start_time": "2023-02-06T12:41:32.560Z"
   },
   {
    "duration": 1688,
    "start_time": "2023-02-06T12:41:34.235Z"
   },
   {
    "duration": 145,
    "start_time": "2023-02-06T12:41:35.925Z"
   },
   {
    "duration": 286,
    "start_time": "2023-02-06T12:41:36.072Z"
   },
   {
    "duration": 190,
    "start_time": "2023-02-06T12:41:36.360Z"
   },
   {
    "duration": 3,
    "start_time": "2023-02-06T13:00:46.787Z"
   },
   {
    "duration": 9,
    "start_time": "2023-02-06T13:00:48.614Z"
   },
   {
    "duration": 12,
    "start_time": "2023-02-06T13:01:02.840Z"
   },
   {
    "duration": 3,
    "start_time": "2023-02-06T13:01:32.018Z"
   },
   {
    "duration": 26,
    "start_time": "2023-02-06T13:01:32.880Z"
   },
   {
    "duration": 3,
    "start_time": "2023-02-06T13:03:56.133Z"
   },
   {
    "duration": 13,
    "start_time": "2023-02-06T13:03:58.601Z"
   },
   {
    "duration": 4,
    "start_time": "2023-02-06T13:07:10.808Z"
   },
   {
    "duration": 20,
    "start_time": "2023-02-06T13:07:11.881Z"
   },
   {
    "duration": 3,
    "start_time": "2023-02-06T13:08:00.376Z"
   },
   {
    "duration": 8,
    "start_time": "2023-02-06T13:08:02.172Z"
   },
   {
    "duration": 4,
    "start_time": "2023-02-06T13:09:20.260Z"
   },
   {
    "duration": 16,
    "start_time": "2023-02-06T13:09:21.061Z"
   },
   {
    "duration": 3,
    "start_time": "2023-02-06T13:09:27.462Z"
   },
   {
    "duration": 9,
    "start_time": "2023-02-06T13:09:28.330Z"
   },
   {
    "duration": 7,
    "start_time": "2023-02-06T13:09:44.401Z"
   },
   {
    "duration": 4,
    "start_time": "2023-02-06T13:10:13.750Z"
   },
   {
    "duration": 8,
    "start_time": "2023-02-06T13:10:32.055Z"
   },
   {
    "duration": 9,
    "start_time": "2023-02-06T13:10:34.760Z"
   },
   {
    "duration": 12,
    "start_time": "2023-02-06T13:10:42.964Z"
   },
   {
    "duration": 8,
    "start_time": "2023-02-06T13:11:01.079Z"
   },
   {
    "duration": 9,
    "start_time": "2023-02-06T13:11:12.379Z"
   },
   {
    "duration": 4,
    "start_time": "2023-02-06T13:12:19.142Z"
   },
   {
    "duration": 376,
    "start_time": "2023-02-06T13:12:19.148Z"
   },
   {
    "duration": 4,
    "start_time": "2023-02-06T13:12:19.525Z"
   },
   {
    "duration": 13,
    "start_time": "2023-02-06T13:12:19.531Z"
   },
   {
    "duration": 16,
    "start_time": "2023-02-06T13:12:19.547Z"
   },
   {
    "duration": 56,
    "start_time": "2023-02-06T13:12:19.564Z"
   },
   {
    "duration": 593,
    "start_time": "2023-02-06T13:12:19.623Z"
   },
   {
    "duration": 4181,
    "start_time": "2023-02-06T13:12:20.217Z"
   },
   {
    "duration": 16,
    "start_time": "2023-02-06T13:12:24.400Z"
   },
   {
    "duration": 74,
    "start_time": "2023-02-06T13:12:24.418Z"
   },
   {
    "duration": 4,
    "start_time": "2023-02-06T13:12:24.495Z"
   },
   {
    "duration": 21,
    "start_time": "2023-02-06T13:12:24.500Z"
   },
   {
    "duration": 16,
    "start_time": "2023-02-06T13:12:24.523Z"
   },
   {
    "duration": 128,
    "start_time": "2023-02-06T13:12:24.542Z"
   },
   {
    "duration": 549,
    "start_time": "2023-02-06T13:12:24.672Z"
   },
   {
    "duration": 4269,
    "start_time": "2023-02-06T13:12:25.222Z"
   },
   {
    "duration": 9,
    "start_time": "2023-02-06T13:12:29.493Z"
   },
   {
    "duration": 41,
    "start_time": "2023-02-06T13:12:29.504Z"
   },
   {
    "duration": 4,
    "start_time": "2023-02-06T13:12:29.547Z"
   },
   {
    "duration": 13,
    "start_time": "2023-02-06T13:12:29.552Z"
   },
   {
    "duration": 31,
    "start_time": "2023-02-06T13:12:29.567Z"
   },
   {
    "duration": 33,
    "start_time": "2023-02-06T13:12:29.600Z"
   },
   {
    "duration": 638,
    "start_time": "2023-02-06T13:12:29.634Z"
   },
   {
    "duration": 4232,
    "start_time": "2023-02-06T13:12:30.274Z"
   },
   {
    "duration": 10,
    "start_time": "2023-02-06T13:12:34.507Z"
   },
   {
    "duration": 43,
    "start_time": "2023-02-06T13:12:34.518Z"
   },
   {
    "duration": 244,
    "start_time": "2023-02-06T13:12:34.562Z"
   },
   {
    "duration": 12,
    "start_time": "2023-02-06T13:12:34.808Z"
   },
   {
    "duration": 9,
    "start_time": "2023-02-06T13:12:34.822Z"
   },
   {
    "duration": 15,
    "start_time": "2023-02-06T13:12:34.833Z"
   },
   {
    "duration": 19,
    "start_time": "2023-02-06T13:12:34.850Z"
   },
   {
    "duration": 21,
    "start_time": "2023-02-06T13:12:34.870Z"
   },
   {
    "duration": 19,
    "start_time": "2023-02-06T13:12:34.893Z"
   },
   {
    "duration": 18,
    "start_time": "2023-02-06T13:12:34.914Z"
   },
   {
    "duration": 15,
    "start_time": "2023-02-06T13:12:34.935Z"
   },
   {
    "duration": 45,
    "start_time": "2023-02-06T13:12:34.952Z"
   },
   {
    "duration": 106,
    "start_time": "2023-02-06T13:12:34.999Z"
   },
   {
    "duration": 106,
    "start_time": "2023-02-06T13:12:35.192Z"
   },
   {
    "duration": 192,
    "start_time": "2023-02-06T13:12:35.300Z"
   },
   {
    "duration": 7,
    "start_time": "2023-02-06T13:12:35.494Z"
   },
   {
    "duration": 5,
    "start_time": "2023-02-06T13:12:35.507Z"
   },
   {
    "duration": 19,
    "start_time": "2023-02-06T13:12:35.513Z"
   },
   {
    "duration": 13,
    "start_time": "2023-02-06T13:12:35.533Z"
   },
   {
    "duration": 6,
    "start_time": "2023-02-06T13:12:35.548Z"
   },
   {
    "duration": 22,
    "start_time": "2023-02-06T13:12:35.556Z"
   },
   {
    "duration": 20,
    "start_time": "2023-02-06T13:12:35.579Z"
   },
   {
    "duration": 13,
    "start_time": "2023-02-06T13:12:35.600Z"
   },
   {
    "duration": 6,
    "start_time": "2023-02-06T13:12:35.615Z"
   },
   {
    "duration": 17,
    "start_time": "2023-02-06T13:12:35.623Z"
   },
   {
    "duration": 11,
    "start_time": "2023-02-06T13:12:35.641Z"
   },
   {
    "duration": 4,
    "start_time": "2023-02-06T13:12:35.653Z"
   },
   {
    "duration": 35,
    "start_time": "2023-02-06T13:12:35.658Z"
   },
   {
    "duration": 17,
    "start_time": "2023-02-06T13:12:35.694Z"
   },
   {
    "duration": 15,
    "start_time": "2023-02-06T13:12:35.713Z"
   },
   {
    "duration": 4,
    "start_time": "2023-02-06T13:12:35.729Z"
   },
   {
    "duration": 7,
    "start_time": "2023-02-06T13:12:35.735Z"
   },
   {
    "duration": 9,
    "start_time": "2023-02-06T13:12:35.743Z"
   },
   {
    "duration": 37,
    "start_time": "2023-02-06T13:12:35.754Z"
   },
   {
    "duration": 3,
    "start_time": "2023-02-06T13:12:35.793Z"
   },
   {
    "duration": 7,
    "start_time": "2023-02-06T13:12:35.797Z"
   },
   {
    "duration": 8,
    "start_time": "2023-02-06T13:12:35.806Z"
   },
   {
    "duration": 13,
    "start_time": "2023-02-06T13:12:35.816Z"
   },
   {
    "duration": 22,
    "start_time": "2023-02-06T13:12:35.831Z"
   },
   {
    "duration": 8,
    "start_time": "2023-02-06T13:12:35.854Z"
   },
   {
    "duration": 26,
    "start_time": "2023-02-06T13:12:35.863Z"
   },
   {
    "duration": 4,
    "start_time": "2023-02-06T13:12:35.890Z"
   },
   {
    "duration": 8,
    "start_time": "2023-02-06T13:12:35.896Z"
   },
   {
    "duration": 1695,
    "start_time": "2023-02-06T13:12:35.906Z"
   },
   {
    "duration": 1606,
    "start_time": "2023-02-06T13:12:37.603Z"
   },
   {
    "duration": 1622,
    "start_time": "2023-02-06T13:12:39.211Z"
   },
   {
    "duration": 248,
    "start_time": "2023-02-06T13:12:40.834Z"
   },
   {
    "duration": 143,
    "start_time": "2023-02-06T13:12:41.084Z"
   },
   {
    "duration": 152,
    "start_time": "2023-02-06T13:12:41.229Z"
   }
  ],
  "kernelspec": {
   "display_name": "Python 3 (ipykernel)",
   "language": "python",
   "name": "python3"
  },
  "language_info": {
   "codemirror_mode": {
    "name": "ipython",
    "version": 3
   },
   "file_extension": ".py",
   "mimetype": "text/x-python",
   "name": "python",
   "nbconvert_exporter": "python",
   "pygments_lexer": "ipython3",
   "version": "3.11.7"
  },
  "toc": {
   "base_numbering": 1,
   "nav_menu": {},
   "number_sections": true,
   "sideBar": true,
   "skip_h1_title": true,
   "title_cell": "Table of Contents",
   "title_sidebar": "Contents",
   "toc_cell": false,
   "toc_position": {},
   "toc_section_display": true,
   "toc_window_display": false
  }
 },
 "nbformat": 4,
 "nbformat_minor": 4
}
